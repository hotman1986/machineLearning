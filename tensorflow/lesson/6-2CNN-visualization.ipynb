{
 "cells": [
  {
   "cell_type": "code",
   "execution_count": 7,
   "metadata": {},
   "outputs": [],
   "source": [
    "import tensorflow as tf\n",
    "from tensorflow.examples.tutorials.mnist import input_data"
   ]
  },
  {
   "cell_type": "code",
   "execution_count": 8,
   "metadata": {},
   "outputs": [
    {
     "name": "stdout",
     "output_type": "stream",
     "text": [
      "Extracting MNIST_data/train-images-idx3-ubyte.gz\n",
      "Extracting MNIST_data/train-labels-idx1-ubyte.gz\n",
      "Extracting MNIST_data/t10k-images-idx3-ubyte.gz\n",
      "Extracting MNIST_data/t10k-labels-idx1-ubyte.gz\n"
     ]
    }
   ],
   "source": [
    "mnist = input_data.read_data_sets('MNIST_data',one_hot=True)"
   ]
  },
  {
   "cell_type": "code",
   "execution_count": 9,
   "metadata": {},
   "outputs": [],
   "source": [
    "batch_size = 100\n",
    "n_batch = mnist.train.num_examples // batch_size"
   ]
  },
  {
   "cell_type": "code",
   "execution_count": null,
   "metadata": {},
   "outputs": [],
   "source": []
  },
  {
   "cell_type": "code",
   "execution_count": 10,
   "metadata": {},
   "outputs": [],
   "source": [
    "##初始化权值\n",
    "def weight_variable(shape):\n",
    "    initial= tf.truncated_normal(shape,stddev=0.1) #生成一个阶段的正太分布\n",
    "    return tf.Variable(initial)\n",
    "## 初始化偏置\n",
    "def bias_variable(shape):\n",
    "    initial = tf.constant(0.1,shape=shape)\n",
    "    return tf.Variable(initial)\n",
    "## 卷积层\n",
    "def conv2d(x,W):\n",
    "    return tf.nn.conv2d(x,W,strides=[1,1,1,1],padding='SAME')\n",
    "## 池化层\n",
    "def max_pool_2x2(x):\n",
    "    return tf.nn.max_pool(x,ksize=[1,2,2,1],strides=[1,2,2,1],padding='SAME')\n",
    "\n",
    "\n",
    "\n",
    "\n",
    "    "
   ]
  },
  {
   "cell_type": "code",
   "execution_count": 11,
   "metadata": {},
   "outputs": [],
   "source": [
    "def variable_summaries(var):\n",
    "    with tf.name_scope('summeries'):\n",
    "        mean = tf.reduce_mean(var)\n",
    "        tf.summary.scalar('mean',mean)#平均值\n",
    "        with tf.name_scope('stddev'):\n",
    "            stddev = tf.sqrt(tf.reduce_mean(tf.square(var-mean)))\n",
    "        tf.summary.scalar('stddev',stddev)#标准差\n",
    "        tf.summary.scalar('max',tf.reduce_max(var))#最大值\n",
    "        tf.summary.scalar('min',tf.reduce_min(var))#最小值\n",
    "        tf.summary.histogram('histogram',var)#直方图"
   ]
  },
  {
   "cell_type": "code",
   "execution_count": 12,
   "metadata": {},
   "outputs": [],
   "source": [
    "#input \n",
    "with tf.name_scope('input'):\n",
    "    x=tf.placeholder(tf.float32,[None,784])\n",
    "    y = tf.placeholder(tf.float32,[None,10])"
   ]
  },
  {
   "cell_type": "code",
   "execution_count": null,
   "metadata": {},
   "outputs": [],
   "source": []
  },
  {
   "cell_type": "code",
   "execution_count": 13,
   "metadata": {},
   "outputs": [],
   "source": [
    "##改变x的格式转变为4D的向量 [batch,in_height,in_weight,in_channel]\n",
    "with tf.name_scope('input_reshape'):   \n",
    "    x_image = tf.reshape(x,[-1,28,28,1])\n",
    "    tf.summary.image('input',x_image,10)\n",
    "    \n",
    "\n"
   ]
  },
  {
   "cell_type": "code",
   "execution_count": null,
   "metadata": {},
   "outputs": [],
   "source": []
  },
  {
   "cell_type": "code",
   "execution_count": 16,
   "metadata": {},
   "outputs": [],
   "source": [
    "with tf.name_scope('layer'):\n",
    "    \n",
    "    ##初始化第一个卷积层的权重和偏置\n",
    "    with tf.name_scope('Weight_1'):\n",
    "        W_conv1 = weight_variable([5,5,1,32]) ## 5x5的采样窗口,32个卷积核从1个平面抽取特征\n",
    "        variable_summaries(W_conv1)\n",
    "        \n",
    "    with tf.name_scope('bias_1'):\n",
    "        b_conv1 = bias_variable([32]) ##每一个卷积核一个偏执量\n",
    "        variable_summaries(b_conv1)\n",
    "\n",
    "##把x_image 和权值向量进行卷积,再加上偏置量,然后应用于relu 激活函数\n",
    "    with tf.name_scope('h_conv1'):\n",
    "        h_conv1 = tf.nn.relu(conv2d(x_image,W_conv1)+b_conv1)\n",
    "    with tf.name_scope('pooling_1'):\n",
    "        h_pool1 = max_pool_2x2(h_conv1) ##进行max_pooling\n",
    "#2layer\n",
    "## 初始化第二个卷积层的权重和偏置\n",
    "    with tf.name_scope('weight_2'):\n",
    "        W_conv2 = weight_variable([5,5,32,64]) ## 5x5的采样窗口,64个卷积核从32个平面抽取特征\n",
    "        variable_summaries(W_conv2)\n",
    "    with tf.name_scope('bias_2'):\n",
    "        b_conv2 = bias_variable([64]) ##每一个卷积核一个偏执量\n",
    "        variable_summaries(b_conv2)\n",
    "    with tf.name_scope('h_conv2'):\n",
    "        ##把h_pool1 和权值向量进行卷积,再加上偏置量,然后应用于relu 激活函数\n",
    "        h_conv2 = tf.nn.relu(conv2d(h_pool1,W_conv2)+b_conv2)\n",
    "    with tf.name_scope('pooling_2'):\n",
    "        h_pool2 = max_pool_2x2(h_conv2) ##进行max_pooling\n",
    "#fully connected\n",
    "## 28x28 的图片第一次 卷积 后还是28x28,第一次池化后变成 14x14\n",
    "## 第二次 卷积后 为 14x14,第二次池化后 成了7x7\n",
    "# 通过上面操作后得到 64张7x7的平面\n",
    "\n",
    "## 初始化第一个全连接层的权值      \n",
    "    with tf.name_scope('weight_3'):\n",
    "        W_fc1 = weight_variable([7*7*64,1024]) # 上一层有了7*7*64个神经元,全连接层有了1024个神经元\n",
    "        variable_summaries(W_fc1)\n",
    "    with tf.name_scope('bias_3'):\n",
    "        b_fc1 = bias_variable([1024]) ## 1024个节点\n",
    "        variable_summaries(b_fc1)\n",
    "    with tf.name_scope('h_pool2_flat'):\n",
    "        ## 把吃话曾2的输出扁平化为1维\n",
    "        h_pool2_flat = tf.reshape(h_pool2,[-1,7*7*64])\n",
    "    with tf.name_scope('relu'):\n",
    "        ## 求第一个全连接层的输出\n",
    "        h_fc1 = tf.nn.relu(tf.matmul(h_pool2_flat,W_fc1)+b_fc1)\n",
    "    with tf.name_scope('dropout_1'):\n",
    "        ## keep_prob 用来表示 神经元 的输出概率\n",
    "        keep_prob = tf.placeholder(tf.float32)\n",
    "        h_fc1_drop = tf.nn.dropout(h_fc1,keep_prob)\n",
    "    with tf.name_scope('weight_4'):\n",
    "        ## 初始化第二个全连接层\n",
    "        W_fc2 = weight_variable([1024,10])\n",
    "        variable_summaries(W_fc2)\n",
    "    with tf.name_scope('bias_4'):\n",
    "        b_fc2 = bias_variable([10])\n",
    "        variable_summaries(b_fc2)\n",
    "    with tf.name_scope('softmax'):\n",
    "        ## 计算输出\n",
    "        prediction = tf.nn.softmax(tf.matmul(h_fc1_drop,W_fc2)+b_fc2)\n",
    "        \n",
    "\n",
    "    "
   ]
  },
  {
   "cell_type": "code",
   "execution_count": null,
   "metadata": {},
   "outputs": [],
   "source": [
    "\n"
   ]
  },
  {
   "cell_type": "code",
   "execution_count": null,
   "metadata": {},
   "outputs": [],
   "source": []
  },
  {
   "cell_type": "code",
   "execution_count": 17,
   "metadata": {},
   "outputs": [
    {
     "name": "stdout",
     "output_type": "stream",
     "text": [
      "WARNING:tensorflow:From <ipython-input-17-2e0afa095ff8>:3: softmax_cross_entropy_with_logits (from tensorflow.python.ops.nn_ops) is deprecated and will be removed in a future version.\n",
      "Instructions for updating:\n",
      "\n",
      "Future major versions of TensorFlow will allow gradients to flow\n",
      "into the labels input on backprop by default.\n",
      "\n",
      "See tf.nn.softmax_cross_entropy_with_logits_v2.\n",
      "\n"
     ]
    }
   ],
   "source": [
    "## 交叉熵代价函数\n",
    "with tf.name_scope('loss'):\n",
    "    cross_entropy = tf.reduce_mean(tf.nn.softmax_cross_entropy_with_logits(labels=y,logits=prediction))\n",
    "    tf.summary.scalar('loss',cross_entropy)\n",
    "## 使用 AdamOptimizer进行优化\n",
    "#####不同的optimizer造成的结果一般千差万别\n",
    "with tf.name_scope('train'):\n",
    "    train_step = tf.train.AdamOptimizer(1e-4).minimize(cross_entropy)\n",
    "## 结果存放在一个布尔列表中\n",
    "with tf.name_scope('accuracy'):\n",
    "    with tf.name_scope('correct-prediction'):\n",
    "        correct_prediction = tf.equal(tf.argmax(prediction,1),tf.argmax(y,1)) ## argmax返回一维张量中最大的值所在的位置\n",
    "## 求准确率\n",
    "    with tf.name_scope('accuracy'):\n",
    "        accuracy= tf.reduce_mean(tf.cast(correct_prediction,tf.float32))\n",
    "        tf.summary.scalar('accuracy',accuracy)\n",
    "\n"
   ]
  },
  {
   "cell_type": "code",
   "execution_count": 18,
   "metadata": {},
   "outputs": [],
   "source": [
    "merged = tf.summary.merge_all()"
   ]
  },
  {
   "cell_type": "code",
   "execution_count": 21,
   "metadata": {},
   "outputs": [
    {
     "name": "stdout",
     "output_type": "stream",
     "text": [
      "Iter0 ,Testing Accuracy0.9524training acc=0.95\n",
      "Iter1 ,Testing Accuracy0.9706training acc=0.97\n",
      "Iter2 ,Testing Accuracy0.9768training acc=0.98\n",
      "Iter3 ,Testing Accuracy0.9817training acc=0.94\n",
      "Iter4 ,Testing Accuracy0.9848training acc=0.97\n",
      "Iter5 ,Testing Accuracy0.9857training acc=0.99\n",
      "Iter6 ,Testing Accuracy0.9871training acc=1.0\n",
      "Iter7 ,Testing Accuracy0.9869training acc=1.0\n",
      "Iter8 ,Testing Accuracy0.9883training acc=1.0\n",
      "Iter9 ,Testing Accuracy0.9895training acc=0.98\n",
      "Iter10 ,Testing Accuracy0.9901training acc=1.0\n",
      "Iter11 ,Testing Accuracy0.9908training acc=1.0\n",
      "Iter12 ,Testing Accuracy0.9899training acc=0.99\n",
      "Iter13 ,Testing Accuracy0.9892training acc=1.0\n",
      "Iter14 ,Testing Accuracy0.9889training acc=0.99\n",
      "Iter15 ,Testing Accuracy0.9907training acc=0.99\n",
      "Iter16 ,Testing Accuracy0.9905training acc=0.99\n",
      "Iter17 ,Testing Accuracy0.9909training acc=1.0\n",
      "Iter18 ,Testing Accuracy0.9916training acc=1.0\n",
      "Iter19 ,Testing Accuracy0.991training acc=1.0\n",
      "Iter20 ,Testing Accuracy0.991training acc=1.0\n"
     ]
    }
   ],
   "source": [
    "with tf.Session() as sess:\n",
    "    sess.run(tf.global_variables_initializer())\n",
    "    writer = tf.summary.FileWriter('logs/mnistCNN',sess.graph)\n",
    "    for epoch in range(21):\n",
    "        for batch in range(n_batch):\n",
    "            batch_xs,batch_ys =mnist.train.next_batch(batch_size)\n",
    "            summary,_ =sess.run([merged,train_step],feed_dict={x:batch_xs,y:batch_ys,keep_prob:0.7})\n",
    "        writer.add_summary(summary,epoch)\n",
    "        train_acc = sess.run(accuracy,feed_dict={x:batch_xs,y:batch_ys,keep_prob:1.0})\n",
    "        acc = sess.run(accuracy,feed_dict={x:mnist.test.images,y:mnist.test.labels,keep_prob:1.0})\n",
    "        print (\"Iter\" + str(epoch)+\" ,Testing Accuracy\" +str(acc)+'training acc='+str(train_acc))"
   ]
  },
  {
   "cell_type": "code",
   "execution_count": null,
   "metadata": {},
   "outputs": [],
   "source": []
  },
  {
   "cell_type": "code",
   "execution_count": null,
   "metadata": {},
   "outputs": [],
   "source": []
  }
 ],
 "metadata": {
  "kernelspec": {
   "display_name": "Python 3",
   "language": "python",
   "name": "python3"
  },
  "language_info": {
   "codemirror_mode": {
    "name": "ipython",
    "version": 3
   },
   "file_extension": ".py",
   "mimetype": "text/x-python",
   "name": "python",
   "nbconvert_exporter": "python",
   "pygments_lexer": "ipython3",
   "version": "3.5.2"
  }
 },
 "nbformat": 4,
 "nbformat_minor": 2
}
