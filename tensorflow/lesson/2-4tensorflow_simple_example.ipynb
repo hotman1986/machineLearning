{
 "cells": [
  {
   "cell_type": "code",
   "execution_count": 1,
   "metadata": {},
   "outputs": [
    {
     "name": "stderr",
     "output_type": "stream",
     "text": [
      "/usr/local/lib/python3.5/dist-packages/h5py/__init__.py:36: FutureWarning: Conversion of the second argument of issubdtype from `float` to `np.floating` is deprecated. In future, it will be treated as `np.float64 == np.dtype(float).type`.\n",
      "  from ._conv import register_converters as _register_converters\n"
     ]
    }
   ],
   "source": [
    "import tensorflow as tf\n",
    "import numpy as np"
   ]
  },
  {
   "cell_type": "code",
   "execution_count": 2,
   "metadata": {},
   "outputs": [],
   "source": [
    "#使用numpy生成100个随机点\n",
    "x_data = np.random.rand(100)\n",
    "y_data = x_data*0.1 + 0.2\n",
    "#构造一个现行模型\n",
    "b = tf.Variable(0.)\n",
    "k = tf.Variable(0.)\n",
    "\n",
    "y = k*x_data + b\n",
    "\n",
    "#定义一个二次代价(损失)函数\n",
    "loss = tf.reduce_mean(tf.square(y_data-y))\n",
    "#定义一个梯度下降法来进行训练的优化器和学习率为0.2\n",
    "optimizer = tf.train.GradientDescentOptimizer(0.2)\n",
    "#最小化代价函数\n",
    "train = optimizer.minimize(loss)\n",
    "\n"
   ]
  },
  {
   "cell_type": "code",
   "execution_count": 6,
   "metadata": {},
   "outputs": [
    {
     "name": "stdout",
     "output_type": "stream",
     "text": [
      "0 [0.054665416, 0.10050353]\n",
      "5 [0.10467895, 0.19400504]\n",
      "10 [0.10536855, 0.19697262]\n",
      "15 [0.104774214, 0.19738981]\n",
      "20 [0.10421616, 0.19769716]\n",
      "25 [0.10372253, 0.19796684]\n",
      "30 [0.10328666, 0.1982049]\n",
      "35 [0.10290183, 0.19841509]\n",
      "40 [0.10256207, 0.19860065]\n",
      "45 [0.10226209, 0.1987645]\n",
      "50 [0.10199723, 0.19890916]\n",
      "55 [0.10176338, 0.19903688]\n",
      "60 [0.101556905, 0.19914965]\n",
      "65 [0.10137461, 0.19924922]\n",
      "70 [0.101213664, 0.19933712]\n",
      "75 [0.10107156, 0.19941474]\n",
      "80 [0.10094609, 0.19948328]\n",
      "85 [0.100835316, 0.19954377]\n",
      "90 [0.10073751, 0.1995972]\n",
      "95 [0.10065115, 0.19964436]\n",
      "100 [0.10057491, 0.19968599]\n",
      "105 [0.100507595, 0.19972277]\n",
      "110 [0.10044816, 0.19975522]\n",
      "115 [0.10039569, 0.19978389]\n",
      "120 [0.10034935, 0.1998092]\n",
      "125 [0.10030845, 0.19983153]\n",
      "130 [0.100272335, 0.19985126]\n",
      "135 [0.10024045, 0.19986868]\n",
      "140 [0.1002123, 0.19988404]\n",
      "145 [0.100187436, 0.19989763]\n",
      "150 [0.10016549, 0.19990963]\n",
      "155 [0.1001461, 0.1999202]\n",
      "160 [0.100129, 0.19992954]\n",
      "165 [0.1001139, 0.19993779]\n",
      "170 [0.10010056, 0.19994508]\n",
      "175 [0.10008879, 0.1999515]\n",
      "180 [0.1000784, 0.19995718]\n",
      "185 [0.100069225, 0.1999622]\n",
      "190 [0.10006112, 0.19996662]\n",
      "195 [0.10005396, 0.19997053]\n",
      "200 [0.10004765, 0.19997397]\n"
     ]
    }
   ],
   "source": [
    "#因为使用了变量，所以需要进行初始化\n",
    "init = tf.global_variables_initializer()\n",
    "\n",
    "with tf.Session() as sess:\n",
    "    sess.run(init)\n",
    "    for step in range(201):\n",
    "        sess.run(train)\n",
    "        if step%5 == 0:\n",
    "            print(step,sess.run([k,b]))"
   ]
  },
  {
   "cell_type": "code",
   "execution_count": null,
   "metadata": {},
   "outputs": [],
   "source": []
  }
 ],
 "metadata": {
  "kernelspec": {
   "display_name": "Python 3",
   "language": "python",
   "name": "python3"
  },
  "language_info": {
   "codemirror_mode": {
    "name": "ipython",
    "version": 3
   },
   "file_extension": ".py",
   "mimetype": "text/x-python",
   "name": "python",
   "nbconvert_exporter": "python",
   "pygments_lexer": "ipython3",
   "version": "3.5.2"
  }
 },
 "nbformat": 4,
 "nbformat_minor": 2
}
