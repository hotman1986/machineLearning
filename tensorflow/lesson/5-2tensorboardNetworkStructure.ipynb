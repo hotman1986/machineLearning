{
 "cells": [
  {
   "cell_type": "code",
   "execution_count": 1,
   "metadata": {},
   "outputs": [
    {
     "name": "stderr",
     "output_type": "stream",
     "text": [
      "/usr/local/lib/python3.5/dist-packages/h5py/__init__.py:36: FutureWarning: Conversion of the second argument of issubdtype from `float` to `np.floating` is deprecated. In future, it will be treated as `np.float64 == np.dtype(float).type`.\n",
      "  from ._conv import register_converters as _register_converters\n"
     ]
    }
   ],
   "source": [
    "import tensorflow as tf\n",
    "from tensorflow.examples.tutorials.mnist import input_data"
   ]
  },
  {
   "cell_type": "code",
   "execution_count": 2,
   "metadata": {},
   "outputs": [
    {
     "name": "stdout",
     "output_type": "stream",
     "text": [
      "Extracting MNIST_data/train-images-idx3-ubyte.gz\n",
      "Extracting MNIST_data/train-labels-idx1-ubyte.gz\n",
      "Extracting MNIST_data/t10k-images-idx3-ubyte.gz\n",
      "Extracting MNIST_data/t10k-labels-idx1-ubyte.gz\n"
     ]
    }
   ],
   "source": [
    "#载入数据集\n",
    "mnist = input_data.read_data_sets('MNIST_data',one_hot = True)#当前路径，‘’可以选择存放路径"
   ]
  },
  {
   "cell_type": "code",
   "execution_count": null,
   "metadata": {},
   "outputs": [],
   "source": []
  },
  {
   "cell_type": "code",
   "execution_count": 3,
   "metadata": {},
   "outputs": [],
   "source": [
    "#每个批次大小\n",
    "batch_size = 100\n",
    "#计算一共有多少个批次\n",
    "#数据集的数量整除批次大小=多少个批次\n",
    "n_batch = mnist.train.num_examples // batch_size\n",
    "#命名空间\n",
    "with tf.name_scope('input'):\n",
    "    #定义两个placeholder\n",
    "    x = tf.placeholder(tf.float32,[None,784],name='x-input')#把批次传进去，开始是100，最后一批不一定是多少，我们把平面28*28做成向量传入\n",
    "    y = tf.placeholder(tf.float32,[None,10],name='y-input')#十个标签\n",
    "with tf.name_scope('layer'):\n",
    "    \n",
    "    #创建一个简单的神经网络\n",
    "    #只用到两个层，784个神经元，输出层为10个神经元\n",
    "    with tf.name_scope('Weights'):\n",
    "        W = tf.Variable(tf.zeros([784,10]),name='W')\n",
    "    with tf.name_scope('bias'):\n",
    "        b = tf.Variable(tf.zeros([10]),name='b')\n",
    "    with tf.name_scope('wx_plus_b'):\n",
    "        wx_plus_b = tf.matmul(x,W) + b\n",
    "    with tf.name_scope('softmax'):\n",
    "        prediction = tf.nn.softmax(wx_plus_b)\n",
    "with tf.name_scope('loss'):\n",
    "    #定义代价函数\n",
    "    loss = tf.reduce_mean(tf.square(y-prediction))\n",
    "with tf.name_scope('train'):\n",
    "    #使用梯度下降法\n",
    "    train_step = tf.train.GradientDescentOptimizer(0.1).minimize(loss)\n",
    "\n",
    "#初始化变量\n",
    "init = tf.global_variables_initializer()\n",
    "with tf.name_scope('accuracy'):\n",
    "    with tf.name_scope('correct prediction'):\n",
    "        #定义一个求准确率的方法\n",
    "        #如果两个相同就会返回True,不相同就返回False，然后存入correct_prediction\n",
    "        correct_prediction = tf.equal(tf.argmax(y,1),tf.argmax(prediction,1))#argmax返回一维张量中最大值所在的位置\n",
    "    with tf.name_scope('accuracy'):\n",
    "        #求准确率\n",
    "        #首先把bool值转化为32为浮点值，然后求平均值\n",
    "        accuracy = tf.reduce_mean(tf.cast(correct_prediction,tf.float32))"
   ]
  },
  {
   "cell_type": "code",
   "execution_count": 4,
   "metadata": {},
   "outputs": [
    {
     "name": "stdout",
     "output_type": "stream",
     "text": [
      "Iter0,Testing accuracy0.7429\n",
      "Iter1,Testing accuracy0.8309\n",
      "Iter2,Testing accuracy0.8597\n",
      "Iter3,Testing accuracy0.8701\n",
      "Iter4,Testing accuracy0.8775\n",
      "Iter5,Testing accuracy0.8818\n",
      "Iter6,Testing accuracy0.8846\n",
      "Iter7,Testing accuracy0.888\n",
      "Iter8,Testing accuracy0.891\n",
      "Iter9,Testing accuracy0.8939\n",
      "Iter10,Testing accuracy0.8961\n",
      "Iter11,Testing accuracy0.8968\n",
      "Iter12,Testing accuracy0.8984\n",
      "Iter13,Testing accuracy0.899\n",
      "Iter14,Testing accuracy0.9007\n",
      "Iter15,Testing accuracy0.9018\n",
      "Iter16,Testing accuracy0.9029\n",
      "Iter17,Testing accuracy0.9037\n",
      "Iter18,Testing accuracy0.9038\n",
      "Iter19,Testing accuracy0.9053\n",
      "Iter20,Testing accuracy0.9063\n"
     ]
    }
   ],
   "source": [
    "with tf.Session() as sess:\n",
    "    sess.run(init)\n",
    "    write = tf.summary.FileWriter('logs/mnistSimple',sess.graph)\n",
    "    for epoch in range(21):#把所有的图片训练21次\n",
    "        for batch in range (n_batch):#一批一批的迭代，一共运行n_batch次\n",
    "            batch_xs,batch_ys = mnist.train.next_batch(batch_size)#每次获得100张图片\n",
    "            sess.run(train_step,feed_dict={x:batch_xs,y:batch_ys})\n",
    "        \n",
    "        acc = sess.run(accuracy,feed_dict={x:mnist.test.images,y:mnist.test.labels})\n",
    "        print('Iter'+str(epoch) + ',Testing accuracy'+ str(acc))"
   ]
  }
 ],
 "metadata": {
  "kernelspec": {
   "display_name": "Python 3",
   "language": "python",
   "name": "python3"
  },
  "language_info": {
   "codemirror_mode": {
    "name": "ipython",
    "version": 3
   },
   "file_extension": ".py",
   "mimetype": "text/x-python",
   "name": "python",
   "nbconvert_exporter": "python",
   "pygments_lexer": "ipython3",
   "version": "3.5.2"
  }
 },
 "nbformat": 4,
 "nbformat_minor": 2
}
