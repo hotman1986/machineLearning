{
 "cells": [
  {
   "cell_type": "code",
   "execution_count": 1,
   "metadata": {},
   "outputs": [],
   "source": [
    "%matplotlib inline\n",
    "import matplotlib.pyplot as plt\n",
    "import tensorflow as tf\n",
    "import numpy as np\n",
    "from sklearn.metrics import confusion_matrix"
   ]
  },
  {
   "cell_type": "code",
   "execution_count": null,
   "metadata": {},
   "outputs": [],
   "source": [
    "def print_confusion_matrix():\n",
    "    # Get the true classifications for the test-set.\n",
    "    cls_true = np.argmax(mnist.test.labels,1)\n",
    "    \n",
    "    # Get the predicted classifications for the test-set.\n",
    "    batch_xs,batch_ys = mnist.test.next_batch(batch_size)\n",
    "    cls_pred = sess.run(correct_prediction, feed_dict={x:batch_xs,y:batch_ys})\n",
    "\n",
    "    # Get the confusion matrix using sklearn.\n",
    "    cm = confusion_matrix(y_true=cls_true,\n",
    "                          y_pred=cls_pred)\n",
    "\n",
    "    # Print the confusion matrix as text.\n",
    "    print(cm)\n",
    "\n",
    "    # Plot the confusion matrix as an image.\n",
    "    plt.imshow(cm, interpolation='nearest', cmap=plt.cm.Blues)\n",
    "\n",
    "    # Make various adjustments to the plot.\n",
    "    plt.tight_layout()\n",
    "    plt.colorbar()\n",
    "    tick_marks = np.arange(num_classes)\n",
    "    plt.xticks(tick_marks, range(num_classes))\n",
    "    plt.yticks(tick_marks, range(num_classes))\n",
    "    plt.xlabel('Predicted')\n",
    "    plt.ylabel('True')\n",
    "    \n",
    "    # Ensure the plot is shown correctly with multiple plots\n",
    "    # in a single Notebook cell.\n",
    "    plt.show()"
   ]
  },
  {
   "cell_type": "code",
   "execution_count": null,
   "metadata": {},
   "outputs": [],
   "source": []
  },
  {
   "cell_type": "code",
   "execution_count": 2,
   "metadata": {
    "scrolled": false
   },
   "outputs": [
    {
     "name": "stdout",
     "output_type": "stream",
     "text": [
      "WARNING:tensorflow:From <ipython-input-2-ceeb96c1de1a>:14: read_data_sets (from tensorflow.contrib.learn.python.learn.datasets.mnist) is deprecated and will be removed in a future version.\n",
      "Instructions for updating:\n",
      "Please use alternatives such as official/mnist/dataset.py from tensorflow/models.\n",
      "WARNING:tensorflow:From /usr/local/lib/python3.5/dist-packages/tensorflow/contrib/learn/python/learn/datasets/mnist.py:260: maybe_download (from tensorflow.contrib.learn.python.learn.datasets.base) is deprecated and will be removed in a future version.\n",
      "Instructions for updating:\n",
      "Please write your own downloading logic.\n",
      "WARNING:tensorflow:From /usr/local/lib/python3.5/dist-packages/tensorflow/contrib/learn/python/learn/datasets/mnist.py:262: extract_images (from tensorflow.contrib.learn.python.learn.datasets.mnist) is deprecated and will be removed in a future version.\n",
      "Instructions for updating:\n",
      "Please use tf.data to implement this functionality.\n",
      "Extracting MNIST_data/train-images-idx3-ubyte.gz\n",
      "WARNING:tensorflow:From /usr/local/lib/python3.5/dist-packages/tensorflow/contrib/learn/python/learn/datasets/mnist.py:267: extract_labels (from tensorflow.contrib.learn.python.learn.datasets.mnist) is deprecated and will be removed in a future version.\n",
      "Instructions for updating:\n",
      "Please use tf.data to implement this functionality.\n",
      "Extracting MNIST_data/train-labels-idx1-ubyte.gz\n",
      "WARNING:tensorflow:From /usr/local/lib/python3.5/dist-packages/tensorflow/contrib/learn/python/learn/datasets/mnist.py:110: dense_to_one_hot (from tensorflow.contrib.learn.python.learn.datasets.mnist) is deprecated and will be removed in a future version.\n",
      "Instructions for updating:\n",
      "Please use tf.one_hot on tensors.\n",
      "Extracting MNIST_data/t10k-images-idx3-ubyte.gz\n",
      "Extracting MNIST_data/t10k-labels-idx1-ubyte.gz\n",
      "WARNING:tensorflow:From /usr/local/lib/python3.5/dist-packages/tensorflow/contrib/learn/python/learn/datasets/mnist.py:290: DataSet.__init__ (from tensorflow.contrib.learn.python.learn.datasets.mnist) is deprecated and will be removed in a future version.\n",
      "Instructions for updating:\n",
      "Please use alternatives such as official/mnist/dataset.py from tensorflow/models.\n",
      "WARNING:tensorflow:From <ipython-input-2-ceeb96c1de1a>:38: softmax_cross_entropy_with_logits (from tensorflow.python.ops.nn_ops) is deprecated and will be removed in a future version.\n",
      "Instructions for updating:\n",
      "\n",
      "Future major versions of TensorFlow will allow gradients to flow\n",
      "into the labels input on backprop by default.\n",
      "\n",
      "See `tf.nn.softmax_cross_entropy_with_logits_v2`.\n",
      "\n"
     ]
    }
   ],
   "source": [
    "# coding: utf-8\n",
    "\n",
    "# In[1]:\n",
    "\n",
    "\n",
    "import tensorflow as tf\n",
    "from tensorflow.examples.tutorials.mnist import input_data\n",
    "\n",
    "\n",
    "# In[2]:\n",
    "\n",
    "\n",
    "#载入数据集\n",
    "mnist = input_data.read_data_sets('MNIST_data',one_hot = True)#当前路径，‘’可以选择存放路径\n",
    "\n",
    "\n",
    "# In[12]:\n",
    "\n",
    "\n",
    "#每个批次大小\n",
    "batch_size = 100\n",
    "#计算一共有多少个批次\n",
    "#数据集的数量整除批次大小=多少个批次\n",
    "n_batch = mnist.train.num_examples // batch_size\n",
    "\n",
    "#定义两个placeholder\n",
    "x = tf.placeholder(tf.float32,[None,784])#把批次传进去，开始是100，最后一批不一定是多少，我们把平面28*28做成向量传入\n",
    "y = tf.placeholder(tf.float32,[None,10])#十个标签\n",
    "\n",
    "#创建一个简单的神经网络\n",
    "#只用到两个层，784个神经元，输出层为10个神经元\n",
    "W = tf.Variable(tf.zeros([784,10]))\n",
    "b = tf.Variable(tf.zeros([10]))\n",
    "prediction = tf.nn.softmax(tf.matmul(x,W)+b)\n",
    "\n",
    "#定义代价函数\n",
    "#loss = tf.reduce_mean(tf.square(y-prediction))\n",
    "loss = tf.reduce_mean(tf.nn.softmax_cross_entropy_with_logits(labels=y,logits=prediction))\n",
    "#使用梯度下降法\n",
    "# train_step = tf.train.GradientDescentOptimizer(0.1).minimize(loss)\n",
    "train_step = tf.train.AdamOptimizer(1e-4).minimize(loss)\n",
    "\n",
    "#初始化变量\n",
    "init = tf.global_variables_initializer()\n",
    "\n",
    "#定义一个求准确率的方法\n",
    "#如果两个相同就会返回True,不相同就返回False，然后存入correct_prediction\n",
    "correct_prediction = tf.equal(tf.argmax(y,1),tf.argmax(prediction,1))#argmax返回一维张量中最大值所在的位置\n",
    "\n",
    "#求准确率\n",
    "#首先把bool值转化为32为浮点值，然后求平均值\n",
    "accuracy = tf.reduce_mean(tf.cast(correct_prediction,tf.float32))\n",
    "\n",
    "\n",
    "# In[14]:\n",
    "\n",
    "\n"
   ]
  },
  {
   "cell_type": "code",
   "execution_count": 3,
   "metadata": {},
   "outputs": [
    {
     "name": "stdout",
     "output_type": "stream",
     "text": [
      "Extracting MNIST_data/train-images-idx3-ubyte.gz\n",
      "Extracting MNIST_data/train-labels-idx1-ubyte.gz\n",
      "Extracting MNIST_data/t10k-images-idx3-ubyte.gz\n",
      "Extracting MNIST_data/t10k-labels-idx1-ubyte.gz\n"
     ]
    }
   ],
   "source": [
    "M = input_data.read_data_sets('MNIST_data',one_hot = False)#当前路径，‘’可以选择存放路径"
   ]
  },
  {
   "cell_type": "code",
   "execution_count": 4,
   "metadata": {},
   "outputs": [
    {
     "name": "stdout",
     "output_type": "stream",
     "text": [
      "Iter0,Testing accuracy0.7575\n",
      "Iter1,Testing accuracy0.8032\n",
      "Tensor(\"confusion_matrix/SparseTensorDenseAdd:0\", shape=(10, 10), dtype=int32)\n"
     ]
    }
   ],
   "source": [
    "with tf.Session() as sess:\n",
    "    sess.run(init)\n",
    "    for epoch in range(2):#把所有的图片训练21次\n",
    "        for batch in range (n_batch):#一批一批的迭代，一共运行n_batch次\n",
    "            batch_xs,batch_ys = mnist.train.next_batch(batch_size)#每次获得100张图片\n",
    "            sess.run(train_step,feed_dict={x:batch_xs,y:batch_ys})\n",
    "        \n",
    "        acc = sess.run(accuracy,feed_dict={x:mnist.test.images,y:mnist.test.labels})\n",
    "        print('Iter'+str(epoch) + ',Testing accuracy'+ str(acc))\n",
    "    prediction  = sess.run(prediction,feed_dict={x:mnist.test.images,y:mnist.test.labels})\n",
    "    pred = sess.run(tf.argmax(prediction,1),feed_dict={x:mnist.test.images,y:mnist.test.labels})\n",
    "    confusion = tf.confusion_matrix(labels=M.test.labels,predictions=pred,num_classes=10)\n",
    "    print(confusion)\n",
    "    \n",
    "    #print_confusion_matrix()\n",
    "#     cls_true = np.argmax(mnist.test.labels,1)\n",
    "#     y_pred = tf.argmax(tf.nn.softmax(1),dimension=1)\n",
    "#     y_true = tf.argmax(y,dimension=1)\n",
    "\n",
    "#     # Get the predicted classifications for the test-set.\n",
    "#     batch_xs,batch_ys = mnist.test.next_batch(batch_size)\n",
    "#     cls_pred = sess.run(y_pred, feed_dict={x:batch_xs,y:batch_ys})\n",
    "\n",
    "#     # Get the confusion matrix using sklearn.\n",
    "#     cm = confusion_matrix(y_true=cls_true,y_pred=cls_pred)\n"
   ]
  },
  {
   "cell_type": "code",
   "execution_count": 5,
   "metadata": {
    "scrolled": true
   },
   "outputs": [
    {
     "data": {
      "text/plain": [
       "<tf.Tensor 'confusion_matrix/SparseTensorDenseAdd:0' shape=(10, 10) dtype=int32>"
      ]
     },
     "execution_count": 5,
     "metadata": {},
     "output_type": "execute_result"
    }
   ],
   "source": [
    "confusion"
   ]
  },
  {
   "cell_type": "code",
   "execution_count": 46,
   "metadata": {},
   "outputs": [
    {
     "name": "stdout",
     "output_type": "stream",
     "text": [
      "0\n",
      "\n",
      "\n",
      "2\n",
      "**********************\n",
      "0\n",
      "\n",
      "\n",
      "1\n",
      "**********************\n",
      "0\n",
      "\n",
      "\n",
      "0\n",
      "**********************\n",
      "0\n",
      "\n",
      "\n",
      "4\n",
      "**********************\n",
      "0\n",
      "\n",
      "\n",
      "1\n",
      "**********************\n",
      "0\n",
      "\n",
      "\n",
      "4\n",
      "**********************\n",
      "0\n",
      "\n",
      "\n",
      "9\n",
      "**********************\n",
      "0\n",
      "\n",
      "\n",
      "5\n",
      "**********************\n",
      "0\n",
      "\n",
      "\n",
      "9\n",
      "**********************\n",
      "0\n",
      "\n",
      "\n",
      "0\n",
      "**********************\n",
      "0\n",
      "\n",
      "\n",
      "6\n",
      "**********************\n",
      "0\n",
      "\n",
      "\n",
      "9\n",
      "**********************\n",
      "0\n",
      "\n",
      "\n",
      "0\n",
      "**********************\n",
      "0\n",
      "\n",
      "\n",
      "1\n",
      "**********************\n",
      "0\n",
      "\n",
      "\n",
      "5\n",
      "**********************\n",
      "0\n",
      "\n",
      "\n",
      "9\n",
      "**********************\n",
      "0\n",
      "\n",
      "\n",
      "7\n",
      "**********************\n",
      "0\n",
      "\n",
      "\n",
      "3\n",
      "**********************\n",
      "0\n",
      "\n",
      "\n",
      "4\n",
      "**********************\n",
      "0\n",
      "\n",
      "\n",
      "9\n",
      "**********************\n",
      "0\n",
      "\n",
      "\n",
      "6\n",
      "**********************\n",
      "0\n",
      "\n",
      "\n",
      "6\n",
      "**********************\n",
      "0\n",
      "\n",
      "\n",
      "5\n",
      "**********************\n",
      "0\n",
      "\n",
      "\n",
      "4\n",
      "**********************\n",
      "0\n",
      "\n",
      "\n",
      "0\n",
      "**********************\n",
      "0\n",
      "\n",
      "\n",
      "7\n",
      "**********************\n",
      "0\n",
      "\n",
      "\n",
      "4\n",
      "**********************\n",
      "0\n",
      "\n",
      "\n",
      "0\n",
      "**********************\n",
      "0\n",
      "\n",
      "\n",
      "1\n",
      "**********************\n",
      "0\n",
      "\n",
      "\n",
      "3\n",
      "**********************\n",
      "0\n",
      "\n",
      "\n",
      "1\n",
      "**********************\n",
      "0\n",
      "\n",
      "\n",
      "3\n",
      "**********************\n",
      "0\n",
      "\n",
      "\n",
      "4\n",
      "**********************\n",
      "0\n",
      "\n",
      "\n",
      "7\n",
      "**********************\n",
      "0\n",
      "\n",
      "\n",
      "2\n",
      "**********************\n",
      "0\n",
      "\n",
      "\n",
      "7\n",
      "**********************\n",
      "0\n",
      "\n",
      "\n",
      "1\n",
      "**********************\n",
      "0\n",
      "\n",
      "\n",
      "2\n",
      "**********************\n",
      "0\n",
      "\n",
      "\n",
      "1\n",
      "**********************\n",
      "0\n",
      "\n",
      "\n",
      "1\n",
      "**********************\n",
      "0\n",
      "\n",
      "\n",
      "7\n",
      "**********************\n",
      "0\n",
      "\n",
      "\n",
      "4\n",
      "**********************\n",
      "0\n",
      "\n",
      "\n",
      "2\n",
      "**********************\n",
      "0\n",
      "\n",
      "\n",
      "3\n",
      "**********************\n",
      "0\n",
      "\n",
      "\n",
      "5\n",
      "**********************\n",
      "0\n",
      "\n",
      "\n",
      "1\n",
      "**********************\n",
      "0\n",
      "\n",
      "\n",
      "2\n",
      "**********************\n",
      "0\n",
      "\n",
      "\n",
      "4\n",
      "**********************\n",
      "0\n",
      "\n",
      "\n",
      "4\n",
      "**********************\n",
      "0\n",
      "\n",
      "\n",
      "6\n",
      "**********************\n",
      "0\n",
      "\n",
      "\n",
      "3\n",
      "**********************\n",
      "0\n",
      "\n",
      "\n",
      "5\n",
      "**********************\n",
      "0\n",
      "\n",
      "\n",
      "5\n",
      "**********************\n",
      "0\n",
      "\n",
      "\n",
      "6\n",
      "**********************\n",
      "0\n",
      "\n",
      "\n",
      "0\n",
      "**********************\n",
      "0\n",
      "\n",
      "\n",
      "4\n",
      "**********************\n",
      "0\n",
      "\n",
      "\n",
      "1\n",
      "**********************\n",
      "0\n",
      "\n",
      "\n",
      "9\n",
      "**********************\n",
      "0\n",
      "\n",
      "\n",
      "5\n",
      "**********************\n",
      "0\n",
      "\n",
      "\n",
      "7\n",
      "**********************\n",
      "0\n",
      "\n",
      "\n",
      "8\n",
      "**********************\n",
      "0\n",
      "\n",
      "\n",
      "9\n",
      "**********************\n",
      "0\n",
      "\n",
      "\n",
      "3\n",
      "**********************\n",
      "0\n",
      "\n",
      "\n",
      "7\n",
      "**********************\n",
      "0\n",
      "\n",
      "\n",
      "4\n",
      "**********************\n",
      "0\n",
      "\n",
      "\n",
      "6\n",
      "**********************\n",
      "0\n",
      "\n",
      "\n",
      "4\n",
      "**********************\n",
      "0\n",
      "\n",
      "\n",
      "3\n",
      "**********************\n",
      "0\n",
      "\n",
      "\n",
      "0\n",
      "**********************\n",
      "0\n",
      "\n",
      "\n",
      "7\n",
      "**********************\n",
      "0\n",
      "\n",
      "\n",
      "0\n",
      "**********************\n",
      "0\n",
      "\n",
      "\n",
      "2\n",
      "**********************\n",
      "0\n",
      "\n",
      "\n",
      "9\n",
      "**********************\n",
      "0\n",
      "\n",
      "\n",
      "1\n",
      "**********************\n",
      "0\n",
      "\n",
      "\n",
      "7\n",
      "**********************\n",
      "0\n",
      "\n",
      "\n",
      "3\n",
      "**********************\n",
      "0\n",
      "\n",
      "\n",
      "2\n",
      "**********************\n",
      "0\n",
      "\n",
      "\n",
      "9\n",
      "**********************\n",
      "0\n",
      "\n",
      "\n",
      "7\n",
      "**********************\n",
      "0\n",
      "\n",
      "\n",
      "7\n",
      "**********************\n",
      "0\n",
      "\n",
      "\n",
      "6\n",
      "**********************\n",
      "0\n",
      "\n",
      "\n",
      "2\n",
      "**********************\n",
      "0\n",
      "\n",
      "\n",
      "7\n",
      "**********************\n",
      "0\n",
      "\n",
      "\n",
      "8\n",
      "**********************\n",
      "0\n",
      "\n",
      "\n",
      "4\n",
      "**********************\n",
      "0\n",
      "\n",
      "\n",
      "7\n",
      "**********************\n",
      "0\n",
      "\n",
      "\n",
      "3\n",
      "**********************\n",
      "0\n",
      "\n",
      "\n",
      "6\n",
      "**********************\n",
      "0\n",
      "\n",
      "\n",
      "1\n",
      "**********************\n",
      "0\n",
      "\n",
      "\n",
      "3\n",
      "**********************\n",
      "0\n",
      "\n",
      "\n",
      "6\n",
      "**********************\n",
      "0\n",
      "\n",
      "\n",
      "9\n",
      "**********************\n",
      "0\n",
      "\n",
      "\n",
      "3\n",
      "**********************\n",
      "0\n",
      "\n",
      "\n",
      "1\n",
      "**********************\n",
      "0\n",
      "\n",
      "\n",
      "4\n",
      "**********************\n",
      "0\n",
      "\n",
      "\n",
      "1\n",
      "**********************\n",
      "0\n",
      "\n",
      "\n",
      "7\n",
      "**********************\n",
      "0\n",
      "\n",
      "\n",
      "6\n",
      "**********************\n",
      "0\n",
      "\n",
      "\n",
      "9\n",
      "**********************\n"
     ]
    }
   ],
   "source": [
    "for i in range(1,100):\n",
    "    print(pred[i])\n",
    "    print('\\n')\n",
    "    print(M.test.labels[i])\n",
    "    print('**********************')\n",
    "    "
   ]
  },
  {
   "cell_type": "code",
   "execution_count": 6,
   "metadata": {},
   "outputs": [
    {
     "data": {
      "text/plain": [
       "array([3.1668246e-03, 7.9020095e-04, 3.3208127e-03, 5.0684758e-03,\n",
       "       4.6601859e-03, 2.6408180e-03, 1.0072555e-03, 9.5072955e-01,\n",
       "       3.7518831e-03, 2.4864065e-02], dtype=float32)"
      ]
     },
     "execution_count": 6,
     "metadata": {},
     "output_type": "execute_result"
    }
   ],
   "source": [
    "prediction[0]"
   ]
  },
  {
   "cell_type": "code",
   "execution_count": 7,
   "metadata": {},
   "outputs": [
    {
     "data": {
      "text/plain": [
       "2"
      ]
     },
     "execution_count": 7,
     "metadata": {},
     "output_type": "execute_result"
    }
   ],
   "source": [
    "pred[1]"
   ]
  },
  {
   "cell_type": "code",
   "execution_count": null,
   "metadata": {},
   "outputs": [],
   "source": []
  },
  {
   "cell_type": "code",
   "execution_count": 8,
   "metadata": {
    "scrolled": true
   },
   "outputs": [
    {
     "data": {
      "text/plain": [
       "6"
      ]
     },
     "execution_count": 8,
     "metadata": {},
     "output_type": "execute_result"
    }
   ],
   "source": [
    "pred[100]"
   ]
  },
  {
   "cell_type": "code",
   "execution_count": 43,
   "metadata": {},
   "outputs": [
    {
     "data": {
      "text/plain": [
       "4"
      ]
     },
     "execution_count": 43,
     "metadata": {},
     "output_type": "execute_result"
    }
   ],
   "source": []
  },
  {
   "cell_type": "code",
   "execution_count": 9,
   "metadata": {
    "scrolled": true
   },
   "outputs": [
    {
     "data": {
      "text/plain": [
       "10000"
      ]
     },
     "execution_count": 9,
     "metadata": {},
     "output_type": "execute_result"
    }
   ],
   "source": [
    "len(pred)"
   ]
  },
  {
   "cell_type": "code",
   "execution_count": 10,
   "metadata": {},
   "outputs": [
    {
     "data": {
      "text/plain": [
       "10000"
      ]
     },
     "execution_count": 10,
     "metadata": {},
     "output_type": "execute_result"
    }
   ],
   "source": [
    "len(M.test.labels)"
   ]
  },
  {
   "cell_type": "code",
   "execution_count": 11,
   "metadata": {},
   "outputs": [
    {
     "name": "stdout",
     "output_type": "stream",
     "text": [
      "WARNING:tensorflow:From /usr/local/lib/python3.5/dist-packages/tensorflow/python/util/tf_should_use.py:189: initialize_all_variables (from tensorflow.python.ops.variables) is deprecated and will be removed after 2017-03-02.\n",
      "Instructions for updating:\n",
      "Use `tf.global_variables_initializer` instead.\n"
     ]
    }
   ],
   "source": [
    "session = tf.Session()\n",
    "session.run(tf.initialize_all_variables())\n"
   ]
  },
  {
   "cell_type": "code",
   "execution_count": 12,
   "metadata": {},
   "outputs": [],
   "source": [
    "pred = session.run(tf.argmax(prediction,1),feed_dict={x:mnist.test.images,y:mnist.test.labels})\n",
    "confusion = tf.confusion_matrix(labels=M.test.labels,predictions=pred,num_classes=10)\n"
   ]
  },
  {
   "cell_type": "code",
   "execution_count": 13,
   "metadata": {},
   "outputs": [],
   "source": [
    "ff=session.run(confusion)\n"
   ]
  },
  {
   "cell_type": "code",
   "execution_count": 14,
   "metadata": {},
   "outputs": [
    {
     "data": {
      "text/plain": [
       "<matplotlib.image.AxesImage at 0x7f6b890dbe80>"
      ]
     },
     "execution_count": 14,
     "metadata": {},
     "output_type": "execute_result"
    },
    {
     "data": {
      "image/png": "[encoded data removed]",
      "text/plain": [
       "<Figure size 432x288 with 1 Axes>"
      ]
     },
     "metadata": {
      "needs_background": "light"
     },
     "output_type": "display_data"
    }
   ],
   "source": [
    "plt.imshow(ff, interpolation='nearest', cmap=plt.cm.Blues)\n"
   ]
  },
  {
   "cell_type": "code",
   "execution_count": 19,
   "metadata": {},
   "outputs": [
    {
     "data": {
      "text/plain": [
       "Text(95.305, 0.5, 'True')"
      ]
     },
     "execution_count": 19,
     "metadata": {},
     "output_type": "execute_result"
    },
    {
     "data": {
      "image/png": "[encoded data removed]",
      "text/plain": [
       "<Figure size 432x288 with 2 Axes>"
      ]
     },
     "metadata": {
      "needs_background": "light"
     },
     "output_type": "display_data"
    }
   ],
   "source": [
    "plt.imshow(ff, interpolation='nearest', cmap=plt.cm.Blues)\n",
    "\n",
    "plt.tight_layout()\n",
    "plt.colorbar()\n",
    "C = 10\n",
    "tick_marks = np.arange(C)\n",
    "plt.xticks(tick_marks,range(C))\n",
    "plt.yticks(tick_marks,range(C))\n",
    "plt.xlabel('Predicted')\n",
    "plt.ylabel('True')"
   ]
  },
  {
   "cell_type": "code",
   "execution_count": 15,
   "metadata": {},
   "outputs": [
    {
     "name": "stdout",
     "output_type": "stream",
     "text": [
      "[[ 916    0    9    7    0    1   31    1   15    0]\n",
      " [   0 1057   15    6    1    0    7    1   47    1]\n",
      " [  17   27  858   26   15    0   30   21   36    2]\n",
      " [   4   11   32  888    1    0    8   19   30   17]\n",
      " [   2    9    5    0  791    0   28    2   11  134]\n",
      " [  45   22   12  291   34  189   35   29  192   43]\n",
      " [  21   19    9    0    9    4  890    0    6    0]\n",
      " [   1   45   22    2   10    0    4  881   12   51]\n",
      " [  17   33   15   84   19    0   17   20  746   23]\n",
      " [  18   19    7   14   64    0    2   52   17  816]]\n"
     ]
    }
   ],
   "source": [
    "print(ff)"
   ]
  },
  {
   "cell_type": "code",
   "execution_count": null,
   "metadata": {},
   "outputs": [],
   "source": []
  }
 ],
 "metadata": {
  "kernelspec": {
   "display_name": "Python 3",
   "language": "python",
   "name": "python3"
  },
  "language_info": {
   "codemirror_mode": {
    "name": "ipython",
    "version": 3
   },
   "file_extension": ".py",
   "mimetype": "text/x-python",
   "name": "python",
   "nbconvert_exporter": "python",
   "pygments_lexer": "ipython3",
   "version": "3.5.2"
  }
 },
 "nbformat": 4,
 "nbformat_minor": 2
}
