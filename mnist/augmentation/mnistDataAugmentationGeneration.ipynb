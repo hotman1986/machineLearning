{
 "cells": [
  {
   "cell_type": "code",
   "execution_count": 1,
   "metadata": {},
   "outputs": [
    {
     "name": "stderr",
     "output_type": "stream",
     "text": [
      "/usr/local/lib/python3.5/dist-packages/h5py/__init__.py:36: FutureWarning: Conversion of the second argument of issubdtype from `float` to `np.floating` is deprecated. In future, it will be treated as `np.float64 == np.dtype(float).type`.\n",
      "  from ._conv import register_converters as _register_converters\n"
     ]
    }
   ],
   "source": [
    "import cv2\n",
    "import os\n",
    "import skimage\n",
    "from skimage import data\n",
    "from skimage import transform\n",
    "import PIL\n",
    "from PIL import Image\n",
    "import numpy as np\n",
    "import matplotlib.pyplot as plt\n",
    "import random\n",
    "from random import randint\n",
    "import tensorflow as tf\n",
    "from scipy import ndimage, misc\n",
    "from skimage.transform import rotate\n",
    "HEIGHT=28\n",
    "WIDTH=28\n",
    "CLASSNUMBER = 10\n",
    "TRAIN_CLASS_NUMBER =55\n",
    "TEST_CLASS_NUMBER=10\n",
    "TRAIN_DATA_NUMBER = CLASSNUMBER * TRAIN_CLASS_NUMBER\n",
    "TEST_DATA_NUMBER = CLASSNUMBER*TEST_CLASS_NUMBER\n",
    "totalImages = 0\n",
    "total_train_images=0\n",
    "total_test_images=0"
   ]
  },
  {
   "cell_type": "code",
   "execution_count": 2,
   "metadata": {},
   "outputs": [],
   "source": [
    "#define number of images want to generate\n",
    "H_IMAGES = 4\n",
    "V_IMAGES = 4\n",
    "S_IMAGES = 5\n",
    "GAMMA_IMAGES = 10\n",
    "ROTATE_IMAGES = 5\n",
    "SHEAR_IMAGES = 5\n",
    "TRANSLATION_IMAGES = 7\n",
    "AFFINITIVIE_IMAGES = 10"
   ]
  },
  {
   "cell_type": "code",
   "execution_count": 3,
   "metadata": {},
   "outputs": [],
   "source": [
    "def load_data(data_directory):\n",
    "    directories = [d for d in os.listdir(data_directory) \n",
    "                   if os.path.isdir(os.path.join(data_directory, d))]\n",
    "    labels = []\n",
    "    images = []\n",
    "    \n",
    "    for d in directories:\n",
    "        label_directory = os.path.join(data_directory, d)\n",
    "        file_names = [os.path.join(label_directory, f) \n",
    "                      for f in os.listdir(label_directory) if f.endswith(\".jpg\")]\n",
    "        for f in file_names:\n",
    "            \n",
    "            images.append(skimage.data.imread(f))\n",
    "            labels.append(str(d))\n",
    "    return images, labels"
   ]
  },
  {
   "cell_type": "code",
   "execution_count": null,
   "metadata": {},
   "outputs": [],
   "source": []
  },
  {
   "cell_type": "code",
   "execution_count": null,
   "metadata": {},
   "outputs": [],
   "source": []
  },
  {
   "cell_type": "code",
   "execution_count": null,
   "metadata": {},
   "outputs": [],
   "source": []
  },
  {
   "cell_type": "code",
   "execution_count": null,
   "metadata": {},
   "outputs": [],
   "source": []
  },
  {
   "cell_type": "code",
   "execution_count": 4,
   "metadata": {},
   "outputs": [],
   "source": [
    "ROOT_PATH = '/home/tang/mnistTransformation/'\n",
    "train_data_directory = os.path.join(ROOT_PATH, \"exp2/training\")\n",
    "test_data_directory = os.path.join(ROOT_PATH, \"exp2/testing\")"
   ]
  },
  {
   "cell_type": "code",
   "execution_count": 5,
   "metadata": {},
   "outputs": [],
   "source": [
    "train_data_load_directory = os.path.join(ROOT_PATH,'exp2/pickForTrain')\n",
    "test_data_load_directory = os.path.join(ROOT_PATH,'exp2/pickupForTest')\n",
    "\n"
   ]
  },
  {
   "cell_type": "code",
   "execution_count": 6,
   "metadata": {},
   "outputs": [],
   "source": [
    "train_images,train_labels = load_data(train_data_load_directory)\n",
    "test_images,test_labels = load_data(test_data_load_directory)\n"
   ]
  },
  {
   "cell_type": "code",
   "execution_count": 7,
   "metadata": {
    "scrolled": true
   },
   "outputs": [
    {
     "data": {
      "text/plain": [
       "(array([0., 0., 0., 0., 0., 0., 0., 0., 0., 0.]),\n",
       " array([0. , 0.1, 0.2, 0.3, 0.4, 0.5, 0.6, 0.7, 0.8, 0.9, 1. ]),\n",
       " <a list of 10 Patch objects>)"
      ]
     },
     "execution_count": 7,
     "metadata": {},
     "output_type": "execute_result"
    },
    {
     "data": {
      "image/png": "[encoded data removed]",
      "text/plain": [
       "<Figure size 432x288 with 1 Axes>"
      ]
     },
     "metadata": {},
     "output_type": "display_data"
    }
   ],
   "source": [
    "plt.hist(train_labels,10)"
   ]
  },
  {
   "cell_type": "code",
   "execution_count": 8,
   "metadata": {
    "scrolled": true
   },
   "outputs": [
    {
     "data": {
      "text/plain": [
       "(array([0., 0., 0., 0., 0., 0., 0., 0., 0., 0.]),\n",
       " array([0. , 0.1, 0.2, 0.3, 0.4, 0.5, 0.6, 0.7, 0.8, 0.9, 1. ]),\n",
       " <a list of 10 Patch objects>)"
      ]
     },
     "execution_count": 8,
     "metadata": {},
     "output_type": "execute_result"
    },
    {
     "data": {
      "image/png": "[encoded data removed]",
      "text/plain": [
       "<Figure size 432x288 with 1 Axes>"
      ]
     },
     "metadata": {},
     "output_type": "display_data"
    }
   ],
   "source": [
    "plt.hist(test_labels,10)"
   ]
  },
  {
   "cell_type": "code",
   "execution_count": null,
   "metadata": {
    "scrolled": true
   },
   "outputs": [],
   "source": []
  },
  {
   "cell_type": "code",
   "execution_count": null,
   "metadata": {},
   "outputs": [],
   "source": []
  },
  {
   "cell_type": "code",
   "execution_count": null,
   "metadata": {},
   "outputs": [],
   "source": [
    "from tensorflow.examples.tutorials.mnist import input_data\n",
    "mnist = input_data.read_data_sets('MNIST_data',one_hot = True)\n",
    "mnistNoOnehot = input_data.read_data_sets('MNIST_data')"
   ]
  },
  {
   "cell_type": "code",
   "execution_count": 12,
   "metadata": {},
   "outputs": [],
   "source": [
    "X_train = mnist.train.images*255\n",
    "Y_train = mnist.train.labels\n",
    "X_val = mnist.validation.images*255\n",
    "Y_val = mnist.validation.labels\n",
    "X_test = mnist.test.images*255\n",
    "Y_test = mnist.test.labels\n"
   ]
  },
  {
   "cell_type": "code",
   "execution_count": 13,
   "metadata": {},
   "outputs": [
    {
     "name": "stdout",
     "output_type": "stream",
     "text": [
      "Size of:\n",
      "- Training-set:\t\t55000\n",
      "- Validation-set:\t5000\n",
      "- Test-set:\t\t10000\n"
     ]
    }
   ],
   "source": [
    "print(\"Size of:\")\n",
    "print(\"- Training-set:\\t\\t{}\".format(len(X_train)))\n",
    "print(\"- Validation-set:\\t{}\".format(len(X_val)))\n",
    "print(\"- Test-set:\\t\\t{}\".format(len(X_test)))"
   ]
  },
  {
   "cell_type": "code",
   "execution_count": 14,
   "metadata": {
    "scrolled": false
   },
   "outputs": [],
   "source": [
    "X_train_reshape = np.reshape(X_train,(55000,28,28))\n",
    "Y_train_reshape = mnistNoOnehot.train.labels\n",
    "X_test_reshape = np.reshape(X_test,(10000,28,28))\n",
    "Y_test_reshape = mnistNoOnehot.test.labels\n",
    "X_val_reshape = np.reshape(X_val,(5000,28,28))\n",
    "Y_val_reshape = mnistNoOnehot.validation.labels"
   ]
  },
  {
   "cell_type": "code",
   "execution_count": 15,
   "metadata": {},
   "outputs": [],
   "source": [
    "##############sampling data for training\n",
    "load_train_images = X_train_reshape\n",
    "load_train_labels = Y_train_reshape"
   ]
  },
  {
   "cell_type": "code",
   "execution_count": null,
   "metadata": {},
   "outputs": [],
   "source": [
    "count=0\n",
    "for x in range(0,TRAIN_DATA_NUMBER):\n",
    "    img = load_train_images[x]\n",
    "    filename=train_data_load_directory+'/'+str(load_train_labels[x])+'/'+str(load_train_labels[x])+'-'+str(x)+'.jpg'\n",
    "    plt.imsave(filename,img)\n",
    "    print(filename)\n",
    "    count+=1\n",
    "    print('training images = '+str(count))\n",
    "\n"
   ]
  },
  {
   "cell_type": "code",
   "execution_count": 17,
   "metadata": {},
   "outputs": [
    {
     "name": "stdout",
     "output_type": "stream",
     "text": [
      "/home/tang/mnistTransformation/exp2/pickupForTest/7/7-0.jpg\n",
      "testing images = 1\n",
      "/home/tang/mnistTransformation/exp2/pickupForTest/2/2-1.jpg\n",
      "testing images = 2\n",
      "/home/tang/mnistTransformation/exp2/pickupForTest/1/1-2.jpg\n",
      "testing images = 3\n",
      "/home/tang/mnistTransformation/exp2/pickupForTest/0/0-3.jpg\n",
      "testing images = 4\n",
      "/home/tang/mnistTransformation/exp2/pickupForTest/4/4-4.jpg\n",
      "testing images = 5\n",
      "/home/tang/mnistTransformation/exp2/pickupForTest/1/1-5.jpg\n",
      "testing images = 6\n",
      "/home/tang/mnistTransformation/exp2/pickupForTest/4/4-6.jpg\n",
      "testing images = 7\n",
      "/home/tang/mnistTransformation/exp2/pickupForTest/9/9-7.jpg\n",
      "testing images = 8\n",
      "/home/tang/mnistTransformation/exp2/pickupForTest/5/5-8.jpg\n",
      "testing images = 9\n",
      "/home/tang/mnistTransformation/exp2/pickupForTest/9/9-9.jpg\n",
      "testing images = 10\n",
      "/home/tang/mnistTransformation/exp2/pickupForTest/0/0-10.jpg\n",
      "testing images = 11\n",
      "/home/tang/mnistTransformation/exp2/pickupForTest/6/6-11.jpg\n",
      "testing images = 12\n",
      "/home/tang/mnistTransformation/exp2/pickupForTest/9/9-12.jpg\n",
      "testing images = 13\n",
      "/home/tang/mnistTransformation/exp2/pickupForTest/0/0-13.jpg\n",
      "testing images = 14\n",
      "/home/tang/mnistTransformation/exp2/pickupForTest/1/1-14.jpg\n",
      "testing images = 15\n",
      "/home/tang/mnistTransformation/exp2/pickupForTest/5/5-15.jpg\n",
      "testing images = 16\n",
      "/home/tang/mnistTransformation/exp2/pickupForTest/9/9-16.jpg\n",
      "testing images = 17\n",
      "/home/tang/mnistTransformation/exp2/pickupForTest/7/7-17.jpg\n",
      "testing images = 18\n",
      "/home/tang/mnistTransformation/exp2/pickupForTest/3/3-18.jpg\n",
      "testing images = 19\n",
      "/home/tang/mnistTransformation/exp2/pickupForTest/4/4-19.jpg\n",
      "testing images = 20\n",
      "/home/tang/mnistTransformation/exp2/pickupForTest/9/9-20.jpg\n",
      "testing images = 21\n",
      "/home/tang/mnistTransformation/exp2/pickupForTest/6/6-21.jpg\n",
      "testing images = 22\n",
      "/home/tang/mnistTransformation/exp2/pickupForTest/6/6-22.jpg\n",
      "testing images = 23\n",
      "/home/tang/mnistTransformation/exp2/pickupForTest/5/5-23.jpg\n",
      "testing images = 24\n",
      "/home/tang/mnistTransformation/exp2/pickupForTest/4/4-24.jpg\n",
      "testing images = 25\n",
      "/home/tang/mnistTransformation/exp2/pickupForTest/0/0-25.jpg\n",
      "testing images = 26\n",
      "/home/tang/mnistTransformation/exp2/pickupForTest/7/7-26.jpg\n",
      "testing images = 27\n",
      "/home/tang/mnistTransformation/exp2/pickupForTest/4/4-27.jpg\n",
      "testing images = 28\n",
      "/home/tang/mnistTransformation/exp2/pickupForTest/0/0-28.jpg\n",
      "testing images = 29\n",
      "/home/tang/mnistTransformation/exp2/pickupForTest/1/1-29.jpg\n",
      "testing images = 30\n",
      "/home/tang/mnistTransformation/exp2/pickupForTest/3/3-30.jpg\n",
      "testing images = 31\n",
      "/home/tang/mnistTransformation/exp2/pickupForTest/1/1-31.jpg\n",
      "testing images = 32\n",
      "/home/tang/mnistTransformation/exp2/pickupForTest/3/3-32.jpg\n",
      "testing images = 33\n",
      "/home/tang/mnistTransformation/exp2/pickupForTest/4/4-33.jpg\n",
      "testing images = 34\n",
      "/home/tang/mnistTransformation/exp2/pickupForTest/7/7-34.jpg\n",
      "testing images = 35\n",
      "/home/tang/mnistTransformation/exp2/pickupForTest/2/2-35.jpg\n",
      "testing images = 36\n",
      "/home/tang/mnistTransformation/exp2/pickupForTest/7/7-36.jpg\n",
      "testing images = 37\n",
      "/home/tang/mnistTransformation/exp2/pickupForTest/1/1-37.jpg\n",
      "testing images = 38\n",
      "/home/tang/mnistTransformation/exp2/pickupForTest/2/2-38.jpg\n",
      "testing images = 39\n",
      "/home/tang/mnistTransformation/exp2/pickupForTest/1/1-39.jpg\n",
      "testing images = 40\n",
      "/home/tang/mnistTransformation/exp2/pickupForTest/1/1-40.jpg\n",
      "testing images = 41\n",
      "/home/tang/mnistTransformation/exp2/pickupForTest/7/7-41.jpg\n",
      "testing images = 42\n",
      "/home/tang/mnistTransformation/exp2/pickupForTest/4/4-42.jpg\n",
      "testing images = 43\n",
      "/home/tang/mnistTransformation/exp2/pickupForTest/2/2-43.jpg\n",
      "testing images = 44\n",
      "/home/tang/mnistTransformation/exp2/pickupForTest/3/3-44.jpg\n",
      "testing images = 45\n",
      "/home/tang/mnistTransformation/exp2/pickupForTest/5/5-45.jpg\n",
      "testing images = 46\n",
      "/home/tang/mnistTransformation/exp2/pickupForTest/1/1-46.jpg\n",
      "testing images = 47\n",
      "/home/tang/mnistTransformation/exp2/pickupForTest/2/2-47.jpg\n",
      "testing images = 48\n",
      "/home/tang/mnistTransformation/exp2/pickupForTest/4/4-48.jpg\n",
      "testing images = 49\n",
      "/home/tang/mnistTransformation/exp2/pickupForTest/4/4-49.jpg\n",
      "testing images = 50\n",
      "/home/tang/mnistTransformation/exp2/pickupForTest/6/6-50.jpg\n",
      "testing images = 51\n",
      "/home/tang/mnistTransformation/exp2/pickupForTest/3/3-51.jpg\n",
      "testing images = 52\n",
      "/home/tang/mnistTransformation/exp2/pickupForTest/5/5-52.jpg\n",
      "testing images = 53\n",
      "/home/tang/mnistTransformation/exp2/pickupForTest/5/5-53.jpg\n",
      "testing images = 54\n",
      "/home/tang/mnistTransformation/exp2/pickupForTest/6/6-54.jpg\n",
      "testing images = 55\n",
      "/home/tang/mnistTransformation/exp2/pickupForTest/0/0-55.jpg\n",
      "testing images = 56\n",
      "/home/tang/mnistTransformation/exp2/pickupForTest/4/4-56.jpg\n",
      "testing images = 57\n",
      "/home/tang/mnistTransformation/exp2/pickupForTest/1/1-57.jpg\n",
      "testing images = 58\n",
      "/home/tang/mnistTransformation/exp2/pickupForTest/9/9-58.jpg\n",
      "testing images = 59\n",
      "/home/tang/mnistTransformation/exp2/pickupForTest/5/5-59.jpg\n",
      "testing images = 60\n",
      "/home/tang/mnistTransformation/exp2/pickupForTest/7/7-60.jpg\n",
      "testing images = 61\n",
      "/home/tang/mnistTransformation/exp2/pickupForTest/8/8-61.jpg\n",
      "testing images = 62\n",
      "/home/tang/mnistTransformation/exp2/pickupForTest/9/9-62.jpg\n",
      "testing images = 63\n",
      "/home/tang/mnistTransformation/exp2/pickupForTest/3/3-63.jpg\n",
      "testing images = 64\n",
      "/home/tang/mnistTransformation/exp2/pickupForTest/7/7-64.jpg\n",
      "testing images = 65\n",
      "/home/tang/mnistTransformation/exp2/pickupForTest/4/4-65.jpg\n",
      "testing images = 66\n",
      "/home/tang/mnistTransformation/exp2/pickupForTest/6/6-66.jpg\n",
      "testing images = 67\n",
      "/home/tang/mnistTransformation/exp2/pickupForTest/4/4-67.jpg\n",
      "testing images = 68\n",
      "/home/tang/mnistTransformation/exp2/pickupForTest/3/3-68.jpg\n",
      "testing images = 69\n",
      "/home/tang/mnistTransformation/exp2/pickupForTest/0/0-69.jpg\n",
      "testing images = 70\n",
      "/home/tang/mnistTransformation/exp2/pickupForTest/7/7-70.jpg\n",
      "testing images = 71\n",
      "/home/tang/mnistTransformation/exp2/pickupForTest/0/0-71.jpg\n",
      "testing images = 72\n",
      "/home/tang/mnistTransformation/exp2/pickupForTest/2/2-72.jpg\n",
      "testing images = 73\n",
      "/home/tang/mnistTransformation/exp2/pickupForTest/9/9-73.jpg\n",
      "testing images = 74\n",
      "/home/tang/mnistTransformation/exp2/pickupForTest/1/1-74.jpg\n",
      "testing images = 75\n",
      "/home/tang/mnistTransformation/exp2/pickupForTest/7/7-75.jpg\n",
      "testing images = 76\n",
      "/home/tang/mnistTransformation/exp2/pickupForTest/3/3-76.jpg\n",
      "testing images = 77\n",
      "/home/tang/mnistTransformation/exp2/pickupForTest/2/2-77.jpg\n",
      "testing images = 78\n",
      "/home/tang/mnistTransformation/exp2/pickupForTest/9/9-78.jpg\n",
      "testing images = 79\n",
      "/home/tang/mnistTransformation/exp2/pickupForTest/7/7-79.jpg\n",
      "testing images = 80\n",
      "/home/tang/mnistTransformation/exp2/pickupForTest/7/7-80.jpg\n",
      "testing images = 81\n",
      "/home/tang/mnistTransformation/exp2/pickupForTest/6/6-81.jpg\n",
      "testing images = 82\n",
      "/home/tang/mnistTransformation/exp2/pickupForTest/2/2-82.jpg\n",
      "testing images = 83\n",
      "/home/tang/mnistTransformation/exp2/pickupForTest/7/7-83.jpg\n",
      "testing images = 84\n",
      "/home/tang/mnistTransformation/exp2/pickupForTest/8/8-84.jpg\n",
      "testing images = 85\n",
      "/home/tang/mnistTransformation/exp2/pickupForTest/4/4-85.jpg\n",
      "testing images = 86\n",
      "/home/tang/mnistTransformation/exp2/pickupForTest/7/7-86.jpg\n",
      "testing images = 87\n",
      "/home/tang/mnistTransformation/exp2/pickupForTest/3/3-87.jpg\n",
      "testing images = 88\n",
      "/home/tang/mnistTransformation/exp2/pickupForTest/6/6-88.jpg\n",
      "testing images = 89\n",
      "/home/tang/mnistTransformation/exp2/pickupForTest/1/1-89.jpg\n",
      "testing images = 90\n",
      "/home/tang/mnistTransformation/exp2/pickupForTest/3/3-90.jpg\n",
      "testing images = 91\n",
      "/home/tang/mnistTransformation/exp2/pickupForTest/6/6-91.jpg\n",
      "testing images = 92\n",
      "/home/tang/mnistTransformation/exp2/pickupForTest/9/9-92.jpg\n",
      "testing images = 93\n",
      "/home/tang/mnistTransformation/exp2/pickupForTest/3/3-93.jpg\n",
      "testing images = 94\n",
      "/home/tang/mnistTransformation/exp2/pickupForTest/1/1-94.jpg\n",
      "testing images = 95\n",
      "/home/tang/mnistTransformation/exp2/pickupForTest/4/4-95.jpg\n",
      "testing images = 96\n",
      "/home/tang/mnistTransformation/exp2/pickupForTest/1/1-96.jpg\n",
      "testing images = 97\n",
      "/home/tang/mnistTransformation/exp2/pickupForTest/7/7-97.jpg\n",
      "testing images = 98\n",
      "/home/tang/mnistTransformation/exp2/pickupForTest/6/6-98.jpg\n",
      "testing images = 99\n",
      "/home/tang/mnistTransformation/exp2/pickupForTest/9/9-99.jpg\n",
      "testing images = 100\n"
     ]
    }
   ],
   "source": [
    "#################sampling data for testing\n",
    "load_test_images = X_test_reshape\n",
    "load_test_labels = Y_test_reshape\n",
    "count=0\n",
    "for x in range(0,TEST_DATA_NUMBER):\n",
    "    img = load_test_images[x]\n",
    "    filename=test_data_load_directory+'/'+str(load_test_labels[x])+'/'+str(load_test_labels[x])+'-'+str(x)+'.jpg'\n",
    "    plt.imsave(filename,img)\n",
    "    print(filename)\n",
    "    count+=1\n",
    "    print('testing images = '+str(count))\n",
    "\n"
   ]
  },
  {
   "cell_type": "code",
   "execution_count": null,
   "metadata": {
    "scrolled": true
   },
   "outputs": [],
   "source": []
  },
  {
   "cell_type": "code",
   "execution_count": 31,
   "metadata": {
    "scrolled": true
   },
   "outputs": [],
   "source": [
    "pppimages,ppplabels = load_data(train_data_load_directory)\n",
    "tttimages,tttlabels = load_data(test_data_load_directory)"
   ]
  },
  {
   "cell_type": "code",
   "execution_count": 35,
   "metadata": {},
   "outputs": [
    {
     "data": {
      "text/plain": [
       "100"
      ]
     },
     "execution_count": 35,
     "metadata": {},
     "output_type": "execute_result"
    }
   ],
   "source": [
    "len(tttlabels)"
   ]
  },
  {
   "cell_type": "code",
   "execution_count": 32,
   "metadata": {},
   "outputs": [
    {
     "data": {
      "text/plain": [
       "(array([15., 11., 14., 11., 14.,  7., 10.,  8.,  2.,  8.]),\n",
       " array([0. , 0.9, 1.8, 2.7, 3.6, 4.5, 5.4, 6.3, 7.2, 8.1, 9. ]),\n",
       " <a list of 10 Patch objects>)"
      ]
     },
     "execution_count": 32,
     "metadata": {},
     "output_type": "execute_result"
    },
    {
     "data": {
      "image/png": "[encoded data removed]",
      "text/plain": [
       "<Figure size 432x288 with 1 Axes>"
      ]
     },
     "metadata": {},
     "output_type": "display_data"
    }
   ],
   "source": [
    "plt.hist(tttlabels,10)"
   ]
  },
  {
   "cell_type": "code",
   "execution_count": 33,
   "metadata": {},
   "outputs": [
    {
     "data": {
      "text/plain": [
       "(array([57., 56., 58., 62., 51., 40., 50., 68., 56., 52.]),\n",
       " array([0. , 0.9, 1.8, 2.7, 3.6, 4.5, 5.4, 6.3, 7.2, 8.1, 9. ]),\n",
       " <a list of 10 Patch objects>)"
      ]
     },
     "execution_count": 33,
     "metadata": {},
     "output_type": "execute_result"
    },
    {
     "data": {
      "image/png": "[encoded data removed]",
      "text/plain": [
       "<Figure size 432x288 with 1 Axes>"
      ]
     },
     "metadata": {},
     "output_type": "display_data"
    }
   ],
   "source": [
    "plt.hist(ppplabels,10)"
   ]
  },
  {
   "cell_type": "code",
   "execution_count": null,
   "metadata": {},
   "outputs": [],
   "source": []
  },
  {
   "cell_type": "code",
   "execution_count": null,
   "metadata": {},
   "outputs": [],
   "source": []
  },
  {
   "cell_type": "code",
   "execution_count": 18,
   "metadata": {},
   "outputs": [
    {
     "data": {
      "text/plain": [
       "0"
      ]
     },
     "execution_count": 18,
     "metadata": {},
     "output_type": "execute_result"
    }
   ],
   "source": [
    "len(train_images)"
   ]
  },
  {
   "cell_type": "code",
   "execution_count": null,
   "metadata": {},
   "outputs": [],
   "source": []
  },
  {
   "cell_type": "code",
   "execution_count": null,
   "metadata": {},
   "outputs": [],
   "source": []
  },
  {
   "cell_type": "code",
   "execution_count": null,
   "metadata": {},
   "outputs": [],
   "source": []
  },
  {
   "cell_type": "code",
   "execution_count": null,
   "metadata": {},
   "outputs": [],
   "source": []
  },
  {
   "cell_type": "code",
   "execution_count": null,
   "metadata": {},
   "outputs": [],
   "source": []
  },
  {
   "cell_type": "code",
   "execution_count": null,
   "metadata": {},
   "outputs": [],
   "source": []
  },
  {
   "cell_type": "code",
   "execution_count": null,
   "metadata": {},
   "outputs": [],
   "source": []
  },
  {
   "cell_type": "code",
   "execution_count": null,
   "metadata": {},
   "outputs": [],
   "source": []
  },
  {
   "cell_type": "code",
   "execution_count": null,
   "metadata": {},
   "outputs": [],
   "source": []
  },
  {
   "cell_type": "code",
   "execution_count": null,
   "metadata": {},
   "outputs": [],
   "source": []
  },
  {
   "cell_type": "code",
   "execution_count": 19,
   "metadata": {
    "scrolled": true
   },
   "outputs": [],
   "source": [
    "from IPython.core.interactiveshell import InteractiveShell\n",
    "InteractiveShell.ast_node_interactivity = \"all\"\n",
    "np.set_printoptions(threshold=np.inf)\n"
   ]
  },
  {
   "cell_type": "code",
   "execution_count": null,
   "metadata": {},
   "outputs": [],
   "source": []
  },
  {
   "cell_type": "code",
   "execution_count": null,
   "metadata": {},
   "outputs": [],
   "source": []
  },
  {
   "cell_type": "code",
   "execution_count": null,
   "metadata": {},
   "outputs": [],
   "source": []
  },
  {
   "cell_type": "code",
   "execution_count": null,
   "metadata": {},
   "outputs": [],
   "source": []
  },
  {
   "cell_type": "code",
   "execution_count": null,
   "metadata": {},
   "outputs": [],
   "source": []
  },
  {
   "cell_type": "code",
   "execution_count": null,
   "metadata": {},
   "outputs": [],
   "source": []
  },
  {
   "cell_type": "code",
   "execution_count": null,
   "metadata": {},
   "outputs": [],
   "source": []
  },
  {
   "cell_type": "code",
   "execution_count": null,
   "metadata": {
    "scrolled": true
   },
   "outputs": [],
   "source": []
  },
  {
   "cell_type": "code",
   "execution_count": 20,
   "metadata": {},
   "outputs": [
    {
     "data": {
      "text/plain": [
       "0"
      ]
     },
     "execution_count": 20,
     "metadata": {},
     "output_type": "execute_result"
    }
   ],
   "source": [
    "len(train_images)"
   ]
  },
  {
   "cell_type": "code",
   "execution_count": 21,
   "metadata": {},
   "outputs": [
    {
     "data": {
      "text/plain": [
       "0"
      ]
     },
     "execution_count": 21,
     "metadata": {},
     "output_type": "execute_result"
    }
   ],
   "source": [
    "len(test_images)"
   ]
  },
  {
   "cell_type": "code",
   "execution_count": 22,
   "metadata": {},
   "outputs": [],
   "source": [
    "train_images=load_train_images\n",
    "train_labels = load_train_labels\n",
    "test_images = load_test_images\n",
    "test_labels = load_test_labels"
   ]
  },
  {
   "cell_type": "code",
   "execution_count": 23,
   "metadata": {},
   "outputs": [
    {
     "data": {
      "text/plain": [
       "(array([5444., 6179., 5470., 5638., 5307., 4987., 5417., 5715., 5389.,\n",
       "        5454.]),\n",
       " array([0. , 0.9, 1.8, 2.7, 3.6, 4.5, 5.4, 6.3, 7.2, 8.1, 9. ]),\n",
       " <a list of 10 Patch objects>)"
      ]
     },
     "execution_count": 23,
     "metadata": {},
     "output_type": "execute_result"
    },
    {
     "data": {
      "image/png": "[encoded data removed]",
      "text/plain": [
       "<Figure size 432x288 with 1 Axes>"
      ]
     },
     "metadata": {},
     "output_type": "display_data"
    }
   ],
   "source": [
    "plt.hist(train_labels,10)"
   ]
  },
  {
   "cell_type": "code",
   "execution_count": null,
   "metadata": {},
   "outputs": [],
   "source": [
    "#gamma_trans\n",
    "#training\n",
    "from skimage import data, exposure, img_as_float\n",
    "\n",
    "i=0\n",
    "for p in range(0,TRAIN_DATA_NUMBER):\n",
    "    img = train_images[i]\n",
    "    for j in range(0,GAMMA_IMAGES):#8 images with gamma\n",
    "        random_factor = random.uniform(0,10)\n",
    "        output_random_factor = str(int(random_factor*100))\n",
    "        img_corrected = exposure.adjust_gamma(img,random_factor)\n",
    "    \n",
    "        filename=train_data_directory+'/'+str(train_labels[i])+'/'+ str(train_labels[i])+'_gamma_'+'_'+output_random_factor+'.jpg'\n",
    "        plt.imsave(filename, img_corrected)\n",
    "        total_train_images +=1\n",
    "    print(filename)\n",
    "    i+=1\n",
    "print('train_images='+str(total_train_images))\n",
    "#testing\n",
    "\n",
    "i=0\n",
    "for p in range(0,TEST_DATA_NUMBER):\n",
    "    img = test_images[i]\n",
    "    for j in range(0,GAMMA_IMAGES):#8 images with gamma\n",
    "        random_factor = random.uniform(0,10)\n",
    "        output_random_factor = str(int(random_factor*100))\n",
    "        img_corrected = exposure.adjust_gamma(img,random_factor)\n",
    "    \n",
    "        filename=test_data_directory+'/'+str(test_labels[i])+'/'+ str(test_labels[i])+'_gamma_'+'_'+output_random_factor+'.jpg'\n",
    "        plt.imsave(filename, img_corrected)\n",
    "        total_test_images = 1 + total_test_images\n",
    "    #print(filename)\n",
    "    i+=1\n",
    "print('test_images='+str(total_test_images))"
   ]
  },
  {
   "cell_type": "code",
   "execution_count": 25,
   "metadata": {},
   "outputs": [],
   "source": [
    "#plt.imshow(iii)\n"
   ]
  },
  {
   "cell_type": "code",
   "execution_count": null,
   "metadata": {},
   "outputs": [],
   "source": [
    "#rotation rotated 15 degree\n",
    "#training\n",
    "i=0\n",
    "\n",
    "for p in range(0,TRAIN_DATA_NUMBER):\n",
    "    img = train_images[i]\n",
    "    \n",
    "    for j in range(0,ROTATE_IMAGES):#max 45\n",
    "        random_factor = random.uniform(-30,30)\n",
    "        random_factor_output = str(int(random_factor*10))\n",
    "        img_copy = img/255.0000\n",
    "        \n",
    "        img_rotated=rotate(img_copy,random_factor,resize=False)\n",
    "        \n",
    "        img_rotated15 = 255.0000*(img_rotated)\n",
    "    \n",
    "        filename=train_data_directory+'/'+str(train_labels[i])+'/'+str(train_labels[i])+'_rotate_'+'_'+random_factor_output+'.jpg'\n",
    "        plt.imsave(filename, img_rotated15)\n",
    "        total_train_images +=1\n",
    "    print(filename)\n",
    "    i+=1\n",
    "print('train_images='+str(total_train_images))\n",
    "print('###########################################################################################################################')\n",
    "#testing\n",
    "i=0\n",
    "\n",
    "for p in range(0,TEST_DATA_NUMBER):\n",
    "    img = test_images[i]\n",
    "    \n",
    "    for j in range(0,ROTATE_IMAGES):#max 45\n",
    "        random_factor = random.uniform(-30,30)\n",
    "        random_factor_output = str(int(random_factor*10))\n",
    "        img_copy = img/255.0000\n",
    "        \n",
    "        img_rotated=rotate(img_copy,random_factor,resize=False)\n",
    "        \n",
    "        img_rotated15 = 255.0000*(img_rotated)\n",
    "    \n",
    "        filename=test_data_directory+'/'+str(test_labels[i])+'/'+str(test_labels[i])+'_rotate_'+'_'+random_factor_output+'.jpg'\n",
    "        plt.imsave(filename, img_rotated15)\n",
    "        total_test_images +=1\n",
    "    print(filename)\n",
    "    i+=1\n",
    "print('test_images='+str(total_test_images))"
   ]
  },
  {
   "cell_type": "code",
   "execution_count": null,
   "metadata": {},
   "outputs": [],
   "source": [
    "#translation\n",
    "#training\n",
    "\n",
    "from skimage import transform as transform\n",
    "i=0\n",
    "for p in range(0,TRAIN_DATA_NUMBER):\n",
    "    img = train_images[i]/255.0000\n",
    "    \n",
    "    for j in range(0,TRANSLATION_IMAGES):#max 45\n",
    "        random_H = random.uniform(-HEIGHT/2,HEIGHT/2)\n",
    "        random_W = random.uniform(-WIDTH/2,WIDTH/2)\n",
    "        tform = transform.SimilarityTransform(scale=1, rotation=0,\n",
    "                               translation=(random_H, random_W))\n",
    "        \n",
    "        \n",
    "        img_translationing=transform.warp(img,tform)\n",
    "        img_translation = img_translationing*255.0000\n",
    "        H_index = str(int(random_H))\n",
    "        W_index = str(int(random_W))\n",
    "        filename=train_data_directory+'/'+str(train_labels[i])+'/'+str(train_labels[i])+'_translation_'+'_'+H_index+'_'+W_index+'.jpg'\n",
    "        plt.imsave(filename, img_translation)\n",
    "        total_train_images +=1\n",
    "    print(filename)\n",
    "    i+=1\n",
    "print('train_images='+str(total_train_images))\n",
    "print('###########################################################################################################################')\n",
    "#testing\n",
    "i=0\n",
    "for p in range(0,TEST_DATA_NUMBER):\n",
    "    img = test_images[i]/255.0000\n",
    "    \n",
    "    for j in range(0,ROTATE_IMAGES):#max 45\n",
    "        random_H = random.uniform(-HEIGHT/2,HEIGHT/2)\n",
    "        random_W = random.uniform(-WIDTH/2,WIDTH/2)\n",
    "        tform = transform.SimilarityTransform(scale=1, rotation=0,\n",
    "                               translation=(random_H, random_W))       \n",
    "        img_translationing=transform.warp(img,tform)\n",
    "        img_translation = img_translationing*255.0000\n",
    "        H_index = str(int(random_H))\n",
    "        W_index = str(int(random_W))\n",
    "        filename=test_data_directory+'/'+str(test_labels[i])+'/'+str(test_labels[i])+'_translation_'+'_'+H_index+'_'+W_index+'.jpg'\n",
    "        plt.imsave(filename, img_translation)\n",
    "        total_test_images+=1\n",
    "    print(filename)\n",
    "    i+=1\n",
    "print('test_images='+str(total_test_images))"
   ]
  },
  {
   "cell_type": "code",
   "execution_count": null,
   "metadata": {},
   "outputs": [],
   "source": []
  },
  {
   "cell_type": "code",
   "execution_count": null,
   "metadata": {},
   "outputs": [],
   "source": []
  },
  {
   "cell_type": "code",
   "execution_count": null,
   "metadata": {},
   "outputs": [],
   "source": [
    "#training\n",
    "i=0\n",
    "for p in range(0,TRAIN_DATA_NUMBER):\n",
    "    img = train_images[i]/255.0000\n",
    "    for j in range(0,SHEAR_IMAGES):#50 degree max\n",
    "        random_factor = random.uniform(-1,1)\n",
    "        random_factor_output = str(int(random_factor*100))\n",
    "        tform = transform.AffineTransform(scale=(1.0, 1.0), rotation=0, shear=random_factor,\n",
    "                        translation=(0, 0))\n",
    "        img_shearing=transform.warp(img,tform)\n",
    "        img_sheared = img_shearing*255.0000\n",
    "\n",
    "        filename=train_data_directory+'/'+str(train_labels[i])+'/'+str(train_labels[i])+'_sheared_'+'_00'+random_factor_output+'.jpg'\n",
    "        plt.imsave(filename, img_sheared)\n",
    "        total_train_images+=1\n",
    "    print(filename)\n",
    "    #if img_sheared.shape!=(28,28,3):\n",
    "        #print(img_sheared.shape)\n",
    "    i+=1\n",
    "print('train_images='+str(total_train_images))\n",
    "#testing\n",
    "\n",
    "i=0\n",
    "for p in range(0,TEST_DATA_NUMBER):\n",
    "    img = test_images[i]/255.0000\n",
    "    for j in range(0,SHEAR_IMAGES):#50 degree max\n",
    "        random_factor = random.uniform(-1,1)\n",
    "        random_factor_output = str(int(random_factor*100))\n",
    "        tform = transform.AffineTransform(scale=(1.0, 1.0), rotation=0, shear=random_factor,\n",
    "                        translation=(0, 0))\n",
    "        img_shearing=transform.warp(img,tform)\n",
    "        img_sheared = img_shearing*255.0000\n",
    "\n",
    "        filename=train_data_directory+'/'+str(test_labels[i])+'/'+str(test_labels[i])+'_sheared_'+'_00'+random_factor_output+'.jpg'\n",
    "        plt.imsave(filename, img_sheared)\n",
    "        total_test_images+=1\n",
    "    print(filename)\n",
    "    #if img_sheared.shape!=(28,28,3):\n",
    "        #print(img_sheared.shape)\n",
    "    i+=1\n",
    "print('test_images='+str(total_test_images))"
   ]
  },
  {
   "cell_type": "code",
   "execution_count": null,
   "metadata": {},
   "outputs": [],
   "source": []
  },
  {
   "cell_type": "code",
   "execution_count": null,
   "metadata": {},
   "outputs": [],
   "source": [
    "#training\n",
    "i=0\n",
    "for p in range(0,TRAIN_DATA_NUMBER):\n",
    "    img = train_images[i]/255.0000\n",
    "    for j in range(0,AFFINITIVIE_IMAGES):#50 degree max\n",
    "        scale_factor_h = random.uniform(-2,2)\n",
    "        scale_factor_w = random.uniform(-2,2)\n",
    "        rotation_factor = random.uniform(-30,30)\n",
    "        shear_factor = random.uniform(-1,1)\n",
    "\n",
    "        translation_factorH = random.uniform(-HEIGHT/2,HEIGHT/2)\n",
    "        translation_factorW = random.uniform(-WIDTH/2,WIDTH/2)\n",
    "        \n",
    "        tform = transform.AffineTransform(scale=(scale_factor_h, scale_factor_w), rotation=rotation_factor, shear=shear_factor, translation=(translation_factorH, translation_factorW))\n",
    "        img_affining=transform.warp(img,tform)\n",
    "        img_affined = img_shearing*255.0000\n",
    "        shear_index = str(int(shear_factor*100))\n",
    "        sx = str(int(scale_factor_w))\n",
    "        sy = str(int(scale_factor_h))\n",
    "        rotation_index = str(int(random.uniform(-30,30)))\n",
    "        th= str(int(translation_factorH))\n",
    "        tw = str(int(translation_factorW))\n",
    "\n",
    "        \n",
    "    \n",
    "    \n",
    "        filename=train_data_directory+'/'+str(train_labels[i])+'/'+str(train_labels[i])+'_affined_shear'+shear_index+'_sx_'+sx+'_sy_'+sy+ '_r_'+rotation_index+'_th_'+th+'_tw_'+tw+'.jpg'\n",
    "        plt.imsave(filename, img_affined)\n",
    "        total_train_images+=1\n",
    "    print(filename)\n",
    "    #if img_sheared.shape!=(28,28,3):\n",
    "        #print(img_sheared.shape)\n",
    "    i+=1\n",
    "print('train_images='+str(total_train_images))\n",
    "#testing\n",
    "i=0\n",
    "for p in range(0,TEST_DATA_NUMBER):\n",
    "    img = test_images[i]/255.0000\n",
    "    for j in range(0,AFFINITIVIE_IMAGES):#50 degree max\n",
    "        scale_factor_h = random.uniform(-2,2)\n",
    "        scale_factor_w = random.uniform(-2,2)\n",
    "        rotation_factor = random.uniform(-30,30)\n",
    "        shear_factor = random.uniform(-1,1)\n",
    "\n",
    "        translation_factorH = random.uniform(-HEIGHT/2,HEIGHT/2)\n",
    "        translation_factorW = random.uniform(-WIDTH/2,WIDTH/2)\n",
    "        \n",
    "        tform = transform.AffineTransform(scale=(scale_factor_h, scale_factor_w), rotation=rotation_factor, shear=shear_factor, translation=(translation_factorH, translation_factorW))\n",
    "        img_affining=transform.warp(img,tform)\n",
    "        img_affined = img_shearing*255.0000\n",
    "        shear_index = str(int(shear_factor*100))\n",
    "        sx = str(int(scale_factor_w))\n",
    "        sy = str(int(scale_factor_h))\n",
    "        rotation_index = str(int(random.uniform(-30,30)))\n",
    "        th= str(int(translation_factorH))\n",
    "        tw = str(int(translation_factorW))\n",
    "\n",
    "        \n",
    "    \n",
    "    \n",
    "        filename=test_data_directory+'/'+str(test_labels[i])+'/'+str(test_labels[i])+'_affined_shear'+shear_index+'_sx_'+sx+'_sy_'+sy+ '_r_'+rotation_index+'_th_'+th+'_tw_'+tw+'.jpg'\n",
    "        plt.imsave(filename, img_affined)\n",
    "        total_test_images+=1\n",
    "    print(filename)\n",
    "    #if img_sheared.shape!=(28,28,3):\n",
    "        #print(img_sheared.shape)\n",
    "    i+=1\n",
    "print('test_images='+str(total_test_images))"
   ]
  },
  {
   "cell_type": "code",
   "execution_count": 30,
   "metadata": {},
   "outputs": [
    {
     "name": "stdout",
     "output_type": "stream",
     "text": [
      "3500\n",
      "20350\n"
     ]
    }
   ],
   "source": [
    "print(total_test_images)\n",
    "print(total_train_images)"
   ]
  },
  {
   "cell_type": "code",
   "execution_count": 37,
   "metadata": {},
   "outputs": [],
   "source": [
    "after_train_images,after_train_labels =load_data(train_data_directory)\n",
    "after_test_images,after_test_labels =load_data(test_data_directory)"
   ]
  },
  {
   "cell_type": "code",
   "execution_count": 39,
   "metadata": {},
   "outputs": [
    {
     "data": {
      "text/plain": [
       "(array([1703., 1678., 1732., 1810., 1558., 1282., 1509., 1960., 1667.,\n",
       "        1578.]),\n",
       " array([0. , 0.9, 1.8, 2.7, 3.6, 4.5, 5.4, 6.3, 7.2, 8.1, 9. ]),\n",
       " <a list of 10 Patch objects>)"
      ]
     },
     "execution_count": 39,
     "metadata": {},
     "output_type": "execute_result"
    },
    {
     "data": {
      "image/png": "[encoded data removed]",
      "text/plain": [
       "<Figure size 432x288 with 1 Axes>"
      ]
     },
     "metadata": {},
     "output_type": "display_data"
    }
   ],
   "source": [
    "plt.hist(after_train_labels,10)"
   ]
  },
  {
   "cell_type": "code",
   "execution_count": 40,
   "metadata": {},
   "outputs": [
    {
     "data": {
      "text/plain": [
       "16477"
      ]
     },
     "execution_count": 40,
     "metadata": {},
     "output_type": "execute_result"
    }
   ],
   "source": [
    "len(after_train_labels)"
   ]
  },
  {
   "cell_type": "code",
   "execution_count": 41,
   "metadata": {},
   "outputs": [
    {
     "data": {
      "text/plain": [
       "2921"
      ]
     },
     "execution_count": 41,
     "metadata": {},
     "output_type": "execute_result"
    }
   ],
   "source": [
    "len(after_test_labels)"
   ]
  },
  {
   "cell_type": "code",
   "execution_count": null,
   "metadata": {},
   "outputs": [],
   "source": []
  },
  {
   "cell_type": "code",
   "execution_count": null,
   "metadata": {},
   "outputs": [],
   "source": []
  },
  {
   "cell_type": "code",
   "execution_count": null,
   "metadata": {},
   "outputs": [],
   "source": []
  },
  {
   "cell_type": "code",
   "execution_count": null,
   "metadata": {},
   "outputs": [],
   "source": []
  },
  {
   "cell_type": "code",
   "execution_count": null,
   "metadata": {},
   "outputs": [],
   "source": []
  }
 ],
 "metadata": {
  "kernelspec": {
   "display_name": "Python 3",
   "language": "python",
   "name": "python3"
  },
  "language_info": {
   "codemirror_mode": {
    "name": "ipython",
    "version": 3
   },
   "file_extension": ".py",
   "mimetype": "text/x-python",
   "name": "python",
   "nbconvert_exporter": "python",
   "pygments_lexer": "ipython3",
   "version": "3.5.2"
  }
 },
 "nbformat": 4,
 "nbformat_minor": 2
}
