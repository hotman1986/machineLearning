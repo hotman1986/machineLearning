{
 "cells": [
  {
   "cell_type": "code",
   "execution_count": 24,
   "metadata": {},
   "outputs": [],
   "source": [
    "import tensorflow as tf\n",
    "from tensorflow.examples.tutorials.mnist import input_data"
   ]
  },
  {
   "cell_type": "code",
   "execution_count": 25,
   "metadata": {},
   "outputs": [
    {
     "name": "stdout",
     "output_type": "stream",
     "text": [
      "Extracting MNIST_data/train-images-idx3-ubyte.gz\n",
      "Extracting MNIST_data/train-labels-idx1-ubyte.gz\n",
      "Extracting MNIST_data/t10k-images-idx3-ubyte.gz\n",
      "Extracting MNIST_data/t10k-labels-idx1-ubyte.gz\n"
     ]
    }
   ],
   "source": [
    "mnist = input_data.read_data_sets('MNIST_data',one_hot = True)"
   ]
  },
  {
   "cell_type": "code",
   "execution_count": 26,
   "metadata": {},
   "outputs": [],
   "source": [
    "#60000张训练集，10000张测试集合，5000验证集合\n",
    "#每个批次大小\n",
    "batch_size = 100\n",
    "#计算一下一共有多少个批次\n",
    "n_batch = mnist.train.num_examples // batch_size"
   ]
  },
  {
   "cell_type": "code",
   "execution_count": 27,
   "metadata": {},
   "outputs": [
    {
     "name": "stdout",
     "output_type": "stream",
     "text": [
      "55000\n",
      "10000\n",
      "5000\n"
     ]
    }
   ],
   "source": [
    "print(mnist.train.num_examples)\n",
    "print(mnist.test.num_examples)\n",
    "print(mnist.validation.num_examples)"
   ]
  },
  {
   "cell_type": "code",
   "execution_count": 38,
   "metadata": {},
   "outputs": [],
   "source": [
    "#定义两个placeholder \n",
    "#把批次的图片传进去，开始是100张一次的传送，直到最后\n",
    "x = tf.placeholder(tf.float32,[None,784])\n",
    "y = tf.placeholder(tf.float32,[None,10])\n",
    "#定义一个dropout的值\n",
    "keep_prob = tf.placeholder(tf.float32)\n",
    "#第一层\n",
    "W1 = tf.Variable(tf.truncated_normal([784,1000],stddev=0.1))#改成截断正太分布\n",
    "b1 = tf.Variable(tf.zeros([1000])+0.1)\n",
    "output1 = tf.matmul(x,W1) + b1\n",
    "L1 = tf.nn.tanh(output1)\n",
    "#L1为第一层的输出，keep_prob为1的话就是不丢失，如果为0的话就是全丢，如果为0.5的话就是丢失50%的神经元\n",
    "L1_drop = tf.nn.dropout(L1,keep_prob)\n",
    "\n",
    "#第二层\n",
    "W2 = tf.Variable(tf.truncated_normal([1000,2000],stddev=0.1))\n",
    "b2 = tf.Variable(tf.zeros([2000])+0.2)\n",
    "output2 = tf.matmul(L1_drop,W2)+b2\n",
    "L2 = tf.nn.tanh(output2)\n",
    "#L1为第一层的输出，keep_prob为1的话就是不丢失，如果为0的话就是全丢，如果为0.5的话就是丢失50%的神经元\n",
    "L2_drop = tf.nn.dropout(L2,keep_prob)\n",
    "\n",
    "\n",
    "\n",
    "\n",
    "\n",
    "\n",
    "\n",
    "\n",
    "\n",
    "#第三层\n",
    "W3 = tf.Variable(tf.truncated_normal([2000,1000],stddev=0.1))\n",
    "b3 = tf.Variable(tf.zeros([1000])+0.1)\n",
    "output3 = tf.matmul(L2_drop,W3)+b3\n",
    "L3 = tf.nn.tanh(output3)\n",
    "#L1为第一层的输出，keep_prob为1的话就是不丢失，如果为0的话就是全丢，如果为0.5的话就是丢失50%的神经元\n",
    "L3_drop = tf.nn.dropout(L3,keep_prob)\n",
    "\n",
    "# 第四层\n",
    "W4 = tf.Variable(tf.truncated_normal([1000,10],stddev=0.1))\n",
    "b4 = tf.Variable(tf.zeros([10])+0.1)\n",
    "output4 = tf.matmul(L3_drop,W4)+ b4\n",
    "\n",
    "\n",
    "\n",
    "\n",
    "\n",
    "\n",
    "\n",
    "\n",
    "\n",
    "\n",
    "\n",
    "\n",
    "\n",
    "\n",
    "\n",
    "#预测分类\n",
    "prediction = tf.nn.softmax(output4)\n",
    "\n",
    "#定义一个损失函数\n",
    "loss = tf.reduce_mean(tf.nn.softmax_cross_entropy_with_logits(labels=y,logits = prediction))#联合交叉熵\n",
    "#loss = tf.reduce_mean(tf.square(y-prediction))\n",
    "#定义一个方法来收敛神经网络，使用梯度下降法,学习率=0.1\n",
    "train_step = tf.train.GradientDescentOptimizer(0.1).minimize(loss)\n",
    "#train_step = tf.train.AdamOptimizer(0.1).minimize(loss)\n",
    "#初始化\n",
    "init = tf.global_variables_initializer()\n",
    "\n",
    "#定义一个求准确率的方法\n",
    "#如果有两个相同的就会返回TRUE，不相同就返回false，然后就依次存入correct_prediction\n",
    "correct_prediction = tf.equal(tf.argmax(y,1),tf.argmax(prediction,1))#argmax返回一维张量中的最大值\n",
    "\n",
    "#求准确率\n",
    "#首先把bool值转化成32位的浮点数，然后求平均值\n",
    "accuracy = tf.reduce_mean(tf.cast(correct_prediction,tf.float32))"
   ]
  },
  {
   "cell_type": "code",
   "execution_count": 39,
   "metadata": {},
   "outputs": [
    {
     "name": "stdout",
     "output_type": "stream",
     "text": [
      "迭代次数=0测试准确率=0.8605训练准确率=0.8532364\n",
      "迭代次数=1测试准确率=0.8911训练准确率=0.8849091\n",
      "迭代次数=2测试准确率=0.8979训练准确率=0.8970909\n",
      "迭代次数=3测试准确率=0.9057训练准确率=0.9062\n",
      "迭代次数=4测试准确率=0.9119训练准确率=0.9105273\n",
      "迭代次数=5测试准确率=0.9136训练准确率=0.91505456\n",
      "迭代次数=6测试准确率=0.9185训练准确率=0.9181091\n",
      "迭代次数=7测试准确率=0.9222训练准确率=0.92252725\n",
      "迭代次数=8测试准确率=0.9237训练准确率=0.9272364\n",
      "迭代次数=9测试准确率=0.9236训练准确率=0.9280546\n"
     ]
    }
   ],
   "source": [
    "with tf.Session() as sess:\n",
    "    sess.run(init)\n",
    "    for epoch in range(10):#把所有的图片训练20次\n",
    "        #一批一批的迭代图片，一次迭代100张，一共运行n_batch次\n",
    "        for batch in range(n_batch):\n",
    "            #每次传入一百张图片\n",
    "            batch_xs,batch_ys = mnist.train.next_batch(batch_size)\n",
    "            sess.run(train_step,feed_dict={x:batch_xs,y:batch_ys,keep_prob:0.7})\n",
    "        \n",
    "        acc = sess.run(accuracy,feed_dict={x:mnist.test.images,y:mnist.test.labels,keep_prob:0.7})\n",
    "        train_acc = sess.run(accuracy,feed_dict={x:mnist.train.images,y:mnist.train.labels,keep_prob:0.7})\n",
    "        print('迭代次数=' + str(epoch) + '测试准确率=' + str(acc)+'训练准确率='+ str(train_acc))"
   ]
  },
  {
   "cell_type": "code",
   "execution_count": null,
   "metadata": {},
   "outputs": [],
   "source": [
    "#没有dropout\n",
    "# 迭代次数=0测试准确率=0.9206训练准确率=0.93176365\n",
    "# 迭代次数=1测试准确率=0.9374训练准确率=0.9562727\n",
    "# 迭代次数=2测试准确率=0.9439训练准确率=0.9672727\n",
    "# 迭代次数=3测试准确率=0.949训练准确率=0.97418183\n",
    "# 迭代次数=4测试准确率=0.9522训练准确率=0.97894543\n",
    "# 迭代次数=5测试准确率=0.954训练准确率=0.98218185\n",
    "# 迭代次数=6测试准确率=0.9564训练准确率=0.98441815\n",
    "# 迭代次数=7测试准确率=0.9579训练准确率=0.9864\n",
    "# 迭代次数=8测试准确率=0.9596训练准确率=0.9878182\n",
    "# 迭代次数=9测试准确率=0.9604训练准确率=0.98896366\n",
    "# 迭代次数=10测试准确率=0.9607训练准确率=0.9899455"
   ]
  },
  {
   "cell_type": "code",
   "execution_count": null,
   "metadata": {},
   "outputs": [],
   "source": [
    "#dropout 30%\n",
    "# 迭代次数=0测试准确率=0.7816训练准确率=0.7733455\n",
    "# 迭代次数=1测试准确率=0.8386训练准确率=0.8309636\n",
    "# 迭代次数=2测试准确率=0.8661训练准确率=0.8569273\n",
    "# 迭代次数=3测试准确率=0.8733训练准确率=0.8697818\n",
    "# 迭代次数=4测试准确率=0.8858训练准确率=0.87929094\n",
    "# 迭代次数=5测试准确率=0.8919训练准确率=0.8839273\n",
    "# 迭代次数=6测试准确率=0.8963训练准确率=0.8907818\n",
    "# 迭代次数=7测试准确率=0.9008训练准确率=0.8932727\n",
    "# 迭代次数=8测试准确率=0.902训练准确率=0.8970182\n",
    "# 迭代次数=9测试准确率=0.9087训练准确率=0.9028364"
   ]
  },
  {
   "cell_type": "code",
   "execution_count": null,
   "metadata": {},
   "outputs": [],
   "source": []
  },
  {
   "cell_type": "code",
   "execution_count": null,
   "metadata": {},
   "outputs": [],
   "source": []
  },
  {
   "cell_type": "code",
   "execution_count": null,
   "metadata": {},
   "outputs": [],
   "source": []
  },
  {
   "cell_type": "code",
   "execution_count": null,
   "metadata": {},
   "outputs": [],
   "source": []
  },
  {
   "cell_type": "code",
   "execution_count": null,
   "metadata": {},
   "outputs": [],
   "source": []
  },
  {
   "cell_type": "code",
   "execution_count": null,
   "metadata": {},
   "outputs": [],
   "source": []
  },
  {
   "cell_type": "code",
   "execution_count": null,
   "metadata": {},
   "outputs": [],
   "source": []
  },
  {
   "cell_type": "code",
   "execution_count": null,
   "metadata": {},
   "outputs": [],
   "source": []
  },
  {
   "cell_type": "code",
   "execution_count": null,
   "metadata": {},
   "outputs": [],
   "source": []
  },
  {
   "cell_type": "code",
   "execution_count": null,
   "metadata": {},
   "outputs": [],
   "source": []
  },
  {
   "cell_type": "code",
   "execution_count": null,
   "metadata": {},
   "outputs": [],
   "source": []
  },
  {
   "cell_type": "code",
   "execution_count": null,
   "metadata": {},
   "outputs": [],
   "source": []
  },
  {
   "cell_type": "code",
   "execution_count": null,
   "metadata": {},
   "outputs": [],
   "source": []
  },
  {
   "cell_type": "code",
   "execution_count": null,
   "metadata": {},
   "outputs": [],
   "source": []
  },
  {
   "cell_type": "code",
   "execution_count": null,
   "metadata": {},
   "outputs": [],
   "source": []
  },
  {
   "cell_type": "code",
   "execution_count": null,
   "metadata": {},
   "outputs": [],
   "source": []
  }
 ],
 "metadata": {
  "kernelspec": {
   "display_name": "Python 3",
   "language": "python",
   "name": "python3"
  },
  "language_info": {
   "codemirror_mode": {
    "name": "ipython",
    "version": 3
   },
   "file_extension": ".py",
   "mimetype": "text/x-python",
   "name": "python",
   "nbconvert_exporter": "python",
   "pygments_lexer": "ipython3",
   "version": "3.5.2"
  }
 },
 "nbformat": 4,
 "nbformat_minor": 2
}
