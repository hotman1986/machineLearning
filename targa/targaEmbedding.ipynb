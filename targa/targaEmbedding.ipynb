{
 "cells": [
  {
   "cell_type": "code",
   "execution_count": 1,
   "metadata": {},
   "outputs": [
    {
     "name": "stderr",
     "output_type": "stream",
     "text": [
      "/usr/local/lib/python3.5/dist-packages/h5py/__init__.py:36: FutureWarning: Conversion of the second argument of issubdtype from `float` to `np.floating` is deprecated. In future, it will be treated as `np.float64 == np.dtype(float).type`.\n",
      "  from ._conv import register_converters as _register_converters\n"
     ]
    }
   ],
   "source": [
    "%matplotlib inline\n",
    "import matplotlib.pyplot as plt\n",
    "import tensorflow as tf\n",
    "import numpy as np\n",
    "from sklearn.metrics import confusion_matrix"
   ]
  },
  {
   "cell_type": "code",
   "execution_count": 2,
   "metadata": {},
   "outputs": [
    {
     "data": {
      "text/plain": [
       "'1.6.0'"
      ]
     },
     "execution_count": 2,
     "metadata": {},
     "output_type": "execute_result"
    }
   ],
   "source": [
    "tf.__version__"
   ]
  },
  {
   "cell_type": "code",
   "execution_count": 3,
   "metadata": {},
   "outputs": [
    {
     "name": "stderr",
     "output_type": "stream",
     "text": [
      "Using TensorFlow backend.\n"
     ]
    }
   ],
   "source": [
    "#!/usr/bin/python3\n",
    "# -*- coding: utf-8 -*-\n",
    "from __future__ import division, print_function, unicode_literals\n",
    "import tensorflow as tf\n",
    "from time import time\n",
    "from keras.utils import np_utils#one hot\n",
    "import os\n",
    "from skimage import data\n",
    "from skimage import transform\n",
    "import skimage\n",
    "import numpy as np\n",
    "\n",
    "# Download the dataset\n",
    "\n",
    "\n",
    "def load_data(data_directory):\n",
    "    directories = [d for d in os.listdir(data_directory) \n",
    "                  if os.path.isdir(os.path.join(data_directory,d))]\n",
    "    labels=[]\n",
    "    images=[]\n",
    "    for d in directories:\n",
    "        label_directory = os.path.join(data_directory,d)\n",
    "        file_names = [os.path.join(label_directory,f)\n",
    "                     for f in os.listdir(label_directory)\n",
    "                     if f.endswith('.jpg')]\n",
    "        for f in file_names:\n",
    "            images.append(skimage.data.imread(f))\n",
    "            labels.append(str(d))\n",
    "    return images, labels\n",
    "\n",
    "\n",
    "\n",
    "\n"
   ]
  },
  {
   "cell_type": "code",
   "execution_count": 4,
   "metadata": {},
   "outputs": [],
   "source": [
    "ROOT_PATH = '/home/tang/targa/BigSize1/'\n",
    "train_data_directory = os.path.join(ROOT_PATH, \"train\")\n",
    "validation_data_directory = os.path.join(ROOT_PATH, \"val\")\n",
    "test_data_directory = os.path.join(ROOT_PATH, \"test\")\n",
    "train_images,train_labels = load_data(train_data_directory)\n",
    "test_images,test_labels = load_data(test_data_directory)\n",
    "validation_images,validation_labels = load_data(validation_data_directory)"
   ]
  },
  {
   "cell_type": "code",
   "execution_count": 5,
   "metadata": {},
   "outputs": [],
   "source": [
    "#encoding trY teY\n",
    "from numpy import array\n",
    "#from numpy import argmax\n",
    "#from keras.utils import to_categorical\n",
    "from numpy import array\n",
    "from numpy import argmax\n",
    "from sklearn.preprocessing import LabelEncoder\n",
    "from sklearn.preprocessing import OneHotEncoder\n",
    "# define example\n",
    "\n",
    "#train_labels = np_utils.to_categorical(train_labels,num_classes = None)\n",
    "#test_labels = np_utils.to_categorical(test_labels,num_classes = None)\n",
    "trL,teL,valL=array(train_labels),array(test_labels),array(validation_labels)\n",
    "label_encoder = LabelEncoder()"
   ]
  },
  {
   "cell_type": "code",
   "execution_count": 6,
   "metadata": {},
   "outputs": [],
   "source": [
    "integer_encoded_trL = label_encoder.fit_transform(trL)\n",
    "integer_encoded_teL = label_encoder.fit_transform(teL)\n",
    "integer_encoded_valL = label_encoder.fit_transform(valL)"
   ]
  },
  {
   "cell_type": "code",
   "execution_count": 7,
   "metadata": {},
   "outputs": [],
   "source": [
    "trainLabels = np_utils.to_categorical(integer_encoded_trL,num_classes = 32)\n",
    "testLabels = np_utils.to_categorical(integer_encoded_teL,num_classes = 32)\n",
    "validationLabels = np_utils.to_categorical(integer_encoded_valL,num_classes = 32)"
   ]
  },
  {
   "cell_type": "code",
   "execution_count": 8,
   "metadata": {},
   "outputs": [
    {
     "name": "stdout",
     "output_type": "stream",
     "text": [
      "0\n",
      "18\n",
      "J\n",
      "--------------------\n",
      "1\n",
      "18\n",
      "J\n",
      "--------------------\n",
      "2\n",
      "14\n",
      "E\n",
      "--------------------\n",
      "3\n",
      "7\n",
      "7\n",
      "--------------------\n",
      "4\n",
      "10\n",
      "A\n",
      "--------------------\n",
      "5\n",
      "25\n",
      "S\n",
      "--------------------\n",
      "6\n",
      "11\n",
      "B\n",
      "--------------------\n",
      "7\n",
      "20\n",
      "L\n",
      "--------------------\n",
      "8\n",
      "26\n",
      "T\n",
      "--------------------\n",
      "9\n",
      "31\n",
      "Z\n",
      "--------------------\n",
      "10\n",
      "23\n",
      "P\n",
      "--------------------\n",
      "11\n",
      "19\n",
      "K\n",
      "--------------------\n",
      "12\n",
      "12\n",
      "C\n",
      "--------------------\n",
      "13\n",
      "15\n",
      "F\n",
      "--------------------\n",
      "14\n",
      "22\n",
      "N\n",
      "--------------------\n",
      "15\n",
      "28\n",
      "W\n",
      "--------------------\n",
      "16\n",
      "9\n",
      "9\n",
      "--------------------\n",
      "17\n",
      "30\n",
      "Y\n",
      "--------------------\n",
      "18\n",
      "1\n",
      "1\n",
      "--------------------\n",
      "19\n",
      "3\n",
      "3\n",
      "--------------------\n",
      "20\n",
      "4\n",
      "4\n",
      "--------------------\n",
      "21\n",
      "24\n",
      "R\n",
      "--------------------\n",
      "22\n",
      "5\n",
      "5\n",
      "--------------------\n",
      "23\n",
      "16\n",
      "G\n",
      "--------------------\n",
      "24\n",
      "27\n",
      "V\n",
      "--------------------\n",
      "25\n",
      "6\n",
      "6\n",
      "--------------------\n",
      "26\n",
      "0\n",
      "0\n",
      "--------------------\n",
      "27\n",
      "13\n",
      "D\n",
      "--------------------\n",
      "28\n",
      "21\n",
      "M\n",
      "--------------------\n",
      "29\n",
      "29\n",
      "X\n",
      "--------------------\n",
      "30\n",
      "8\n",
      "8\n",
      "--------------------\n",
      "31\n",
      "2\n",
      "2\n",
      "--------------------\n",
      "32\n",
      "17\n",
      "H\n",
      "--------------------\n"
     ]
    }
   ],
   "source": [
    "num_sample = 1165\n",
    "for n in range(33):\n",
    "    nnnn = num_sample*n\n",
    "    print(n)\n",
    "    print(integer_encoded_teL[nnnn])\n",
    "    print(teL[nnnn])\n",
    "    print('--------------------')"
   ]
  },
  {
   "cell_type": "code",
   "execution_count": 9,
   "metadata": {},
   "outputs": [
    {
     "data": {
      "text/plain": [
       "'J'"
      ]
     },
     "execution_count": 9,
     "metadata": {},
     "output_type": "execute_result"
    }
   ],
   "source": [
    "teL[1000]"
   ]
  },
  {
   "cell_type": "code",
   "execution_count": 10,
   "metadata": {},
   "outputs": [
    {
     "data": {
      "text/plain": [
       "array([0., 0., 0., 0., 0., 0., 0., 0., 0., 0., 0., 0., 0., 0., 1., 0., 0.,\n",
       "       0., 0., 0., 0., 0., 0., 0., 0., 0., 0., 0., 0., 0., 0., 0.])"
      ]
     },
     "execution_count": 10,
     "metadata": {},
     "output_type": "execute_result"
    }
   ],
   "source": [
    "testLabels[2000]"
   ]
  },
  {
   "cell_type": "code",
   "execution_count": null,
   "metadata": {},
   "outputs": [],
   "source": []
  },
  {
   "cell_type": "code",
   "execution_count": null,
   "metadata": {},
   "outputs": [],
   "source": []
  },
  {
   "cell_type": "code",
   "execution_count": 11,
   "metadata": {},
   "outputs": [],
   "source": [
    "########convert rgb images into black and white\n",
    "#convert images into size of vector\n",
    "from skimage.color import rgb2gray\n",
    "\n",
    "trainImages = rgb2gray(np.array(train_images))\n",
    "testImages = rgb2gray(np.array(test_images))\n",
    "valImages = rgb2gray(np.array(validation_images))\n",
    "train_flat_images = np.reshape(trainImages,(len(trainImages),160*90))\n",
    "test_flat_images = np.reshape(testImages,(len(testImages),160*90))\n",
    "val_flat_images = np.reshape(valImages,(len(valImages),160*90))"
   ]
  },
  {
   "cell_type": "code",
   "execution_count": null,
   "metadata": {},
   "outputs": [],
   "source": []
  },
  {
   "cell_type": "code",
   "execution_count": null,
   "metadata": {},
   "outputs": [],
   "source": []
  },
  {
   "cell_type": "code",
   "execution_count": null,
   "metadata": {},
   "outputs": [],
   "source": []
  },
  {
   "cell_type": "code",
   "execution_count": null,
   "metadata": {},
   "outputs": [],
   "source": []
  },
  {
   "cell_type": "code",
   "execution_count": null,
   "metadata": {},
   "outputs": [],
   "source": []
  },
  {
   "cell_type": "code",
   "execution_count": null,
   "metadata": {},
   "outputs": [],
   "source": []
  },
  {
   "cell_type": "code",
   "execution_count": null,
   "metadata": {},
   "outputs": [],
   "source": []
  },
  {
   "cell_type": "code",
   "execution_count": null,
   "metadata": {},
   "outputs": [],
   "source": []
  },
  {
   "cell_type": "code",
   "execution_count": null,
   "metadata": {},
   "outputs": [],
   "source": []
  },
  {
   "cell_type": "code",
   "execution_count": null,
   "metadata": {},
   "outputs": [],
   "source": []
  },
  {
   "cell_type": "code",
   "execution_count": null,
   "metadata": {},
   "outputs": [],
   "source": []
  },
  {
   "cell_type": "code",
   "execution_count": null,
   "metadata": {},
   "outputs": [],
   "source": []
  },
  {
   "cell_type": "code",
   "execution_count": null,
   "metadata": {},
   "outputs": [],
   "source": []
  },
  {
   "cell_type": "code",
   "execution_count": 73,
   "metadata": {},
   "outputs": [
    {
     "data": {
      "text/plain": [
       "(37312, 160, 90)"
      ]
     },
     "execution_count": 73,
     "metadata": {},
     "output_type": "execute_result"
    }
   ],
   "source": [
    "valImages.shape"
   ]
  },
  {
   "cell_type": "code",
   "execution_count": 74,
   "metadata": {},
   "outputs": [
    {
     "data": {
      "text/plain": [
       "(14400,)"
      ]
     },
     "execution_count": 74,
     "metadata": {},
     "output_type": "execute_result"
    }
   ],
   "source": [
    "train_flat_images[0].shape"
   ]
  },
  {
   "cell_type": "code",
   "execution_count": 75,
   "metadata": {},
   "outputs": [
    {
     "name": "stdout",
     "output_type": "stream",
     "text": [
      "train images shape:\t\t(37312, 14400)\n",
      "test images shape:\t\t(37312, 14400)\n",
      "val images shape:\t\t(37312, 14400)\n"
     ]
    }
   ],
   "source": [
    "print('train images shape:\\t\\t{}'.format(train_flat_images.shape))\n",
    "\n",
    "print('test images shape:\\t\\t{}'.format(test_flat_images.shape))\n",
    "\n",
    "print('val images shape:\\t\\t{}'.format(val_flat_images.shape))"
   ]
  },
  {
   "cell_type": "code",
   "execution_count": 76,
   "metadata": {},
   "outputs": [
    {
     "data": {
      "text/plain": [
       "18"
      ]
     },
     "execution_count": 76,
     "metadata": {},
     "output_type": "execute_result"
    }
   ],
   "source": [
    "integer_encoded_trL[0]"
   ]
  },
  {
   "cell_type": "code",
   "execution_count": 77,
   "metadata": {},
   "outputs": [
    {
     "data": {
      "text/plain": [
       "array([0., 0., 0., 0., 0., 0., 0., 0., 0., 0., 0., 0., 0., 0., 0., 0., 0.,\n",
       "       0., 1., 0., 0., 0., 0., 0., 0., 0., 0., 0., 0., 0., 0., 0.])"
      ]
     },
     "execution_count": 77,
     "metadata": {},
     "output_type": "execute_result"
    }
   ],
   "source": [
    "validationLabels[0]"
   ]
  },
  {
   "cell_type": "code",
   "execution_count": 78,
   "metadata": {},
   "outputs": [
    {
     "name": "stdout",
     "output_type": "stream",
     "text": [
      "Size of:\n",
      "- Training-set:\t\t37312\n",
      "- Test-set:\t\t37312\n",
      "- Validation-set:\t37312\n"
     ]
    }
   ],
   "source": [
    "print('Size of:')\n",
    "print('- Training-set:\\t\\t{}'.format(len(trainLabels)))\n",
    "print('- Test-set:\\t\\t{}'.format(len(testLabels)))\n",
    "print('- Validation-set:\\t{}'.format(len(validation_labels)))"
   ]
  },
  {
   "cell_type": "code",
   "execution_count": 79,
   "metadata": {},
   "outputs": [],
   "source": [
    "def next_batch(num, data, labels):\n",
    "    '''\n",
    "    Return a total of `num` random samples and labels. \n",
    "    '''\n",
    "    idx = np.arange(0 , len(data))\n",
    "    np.random.shuffle(idx)\n",
    "    idx = idx[:num]\n",
    "    data_shuffle = [data[ i] for i in idx]\n",
    "    labels_shuffle = [labels[ i] for i in idx]\n",
    "\n",
    "    return np.asarray(data_shuffle), np.asarray(labels_shuffle)"
   ]
  },
  {
   "cell_type": "code",
   "execution_count": 80,
   "metadata": {},
   "outputs": [],
   "source": [
    "def create_sprite_image(images):\n",
    "    \"\"\"Returns a sprite image consisting of images passed as argument. Images should be count x width x height\"\"\"\n",
    "    if isinstance(images, list):\n",
    "        images = np.array(images)\n",
    "    img_h = images.shape[1]\n",
    "    img_w = images.shape[2]\n",
    "    n_plots = int(np.ceil(np.sqrt(images.shape[0])))\n",
    "    \n",
    "    \n",
    "    spriteimage = np.ones((img_h * n_plots ,img_w * n_plots ))\n",
    "    \n",
    "    for i in range(n_plots):\n",
    "        for j in range(n_plots):\n",
    "            this_filter = i * n_plots + j\n",
    "            if this_filter < images.shape[0]:\n",
    "                this_img = images[this_filter]\n",
    "                spriteimage[i * img_h:(i + 1) * img_h,\n",
    "                  j * img_w:(j + 1) * img_w] = this_img\n",
    "    \n",
    "    return spriteimage\n",
    "\n",
    "def vector_to_matrix_mnist(mnist_digits):\n",
    "    \"\"\"Reshapes normal mnist digit (batch,28*28) to matrix (batch,28,28)\"\"\"\n",
    "    return np.reshape(mnist_digits,(-1,160,90))\n",
    "\n",
    "def invert_grayscale(mnist_digits):\n",
    "    \"\"\" Makes black white, and white black \"\"\"\n",
    "    return 1-mnist_digits"
   ]
  },
  {
   "cell_type": "code",
   "execution_count": 81,
   "metadata": {},
   "outputs": [],
   "source": [
    "batch_size = 100\n",
    "\n",
    "n_batch = len(trainLabels)//batch_size\n",
    "lr = tf.Variable(0.001,dtype = tf.float32)\n",
    "LOG_DIR = '/home/DL/tensorflow/targaLogs/'\n",
    "NAME_TO_VISUALISE_VARIABLE = \"targaembedding\"\n",
    "TO_EMBED_COUNT = 100"
   ]
  },
  {
   "cell_type": "code",
   "execution_count": 82,
   "metadata": {},
   "outputs": [],
   "source": [
    "path_for_targa_sprites =  os.path.join(LOG_DIR,'targa_32k_sprite.png')\n",
    "path_for_targa_metadata =  os.path.join(LOG_DIR,'metadataTarga.tsv')"
   ]
  },
  {
   "cell_type": "code",
   "execution_count": 83,
   "metadata": {},
   "outputs": [],
   "source": [
    "batch_xs,batch_ys = next_batch(TO_EMBED_COUNT,train_flat_images,trainLabels)"
   ]
  },
  {
   "cell_type": "code",
   "execution_count": 84,
   "metadata": {},
   "outputs": [],
   "source": [
    "embedding_var = tf.Variable(batch_xs, name=NAME_TO_VISUALISE_VARIABLE)\n",
    "summary_writer = tf.summary.FileWriter(LOG_DIR)"
   ]
  },
  {
   "cell_type": "code",
   "execution_count": 85,
   "metadata": {},
   "outputs": [
    {
     "data": {
      "text/plain": [
       "100"
      ]
     },
     "execution_count": 85,
     "metadata": {},
     "output_type": "execute_result"
    }
   ],
   "source": [
    "batch_xs.shape[0]"
   ]
  },
  {
   "cell_type": "code",
   "execution_count": 86,
   "metadata": {},
   "outputs": [],
   "source": [
    "%matplotlib inline\n",
    "import matplotlib.pyplot as plt\n",
    "import tensorflow as tf\n",
    "import numpy as np\n",
    "import os\n",
    "\n",
    "from tensorflow.contrib.tensorboard.plugins import projector"
   ]
  },
  {
   "cell_type": "code",
   "execution_count": 87,
   "metadata": {},
   "outputs": [],
   "source": [
    "config = projector.ProjectorConfig()\n",
    "embedding = config.embeddings.add()\n",
    "embedding.tensor_name = embedding_var.name\n",
    "\n",
    "# Specify where you find the metadata\n",
    "embedding.metadata_path = path_for_targa_metadata #'metadata.tsv'\n",
    "\n",
    "# Specify where you find the sprite (we will create this later)\n",
    "embedding.sprite.image_path = path_for_targa_sprites #'mnistdigits.png'\n",
    "embedding.sprite.single_image_dim.extend([160,90])\n",
    "\n",
    "# Say that you want to visualise the embeddings\n",
    "projector.visualize_embeddings(summary_writer, config)"
   ]
  },
  {
   "cell_type": "code",
   "execution_count": 88,
   "metadata": {},
   "outputs": [
    {
     "data": {
      "text/plain": [
       "'/home/DL/tensorflow/targaLogs/model.ckpt-1'"
      ]
     },
     "execution_count": 88,
     "metadata": {},
     "output_type": "execute_result"
    }
   ],
   "source": [
    "sess = tf.InteractiveSession()\n",
    "sess.run(tf.global_variables_initializer())\n",
    "saver = tf.train.Saver()\n",
    "saver.save(sess, os.path.join(LOG_DIR, \"model.ckpt\"), 1)"
   ]
  },
  {
   "cell_type": "code",
   "execution_count": 89,
   "metadata": {},
   "outputs": [
    {
     "data": {
      "text/plain": [
       "<matplotlib.image.AxesImage at 0x7f5bf89e6eb8>"
      ]
     },
     "execution_count": 89,
     "metadata": {},
     "output_type": "execute_result"
    },
    {
     "data": {
      "image/png": "[encoded data removed]",
      "text/plain": [
       "<Figure size 432x288 with 1 Axes>"
      ]
     },
     "metadata": {},
     "output_type": "display_data"
    }
   ],
   "source": [
    "to_visualise = batch_xs\n",
    "to_visualise = vector_to_matrix_mnist(to_visualise)\n",
    "#to_visualise = invert_grayscale(to_visualise)\n",
    "\n",
    "sprite_image = create_sprite_image(to_visualise)\n",
    "\n",
    "#plt.imsave(path_for_targa_sprites,sprite_image,cmap='gray')\n",
    "#plt.imshow(sprite_image,cmap='gray')\n",
    "plt.imsave(path_for_targa_sprites,sprite_image)\n",
    "plt.imshow(sprite_image)"
   ]
  },
  {
   "cell_type": "code",
   "execution_count": 90,
   "metadata": {},
   "outputs": [],
   "source": [
    "#把编码数字转化成为字母\n",
    "with tf.Session() as sess:\n",
    "    ppp=sess.run(tf.argmax(batch_ys[:],1))\n",
    "    \n",
    "    transfercode=[trL[num_sample * p] for p in ppp]\n",
    "        "
   ]
  },
  {
   "cell_type": "code",
   "execution_count": null,
   "metadata": {},
   "outputs": [],
   "source": []
  },
  {
   "cell_type": "code",
   "execution_count": 91,
   "metadata": {},
   "outputs": [],
   "source": [
    "\n",
    "    \n",
    "with open(path_for_targa_metadata,'w') as f:\n",
    "    f.write(\"Index\\tLabel\\n\")\n",
    "    for index,label in enumerate(transfercode):\n",
    "        #f.write(\"%s\\t%s\\n\" % (index,label))\n",
    "        f.write(\"%s\\n\" % (label))\n",
    "\n",
    "        "
   ]
  },
  {
   "cell_type": "code",
   "execution_count": 92,
   "metadata": {},
   "outputs": [],
   "source": [
    "ppp=tf.argmax(batch_ys[:],1)"
   ]
  },
  {
   "cell_type": "code",
   "execution_count": null,
   "metadata": {},
   "outputs": [],
   "source": []
  },
  {
   "cell_type": "code",
   "execution_count": 93,
   "metadata": {},
   "outputs": [
    {
     "name": "stdout",
     "output_type": "stream",
     "text": [
      "[ 2 28  7  9 24 21 31 28  1 27 18 16 22  2 30 22  3  5 15  9 26 10  8 22\n",
      " 20  9 24  6 20 27 17  1 17 10 30  9 31 23 26  0 20 14 11  7  4  2  1  1\n",
      " 28 20  1 17 25  8 18 17 18  7  5  5 31  8 24  9  4 10 26 27 22  8  2 17\n",
      " 24  8  4  6 14  7 30 15  1  4 17 28 11  2  4 21 29 10 28 20  4 12 12 31\n",
      " 15 27 16 17]\n"
     ]
    }
   ],
   "source": [
    "with tf.Session() as sess:\n",
    "    print(sess.run(ppp))\n",
    "    "
   ]
  },
  {
   "cell_type": "code",
   "execution_count": null,
   "metadata": {},
   "outputs": [],
   "source": []
  },
  {
   "cell_type": "code",
   "execution_count": null,
   "metadata": {},
   "outputs": [],
   "source": []
  },
  {
   "cell_type": "code",
   "execution_count": null,
   "metadata": {},
   "outputs": [],
   "source": []
  },
  {
   "cell_type": "code",
   "execution_count": null,
   "metadata": {},
   "outputs": [],
   "source": []
  },
  {
   "cell_type": "code",
   "execution_count": null,
   "metadata": {},
   "outputs": [],
   "source": []
  },
  {
   "cell_type": "code",
   "execution_count": null,
   "metadata": {},
   "outputs": [],
   "source": []
  },
  {
   "cell_type": "code",
   "execution_count": null,
   "metadata": {},
   "outputs": [],
   "source": []
  },
  {
   "cell_type": "code",
   "execution_count": null,
   "metadata": {},
   "outputs": [],
   "source": []
  },
  {
   "cell_type": "code",
   "execution_count": null,
   "metadata": {},
   "outputs": [],
   "source": []
  },
  {
   "cell_type": "code",
   "execution_count": null,
   "metadata": {},
   "outputs": [],
   "source": []
  },
  {
   "cell_type": "code",
   "execution_count": null,
   "metadata": {},
   "outputs": [],
   "source": []
  },
  {
   "cell_type": "code",
   "execution_count": null,
   "metadata": {},
   "outputs": [],
   "source": []
  },
  {
   "cell_type": "code",
   "execution_count": null,
   "metadata": {},
   "outputs": [],
   "source": [
    "##########################################################################################################\n"
   ]
  },
  {
   "cell_type": "code",
   "execution_count": 16,
   "metadata": {},
   "outputs": [
    {
     "name": "stdout",
     "output_type": "stream",
     "text": [
      "WARNING:tensorflow:From <ipython-input-16-51da54fc121c>:63: softmax_cross_entropy_with_logits (from tensorflow.python.ops.nn_ops) is deprecated and will be removed in a future version.\n",
      "Instructions for updating:\n",
      "\n",
      "Future major versions of TensorFlow will allow gradients to flow\n",
      "into the labels input on backprop by default.\n",
      "\n",
      "See tf.nn.softmax_cross_entropy_with_logits_v2.\n",
      "\n"
     ]
    }
   ],
   "source": [
    "#命名空间\n",
    "with tf.name_scope('input'):\n",
    "    #定义两个placeholder \n",
    "    #把批次的图片传进去，开始是100张一次的传送，直到最后\n",
    "    x = tf.placeholder(tf.float32,[None,14400],name='x-input')\n",
    "    y = tf.placeholder(tf.float32,[None,32],name='y-input')\n",
    "    #定义一个dropout的值\n",
    "    keep_prob = tf.placeholder(tf.float32,name = 'non-dropout-rate')\n",
    "with tf.name_scope('layer'):\n",
    "    with tf.name_scope('W1'):\n",
    "        #第一层\n",
    "        W1 = tf.Variable(tf.truncated_normal([14400,1000],stddev=0.1),name='W1')#改成截断正太分布\n",
    "    with tf.name_scope('b1'):\n",
    "        \n",
    "        b1 = tf.Variable(tf.zeros([1000])+0.1,name = 'b1')\n",
    "    with tf.name_scope('out1'):\n",
    "        \n",
    "        output1 = tf.matmul(x,W1) + b1\n",
    "    with tf.name_scope('L1'):\n",
    "        L1 = tf.nn.tanh(output1)\n",
    "    with tf.name_scope('L1-drop'):\n",
    "        #L1为第一层的输出，keep_prob为1的话就是不丢失，如果为0的话就是全丢，如果为0.5的话就是丢失50%的神经元\n",
    "        L1_drop = tf.nn.dropout(L1,keep_prob)\n",
    "\n",
    "    with tf.name_scope('W2'):\n",
    "        #第二层\n",
    "        W2 = tf.Variable(tf.truncated_normal([1000,2000],stddev=0.1),name='W2')\n",
    "    with tf.name_scope('b2'):\n",
    "        b2 = tf.Variable(tf.zeros([2000])+0.2,name='b2')\n",
    "    with tf.name_scope('output2'):\n",
    "        output2 = tf.matmul(L1_drop,W2)+b2\n",
    "    with tf.name_scope('L2'):\n",
    "        \n",
    "        L2 = tf.nn.tanh(output2)\n",
    "    with tf.name_scope('L2_drop'):\n",
    "        #L1为第一层的输出，keep_prob为1的话就是不丢失，如果为0的话就是全丢，如果为0.5的话就是丢失50%的神经元\n",
    "        L2_drop = tf.nn.dropout(L2,keep_prob)\n",
    "\n",
    "    with tf.name_scope('W3'):\n",
    "        #第三层\n",
    "        W3 = tf.Variable(tf.truncated_normal([2000,1000],stddev=0.1),name='W3')\n",
    "    with tf.name_scope('b3'):\n",
    "        b3 = tf.Variable(tf.zeros([1000])+0.1,name='b3')\n",
    "    with tf.name_scope('output3'):   \n",
    "        output3 = tf.matmul(L2_drop,W3)+b3\n",
    "    with tf.name_scope('L3'):\n",
    "        L3 = tf.nn.tanh(output3)\n",
    "    with tf.name_scope('L3-drop'):\n",
    "        #L1为第一层的输出，keep_prob为1的话就是不丢失，如果为0的话就是全丢，如果为0.5的话就是丢失50%的神经元\n",
    "        L3_drop = tf.nn.dropout(L3,keep_prob)\n",
    "    with tf.name_scope('W4'):\n",
    "        # 第四层\n",
    "        W4 = tf.Variable(tf.truncated_normal([1000,32],stddev=0.1))\n",
    "    with tf.name_scope('b4'):        \n",
    "        b4 = tf.Variable(tf.zeros([32])+0.1)\n",
    "    with tf.name_scope('output4'):\n",
    "        output4 = tf.matmul(L3_drop,W4)+ b4\n",
    "    with tf.name_scope('softmax'):\n",
    "        #预测分类\n",
    "        prediction = tf.nn.softmax(output4)\n",
    "with tf.name_scope('loss'):\n",
    "    #定义一个损失函数\n",
    "    loss = tf.reduce_mean(tf.nn.softmax_cross_entropy_with_logits(labels=y,logits = prediction))#联合交叉熵\n",
    "    #loss = tf.reduce_mean(tf.square(y-prediction))\n",
    "with tf.name_scope('train'):\n",
    "    #定义一个方法来收敛神经网络，使用梯度下降法,学习率=0.1\n",
    "    train_step = tf.train.GradientDescentOptimizer(0.1).minimize(loss)\n",
    "    #train_step = tf.train.AdamOptimizer(0.1).minimize(loss)\n",
    "#初始化\n",
    "init = tf.global_variables_initializer()\n",
    "with tf.name_scope('accuracy'):\n",
    "    with tf.name_scope('correct-prediction'):\n",
    "        #定义一个求准确率的方法\n",
    "        #如果有两个相同的就会返回TRUE，不相同就返回false，然后就依次存入correct_prediction\n",
    "        correct_prediction = tf.equal(tf.argmax(y,1),tf.argmax(prediction,1))#argmax返回一维张量中的最大值\n",
    "    with tf.name_scope('accuracy'):    \n",
    "        #求准确率\n",
    "        #首先把bool值转化成32位的浮点数，然后求平均值\n",
    "        accuracy = tf.reduce_mean(tf.cast(correct_prediction,tf.float32))"
   ]
  },
  {
   "cell_type": "code",
   "execution_count": 17,
   "metadata": {},
   "outputs": [],
   "source": [
    "def next_batch(num, data, labels):\n",
    "    '''\n",
    "    Return a total of `num` random samples and labels. \n",
    "    '''\n",
    "    idx = np.arange(0 , len(data))\n",
    "    np.random.shuffle(idx)\n",
    "    idx = idx[:num]\n",
    "    data_shuffle = [data[ i] for i in idx]\n",
    "    labels_shuffle = [labels[ i] for i in idx]\n",
    "\n",
    "    return np.asarray(data_shuffle), np.asarray(labels_shuffle)"
   ]
  },
  {
   "cell_type": "code",
   "execution_count": null,
   "metadata": {},
   "outputs": [],
   "source": []
  },
  {
   "cell_type": "code",
   "execution_count": null,
   "metadata": {},
   "outputs": [
    {
     "name": "stdout",
     "output_type": "stream",
     "text": [
      "epoch=0test accuracy=0.3722663train accuracy=0.37583083\n",
      "epoch=1test accuracy=0.4273424train accuracy=0.43114814\n",
      "epoch=2test accuracy=0.45524228train accuracy=0.4611117\n",
      "epoch=3test accuracy=0.4922545train accuracy=0.49828473\n",
      "epoch=4test accuracy=0.49839193train accuracy=0.50710225\n",
      "epoch=5test accuracy=0.50134003train accuracy=0.5103988\n"
     ]
    }
   ],
   "source": [
    "with tf.Session() as sess:\n",
    "    sess.run(init)\n",
    "    #路径和文件名\n",
    "    write = tf.summary.FileWriter('logs/fourLayerFullyConnectedTargaDropout',sess.graph)\n",
    "    for epoch in range(1000):#把所有的图片训练20次\n",
    "        #一批一批的迭代图片，一次迭代100张，一共运行n_batch次\n",
    "        for batch in range(n_batch):\n",
    "            #每次传入一百张图片\n",
    "            batch_xs,batch_ys = next_batch(batch_size,train_flat_images,trainLabels)\n",
    "            sess.run(train_step,feed_dict={x:batch_xs,y:batch_ys,keep_prob:0.8})\n",
    "        \n",
    "        acc = sess.run(accuracy,feed_dict={x:test_flat_images,y:testLabels,keep_prob:1.0})\n",
    "        train_acc = sess.run(accuracy,feed_dict={x:train_flat_images,y:trainLabels,keep_prob:1.0})\n",
    "        print('epoch=' + str(epoch) + 'test accuracy=' + str(acc)+'train accuracy='+ str(train_acc))"
   ]
  },
  {
   "cell_type": "code",
   "execution_count": null,
   "metadata": {},
   "outputs": [],
   "source": [
    "#change learning rate?"
   ]
  },
  {
   "cell_type": "code",
   "execution_count": null,
   "metadata": {},
   "outputs": [],
   "source": []
  },
  {
   "cell_type": "code",
   "execution_count": null,
   "metadata": {},
   "outputs": [],
   "source": []
  },
  {
   "cell_type": "code",
   "execution_count": null,
   "metadata": {},
   "outputs": [],
   "source": []
  },
  {
   "cell_type": "code",
   "execution_count": null,
   "metadata": {},
   "outputs": [],
   "source": []
  },
  {
   "cell_type": "code",
   "execution_count": null,
   "metadata": {},
   "outputs": [],
   "source": []
  },
  {
   "cell_type": "code",
   "execution_count": null,
   "metadata": {},
   "outputs": [],
   "source": []
  },
  {
   "cell_type": "code",
   "execution_count": null,
   "metadata": {},
   "outputs": [],
   "source": []
  }
 ],
 "metadata": {
  "kernelspec": {
   "display_name": "Python 3",
   "language": "python",
   "name": "python3"
  },
  "language_info": {
   "codemirror_mode": {
    "name": "ipython",
    "version": 3
   },
   "file_extension": ".py",
   "mimetype": "text/x-python",
   "name": "python",
   "nbconvert_exporter": "python",
   "pygments_lexer": "ipython3",
   "version": "3.5.2"
  }
 },
 "nbformat": 4,
 "nbformat_minor": 2
}
