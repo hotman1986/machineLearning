{
 "cells": [
  {
   "cell_type": "code",
   "execution_count": 1,
   "metadata": {},
   "outputs": [
    {
     "name": "stderr",
     "output_type": "stream",
     "text": [
      "/usr/local/lib/python3.5/dist-packages/h5py/__init__.py:36: FutureWarning: Conversion of the second argument of issubdtype from `float` to `np.floating` is deprecated. In future, it will be treated as `np.float64 == np.dtype(float).type`.\n",
      "  from ._conv import register_converters as _register_converters\n"
     ]
    }
   ],
   "source": [
    "%matplotlib inline\n",
    "import matplotlib.pyplot as plt\n",
    "import tensorflow as tf\n",
    "import numpy as np\n",
    "from sklearn.metrics import confusion_matrix"
   ]
  },
  {
   "cell_type": "code",
   "execution_count": 2,
   "metadata": {},
   "outputs": [
    {
     "data": {
      "text/plain": [
       "'1.6.0'"
      ]
     },
     "execution_count": 2,
     "metadata": {},
     "output_type": "execute_result"
    }
   ],
   "source": [
    "tf.__version__"
   ]
  },
  {
   "cell_type": "code",
   "execution_count": 3,
   "metadata": {},
   "outputs": [
    {
     "name": "stderr",
     "output_type": "stream",
     "text": [
      "Using TensorFlow backend.\n"
     ]
    }
   ],
   "source": [
    "#!/usr/bin/python3\n",
    "# -*- coding: utf-8 -*-\n",
    "from __future__ import division, print_function, unicode_literals\n",
    "import tensorflow as tf\n",
    "from time import time\n",
    "from keras.utils import np_utils#one hot\n",
    "import os\n",
    "from skimage import data\n",
    "from skimage import transform\n",
    "import skimage\n",
    "import numpy as np\n",
    "\n",
    "# Download the dataset\n",
    "\n",
    "\n",
    "def load_data(data_directory):\n",
    "    directories = [d for d in os.listdir(data_directory) \n",
    "                  if os.path.isdir(os.path.join(data_directory,d))]\n",
    "    labels=[]\n",
    "    images=[]\n",
    "    for d in directories:\n",
    "        label_directory = os.path.join(data_directory,d)\n",
    "        file_names = [os.path.join(label_directory,f)\n",
    "                     for f in os.listdir(label_directory)\n",
    "                     if f.endswith('.jpg')]\n",
    "        for f in file_names:\n",
    "            images.append(skimage.data.imread(f))\n",
    "            labels.append(str(d))\n",
    "    return images, labels\n",
    "\n",
    "\n",
    "\n",
    "\n"
   ]
  },
  {
   "cell_type": "code",
   "execution_count": 4,
   "metadata": {},
   "outputs": [],
   "source": [
    "ROOT_PATH = '/home/tang/targa/BigSize1/'\n",
    "train_data_directory = os.path.join(ROOT_PATH, \"train\")\n",
    "validation_data_directory = os.path.join(ROOT_PATH, \"val\")\n",
    "test_data_directory = os.path.join(ROOT_PATH, \"test\")\n",
    "train_images,train_labels = load_data(train_data_directory)\n",
    "test_images,test_labels = load_data(test_data_directory)\n",
    "validation_images,validation_labels = load_data(validation_data_directory)"
   ]
  },
  {
   "cell_type": "code",
   "execution_count": 5,
   "metadata": {},
   "outputs": [],
   "source": [
    "#encoding trY teY\n",
    "from numpy import array\n",
    "#from numpy import argmax\n",
    "#from keras.utils import to_categorical\n",
    "from numpy import array\n",
    "from numpy import argmax\n",
    "from sklearn.preprocessing import LabelEncoder\n",
    "from sklearn.preprocessing import OneHotEncoder\n",
    "# define example\n",
    "\n",
    "#train_labels = np_utils.to_categorical(train_labels,num_classes = None)\n",
    "#test_labels = np_utils.to_categorical(test_labels,num_classes = None)\n",
    "trL,teL,valL=array(train_labels),array(test_labels),array(validation_labels)\n",
    "label_encoder = LabelEncoder()"
   ]
  },
  {
   "cell_type": "code",
   "execution_count": 6,
   "metadata": {},
   "outputs": [],
   "source": [
    "integer_encoded_trL = label_encoder.fit_transform(trL)\n",
    "integer_encoded_teL = label_encoder.fit_transform(teL)\n",
    "integer_encoded_valL = label_encoder.fit_transform(valL)"
   ]
  },
  {
   "cell_type": "code",
   "execution_count": 7,
   "metadata": {},
   "outputs": [],
   "source": [
    "trainLabels = np_utils.to_categorical(integer_encoded_trL,num_classes = 32)\n",
    "testLabels = np_utils.to_categorical(integer_encoded_teL,num_classes = 32)\n",
    "validationLabels = np_utils.to_categorical(integer_encoded_valL,num_classes = 32)"
   ]
  },
  {
   "cell_type": "code",
   "execution_count": 8,
   "metadata": {},
   "outputs": [],
   "source": [
    "########convert rgb images into black and white\n",
    "#convert images into size of vector\n",
    "from skimage.color import rgb2gray\n",
    "\n",
    "trainImages = rgb2gray(np.array(train_images))\n",
    "testImages = rgb2gray(np.array(test_images))\n",
    "valImages = rgb2gray(np.array(validation_images))\n",
    "train_flat_images = np.reshape(trainImages,(len(trainImages),160*90))\n",
    "test_flat_images = np.reshape(testImages,(len(testImages),160*90))\n",
    "val_flat_images = np.reshape(valImages,(len(valImages),160*90))"
   ]
  },
  {
   "cell_type": "code",
   "execution_count": 9,
   "metadata": {},
   "outputs": [
    {
     "data": {
      "text/plain": [
       "(37312, 160, 90)"
      ]
     },
     "execution_count": 9,
     "metadata": {},
     "output_type": "execute_result"
    }
   ],
   "source": [
    "valImages.shape"
   ]
  },
  {
   "cell_type": "code",
   "execution_count": 10,
   "metadata": {},
   "outputs": [
    {
     "data": {
      "text/plain": [
       "(14400,)"
      ]
     },
     "execution_count": 10,
     "metadata": {},
     "output_type": "execute_result"
    }
   ],
   "source": [
    "train_flat_images[0].shape"
   ]
  },
  {
   "cell_type": "code",
   "execution_count": 11,
   "metadata": {},
   "outputs": [
    {
     "name": "stdout",
     "output_type": "stream",
     "text": [
      "train images shape:\t\t(37312, 14400)\n",
      "test images shape:\t\t(37312, 14400)\n",
      "val images shape:\t\t(37312, 14400)\n"
     ]
    }
   ],
   "source": [
    "print('train images shape:\\t\\t{}'.format(train_flat_images.shape))\n",
    "\n",
    "print('test images shape:\\t\\t{}'.format(test_flat_images.shape))\n",
    "\n",
    "print('val images shape:\\t\\t{}'.format(val_flat_images.shape))"
   ]
  },
  {
   "cell_type": "code",
   "execution_count": 12,
   "metadata": {},
   "outputs": [
    {
     "data": {
      "text/plain": [
       "18"
      ]
     },
     "execution_count": 12,
     "metadata": {},
     "output_type": "execute_result"
    }
   ],
   "source": [
    "integer_encoded_trL[0]"
   ]
  },
  {
   "cell_type": "code",
   "execution_count": 13,
   "metadata": {},
   "outputs": [
    {
     "data": {
      "text/plain": [
       "array([0., 0., 0., 0., 0., 0., 0., 0., 0., 0., 0., 0., 0., 0., 0., 0., 0.,\n",
       "       0., 1., 0., 0., 0., 0., 0., 0., 0., 0., 0., 0., 0., 0., 0.])"
      ]
     },
     "execution_count": 13,
     "metadata": {},
     "output_type": "execute_result"
    }
   ],
   "source": [
    "validationLabels[0]"
   ]
  },
  {
   "cell_type": "code",
   "execution_count": 14,
   "metadata": {},
   "outputs": [
    {
     "name": "stdout",
     "output_type": "stream",
     "text": [
      "Size of:\n",
      "- Training-set:\t\t37312\n",
      "- Test-set:\t\t37312\n",
      "- Validation-set:\t37312\n"
     ]
    }
   ],
   "source": [
    "print('Size of:')\n",
    "print('- Training-set:\\t\\t{}'.format(len(trainLabels)))\n",
    "print('- Test-set:\\t\\t{}'.format(len(testLabels)))\n",
    "print('- Validation-set:\\t{}'.format(len(validation_labels)))"
   ]
  },
  {
   "cell_type": "code",
   "execution_count": 15,
   "metadata": {},
   "outputs": [],
   "source": [
    "batch_size = 100\n",
    "n_batch = len(trainLabels)//batch_size\n",
    "lr = tf.Variable(0.001,dtype = tf.float32)"
   ]
  },
  {
   "cell_type": "code",
   "execution_count": 17,
   "metadata": {},
   "outputs": [
    {
     "name": "stdout",
     "output_type": "stream",
     "text": [
      "WARNING:tensorflow:From <ipython-input-17-7cee3dd8c51c>:45: softmax_cross_entropy_with_logits (from tensorflow.python.ops.nn_ops) is deprecated and will be removed in a future version.\n",
      "Instructions for updating:\n",
      "\n",
      "Future major versions of TensorFlow will allow gradients to flow\n",
      "into the labels input on backprop by default.\n",
      "\n",
      "See tf.nn.softmax_cross_entropy_with_logits_v2.\n",
      "\n"
     ]
    }
   ],
   "source": [
    "#命名空间\n",
    "with tf.name_scope('input'):\n",
    "    #定义两个placeholder \n",
    "    #把批次的图片传进去，开始是100张一次的传送，直到最后\n",
    "    x = tf.placeholder(tf.float32,[None,14400],name='x-input')\n",
    "    y = tf.placeholder(tf.float32,[None,32],name='y-input')\n",
    "#定义一个dropout的值\n",
    "keep_prob = tf.placeholder(tf.float32)\n",
    "#第一层\n",
    "W1 = tf.Variable(tf.truncated_normal([14400,1000],stddev=0.1))#改成截断正太分布\n",
    "b1 = tf.Variable(tf.zeros([1000])+0.1)\n",
    "output1 = tf.matmul(x,W1) + b1\n",
    "L1 = tf.nn.tanh(output1)\n",
    "#L1为第一层的输出，keep_prob为1的话就是不丢失，如果为0的话就是全丢，如果为0.5的话就是丢失50%的神经元\n",
    "L1_drop = tf.nn.dropout(L1,keep_prob)\n",
    "\n",
    "#第二层\n",
    "W2 = tf.Variable(tf.truncated_normal([1000,2000],stddev=0.1))\n",
    "b2 = tf.Variable(tf.zeros([2000])+0.2)\n",
    "output2 = tf.matmul(L1_drop,W2)+b2\n",
    "L2 = tf.nn.tanh(output2)\n",
    "#L1为第一层的输出，keep_prob为1的话就是不丢失，如果为0的话就是全丢，如果为0.5的话就是丢失50%的神经元\n",
    "L2_drop = tf.nn.dropout(L2,keep_prob)\n",
    "\n",
    "\n",
    "\n",
    "#第三层\n",
    "W3 = tf.Variable(tf.truncated_normal([2000,1000],stddev=0.1))\n",
    "b3 = tf.Variable(tf.zeros([1000])+0.1)\n",
    "output3 = tf.matmul(L2_drop,W3)+b3\n",
    "L3 = tf.nn.tanh(output3)\n",
    "#L1为第一层的输出，keep_prob为1的话就是不丢失，如果为0的话就是全丢，如果为0.5的话就是丢失50%的神经元\n",
    "L3_drop = tf.nn.dropout(L3,keep_prob)\n",
    "\n",
    "# 第四层\n",
    "W4 = tf.Variable(tf.truncated_normal([1000,32],stddev=0.1))\n",
    "b4 = tf.Variable(tf.zeros([32])+0.1)\n",
    "output4 = tf.matmul(L3_drop,W4)+ b4\n",
    "\n",
    "\n",
    "#预测分类\n",
    "prediction = tf.nn.softmax(output4)\n",
    "\n",
    "#定义一个损失函数\n",
    "loss = tf.reduce_mean(tf.nn.softmax_cross_entropy_with_logits(labels=y,logits = prediction))#联合交叉熵\n",
    "#loss = tf.reduce_mean(tf.square(y-prediction))\n",
    "#定义一个方法来收敛神经网络，使用梯度下降法,学习率=0.1\n",
    "train_step = tf.train.GradientDescentOptimizer(0.1).minimize(loss)\n",
    "#train_step = tf.train.AdamOptimizer(0.1).minimize(loss)\n",
    "#初始化\n",
    "init = tf.global_variables_initializer()\n",
    "\n",
    "#定义一个求准确率的方法\n",
    "#如果有两个相同的就会返回TRUE，不相同就返回false，然后就依次存入correct_prediction\n",
    "correct_prediction = tf.equal(tf.argmax(y,1),tf.argmax(prediction,1))#argmax返回一维张量中的最大值\n",
    "\n",
    "#求准确率\n",
    "#首先把bool值转化成32位的浮点数，然后求平均值\n",
    "accuracy = tf.reduce_mean(tf.cast(correct_prediction,tf.float32))"
   ]
  },
  {
   "cell_type": "code",
   "execution_count": 18,
   "metadata": {},
   "outputs": [],
   "source": [
    "def next_batch(num, data, labels):\n",
    "    '''\n",
    "    Return a total of `num` random samples and labels. \n",
    "    '''\n",
    "    idx = np.arange(0 , len(data))\n",
    "    np.random.shuffle(idx)\n",
    "    idx = idx[:num]\n",
    "    data_shuffle = [data[ i] for i in idx]\n",
    "    labels_shuffle = [labels[ i] for i in idx]\n",
    "\n",
    "    return np.asarray(data_shuffle), np.asarray(labels_shuffle)"
   ]
  },
  {
   "cell_type": "code",
   "execution_count": null,
   "metadata": {},
   "outputs": [],
   "source": []
  },
  {
   "cell_type": "code",
   "execution_count": 19,
   "metadata": {},
   "outputs": [
    {
     "name": "stdout",
     "output_type": "stream",
     "text": [
      "epoch=0test accuracy=0.5171795train accuracy=0.53192\n",
      "epoch=1test accuracy=0.5598467train accuracy=0.58434284\n",
      "epoch=2test accuracy=0.57670456train accuracy=0.6069629\n",
      "epoch=3test accuracy=0.5854685train accuracy=0.62443715\n",
      "epoch=4test accuracy=0.5978774train accuracy=0.6430639\n",
      "epoch=5test accuracy=0.60278195train accuracy=0.65474916\n",
      "epoch=6test accuracy=0.6079009train accuracy=0.6649603\n",
      "epoch=7test accuracy=0.61095625train accuracy=0.6740191\n",
      "epoch=8test accuracy=0.6138508train accuracy=0.68149656\n",
      "epoch=9test accuracy=0.61816573train accuracy=0.6899121\n",
      "epoch=10test accuracy=0.618943train accuracy=0.69505787\n",
      "epoch=11test accuracy=0.6180853train accuracy=0.697068\n",
      "epoch=12test accuracy=0.6216767train accuracy=0.70516187\n",
      "epoch=13test accuracy=0.6252948train accuracy=0.7110313\n",
      "epoch=14test accuracy=0.6257504train accuracy=0.7146226\n",
      "epoch=15test accuracy=0.6300654train accuracy=0.72180533\n",
      "epoch=16test accuracy=0.6304406train accuracy=0.7248606\n",
      "epoch=17test accuracy=0.6481561train accuracy=0.7445326\n",
      "epoch=18test accuracy=0.6477541train accuracy=0.74673027\n",
      "epoch=19test accuracy=0.6488261train accuracy=0.7494104\n",
      "epoch=20test accuracy=0.64914775train accuracy=0.7529749\n",
      "epoch=21test accuracy=0.6523371train accuracy=0.7566199\n",
      "epoch=22test accuracy=0.65273905train accuracy=0.7604792\n",
      "epoch=23test accuracy=0.6558212train accuracy=0.76345414\n",
      "epoch=24test accuracy=0.65512437train accuracy=0.76471376\n",
      "epoch=25test accuracy=0.65692train accuracy=0.7682783\n",
      "epoch=26test accuracy=0.6560892train accuracy=0.7694575\n",
      "epoch=27test accuracy=0.6579385train accuracy=0.77243245\n",
      "epoch=28test accuracy=0.65954655train accuracy=0.77406734\n",
      "epoch=29test accuracy=0.65702724train accuracy=0.7761578\n",
      "epoch=30test accuracy=0.6589837train accuracy=0.7777927\n",
      "epoch=31test accuracy=0.6600022train accuracy=0.77996355\n",
      "epoch=32test accuracy=0.66107416train accuracy=0.7833941\n",
      "epoch=33test accuracy=0.6616102train accuracy=0.7853774\n",
      "epoch=34test accuracy=0.6653088train accuracy=0.78789663\n",
      "epoch=35test accuracy=0.66616637train accuracy=0.79012114\n",
      "epoch=36test accuracy=0.66865885train accuracy=0.7940073\n",
      "epoch=37test accuracy=0.6720358train accuracy=0.7979202\n",
      "epoch=38test accuracy=0.6720894train accuracy=0.7992871\n",
      "epoch=39test accuracy=0.6727058train accuracy=0.80022514\n",
      "epoch=40test accuracy=0.671741train accuracy=0.8012168\n",
      "epoch=41test accuracy=0.6747695train accuracy=0.8045937\n",
      "epoch=42test accuracy=0.6741531train accuracy=0.80577296\n",
      "epoch=43test accuracy=0.67514473train accuracy=0.8065234\n",
      "epoch=44test accuracy=0.67522514train accuracy=0.80797064\n",
      "epoch=45test accuracy=0.6723038train accuracy=0.8051297\n",
      "epoch=46test accuracy=0.6775568train accuracy=0.81129396\n",
      "epoch=47test accuracy=0.67913806train accuracy=0.81314325\n",
      "epoch=48test accuracy=0.6792989train accuracy=0.81437606\n",
      "epoch=49test accuracy=0.6798349train accuracy=0.81467086\n",
      "epoch=50test accuracy=0.6802101train accuracy=0.81593055\n",
      "epoch=51test accuracy=0.67846805train accuracy=0.81635934\n",
      "epoch=52test accuracy=0.6770476train accuracy=0.81593055\n",
      "epoch=53test accuracy=0.69460225train accuracy=0.8348253\n",
      "epoch=54test accuracy=0.6955939train accuracy=0.8357901\n",
      "epoch=55test accuracy=0.69639796train accuracy=0.83750534\n",
      "epoch=56test accuracy=0.6962103train accuracy=0.83892584\n",
      "epoch=57test accuracy=0.6957815train accuracy=0.8388186\n",
      "epoch=58test accuracy=0.6955135train accuracy=0.8392474\n",
      "epoch=59test accuracy=0.69717515train accuracy=0.84061426\n",
      "epoch=60test accuracy=0.6933426train accuracy=0.8396226\n",
      "epoch=61test accuracy=0.6981132train accuracy=0.8421955\n",
      "epoch=62test accuracy=0.69741637train accuracy=0.8423563\n",
      "epoch=63test accuracy=0.6979524train accuracy=0.8439108\n",
      "epoch=64test accuracy=0.6980864train accuracy=0.8439912\n",
      "epoch=65test accuracy=0.6979524train accuracy=0.8442056\n",
      "epoch=66test accuracy=0.6987832train accuracy=0.84584045\n",
      "epoch=67test accuracy=0.7002573train accuracy=0.8481722\n",
      "epoch=68test accuracy=0.7030714train accuracy=0.85018224\n",
      "epoch=69test accuracy=0.7009273train accuracy=0.849405\n",
      "epoch=70test accuracy=0.7011953train accuracy=0.85101306\n",
      "epoch=71test accuracy=0.7032322train accuracy=0.85197794\n",
      "epoch=72test accuracy=0.70218694train accuracy=0.8524603\n",
      "epoch=73test accuracy=0.7027498train accuracy=0.85278195\n",
      "epoch=74test accuracy=0.70360744train accuracy=0.8541756\n",
      "epoch=75test accuracy=0.7003913train accuracy=0.8529695\n",
      "epoch=76test accuracy=0.7033394train accuracy=0.85500646\n",
      "epoch=77test accuracy=0.7011953train accuracy=0.8548188\n",
      "epoch=78test accuracy=0.7028838train accuracy=0.8563465\n",
      "epoch=79test accuracy=0.7026962train accuracy=0.8563465\n",
      "epoch=80test accuracy=0.7031518train accuracy=0.8571773\n",
      "epoch=81test accuracy=0.7019458train accuracy=0.85741854\n",
      "epoch=82test accuracy=0.703125train accuracy=0.85873175\n",
      "epoch=83test accuracy=0.7058855train accuracy=0.86133146\n",
      "epoch=84test accuracy=0.7057783train accuracy=0.8620819\n",
      "epoch=85test accuracy=0.7065823train accuracy=0.8623231\n",
      "epoch=86test accuracy=0.7060731train accuracy=0.86331475\n",
      "epoch=87test accuracy=0.7045187train accuracy=0.8620015\n",
      "epoch=88test accuracy=0.70618033train accuracy=0.86366314\n",
      "epoch=89test accuracy=0.7046795train accuracy=0.86331475\n",
      "epoch=90test accuracy=0.707842train accuracy=0.8657268\n",
      "epoch=91test accuracy=0.7089676train accuracy=0.8666649\n",
      "epoch=92test accuracy=0.70934284train accuracy=0.86789775\n",
      "epoch=93test accuracy=0.7116745train accuracy=0.8702026\n",
      "epoch=94test accuracy=0.71333617train accuracy=0.87304354\n",
      "epoch=95test accuracy=0.7135774train accuracy=0.87357956\n",
      "epoch=96test accuracy=0.71317536train accuracy=0.87414235\n",
      "epoch=97test accuracy=0.7107633train accuracy=0.87336516\n",
      "epoch=98test accuracy=0.7116745train accuracy=0.87400836\n",
      "epoch=99test accuracy=0.7135774train accuracy=0.8751608\n",
      "epoch=100test accuracy=0.713229train accuracy=0.8750804\n",
      "epoch=101test accuracy=0.71221054train accuracy=0.87548244\n",
      "epoch=102test accuracy=0.7133898train accuracy=0.87607205\n",
      "epoch=103test accuracy=0.71245176train accuracy=0.8749732\n",
      "epoch=104test accuracy=0.71446186train accuracy=0.87674206\n",
      "epoch=105test accuracy=0.7144082train accuracy=0.8772245\n",
      "epoch=106test accuracy=0.71486384train accuracy=0.8774121\n",
      "epoch=107test accuracy=0.71531945train accuracy=0.8782429\n",
      "epoch=108test accuracy=0.7136578train accuracy=0.87813574\n",
      "epoch=109test accuracy=0.71414024train accuracy=0.87843055\n",
      "epoch=110test accuracy=0.7126394train accuracy=0.8771441\n",
      "epoch=111test accuracy=0.71467626train accuracy=0.8792078\n",
      "epoch=112test accuracy=0.7128538train accuracy=0.8780017\n",
      "epoch=113test accuracy=0.7162307train accuracy=0.8801458\n",
      "epoch=114test accuracy=0.7149175train accuracy=0.8801458\n",
      "epoch=115test accuracy=0.7136846train accuracy=0.8796634\n",
      "epoch=116test accuracy=0.7158555train accuracy=0.8823435\n",
      "epoch=117test accuracy=0.7162575train accuracy=0.8825311\n",
      "epoch=118test accuracy=0.7171419train accuracy=0.8833351\n",
      "epoch=119test accuracy=0.7171955train accuracy=0.8834959\n",
      "epoch=120test accuracy=0.7171419train accuracy=0.8839247\n",
      "epoch=121test accuracy=0.71743673train accuracy=0.8839247\n",
      "epoch=122test accuracy=0.71775836train accuracy=0.8839247\n",
      "epoch=123test accuracy=0.7162575train accuracy=0.88373715\n",
      "epoch=124test accuracy=0.71746355train accuracy=0.88467515\n",
      "epoch=125test accuracy=0.7165255train accuracy=0.8846484\n",
      "epoch=126test accuracy=0.71759754train accuracy=0.88483596\n",
      "epoch=127test accuracy=0.71679354train accuracy=0.8850772\n",
      "epoch=128test accuracy=0.7163379train accuracy=0.8847288\n",
      "epoch=129test accuracy=0.7171419train accuracy=0.8854256\n",
      "epoch=130test accuracy=0.7185356train accuracy=0.88625646\n",
      "epoch=131test accuracy=0.7212425train accuracy=0.8895798\n",
      "epoch=132test accuracy=0.72260934train accuracy=0.89006215\n",
      "epoch=133test accuracy=0.7211621train accuracy=0.89000857\n",
      "epoch=134test accuracy=0.72025084train accuracy=0.88947254\n",
      "epoch=135test accuracy=0.72180533train accuracy=0.89014256\n",
      "epoch=136test accuracy=0.72084045train accuracy=0.88968694\n",
      "epoch=137test accuracy=0.72234136train accuracy=0.8908394\n",
      "epoch=138test accuracy=0.7220733train accuracy=0.8909734\n",
      "epoch=139test accuracy=0.7218321train accuracy=0.8910806\n",
      "epoch=140test accuracy=0.72196615train accuracy=0.89124143\n",
      "epoch=141test accuracy=0.7219125train accuracy=0.8916702\n",
      "epoch=142test accuracy=0.7222877train accuracy=0.89177746\n",
      "epoch=143test accuracy=0.7210549train accuracy=0.8913486\n"
     ]
    },
    {
     "name": "stdout",
     "output_type": "stream",
     "text": [
      "epoch=144test accuracy=0.72121567train accuracy=0.89185786\n",
      "epoch=145test accuracy=0.7215641train accuracy=0.89199185\n",
      "epoch=146test accuracy=0.7221269train accuracy=0.8918846\n",
      "epoch=147test accuracy=0.7190984train accuracy=0.8905446\n",
      "epoch=148test accuracy=0.7219125train accuracy=0.89266187\n",
      "epoch=149test accuracy=0.72274333train accuracy=0.89271545\n",
      "epoch=150test accuracy=0.7223681train accuracy=0.8927691\n",
      "epoch=151test accuracy=0.72210014train accuracy=0.8927691\n",
      "epoch=152test accuracy=0.7196344train accuracy=0.89215267\n",
      "epoch=153test accuracy=0.72282374train accuracy=0.8931711\n",
      "epoch=154test accuracy=0.7213765train accuracy=0.8931443\n",
      "epoch=155test accuracy=0.7214837train accuracy=0.8928227\n",
      "epoch=156test accuracy=0.7198489train accuracy=0.8929031\n",
      "epoch=157test accuracy=0.7215641train accuracy=0.8932783\n",
      "epoch=158test accuracy=0.7222073train accuracy=0.8937875\n",
      "epoch=159test accuracy=0.72306496train accuracy=0.8941627\n",
      "epoch=160test accuracy=0.7231722train accuracy=0.89461833\n",
      "epoch=161test accuracy=0.72293097train accuracy=0.89456475\n",
      "epoch=162test accuracy=0.7231722train accuracy=0.894672\n",
      "epoch=163test accuracy=0.72046524train accuracy=0.8938143\n",
      "epoch=164test accuracy=0.7226629train accuracy=0.89502037\n",
      "epoch=165test accuracy=0.72282374train accuracy=0.8950472\n",
      "epoch=166test accuracy=0.7238154train accuracy=0.8951276\n",
      "epoch=167test accuracy=0.72293097train accuracy=0.895342\n",
      "epoch=168test accuracy=0.7225825train accuracy=0.8957976\n",
      "epoch=169test accuracy=0.7224485train accuracy=0.89544916\n",
      "epoch=170test accuracy=0.72038484train accuracy=0.895342\n",
      "epoch=171test accuracy=0.72180533train accuracy=0.8959584\n",
      "epoch=172test accuracy=0.7216713train accuracy=0.8959584\n",
      "epoch=173test accuracy=0.7234134train accuracy=0.8960924\n",
      "epoch=174test accuracy=0.72252893train accuracy=0.89641404\n",
      "epoch=175test accuracy=0.72223413train accuracy=0.89603883\n",
      "epoch=176test accuracy=0.72255576train accuracy=0.8965212\n",
      "epoch=177test accuracy=0.72290415train accuracy=0.8964676\n",
      "epoch=178test accuracy=0.72242177train accuracy=0.896682\n",
      "epoch=179test accuracy=0.72196615train accuracy=0.8970305\n",
      "epoch=180test accuracy=0.7209477train accuracy=0.8955564\n",
      "epoch=181test accuracy=0.7212693train accuracy=0.89657485\n",
      "epoch=182test accuracy=0.72293097train accuracy=0.89735204\n",
      "epoch=183test accuracy=0.72218055train accuracy=0.8972449\n",
      "epoch=184test accuracy=0.72285056train accuracy=0.8981293\n",
      "epoch=185test accuracy=0.7226629train accuracy=0.89756644\n",
      "epoch=186test accuracy=0.72234136train accuracy=0.8978613\n",
      "epoch=187test accuracy=0.7210281train accuracy=0.89700365\n",
      "epoch=188test accuracy=0.72188574train accuracy=0.8978345\n",
      "epoch=189test accuracy=0.72274333train accuracy=0.89802206\n",
      "epoch=190test accuracy=0.72006327train accuracy=0.89727163\n",
      "epoch=191test accuracy=0.7225825train accuracy=0.8985581\n",
      "epoch=192test accuracy=0.72274333train accuracy=0.89818287\n",
      "epoch=193test accuracy=0.72263616train accuracy=0.8985849\n",
      "epoch=194test accuracy=0.7215641train accuracy=0.8979149\n",
      "epoch=195test accuracy=0.72303814train accuracy=0.8990405\n",
      "epoch=196test accuracy=0.722797train accuracy=0.8989333\n",
      "epoch=197test accuracy=0.72188574train accuracy=0.8989601\n",
      "epoch=198test accuracy=0.72298455train accuracy=0.8988261\n",
      "epoch=199test accuracy=0.7235474train accuracy=0.89914775\n"
     ]
    }
   ],
   "source": [
    "with tf.Session() as sess:\n",
    "    sess.run(init)\n",
    "    #路径和文件名\n",
    "    write = tf.summary.FileWriter('logs/fourLayerFullyConnectedTarga',sess.graph)\n",
    "    for epoch in range(200):#把所有的图片训练20次\n",
    "        #一批一批的迭代图片，一次迭代100张，一共运行n_batch次\n",
    "        for batch in range(n_batch):\n",
    "            #每次传入一百张图片\n",
    "            batch_xs,batch_ys = next_batch(batch_size,train_flat_images,trainLabels)\n",
    "            sess.run(train_step,feed_dict={x:batch_xs,y:batch_ys,keep_prob:1.0})\n",
    "        \n",
    "        acc = sess.run(accuracy,feed_dict={x:test_flat_images,y:testLabels,keep_prob:1.0})\n",
    "        train_acc = sess.run(accuracy,feed_dict={x:train_flat_images,y:trainLabels,keep_prob:1.0})\n",
    "        print('epoch=' + str(epoch) + 'test accuracy=' + str(acc)+'train accuracy='+ str(train_acc))"
   ]
  },
  {
   "cell_type": "code",
   "execution_count": null,
   "metadata": {},
   "outputs": [],
   "source": [
    "#change learning rate?"
   ]
  },
  {
   "cell_type": "code",
   "execution_count": null,
   "metadata": {},
   "outputs": [],
   "source": []
  },
  {
   "cell_type": "code",
   "execution_count": null,
   "metadata": {},
   "outputs": [],
   "source": []
  },
  {
   "cell_type": "code",
   "execution_count": null,
   "metadata": {},
   "outputs": [],
   "source": []
  },
  {
   "cell_type": "code",
   "execution_count": null,
   "metadata": {},
   "outputs": [],
   "source": []
  },
  {
   "cell_type": "code",
   "execution_count": null,
   "metadata": {},
   "outputs": [],
   "source": []
  },
  {
   "cell_type": "code",
   "execution_count": null,
   "metadata": {},
   "outputs": [],
   "source": []
  },
  {
   "cell_type": "code",
   "execution_count": null,
   "metadata": {},
   "outputs": [],
   "source": []
  }
 ],
 "metadata": {
  "kernelspec": {
   "display_name": "Python 3",
   "language": "python",
   "name": "python3"
  },
  "language_info": {
   "codemirror_mode": {
    "name": "ipython",
    "version": 3
   },
   "file_extension": ".py",
   "mimetype": "text/x-python",
   "name": "python",
   "nbconvert_exporter": "python",
   "pygments_lexer": "ipython3",
   "version": "3.5.2"
  }
 },
 "nbformat": 4,
 "nbformat_minor": 2
}
