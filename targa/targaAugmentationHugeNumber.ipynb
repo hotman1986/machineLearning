{
 "cells": [
  {
   "cell_type": "code",
   "execution_count": 3,
   "metadata": {},
   "outputs": [
    {
     "name": "stderr",
     "output_type": "stream",
     "text": [
      "/usr/local/lib/python3.5/dist-packages/h5py/__init__.py:36: FutureWarning: Conversion of the second argument of issubdtype from `float` to `np.floating` is deprecated. In future, it will be treated as `np.float64 == np.dtype(float).type`.\n",
      "  from ._conv import register_converters as _register_converters\n"
     ]
    }
   ],
   "source": [
    "import cv2\n",
    "import os\n",
    "import skimage\n",
    "from skimage import data\n",
    "from skimage import transform\n",
    "import PIL\n",
    "from PIL import Image\n",
    "import numpy as np\n",
    "import matplotlib.pyplot as plt\n",
    "import random\n",
    "from random import randint\n",
    "import tensorflow as tf"
   ]
  },
  {
   "cell_type": "code",
   "execution_count": null,
   "metadata": {},
   "outputs": [],
   "source": []
  },
  {
   "cell_type": "code",
   "execution_count": null,
   "metadata": {},
   "outputs": [],
   "source": []
  },
  {
   "cell_type": "code",
   "execution_count": 4,
   "metadata": {},
   "outputs": [],
   "source": [
    "def load_data(data_directory):\n",
    "    directories = [d for d in os.listdir(data_directory) \n",
    "                   if os.path.isdir(os.path.join(data_directory, d))]\n",
    "    labels = []\n",
    "    images = []\n",
    "    for d in directories:\n",
    "        label_directory = os.path.join(data_directory, d)\n",
    "        file_names = [os.path.join(label_directory, f) \n",
    "                      for f in os.listdir(label_directory) if f.endswith(\".jpg\")]\n",
    "        for f in file_names:\n",
    "            images.append(skimage.data.imread(f))\n",
    "            labels.append(str(d))\n",
    "    return images, labels"
   ]
  },
  {
   "cell_type": "code",
   "execution_count": 5,
   "metadata": {},
   "outputs": [],
   "source": [
    "ROOT_PATH = '/host//Can/dpr/'\n",
    "train_data_directory = os.path.join(ROOT_PATH, \"outPut3/train\")\n",
    "#test_data_directory = os.path.join(ROOT_PATH, \"outPut/val\")"
   ]
  },
  {
   "cell_type": "code",
   "execution_count": 6,
   "metadata": {},
   "outputs": [],
   "source": [
    "Images,Labels= load_data(train_data_directory)"
   ]
  },
  {
   "cell_type": "code",
   "execution_count": 7,
   "metadata": {},
   "outputs": [
    {
     "data": {
      "text/plain": [
       "(array([1., 1., 1., 1., 1., 1., 1., 0., 1., 1., 1., 1., 1., 1., 0., 1., 1.,\n",
       "        1., 1., 1., 1., 0., 1., 1., 1., 1., 1., 1., 0., 1., 1., 1., 1., 1.,\n",
       "        1., 1.]),\n",
       " array([ 0.        ,  0.86111111,  1.72222222,  2.58333333,  3.44444444,\n",
       "         4.30555556,  5.16666667,  6.02777778,  6.88888889,  7.75      ,\n",
       "         8.61111111,  9.47222222, 10.33333333, 11.19444444, 12.05555556,\n",
       "        12.91666667, 13.77777778, 14.63888889, 15.5       , 16.36111111,\n",
       "        17.22222222, 18.08333333, 18.94444444, 19.80555556, 20.66666667,\n",
       "        21.52777778, 22.38888889, 23.25      , 24.11111111, 24.97222222,\n",
       "        25.83333333, 26.69444444, 27.55555556, 28.41666667, 29.27777778,\n",
       "        30.13888889, 31.        ]),\n",
       " <a list of 36 Patch objects>)"
      ]
     },
     "execution_count": 7,
     "metadata": {},
     "output_type": "execute_result"
    },
    {
     "data": {
      "image/png": "[encoded data removed]",
      "text/plain": [
       "<Figure size 432x288 with 1 Axes>"
      ]
     },
     "metadata": {},
     "output_type": "display_data"
    }
   ],
   "source": [
    "plt.hist(Labels,36)"
   ]
  },
  {
   "cell_type": "code",
   "execution_count": 7,
   "metadata": {},
   "outputs": [
    {
     "data": {
      "image/png": "[encoded data removed]",
      "text/plain": [
       "<Figure size 432x288 with 1 Axes>"
      ]
     },
     "metadata": {},
     "output_type": "display_data"
    }
   ],
   "source": [
    "imgplot = plt.imshow(Images[0])\n"
   ]
  },
  {
   "cell_type": "code",
   "execution_count": null,
   "metadata": {},
   "outputs": [],
   "source": []
  },
  {
   "cell_type": "code",
   "execution_count": 8,
   "metadata": {},
   "outputs": [
    {
     "data": {
      "text/plain": [
       "['S',\n",
       " '3',\n",
       " 'B',\n",
       " 'Z',\n",
       " 'V',\n",
       " 'H',\n",
       " 'A',\n",
       " 'L',\n",
       " '2',\n",
       " '0',\n",
       " '4',\n",
       " 'G',\n",
       " 'M',\n",
       " '6',\n",
       " 'C',\n",
       " '9',\n",
       " 'P',\n",
       " 'J',\n",
       " '8',\n",
       " 'E',\n",
       " 'T',\n",
       " '5',\n",
       " '7',\n",
       " 'W',\n",
       " 'D',\n",
       " 'K',\n",
       " 'R',\n",
       " 'F',\n",
       " 'N',\n",
       " '1',\n",
       " 'Y',\n",
       " 'X']"
      ]
     },
     "execution_count": 8,
     "metadata": {},
     "output_type": "execute_result"
    }
   ],
   "source": [
    "\n",
    "Labels"
   ]
  },
  {
   "cell_type": "code",
   "execution_count": 8,
   "metadata": {},
   "outputs": [],
   "source": [
    "iii = Images[0][1,1]"
   ]
  },
  {
   "cell_type": "code",
   "execution_count": 9,
   "metadata": {},
   "outputs": [
    {
     "name": "stdout",
     "output_type": "stream",
     "text": [
      "[223 233 225]\n"
     ]
    }
   ],
   "source": [
    "print(iii)\n"
   ]
  },
  {
   "cell_type": "code",
   "execution_count": 9,
   "metadata": {},
   "outputs": [
    {
     "name": "stdout",
     "output_type": "stream",
     "text": [
      "/host//Can/dpr/outPut2/train/S/S_hsv_h40.jpg\n",
      "/host//Can/dpr/outPut2/train/3/3_hsv_h40.jpg\n",
      "/host//Can/dpr/outPut2/train/B/B_hsv_h40.jpg\n",
      "/host//Can/dpr/outPut2/train/Z/Z_hsv_h40.jpg\n",
      "/host//Can/dpr/outPut2/train/V/V_hsv_h40.jpg\n",
      "/host//Can/dpr/outPut2/train/H/H_hsv_h40.jpg\n",
      "/host//Can/dpr/outPut2/train/A/A_hsv_h40.jpg\n",
      "/host//Can/dpr/outPut2/train/L/L_hsv_h40.jpg\n",
      "/host//Can/dpr/outPut2/train/2/2_hsv_h40.jpg\n",
      "/host//Can/dpr/outPut2/train/0/0_hsv_h40.jpg\n",
      "/host//Can/dpr/outPut2/train/4/4_hsv_h40.jpg\n",
      "/host//Can/dpr/outPut2/train/G/G_hsv_h40.jpg\n",
      "/host//Can/dpr/outPut2/train/M/M_hsv_h40.jpg\n",
      "/host//Can/dpr/outPut2/train/6/6_hsv_h40.jpg\n",
      "/host//Can/dpr/outPut2/train/C/C_hsv_h40.jpg\n",
      "/host//Can/dpr/outPut2/train/9/9_hsv_h40.jpg\n",
      "/host//Can/dpr/outPut2/train/P/P_hsv_h40.jpg\n",
      "/host//Can/dpr/outPut2/train/J/J_hsv_h40.jpg\n",
      "/host//Can/dpr/outPut2/train/8/8_hsv_h40.jpg\n",
      "/host//Can/dpr/outPut2/train/E/E_hsv_h40.jpg\n",
      "/host//Can/dpr/outPut2/train/T/T_hsv_h40.jpg\n",
      "/host//Can/dpr/outPut2/train/5/5_hsv_h40.jpg\n",
      "/host//Can/dpr/outPut2/train/7/7_hsv_h40.jpg\n",
      "/host//Can/dpr/outPut2/train/W/W_hsv_h40.jpg\n",
      "/host//Can/dpr/outPut2/train/D/D_hsv_h40.jpg\n",
      "/host//Can/dpr/outPut2/train/K/K_hsv_h40.jpg\n",
      "/host//Can/dpr/outPut2/train/R/R_hsv_h40.jpg\n",
      "/host//Can/dpr/outPut2/train/F/F_hsv_h40.jpg\n",
      "/host//Can/dpr/outPut2/train/N/N_hsv_h40.jpg\n",
      "/host//Can/dpr/outPut2/train/1/1_hsv_h40.jpg\n",
      "/host//Can/dpr/outPut2/train/Y/Y_hsv_h40.jpg\n",
      "/host//Can/dpr/outPut2/train/X/X_hsv_h40.jpg\n"
     ]
    }
   ],
   "source": [
    "#add value 15 in hsv images,yellow will change into green\n",
    "i=0\n",
    "random.uniform(-1,1)\n",
    "\n",
    "for p in range(0,32*1):\n",
    "    \n",
    "    img = Images[i]\n",
    "    img_hsv = cv2.cvtColor(img, cv2.COLOR_BGR2HSV)\n",
    "    \n",
    "    for j in range(1,41):\n",
    "        #40images add 1 on hue\n",
    "        turn_green_hsv = img_hsv.copy()\n",
    "        turn_green_hsv[:, :, 0] = (turn_green_hsv[:, :, 0]+j*1) % 180\n",
    "        turn_green_img = cv2.cvtColor(turn_green_hsv, cv2.COLOR_HSV2BGR)\n",
    "        filename=train_data_directory+ '/' + Labels[i] + '/' + Labels[i]+'_hsv_h'+str(j)+'.jpg'\n",
    "        plt.imsave(filename, turn_green_img)\n",
    "    print(filename)\n",
    "    i+=1\n"
   ]
  },
  {
   "cell_type": "code",
   "execution_count": null,
   "metadata": {},
   "outputs": [],
   "source": []
  },
  {
   "cell_type": "code",
   "execution_count": 10,
   "metadata": {},
   "outputs": [
    {
     "name": "stdout",
     "output_type": "stream",
     "text": [
      "/host//Can/dpr/outPut2/train/S/S_hsv_01_40.jpg\n",
      "/host//Can/dpr/outPut2/train/3/3_hsv_01_40.jpg\n",
      "/host//Can/dpr/outPut2/train/B/B_hsv_01_40.jpg\n",
      "/host//Can/dpr/outPut2/train/Z/Z_hsv_01_40.jpg\n",
      "/host//Can/dpr/outPut2/train/V/V_hsv_01_40.jpg\n",
      "/host//Can/dpr/outPut2/train/H/H_hsv_01_40.jpg\n",
      "/host//Can/dpr/outPut2/train/A/A_hsv_01_40.jpg\n",
      "/host//Can/dpr/outPut2/train/L/L_hsv_01_40.jpg\n",
      "/host//Can/dpr/outPut2/train/2/2_hsv_01_40.jpg\n",
      "/host//Can/dpr/outPut2/train/0/0_hsv_01_40.jpg\n",
      "/host//Can/dpr/outPut2/train/4/4_hsv_01_40.jpg\n",
      "/host//Can/dpr/outPut2/train/G/G_hsv_01_40.jpg\n",
      "/host//Can/dpr/outPut2/train/M/M_hsv_01_40.jpg\n",
      "/host//Can/dpr/outPut2/train/6/6_hsv_01_40.jpg\n",
      "/host//Can/dpr/outPut2/train/C/C_hsv_01_40.jpg\n",
      "/host//Can/dpr/outPut2/train/9/9_hsv_01_40.jpg\n",
      "/host//Can/dpr/outPut2/train/P/P_hsv_01_40.jpg\n",
      "/host//Can/dpr/outPut2/train/J/J_hsv_01_40.jpg\n",
      "/host//Can/dpr/outPut2/train/8/8_hsv_01_40.jpg\n",
      "/host//Can/dpr/outPut2/train/E/E_hsv_01_40.jpg\n",
      "/host//Can/dpr/outPut2/train/T/T_hsv_01_40.jpg\n",
      "/host//Can/dpr/outPut2/train/5/5_hsv_01_40.jpg\n",
      "/host//Can/dpr/outPut2/train/7/7_hsv_01_40.jpg\n",
      "/host//Can/dpr/outPut2/train/W/W_hsv_01_40.jpg\n",
      "/host//Can/dpr/outPut2/train/D/D_hsv_01_40.jpg\n",
      "/host//Can/dpr/outPut2/train/K/K_hsv_01_40.jpg\n",
      "/host//Can/dpr/outPut2/train/R/R_hsv_01_40.jpg\n",
      "/host//Can/dpr/outPut2/train/F/F_hsv_01_40.jpg\n",
      "/host//Can/dpr/outPut2/train/N/N_hsv_01_40.jpg\n",
      "/host//Can/dpr/outPut2/train/1/1_hsv_01_40.jpg\n",
      "/host//Can/dpr/outPut2/train/Y/Y_hsv_01_40.jpg\n",
      "/host//Can/dpr/outPut2/train/X/X_hsv_01_40.jpg\n"
     ]
    }
   ],
   "source": [
    "#saturation half of before\n",
    "i=0\n",
    "\n",
    "for p in range(0,32):\n",
    "    \n",
    "    img = Images[i]\n",
    "    img_hsv = cv2.cvtColor(img, cv2.COLOR_BGR2HSV)\n",
    "    \n",
    "    for j in range(1,41):\n",
    "        #40images in saturation\n",
    "        colorless_hsv = img_hsv.copy()\n",
    "        colorless_hsv[:, :, 1] = 0.1*j * colorless_hsv[:, :, 1]\n",
    "        colorless_img = cv2.cvtColor(colorless_hsv, cv2.COLOR_HSV2BGR)\n",
    "    \n",
    "\n",
    "        filename=train_data_directory+'/'+Labels[i]+'/'+Labels[i]+'_hsv_01_'+str(j)+'.jpg'\n",
    "        plt.imsave(filename, colorless_img)\n",
    "    print(filename)\n",
    "    i+=1\n"
   ]
  },
  {
   "cell_type": "code",
   "execution_count": 11,
   "metadata": {},
   "outputs": [
    {
     "data": {
      "text/plain": [
       "<matplotlib.image.AxesImage at 0x7f03d8c46a20>"
      ]
     },
     "execution_count": 11,
     "metadata": {},
     "output_type": "execute_result"
    },
    {
     "data": {
      "image/png": "[encoded data removed]",
      "text/plain": [
       "<Figure size 432x288 with 1 Axes>"
      ]
     },
     "metadata": {},
     "output_type": "display_data"
    }
   ],
   "source": [
    "plt.imshow(Images[1])"
   ]
  },
  {
   "cell_type": "code",
   "execution_count": 12,
   "metadata": {},
   "outputs": [
    {
     "name": "stdout",
     "output_type": "stream",
     "text": [
      "/host//Can/dpr/outPut2/train/S/S_hsv_01v_40.jpg\n",
      "/host//Can/dpr/outPut2/train/3/3_hsv_01v_40.jpg\n",
      "/host//Can/dpr/outPut2/train/B/B_hsv_01v_40.jpg\n",
      "/host//Can/dpr/outPut2/train/Z/Z_hsv_01v_40.jpg\n",
      "/host//Can/dpr/outPut2/train/V/V_hsv_01v_40.jpg\n",
      "/host//Can/dpr/outPut2/train/H/H_hsv_01v_40.jpg\n",
      "/host//Can/dpr/outPut2/train/A/A_hsv_01v_40.jpg\n",
      "/host//Can/dpr/outPut2/train/L/L_hsv_01v_40.jpg\n",
      "/host//Can/dpr/outPut2/train/2/2_hsv_01v_40.jpg\n",
      "/host//Can/dpr/outPut2/train/0/0_hsv_01v_40.jpg\n",
      "/host//Can/dpr/outPut2/train/4/4_hsv_01v_40.jpg\n",
      "/host//Can/dpr/outPut2/train/G/G_hsv_01v_40.jpg\n",
      "/host//Can/dpr/outPut2/train/M/M_hsv_01v_40.jpg\n",
      "/host//Can/dpr/outPut2/train/6/6_hsv_01v_40.jpg\n",
      "/host//Can/dpr/outPut2/train/C/C_hsv_01v_40.jpg\n",
      "/host//Can/dpr/outPut2/train/9/9_hsv_01v_40.jpg\n",
      "/host//Can/dpr/outPut2/train/P/P_hsv_01v_40.jpg\n",
      "/host//Can/dpr/outPut2/train/J/J_hsv_01v_40.jpg\n",
      "/host//Can/dpr/outPut2/train/8/8_hsv_01v_40.jpg\n",
      "/host//Can/dpr/outPut2/train/E/E_hsv_01v_40.jpg\n",
      "/host//Can/dpr/outPut2/train/T/T_hsv_01v_40.jpg\n",
      "/host//Can/dpr/outPut2/train/5/5_hsv_01v_40.jpg\n",
      "/host//Can/dpr/outPut2/train/7/7_hsv_01v_40.jpg\n",
      "/host//Can/dpr/outPut2/train/W/W_hsv_01v_40.jpg\n",
      "/host//Can/dpr/outPut2/train/D/D_hsv_01v_40.jpg\n",
      "/host//Can/dpr/outPut2/train/K/K_hsv_01v_40.jpg\n",
      "/host//Can/dpr/outPut2/train/R/R_hsv_01v_40.jpg\n",
      "/host//Can/dpr/outPut2/train/F/F_hsv_01v_40.jpg\n",
      "/host//Can/dpr/outPut2/train/N/N_hsv_01v_40.jpg\n",
      "/host//Can/dpr/outPut2/train/1/1_hsv_01v_40.jpg\n",
      "/host//Can/dpr/outPut2/train/Y/Y_hsv_01v_40.jpg\n",
      "/host//Can/dpr/outPut2/train/X/X_hsv_01v_40.jpg\n"
     ]
    }
   ],
   "source": [
    "#value change into half before\n",
    "i=0\n",
    "\n",
    "for p in range(0,32):\n",
    "    img = Images[i]\n",
    "    img_hsv = cv2.cvtColor(img, cv2.COLOR_BGR2HSV)\n",
    "    \n",
    "    \n",
    "    for j in range(1,41):\n",
    "        darker_hsv = img_hsv.copy()\n",
    "        darker_hsv[:, :, 2] = 0.1*j * darker_hsv[:, :, 2]\n",
    "        darker_img = cv2.cvtColor(darker_hsv, cv2.COLOR_HSV2BGR)\n",
    "    \n",
    "        filename=train_data_directory+'/'+Labels[i]+'/'+Labels[i]+'_hsv_01v_'+str(j)+'.jpg'\n",
    "        plt.imsave(filename, darker_img)\n",
    "    print(filename)\n",
    "    i+=1\n",
    "        \n",
    "    "
   ]
  },
  {
   "cell_type": "code",
   "execution_count": null,
   "metadata": {},
   "outputs": [],
   "source": []
  },
  {
   "cell_type": "code",
   "execution_count": 13,
   "metadata": {},
   "outputs": [
    {
     "name": "stdout",
     "output_type": "stream",
     "text": [
      "/host//Can/dpr/outPut2/train/S/S_gamma040.jpg\n",
      "/host//Can/dpr/outPut2/train/3/3_gamma040.jpg\n",
      "/host//Can/dpr/outPut2/train/B/B_gamma040.jpg\n",
      "/host//Can/dpr/outPut2/train/Z/Z_gamma040.jpg\n",
      "/host//Can/dpr/outPut2/train/V/V_gamma040.jpg\n",
      "/host//Can/dpr/outPut2/train/H/H_gamma040.jpg\n",
      "/host//Can/dpr/outPut2/train/A/A_gamma040.jpg\n",
      "/host//Can/dpr/outPut2/train/L/L_gamma040.jpg\n",
      "/host//Can/dpr/outPut2/train/2/2_gamma040.jpg\n",
      "/host//Can/dpr/outPut2/train/0/0_gamma040.jpg\n",
      "/host//Can/dpr/outPut2/train/4/4_gamma040.jpg\n",
      "/host//Can/dpr/outPut2/train/G/G_gamma040.jpg\n",
      "/host//Can/dpr/outPut2/train/M/M_gamma040.jpg\n",
      "/host//Can/dpr/outPut2/train/6/6_gamma040.jpg\n",
      "/host//Can/dpr/outPut2/train/C/C_gamma040.jpg\n",
      "/host//Can/dpr/outPut2/train/9/9_gamma040.jpg\n",
      "/host//Can/dpr/outPut2/train/P/P_gamma040.jpg\n",
      "/host//Can/dpr/outPut2/train/J/J_gamma040.jpg\n",
      "/host//Can/dpr/outPut2/train/8/8_gamma040.jpg\n",
      "/host//Can/dpr/outPut2/train/E/E_gamma040.jpg\n",
      "/host//Can/dpr/outPut2/train/T/T_gamma040.jpg\n",
      "/host//Can/dpr/outPut2/train/5/5_gamma040.jpg\n",
      "/host//Can/dpr/outPut2/train/7/7_gamma040.jpg\n",
      "/host//Can/dpr/outPut2/train/W/W_gamma040.jpg\n",
      "/host//Can/dpr/outPut2/train/D/D_gamma040.jpg\n",
      "/host//Can/dpr/outPut2/train/K/K_gamma040.jpg\n",
      "/host//Can/dpr/outPut2/train/R/R_gamma040.jpg\n",
      "/host//Can/dpr/outPut2/train/F/F_gamma040.jpg\n",
      "/host//Can/dpr/outPut2/train/N/N_gamma040.jpg\n",
      "/host//Can/dpr/outPut2/train/1/1_gamma040.jpg\n",
      "/host//Can/dpr/outPut2/train/Y/Y_gamma040.jpg\n",
      "/host//Can/dpr/outPut2/train/X/X_gamma040.jpg\n"
     ]
    }
   ],
   "source": [
    "#gamma_trans\n",
    "def gamma_trans(img, gamma):\n",
    "    # 具体做法是先归一化到1，然后gamma作为指数值求出新的像素值再还原\n",
    "    gamma_table = [np.power(x/255.0, gamma)*255.0 for x in range(256)]\n",
    "    gamma_table = np.round(np.array(gamma_table)).astype(np.uint8)\n",
    "    \n",
    "    # 实现这个映射用的是OpenCV的查表函数\n",
    "    return cv2.LUT(img, gamma_table)\n",
    "#chang gamma into half of before\n",
    "i=0\n",
    "for p in range(0,32):\n",
    "    img = Images[i]\n",
    "    for j in range(1,41):#8 images with gamma\n",
    "        img_corrected = gamma_trans(img,0.1*j)\n",
    "    \n",
    "        filename=train_data_directory+'/'+Labels[i]+'/'+ Labels[i]+'_gamma0'+str(j)+'.jpg'\n",
    "        plt.imsave(filename, img_corrected)\n",
    "    print(filename)\n",
    "    i+=1\n",
    "        \n",
    "    \n",
    "\n",
    "\n"
   ]
  },
  {
   "cell_type": "code",
   "execution_count": 14,
   "metadata": {},
   "outputs": [],
   "source": [
    "#######################################################################################################3\n",
    "########################################################################################################\n",
    "##########################################################################################################\n",
    "#projective transformer\n"
   ]
  },
  {
   "cell_type": "code",
   "execution_count": 15,
   "metadata": {},
   "outputs": [
    {
     "ename": "NameError",
     "evalue": "name 'testImages' is not defined",
     "output_type": "error",
     "traceback": [
      "\u001b[0;31m---------------------------------------------------------------------------\u001b[0m",
      "\u001b[0;31mNameError\u001b[0m                                 Traceback (most recent call last)",
      "\u001b[0;32m<ipython-input-15-632ae32872f6>\u001b[0m in \u001b[0;36m<module>\u001b[0;34m()\u001b[0m\n\u001b[1;32m      5\u001b[0m ], dtype=np.float32)\n\u001b[1;32m      6\u001b[0m \u001b[0;34m\u001b[0m\u001b[0m\n\u001b[0;32m----> 7\u001b[0;31m \u001b[0mimg_cr\u001b[0m \u001b[0;34m=\u001b[0m \u001b[0mcv2\u001b[0m\u001b[0;34m.\u001b[0m\u001b[0mwarpAffine\u001b[0m\u001b[0;34m(\u001b[0m\u001b[0mtestImages\u001b[0m\u001b[0;34m[\u001b[0m\u001b[0;36m0\u001b[0m\u001b[0;34m]\u001b[0m\u001b[0;34m,\u001b[0m\u001b[0mM_crop_elephant\u001b[0m\u001b[0;34m,\u001b[0m\u001b[0;34m(\u001b[0m\u001b[0;36m8\u001b[0m\u001b[0;34m,\u001b[0m\u001b[0;36m16\u001b[0m\u001b[0;34m)\u001b[0m\u001b[0;34m)\u001b[0m\u001b[0;34m\u001b[0m\u001b[0m\n\u001b[0m",
      "\u001b[0;31mNameError\u001b[0m: name 'testImages' is not defined"
     ]
    }
   ],
   "source": [
    "#vertically enlarge 1.6times, trans -2,-1 and crop elephant:)\n",
    "M_crop_elephant = np.array([\n",
    "    [1.6, 0, -2],\n",
    "    [0, 1.6, -1]\n",
    "], dtype=np.float32)\n",
    "\n",
    "img_cr = cv2.warpAffine(testImages[0],M_crop_elephant,(8,16))"
   ]
  },
  {
   "cell_type": "code",
   "execution_count": null,
   "metadata": {},
   "outputs": [],
   "source": []
  },
  {
   "cell_type": "code",
   "execution_count": 17,
   "metadata": {},
   "outputs": [
    {
     "name": "stdout",
     "output_type": "stream",
     "text": [
      "/host//Can/dpr/outPut2/train/S/S_vertical1_translation2-1_8.jpg\n",
      "/host//Can/dpr/outPut2/train/3/3_vertical1_translation2-1_8.jpg\n",
      "/host//Can/dpr/outPut2/train/B/B_vertical1_translation2-1_8.jpg\n",
      "/host//Can/dpr/outPut2/train/Z/Z_vertical1_translation2-1_8.jpg\n",
      "/host//Can/dpr/outPut2/train/V/V_vertical1_translation2-1_8.jpg\n",
      "/host//Can/dpr/outPut2/train/H/H_vertical1_translation2-1_8.jpg\n",
      "/host//Can/dpr/outPut2/train/A/A_vertical1_translation2-1_8.jpg\n",
      "/host//Can/dpr/outPut2/train/L/L_vertical1_translation2-1_8.jpg\n",
      "/host//Can/dpr/outPut2/train/2/2_vertical1_translation2-1_8.jpg\n",
      "/host//Can/dpr/outPut2/train/0/0_vertical1_translation2-1_8.jpg\n",
      "/host//Can/dpr/outPut2/train/4/4_vertical1_translation2-1_8.jpg\n",
      "/host//Can/dpr/outPut2/train/G/G_vertical1_translation2-1_8.jpg\n",
      "/host//Can/dpr/outPut2/train/M/M_vertical1_translation2-1_8.jpg\n",
      "/host//Can/dpr/outPut2/train/6/6_vertical1_translation2-1_8.jpg\n",
      "/host//Can/dpr/outPut2/train/C/C_vertical1_translation2-1_8.jpg\n",
      "/host//Can/dpr/outPut2/train/9/9_vertical1_translation2-1_8.jpg\n",
      "/host//Can/dpr/outPut2/train/P/P_vertical1_translation2-1_8.jpg\n",
      "/host//Can/dpr/outPut2/train/J/J_vertical1_translation2-1_8.jpg\n",
      "/host//Can/dpr/outPut2/train/8/8_vertical1_translation2-1_8.jpg\n",
      "/host//Can/dpr/outPut2/train/E/E_vertical1_translation2-1_8.jpg\n",
      "/host//Can/dpr/outPut2/train/T/T_vertical1_translation2-1_8.jpg\n",
      "/host//Can/dpr/outPut2/train/5/5_vertical1_translation2-1_8.jpg\n",
      "/host//Can/dpr/outPut2/train/7/7_vertical1_translation2-1_8.jpg\n",
      "/host//Can/dpr/outPut2/train/W/W_vertical1_translation2-1_8.jpg\n",
      "/host//Can/dpr/outPut2/train/D/D_vertical1_translation2-1_8.jpg\n",
      "/host//Can/dpr/outPut2/train/K/K_vertical1_translation2-1_8.jpg\n",
      "/host//Can/dpr/outPut2/train/R/R_vertical1_translation2-1_8.jpg\n",
      "/host//Can/dpr/outPut2/train/F/F_vertical1_translation2-1_8.jpg\n",
      "/host//Can/dpr/outPut2/train/N/N_vertical1_translation2-1_8.jpg\n",
      "/host//Can/dpr/outPut2/train/1/1_vertical1_translation2-1_8.jpg\n",
      "/host//Can/dpr/outPut2/train/Y/Y_vertical1_translation2-1_8.jpg\n",
      "/host//Can/dpr/outPut2/train/X/X_vertical1_translation2-1_8.jpg\n"
     ]
    }
   ],
   "source": [
    "i=0\n",
    "M_crop_elephant = np.array([\n",
    "    [1.6, 0, -2],\n",
    "    [0, 1.6, -1]\n",
    "], dtype=np.float32)\n",
    "for p in range(0,32):\n",
    "    img = Images[i]\n",
    "    for j in range(1,9):#8 images with gamma\n",
    "        M_crop_elephant = np.array([[1.0+0.1*j, 0, -2],[0, 1.0+0.1*j, -1]], dtype=np.float32)\n",
    "       \n",
    "        img_elephant = cv2.warpAffine(img, M_crop_elephant, (8,16))\n",
    "    \n",
    "        filename=train_data_directory+'/'+Labels[i]+'/'+Labels[i]+'_vertical1' +'_translation2-1_'+str(j)+'.jpg'\n",
    "        plt.imsave(filename, img_elephant)\n",
    "    print(filename)\n",
    "    i+=1"
   ]
  },
  {
   "cell_type": "code",
   "execution_count": null,
   "metadata": {},
   "outputs": [],
   "source": []
  },
  {
   "cell_type": "code",
   "execution_count": 18,
   "metadata": {},
   "outputs": [
    {
     "ename": "NameError",
     "evalue": "name 'testImages' is not defined",
     "output_type": "error",
     "traceback": [
      "\u001b[0;31m---------------------------------------------------------------------------\u001b[0m",
      "\u001b[0;31mNameError\u001b[0m                                 Traceback (most recent call last)",
      "\u001b[0;32m<ipython-input-18-137e94bfe7f8>\u001b[0m in \u001b[0;36m<module>\u001b[0;34m()\u001b[0m\n\u001b[1;32m      7\u001b[0m     \u001b[0;34m[\u001b[0m\u001b[0;36m0\u001b[0m\u001b[0;34m,\u001b[0m \u001b[0;36m1\u001b[0m\u001b[0;34m,\u001b[0m \u001b[0;36m0\u001b[0m\u001b[0;34m]\u001b[0m\u001b[0;34m\u001b[0m\u001b[0m\n\u001b[1;32m      8\u001b[0m ], dtype=np.float32)\n\u001b[0;32m----> 9\u001b[0;31m \u001b[0mimg_sheared\u001b[0m \u001b[0;34m=\u001b[0m \u001b[0mcv2\u001b[0m\u001b[0;34m.\u001b[0m\u001b[0mwarpAffine\u001b[0m\u001b[0;34m(\u001b[0m\u001b[0mtestImages\u001b[0m\u001b[0;34m[\u001b[0m\u001b[0;36m0\u001b[0m\u001b[0;34m]\u001b[0m\u001b[0;34m,\u001b[0m \u001b[0mM_shear\u001b[0m\u001b[0;34m,\u001b[0m \u001b[0;34m(\u001b[0m\u001b[0;36m8\u001b[0m\u001b[0;34m,\u001b[0m \u001b[0;36m16\u001b[0m\u001b[0;34m)\u001b[0m\u001b[0;34m)\u001b[0m\u001b[0;34m\u001b[0m\u001b[0m\n\u001b[0m\u001b[1;32m     10\u001b[0m \u001b[0mplt\u001b[0m\u001b[0;34m.\u001b[0m\u001b[0mimshow\u001b[0m\u001b[0;34m(\u001b[0m\u001b[0mimg_sheared\u001b[0m\u001b[0;34m)\u001b[0m\u001b[0;34m\u001b[0m\u001b[0m\n",
      "\u001b[0;31mNameError\u001b[0m: name 'testImages' is not defined"
     ]
    }
   ],
   "source": [
    "#shear transform\n",
    "#shear angle 15 degree\n",
    "i=0\n",
    "theta = 15 * np.pi / 180\n",
    "M_shear = np.array([\n",
    "    [1, np.tan(theta), 0],\n",
    "    [0, 1, 0]\n",
    "], dtype=np.float32)\n",
    "img_sheared = cv2.warpAffine(testImages[0], M_shear, (8, 16))\n",
    "plt.imshow(img_sheared)\n"
   ]
  },
  {
   "cell_type": "code",
   "execution_count": 19,
   "metadata": {},
   "outputs": [
    {
     "name": "stdout",
     "output_type": "stream",
     "text": [
      "/host//Can/dpr/outPut2/train/S/S_sheared50.jpg\n",
      "/host//Can/dpr/outPut2/train/3/3_sheared50.jpg\n",
      "/host//Can/dpr/outPut2/train/B/B_sheared50.jpg\n",
      "/host//Can/dpr/outPut2/train/Z/Z_sheared50.jpg\n",
      "/host//Can/dpr/outPut2/train/V/V_sheared50.jpg\n",
      "/host//Can/dpr/outPut2/train/H/H_sheared50.jpg\n",
      "/host//Can/dpr/outPut2/train/A/A_sheared50.jpg\n",
      "/host//Can/dpr/outPut2/train/L/L_sheared50.jpg\n",
      "/host//Can/dpr/outPut2/train/2/2_sheared50.jpg\n",
      "/host//Can/dpr/outPut2/train/0/0_sheared50.jpg\n",
      "/host//Can/dpr/outPut2/train/4/4_sheared50.jpg\n",
      "/host//Can/dpr/outPut2/train/G/G_sheared50.jpg\n",
      "/host//Can/dpr/outPut2/train/M/M_sheared50.jpg\n",
      "/host//Can/dpr/outPut2/train/6/6_sheared50.jpg\n",
      "/host//Can/dpr/outPut2/train/C/C_sheared50.jpg\n",
      "/host//Can/dpr/outPut2/train/9/9_sheared50.jpg\n",
      "/host//Can/dpr/outPut2/train/P/P_sheared50.jpg\n",
      "/host//Can/dpr/outPut2/train/J/J_sheared50.jpg\n",
      "/host//Can/dpr/outPut2/train/8/8_sheared50.jpg\n",
      "/host//Can/dpr/outPut2/train/E/E_sheared50.jpg\n",
      "/host//Can/dpr/outPut2/train/T/T_sheared50.jpg\n",
      "/host//Can/dpr/outPut2/train/5/5_sheared50.jpg\n",
      "/host//Can/dpr/outPut2/train/7/7_sheared50.jpg\n",
      "/host//Can/dpr/outPut2/train/W/W_sheared50.jpg\n",
      "/host//Can/dpr/outPut2/train/D/D_sheared50.jpg\n",
      "/host//Can/dpr/outPut2/train/K/K_sheared50.jpg\n",
      "/host//Can/dpr/outPut2/train/R/R_sheared50.jpg\n",
      "/host//Can/dpr/outPut2/train/F/F_sheared50.jpg\n",
      "/host//Can/dpr/outPut2/train/N/N_sheared50.jpg\n",
      "/host//Can/dpr/outPut2/train/1/1_sheared50.jpg\n",
      "/host//Can/dpr/outPut2/train/Y/Y_sheared50.jpg\n",
      "/host//Can/dpr/outPut2/train/X/X_sheared50.jpg\n"
     ]
    }
   ],
   "source": [
    "theta = 15 * np.pi / 180\n",
    "M_shear = np.array([\n",
    "    [1, np.tan(theta), 0],\n",
    "    [0, 1, 0]\n",
    "], dtype=np.float32)\n",
    "i=0\n",
    "for p in range(0,32):\n",
    "    img = Images[i]\n",
    "    for j in range(1,51):#50 degree max\n",
    "        theta = 1 *j* np.pi / 180\n",
    "        M_shear = np.array([[1, np.tan(theta), 0],[0, 1, 0]], dtype=np.float32)\n",
    "        \n",
    "    \n",
    "        img_sheared = cv2.warpAffine(img, M_shear, (8,16))\n",
    "    \n",
    "        filename=train_data_directory+'/'+Labels[i]+'/'+Labels[i]+'_sheared'+str(1*j)+'.jpg'\n",
    "        plt.imsave(filename, img_sheared)\n",
    "    print(filename)\n",
    "    i+=1"
   ]
  },
  {
   "cell_type": "code",
   "execution_count": null,
   "metadata": {},
   "outputs": [],
   "source": []
  },
  {
   "cell_type": "code",
   "execution_count": 20,
   "metadata": {},
   "outputs": [
    {
     "name": "stdout",
     "output_type": "stream",
     "text": [
      "/host//Can/dpr/outPut2/train/S/S_rotate_40.jpg\n",
      "/host//Can/dpr/outPut2/train/3/3_rotate_40.jpg\n",
      "/host//Can/dpr/outPut2/train/B/B_rotate_40.jpg\n",
      "/host//Can/dpr/outPut2/train/Z/Z_rotate_40.jpg\n",
      "/host//Can/dpr/outPut2/train/V/V_rotate_40.jpg\n",
      "/host//Can/dpr/outPut2/train/H/H_rotate_40.jpg\n",
      "/host//Can/dpr/outPut2/train/A/A_rotate_40.jpg\n",
      "/host//Can/dpr/outPut2/train/L/L_rotate_40.jpg\n",
      "/host//Can/dpr/outPut2/train/2/2_rotate_40.jpg\n",
      "/host//Can/dpr/outPut2/train/0/0_rotate_40.jpg\n",
      "/host//Can/dpr/outPut2/train/4/4_rotate_40.jpg\n",
      "/host//Can/dpr/outPut2/train/G/G_rotate_40.jpg\n",
      "/host//Can/dpr/outPut2/train/M/M_rotate_40.jpg\n",
      "/host//Can/dpr/outPut2/train/6/6_rotate_40.jpg\n",
      "/host//Can/dpr/outPut2/train/C/C_rotate_40.jpg\n",
      "/host//Can/dpr/outPut2/train/9/9_rotate_40.jpg\n",
      "/host//Can/dpr/outPut2/train/P/P_rotate_40.jpg\n",
      "/host//Can/dpr/outPut2/train/J/J_rotate_40.jpg\n",
      "/host//Can/dpr/outPut2/train/8/8_rotate_40.jpg\n",
      "/host//Can/dpr/outPut2/train/E/E_rotate_40.jpg\n",
      "/host//Can/dpr/outPut2/train/T/T_rotate_40.jpg\n",
      "/host//Can/dpr/outPut2/train/5/5_rotate_40.jpg\n",
      "/host//Can/dpr/outPut2/train/7/7_rotate_40.jpg\n",
      "/host//Can/dpr/outPut2/train/W/W_rotate_40.jpg\n",
      "/host//Can/dpr/outPut2/train/D/D_rotate_40.jpg\n",
      "/host//Can/dpr/outPut2/train/K/K_rotate_40.jpg\n",
      "/host//Can/dpr/outPut2/train/R/R_rotate_40.jpg\n",
      "/host//Can/dpr/outPut2/train/F/F_rotate_40.jpg\n",
      "/host//Can/dpr/outPut2/train/N/N_rotate_40.jpg\n",
      "/host//Can/dpr/outPut2/train/1/1_rotate_40.jpg\n",
      "/host//Can/dpr/outPut2/train/Y/Y_rotate_40.jpg\n",
      "/host//Can/dpr/outPut2/train/X/X_rotate_40.jpg\n"
     ]
    }
   ],
   "source": [
    "#rotation rotated 15 degree\n",
    "i=0\n",
    "M_rotate = np.array([\n",
    "    [np.cos(theta), -np.sin(theta), 0],\n",
    "    [np.sin(theta), np.cos(theta), 0]\n",
    "], dtype=np.float32)\n",
    "i=0\n",
    "for p in range(0,32):\n",
    "    img = Images[i]\n",
    "    \n",
    "    for j in range(1,41):#max 45\n",
    "        theta = 1 *j* np.pi / 180\n",
    "        M_rotate = np.array([[np.cos(theta), -np.sin(theta), 0],[np.sin(theta), np.cos(theta), 0]], dtype=np.float32)\n",
    "        img_rotated15 = cv2.warpAffine(img, M_rotate, (8,16))\n",
    "    \n",
    "        filename=train_data_directory+'/'+Labels[i]+'/'+Labels[i]+'_rotate_'+str(1*j)+'.jpg'\n",
    "        plt.imsave(filename, img_rotated15)\n",
    "    print(filename)\n",
    "    i+=1"
   ]
  },
  {
   "cell_type": "code",
   "execution_count": 25,
   "metadata": {
    "scrolled": true
   },
   "outputs": [
    {
     "data": {
      "text/plain": [
       "<matplotlib.image.AxesImage at 0x7f03d8a73128>"
      ]
     },
     "execution_count": 25,
     "metadata": {},
     "output_type": "execute_result"
    },
    {
     "data": {
      "image/png": "[encoded data removed]",
      "text/plain": [
       "<Figure size 432x288 with 1 Axes>"
      ]
     },
     "metadata": {},
     "output_type": "display_data"
    }
   ],
   "source": [
    "img = Images[0]\n",
    "rows, cols, ch = img.shape  \n",
    "  \n",
    "pts1 = np.float32([[0, 0], [cols - 1, 0], [0, rows - 1]])  \n",
    "pts2 = np.float32([[cols * 0.1, rows * 0.1], [cols * 0.9, rows * 0.2], [cols * 0.1, rows * 0.9]])  \n",
    "  \n",
    "M = cv2.getAffineTransform(pts1, pts2)  \n",
    "dst = cv2.warpAffine(img, M, (cols, rows))  \n",
    "  \n",
    "plt.imshow(dst) \n"
   ]
  },
  {
   "cell_type": "code",
   "execution_count": 33,
   "metadata": {},
   "outputs": [
    {
     "name": "stdout",
     "output_type": "stream",
     "text": [
      "/host//Can/dpr/outPut2/train/S/S_projective_random499.jpg\n",
      "/host//Can/dpr/outPut2/train/3/3_projective_random499.jpg\n",
      "/host//Can/dpr/outPut2/train/B/B_projective_random499.jpg\n",
      "/host//Can/dpr/outPut2/train/Z/Z_projective_random499.jpg\n",
      "/host//Can/dpr/outPut2/train/V/V_projective_random499.jpg\n",
      "/host//Can/dpr/outPut2/train/H/H_projective_random499.jpg\n",
      "/host//Can/dpr/outPut2/train/A/A_projective_random499.jpg\n",
      "/host//Can/dpr/outPut2/train/L/L_projective_random499.jpg\n",
      "/host//Can/dpr/outPut2/train/2/2_projective_random499.jpg\n",
      "/host//Can/dpr/outPut2/train/0/0_projective_random499.jpg\n",
      "/host//Can/dpr/outPut2/train/4/4_projective_random499.jpg\n",
      "/host//Can/dpr/outPut2/train/G/G_projective_random499.jpg\n",
      "/host//Can/dpr/outPut2/train/M/M_projective_random499.jpg\n",
      "/host//Can/dpr/outPut2/train/6/6_projective_random499.jpg\n",
      "/host//Can/dpr/outPut2/train/C/C_projective_random499.jpg\n",
      "/host//Can/dpr/outPut2/train/9/9_projective_random499.jpg\n",
      "/host//Can/dpr/outPut2/train/P/P_projective_random499.jpg\n",
      "/host//Can/dpr/outPut2/train/J/J_projective_random499.jpg\n",
      "/host//Can/dpr/outPut2/train/8/8_projective_random499.jpg\n",
      "/host//Can/dpr/outPut2/train/E/E_projective_random499.jpg\n",
      "/host//Can/dpr/outPut2/train/T/T_projective_random499.jpg\n",
      "/host//Can/dpr/outPut2/train/5/5_projective_random499.jpg\n",
      "/host//Can/dpr/outPut2/train/7/7_projective_random499.jpg\n",
      "/host//Can/dpr/outPut2/train/W/W_projective_random499.jpg\n",
      "/host//Can/dpr/outPut2/train/D/D_projective_random499.jpg\n",
      "/host//Can/dpr/outPut2/train/K/K_projective_random499.jpg\n",
      "/host//Can/dpr/outPut2/train/R/R_projective_random499.jpg\n",
      "/host//Can/dpr/outPut2/train/F/F_projective_random499.jpg\n",
      "/host//Can/dpr/outPut2/train/N/N_projective_random499.jpg\n",
      "/host//Can/dpr/outPut2/train/1/1_projective_random499.jpg\n",
      "/host//Can/dpr/outPut2/train/Y/Y_projective_random499.jpg\n",
      "/host//Can/dpr/outPut2/train/X/X_projective_random499.jpg\n"
     ]
    }
   ],
   "source": [
    "i=0\n",
    "for p in range(0,32):\n",
    "    img = Images[i]\n",
    "    for j in range(0,500):\n",
    "        rows, cols, ch = img.shape  \n",
    "        random_factor1 = random.uniform(-1,1)+1\n",
    "        random_factor2 = random.uniform(-1,1)+1\n",
    "        random_factor3 = random.uniform(-1,1)+1\n",
    "        random_factor4 = random.uniform(-1,1)+1\n",
    "        random_factor5 = random.uniform(-1,1)+1\n",
    "        random_factor6 = random.uniform(-1,1)+1\n",
    "        \n",
    "        \n",
    "        pts1 = np.float32([[0, 0], [cols - 1, 0], [0, rows - 1]]) \n",
    "        \n",
    "        pts2 = np.float32([[cols * 0.1*random_factor1, rows * 0.1*random_factor2],\n",
    "                           [cols * 0.9*random_factor3, rows * 0.2*random_factor4], \n",
    "                           [cols * 0.1*random_factor5, rows * 0.9*random_factor6]])  \n",
    "          \n",
    "        M = cv2.getAffineTransform(pts1, pts2)  \n",
    "        dst = cv2.warpAffine(img, M, (cols, rows))  \n",
    "    \n",
    "        filename=train_data_directory+'/'+Labels[i]+'/'+Labels[i]+'_projective_random'+str(int(j))+'.jpg'\n",
    "    \n",
    "        plt.imsave(filename, dst)\n",
    "        \n",
    "    print(filename)\n",
    "    i+=1"
   ]
  },
  {
   "cell_type": "code",
   "execution_count": null,
   "metadata": {},
   "outputs": [],
   "source": [
    "#general projective transform\n",
    "\"\"\"\n",
    "M = np.array([\n",
    "    [0.1, 0.5, -2],\n",
    "    [0.5, 0.1, -1]\n",
    "], dtype=np.float32)\n",
    "\n",
    "i=0\n",
    "for p in range(0,32):\n",
    "    img = Images[i]\n",
    "    for j in range(0,5):\n",
    "        M = np.array([[random.uniform(-1,1), -random.uniform(-1,1), random.uniform(-1,1) ],\n",
    "                      [random.uniform(-1,1), random.uniform(-1,1), random.uniform(-1,1) ]],dtype=np.float32)\n",
    "        img_projective = cv2.warpAffine(img, M, (8,16))\n",
    "    \n",
    "        filename=train_data_directory+'/'+Labels[i]+'/'+Labels[i]+'_projective_random'+str(int(j))+'.jpg'\n",
    "        plt.imshow(img_projective)\n",
    "        #plt.imsave(filename, img_projective)\n",
    "        \n",
    "    print(filename)\n",
    "    i+=1\n",
    "\"\"\""
   ]
  },
  {
   "cell_type": "code",
   "execution_count": null,
   "metadata": {},
   "outputs": [],
   "source": [
    "g=random.uniform(-1,1)\n",
    "print(g)"
   ]
  },
  {
   "cell_type": "code",
   "execution_count": null,
   "metadata": {},
   "outputs": [],
   "source": []
  },
  {
   "cell_type": "code",
   "execution_count": null,
   "metadata": {},
   "outputs": [],
   "source": []
  }
 ],
 "metadata": {
  "kernelspec": {
   "display_name": "Python 3",
   "language": "python",
   "name": "python3"
  },
  "language_info": {
   "codemirror_mode": {
    "name": "ipython",
    "version": 3
   },
   "file_extension": ".py",
   "mimetype": "text/x-python",
   "name": "python",
   "nbconvert_exporter": "python",
   "pygments_lexer": "ipython3",
   "version": "3.5.2"
  }
 },
 "nbformat": 4,
 "nbformat_minor": 2
}
