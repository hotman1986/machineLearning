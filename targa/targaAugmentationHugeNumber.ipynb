{
 "cells": [
  {
   "cell_type": "code",
   "execution_count": null,
   "metadata": {},
   "outputs": [],
   "source": [
    "import cv2\n",
    "import os\n",
    "import skimage\n",
    "from skimage import data\n",
    "from skimage import transform\n",
    "import PIL\n",
    "from PIL import Image\n",
    "import numpy as np\n",
    "import matplotlib.pyplot as plt\n",
    "import random\n",
    "from random import randint\n",
    "import tensorflow as tf"
   ]
  },
  {
   "cell_type": "code",
   "execution_count": null,
   "metadata": {},
   "outputs": [],
   "source": []
  },
  {
   "cell_type": "code",
   "execution_count": null,
   "metadata": {},
   "outputs": [],
   "source": []
  },
  {
   "cell_type": "code",
   "execution_count": null,
   "metadata": {},
   "outputs": [],
   "source": [
    "def load_data(data_directory):\n",
    "    directories = [d for d in os.listdir(data_directory) \n",
    "                   if os.path.isdir(os.path.join(data_directory, d))]\n",
    "    labels = []\n",
    "    images = []\n",
    "    for d in directories:\n",
    "        label_directory = os.path.join(data_directory, d)\n",
    "        file_names = [os.path.join(label_directory, f) \n",
    "                      for f in os.listdir(label_directory) if f.endswith(\".jpg\")]\n",
    "        for f in file_names:\n",
    "            images.append(skimage.data.imread(f))\n",
    "            labels.append(str(d))\n",
    "    return images, labels"
   ]
  },
  {
   "cell_type": "code",
   "execution_count": null,
   "metadata": {},
   "outputs": [],
   "source": [
    "ROOT_PATH = '/host//Can/dpr/'\n",
    "train_data_directory = os.path.join(ROOT_PATH, \"outPut/train\")\n",
    "#test_data_directory = os.path.join(ROOT_PATH, \"outPut/val\")"
   ]
  },
  {
   "cell_type": "code",
   "execution_count": null,
   "metadata": {},
   "outputs": [],
   "source": [
    "Images,Labels= load_data(train_data_directory)"
   ]
  },
  {
   "cell_type": "code",
   "execution_count": null,
   "metadata": {},
   "outputs": [],
   "source": [
    "plt.hist(Labels,36)"
   ]
  },
  {
   "cell_type": "code",
   "execution_count": null,
   "metadata": {},
   "outputs": [],
   "source": [
    "imgplot = plt.imshow(Images[0])\n"
   ]
  },
  {
   "cell_type": "code",
   "execution_count": null,
   "metadata": {},
   "outputs": [],
   "source": []
  },
  {
   "cell_type": "code",
   "execution_count": null,
   "metadata": {},
   "outputs": [],
   "source": [
    "\n",
    "Labels"
   ]
  },
  {
   "cell_type": "code",
   "execution_count": null,
   "metadata": {},
   "outputs": [],
   "source": []
  },
  {
   "cell_type": "code",
   "execution_count": null,
   "metadata": {},
   "outputs": [],
   "source": [
    "\n"
   ]
  },
  {
   "cell_type": "code",
   "execution_count": null,
   "metadata": {},
   "outputs": [],
   "source": [
    "#add value 15 in hsv images,yellow will change into green\n",
    "i=0\n",
    "for p in range(0,32*1):\n",
    "    \n",
    "    img = Images[i]\n",
    "    img_hsv = cv2.cvtColor(img, cv2.COLOR_BGR2HSV)\n",
    "    turn_green_hsv = img_hsv.copy()\n",
    "    turn_green_hsv[:, :, 0] = (turn_green_hsv[:, :, 0]+30) % 180\n",
    "    turn_green_img = cv2.cvtColor(turn_green_hsv, cv2.COLOR_HSV2BGR)\n",
    "    filename=train_data_directory+'/'+Labels[i]+'/'+Labels[i]+'_hsv_30h'+'.jpg'\n",
    "    plt.imsave(filename, turn_green_img)\n",
    "    print(filename)\n",
    "    i+=1\n"
   ]
  },
  {
   "cell_type": "code",
   "execution_count": null,
   "metadata": {},
   "outputs": [],
   "source": []
  },
  {
   "cell_type": "code",
   "execution_count": null,
   "metadata": {},
   "outputs": [],
   "source": [
    "#saturation half of before\n",
    "i=0\n",
    "for p in range(0,32):\n",
    "    \n",
    "    img = Images[i]\n",
    "    img_hsv = cv2.cvtColor(img, cv2.COLOR_BGR2HSV)\n",
    "    colorless_hsv = img_hsv.copy()\n",
    "    colorless_hsv[:, :, 1] = 0.2 * colorless_hsv[:, :, 1]\n",
    "    colorless_img = cv2.cvtColor(colorless_hsv, cv2.COLOR_HSV2BGR)\n",
    "    \n",
    "\n",
    "    filename=train_data_directory+'/'+Labels[i]+'/'+Labels[i]+'_hsv_02s'+'.jpg'\n",
    "    plt.imsave(filename, colorless_img)\n",
    "    print(filename)\n",
    "    i+=1\n"
   ]
  },
  {
   "cell_type": "code",
   "execution_count": null,
   "metadata": {},
   "outputs": [],
   "source": [
    "plt.imshow(Images[1])"
   ]
  },
  {
   "cell_type": "code",
   "execution_count": null,
   "metadata": {},
   "outputs": [],
   "source": [
    "#value change into half before\n",
    "i=0\n",
    "\n",
    "for p in range(0,32):\n",
    "    img = Images[i]\n",
    "    img_hsv = cv2.cvtColor(img, cv2.COLOR_BGR2HSV)\n",
    "    \n",
    "    darker_hsv = img_hsv.copy()\n",
    "    darker_hsv[:, :, 2] = 0.1 * darker_hsv[:, :, 2]\n",
    "    darker_img = cv2.cvtColor(darker_hsv, cv2.COLOR_HSV2BGR)\n",
    "    \n",
    "    filename=train_data_directory+'/'+Labels[i]+'/'+Labels[i]+'_hsv_01v'+'.jpg'\n",
    "    plt.imsave(filename, darker_img)\n",
    "    print(filename)\n",
    "    i+=1\n",
    "        \n",
    "    "
   ]
  },
  {
   "cell_type": "code",
   "execution_count": null,
   "metadata": {},
   "outputs": [],
   "source": []
  },
  {
   "cell_type": "code",
   "execution_count": null,
   "metadata": {},
   "outputs": [],
   "source": [
    "#gamma_trans\n",
    "def gamma_trans(img, gamma):\n",
    "    # 具体做法是先归一化到1，然后gamma作为指数值求出新的像素值再还原\n",
    "    gamma_table = [np.power(x/255.0, gamma)*255.0 for x in range(256)]\n",
    "    gamma_table = np.round(np.array(gamma_table)).astype(np.uint8)\n",
    "    \n",
    "    # 实现这个映射用的是OpenCV的查表函数\n",
    "    return cv2.LUT(img, gamma_table)\n",
    "#chang gamma into half of before\n",
    "i=0\n",
    "for p in range(0,32):\n",
    "    img = Images[i]\n",
    "    for j in range(1,9):#8 images with gamma\n",
    "        img_corrected = gamma_trans(img,0.1*j)\n",
    "    \n",
    "        filename=train_data_directory+'/'+Labels[i]+'/'+ Labels[i]+'_gamma0'+str(j)+'.jpg'\n",
    "        plt.imsave(filename, img_corrected)\n",
    "    print(filename)\n",
    "    i+=1\n",
    "        \n",
    "    \n",
    "\n",
    "\n"
   ]
  },
  {
   "cell_type": "code",
   "execution_count": null,
   "metadata": {},
   "outputs": [],
   "source": [
    "#######################################################################################################3\n",
    "########################################################################################################\n",
    "##########################################################################################################\n",
    "#projective transformer\n"
   ]
  },
  {
   "cell_type": "code",
   "execution_count": null,
   "metadata": {},
   "outputs": [],
   "source": [
    "#vertically enlarge 1.6times, trans -2,-1 and crop elephant:)\n",
    "M_crop_elephant = np.array([\n",
    "    [1.6, 0, -2],\n",
    "    [0, 1.6, -1]\n",
    "], dtype=np.float32)\n",
    "\n",
    "img_cr = cv2.warpAffine(testImages[0],M_crop_elephant,(8,16))"
   ]
  },
  {
   "cell_type": "code",
   "execution_count": null,
   "metadata": {},
   "outputs": [],
   "source": [
    "plt.imshow(img_cr)"
   ]
  },
  {
   "cell_type": "code",
   "execution_count": null,
   "metadata": {},
   "outputs": [],
   "source": [
    "i=0\n",
    "M_crop_elephant = np.array([\n",
    "    [1.6, 0, -2],\n",
    "    [0, 1.6, -1]\n",
    "], dtype=np.float32)\n",
    "for p in range(0,32):\n",
    "    img = Images[i]\n",
    "    for j in range(1,9):#8 images with gamma\n",
    "        M_crop_elephant = np.array([[1.0+0.1*j, 0, -2],[0, 1.0+0.1*j, -1]], dtype=np.float32)\n",
    "       \n",
    "        img_elephant = cv2.warpAffine(img, M_crop_elephant, (8,16))\n",
    "    \n",
    "        filename=train_data_directory+'/'+Labels[i]+'/'+Labels[i]+str(j)+'_vertical1' +'_translation2-1'+'.jpg'\n",
    "        plt.imsave(filename, img_elephant)\n",
    "    print(filename)\n",
    "    i+=1"
   ]
  },
  {
   "cell_type": "code",
   "execution_count": null,
   "metadata": {},
   "outputs": [],
   "source": []
  },
  {
   "cell_type": "code",
   "execution_count": null,
   "metadata": {},
   "outputs": [],
   "source": [
    "#shear transform\n",
    "#shear angle 15 degree\n",
    "i=0\n",
    "theta = 15 * np.pi / 180\n",
    "M_shear = np.array([\n",
    "    [1, np.tan(theta), 0],\n",
    "    [0, 1, 0]\n",
    "], dtype=np.float32)\n",
    "img_sheared = cv2.warpAffine(testImages[0], M_shear, (8, 16))\n",
    "plt.imshow(img_sheared)\n"
   ]
  },
  {
   "cell_type": "code",
   "execution_count": null,
   "metadata": {},
   "outputs": [],
   "source": [
    "theta = 15 * np.pi / 180\n",
    "M_shear = np.array([\n",
    "    [1, np.tan(theta), 0],\n",
    "    [0, 1, 0]\n",
    "], dtype=np.float32)\n",
    "i=0\n",
    "for p in range(0,32):\n",
    "    img = Images[i]\n",
    "    for j in range(0,5):\n",
    "        theta = 15 *j* np.pi / 180\n",
    "        M_shear = np.array([[1, np.tan(theta), 0],[0, 1, 0]], dtype=np.float32)\n",
    "        \n",
    "    \n",
    "        img_sheared = cv2.warpAffine(img, M_shear, (8,16))\n",
    "    \n",
    "        filename=train_data_directory+'/'+Labels[i]+'/'+Labels[i]+'_sheared'+str(15*j)+'.jpg'\n",
    "        plt.imsave(filename, img_sheared)\n",
    "    print(filename)\n",
    "    i+=1"
   ]
  },
  {
   "cell_type": "code",
   "execution_count": null,
   "metadata": {},
   "outputs": [],
   "source": []
  },
  {
   "cell_type": "code",
   "execution_count": null,
   "metadata": {},
   "outputs": [],
   "source": [
    "#rotation rotated 15 degree\n",
    "i=0\n",
    "M_rotate = np.array([\n",
    "    [np.cos(theta), -np.sin(theta), 0],\n",
    "    [np.sin(theta), np.cos(theta), 0]\n",
    "], dtype=np.float32)\n",
    "i=0\n",
    "for p in range(0,32):\n",
    "    img = Images[i]\n",
    "    \n",
    "    for j in range(1,5):\n",
    "        theta = 15 *j* np.pi / 180\n",
    "        M_rotate = np.array([[np.cos(theta), -np.sin(theta), 0],[np.sin(theta), np.cos(theta), 0]], dtype=np.float32)\n",
    "        img_rotated15 = cv2.warpAffine(img, M_rotate, (8,16))\n",
    "    \n",
    "        filename=train_data_directory+'/'+Labels[i]+'/'+Labels[i]+'_rotate'+str(15*j)+'.jpg'\n",
    "        plt.imsave(filename, img_rotated15)\n",
    "    print(filename)\n",
    "    i+=1"
   ]
  },
  {
   "cell_type": "code",
   "execution_count": null,
   "metadata": {},
   "outputs": [],
   "source": [
    "#general projective transform\n",
    "M = np.array([\n",
    "    [0.1, 0.5, -2],\n",
    "    [0.5, 0.1, -1]\n",
    "], dtype=np.float32)\n",
    "\n",
    "i=0\n",
    "for p in range(0,32):\n",
    "    img = Images[i]\n",
    "    for j in range(0,100):\n",
    "        M = np.array([[random.uniform(1,2), random.uniform(0,1), random.uniform(-1,1) ],\n",
    "                      [random.uniform(0,1), random.uniform(1,2), random.uniform(-1,1) ]], dtype=np.float32)\n",
    "        img_projective = cv2.warpAffine(img, M, (8,16))\n",
    "    \n",
    "        filename=train_data_directory+'/'+Labels[i]+'/'+Labels[i]+'_projective_random'+str(int(j))+'.jpg'\n",
    "        plt.imsave(filename, img_projective)\n",
    "    print(filename)\n",
    "    i+=1"
   ]
  },
  {
   "cell_type": "code",
   "execution_count": null,
   "metadata": {},
   "outputs": [],
   "source": []
  },
  {
   "cell_type": "code",
   "execution_count": null,
   "metadata": {},
   "outputs": [],
   "source": []
  },
  {
   "cell_type": "code",
   "execution_count": null,
   "metadata": {},
   "outputs": [],
   "source": []
  }
 ],
 "metadata": {
  "kernelspec": {
   "display_name": "Python 3",
   "language": "python",
   "name": "python3"
  },
  "language_info": {
   "codemirror_mode": {
    "name": "ipython",
    "version": 3
   },
   "file_extension": ".py",
   "mimetype": "text/x-python",
   "name": "python",
   "nbconvert_exporter": "python",
   "pygments_lexer": "ipython3",
   "version": "3.5.2"
  }
 },
 "nbformat": 4,
 "nbformat_minor": 2
}
