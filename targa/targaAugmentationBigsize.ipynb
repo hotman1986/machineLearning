{
 "cells": [
  {
   "cell_type": "code",
   "execution_count": 1,
   "metadata": {},
   "outputs": [
    {
     "name": "stderr",
     "output_type": "stream",
     "text": [
      "/usr/local/lib/python3.5/dist-packages/h5py/__init__.py:36: FutureWarning: Conversion of the second argument of issubdtype from `float` to `np.floating` is deprecated. In future, it will be treated as `np.float64 == np.dtype(float).type`.\n",
      "  from ._conv import register_converters as _register_converters\n"
     ]
    }
   ],
   "source": [
    "import cv2\n",
    "import os\n",
    "import skimage\n",
    "from skimage import data\n",
    "from skimage import transform\n",
    "import PIL\n",
    "from PIL import Image\n",
    "import numpy as np\n",
    "import matplotlib.pyplot as plt\n",
    "import random\n",
    "from random import randint\n",
    "import tensorflow as tf\n",
    "from scipy import ndimage, misc"
   ]
  },
  {
   "cell_type": "code",
   "execution_count": 2,
   "metadata": {},
   "outputs": [],
   "source": [
    "def load_data(data_directory):\n",
    "    directories = [d for d in os.listdir(data_directory) \n",
    "                   if os.path.isdir(os.path.join(data_directory, d))]\n",
    "    labels = []\n",
    "    images = []\n",
    "    for d in directories:\n",
    "        label_directory = os.path.join(data_directory, d)\n",
    "        file_names = [os.path.join(label_directory, f) \n",
    "                      for f in os.listdir(label_directory) if f.endswith(\".jpg\")]\n",
    "        for f in file_names:\n",
    "            images.append(skimage.data.imread(f))\n",
    "            labels.append(str(d))\n",
    "    return images, labels"
   ]
  },
  {
   "cell_type": "code",
   "execution_count": 3,
   "metadata": {},
   "outputs": [],
   "source": [
    "ROOT_PATH = '/home/tang/tang/'\n",
    "load_data_directory = os.path.join(ROOT_PATH,\"outPut5/simple\")\n",
    "train_data_directory = os.path.join(ROOT_PATH, \"outPut5/test\")\n",
    "#test_data_directory = os.path.join(ROOT_PATH, \"outPut/val\")"
   ]
  },
  {
   "cell_type": "code",
   "execution_count": 4,
   "metadata": {},
   "outputs": [],
   "source": [
    "Images,Labels= load_data(load_data_directory)"
   ]
  },
  {
   "cell_type": "code",
   "execution_count": 5,
   "metadata": {},
   "outputs": [
    {
     "data": {
      "text/plain": [
       "(array([1., 1., 1., 1., 1., 1., 1., 0., 1., 1., 1., 1., 1., 1., 0., 1., 1.,\n",
       "        1., 1., 1., 1., 0., 1., 1., 1., 1., 1., 1., 0., 1., 1., 1., 1., 1.,\n",
       "        1., 1.]),\n",
       " array([ 0.        ,  0.86111111,  1.72222222,  2.58333333,  3.44444444,\n",
       "         4.30555556,  5.16666667,  6.02777778,  6.88888889,  7.75      ,\n",
       "         8.61111111,  9.47222222, 10.33333333, 11.19444444, 12.05555556,\n",
       "        12.91666667, 13.77777778, 14.63888889, 15.5       , 16.36111111,\n",
       "        17.22222222, 18.08333333, 18.94444444, 19.80555556, 20.66666667,\n",
       "        21.52777778, 22.38888889, 23.25      , 24.11111111, 24.97222222,\n",
       "        25.83333333, 26.69444444, 27.55555556, 28.41666667, 29.27777778,\n",
       "        30.13888889, 31.        ]),\n",
       " <a list of 36 Patch objects>)"
      ]
     },
     "execution_count": 5,
     "metadata": {},
     "output_type": "execute_result"
    },
    {
     "data": {
      "image/png": "[encoded data removed]",
      "text/plain": [
       "<Figure size 432x288 with 1 Axes>"
      ]
     },
     "metadata": {},
     "output_type": "display_data"
    }
   ],
   "source": [
    "plt.hist(Labels,36)"
   ]
  },
  {
   "cell_type": "code",
   "execution_count": 6,
   "metadata": {},
   "outputs": [
    {
     "data": {
      "image/png": "[encoded data removed]",
      "text/plain": [
       "<Figure size 432x288 with 1 Axes>"
      ]
     },
     "metadata": {},
     "output_type": "display_data"
    }
   ],
   "source": [
    "imgplot = plt.imshow(Images[0])"
   ]
  },
  {
   "cell_type": "code",
   "execution_count": 7,
   "metadata": {},
   "outputs": [],
   "source": [
    "#add value 15 in hsv images,yellow will change into green\n",
    "i=0\n",
    "random.uniform(-1,1)\n",
    "\n",
    "for p in range(0,32*1):\n",
    "    \n",
    "    img = Images[i]\n",
    "    img_hsv = cv2.cvtColor(img, cv2.COLOR_BGR2HSV)\n",
    "    \n",
    "    for j in range(1,41):\n",
    "        #40images add 1 on hue\n",
    "        \n",
    "        \n",
    "        turn_green_hsv = img_hsv.copy()\n",
    "        MIN = np.min(turn_green_hsv[:,:,0])\n",
    "        MAX = np.max(turn_green_hsv[:,:,0])\n",
    "        random_factor = random.uniform(-MIN,255-MAX)\n",
    "        turn_green_hsv[:, :, 0] = turn_green_hsv[:, :, 0]+random_factor\n",
    "        turn_green_img = cv2.cvtColor(turn_green_hsv, cv2.COLOR_HSV2BGR)\n",
    "       \n",
    "        #print('factor=',random_factor)\n",
    "        #print('h=',turn_green_hsv[:,:,0])\n",
    "        filename=train_data_directory+ '/' + Labels[i] + '/' + Labels[i]+'_hsv_h'+str(j)+'.jpg'\n",
    "        plt.imsave(filename, turn_green_img)\n",
    "    #print(filename)\n",
    "    i+=1\n"
   ]
  },
  {
   "cell_type": "code",
   "execution_count": 8,
   "metadata": {},
   "outputs": [],
   "source": [
    "#saturation half of before\n",
    "i=0\n",
    "\n",
    "for p in range(0,32):\n",
    "    \n",
    "    img = Images[i]\n",
    "    img_hsv = cv2.cvtColor(img, cv2.COLOR_BGR2HSV)\n",
    "    \n",
    "    \n",
    "    for j in range(1,41):\n",
    "        #40images in saturation\n",
    "      \n",
    "        colorless_hsv = img_hsv.copy()\n",
    "        MIN = np.min(colorless_hsv[:,:,1])\n",
    "        MAX = np.max(colorless_hsv[:,:,1])\n",
    "        random_factor = random.uniform(-MIN,255-MAX+1)\n",
    "        colorless_hsv[:, :, 1] = (random_factor + colorless_hsv[:, :, 1])\n",
    "        #print('factor=',random_factor)\n",
    "        #print('s=',colorless_hsv[:,:,1])\n",
    "        colorless_img = cv2.cvtColor(colorless_hsv, cv2.COLOR_HSV2BGR)\n",
    "    \n",
    "\n",
    "        filename=train_data_directory+'/'+Labels[i]+'/'+Labels[i]+'_hsv_s_'+str(j)+'.jpg'\n",
    "        plt.imsave(filename, colorless_img)\n",
    "    #print(filename)\n",
    "    i+=1"
   ]
  },
  {
   "cell_type": "code",
   "execution_count": 9,
   "metadata": {},
   "outputs": [],
   "source": [
    "#value change into half before\n",
    "i=0\n",
    "\n",
    "for p in range(0,32):\n",
    "    img = Images[i]\n",
    "    img_hsv = cv2.cvtColor(img, cv2.COLOR_BGR2HSV)\n",
    "    \n",
    "    \n",
    "    for j in range(1,41):\n",
    "        darker_hsv = img_hsv.copy()\n",
    "        MIN = np.min(darker_hsv[:,:,2])\n",
    "        MAX = np.max(darker_hsv[:,:,2])\n",
    "        random_factor = random.uniform(-MIN,255-MAX+1)\n",
    "        darker_hsv[:, :, 2] = random_factor+darker_hsv[:, :, 2]\n",
    "        darker_img = cv2.cvtColor(darker_hsv, cv2.COLOR_HSV2BGR)\n",
    "    \n",
    "        filename=train_data_directory+'/'+Labels[i]+'/'+Labels[i]+'_hsv_v_'+str(j)+'.jpg'\n",
    "        plt.imsave(filename, darker_img)\n",
    "    #print(filename)\n",
    "    i+=1\n",
    "        "
   ]
  },
  {
   "cell_type": "code",
   "execution_count": 10,
   "metadata": {},
   "outputs": [],
   "source": [
    "#gamma_trans\n",
    "def gamma_trans(img, gamma):\n",
    "    # 具体做法是先归一化到1，然后gamma作为指数值求出新的像素值再还原\n",
    "    gamma_table = [np.power(x/255.0, gamma)*255.0 for x in range(256)]\n",
    "    gamma_table = np.round(np.array(gamma_table)).astype(np.uint8)\n",
    "    \n",
    "    # 实现这个映射用的是OpenCV的查表函数\n",
    "    return cv2.LUT(img, gamma_table)\n",
    "#chang gamma into half of before\n",
    "i=0\n",
    "for p in range(0,32):\n",
    "    img = Images[i]\n",
    "    for j in range(1,41):#8 images with gamma\n",
    "        random_factor = random.uniform(0,10)\n",
    "        img_corrected = gamma_trans(img,random_factor)\n",
    "    \n",
    "        filename=train_data_directory+'/'+Labels[i]+'/'+ Labels[i]+'_gamma_'+str(j)+'.jpg'\n",
    "        plt.imsave(filename, img_corrected)\n",
    "    #print(filename)\n",
    "    i+=1"
   ]
  },
  {
   "cell_type": "code",
   "execution_count": 11,
   "metadata": {},
   "outputs": [],
   "source": [
    "#######################################################################################################3\n",
    "########################################################################################################\n",
    "##########################################################################################################\n",
    "#projective transformer"
   ]
  },
  {
   "cell_type": "code",
   "execution_count": 12,
   "metadata": {},
   "outputs": [],
   "source": [
    "#######scaling\n",
    "i=0\n",
    "M_crop_elephant = np.array([\n",
    "    [1.6, 0, -2],\n",
    "    [0, 1.6, -1]\n",
    "], dtype=np.float32)\n",
    "for p in range(0,32):\n",
    "    img = Images[i]\n",
    "    for j in range(1,81):#80 images with scaling\n",
    "        row, col, ch = img.shape \n",
    "        random_factor1 = random.uniform(-0.8*col,0.8*col)\n",
    "        random_factor2 = random.uniform(-0.8*row,0.8*row)\n",
    "        M_crop_elephant = np.array([[1.0+random_factor1, 0, 0],[0, 1.0+random_factor2, 0]], dtype=np.float32)\n",
    "       \n",
    "        img_elephant = cv2.warpAffine(img, M_crop_elephant, (90,160))\n",
    "    \n",
    "        filename=train_data_directory+'/'+Labels[i]+'/'+Labels[i]+'_scaling_'+str(j)+'.jpg'\n",
    "        plt.imsave(filename, img_elephant)\n",
    "    #print(filename)\n",
    "    i+=1"
   ]
  },
  {
   "cell_type": "code",
   "execution_count": 13,
   "metadata": {},
   "outputs": [],
   "source": [
    "theta = 1 * np.pi / 180\n",
    "M_shear = np.array([\n",
    "    [1, np.tan(theta), 0],\n",
    "    [0, 1, 0]\n",
    "], dtype=np.float32)\n",
    "i=0\n",
    "for p in range(0,32):\n",
    "    img = Images[i]\n",
    "    for j in range(1,41):#50 degree max\n",
    "        random_factor = random.uniform(-30,30)\n",
    "        theta = 1 *random_factor* np.pi / 180\n",
    "        M_shear = np.array([[1, np.tan(theta), 0],[0, 1, 0]], dtype=np.float32)\n",
    "        \n",
    "    \n",
    "        img_sheared = cv2.warpAffine(img, M_shear, (90,160))\n",
    "    \n",
    "        filename=train_data_directory+'/'+Labels[i]+'/'+Labels[i]+'_sheared_'+str(1*j)+'.jpg'\n",
    "        plt.imsave(filename, img_sheared)\n",
    "    #print(filename)\n",
    "    i+=1"
   ]
  },
  {
   "cell_type": "code",
   "execution_count": 14,
   "metadata": {},
   "outputs": [],
   "source": [
    "#rotation rotated 15 degree\n",
    "i=0\n",
    "theta = 1 * np.pi / 180\n",
    "M_rotate = np.array([\n",
    "    [np.cos(theta), -np.sin(theta), 0],\n",
    "    [np.sin(theta), np.cos(theta), 0]\n",
    "], dtype=np.float32)\n",
    "i=0\n",
    "for p in range(0,32):\n",
    "    img = Images[i]\n",
    "    \n",
    "    for j in range(1,41):#max 45\n",
    "        random_factor = random.uniform(-30,30)\n",
    "        theta = 1 *random_factor* np.pi / 180\n",
    "        M_rotate = np.array([[np.cos(theta), -np.sin(theta), 0],[np.sin(theta), np.cos(theta), 0]], dtype=np.float32)\n",
    "        img_rotated15 = cv2.warpAffine(img, M_rotate, (90,160))\n",
    "    \n",
    "        filename=train_data_directory+'/'+Labels[i]+'/'+Labels[i]+'_rotate_'+str(1*j)+'.jpg'\n",
    "        plt.imsave(filename, img_rotated15)\n",
    "    #print(filename)\n",
    "    i+=1"
   ]
  },
  {
   "cell_type": "code",
   "execution_count": 15,
   "metadata": {},
   "outputs": [],
   "source": [
    "#translation\n",
    "\n",
    "\n",
    "\n",
    "i=0\n",
    "for p in range(0,32):\n",
    "    img = Images[i]\n",
    "    \n",
    "    for j in range(1,6):#max 45\n",
    "        random_factor1 = random.uniform(-3,3)\n",
    "        random_factor1 = random.uniform(-3,3)\n",
    "        \n",
    "        \n",
    "        \n",
    "        M_trans = np.array([[1, 0, random_factor1],[0, 1, random_factor2]], dtype=np.float32)\n",
    "        #print('factor1=',random_factor1)\n",
    "        #print('factor2=',random_factor2)\n",
    "        img_translation = cv2.warpAffine(img, M_trans, (90,160))\n",
    "    \n",
    "        filename=train_data_directory+'/'+Labels[i]+'/'+Labels[i]+'_translation_'+str(1*j)+'.jpg'\n",
    "        plt.imsave(filename, img_translation)\n",
    "    #print(filename)\n",
    "    i+=1"
   ]
  },
  {
   "cell_type": "code",
   "execution_count": 16,
   "metadata": {},
   "outputs": [
    {
     "data": {
      "text/plain": [
       "<matplotlib.image.AxesImage at 0x7fa022bf2668>"
      ]
     },
     "execution_count": 16,
     "metadata": {},
     "output_type": "execute_result"
    },
    {
     "data": {
      "image/png": "[encoded data removed]",
      "text/plain": [
       "<Figure size 432x288 with 1 Axes>"
      ]
     },
     "metadata": {},
     "output_type": "display_data"
    }
   ],
   "source": [
    "img = Images[0]\n",
    "rows, cols, ch = img.shape  \n",
    "  \n",
    "pts1 = np.float32([[0, 0], [cols - 1, 0], [0, rows - 1]])  \n",
    "pts2 = np.float32([[cols * 0.1, rows * 0.1], [cols * 0.9, rows * 0.2], [cols * 0.1, rows * 0.9]])  \n",
    "  \n",
    "M = cv2.getAffineTransform(pts1, pts2)  \n",
    "dst = cv2.warpAffine(img, M, (cols, rows))  \n",
    "  \n",
    "plt.imshow(dst) "
   ]
  },
  {
   "cell_type": "code",
   "execution_count": 17,
   "metadata": {},
   "outputs": [],
   "source": [
    "i=0\n",
    "for p in range(0,32):\n",
    "    img = Images[i]\n",
    "    for j in range(0,201):\n",
    "        rows, cols, ch = img.shape  \n",
    "        random_factor1 = random.uniform(-1,1)+1\n",
    "        random_factor2 = random.uniform(-1,1)+1\n",
    "        random_factor3 = random.uniform(-1,1)+1\n",
    "        random_factor4 = random.uniform(-1,1)+1\n",
    "        random_factor5 = random.uniform(-1,1)+1\n",
    "        random_factor6 = random.uniform(-1,1)+1\n",
    "        \n",
    "        \n",
    "        pts1 = np.float32([[0, 0], [cols -1, 0], [0, rows - 1],[cols-1,rows-1]]) \n",
    "        \n",
    "        \"\"\"pts2 = np.float32([[cols * 0.9*random_factor1, rows * 0.1*random_factor2],\n",
    "                           [cols * 0.1*random_factor3, rows * 0.9*random_factor4], \n",
    "                           [-cols * 1/random_factor5, -rows * 1/random_factor6]])  \"\"\"\n",
    "        pts2 = np.float32([[cols * 0.1*random_factor1, rows * 0.1*random_factor2],\n",
    "                           [cols * 0.1*random_factor3, rows * 0.9*random_factor4], \n",
    "                           [cols * 0.9*random_factor5, rows * 0.1*random_factor6],\n",
    "                          [cols * 0.9*random_factor5, rows * 0.9*random_factor6]])\n",
    "          \n",
    "        M = cv2.getPerspectiveTransform(pts1,pts2) \n",
    "        dst = cv2.warpPerspective(img, M, (cols, rows))  \n",
    "        \n",
    "    \n",
    "        filename=train_data_directory+'/'+Labels[i]+'/'+Labels[i]+'_projective_random_'+str(int(j))+'.jpg'\n",
    "    \n",
    "        plt.imsave(filename, dst)\n",
    "        \n",
    "    #print(filename)\n",
    "    i+=1"
   ]
  },
  {
   "cell_type": "code",
   "execution_count": 18,
   "metadata": {},
   "outputs": [],
   "source": [
    "#gaussian noise\n",
    "\n",
    "i=0\n",
    "for p in range(0,32):\n",
    "    img = Images[i]\n",
    "    \n",
    "    for j in range(1,81):#max 45\n",
    "        random_factor1 = random.uniform(-3,3)\n",
    "        random_factor1 = random.uniform(0,100)\n",
    "        row,col,ch= img.shape\n",
    "        mean = random_factor1\n",
    "        var = random_factor2\n",
    "        sigma = var**0.5\n",
    "        gauss = np.random.normal(mean,sigma,(row,col,ch))\n",
    "        gauss = gauss.reshape(row,col,ch)\n",
    "        noise = np.array(img + gauss)\n",
    "        img_noisy = noise.astype(np.uint8)\n",
    "        \n",
    "        \n",
    "        \n",
    "        \n",
    "    \n",
    "        filename=train_data_directory+'/'+Labels[i]+'/'+Labels[i]+'_gaussian_'+str(1*j)+'.jpg'\n",
    "        plt.imsave(filename, img_noisy)\n",
    "    #print(filename)\n",
    "    i+=1"
   ]
  },
  {
   "cell_type": "code",
   "execution_count": 19,
   "metadata": {},
   "outputs": [],
   "source": [
    "#salt&pepper noise\n",
    "\n",
    "i=0\n",
    "for p in range(0,32):\n",
    "    img = Images[i]\n",
    "    \n",
    "    for j in range(1,81):#max 45\n",
    "        random_factor1 = random.uniform(0,1)\n",
    "        random_factor1 = random.uniform(0,100)\n",
    "        row,col,ch= img.shape\n",
    "        s_vs_p = 0.5\n",
    "        amount = 0.04\n",
    "        s_p = np.copy(img)\n",
    "        num_salt = np.ceil(amount * img.size * s_vs_p)\n",
    "        coords = [np.random.randint(0, i - 1, int(num_salt)) for i in img.shape]\n",
    "        s_p[coords] = 1\n",
    "        \n",
    "        num_pepper = np.ceil(amount* img.size * (1. - s_vs_p))\n",
    "        coords = [np.random.randint(0, i - 1, int(num_pepper)) for i in img.shape]\n",
    "        s_p[coords] = 0\n",
    "        \n",
    "        \n",
    "        \n",
    "        \n",
    "        \n",
    "        \n",
    "    \n",
    "        filename=train_data_directory+'/'+Labels[i]+'/'+Labels[i]+'_pepper&salt_'+str(1*j)+'.jpg'\n",
    "        plt.imsave(filename, s_p)\n",
    "    #print(filename)\n",
    "    i+=1"
   ]
  },
  {
   "cell_type": "code",
   "execution_count": 20,
   "metadata": {},
   "outputs": [
    {
     "name": "stderr",
     "output_type": "stream",
     "text": [
      "/usr/local/lib/python3.5/dist-packages/ipykernel_launcher.py:12: RuntimeWarning: invalid value encountered in true_divide\n",
      "  if sys.path[0] == '':\n"
     ]
    }
   ],
   "source": [
    "#poisson noise\n",
    "\n",
    "i=0\n",
    "for p in range(0,32):\n",
    "    img = Images[i]\n",
    "    \n",
    "    for j in range(1,81):#max 45\n",
    "        \n",
    "        \n",
    "        vals = len(np.unique(img))\n",
    "        vals = 2 ** np.ceil(np.log2(vals))\n",
    "        poisson = np.random.poisson(img * vals) / (float(vals)*img)\n",
    "        img_poisson = img+poisson\n",
    "        \n",
    "        \n",
    "    \n",
    "        filename=train_data_directory+'/'+Labels[i]+'/'+Labels[i]+'_poisson_'+str(1*j)+'.jpg'\n",
    "        plt.imsave(filename, img_poisson)\n",
    "    #print(filename)\n",
    "    i+=1\n"
   ]
  },
  {
   "cell_type": "code",
   "execution_count": 21,
   "metadata": {},
   "outputs": [],
   "source": [
    "#speckle noise\n",
    "\n",
    "i=0\n",
    "for p in range(0,32):\n",
    "    img = Images[i]\n",
    "    \n",
    "    for j in range(1,81):#max 45\n",
    "        random_factor1 = random.uniform(0,2)\n",
    "        random_factor1 = random.uniform(0,100)\n",
    "       \n",
    "       \n",
    "        \n",
    "        \n",
    "        row,col,ch = img.shape\n",
    "        gauss = np.random.randn(row,col,ch)\n",
    "        gauss = gauss.reshape(row,col,ch)\n",
    "        #print('gauss=',gauss)\n",
    "        \n",
    "        speckle = np.array(img + gauss*random_factor1)\n",
    "        img_speckle = speckle.astype(np.uint8)\n",
    "        \n",
    "        \n",
    "    \n",
    "        filename=train_data_directory+'/'+Labels[i]+'/'+Labels[i]+'_speckle_'+str(1*j)+'.jpg'\n",
    "        plt.imsave(filename, img_speckle)\n",
    "    #print(filename)\n",
    "    i+=1\n"
   ]
  },
  {
   "cell_type": "code",
   "execution_count": 22,
   "metadata": {},
   "outputs": [],
   "source": [
    "#blurring random\n",
    "i=0\n",
    "for p in range(0,32):\n",
    "    img = Images[i]\n",
    "    \n",
    "    \n",
    "    \n",
    "    for j in range(1,41):\n",
    "        row,col,ch = img.shape\n",
    "        random_factor1=np.random.random((10,20))\n",
    "        kernel = random_factor1/np.sum(random_factor1)\n",
    "        \n",
    "        random_blur = cv2.filter2D(img,-1,kernel)\n",
    "        \n",
    "    \n",
    "        filename=train_data_directory+'/'+Labels[i]+'/'+Labels[i]+'_random_bluring_'+str(j)+'.jpg'\n",
    "        plt.imsave(filename, random_blur)\n",
    "    #print(filename)\n",
    "    i+=1"
   ]
  },
  {
   "cell_type": "code",
   "execution_count": 23,
   "metadata": {},
   "outputs": [],
   "source": [
    "#blurring average\n",
    "i=0\n",
    "\n",
    "for p in range(0,32):\n",
    "    img = Images[i]\n",
    "    \n",
    "    \n",
    "    \n",
    "    for j in range(1,41):\n",
    "        row,col,ch = img.shape\n",
    "        \n",
    "        random_factor1=np.random.randint(1,col-1)\n",
    "        random_factor2=np.random.randint(1,row-1)\n",
    "        #print(random_factor1)\n",
    "        #print(random_factor2)\n",
    "        \n",
    "        random_factor3 = np.ones((random_factor2,random_factor1),np.float32)\n",
    "       \n",
    "        kernel = random_factor3/np.sum(random_factor3)\n",
    "        \n",
    "        average_blur = cv2.filter2D(img,-1,kernel)\n",
    "        \n",
    "    \n",
    "        filename=train_data_directory+'/'+Labels[i]+'/'+Labels[i]+'_average_bluring_'+str(j)+'.jpg'\n",
    "        plt.imsave(filename, average_blur)\n",
    "    #print(filename)\n",
    "    i+=1"
   ]
  },
  {
   "cell_type": "code",
   "execution_count": 24,
   "metadata": {},
   "outputs": [],
   "source": [
    "#blurring gaussian\n",
    "from scipy.ndimage import gaussian_filter\n",
    "i=0\n",
    "\n",
    "for p in range(0,32):\n",
    "    img = Images[i]\n",
    "    \n",
    "    \n",
    "    \n",
    "    for j in range(1,41):\n",
    "        row,col,ch = img.shape\n",
    "        \n",
    "        random_factor1=np.random.uniform(1,col-1)\n",
    "        random_factor2=np.random.uniform(1,row-1)\n",
    "       # print(random_factor1)\n",
    "       # print(random_factor2)\n",
    "  \n",
    "        \n",
    "        \n",
    "        gaussian_blur = gaussian_filter(img,sigma=random_factor1**0.5)\n",
    "        #gaussian_blur = cv2.GaussianBlur(img,(random_factor2,random_factor2),0)\n",
    "        \n",
    "    \n",
    "        filename=train_data_directory+'/'+Labels[i]+'/'+Labels[i]+'_gaussian_bluring_'+str(j)+'.jpg'\n",
    "        plt.imsave(filename, gaussian_blur)\n",
    "    #print(filename)\n",
    "    i+=1\n"
   ]
  },
  {
   "cell_type": "code",
   "execution_count": null,
   "metadata": {},
   "outputs": [],
   "source": [
    "\n"
   ]
  },
  {
   "cell_type": "code",
   "execution_count": 25,
   "metadata": {},
   "outputs": [],
   "source": [
    "#blurring percentile\n",
    "i=0\n",
    "\n",
    "for p in range(0,32):\n",
    "    img = Images[i]\n",
    "    \n",
    "    \n",
    "    \n",
    "    for j in range(1,41):\n",
    "        row,col,ch = img.shape\n",
    "        \n",
    "        random_factor1=np.random.randint(1,20)\n",
    "        random_factor2=np.random.randint(1,20)\n",
    "        #print(random_factor1)\n",
    "        #print(random_factor2)\n",
    "  \n",
    "        \n",
    "        \n",
    "        percentile_blur = ndimage.percentile_filter(img, percentile=random_factor1, size=random_factor2)\n",
    "        \n",
    "        \n",
    "        \n",
    "    \n",
    "        filename=train_data_directory+'/'+Labels[i]+'/'+Labels[i]+'_percentile_bluring_'+str(j)+'.jpg'\n",
    "        plt.imsave(filename, percentile_blur)\n",
    "    #print(filename)\n",
    "    i+=1\n"
   ]
  },
  {
   "cell_type": "code",
   "execution_count": 26,
   "metadata": {},
   "outputs": [],
   "source": [
    "##"
   ]
  },
  {
   "cell_type": "code",
   "execution_count": 27,
   "metadata": {},
   "outputs": [],
   "source": [
    "#blurring median\n",
    "i=0\n",
    "\n",
    "for p in range(0,32):\n",
    "    img = Images[i]\n",
    "    \n",
    "    \n",
    "    \n",
    "    for j in range(1,41):\n",
    "        row,col,ch = img.shape\n",
    "        \n",
    "        random_factor1=np.random.randint(1,(col-1)/10)\n",
    "        random_factor2=np.random.randint(1,(row-1)/10)\n",
    "        #print(random_factor1)\n",
    "        #print(random_factor2)\n",
    "  \n",
    "        \n",
    "        \n",
    "        median_blur = ndimage.median_filter(img,  size=random_factor2)\n",
    "        \n",
    "        #gaussian_blur = cv2.GaussianBlur(img,(random_factor2,random_factor2),0)\n",
    "        \n",
    "    \n",
    "        filename=train_data_directory+'/'+Labels[i]+'/'+Labels[i]+'_median_bluring_'+str(j)+'.jpg'\n",
    "        plt.imsave(filename, median_blur)\n",
    "    #print(filename)\n",
    "    i+=1"
   ]
  },
  {
   "cell_type": "code",
   "execution_count": 28,
   "metadata": {},
   "outputs": [],
   "source": [
    "#blurring minima\n",
    "i=0\n",
    "\n",
    "for p in range(0,32):\n",
    "    img = Images[i]\n",
    "    \n",
    "    \n",
    "    \n",
    "    for j in range(1,41):\n",
    "        \n",
    "        random_factor1=np.random.randint(1,(col-1)/10)\n",
    "        random_factor2=np.random.randint(1,(row-1)/10)\n",
    "        #print(random_factor1)\n",
    "        #print(random_factor2)\n",
    "  \n",
    "        \n",
    "        \n",
    "        minimum_blur = ndimage.minimum_filter(img,  size=random_factor2*0.5)\n",
    "        \n",
    "        #gaussian_blur = cv2.GaussianBlur(img,(random_factor2,random_factor2),0)\n",
    "        \n",
    "    \n",
    "        filename=train_data_directory+'/'+Labels[i]+'/'+Labels[i]+'_minimum_bluring_'+str(j)+'.jpg'\n",
    "        plt.imsave(filename, minimum_blur)\n",
    "    #print(filename)\n",
    "    i+=1"
   ]
  },
  {
   "cell_type": "code",
   "execution_count": 29,
   "metadata": {},
   "outputs": [],
   "source": [
    "#blurring maximum\n",
    "i=0\n",
    "\n",
    "for p in range(0,32):\n",
    "    img = Images[i]\n",
    "    \n",
    "    \n",
    "    \n",
    "    for j in range(1,41):\n",
    "        \n",
    "        random_factor1=np.random.randint(1,(col-1)/10)\n",
    "        random_factor2=np.random.randint(1,(row-1)/10)\n",
    "        #print(random_factor1)\n",
    "        #print(random_factor2)\n",
    "  \n",
    "        \n",
    "        \n",
    "        maximum_blur = ndimage.maximum_filter(img,  size=random_factor2*0.3)\n",
    "        \n",
    "        #gaussian_blur = cv2.GaussianBlur(img,(random_factor2,random_factor2),0)\n",
    "        \n",
    "    \n",
    "        filename=train_data_directory+'/'+Labels[i]+'/'+Labels[i]+'_maximum_bluring_'+str(j)+'.jpg'\n",
    "        plt.imsave(filename, maximum_blur)\n",
    "    #print(filename)\n",
    "    i+=1"
   ]
  },
  {
   "cell_type": "code",
   "execution_count": 30,
   "metadata": {},
   "outputs": [],
   "source": [
    "#blurring bilateral\n",
    "i=0\n",
    "\n",
    "for p in range(0,32):\n",
    "    img = Images[i]\n",
    "    \n",
    "    \n",
    "    \n",
    "    for j in range(1,41):\n",
    "        \n",
    "        random_factor1=np.random.randint(1,(col-1)/10)\n",
    "        random_factor2=np.random.randint(1,(row-1)/10)\n",
    "        random_factor3=np.random.randint(1,col*row-1)\n",
    "        #print(random_factor1)\n",
    "        #print(random_factor2)\n",
    "        \n",
    "        \n",
    "       \n",
    "       \n",
    "        \n",
    "        bilateral_blur = cv2.bilateralFilter(img,random_factor1,random_factor2,random_factor3)\n",
    "        \n",
    "    \n",
    "        filename=train_data_directory+'/'+Labels[i]+'/'+Labels[i]+'_bilateral_bluring_'+str(j)+'.jpg'\n",
    "        plt.imsave(filename, bilateral_blur)\n",
    "    #print(filename)\n",
    "    i+=1"
   ]
  },
  {
   "cell_type": "code",
   "execution_count": null,
   "metadata": {},
   "outputs": [],
   "source": []
  },
  {
   "cell_type": "code",
   "execution_count": null,
   "metadata": {},
   "outputs": [],
   "source": []
  },
  {
   "cell_type": "code",
   "execution_count": null,
   "metadata": {},
   "outputs": [],
   "source": []
  },
  {
   "cell_type": "code",
   "execution_count": null,
   "metadata": {},
   "outputs": [],
   "source": []
  },
  {
   "cell_type": "code",
   "execution_count": null,
   "metadata": {},
   "outputs": [],
   "source": []
  },
  {
   "cell_type": "code",
   "execution_count": null,
   "metadata": {},
   "outputs": [],
   "source": []
  },
  {
   "cell_type": "code",
   "execution_count": null,
   "metadata": {},
   "outputs": [],
   "source": []
  }
 ],
 "metadata": {
  "kernelspec": {
   "display_name": "Python 3",
   "language": "python",
   "name": "python3"
  },
  "language_info": {
   "codemirror_mode": {
    "name": "ipython",
    "version": 3
   },
   "file_extension": ".py",
   "mimetype": "text/x-python",
   "name": "python",
   "nbconvert_exporter": "python",
   "pygments_lexer": "ipython3",
   "version": "3.5.2"
  }
 },
 "nbformat": 4,
 "nbformat_minor": 2
}
