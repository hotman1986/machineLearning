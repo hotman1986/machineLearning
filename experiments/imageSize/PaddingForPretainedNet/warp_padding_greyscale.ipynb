{
 "cells": [
  {
   "cell_type": "code",
   "execution_count": null,
   "metadata": {},
   "outputs": [],
   "source": []
  },
  {
   "cell_type": "code",
   "execution_count": 1,
   "metadata": {},
   "outputs": [],
   "source": [
    "import PIL\n",
    "from PIL import Image\n",
    "import os\n",
    "import skimage\n",
    "from skimage import data\n",
    "from skimage import transform\n",
    "import matplotlib.pyplot as plt\n",
    "import numpy as np\n",
    "from skimage import io"
   ]
  },
  {
   "cell_type": "code",
   "execution_count": 2,
   "metadata": {},
   "outputs": [],
   "source": [
    "ROOT_PATH = '/home/tang/targa/image_size_exp/test_pretraining_inceptionv3/test_images/50*50imageNet/'\n",
    "load_data_directory_jellyfish = os.path.join(ROOT_PATH,\"jellyfish50*50/\")\n",
    "load_data_directory_locomotive = os.path.join(ROOT_PATH,\"steam_locomotive50*50/\")\n",
    "load_data_directory_fish = os.path.join(ROOT_PATH,\"fish50*50/\")\n"
   ]
  },
  {
   "cell_type": "code",
   "execution_count": 3,
   "metadata": {},
   "outputs": [],
   "source": [
    "from skimage.util import pad"
   ]
  },
  {
   "cell_type": "code",
   "execution_count": 4,
   "metadata": {},
   "outputs": [],
   "source": [
    "s=25\n",
    "pad_shape = ((int(s), int(s)), (int(s), int(s)))"
   ]
  },
  {
   "cell_type": "code",
   "execution_count": 5,
   "metadata": {},
   "outputs": [],
   "source": [
    "# final_width = 52\n",
    "# final_height =52\n",
    "# original_width = 50\n",
    "# original_height = 50\n",
    "# adjust_width = int((final_width-original_width)/2)\n",
    "# adjust_height =int((final_height-original_height)/2)\n"
   ]
  },
  {
   "cell_type": "code",
   "execution_count": 6,
   "metadata": {},
   "outputs": [
    {
     "data": {
      "text/plain": [
       "14"
      ]
     },
     "execution_count": 6,
     "metadata": {},
     "output_type": "execute_result"
    }
   ],
   "source": [
    "len([name for name in os.listdir('.') if os.path.isfile(name)])"
   ]
  },
  {
   "cell_type": "code",
   "execution_count": null,
   "metadata": {},
   "outputs": [],
   "source": [
    "\n"
   ]
  },
  {
   "cell_type": "code",
   "execution_count": null,
   "metadata": {},
   "outputs": [],
   "source": []
  },
  {
   "cell_type": "code",
   "execution_count": 7,
   "metadata": {
    "scrolled": false
   },
   "outputs": [
    {
     "name": "stderr",
     "output_type": "stream",
     "text": [
      "/usr/local/lib/python3.5/dist-packages/skimage/util/dtype.py:122: UserWarning: Possible precision loss when converting from float64 to uint8\n",
      "  .format(dtypeobj_in, dtypeobj_out))\n",
      "/usr/local/lib/python3.5/dist-packages/skimage/io/_io.py:132: UserWarning: /home/tang/targa/image_size_exp/test_pretraining_inceptionv3/test_images/50*50imageNet/jellyfish_padding/175.jpg is a low contrast image\n",
      "  warn('%s is a low contrast image' % fname)\n",
      "/usr/local/lib/python3.5/dist-packages/skimage/io/_io.py:132: UserWarning: /home/tang/targa/image_size_exp/test_pretraining_inceptionv3/test_images/50*50imageNet/jellyfish_padding/430.jpg is a low contrast image\n",
      "  warn('%s is a low contrast image' % fname)\n",
      "/usr/local/lib/python3.5/dist-packages/skimage/io/_io.py:132: UserWarning: /home/tang/targa/image_size_exp/test_pretraining_inceptionv3/test_images/50*50imageNet/jellyfish_padding/823.jpg is a low contrast image\n",
      "  warn('%s is a low contrast image' % fname)\n",
      "/usr/local/lib/python3.5/dist-packages/skimage/io/_io.py:132: UserWarning: /home/tang/targa/image_size_exp/test_pretraining_inceptionv3/test_images/50*50imageNet/jellyfish_padding/1533.jpg is a low contrast image\n",
      "  warn('%s is a low contrast image' % fname)\n",
      "/usr/local/lib/python3.5/dist-packages/skimage/io/_io.py:132: UserWarning: /home/tang/targa/image_size_exp/test_pretraining_inceptionv3/test_images/50*50imageNet/jellyfish_padding/1583.jpg is a low contrast image\n",
      "  warn('%s is a low contrast image' % fname)\n"
     ]
    }
   ],
   "source": [
    "#resize the images\n",
    "path, dirs, files = next(os.walk(load_data_directory_jellyfish))\n",
    "file_count = len(files)\n",
    "from skimage.transform import rescale, resize, downscale_local_mean\n",
    "\n",
    "for i in range(1,file_count+1):\n",
    "    \n",
    "    im = io.imread(load_data_directory_jellyfish+str(i)+'.jpg').astype(np.float64)\n",
    "    #im=np.array(im)\n",
    "    \n",
    "    file_path=ROOT_PATH+'jellyfish_padding/'\n",
    "    if not os.path.exists(file_path):\n",
    "        os.makedirs(file_path)\n",
    "    filename=file_path+str(i)+'.jpg'\n",
    "    img_padded = pad(im, pad_width=pad_shape, mode='wrap')\n",
    "    #newimage=resize(img_padded,(300,300))\n",
    "    newimage=img_padded/255.0\n",
    "    io.imsave(filename,newimage.astype('float64'))\n"
   ]
  },
  {
   "cell_type": "code",
   "execution_count": 8,
   "metadata": {},
   "outputs": [
    {
     "name": "stderr",
     "output_type": "stream",
     "text": [
      "/usr/local/lib/python3.5/dist-packages/skimage/util/dtype.py:122: UserWarning: Possible precision loss when converting from float64 to uint8\n",
      "  .format(dtypeobj_in, dtypeobj_out))\n"
     ]
    }
   ],
   "source": [
    "path, dirs, files = next(os.walk(load_data_directory_locomotive))\n",
    "file_count = len(files)+1\n",
    "from skimage.transform import rescale, resize, downscale_local_mean\n",
    "\n",
    "for i in range(1,file_count):\n",
    "    \n",
    "    im = io.imread(load_data_directory_locomotive+str(i)+'.jpg').astype(np.float64)\n",
    "    #im=np.array(im)\n",
    "    \n",
    "    file_path=ROOT_PATH+'locomotive_padding/'\n",
    "    if not os.path.exists(file_path):\n",
    "        os.makedirs(file_path)\n",
    "    filename=file_path+str(i)+'.jpg'\n",
    "    img_padded = pad(im, pad_width=pad_shape, mode='wrap')\n",
    "    #newimage=resize(img_padded,(300,300))\n",
    "    newimage=img_padded/255.0\n",
    "    io.imsave(filename,newimage.astype('float64'))\n"
   ]
  },
  {
   "cell_type": "code",
   "execution_count": 9,
   "metadata": {},
   "outputs": [
    {
     "name": "stderr",
     "output_type": "stream",
     "text": [
      "/usr/local/lib/python3.5/dist-packages/skimage/util/dtype.py:122: UserWarning: Possible precision loss when converting from float64 to uint8\n",
      "  .format(dtypeobj_in, dtypeobj_out))\n"
     ]
    }
   ],
   "source": [
    "path, dirs, files = next(os.walk(load_data_directory_fish))\n",
    "file_count = len(files)+1\n",
    "from skimage.transform import rescale, resize, downscale_local_mean\n",
    "\n",
    "for i in range(1,file_count):\n",
    "    \n",
    "    im = io.imread(load_data_directory_fish+str(i)+'.jpg').astype(np.float64)\n",
    "    #im=np.array(im)\n",
    "    \n",
    "    file_path=ROOT_PATH+'fish_padding/'\n",
    "    if not os.path.exists(file_path):\n",
    "        os.makedirs(file_path)\n",
    "    filename=file_path+str(i)+'.jpg'\n",
    "    img_padded = pad(im, pad_width=pad_shape, mode='wrap')\n",
    "    #newimage=resize(img_padded,(300,300))\n",
    "    newimage=img_padded/255.0\n",
    "    io.imsave(filename,newimage.astype('float64'))\n"
   ]
  },
  {
   "cell_type": "code",
   "execution_count": null,
   "metadata": {},
   "outputs": [],
   "source": []
  },
  {
   "cell_type": "code",
   "execution_count": null,
   "metadata": {},
   "outputs": [],
   "source": []
  },
  {
   "cell_type": "code",
   "execution_count": null,
   "metadata": {},
   "outputs": [],
   "source": []
  }
 ],
 "metadata": {
  "kernelspec": {
   "display_name": "Python 3",
   "language": "python",
   "name": "python3"
  },
  "language_info": {
   "codemirror_mode": {
    "name": "ipython",
    "version": 3
   },
   "file_extension": ".py",
   "mimetype": "text/x-python",
   "name": "python",
   "nbconvert_exporter": "python",
   "pygments_lexer": "ipython3",
   "version": "3.5.2"
  }
 },
 "nbformat": 4,
 "nbformat_minor": 2
}
