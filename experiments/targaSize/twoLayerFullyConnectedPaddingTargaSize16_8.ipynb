{
 "cells": [
  {
   "cell_type": "code",
   "execution_count": 1,
   "metadata": {},
   "outputs": [
    {
     "name": "stderr",
     "output_type": "stream",
     "text": [
      "/usr/local/lib/python3.5/dist-packages/h5py/__init__.py:36: FutureWarning: Conversion of the second argument of issubdtype from `float` to `np.floating` is deprecated. In future, it will be treated as `np.float64 == np.dtype(float).type`.\n",
      "  from ._conv import register_converters as _register_converters\n"
     ]
    }
   ],
   "source": [
    "%matplotlib inline\n",
    "import matplotlib.pyplot as plt\n",
    "import tensorflow as tf\n",
    "import numpy as np\n",
    "from sklearn.metrics import confusion_matrix"
   ]
  },
  {
   "cell_type": "code",
   "execution_count": 2,
   "metadata": {},
   "outputs": [],
   "source": [
    "HEIGHT = 16\n",
    "WIDTH = 8"
   ]
  },
  {
   "cell_type": "code",
   "execution_count": 3,
   "metadata": {},
   "outputs": [
    {
     "name": "stderr",
     "output_type": "stream",
     "text": [
      "Using TensorFlow backend.\n"
     ]
    }
   ],
   "source": [
    "#!/usr/bin/python3\n",
    "# -*- coding: utf-8 -*-\n",
    "from __future__ import division, print_function, unicode_literals\n",
    "import tensorflow as tf\n",
    "from time import time\n",
    "from keras.utils import np_utils#one hot\n",
    "import os\n",
    "from skimage import data\n",
    "from skimage import transform\n",
    "import skimage\n",
    "import numpy as np\n",
    "\n",
    "# Download the dataset\n",
    "\n",
    "\n",
    "def load_data(data_directory):\n",
    "    directories = [d for d in os.listdir(data_directory) \n",
    "                  if os.path.isdir(os.path.join(data_directory,d))]\n",
    "    labels=[]\n",
    "    images=[]\n",
    "    for d in directories:\n",
    "        label_directory = os.path.join(data_directory,d)\n",
    "        file_names = [os.path.join(label_directory,f)\n",
    "                     for f in os.listdir(label_directory)\n",
    "                     if f.endswith('.jpg')]\n",
    "        for f in file_names:\n",
    "            images.append(skimage.data.imread(f))\n",
    "            labels.append(str(d))\n",
    "    return images, labels"
   ]
  },
  {
   "cell_type": "code",
   "execution_count": 4,
   "metadata": {},
   "outputs": [],
   "source": [
    "ROOT_PATH = '/home/tang/targa/exp3/'\n",
    "train_data_directory = os.path.join(ROOT_PATH, \"nopadding16_8/train\")\n",
    "#validation_data_directory = os.path.join(ROOT_PATH, \"16_8_1568_train\") 16_8_4448_train  16_8_1248_train \n",
    "\n",
    "test_data_directory = os.path.join(ROOT_PATH, \"nopadding16_8/test\")"
   ]
  },
  {
   "cell_type": "code",
   "execution_count": 5,
   "metadata": {},
   "outputs": [],
   "source": [
    "train_images,train_labels = load_data(train_data_directory)\n",
    "test_images,test_labels = load_data(test_data_directory)\n"
   ]
  },
  {
   "cell_type": "code",
   "execution_count": 6,
   "metadata": {},
   "outputs": [],
   "source": [
    "#encoding trY teY\n",
    "from numpy import array\n",
    "#from numpy import argmax\n",
    "#from keras.utils import to_categorical\n",
    "from numpy import array\n",
    "from numpy import argmax\n",
    "from sklearn.preprocessing import LabelEncoder\n",
    "from sklearn.preprocessing import OneHotEncoder\n",
    "# define example\n",
    "\n",
    "#train_labels = np_utils.to_categorical(train_labels,num_classes = None)\n",
    "#test_labels = np_utils.to_categorical(test_labels,num_classes = None)\n",
    "trL,teL=array(train_labels),array(test_labels)\n",
    "label_encoder = LabelEncoder()"
   ]
  },
  {
   "cell_type": "code",
   "execution_count": 7,
   "metadata": {},
   "outputs": [],
   "source": [
    "integer_encoded_trL = label_encoder.fit_transform(trL)\n",
    "integer_encoded_teL = label_encoder.fit_transform(teL)\n"
   ]
  },
  {
   "cell_type": "code",
   "execution_count": 8,
   "metadata": {},
   "outputs": [],
   "source": [
    "trainLabels = np_utils.to_categorical(integer_encoded_trL,num_classes = 32)\n",
    "testLabels = np_utils.to_categorical(integer_encoded_teL,num_classes = 32)\n"
   ]
  },
  {
   "cell_type": "code",
   "execution_count": 9,
   "metadata": {},
   "outputs": [],
   "source": [
    "########convert rgb images into black and white\n",
    "#convert images into size of vector\n",
    "from skimage.color import rgb2gray\n",
    "\n",
    "trainImages = rgb2gray(np.array(train_images))\n",
    "testImages = rgb2gray(np.array(test_images))\n",
    "\n",
    "train_flat_images = np.reshape(trainImages,(len(trainImages),HEIGHT*WIDTH))\n",
    "test_flat_images = np.reshape(testImages,(len(testImages),HEIGHT*WIDTH))\n"
   ]
  },
  {
   "cell_type": "code",
   "execution_count": 10,
   "metadata": {},
   "outputs": [
    {
     "data": {
      "text/plain": [
       "(128,)"
      ]
     },
     "execution_count": 10,
     "metadata": {},
     "output_type": "execute_result"
    }
   ],
   "source": [
    "train_flat_images[0].shape"
   ]
  },
  {
   "cell_type": "code",
   "execution_count": 11,
   "metadata": {},
   "outputs": [
    {
     "name": "stdout",
     "output_type": "stream",
     "text": [
      "train images shape:\t\t(1246, 128)\n",
      "test images shape:\t\t(411, 128)\n"
     ]
    }
   ],
   "source": [
    "print('train images shape:\\t\\t{}'.format(train_flat_images.shape))\n",
    "\n",
    "print('test images shape:\\t\\t{}'.format(test_flat_images.shape))\n",
    "\n"
   ]
  },
  {
   "cell_type": "code",
   "execution_count": 12,
   "metadata": {},
   "outputs": [],
   "source": [
    "batch_size = 100\n",
    "n_batch = len(trainLabels)//batch_size\n",
    "lr = tf.Variable(0.001,dtype = tf.float32)"
   ]
  },
  {
   "cell_type": "code",
   "execution_count": 13,
   "metadata": {},
   "outputs": [],
   "source": [
    "def variable_summaries(var):\n",
    "    with tf.name_scope('summaries'):\n",
    "        mean = tf.reduce_mean(var)\n",
    "        tf.summary.scalar('mean',mean) # 平均值\n",
    "        with tf.name_scope('stddev'):\n",
    "            stddev = tf.sqrt(tf.reduce_mean(tf.square(var-mean)))\n",
    "        tf.summary.scalar('stddev',stddev)\n",
    "        tf.summary.scalar('max',tf.reduce_max(var))\n",
    "        tf.summary.scalar('min',tf.reduce_min(var))\n",
    "        tf.summary.histogram('histgram',var) # 直方图"
   ]
  },
  {
   "cell_type": "code",
   "execution_count": 14,
   "metadata": {},
   "outputs": [
    {
     "name": "stdout",
     "output_type": "stream",
     "text": [
      "WARNING:tensorflow:From <ipython-input-14-cab0e107001a>:66: softmax_cross_entropy_with_logits (from tensorflow.python.ops.nn_ops) is deprecated and will be removed in a future version.\n",
      "Instructions for updating:\n",
      "\n",
      "Future major versions of TensorFlow will allow gradients to flow\n",
      "into the labels input on backprop by default.\n",
      "\n",
      "See tf.nn.softmax_cross_entropy_with_logits_v2.\n",
      "\n"
     ]
    }
   ],
   "source": [
    "\n",
    "#命名空间\n",
    "with tf.name_scope('input'):\n",
    "    #定义两个placeholder \n",
    "    #把批次的图片传进去，开始是100张一次的传送，直到最后\n",
    "    x = tf.placeholder(tf.float32,[None,WIDTH*HEIGHT],name='x-input')\n",
    "    y = tf.placeholder(tf.float32,[None,32],name='y-input')\n",
    "    #定义一个dropout的值\n",
    "    keep_prob = tf.placeholder(tf.float32,name = 'non-dropout-rate')\n",
    "with tf.name_scope('layer'):\n",
    "    with tf.name_scope('W1'):\n",
    "        #第一层\n",
    "        W1 = tf.Variable(tf.truncated_normal([WIDTH*HEIGHT,50],stddev=0.1),name='W1')#改成截断正太分布\n",
    "    with tf.name_scope('b1'):\n",
    "        \n",
    "        b1 = tf.Variable(tf.zeros([50])+0.1,name = 'b1')\n",
    "    with tf.name_scope('out1'):\n",
    "        \n",
    "        output1 = tf.matmul(x,W1) + b1\n",
    "    with tf.name_scope('L1'):\n",
    "        L1 = tf.nn.tanh(output1)\n",
    "    with tf.name_scope('L1-drop'):\n",
    "        #L1为第一层的输出，keep_prob为1的话就是不丢失，如果为0的话就是全丢，如果为0.5的话就是丢失50%的神经元\n",
    "        L1_drop = tf.nn.dropout(L1,keep_prob)\n",
    "\n",
    "    '''\n",
    "    with tf.name_scope('W2'):\n",
    "        #第二层\n",
    "        W2 = tf.Variable(tf.truncated_normal([1000,2000],stddev=0.1),name='W2')\n",
    "    with tf.name_scope('b2'):\n",
    "        b2 = tf.Variable(tf.zeros([2000])+0.2,name='b2')\n",
    "    with tf.name_scope('output2'):\n",
    "        output2 = tf.matmul(L1_drop,W2)+b2\n",
    "    with tf.name_scope('L2'):\n",
    "        \n",
    "        L2 = tf.nn.tanh(output2)\n",
    "    with tf.name_scope('L2_drop'):\n",
    "        #L1为第一层的输出，keep_prob为1的话就是不丢失，如果为0的话就是全丢，如果为0.5的话就是丢失50%的神经元\n",
    "        L2_drop = tf.nn.dropout(L2,keep_prob)\n",
    "\n",
    "    with tf.name_scope('W3'):\n",
    "        #第三层\n",
    "        W3 = tf.Variable(tf.truncated_normal([2000,1000],stddev=0.1),name='W3')\n",
    "    with tf.name_scope('b3'):\n",
    "        b3 = tf.Variable(tf.zeros([1000])+0.1,name='b3')\n",
    "    with tf.name_scope('output3'):   \n",
    "        output3 = tf.matmul(L2_drop,W3)+b3\n",
    "    with tf.name_scope('L3'):\n",
    "        L3 = tf.nn.tanh(output3)\n",
    "    with tf.name_scope('L3-drop'):\n",
    "        #L1为第一层的输出，keep_prob为1的话就是不丢失，如果为0的话就是全丢，如果为0.5的话就是丢失50%的神经元\n",
    "        L3_drop = tf.nn.dropout(L3,keep_prob)\n",
    "        '''\n",
    "    with tf.name_scope('W4'):\n",
    "    #第四层\n",
    "        W4 = tf.Variable(tf.truncated_normal([50,32],stddev=0.1))\n",
    "    with tf.name_scope('b4'):        \n",
    "        b4 = tf.Variable(tf.zeros([32])+0.1)\n",
    "    with tf.name_scope('output4'):\n",
    "        output4 = tf.matmul(L1_drop,W4)+ b4\n",
    "    with tf.name_scope('softmax'):\n",
    "        #预测分类\n",
    "        prediction = tf.nn.softmax(output4)\n",
    "with tf.name_scope('loss'):\n",
    "    #定义一个损失函数\n",
    "    loss = tf.reduce_mean(tf.nn.softmax_cross_entropy_with_logits(labels=y,logits = prediction))#联合交叉熵\n",
    "    tf.summary.scalar('cross_entropy',loss)\n",
    "    #loss = tf.reduce_mean(tf.square(y-prediction))\n",
    "with tf.name_scope('train'):\n",
    "    #定义一个方法来收敛神经网络，使用梯度下降法,学习率=0.1\n",
    "    train_step = tf.train.GradientDescentOptimizer(0.1).minimize(loss)\n",
    "    #train_step = tf.train.AdamOptimizer(0.1).minimize(loss)\n",
    "#初始化\n",
    "init = tf.global_variables_initializer()\n",
    "with tf.name_scope('accuracy'):\n",
    "    with tf.name_scope('correct-prediction'):\n",
    "        #定义一个求准确率的方法\n",
    "        #如果有两个相同的就会返回TRUE，不相同就返回false，然后就依次存入correct_prediction\n",
    "        correct_prediction = tf.equal(tf.argmax(y,1),tf.argmax(prediction,1))#argmax返回一维张量中的最大值\n",
    "    with tf.name_scope('accuracy'):    \n",
    "        #求准确率\n",
    "        #首先把bool值转化成32位的浮点数，然后求平均值\n",
    "        accuracy = tf.reduce_mean(tf.cast(correct_prediction,tf.float32))\n",
    "        tf.summary.scalar('accuracy',accuracy)"
   ]
  },
  {
   "cell_type": "code",
   "execution_count": 15,
   "metadata": {},
   "outputs": [],
   "source": [
    "merged = tf.summary.merge_all()"
   ]
  },
  {
   "cell_type": "code",
   "execution_count": 16,
   "metadata": {},
   "outputs": [],
   "source": [
    "def next_batch(num, data, labels):\n",
    "    '''\n",
    "    Return a total of `num` random samples and labels. \n",
    "    '''\n",
    "    idx = np.arange(0 , len(data))\n",
    "    np.random.shuffle(idx)\n",
    "    idx = idx[:num]\n",
    "    data_shuffle = [data[ i] for i in idx]\n",
    "    labels_shuffle = [labels[ i] for i in idx]\n",
    "\n",
    "    return np.asarray(data_shuffle), np.asarray(labels_shuffle)"
   ]
  },
  {
   "cell_type": "code",
   "execution_count": 17,
   "metadata": {},
   "outputs": [
    {
     "name": "stdout",
     "output_type": "stream",
     "text": [
      "epoch=0,train accuracy=0.038523275,test accuracy=0.04379562,train loss=3.4653277,test loss=3.4655008\n",
      "epoch=2000,train accuracy=0.6187801,test accuracy=0.38199514,train loss=2.9133162,test loss=3.1452827\n",
      "epoch=4000,train accuracy=0.62841094,test accuracy=0.38686132,train loss=2.8936806,test loss=3.1321728\n",
      "epoch=6000,train accuracy=0.630016,test accuracy=0.38442823,train loss=2.8886843,test loss=3.1292572\n",
      "epoch=8000,train accuracy=0.63242376,test accuracy=0.38686132,train loss=2.8849382,test loss=3.1263814\n",
      "epoch=10000,train accuracy=0.635634,test accuracy=0.38929442,train loss=2.8814754,test loss=3.128035\n",
      "epoch=12000,train accuracy=0.6364366,test accuracy=0.38929442,train loss=2.880039,test loss=3.1261227\n",
      "epoch=14000,train accuracy=0.63804173,test accuracy=0.38929442,train loss=2.8782446,test loss=3.1275163\n",
      "epoch=16000,train accuracy=0.64044946,test accuracy=0.38686132,train loss=2.8761222,test loss=3.1264734\n",
      "epoch=18000,train accuracy=0.641252,test accuracy=0.39659366,train loss=2.8744407,test loss=3.1235847\n",
      "epoch=20000,train accuracy=0.66853935,test accuracy=0.4111922,train loss=2.8492315,test loss=3.105712\n",
      "epoch=22000,train accuracy=0.67014444,test accuracy=0.41849148,train loss=2.845889,test loss=3.1003053\n",
      "epoch=24000,train accuracy=0.6982344,test accuracy=0.43552312,train loss=2.8192441,test loss=3.0814571\n",
      "epoch=26000,train accuracy=0.7022472,test accuracy=0.44768855,train loss=2.814543,test loss=3.068516\n",
      "epoch=28000,train accuracy=0.7046549,test accuracy=0.45012164,train loss=2.8123214,test loss=3.06705\n",
      "epoch=30000,train accuracy=0.70545745,test accuracy=0.45498782,train loss=2.8112457,test loss=3.0637956\n",
      "epoch=32000,train accuracy=0.70626,test accuracy=0.45498782,train loss=2.8102074,test loss=3.0653846\n",
      "epoch=34000,train accuracy=0.7070626,test accuracy=0.45498782,train loss=2.8091328,test loss=3.0649266\n",
      "epoch=36000,train accuracy=0.70866776,test accuracy=0.45498782,train loss=2.808038,test loss=3.062356\n",
      "epoch=38000,train accuracy=0.70866776,test accuracy=0.45742092,train loss=2.807314,test loss=3.060892\n",
      "epoch=40000,train accuracy=0.70947033,test accuracy=0.4622871,train loss=2.8063846,test loss=3.0568216\n",
      "epoch=42000,train accuracy=0.71027285,test accuracy=0.459854,train loss=2.8055873,test loss=3.0556185\n",
      "epoch=44000,train accuracy=0.71027285,test accuracy=0.459854,train loss=2.8054962,test loss=3.0558953\n",
      "epoch=46000,train accuracy=0.71027285,test accuracy=0.459854,train loss=2.8054218,test loss=3.054504\n",
      "epoch=48000,train accuracy=0.71027285,test accuracy=0.4647202,train loss=2.8053625,test loss=3.0549664\n",
      "epoch=50000,train accuracy=0.71027285,test accuracy=0.4647202,train loss=2.8052878,test loss=3.0547082\n",
      "epoch=52000,train accuracy=0.7110754,test accuracy=0.4622871,train loss=2.8044832,test loss=3.0547729\n",
      "epoch=54000,train accuracy=0.7110754,test accuracy=0.4647202,train loss=2.8043993,test loss=3.053473\n",
      "epoch=56000,train accuracy=0.711878,test accuracy=0.4647202,train loss=2.8035135,test loss=3.0533547\n",
      "epoch=58000,train accuracy=0.71348315,test accuracy=0.4622871,train loss=2.8021884,test loss=3.0542128\n",
      "epoch=60000,train accuracy=0.71348315,test accuracy=0.4622871,train loss=2.8020115,test loss=3.0549486\n",
      "epoch=62000,train accuracy=0.71428573,test accuracy=0.4647202,train loss=2.8008635,test loss=3.0556376\n",
      "epoch=64000,train accuracy=0.7150883,test accuracy=0.45742092,train loss=2.8003392,test loss=3.0579941\n",
      "epoch=66000,train accuracy=0.7150883,test accuracy=0.45742092,train loss=2.8001826,test loss=3.0565588\n",
      "epoch=68000,train accuracy=0.7158908,test accuracy=0.459854,train loss=2.799495,test loss=3.0551693\n",
      "epoch=70000,train accuracy=0.7158908,test accuracy=0.459854,train loss=2.7994595,test loss=3.0556703\n",
      "epoch=72000,train accuracy=0.7166934,test accuracy=0.459854,train loss=2.7986162,test loss=3.0555072\n",
      "epoch=74000,train accuracy=0.717496,test accuracy=0.459854,train loss=2.7978995,test loss=3.056852\n",
      "epoch=76000,train accuracy=0.717496,test accuracy=0.4622871,train loss=2.7978864,test loss=3.0565138\n",
      "epoch=78000,train accuracy=0.717496,test accuracy=0.459854,train loss=2.7978005,test loss=3.0570083\n",
      "epoch=80000,train accuracy=0.71829855,test accuracy=0.459854,train loss=2.7970629,test loss=3.057611\n",
      "epoch=82000,train accuracy=0.71829855,test accuracy=0.459854,train loss=2.7970672,test loss=3.0578384\n",
      "epoch=84000,train accuracy=0.71829855,test accuracy=0.45742092,train loss=2.797067,test loss=3.0593433\n",
      "epoch=86000,train accuracy=0.71829855,test accuracy=0.459854,train loss=2.7970471,test loss=3.0582116\n",
      "epoch=88000,train accuracy=0.71829855,test accuracy=0.45742092,train loss=2.7970228,test loss=3.057859\n",
      "epoch=90000,train accuracy=0.71829855,test accuracy=0.45742092,train loss=2.7970297,test loss=3.0587485\n",
      "epoch=92000,train accuracy=0.71829855,test accuracy=0.459854,train loss=2.7970085,test loss=3.05738\n",
      "epoch=94000,train accuracy=0.71829855,test accuracy=0.45742092,train loss=2.797012,test loss=3.057704\n",
      "epoch=96000,train accuracy=0.71829855,test accuracy=0.45742092,train loss=2.797011,test loss=3.0583024\n",
      "epoch=98000,train accuracy=0.71829855,test accuracy=0.45742092,train loss=2.7969728,test loss=3.0578651\n",
      "epoch=100000,train accuracy=0.71829855,test accuracy=0.45742092,train loss=2.7969828,test loss=3.0568523\n",
      "epoch=102000,train accuracy=0.71829855,test accuracy=0.45742092,train loss=2.7969456,test loss=3.057784\n",
      "epoch=104000,train accuracy=0.71829855,test accuracy=0.459854,train loss=2.7969656,test loss=3.0564692\n",
      "epoch=106000,train accuracy=0.71829855,test accuracy=0.45742092,train loss=2.7969546,test loss=3.0565012\n",
      "epoch=108000,train accuracy=0.71910113,test accuracy=0.4622871,train loss=2.7960768,test loss=3.0544856\n",
      "epoch=110000,train accuracy=0.7199037,test accuracy=0.4647202,train loss=2.7955449,test loss=3.05419\n",
      "epoch=112000,train accuracy=0.7199037,test accuracy=0.4647202,train loss=2.7953641,test loss=3.0542817\n",
      "epoch=114000,train accuracy=0.7199037,test accuracy=0.4622871,train loss=2.7953331,test loss=3.0550854\n",
      "epoch=116000,train accuracy=0.7199037,test accuracy=0.4647202,train loss=2.7953205,test loss=3.054144\n",
      "epoch=118000,train accuracy=0.7199037,test accuracy=0.46715328,train loss=2.7953,test loss=3.05406\n",
      "epoch=120000,train accuracy=0.7199037,test accuracy=0.4647202,train loss=2.7952578,test loss=3.0544364\n",
      "epoch=122000,train accuracy=0.7199037,test accuracy=0.4647202,train loss=2.7952075,test loss=3.0536563\n",
      "epoch=124000,train accuracy=0.7207063,test accuracy=0.4647202,train loss=2.7944052,test loss=3.0531666\n",
      "epoch=126000,train accuracy=0.7207063,test accuracy=0.4622871,train loss=2.794298,test loss=3.0534232\n",
      "epoch=128000,train accuracy=0.74398077,test accuracy=0.47201946,train loss=2.7719622,test loss=3.0431106\n",
      "epoch=130000,train accuracy=0.747191,test accuracy=0.47445256,train loss=2.7684617,test loss=3.0412257\n",
      "epoch=132000,train accuracy=0.747191,test accuracy=0.47445256,train loss=2.768445,test loss=3.0411327\n",
      "epoch=134000,train accuracy=0.747191,test accuracy=0.47445256,train loss=2.7684212,test loss=3.0424335\n",
      "epoch=136000,train accuracy=0.747191,test accuracy=0.47688565,train loss=2.7684166,test loss=3.0408232\n",
      "epoch=138000,train accuracy=0.747191,test accuracy=0.47931874,train loss=2.7683892,test loss=3.0404515\n",
      "epoch=140000,train accuracy=0.747191,test accuracy=0.47445256,train loss=2.7683592,test loss=3.0411568\n",
      "epoch=142000,train accuracy=0.747191,test accuracy=0.47931874,train loss=2.7683573,test loss=3.0403543\n",
      "epoch=144000,train accuracy=0.747191,test accuracy=0.47201946,train loss=2.7683368,test loss=3.0412343\n",
      "epoch=146000,train accuracy=0.747191,test accuracy=0.47201946,train loss=2.768286,test loss=3.0403965\n",
      "epoch=148000,train accuracy=0.747191,test accuracy=0.48175183,train loss=2.7682269,test loss=3.0404139\n",
      "epoch=150000,train accuracy=0.77367574,test accuracy=0.49635038,train loss=2.7424011,test loss=3.0204077\n",
      "epoch=152000,train accuracy=0.77367574,test accuracy=0.49878347,train loss=2.7422802,test loss=3.021801\n",
      "epoch=154000,train accuracy=0.7752809,test accuracy=0.49878347,train loss=2.740733,test loss=3.0192313\n",
      "epoch=156000,train accuracy=0.7752809,test accuracy=0.49635038,train loss=2.7406883,test loss=3.0197413\n",
      "epoch=158000,train accuracy=0.7752809,test accuracy=0.49635038,train loss=2.7406816,test loss=3.0196917\n"
     ]
    },
    {
     "name": "stdout",
     "output_type": "stream",
     "text": [
      "epoch=160000,train accuracy=0.7752809,test accuracy=0.49878347,train loss=2.740676,test loss=3.0188537\n",
      "epoch=162000,train accuracy=0.7752809,test accuracy=0.49878347,train loss=2.7406476,test loss=3.01981\n",
      "epoch=164000,train accuracy=0.7752809,test accuracy=0.49635038,train loss=2.740588,test loss=3.0192173\n",
      "epoch=166000,train accuracy=0.7752809,test accuracy=0.49635038,train loss=2.740513,test loss=3.0194597\n",
      "epoch=168000,train accuracy=0.8017656,test accuracy=0.5060827,train loss=2.7146814,test loss=3.0135593\n",
      "epoch=170000,train accuracy=0.8033708,test accuracy=0.5109489,train loss=2.7135599,test loss=3.0075862\n",
      "epoch=172000,train accuracy=0.8033708,test accuracy=0.5158151,train loss=2.7131622,test loss=3.0057056\n",
      "epoch=174000,train accuracy=0.8033708,test accuracy=0.5158151,train loss=2.713026,test loss=3.0052917\n",
      "epoch=176000,train accuracy=0.80417335,test accuracy=0.5182482,train loss=2.712219,test loss=3.0035691\n",
      "epoch=178000,train accuracy=0.8049759,test accuracy=0.52068126,train loss=2.7114425,test loss=3.0031507\n",
      "epoch=180000,train accuracy=0.8049759,test accuracy=0.52068126,train loss=2.7113798,test loss=3.0021267\n",
      "epoch=182000,train accuracy=0.8057785,test accuracy=0.5182482,train loss=2.7104893,test loss=3.0023923\n",
      "epoch=184000,train accuracy=0.8065811,test accuracy=0.5158151,train loss=2.7097728,test loss=3.0011098\n",
      "epoch=186000,train accuracy=0.8065811,test accuracy=0.5158151,train loss=2.7097697,test loss=3.0016465\n",
      "epoch=188000,train accuracy=0.8065811,test accuracy=0.5158151,train loss=2.7097898,test loss=3.0019588\n",
      "epoch=190000,train accuracy=0.8065811,test accuracy=0.5158151,train loss=2.709764,test loss=3.0018108\n",
      "epoch=192000,train accuracy=0.8065811,test accuracy=0.5158151,train loss=2.7097757,test loss=3.0019155\n",
      "epoch=194000,train accuracy=0.80738366,test accuracy=0.5182482,train loss=2.7091088,test loss=3.0000951\n",
      "epoch=196000,train accuracy=0.8081862,test accuracy=0.5182482,train loss=2.7081523,test loss=3.0009425\n",
      "epoch=198000,train accuracy=0.8081862,test accuracy=0.5182482,train loss=2.7081447,test loss=3.0010104\n",
      "epoch=200000,train accuracy=0.8081862,test accuracy=0.5158151,train loss=2.7081645,test loss=3.0004857\n"
     ]
    }
   ],
   "source": [
    "with tf.Session() as sess:\n",
    "    sess.run(init)\n",
    "    #路径和文件名\n",
    "    train_writer = tf.summary.FileWriter('logs/padding16*8targa/train',sess.graph)\n",
    "   \n",
    "    test_writer = tf.summary.FileWriter('logs/padding16*8targa/test',sess.graph)\n",
    "    for epoch in range(200001):#把所有的图片训练20次\n",
    "        #一批一批的迭代图片，一次迭代100张，一共运行n_batch次\n",
    "        for batch in range(n_batch):\n",
    "            #每次传入一百张图片\n",
    "            batch_xs,batch_ys = next_batch(batch_size,train_flat_images,trainLabels)\n",
    "            sess.run(train_step,feed_dict={x:batch_xs,y:batch_ys,keep_prob:0.7})\n",
    "        train_batch_xs,train_batch_ys = train_flat_images,trainLabels\n",
    "        summary = sess.run(merged,feed_dict={x:train_batch_xs,y:train_batch_ys,keep_prob:1.0})           \n",
    "        train_writer.add_summary(summary,epoch)\n",
    "            \n",
    "        test_batch_xs,test_batch_ys = test_flat_images,testLabels\n",
    "        summary = sess.run(merged,feed_dict={x:test_batch_xs,y:test_batch_ys,keep_prob:1.0})\n",
    "        test_writer.add_summary(summary,epoch)  \n",
    "        \n",
    "        test_acc = sess.run(accuracy,feed_dict={x:test_flat_images,y:testLabels,keep_prob:1.0})        \n",
    "        train_acc = sess.run(accuracy,feed_dict={x:train_flat_images,y:trainLabels,keep_prob:1.0})\n",
    "        test_loss = sess.run(loss,feed_dict={x:test_flat_images,y:testLabels,keep_prob:1.0}) \n",
    "        train_loss = sess.run(loss,feed_dict={x:train_flat_images,y:trainLabels,keep_prob:1.0})\n",
    "        if epoch%2000 == 0:\n",
    "            \n",
    "            print('epoch=' + str(epoch) + ',train accuracy='+ str(train_acc)+',test accuracy=' + str(test_acc)+',train loss='+str(train_loss)+',test loss='+str(test_loss))"
   ]
  }
 ],
 "metadata": {
  "kernelspec": {
   "display_name": "Python 3",
   "language": "python",
   "name": "python3"
  },
  "language_info": {
   "codemirror_mode": {
    "name": "ipython",
    "version": 3
   },
   "file_extension": ".py",
   "mimetype": "text/x-python",
   "name": "python",
   "nbconvert_exporter": "python",
   "pygments_lexer": "ipython3",
   "version": "3.5.2"
  }
 },
 "nbformat": 4,
 "nbformat_minor": 2
}
