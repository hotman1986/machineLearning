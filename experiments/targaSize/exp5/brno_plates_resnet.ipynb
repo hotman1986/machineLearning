{
 "cells": [
  {
   "cell_type": "code",
   "execution_count": 291,
   "metadata": {},
   "outputs": [],
   "source": [
    "import csv\n",
    "import skimage\n",
    "from skimage import data\n",
    "from numpy import array\n",
    "import matplotlib.pyplot as plt\n",
    "import numpy as np\n",
    "from keras.models import load_model\n",
    "import os\n",
    "\n",
    "from numpy import argmax\n",
    "from sklearn.preprocessing import LabelEncoder\n",
    "from sklearn.preprocessing import OneHotEncoder\n",
    "from keras.utils import np_utils"
   ]
  },
  {
   "cell_type": "code",
   "execution_count": 2,
   "metadata": {},
   "outputs": [],
   "source": [
    "import timeit"
   ]
  },
  {
   "cell_type": "code",
   "execution_count": 3,
   "metadata": {},
   "outputs": [
    {
     "name": "stderr",
     "output_type": "stream",
     "text": [
      "/usr/local/lib/python3.5/dist-packages/skimage/transform/_warps.py:105: UserWarning: The default mode, 'constant', will be changed to 'reflect' in skimage 0.15.\n",
      "  warn(\"The default mode, 'constant', will be changed to 'reflect' in \"\n",
      "/usr/local/lib/python3.5/dist-packages/skimage/transform/_warps.py:110: UserWarning: Anti-aliasing will be enabled by default in skimage 0.15 to avoid aliasing artifacts when down-sampling images.\n",
      "  warn(\"Anti-aliasing will be enabled by default in skimage 0.15 to \"\n"
     ]
    }
   ],
   "source": [
    "csv.register_dialect('myDialect',\n",
    "delimiter = ',',\n",
    "skipinitialspace=True)\n",
    "trainImages=[]\n",
    "trainLabels=[]\n",
    "testImages=[]\n",
    "testLabels=[]\n",
    "with open('trainVal.csv','r') as csvFile:\n",
    "    reader = csv.reader(csvFile,dialect='myDialect')\n",
    "    for row in reader:\n",
    "        if row[3]=='1':\n",
    "            img=skimage.data.imread(row[1])\n",
    "            img = skimage.transform.resize(img,(40,200,3))\n",
    "            \n",
    "            \n",
    "            #### face different length of license\n",
    "            x_trainLabel=str(row[2])\n",
    "            if len(x_trainLabel)==7:\n",
    "                trainImages.append(img)\n",
    "                trainLabels.append(x_trainLabel[0:3]+'#'+x_trainLabel[3:])\n",
    "            if len(x_trainLabel)==6:\n",
    "                trainImages.append(img)\n",
    "                trainLabels.append(x_trainLabel[0:3]+'..'+x_trainLabel[3:])\n",
    "            if len(x_trainLabel)==5:\n",
    "                trainImages.append(img)\n",
    "                trainLabels.append(x_trainLabel[0]+'###'+x_trainLabel[1:])\n",
    "                \n",
    "#         if row[3]=='0':\n",
    "#             img=skimage.data.imread(row[1])\n",
    "#             img = skimage.transform.resize(img,(40,200,3))\n",
    "            \n",
    "            \n",
    "#             x_testLabel=str(row[2])\n",
    "#             if len(x_testLabel)==7:\n",
    "#                 testImages.append(img)\n",
    "#                 testLabels.append(x_testLabel[0:3]+'#'+x_testLabel[3:])\n",
    "#             if len(x_testLabel)==6:\n",
    "#                 testImages.append(img)\n",
    "#                 testLabels.append(x_testLabel[0:3]+'..'+x_testLabel[3:])\n",
    "#             if len(x_trainLabel)==5:\n",
    "#                 testImages.append(img)\n",
    "#                 testLabels.append(x_testLabel[0]+'###'+x_testLabel[1:])\n",
    "        \n",
    "        #print(row,row[3])\n",
    "        "
   ]
  },
  {
   "cell_type": "code",
   "execution_count": 4,
   "metadata": {},
   "outputs": [
    {
     "data": {
      "text/plain": [
       "(105671, 105671)"
      ]
     },
     "execution_count": 4,
     "metadata": {},
     "output_type": "execute_result"
    }
   ],
   "source": [
    "len(trainImages),len(trainLabels)"
   ]
  },
  {
   "cell_type": "code",
   "execution_count": 5,
   "metadata": {},
   "outputs": [
    {
     "data": {
      "text/plain": [
       "<matplotlib.image.AxesImage at 0x7effdd3479e8>"
      ]
     },
     "execution_count": 5,
     "metadata": {},
     "output_type": "execute_result"
    },
    {
     "data": {
      "image/png": "[encoded data removed]",
      "text/plain": [
       "<Figure size 432x288 with 1 Axes>"
      ]
     },
     "metadata": {
      "needs_background": "light"
     },
     "output_type": "display_data"
    }
   ],
   "source": [
    "skimage.io.imshow(trainImages[100001])"
   ]
  },
  {
   "cell_type": "code",
   "execution_count": null,
   "metadata": {},
   "outputs": [],
   "source": []
  },
  {
   "cell_type": "code",
   "execution_count": 6,
   "metadata": {},
   "outputs": [
    {
     "data": {
      "text/plain": [
       "'9B8#4242'"
      ]
     },
     "execution_count": 6,
     "metadata": {},
     "output_type": "execute_result"
    }
   ],
   "source": [
    "trainLabels[100001]"
   ]
  },
  {
   "cell_type": "code",
   "execution_count": 7,
   "metadata": {},
   "outputs": [],
   "source": [
    "# len(testLabels),len(testImages)"
   ]
  },
  {
   "cell_type": "code",
   "execution_count": 8,
   "metadata": {
    "scrolled": true
   },
   "outputs": [],
   "source": [
    "# skimage.io.imshow(testImages[10001])"
   ]
  },
  {
   "cell_type": "code",
   "execution_count": 9,
   "metadata": {},
   "outputs": [],
   "source": [
    "# testLabels[10001]"
   ]
  },
  {
   "cell_type": "code",
   "execution_count": 7,
   "metadata": {},
   "outputs": [
    {
     "name": "stderr",
     "output_type": "stream",
     "text": [
      "Using TensorFlow backend.\n"
     ]
    }
   ],
   "source": []
  },
  {
   "cell_type": "code",
   "execution_count": 8,
   "metadata": {},
   "outputs": [],
   "source": [
    "# define universe of possible input values\n",
    "alphabet = '0123456789abcdefghijklmnopqrstuvwxyz#. '.upper()"
   ]
  },
  {
   "cell_type": "code",
   "execution_count": 9,
   "metadata": {},
   "outputs": [],
   "source": [
    "# define a mapping of chars to integers\n",
    "char_to_int = dict((c, i) for i, c in enumerate(alphabet))\n",
    "int_to_char = dict((i, c) for i, c in enumerate(alphabet))"
   ]
  },
  {
   "cell_type": "code",
   "execution_count": null,
   "metadata": {},
   "outputs": [],
   "source": []
  },
  {
   "cell_type": "code",
   "execution_count": 13,
   "metadata": {
    "scrolled": true
   },
   "outputs": [
    {
     "data": {
      "text/plain": [
       "39"
      ]
     },
     "execution_count": 13,
     "metadata": {},
     "output_type": "execute_result"
    }
   ],
   "source": [
    "len(alphabet)"
   ]
  },
  {
   "cell_type": "code",
   "execution_count": 14,
   "metadata": {
    "scrolled": true
   },
   "outputs": [],
   "source": [
    "#len(testLabels)"
   ]
  },
  {
   "cell_type": "code",
   "execution_count": 10,
   "metadata": {
    "scrolled": true
   },
   "outputs": [],
   "source": [
    "#print how many license less than 8 characters\n",
    "i=0\n",
    "for label in trainLabels:\n",
    "    if len(label)<8:\n",
    "        print(label)\n",
    "        i=i+1"
   ]
  },
  {
   "cell_type": "code",
   "execution_count": 16,
   "metadata": {},
   "outputs": [],
   "source": [
    "#skimage.io.imshow('s04_l01/882_1.png')"
   ]
  },
  {
   "cell_type": "code",
   "execution_count": 17,
   "metadata": {},
   "outputs": [],
   "source": [
    "#skimage.io.imshow('s01_l01/142_1.png')"
   ]
  },
  {
   "cell_type": "code",
   "execution_count": null,
   "metadata": {},
   "outputs": [],
   "source": []
  },
  {
   "cell_type": "code",
   "execution_count": 18,
   "metadata": {},
   "outputs": [],
   "source": [
    "#skimage.io.imshow('s02_l01/1212_1.png')"
   ]
  },
  {
   "cell_type": "code",
   "execution_count": 11,
   "metadata": {},
   "outputs": [],
   "source": [
    "#one hot encoding labels\n",
    "list_trainLabels=list()\n",
    "\n",
    "for label in trainLabels:\n",
    "    train_encoded = [char_to_int[char] for char in label]\n",
    "    for value in train_encoded:\n",
    "        letter = [0 for _ in range(len(alphabet))]\n",
    "        letter[value] = 1\n",
    "        list_trainLabels.append(letter)"
   ]
  },
  {
   "cell_type": "code",
   "execution_count": null,
   "metadata": {},
   "outputs": [],
   "source": []
  },
  {
   "cell_type": "code",
   "execution_count": null,
   "metadata": {},
   "outputs": [],
   "source": []
  },
  {
   "cell_type": "code",
   "execution_count": 20,
   "metadata": {},
   "outputs": [],
   "source": [
    "#x = np.reshape(list_trainLabels,(len(trainLabels)*8,39))"
   ]
  },
  {
   "cell_type": "code",
   "execution_count": 21,
   "metadata": {},
   "outputs": [],
   "source": [
    "#y= np.reshape(list_testLabels,(len(testLabels)*8,39))"
   ]
  },
  {
   "cell_type": "code",
   "execution_count": 22,
   "metadata": {
    "scrolled": true
   },
   "outputs": [],
   "source": [
    "#x[0:8]"
   ]
  },
  {
   "cell_type": "code",
   "execution_count": 23,
   "metadata": {
    "scrolled": true
   },
   "outputs": [],
   "source": [
    "####check the correct encoding\n",
    "# for i in range(1000*8,1000*8+16):\n",
    "#     print(trainLabels[1000])\n",
    "#     print(int_to_char[argmax(x[i])])\n"
   ]
  },
  {
   "cell_type": "code",
   "execution_count": 12,
   "metadata": {},
   "outputs": [
    {
     "data": {
      "text/plain": [
       "40"
      ]
     },
     "execution_count": 12,
     "metadata": {},
     "output_type": "execute_result"
    }
   ],
   "source": [
    "trainImages[0].shape[0]"
   ]
  },
  {
   "cell_type": "code",
   "execution_count": 13,
   "metadata": {},
   "outputs": [],
   "source": [
    "###############data struture"
   ]
  },
  {
   "cell_type": "code",
   "execution_count": 14,
   "metadata": {
    "scrolled": true
   },
   "outputs": [],
   "source": [
    "trainX=np.array(trainImages)\n"
   ]
  },
  {
   "cell_type": "code",
   "execution_count": 27,
   "metadata": {},
   "outputs": [],
   "source": []
  },
  {
   "cell_type": "code",
   "execution_count": null,
   "metadata": {},
   "outputs": [],
   "source": []
  },
  {
   "cell_type": "code",
   "execution_count": 28,
   "metadata": {},
   "outputs": [],
   "source": [
    "\n"
   ]
  },
  {
   "cell_type": "code",
   "execution_count": null,
   "metadata": {},
   "outputs": [],
   "source": []
  },
  {
   "cell_type": "code",
   "execution_count": null,
   "metadata": {},
   "outputs": [],
   "source": []
  },
  {
   "cell_type": "code",
   "execution_count": null,
   "metadata": {},
   "outputs": [],
   "source": []
  },
  {
   "cell_type": "code",
   "execution_count": 15,
   "metadata": {},
   "outputs": [],
   "source": [
    "trainY=np.array(list_trainLabels)\n"
   ]
  },
  {
   "cell_type": "code",
   "execution_count": 16,
   "metadata": {},
   "outputs": [],
   "source": [
    "trainY=trainY.reshape(len(trainLabels),8,39)\n",
    "trainX=trainX.reshape(len(trainX),trainX[0].shape[0],\n",
    "                           trainX[0].shape[1],\n",
    "                           trainX[0].shape[2]).astype(\"float32\")/255\n"
   ]
  },
  {
   "cell_type": "code",
   "execution_count": null,
   "metadata": {},
   "outputs": [],
   "source": []
  },
  {
   "cell_type": "code",
   "execution_count": 17,
   "metadata": {},
   "outputs": [
    {
     "data": {
      "text/plain": [
       "numpy.ndarray"
      ]
     },
     "execution_count": 17,
     "metadata": {},
     "output_type": "execute_result"
    }
   ],
   "source": [
    "type(trainX[0])"
   ]
  },
  {
   "cell_type": "code",
   "execution_count": 18,
   "metadata": {},
   "outputs": [
    {
     "data": {
      "text/plain": [
       "numpy.ndarray"
      ]
     },
     "execution_count": 18,
     "metadata": {},
     "output_type": "execute_result"
    }
   ],
   "source": [
    "type(trainY[0])"
   ]
  },
  {
   "cell_type": "code",
   "execution_count": 19,
   "metadata": {},
   "outputs": [],
   "source": [
    "#trainY[0]"
   ]
  },
  {
   "cell_type": "code",
   "execution_count": 20,
   "metadata": {
    "scrolled": true
   },
   "outputs": [
    {
     "data": {
      "text/plain": [
       "((40, 200, 3), (8, 39), 105671, 105671)"
      ]
     },
     "execution_count": 20,
     "metadata": {},
     "output_type": "execute_result"
    }
   ],
   "source": [
    "trainX[0].shape,trainY[0].shape,len(trainX),len(trainY)"
   ]
  },
  {
   "cell_type": "code",
   "execution_count": 21,
   "metadata": {},
   "outputs": [
    {
     "data": {
      "text/plain": [
       "numpy.ndarray"
      ]
     },
     "execution_count": 21,
     "metadata": {},
     "output_type": "execute_result"
    }
   ],
   "source": [
    "type(trainY)"
   ]
  },
  {
   "cell_type": "code",
   "execution_count": null,
   "metadata": {},
   "outputs": [],
   "source": []
  },
  {
   "cell_type": "code",
   "execution_count": null,
   "metadata": {},
   "outputs": [],
   "source": []
  },
  {
   "cell_type": "code",
   "execution_count": 22,
   "metadata": {},
   "outputs": [],
   "source": [
    "#skimage.io.imshow(trainX[10000])"
   ]
  },
  {
   "cell_type": "code",
   "execution_count": 23,
   "metadata": {
    "scrolled": true
   },
   "outputs": [
    {
     "name": "stdout",
     "output_type": "stream",
     "text": [
      "6\n",
      "B\n",
      "5\n",
      "#\n",
      "3\n",
      "1\n",
      "0\n",
      "6\n"
     ]
    }
   ],
   "source": [
    "for ttt in trainY[10000]:\n",
    "    print(int_to_char[argmax(ttt)])\n",
    "    "
   ]
  },
  {
   "cell_type": "code",
   "execution_count": null,
   "metadata": {},
   "outputs": [],
   "source": []
  },
  {
   "cell_type": "code",
   "execution_count": null,
   "metadata": {},
   "outputs": [],
   "source": []
  },
  {
   "cell_type": "code",
   "execution_count": null,
   "metadata": {},
   "outputs": [],
   "source": []
  },
  {
   "cell_type": "code",
   "execution_count": 24,
   "metadata": {},
   "outputs": [
    {
     "ename": "NameError",
     "evalue": "name 'list_' is not defined",
     "output_type": "error",
     "traceback": [
      "\u001b[0;31m---------------------------------------------------------------------------\u001b[0m",
      "\u001b[0;31mNameError\u001b[0m                                 Traceback (most recent call last)",
      "\u001b[0;32m<ipython-input-24-d603d6a0dfaf>\u001b[0m in \u001b[0;36m<module>\u001b[0;34m\u001b[0m\n\u001b[1;32m      1\u001b[0m \u001b[0;32mdel\u001b[0m \u001b[0mtrainImages\u001b[0m\u001b[0;34m\u001b[0m\u001b[0m\n\u001b[1;32m      2\u001b[0m \u001b[0;32mdel\u001b[0m \u001b[0mtrainLabels\u001b[0m\u001b[0;34m\u001b[0m\u001b[0m\n\u001b[0;32m----> 3\u001b[0;31m \u001b[0;32mdel\u001b[0m \u001b[0mlist_\u001b[0m\u001b[0;34m\u001b[0m\u001b[0m\n\u001b[0m",
      "\u001b[0;31mNameError\u001b[0m: name 'list_' is not defined"
     ]
    }
   ],
   "source": [
    "del trainImages\n",
    "del trainLabels\n"
   ]
  },
  {
   "cell_type": "code",
   "execution_count": null,
   "metadata": {},
   "outputs": [],
   "source": [
    "from keras.models import Sequential,Model\n",
    "from keras.layers import Dense, Conv2D, Flatten,Activation,MaxPooling2D,Input\n",
    "from keras.layers.normalization import BatchNormalization\n",
    "from keras.layers.merge import concatenate\n",
    "from keras import layers\n",
    "import keras\n",
    "import tensorflow as tf\n"
   ]
  },
  {
   "cell_type": "code",
   "execution_count": 277,
   "metadata": {},
   "outputs": [],
   "source": [
    "def Unit(x,filters,pool=False):\n",
    "    res = x\n",
    "    if pool:\n",
    "        x = MaxPooling2D(pool_size=(2, 2))(x)\n",
    "        res = Conv2D(filters=filters,kernel_size=[1,1],strides=(2,2),padding=\"same\")(res)\n",
    "    out = BatchNormalization()(x)\n",
    "    out = Activation(\"relu\")(out)\n",
    "    out = Conv2D(filters=filters, kernel_size=[3, 3], strides=[1, 1], padding=\"same\")(out)\n",
    "\n",
    "    out = BatchNormalization()(out)\n",
    "    out = Activation(\"relu\")(out)\n",
    "    out = Conv2D(filters=filters, kernel_size=[3, 3], strides=[1, 1], padding=\"same\")(out)\n",
    "\n",
    "    out = keras.layers.add([res,out])\n",
    "\n",
    "    return out"
   ]
  },
  {
   "cell_type": "code",
   "execution_count": 280,
   "metadata": {},
   "outputs": [],
   "source": [
    "def MiniModel(input_shape):\n",
    "    images = input_shape\n",
    "    net = Conv2D(filters=32, kernel_size=[3, 3], strides=[1, 1], padding=\"same\")(images)\n",
    "    net = Unit(net,32)\n",
    "    net = Unit(net,32)\n",
    "    net = Unit(net,32)\n",
    "\n",
    "    net = Unit(net,64,pool=True)\n",
    "    net = Unit(net,64)\n",
    "    net = Unit(net,64)\n",
    "    net = Unit(net,64)\n",
    "\n",
    "    net = Unit(net,128,pool=True)\n",
    "    net = Unit(net,128)\n",
    "    net = Unit(net,128)\n",
    "    net = Unit(net,128)\n",
    "    net = Unit(net,128)\n",
    "    net = Unit(net,128)\n",
    "    net = Unit(net,128)\n",
    "    net = Unit(net,128)\n",
    "    net = Unit(net,128)\n",
    "    net = Unit(net,128)\n",
    "    net = Unit(net,128)\n",
    "    net = Unit(net,128)\n",
    "    \n",
    "\n",
    "    net = Unit(net, 256,pool=True)\n",
    "    net = Unit(net, 256)\n",
    "    net = Unit(net, 256)\n",
    "\n",
    "    net = BatchNormalization()(net)\n",
    "    net = Activation(\"relu\")(net)\n",
    "    #net = Dropout(0.25)(net)\n",
    "\n",
    "#     net = AveragePooling2D(pool_size = (2,2), strides = 2)(net)\n",
    "#     net = Flatten()(net)\n",
    "#     net = Dense(units=10,activation=\"softmax\")(net)\n",
    "\n",
    "#     model = Model(inputs=images,outputs=net)\n",
    "\n",
    "    return net"
   ]
  },
  {
   "cell_type": "code",
   "execution_count": 283,
   "metadata": {
    "scrolled": true
   },
   "outputs": [
    {
     "data": {
      "text/plain": [
       "\"\\nmain=model.add(Conv2D(32, kernel_size=3,padding='same',input_shape=trainX[0].shape))\\nmain=model.add(BatchNormalization())\\nmain=model.add(Activation('relu'))\\nmain=model.add(MaxPooling2D(pool_size=(2, 2)))\\n\\nmain=model.add(Conv2D(64, kernel_size=3, padding='same'))\\nmain=model.add(BatchNormalization())\\nmain=model.add(Activation('relu'))\\nmain=model.add(MaxPooling2D(pool_size=(2, 2)))\\nmain=model.add(Conv2D(128, kernel_size=3, padding='same'))\\nmain=model.add(BatchNormalization())\\nmain=model.add(Activation('relu'))\\nmain=model.add(MaxPooling2D(pool_size=(2, 2)))\\n\\n\\no1 = Dense(16000,  activation='linear')(main)\\nd1= Dense(128,  activation='linear')(o1)\\ns1=Dense(39, activation = 'softmax')(d1)\\no2 = Dense(16000,  activation='linear')(main)\\nd2= Dense(128,  activation='linear')(o2)\\ns2=Dense(39, activation = 'softmax')(d2)\\n# o2 = Dense(16000, activation = 'softmax')(main)\\n# o3 = Dense(16000, activation = 'softmax')(main)\\n# o4 = Dense(16000, activation = 'softmax')(main)\\n# o5 = Dense(16000, activation = 'softmax')(main)\\n# o6 = Dense(16000, activation = 'softmax')(main)\\n# o7 = Dense(16000, activation = 'softmax')(main)\\n# o8 = Dense(16000, activation = 'softmax')(main)\\n\\n\""
      ]
     },
     "execution_count": 283,
     "metadata": {},
     "output_type": "execute_result"
    }
   ],
   "source": [
    "#create model\n",
    "model = Sequential()\n",
    "#add model layers\n",
    "\n",
    "#####frist sequence\n",
    "Input_1= Input(shape=(40,200,3))\n",
    "net = MiniModel(Input_1)\n",
    "\n",
    "flat_1 = Flatten()(net)\n",
    "\n",
    "out1 = Dense(39,  activation='softmax')(flat_1)\n",
    "out2 = Dense(39,  activation='softmax')(flat_1)\n",
    "out3 = Dense(39,  activation='softmax')(flat_1)\n",
    "out4 = Dense(39,  activation='softmax')(flat_1)\n",
    "out5 = Dense(39,  activation='softmax')(flat_1)\n",
    "out6 = Dense(39,  activation='softmax')(flat_1)\n",
    "out7 = Dense(39,  activation='softmax')(flat_1)\n",
    "out8 = Dense(39,  activation='softmax')(flat_1)\n",
    "output_1=[out1,out2,out3,out4,out5,out6,out7,out8]\n",
    "model = Model(inputs=[Input_1], outputs=output_1)\n",
    "adam=keras.optimizers.Adam(lr=0.0001)\n",
    "model.compile(optimizer = adam, loss = 'categorical_crossentropy',metrics=['accuracy'])\n",
    "\n"
   ]
  },
  {
   "cell_type": "code",
   "execution_count": 290,
   "metadata": {
    "scrolled": false
   },
   "outputs": [],
   "source": [
    "#model.summary()\n"
   ]
  },
  {
   "cell_type": "code",
   "execution_count": 39,
   "metadata": {
    "scrolled": true
   },
   "outputs": [
    {
     "data": {
      "text/plain": [
       "'1'"
      ]
     },
     "execution_count": 39,
     "metadata": {},
     "output_type": "execute_result"
    }
   ],
   "source": [
    "int_to_char[argmax(trainY[100:,0,:])]"
   ]
  },
  {
   "cell_type": "code",
   "execution_count": 45,
   "metadata": {
    "scrolled": true
   },
   "outputs": [
    {
     "data": {
      "text/plain": [
       "'3'"
      ]
     },
     "execution_count": 45,
     "metadata": {},
     "output_type": "execute_result"
    }
   ],
   "source": [
    "int_to_char[argmax(trainY[100:,4,:])]"
   ]
  },
  {
   "cell_type": "code",
   "execution_count": null,
   "metadata": {},
   "outputs": [],
   "source": []
  },
  {
   "cell_type": "code",
   "execution_count": 43,
   "metadata": {},
   "outputs": [
    {
     "data": {
      "text/plain": [
       "<matplotlib.image.AxesImage at 0x7eff585e79e8>"
      ]
     },
     "execution_count": 43,
     "metadata": {},
     "output_type": "execute_result"
    },
    {
     "data": {
      "image/png": "[encoded data removed]",
      "text/plain": [
       "<Figure size 432x288 with 1 Axes>"
      ]
     },
     "metadata": {
      "needs_background": "light"
     },
     "output_type": "display_data"
    }
   ],
   "source": [
    "skimage.io.imshow(trainX[100]*255)"
   ]
  },
  {
   "cell_type": "code",
   "execution_count": 37,
   "metadata": {},
   "outputs": [
    {
     "data": {
      "text/plain": [
       "(105671, 8, 39)"
      ]
     },
     "execution_count": 37,
     "metadata": {},
     "output_type": "execute_result"
    }
   ],
   "source": [
    "trainY.shape"
   ]
  },
  {
   "cell_type": "code",
   "execution_count": null,
   "metadata": {
    "scrolled": false
   },
   "outputs": [],
   "source": [
    "\n"
   ]
  },
  {
   "cell_type": "code",
   "execution_count": null,
   "metadata": {},
   "outputs": [],
   "source": []
  },
  {
   "cell_type": "code",
   "execution_count": null,
   "metadata": {},
   "outputs": [
    {
     "name": "stdout",
     "output_type": "stream",
     "text": [
      "Epoch 1/120\n",
      "   260/105671 [..............................] - ETA: 37:34 - loss: 9.5367e-07 - dense_33_loss: 1.1921e-07 - dense_34_loss: 1.1921e-07 - dense_35_loss: 1.1921e-07 - dense_36_loss: 1.1921e-07 - dense_37_loss: 1.1921e-07 - dense_38_loss: 1.1921e-07 - dense_39_loss: 1.1921e-07 - dense_40_loss: 1.1921e-07 - dense_33_acc: 1.0000 - dense_34_acc: 1.0000 - dense_35_acc: 1.0000 - dense_36_acc: 1.0000 - dense_37_acc: 1.0000 - dense_38_acc: 1.0000 - dense_39_acc: 1.0000 - dense_40_acc: 1.0000"
     ]
    }
   ],
   "source": [
    "n_epoch =120\n",
    "start = timeit.default_timer()\n",
    "history=model.fit(trainX,[trainY[:,0,:],trainY[:,1,:],trainY[:,2,:],trainY[:,3,:],trainY[:,4,:],trainY[:,5,:],trainY[:,6,:],trainY[:,7,:]], epochs=n_epoch,batch_size=64, shuffle=False,verbose=1)\n",
    "stop = timeit.default_timer()\n",
    "\n",
    "print('Time: ', stop - start)  \n",
    "license=0\n",
    "total_license=0\n",
    "character =0 \n",
    "total_character=0\n",
    "for n in range(0,len(testX)):\n",
    "    p=model.predict_on_batch(testX[n:n+1])\n",
    "    truth = testY[n]\n",
    "    \n",
    "    for x in range(0,8):\n",
    "        total_character+=1\n",
    "        if int_to_char[argmax(truth[x])]==int_to_char[argmax(p[x])]:\n",
    "            character+=1\n",
    "    total_license+=1\n",
    "    if (int_to_char[argmax(truth[0])]==int_to_char[argmax(p[0])] and\n",
    "        int_to_char[argmax(truth[1])]==int_to_char[argmax(p[1])] and\n",
    "        int_to_char[argmax(truth[2])]==int_to_char[argmax(p[2])] and \n",
    "        int_to_char[argmax(truth[3])]==int_to_char[argmax(p[3])] and\n",
    "        int_to_char[argmax(truth[4])]==int_to_char[argmax(p[4])] and\n",
    "        int_to_char[argmax(truth[5])]==int_to_char[argmax(p[5])] and\n",
    "        int_to_char[argmax(truth[6])]==int_to_char[argmax(p[6])] and\n",
    "        int_to_char[argmax(truth[7])]==int_to_char[argmax(p[7])]):\n",
    "        license+=1\n",
    "LP_acc1=license/total_license  \n",
    "character_acc1=character/total_character\n",
    "print(\"license acc\",LP_acc1) \n",
    "print(\"character\",character_acc1)"
   ]
  },
  {
   "cell_type": "code",
   "execution_count": 298,
   "metadata": {},
   "outputs": [
    {
     "name": "stdout",
     "output_type": "stream",
     "text": [
      "Time:  272316.9337254013\n"
     ]
    }
   ],
   "source": [
    "print('Time: ', stop - start)#126hours totally"
   ]
  },
  {
   "cell_type": "code",
   "execution_count": 297,
   "metadata": {},
   "outputs": [
    {
     "name": "stdout",
     "output_type": "stream",
     "text": [
      "license acc 0.949040153365372\n",
      "character 0.9886600882376113\n"
     ]
    }
   ],
   "source": [
    "print(\"license acc\",LP_acc1) \n",
    "print(\"character\",character_acc1)"
   ]
  },
  {
   "cell_type": "code",
   "execution_count": 296,
   "metadata": {},
   "outputs": [
    {
     "name": "stdout",
     "output_type": "stream",
     "text": [
      "Saved trained model at /home/tang/targa/exp5/saved_models/resNet_LP_cz_paper_epoch200.h5 \n"
     ]
    }
   ],
   "source": [
    "import os\n",
    "save_dir = os.path.join(os.getcwd(), 'saved_models')\n",
    "model_name = 'resNet_LP_cz_paper_epoch'+n_epoch+'.h5'\n",
    "# Save model and weights\n",
    "if not os.path.isdir(save_dir):\n",
    "    os.makedirs(save_dir)\n",
    "model_path = os.path.join(save_dir, model_name)\n",
    "model.save(model_path)\n",
    "print('Saved trained model at %s ' % model_path)"
   ]
  },
  {
   "cell_type": "code",
   "execution_count": null,
   "metadata": {},
   "outputs": [],
   "source": []
  },
  {
   "cell_type": "code",
   "execution_count": 294,
   "metadata": {},
   "outputs": [
    {
     "name": "stdout",
     "output_type": "stream",
     "text": [
      "license acc 0.9496178996297172\n",
      "character 0.9888012421544683\n"
     ]
    }
   ],
   "source": [
    "print(\"license acc\",LP_acc1) \n",
    "print(\"character\",character_acc1)"
   ]
  },
  {
   "cell_type": "code",
   "execution_count": 287,
   "metadata": {},
   "outputs": [],
   "source": []
  },
  {
   "cell_type": "code",
   "execution_count": null,
   "metadata": {},
   "outputs": [],
   "source": []
  },
  {
   "cell_type": "code",
   "execution_count": null,
   "metadata": {},
   "outputs": [],
   "source": []
  },
  {
   "cell_type": "code",
   "execution_count": null,
   "metadata": {},
   "outputs": [],
   "source": []
  },
  {
   "cell_type": "code",
   "execution_count": null,
   "metadata": {},
   "outputs": [],
   "source": []
  },
  {
   "cell_type": "code",
   "execution_count": null,
   "metadata": {},
   "outputs": [],
   "source": []
  },
  {
   "cell_type": "code",
   "execution_count": null,
   "metadata": {},
   "outputs": [],
   "source": []
  },
  {
   "cell_type": "code",
   "execution_count": null,
   "metadata": {},
   "outputs": [],
   "source": []
  },
  {
   "cell_type": "code",
   "execution_count": null,
   "metadata": {},
   "outputs": [],
   "source": []
  },
  {
   "cell_type": "code",
   "execution_count": 64,
   "metadata": {},
   "outputs": [
    {
     "name": "stdout",
     "output_type": "stream",
     "text": [
      "Test loss: 86.70043980875869\n",
      "Test accuracy: 12.587909406754001\n"
     ]
    }
   ],
   "source": [
    "# Score trained model.\n",
    "scores = model.evaluate(testX,[testY[:,0,:],testY[:,1,:],testY[:,2,:],testY[:,3,:],testY[:,4,:],testY[:,5,:],testY[:,6,:],testY[:,7,:]], verbose=1)\n",
    "print('Test loss:', scores[0])\n",
    "print('Test accuracy:', scores[1])"
   ]
  },
  {
   "cell_type": "code",
   "execution_count": null,
   "metadata": {},
   "outputs": [],
   "source": []
  },
  {
   "cell_type": "code",
   "execution_count": 299,
   "metadata": {},
   "outputs": [
    {
     "name": "stdout",
     "output_type": "stream",
     "text": [
      "train loss: 3.025700428855293\n",
      "train accuracy: 0.21868994488331123\n"
     ]
    }
   ],
   "source": [
    "print('train loss:', train_scores[0])\n",
    "print('train accuracy:', train_scores[1])"
   ]
  },
  {
   "cell_type": "code",
   "execution_count": 301,
   "metadata": {
    "scrolled": true
   },
   "outputs": [],
   "source": [
    "#result=model.predict(testX, batch_size=10, verbose=1)"
   ]
  },
  {
   "cell_type": "code",
   "execution_count": 302,
   "metadata": {},
   "outputs": [],
   "source": [
    "#train_result=model.predict(trainX, verbose=1)"
   ]
  },
  {
   "cell_type": "code",
   "execution_count": null,
   "metadata": {},
   "outputs": [],
   "source": []
  },
  {
   "cell_type": "code",
   "execution_count": null,
   "metadata": {},
   "outputs": [],
   "source": []
  },
  {
   "cell_type": "code",
   "execution_count": null,
   "metadata": {},
   "outputs": [],
   "source": []
  },
  {
   "cell_type": "code",
   "execution_count": null,
   "metadata": {},
   "outputs": [],
   "source": []
  },
  {
   "cell_type": "code",
   "execution_count": 248,
   "metadata": {},
   "outputs": [],
   "source": [
    "a=testX[998:999].reshape((40,200,3))"
   ]
  },
  {
   "cell_type": "code",
   "execution_count": 249,
   "metadata": {
    "scrolled": false
   },
   "outputs": [
    {
     "data": {
      "text/plain": [
       "<matplotlib.image.AxesImage at 0x7efefda59a58>"
      ]
     },
     "execution_count": 249,
     "metadata": {},
     "output_type": "execute_result"
    },
    {
     "data": {
      "image/png": "[encoded data removed]",
      "text/plain": [
       "<Figure size 432x288 with 1 Axes>"
      ]
     },
     "metadata": {
      "needs_background": "light"
     },
     "output_type": "display_data"
    }
   ],
   "source": [
    "skimage.io.imshow(a*255)"
   ]
  },
  {
   "cell_type": "code",
   "execution_count": 254,
   "metadata": {},
   "outputs": [
    {
     "name": "stdout",
     "output_type": "stream",
     "text": [
      "7\n",
      "B\n",
      "2\n",
      "#\n",
      "3\n",
      "8\n",
      "1\n",
      "2\n"
     ]
    }
   ],
   "source": [
    "for ttt in testY[998]:\n",
    "    print(int_to_char[argmax(ttt)])"
   ]
  },
  {
   "cell_type": "code",
   "execution_count": 250,
   "metadata": {},
   "outputs": [
    {
     "name": "stdout",
     "output_type": "stream",
     "text": [
      "7\n",
      "B\n",
      "3\n",
      "#\n",
      "3\n",
      "8\n",
      "1\n",
      "2\n"
     ]
    }
   ],
   "source": [
    "for ttt in p:\n",
    "    print(int_to_char[argmax(ttt)])"
   ]
  },
  {
   "cell_type": "code",
   "execution_count": 251,
   "metadata": {
    "scrolled": false
   },
   "outputs": [
    {
     "data": {
      "text/plain": [
       "(8, 105671)"
      ]
     },
     "execution_count": 251,
     "metadata": {},
     "output_type": "execute_result"
    }
   ],
   "source": [
    "len(train_result),len(trainX)"
   ]
  },
  {
   "cell_type": "code",
   "execution_count": 117,
   "metadata": {
    "scrolled": true
   },
   "outputs": [
    {
     "data": {
      "text/plain": [
       "(105671, 39)"
      ]
     },
     "execution_count": 117,
     "metadata": {},
     "output_type": "execute_result"
    }
   ],
   "source": [
    "train_result[0].shape"
   ]
  },
  {
   "cell_type": "code",
   "execution_count": 114,
   "metadata": {},
   "outputs": [],
   "source": [
    "trial = np.reshape(train_result,(len(trainX),8,39))"
   ]
  },
  {
   "cell_type": "code",
   "execution_count": 139,
   "metadata": {
    "scrolled": true
   },
   "outputs": [
    {
     "data": {
      "text/plain": [
       "(39,)"
      ]
     },
     "execution_count": 139,
     "metadata": {},
     "output_type": "execute_result"
    }
   ],
   "source": [
    "train_result[0][0][:].shape"
   ]
  },
  {
   "cell_type": "code",
   "execution_count": null,
   "metadata": {},
   "outputs": [],
   "source": []
  },
  {
   "cell_type": "code",
   "execution_count": 152,
   "metadata": {},
   "outputs": [
    {
     "name": "stdout",
     "output_type": "stream",
     "text": [
      "[5.95658505e-14 8.30352172e-13 1.25841882e-13 9.99485612e-01\n",
      " 4.49970097e-20 1.62267443e-12 4.69089267e-10 2.92906335e-19\n",
      " 1.48150536e-16 3.05200028e-12 8.47787669e-21 4.51341731e-21\n",
      " 1.35797040e-10 6.02893446e-15 2.04812841e-05 1.12663292e-21\n",
      " 7.55347519e-22 3.19384601e-13 1.81225221e-23 5.21319133e-15\n",
      " 1.40764655e-23 4.43473546e-04 8.56309447e-22 1.84232577e-12\n",
      " 3.84009874e-14 1.02450754e-23 3.31188612e-15 4.80955174e-13\n",
      " 4.15530854e-09 5.68969045e-22 5.52515032e-20 7.02419804e-21\n",
      " 4.69789831e-16 1.04718480e-14 7.68651771e-14 1.22129127e-13\n",
      " 5.03933989e-05 2.53577799e-15 3.16185589e-20]\n"
     ]
    }
   ],
   "source": [
    "t=train_result[0:8][0][:]\n",
    "print(ttt)"
   ]
  },
  {
   "cell_type": "code",
   "execution_count": null,
   "metadata": {},
   "outputs": [],
   "source": []
  },
  {
   "cell_type": "code",
   "execution_count": null,
   "metadata": {},
   "outputs": [],
   "source": []
  },
  {
   "cell_type": "code",
   "execution_count": null,
   "metadata": {},
   "outputs": [],
   "source": []
  },
  {
   "cell_type": "code",
   "execution_count": null,
   "metadata": {},
   "outputs": [],
   "source": [
    "\n",
    "    "
   ]
  },
  {
   "cell_type": "code",
   "execution_count": null,
   "metadata": {},
   "outputs": [],
   "source": []
  },
  {
   "cell_type": "code",
   "execution_count": null,
   "metadata": {},
   "outputs": [],
   "source": []
  },
  {
   "cell_type": "code",
   "execution_count": null,
   "metadata": {},
   "outputs": [],
   "source": []
  },
  {
   "cell_type": "code",
   "execution_count": null,
   "metadata": {},
   "outputs": [],
   "source": []
  },
  {
   "cell_type": "code",
   "execution_count": null,
   "metadata": {},
   "outputs": [],
   "source": []
  },
  {
   "cell_type": "code",
   "execution_count": null,
   "metadata": {},
   "outputs": [],
   "source": []
  },
  {
   "cell_type": "code",
   "execution_count": null,
   "metadata": {},
   "outputs": [],
   "source": []
  },
  {
   "cell_type": "code",
   "execution_count": null,
   "metadata": {},
   "outputs": [],
   "source": []
  },
  {
   "cell_type": "code",
   "execution_count": null,
   "metadata": {},
   "outputs": [],
   "source": []
  },
  {
   "cell_type": "code",
   "execution_count": 54,
   "metadata": {},
   "outputs": [
    {
     "name": "stderr",
     "output_type": "stream",
     "text": [
      "/usr/local/lib/python3.5/dist-packages/skimage/transform/_warps.py:105: UserWarning: The default mode, 'constant', will be changed to 'reflect' in skimage 0.15.\n",
      "  warn(\"The default mode, 'constant', will be changed to 'reflect' in \"\n",
      "/usr/local/lib/python3.5/dist-packages/skimage/transform/_warps.py:110: UserWarning: Anti-aliasing will be enabled by default in skimage 0.15 to avoid aliasing artifacts when down-sampling images.\n",
      "  warn(\"Anti-aliasing will be enabled by default in skimage 0.15 to \"\n"
     ]
    }
   ],
   "source": [
    "with open('trainVal.csv','r') as csvFile:\n",
    "    reader = csv.reader(csvFile,dialect='myDialect')\n",
    "    for row in reader:\n",
    "#         if row[3]=='1':\n",
    "#             img=skimage.data.imread(row[1])\n",
    "#             img = skimage.transform.resize(img,(40,200,3))\n",
    "            \n",
    "            \n",
    "#             #### face different length of license\n",
    "#             x_trainLabel=str(row[2])\n",
    "#             if len(x_trainLabel)==7:\n",
    "#                 trainImages.append(img)\n",
    "#                 trainLabels.append(x_trainLabel[0:3]+'#'+x_trainLabel[3:])\n",
    "#             if len(x_trainLabel)==6:\n",
    "#                 trainImages.append(img)\n",
    "#                 trainLabels.append(x_trainLabel[0:3]+'..'+x_trainLabel[3:])\n",
    "#             if len(x_trainLabel)==5:\n",
    "#                 trainImages.append(img)\n",
    "#                 trainLabels.append(x_trainLabel[0]+'###'+x_trainLabel[1:])\n",
    "                \n",
    "        if row[3]=='0':\n",
    "            img=skimage.data.imread(row[1])\n",
    "            img = skimage.transform.resize(img,(40,200,3))\n",
    "            \n",
    "            \n",
    "            x_testLabel=str(row[2])\n",
    "            if len(x_testLabel)==7:\n",
    "                testImages.append(img)\n",
    "                testLabels.append(x_testLabel[0:3]+'#'+x_testLabel[3:])\n",
    "            if len(x_testLabel)==6:\n",
    "                testImages.append(img)\n",
    "                testLabels.append(x_testLabel[0:3]+'..'+x_testLabel[3:])\n",
    "            if len(x_trainLabel)==5:\n",
    "                testImages.append(img)\n",
    "                testLabels.append(x_testLabel[0]+'###'+x_testLabel[1:])\n",
    "        \n",
    "        #print(row,row[3])"
   ]
  },
  {
   "cell_type": "code",
   "execution_count": 55,
   "metadata": {},
   "outputs": [],
   "source": [
    "list_testLabels=list()\n",
    "for testlabel in testLabels:\n",
    "    test_encoded = [char_to_int[char] for char in testlabel]\n",
    "    for value in test_encoded:\n",
    "        letter = [0 for _ in range(len(alphabet))]\n",
    "        letter[value] = 1\n",
    "        list_testLabels.append(letter)"
   ]
  },
  {
   "cell_type": "code",
   "execution_count": 59,
   "metadata": {},
   "outputs": [],
   "source": [
    "testY=np.array(list_testLabels)\n",
    "testX=np.array(testImages)"
   ]
  },
  {
   "cell_type": "code",
   "execution_count": 60,
   "metadata": {},
   "outputs": [],
   "source": [
    "testY=testY.reshape(len(testLabels),8,39)\n",
    "testX=testX.reshape(len(testImages),testImages[0].shape[0],\n",
    "                           testImages[0].shape[1],\n",
    "                           testImages[0].shape[2]).astype(\"float32\")/255"
   ]
  },
  {
   "cell_type": "code",
   "execution_count": 62,
   "metadata": {},
   "outputs": [],
   "source": [
    "del testImages\n",
    "del list_testLabels"
   ]
  },
  {
   "cell_type": "code",
   "execution_count": null,
   "metadata": {},
   "outputs": [],
   "source": []
  }
 ],
 "metadata": {
  "kernelspec": {
   "display_name": "Python 3",
   "language": "python",
   "name": "python3"
  },
  "language_info": {
   "codemirror_mode": {
    "name": "ipython",
    "version": 3
   },
   "file_extension": ".py",
   "mimetype": "text/x-python",
   "name": "python",
   "nbconvert_exporter": "python",
   "pygments_lexer": "ipython3",
   "version": "3.5.2"
  }
 },
 "nbformat": 4,
 "nbformat_minor": 2
}
