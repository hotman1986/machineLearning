{
 "cells": [
  {
   "cell_type": "code",
   "execution_count": 1,
   "metadata": {},
   "outputs": [],
   "source": [
    "import csv\n",
    "import skimage\n",
    "from skimage import data\n",
    "from numpy import array\n",
    "import matplotlib.pyplot as plt\n",
    "import numpy as np"
   ]
  },
  {
   "cell_type": "code",
   "execution_count": 2,
   "metadata": {},
   "outputs": [],
   "source": [
    "import timeit"
   ]
  },
  {
   "cell_type": "code",
   "execution_count": 3,
   "metadata": {},
   "outputs": [
    {
     "name": "stderr",
     "output_type": "stream",
     "text": [
      "/usr/local/lib/python3.5/dist-packages/skimage/transform/_warps.py:105: UserWarning: The default mode, 'constant', will be changed to 'reflect' in skimage 0.15.\n",
      "  warn(\"The default mode, 'constant', will be changed to 'reflect' in \"\n",
      "/usr/local/lib/python3.5/dist-packages/skimage/transform/_warps.py:110: UserWarning: Anti-aliasing will be enabled by default in skimage 0.15 to avoid aliasing artifacts when down-sampling images.\n",
      "  warn(\"Anti-aliasing will be enabled by default in skimage 0.15 to \"\n"
     ]
    }
   ],
   "source": [
    "csv.register_dialect('myDialect',\n",
    "delimiter = ',',\n",
    "skipinitialspace=True)\n",
    "trainImages=[]\n",
    "trainLabels=[]\n",
    "testImages=[]\n",
    "testLabels=[]\n",
    "with open('trainVal.csv','r') as csvFile:\n",
    "    reader = csv.reader(csvFile,dialect='myDialect')\n",
    "    for row in reader:\n",
    "        if row[3]=='1':\n",
    "            img=skimage.data.imread(row[1])\n",
    "            img = skimage.transform.resize(img,(40,200,3))\n",
    "            \n",
    "            \n",
    "            #### face different length of license\n",
    "            x_trainLabel=str(row[2])\n",
    "            if len(x_trainLabel)==7:\n",
    "                trainImages.append(img)\n",
    "                trainLabels.append(x_trainLabel[0:3]+'#'+x_trainLabel[3:])\n",
    "            if len(x_trainLabel)==6:\n",
    "                trainImages.append(img)\n",
    "                trainLabels.append(x_trainLabel[0:3]+'..'+x_trainLabel[3:])\n",
    "            if len(x_trainLabel)==5:\n",
    "                trainImages.append(img)\n",
    "                trainLabels.append(x_trainLabel[0]+'###'+x_trainLabel[1:])\n",
    "                \n",
    "#         if row[3]=='0':\n",
    "#             img=skimage.data.imread(row[1])\n",
    "#             img = skimage.transform.resize(img,(40,200,3))\n",
    "            \n",
    "            \n",
    "#             x_testLabel=str(row[2])\n",
    "#             if len(x_testLabel)==7:\n",
    "#                 testImages.append(img)\n",
    "#                 testLabels.append(x_testLabel[0:3]+'#'+x_testLabel[3:])\n",
    "#             if len(x_testLabel)==6:\n",
    "#                 testImages.append(img)\n",
    "#                 testLabels.append(x_testLabel[0:3]+'..'+x_testLabel[3:])\n",
    "#             if len(x_trainLabel)==5:\n",
    "#                 testImages.append(img)\n",
    "#                 testLabels.append(x_testLabel[0]+'###'+x_testLabel[1:])\n",
    "        \n",
    "        #print(row,row[3])\n",
    "        "
   ]
  },
  {
   "cell_type": "code",
   "execution_count": 4,
   "metadata": {},
   "outputs": [
    {
     "data": {
      "text/plain": [
       "(105671, 105671)"
      ]
     },
     "execution_count": 4,
     "metadata": {},
     "output_type": "execute_result"
    }
   ],
   "source": [
    "len(trainImages),len(trainLabels)"
   ]
  },
  {
   "cell_type": "code",
   "execution_count": 5,
   "metadata": {},
   "outputs": [
    {
     "data": {
      "text/plain": [
       "<matplotlib.image.AxesImage at 0x7effdd3479e8>"
      ]
     },
     "execution_count": 5,
     "metadata": {},
     "output_type": "execute_result"
    },
    {
     "data": {
      "image/png": "[encoded data removed]",
      "text/plain": [
       "<Figure size 432x288 with 1 Axes>"
      ]
     },
     "metadata": {
      "needs_background": "light"
     },
     "output_type": "display_data"
    }
   ],
   "source": [
    "skimage.io.imshow(trainImages[100001])"
   ]
  },
  {
   "cell_type": "code",
   "execution_count": null,
   "metadata": {},
   "outputs": [],
   "source": []
  },
  {
   "cell_type": "code",
   "execution_count": 6,
   "metadata": {},
   "outputs": [
    {
     "data": {
      "text/plain": [
       "'9B8#4242'"
      ]
     },
     "execution_count": 6,
     "metadata": {},
     "output_type": "execute_result"
    }
   ],
   "source": [
    "trainLabels[100001]"
   ]
  },
  {
   "cell_type": "code",
   "execution_count": 7,
   "metadata": {},
   "outputs": [],
   "source": [
    "# len(testLabels),len(testImages)"
   ]
  },
  {
   "cell_type": "code",
   "execution_count": 8,
   "metadata": {
    "scrolled": true
   },
   "outputs": [],
   "source": [
    "# skimage.io.imshow(testImages[10001])"
   ]
  },
  {
   "cell_type": "code",
   "execution_count": 9,
   "metadata": {},
   "outputs": [],
   "source": [
    "# testLabels[10001]"
   ]
  },
  {
   "cell_type": "code",
   "execution_count": 7,
   "metadata": {},
   "outputs": [
    {
     "name": "stderr",
     "output_type": "stream",
     "text": [
      "Using TensorFlow backend.\n"
     ]
    }
   ],
   "source": [
    "from numpy import array\n",
    "from numpy import argmax\n",
    "from sklearn.preprocessing import LabelEncoder\n",
    "from sklearn.preprocessing import OneHotEncoder\n",
    "from keras.utils import np_utils"
   ]
  },
  {
   "cell_type": "code",
   "execution_count": 8,
   "metadata": {},
   "outputs": [],
   "source": [
    "# define universe of possible input values\n",
    "alphabet = '0123456789abcdefghijklmnopqrstuvwxyz#. '.upper()"
   ]
  },
  {
   "cell_type": "code",
   "execution_count": 9,
   "metadata": {},
   "outputs": [],
   "source": [
    "# define a mapping of chars to integers\n",
    "char_to_int = dict((c, i) for i, c in enumerate(alphabet))\n",
    "int_to_char = dict((i, c) for i, c in enumerate(alphabet))"
   ]
  },
  {
   "cell_type": "code",
   "execution_count": null,
   "metadata": {},
   "outputs": [],
   "source": []
  },
  {
   "cell_type": "code",
   "execution_count": 13,
   "metadata": {
    "scrolled": true
   },
   "outputs": [
    {
     "data": {
      "text/plain": [
       "39"
      ]
     },
     "execution_count": 13,
     "metadata": {},
     "output_type": "execute_result"
    }
   ],
   "source": [
    "len(alphabet)"
   ]
  },
  {
   "cell_type": "code",
   "execution_count": 14,
   "metadata": {
    "scrolled": true
   },
   "outputs": [],
   "source": [
    "#len(testLabels)"
   ]
  },
  {
   "cell_type": "code",
   "execution_count": 10,
   "metadata": {
    "scrolled": true
   },
   "outputs": [],
   "source": [
    "#print how many license less than 8 characters\n",
    "i=0\n",
    "for label in trainLabels:\n",
    "    if len(label)<8:\n",
    "        print(label)\n",
    "        i=i+1"
   ]
  },
  {
   "cell_type": "code",
   "execution_count": 16,
   "metadata": {},
   "outputs": [],
   "source": [
    "#skimage.io.imshow('s04_l01/882_1.png')"
   ]
  },
  {
   "cell_type": "code",
   "execution_count": 17,
   "metadata": {},
   "outputs": [],
   "source": [
    "#skimage.io.imshow('s01_l01/142_1.png')"
   ]
  },
  {
   "cell_type": "code",
   "execution_count": null,
   "metadata": {},
   "outputs": [],
   "source": []
  },
  {
   "cell_type": "code",
   "execution_count": 18,
   "metadata": {},
   "outputs": [],
   "source": [
    "#skimage.io.imshow('s02_l01/1212_1.png')"
   ]
  },
  {
   "cell_type": "code",
   "execution_count": 11,
   "metadata": {},
   "outputs": [],
   "source": [
    "#one hot encoding labels\n",
    "list_trainLabels=list()\n",
    "\n",
    "for label in trainLabels:\n",
    "    train_encoded = [char_to_int[char] for char in label]\n",
    "    for value in train_encoded:\n",
    "        letter = [0 for _ in range(len(alphabet))]\n",
    "        letter[value] = 1\n",
    "        list_trainLabels.append(letter)"
   ]
  },
  {
   "cell_type": "code",
   "execution_count": null,
   "metadata": {},
   "outputs": [],
   "source": []
  },
  {
   "cell_type": "code",
   "execution_count": null,
   "metadata": {},
   "outputs": [],
   "source": []
  },
  {
   "cell_type": "code",
   "execution_count": 20,
   "metadata": {},
   "outputs": [],
   "source": [
    "#x = np.reshape(list_trainLabels,(len(trainLabels)*8,39))"
   ]
  },
  {
   "cell_type": "code",
   "execution_count": 21,
   "metadata": {},
   "outputs": [],
   "source": [
    "#y= np.reshape(list_testLabels,(len(testLabels)*8,39))"
   ]
  },
  {
   "cell_type": "code",
   "execution_count": 22,
   "metadata": {
    "scrolled": true
   },
   "outputs": [],
   "source": [
    "#x[0:8]"
   ]
  },
  {
   "cell_type": "code",
   "execution_count": 23,
   "metadata": {
    "scrolled": true
   },
   "outputs": [],
   "source": [
    "####check the correct encoding\n",
    "# for i in range(1000*8,1000*8+16):\n",
    "#     print(trainLabels[1000])\n",
    "#     print(int_to_char[argmax(x[i])])\n"
   ]
  },
  {
   "cell_type": "code",
   "execution_count": 12,
   "metadata": {},
   "outputs": [
    {
     "data": {
      "text/plain": [
       "40"
      ]
     },
     "execution_count": 12,
     "metadata": {},
     "output_type": "execute_result"
    }
   ],
   "source": [
    "trainImages[0].shape[0]"
   ]
  },
  {
   "cell_type": "code",
   "execution_count": 13,
   "metadata": {},
   "outputs": [],
   "source": [
    "###############data struture"
   ]
  },
  {
   "cell_type": "code",
   "execution_count": 14,
   "metadata": {
    "scrolled": true
   },
   "outputs": [],
   "source": [
    "trainX=np.array(trainImages)\n"
   ]
  },
  {
   "cell_type": "code",
   "execution_count": 27,
   "metadata": {},
   "outputs": [],
   "source": []
  },
  {
   "cell_type": "code",
   "execution_count": null,
   "metadata": {},
   "outputs": [],
   "source": []
  },
  {
   "cell_type": "code",
   "execution_count": 28,
   "metadata": {},
   "outputs": [],
   "source": [
    "\n"
   ]
  },
  {
   "cell_type": "code",
   "execution_count": null,
   "metadata": {},
   "outputs": [],
   "source": []
  },
  {
   "cell_type": "code",
   "execution_count": null,
   "metadata": {},
   "outputs": [],
   "source": []
  },
  {
   "cell_type": "code",
   "execution_count": null,
   "metadata": {},
   "outputs": [],
   "source": []
  },
  {
   "cell_type": "code",
   "execution_count": 15,
   "metadata": {},
   "outputs": [],
   "source": [
    "trainY=np.array(list_trainLabels)\n"
   ]
  },
  {
   "cell_type": "code",
   "execution_count": 16,
   "metadata": {},
   "outputs": [],
   "source": [
    "trainY=trainY.reshape(len(trainLabels),8,39)\n",
    "trainX=trainX.reshape(len(trainX),trainX[0].shape[0],\n",
    "                           trainX[0].shape[1],\n",
    "                           trainX[0].shape[2]).astype(\"float32\")/255\n"
   ]
  },
  {
   "cell_type": "code",
   "execution_count": null,
   "metadata": {},
   "outputs": [],
   "source": []
  },
  {
   "cell_type": "code",
   "execution_count": 17,
   "metadata": {},
   "outputs": [
    {
     "data": {
      "text/plain": [
       "numpy.ndarray"
      ]
     },
     "execution_count": 17,
     "metadata": {},
     "output_type": "execute_result"
    }
   ],
   "source": [
    "type(trainX[0])"
   ]
  },
  {
   "cell_type": "code",
   "execution_count": 18,
   "metadata": {},
   "outputs": [
    {
     "data": {
      "text/plain": [
       "numpy.ndarray"
      ]
     },
     "execution_count": 18,
     "metadata": {},
     "output_type": "execute_result"
    }
   ],
   "source": [
    "type(trainY[0])"
   ]
  },
  {
   "cell_type": "code",
   "execution_count": 19,
   "metadata": {},
   "outputs": [],
   "source": [
    "#trainY[0]"
   ]
  },
  {
   "cell_type": "code",
   "execution_count": 20,
   "metadata": {
    "scrolled": true
   },
   "outputs": [
    {
     "data": {
      "text/plain": [
       "((40, 200, 3), (8, 39), 105671, 105671)"
      ]
     },
     "execution_count": 20,
     "metadata": {},
     "output_type": "execute_result"
    }
   ],
   "source": [
    "trainX[0].shape,trainY[0].shape,len(trainX),len(trainY)"
   ]
  },
  {
   "cell_type": "code",
   "execution_count": 21,
   "metadata": {},
   "outputs": [
    {
     "data": {
      "text/plain": [
       "numpy.ndarray"
      ]
     },
     "execution_count": 21,
     "metadata": {},
     "output_type": "execute_result"
    }
   ],
   "source": [
    "type(trainY)"
   ]
  },
  {
   "cell_type": "code",
   "execution_count": null,
   "metadata": {},
   "outputs": [],
   "source": []
  },
  {
   "cell_type": "code",
   "execution_count": null,
   "metadata": {},
   "outputs": [],
   "source": []
  },
  {
   "cell_type": "code",
   "execution_count": 22,
   "metadata": {},
   "outputs": [],
   "source": [
    "#skimage.io.imshow(trainX[10000])"
   ]
  },
  {
   "cell_type": "code",
   "execution_count": 23,
   "metadata": {
    "scrolled": true
   },
   "outputs": [
    {
     "name": "stdout",
     "output_type": "stream",
     "text": [
      "6\n",
      "B\n",
      "5\n",
      "#\n",
      "3\n",
      "1\n",
      "0\n",
      "6\n"
     ]
    }
   ],
   "source": [
    "for ttt in trainY[10000]:\n",
    "    print(int_to_char[argmax(ttt)])\n",
    "    "
   ]
  },
  {
   "cell_type": "code",
   "execution_count": null,
   "metadata": {},
   "outputs": [],
   "source": []
  },
  {
   "cell_type": "code",
   "execution_count": null,
   "metadata": {},
   "outputs": [],
   "source": []
  },
  {
   "cell_type": "code",
   "execution_count": null,
   "metadata": {},
   "outputs": [],
   "source": []
  },
  {
   "cell_type": "code",
   "execution_count": 24,
   "metadata": {},
   "outputs": [
    {
     "ename": "NameError",
     "evalue": "name 'list_' is not defined",
     "output_type": "error",
     "traceback": [
      "\u001b[0;31m---------------------------------------------------------------------------\u001b[0m",
      "\u001b[0;31mNameError\u001b[0m                                 Traceback (most recent call last)",
      "\u001b[0;32m<ipython-input-24-d603d6a0dfaf>\u001b[0m in \u001b[0;36m<module>\u001b[0;34m\u001b[0m\n\u001b[1;32m      1\u001b[0m \u001b[0;32mdel\u001b[0m \u001b[0mtrainImages\u001b[0m\u001b[0;34m\u001b[0m\u001b[0m\n\u001b[1;32m      2\u001b[0m \u001b[0;32mdel\u001b[0m \u001b[0mtrainLabels\u001b[0m\u001b[0;34m\u001b[0m\u001b[0m\n\u001b[0;32m----> 3\u001b[0;31m \u001b[0;32mdel\u001b[0m \u001b[0mlist_\u001b[0m\u001b[0;34m\u001b[0m\u001b[0m\n\u001b[0m",
      "\u001b[0;31mNameError\u001b[0m: name 'list_' is not defined"
     ]
    }
   ],
   "source": [
    "del trainImages\n",
    "del trainLabels\n"
   ]
  },
  {
   "cell_type": "code",
   "execution_count": 25,
   "metadata": {
    "scrolled": true
   },
   "outputs": [
    {
     "data": {
      "text/plain": [
       "\"\\nmain=model.add(Conv2D(32, kernel_size=3,padding='same',input_shape=trainX[0].shape))\\nmain=model.add(BatchNormalization())\\nmain=model.add(Activation('relu'))\\nmain=model.add(MaxPooling2D(pool_size=(2, 2)))\\n\\nmain=model.add(Conv2D(64, kernel_size=3, padding='same'))\\nmain=model.add(BatchNormalization())\\nmain=model.add(Activation('relu'))\\nmain=model.add(MaxPooling2D(pool_size=(2, 2)))\\nmain=model.add(Conv2D(128, kernel_size=3, padding='same'))\\nmain=model.add(BatchNormalization())\\nmain=model.add(Activation('relu'))\\nmain=model.add(MaxPooling2D(pool_size=(2, 2)))\\n\\n\\no1 = Dense(16000,  activation='linear')(main)\\nd1= Dense(128,  activation='linear')(o1)\\ns1=Dense(39, activation = 'softmax')(d1)\\no2 = Dense(16000,  activation='linear')(main)\\nd2= Dense(128,  activation='linear')(o2)\\ns2=Dense(39, activation = 'softmax')(d2)\\n# o2 = Dense(16000, activation = 'softmax')(main)\\n# o3 = Dense(16000, activation = 'softmax')(main)\\n# o4 = Dense(16000, activation = 'softmax')(main)\\n# o5 = Dense(16000, activation = 'softmax')(main)\\n# o6 = Dense(16000, activation = 'softmax')(main)\\n# o7 = Dense(16000, activation = 'softmax')(main)\\n# o8 = Dense(16000, activation = 'softmax')(main)\\n\\n\""
      ]
     },
     "execution_count": 25,
     "metadata": {},
     "output_type": "execute_result"
    }
   ],
   "source": [
    "from keras.models import Sequential,Model\n",
    "from keras.layers import Dense, Conv2D, Flatten,Activation,MaxPooling2D,Input\n",
    "from keras.layers.normalization import BatchNormalization\n",
    "from keras.layers.merge import concatenate\n",
    "from keras import layers\n",
    "import keras\n",
    "import tensorflow as tf\n",
    "\n",
    "#create model\n",
    "model = Sequential()\n",
    "#add model layers\n",
    "\n",
    "#####frist sequence\n",
    "Input_1= Input(shape=(40,200,3))\n",
    "\n",
    "conv1 = Conv2D(32, (3,3), activation = 'relu', padding = \"SAME\")(Input_1)\n",
    "bn1=BatchNormalization()(conv1)\n",
    "conv2 = Conv2D(32, (3,3), activation = 'relu', padding = \"SAME\")(bn1)\n",
    "bn2=BatchNormalization()(conv2)\n",
    "conv3 = Conv2D(32, (3,3), activation = 'relu', padding = \"SAME\")(bn2)\n",
    "bn3=BatchNormalization()(conv3)\n",
    "\n",
    "pool1 = MaxPooling2D(pool_size = (2,2), strides = 2)(bn3)\n",
    "####second sequence\n",
    "conv4 = Conv2D(64, (3,3), activation = 'relu', padding = \"SAME\")(pool1)\n",
    "bn4=BatchNormalization()(conv4)\n",
    "conv5 = Conv2D(64, (3,3), activation = 'relu', padding = \"SAME\")(bn4)\n",
    "bn5=BatchNormalization()(conv5)\n",
    "conv6 = Conv2D(64, (3,3), activation = 'relu', padding = \"SAME\")(bn5)\n",
    "bn6=BatchNormalization()(conv6)\n",
    "\n",
    "pool2 = MaxPooling2D(pool_size = (2,2), strides = 2)(bn6)\n",
    "\n",
    "###third sequence\n",
    "conv7 = Conv2D(128, (3,3), activation = 'relu', padding = \"SAME\")(pool2)\n",
    "bn7=BatchNormalization()(conv7)\n",
    "conv8 = Conv2D(128, (3,3), activation = 'relu', padding = \"SAME\")(bn7)\n",
    "bn8=BatchNormalization()(conv8)\n",
    "conv9 = Conv2D(128, (3,3), activation = 'relu', padding = \"SAME\")(bn8)\n",
    "bn9=BatchNormalization()(conv9)\n",
    "\n",
    "pool3 = MaxPooling2D(pool_size = (2,2), strides = 2)(bn9)\n",
    "\n",
    "\n",
    "\n",
    "\n",
    "flat_1 = Flatten()(pool3)\n",
    "#x = Dense(100, activation='relu')(flat_1)\n",
    "# x = Dense(100, activation='relu')(x)\n",
    "#fully connected 1\n",
    "\n",
    "\n",
    "# x1 = Dense(16000, activation='linear')(flat_1)\n",
    "# x2 = Dense(16000, activation='linear')(flat_1)\n",
    "# x3 = Dense(16000, activation='linear')(flat_1)\n",
    "# x4 = Dense(16000, activation='linear')(flat_1)\n",
    "# x5 = Dense(16000, activation='linear')(flat_1)\n",
    "# x6 = Dense(16000, activation='linear')(flat_1)\n",
    "# x7 = Dense(16000, activation='linear')(flat_1)\n",
    "# x8 = Dense(16000, activation='linear')(flat_1)\n",
    "\n",
    "#fully connected2\n",
    "\n",
    "# x1_1 = Dense(128, activation='linear')(x1)\n",
    "# x2_1 = Dense(128, activation='linear')(x2)\n",
    "# x3_1 = Dense(128, activation='linear')(x3)\n",
    "# x4_1 = Dense(128, activation='linear')(x4)\n",
    "# x5_1 = Dense(128, activation='linear')(x5)\n",
    "# x6_1 = Dense(128, activation='linear')(x6)\n",
    "# x7_1 = Dense(128, activation='linear')(x7)\n",
    "# x8_1 = Dense(128, activation='linear')(x8)\n",
    "\n",
    "x1_1 = Dense(128, activation='linear')(flat_1)\n",
    "x2_1 = Dense(128, activation='linear')(flat_1)\n",
    "x3_1 = Dense(128, activation='linear')(flat_1)\n",
    "x4_1 = Dense(128, activation='linear')(flat_1)\n",
    "x5_1 = Dense(128, activation='linear')(flat_1)\n",
    "x6_1 = Dense(128, activation='linear')(flat_1)\n",
    "x7_1 = Dense(128, activation='linear')(flat_1)\n",
    "x8_1 = Dense(128, activation='linear')(flat_1)\n",
    "\n",
    "\n",
    "\n",
    "\n",
    "out1 = Dense(39,  activation='softmax')(x1_1)\n",
    "out2 = Dense(39,  activation='softmax')(x2_1)\n",
    "out3 = Dense(39,  activation='softmax')(x3_1)\n",
    "out4 = Dense(39,  activation='softmax')(x4_1)\n",
    "out5 = Dense(39,  activation='softmax')(x5_1)\n",
    "out6 = Dense(39,  activation='softmax')(x6_1)\n",
    "out7 = Dense(39,  activation='softmax')(x7_1)\n",
    "out8 = Dense(39,  activation='softmax')(x8_1)\n",
    "output_1=[out1,out2,out3,out4,out5,out6,out7,out8]\n",
    "model = Model(inputs=[Input_1], outputs=output_1)\n",
    "# model = Model(inputs=Input_1, outputs=[layer.get_output_shape_at(out1)\n",
    "#                                        ,layer.get_output_shape_at(out2)\n",
    "#                                        ,layer.get_output_shape_at(out3)\n",
    "#                                        ,layer.get_output_shape_at(out4)\n",
    "#                                        ,layer.get_output_shape_at(out5)\n",
    "#                                        ,layer.get_output_shape_at(out6)\n",
    "#                                        ,layer.get_output_shape_at(out7)\n",
    "#                                        ,layer.get_output_shape_at(out8)\n",
    "#                                        ])\n",
    "adam=keras.optimizers.Adam(lr=0.0001)\n",
    "model.compile(optimizer = adam, loss = 'categorical_crossentropy',metrics=['accuracy'])\n",
    "\n",
    "\n",
    "\n",
    "\n",
    "\n",
    "\n",
    "#####\n",
    "\"\"\"\n",
    "main=model.add(Conv2D(32, kernel_size=3,padding='same',input_shape=trainX[0].shape))\n",
    "main=model.add(BatchNormalization())\n",
    "main=model.add(Activation('relu'))\n",
    "main=model.add(MaxPooling2D(pool_size=(2, 2)))\n",
    "\n",
    "main=model.add(Conv2D(64, kernel_size=3, padding='same'))\n",
    "main=model.add(BatchNormalization())\n",
    "main=model.add(Activation('relu'))\n",
    "main=model.add(MaxPooling2D(pool_size=(2, 2)))\n",
    "main=model.add(Conv2D(128, kernel_size=3, padding='same'))\n",
    "main=model.add(BatchNormalization())\n",
    "main=model.add(Activation('relu'))\n",
    "main=model.add(MaxPooling2D(pool_size=(2, 2)))\n",
    "\n",
    "\n",
    "o1 = Dense(16000,  activation='linear')(main)\n",
    "d1= Dense(128,  activation='linear')(o1)\n",
    "s1=Dense(39, activation = 'softmax')(d1)\n",
    "o2 = Dense(16000,  activation='linear')(main)\n",
    "d2= Dense(128,  activation='linear')(o2)\n",
    "s2=Dense(39, activation = 'softmax')(d2)\n",
    "# o2 = Dense(16000, activation = 'softmax')(main)\n",
    "# o3 = Dense(16000, activation = 'softmax')(main)\n",
    "# o4 = Dense(16000, activation = 'softmax')(main)\n",
    "# o5 = Dense(16000, activation = 'softmax')(main)\n",
    "# o6 = Dense(16000, activation = 'softmax')(main)\n",
    "# o7 = Dense(16000, activation = 'softmax')(main)\n",
    "# o8 = Dense(16000, activation = 'softmax')(main)\n",
    "\n",
    "\"\"\""
   ]
  },
  {
   "cell_type": "code",
   "execution_count": 26,
   "metadata": {
    "scrolled": false
   },
   "outputs": [
    {
     "name": "stdout",
     "output_type": "stream",
     "text": [
      "__________________________________________________________________________________________________\n",
      "Layer (type)                    Output Shape         Param #     Connected to                     \n",
      "==================================================================================================\n",
      "input_1 (InputLayer)            (None, 40, 200, 3)   0                                            \n",
      "__________________________________________________________________________________________________\n",
      "conv2d_1 (Conv2D)               (None, 40, 200, 32)  896         input_1[0][0]                    \n",
      "__________________________________________________________________________________________________\n",
      "batch_normalization_1 (BatchNor (None, 40, 200, 32)  128         conv2d_1[0][0]                   \n",
      "__________________________________________________________________________________________________\n",
      "conv2d_2 (Conv2D)               (None, 40, 200, 32)  9248        batch_normalization_1[0][0]      \n",
      "__________________________________________________________________________________________________\n",
      "batch_normalization_2 (BatchNor (None, 40, 200, 32)  128         conv2d_2[0][0]                   \n",
      "__________________________________________________________________________________________________\n",
      "conv2d_3 (Conv2D)               (None, 40, 200, 32)  9248        batch_normalization_2[0][0]      \n",
      "__________________________________________________________________________________________________\n",
      "batch_normalization_3 (BatchNor (None, 40, 200, 32)  128         conv2d_3[0][0]                   \n",
      "__________________________________________________________________________________________________\n",
      "max_pooling2d_1 (MaxPooling2D)  (None, 20, 100, 32)  0           batch_normalization_3[0][0]      \n",
      "__________________________________________________________________________________________________\n",
      "conv2d_4 (Conv2D)               (None, 20, 100, 64)  18496       max_pooling2d_1[0][0]            \n",
      "__________________________________________________________________________________________________\n",
      "batch_normalization_4 (BatchNor (None, 20, 100, 64)  256         conv2d_4[0][0]                   \n",
      "__________________________________________________________________________________________________\n",
      "conv2d_5 (Conv2D)               (None, 20, 100, 64)  36928       batch_normalization_4[0][0]      \n",
      "__________________________________________________________________________________________________\n",
      "batch_normalization_5 (BatchNor (None, 20, 100, 64)  256         conv2d_5[0][0]                   \n",
      "__________________________________________________________________________________________________\n",
      "conv2d_6 (Conv2D)               (None, 20, 100, 64)  36928       batch_normalization_5[0][0]      \n",
      "__________________________________________________________________________________________________\n",
      "batch_normalization_6 (BatchNor (None, 20, 100, 64)  256         conv2d_6[0][0]                   \n",
      "__________________________________________________________________________________________________\n",
      "max_pooling2d_2 (MaxPooling2D)  (None, 10, 50, 64)   0           batch_normalization_6[0][0]      \n",
      "__________________________________________________________________________________________________\n",
      "conv2d_7 (Conv2D)               (None, 10, 50, 128)  73856       max_pooling2d_2[0][0]            \n",
      "__________________________________________________________________________________________________\n",
      "batch_normalization_7 (BatchNor (None, 10, 50, 128)  512         conv2d_7[0][0]                   \n",
      "__________________________________________________________________________________________________\n",
      "conv2d_8 (Conv2D)               (None, 10, 50, 128)  147584      batch_normalization_7[0][0]      \n",
      "__________________________________________________________________________________________________\n",
      "batch_normalization_8 (BatchNor (None, 10, 50, 128)  512         conv2d_8[0][0]                   \n",
      "__________________________________________________________________________________________________\n",
      "conv2d_9 (Conv2D)               (None, 10, 50, 128)  147584      batch_normalization_8[0][0]      \n",
      "__________________________________________________________________________________________________\n",
      "batch_normalization_9 (BatchNor (None, 10, 50, 128)  512         conv2d_9[0][0]                   \n",
      "__________________________________________________________________________________________________\n",
      "max_pooling2d_3 (MaxPooling2D)  (None, 5, 25, 128)   0           batch_normalization_9[0][0]      \n",
      "__________________________________________________________________________________________________\n",
      "flatten_1 (Flatten)             (None, 16000)        0           max_pooling2d_3[0][0]            \n",
      "__________________________________________________________________________________________________\n",
      "dense_1 (Dense)                 (None, 128)          2048128     flatten_1[0][0]                  \n",
      "__________________________________________________________________________________________________\n",
      "dense_2 (Dense)                 (None, 128)          2048128     flatten_1[0][0]                  \n",
      "__________________________________________________________________________________________________\n",
      "dense_3 (Dense)                 (None, 128)          2048128     flatten_1[0][0]                  \n",
      "__________________________________________________________________________________________________\n",
      "dense_4 (Dense)                 (None, 128)          2048128     flatten_1[0][0]                  \n",
      "__________________________________________________________________________________________________\n",
      "dense_5 (Dense)                 (None, 128)          2048128     flatten_1[0][0]                  \n",
      "__________________________________________________________________________________________________\n",
      "dense_6 (Dense)                 (None, 128)          2048128     flatten_1[0][0]                  \n",
      "__________________________________________________________________________________________________\n",
      "dense_7 (Dense)                 (None, 128)          2048128     flatten_1[0][0]                  \n",
      "__________________________________________________________________________________________________\n",
      "dense_8 (Dense)                 (None, 128)          2048128     flatten_1[0][0]                  \n",
      "__________________________________________________________________________________________________\n",
      "dense_9 (Dense)                 (None, 39)           5031        dense_1[0][0]                    \n",
      "__________________________________________________________________________________________________\n",
      "dense_10 (Dense)                (None, 39)           5031        dense_2[0][0]                    \n",
      "__________________________________________________________________________________________________\n",
      "dense_11 (Dense)                (None, 39)           5031        dense_3[0][0]                    \n",
      "__________________________________________________________________________________________________\n",
      "dense_12 (Dense)                (None, 39)           5031        dense_4[0][0]                    \n",
      "__________________________________________________________________________________________________\n",
      "dense_13 (Dense)                (None, 39)           5031        dense_5[0][0]                    \n",
      "__________________________________________________________________________________________________\n",
      "dense_14 (Dense)                (None, 39)           5031        dense_6[0][0]                    \n",
      "__________________________________________________________________________________________________\n",
      "dense_15 (Dense)                (None, 39)           5031        dense_7[0][0]                    \n",
      "__________________________________________________________________________________________________\n",
      "dense_16 (Dense)                (None, 39)           5031        dense_8[0][0]                    \n",
      "==================================================================================================\n",
      "Total params: 16,908,728\n",
      "Trainable params: 16,907,384\n",
      "Non-trainable params: 1,344\n",
      "__________________________________________________________________________________________________\n"
     ]
    }
   ],
   "source": [
    "model.summary()\n"
   ]
  },
  {
   "cell_type": "code",
   "execution_count": 39,
   "metadata": {
    "scrolled": true
   },
   "outputs": [
    {
     "data": {
      "text/plain": [
       "'1'"
      ]
     },
     "execution_count": 39,
     "metadata": {},
     "output_type": "execute_result"
    }
   ],
   "source": [
    "int_to_char[argmax(trainY[100:,0,:])]"
   ]
  },
  {
   "cell_type": "code",
   "execution_count": 45,
   "metadata": {
    "scrolled": true
   },
   "outputs": [
    {
     "data": {
      "text/plain": [
       "'3'"
      ]
     },
     "execution_count": 45,
     "metadata": {},
     "output_type": "execute_result"
    }
   ],
   "source": [
    "int_to_char[argmax(trainY[100:,4,:])]"
   ]
  },
  {
   "cell_type": "code",
   "execution_count": null,
   "metadata": {},
   "outputs": [],
   "source": []
  },
  {
   "cell_type": "code",
   "execution_count": 43,
   "metadata": {},
   "outputs": [
    {
     "data": {
      "text/plain": [
       "<matplotlib.image.AxesImage at 0x7eff585e79e8>"
      ]
     },
     "execution_count": 43,
     "metadata": {},
     "output_type": "execute_result"
    },
    {
     "data": {
      "image/png": "[encoded data removed]",
      "text/plain": [
       "<Figure size 432x288 with 1 Axes>"
      ]
     },
     "metadata": {
      "needs_background": "light"
     },
     "output_type": "display_data"
    }
   ],
   "source": [
    "skimage.io.imshow(trainX[100]*255)"
   ]
  },
  {
   "cell_type": "code",
   "execution_count": 37,
   "metadata": {},
   "outputs": [
    {
     "data": {
      "text/plain": [
       "(105671, 8, 39)"
      ]
     },
     "execution_count": 37,
     "metadata": {},
     "output_type": "execute_result"
    }
   ],
   "source": [
    "trainY.shape"
   ]
  },
  {
   "cell_type": "code",
   "execution_count": 46,
   "metadata": {
    "scrolled": false
   },
   "outputs": [
    {
     "name": "stdout",
     "output_type": "stream",
     "text": [
      "Epoch 1/80\n",
      "105671/105671 [==============================] - 861s 8ms/step - loss: 89.5923 - dense_9_loss: 13.2535 - dense_10_loss: 5.2615 - dense_11_loss: 14.9956 - dense_12_loss: 0.0463 - dense_13_loss: 13.9856 - dense_14_loss: 13.9298 - dense_15_loss: 14.0183 - dense_16_loss: 14.1016 - dense_9_acc: 0.1725 - dense_10_acc: 0.6729 - dense_11_acc: 0.0683 - dense_12_acc: 0.9968 - dense_13_acc: 0.1283 - dense_14_acc: 0.1297 - dense_15_acc: 0.1261 - dense_16_acc: 0.1226\n",
      "Epoch 2/80\n",
      "105671/105671 [==============================] - 844s 8ms/step - loss: 56.3411 - dense_9_loss: 4.4634 - dense_10_loss: 4.8055 - dense_11_loss: 12.9899 - dense_12_loss: 0.0325 - dense_13_loss: 8.4654 - dense_14_loss: 7.8994 - dense_15_loss: 8.4345 - dense_16_loss: 9.2505 - dense_9_acc: 0.7130 - dense_10_acc: 0.7007 - dense_11_acc: 0.1906 - dense_12_acc: 0.9979 - dense_13_acc: 0.4683 - dense_14_acc: 0.5002 - dense_15_acc: 0.4667 - dense_16_acc: 0.4203\n",
      "Epoch 3/80\n",
      "105671/105671 [==============================] - 846s 8ms/step - loss: 31.0767 - dense_9_loss: 2.0488 - dense_10_loss: 3.8872 - dense_11_loss: 7.7531 - dense_12_loss: 0.0317 - dense_13_loss: 3.6807 - dense_14_loss: 4.4449 - dense_15_loss: 3.2945 - dense_16_loss: 5.9358 - dense_9_acc: 0.8696 - dense_10_acc: 0.7572 - dense_11_acc: 0.5152 - dense_12_acc: 0.9980 - dense_13_acc: 0.7679 - dense_14_acc: 0.7206 - dense_15_acc: 0.7908 - dense_16_acc: 0.6289\n",
      "Epoch 4/80\n",
      "105671/105671 [==============================] - 844s 8ms/step - loss: 22.7141 - dense_9_loss: 1.3045 - dense_10_loss: 2.7971 - dense_11_loss: 7.0223 - dense_12_loss: 0.0322 - dense_13_loss: 3.5341 - dense_14_loss: 2.5079 - dense_15_loss: 1.2097 - dense_16_loss: 4.3064 - dense_9_acc: 0.9170 - dense_10_acc: 0.8235 - dense_11_acc: 0.5617 - dense_12_acc: 0.9980 - dense_13_acc: 0.7791 - dense_14_acc: 0.8415 - dense_15_acc: 0.9214 - dense_16_acc: 0.7303\n",
      "Epoch 5/80\n",
      "105671/105671 [==============================] - 847s 8ms/step - loss: 15.2713 - dense_9_loss: 1.2806 - dense_10_loss: 0.9444 - dense_11_loss: 6.9104 - dense_12_loss: 0.0321 - dense_13_loss: 2.7458 - dense_14_loss: 1.8311 - dense_15_loss: 0.4847 - dense_16_loss: 1.0421 - dense_9_acc: 0.9191 - dense_10_acc: 0.9391 - dense_11_acc: 0.5702 - dense_12_acc: 0.9980 - dense_13_acc: 0.8280 - dense_14_acc: 0.8847 - dense_15_acc: 0.9674 - dense_16_acc: 0.9320\n",
      "Epoch 6/80\n",
      "105671/105671 [==============================] - 845s 8ms/step - loss: 12.8592 - dense_9_loss: 1.2493 - dense_10_loss: 0.8588 - dense_11_loss: 6.8887 - dense_12_loss: 0.0325 - dense_13_loss: 1.2136 - dense_14_loss: 1.7963 - dense_15_loss: 0.4420 - dense_16_loss: 0.3779 - dense_9_acc: 0.9215 - dense_10_acc: 0.9453 - dense_11_acc: 0.5719 - dense_12_acc: 0.9980 - dense_13_acc: 0.9229 - dense_14_acc: 0.8870 - dense_15_acc: 0.9706 - dense_16_acc: 0.9745\n",
      "Epoch 7/80\n",
      "105671/105671 [==============================] - 848s 8ms/step - loss: 10.4435 - dense_9_loss: 1.2247 - dense_10_loss: 0.7886 - dense_11_loss: 6.8754 - dense_12_loss: 0.0323 - dense_13_loss: 0.1594 - dense_14_loss: 0.6274 - dense_15_loss: 0.4067 - dense_16_loss: 0.3290 - dense_9_acc: 0.9233 - dense_10_acc: 0.9497 - dense_11_acc: 0.5727 - dense_12_acc: 0.9980 - dense_13_acc: 0.9889 - dense_14_acc: 0.9593 - dense_15_acc: 0.9729 - dense_16_acc: 0.9780\n",
      "Epoch 8/80\n",
      "105671/105671 [==============================] - 848s 8ms/step - loss: 9.8717 - dense_9_loss: 1.2223 - dense_10_loss: 0.7332 - dense_11_loss: 6.8600 - dense_12_loss: 0.0312 - dense_13_loss: 0.1440 - dense_14_loss: 0.2055 - dense_15_loss: 0.3691 - dense_16_loss: 0.3064 - dense_9_acc: 0.9234 - dense_10_acc: 0.9534 - dense_11_acc: 0.5737 - dense_12_acc: 0.9981 - dense_13_acc: 0.9900 - dense_14_acc: 0.9857 - dense_15_acc: 0.9756 - dense_16_acc: 0.9797\n",
      "Epoch 9/80\n",
      "105671/105671 [==============================] - 843s 8ms/step - loss: 9.4780 - dense_9_loss: 1.2128 - dense_10_loss: 0.6968 - dense_11_loss: 6.5843 - dense_12_loss: 0.0312 - dense_13_loss: 0.1343 - dense_14_loss: 0.1887 - dense_15_loss: 0.3493 - dense_16_loss: 0.2805 - dense_9_acc: 0.9242 - dense_10_acc: 0.9560 - dense_11_acc: 0.5902 - dense_12_acc: 0.9981 - dense_13_acc: 0.9908 - dense_14_acc: 0.9870 - dense_15_acc: 0.9769 - dense_16_acc: 0.9813\n",
      "Epoch 10/80\n",
      "105671/105671 [==============================] - 845s 8ms/step - loss: 9.2840 - dense_9_loss: 1.2107 - dense_10_loss: 0.6835 - dense_11_loss: 6.4697 - dense_12_loss: 0.0322 - dense_13_loss: 0.1173 - dense_14_loss: 0.1787 - dense_15_loss: 0.3333 - dense_16_loss: 0.2587 - dense_9_acc: 0.9243 - dense_10_acc: 0.9570 - dense_11_acc: 0.5980 - dense_12_acc: 0.9980 - dense_13_acc: 0.9920 - dense_14_acc: 0.9880 - dense_15_acc: 0.9779 - dense_16_acc: 0.9830\n",
      "Epoch 11/80\n",
      "105671/105671 [==============================] - 846s 8ms/step - loss: 8.9844 - dense_9_loss: 1.1992 - dense_10_loss: 0.5522 - dense_11_loss: 6.3537 - dense_12_loss: 0.0314 - dense_13_loss: 0.1136 - dense_14_loss: 0.1722 - dense_15_loss: 0.3153 - dense_16_loss: 0.2468 - dense_9_acc: 0.9250 - dense_10_acc: 0.9647 - dense_11_acc: 0.6049 - dense_12_acc: 0.9980 - dense_13_acc: 0.9922 - dense_14_acc: 0.9882 - dense_15_acc: 0.9792 - dense_16_acc: 0.9834\n",
      "Epoch 12/80\n",
      "105671/105671 [==============================] - 846s 8ms/step - loss: 7.6415 - dense_9_loss: 1.1922 - dense_10_loss: 0.4756 - dense_11_loss: 5.1398 - dense_12_loss: 0.0317 - dense_13_loss: 0.1094 - dense_14_loss: 0.1515 - dense_15_loss: 0.3020 - dense_16_loss: 0.2393 - dense_9_acc: 0.9256 - dense_10_acc: 0.9699 - dense_11_acc: 0.6791 - dense_12_acc: 0.9980 - dense_13_acc: 0.9926 - dense_14_acc: 0.9897 - dense_15_acc: 0.9801 - dense_16_acc: 0.9843\n",
      "Epoch 13/80\n",
      "105671/105671 [==============================] - 847s 8ms/step - loss: 7.4500 - dense_9_loss: 1.1831 - dense_10_loss: 0.4692 - dense_11_loss: 4.9918 - dense_12_loss: 0.0318 - dense_13_loss: 0.1075 - dense_14_loss: 0.1453 - dense_15_loss: 0.2875 - dense_16_loss: 0.2338 - dense_9_acc: 0.9262 - dense_10_acc: 0.9703 - dense_11_acc: 0.6890 - dense_12_acc: 0.9980 - dense_13_acc: 0.9927 - dense_14_acc: 0.9901 - dense_15_acc: 0.9810 - dense_16_acc: 0.9845\n",
      "Epoch 14/80\n",
      "105671/105671 [==============================] - 848s 8ms/step - loss: 7.3495 - dense_9_loss: 1.1794 - dense_10_loss: 0.4712 - dense_11_loss: 4.9423 - dense_12_loss: 0.0326 - dense_13_loss: 0.0985 - dense_14_loss: 0.1368 - dense_15_loss: 0.2699 - dense_16_loss: 0.2189 - dense_9_acc: 0.9265 - dense_10_acc: 0.9703 - dense_11_acc: 0.6924 - dense_12_acc: 0.9979 - dense_13_acc: 0.9933 - dense_14_acc: 0.9905 - dense_15_acc: 0.9822 - dense_16_acc: 0.9857\n",
      "Epoch 15/80\n",
      "105671/105671 [==============================] - 848s 8ms/step - loss: 7.2795 - dense_9_loss: 1.1785 - dense_10_loss: 0.4545 - dense_11_loss: 4.9091 - dense_12_loss: 0.0318 - dense_13_loss: 0.0981 - dense_14_loss: 0.1234 - dense_15_loss: 0.2722 - dense_16_loss: 0.2121 - dense_9_acc: 0.9266 - dense_10_acc: 0.9714 - dense_11_acc: 0.6948 - dense_12_acc: 0.9980 - dense_13_acc: 0.9935 - dense_14_acc: 0.9916 - dense_15_acc: 0.9819 - dense_16_acc: 0.9862\n",
      "Epoch 16/80\n",
      "105671/105671 [==============================] - 849s 8ms/step - loss: 7.0401 - dense_9_loss: 1.1759 - dense_10_loss: 0.4501 - dense_11_loss: 4.6996 - dense_12_loss: 0.0315 - dense_13_loss: 0.1011 - dense_14_loss: 0.1193 - dense_15_loss: 0.2551 - dense_16_loss: 0.2076 - dense_9_acc: 0.9266 - dense_10_acc: 0.9716 - dense_11_acc: 0.7075 - dense_12_acc: 0.9980 - dense_13_acc: 0.9932 - dense_14_acc: 0.9918 - dense_15_acc: 0.9834 - dense_16_acc: 0.9863\n",
      "Epoch 17/80\n",
      "105671/105671 [==============================] - 848s 8ms/step - loss: 6.7365 - dense_9_loss: 1.1784 - dense_10_loss: 0.4465 - dense_11_loss: 4.4330 - dense_12_loss: 0.0319 - dense_13_loss: 0.0964 - dense_14_loss: 0.1101 - dense_15_loss: 0.2413 - dense_16_loss: 0.1990 - dense_9_acc: 0.9266 - dense_10_acc: 0.9720 - dense_11_acc: 0.7236 - dense_12_acc: 0.9980 - dense_13_acc: 0.9935 - dense_14_acc: 0.9925 - dense_15_acc: 0.9842 - dense_16_acc: 0.9870\n",
      "Epoch 18/80\n",
      "105671/105671 [==============================] - 848s 8ms/step - loss: 6.5721 - dense_9_loss: 1.1699 - dense_10_loss: 0.4279 - dense_11_loss: 4.3065 - dense_12_loss: 0.0322 - dense_13_loss: 0.0925 - dense_14_loss: 0.1080 - dense_15_loss: 0.2385 - dense_16_loss: 0.1966 - dense_9_acc: 0.9272 - dense_10_acc: 0.9731 - dense_11_acc: 0.7321 - dense_12_acc: 0.9979 - dense_13_acc: 0.9938 - dense_14_acc: 0.9926 - dense_15_acc: 0.9844 - dense_16_acc: 0.9873\n",
      "Epoch 19/80\n",
      "105671/105671 [==============================] - 847s 8ms/step - loss: 6.5263 - dense_9_loss: 1.1717 - dense_10_loss: 0.4197 - dense_11_loss: 4.2968 - dense_12_loss: 0.0315 - dense_13_loss: 0.0911 - dense_14_loss: 0.0996 - dense_15_loss: 0.2231 - dense_16_loss: 0.1929 - dense_9_acc: 0.9271 - dense_10_acc: 0.9736 - dense_11_acc: 0.7327 - dense_12_acc: 0.9980 - dense_13_acc: 0.9940 - dense_14_acc: 0.9933 - dense_15_acc: 0.9854 - dense_16_acc: 0.9875\n",
      "Epoch 20/80\n",
      "105671/105671 [==============================] - 847s 8ms/step - loss: 6.4974 - dense_9_loss: 1.1712 - dense_10_loss: 0.4144 - dense_11_loss: 4.2892 - dense_12_loss: 0.0334 - dense_13_loss: 0.0906 - dense_14_loss: 0.0941 - dense_15_loss: 0.2128 - dense_16_loss: 0.1917 - dense_9_acc: 0.9270 - dense_10_acc: 0.9740 - dense_11_acc: 0.7334 - dense_12_acc: 0.9979 - dense_13_acc: 0.9940 - dense_14_acc: 0.9936 - dense_15_acc: 0.9861 - dense_16_acc: 0.9876\n",
      "Epoch 21/80\n",
      "105671/105671 [==============================] - 847s 8ms/step - loss: 5.8719 - dense_9_loss: 0.5693 - dense_10_loss: 0.4178 - dense_11_loss: 4.2833 - dense_12_loss: 0.0324 - dense_13_loss: 0.0897 - dense_14_loss: 0.0929 - dense_15_loss: 0.2039 - dense_16_loss: 0.1827 - dense_9_acc: 0.9642 - dense_10_acc: 0.9738 - dense_11_acc: 0.7338 - dense_12_acc: 0.9980 - dense_13_acc: 0.9941 - dense_14_acc: 0.9937 - dense_15_acc: 0.9867 - dense_16_acc: 0.9883\n",
      "Epoch 22/80\n",
      "105671/105671 [==============================] - 848s 8ms/step - loss: 5.5420 - dense_9_loss: 0.2524 - dense_10_loss: 0.4135 - dense_11_loss: 4.2816 - dense_12_loss: 0.0313 - dense_13_loss: 0.0880 - dense_14_loss: 0.0906 - dense_15_loss: 0.2029 - dense_16_loss: 0.1817 - dense_9_acc: 0.9840 - dense_10_acc: 0.9741 - dense_11_acc: 0.7339 - dense_12_acc: 0.9980 - dense_13_acc: 0.9942 - dense_14_acc: 0.9939 - dense_15_acc: 0.9868 - dense_16_acc: 0.9883\n",
      "Epoch 23/80\n",
      "105671/105671 [==============================] - 848s 8ms/step - loss: 5.5268 - dense_9_loss: 0.2503 - dense_10_loss: 0.4103 - dense_11_loss: 4.2773 - dense_12_loss: 0.0325 - dense_13_loss: 0.0890 - dense_14_loss: 0.0878 - dense_15_loss: 0.2011 - dense_16_loss: 0.1786 - dense_9_acc: 0.9842 - dense_10_acc: 0.9744 - dense_11_acc: 0.7342 - dense_12_acc: 0.9980 - dense_13_acc: 0.9942 - dense_14_acc: 0.9941 - dense_15_acc: 0.9869 - dense_16_acc: 0.9884\n",
      "Epoch 24/80\n",
      "105671/105671 [==============================] - 847s 8ms/step - loss: 5.5004 - dense_9_loss: 0.2454 - dense_10_loss: 0.4113 - dense_11_loss: 4.2747 - dense_12_loss: 0.0319 - dense_13_loss: 0.0856 - dense_14_loss: 0.0839 - dense_15_loss: 0.1960 - dense_16_loss: 0.1717 - dense_9_acc: 0.9845 - dense_10_acc: 0.9743 - dense_11_acc: 0.7344 - dense_12_acc: 0.9980 - dense_13_acc: 0.9945 - dense_14_acc: 0.9944 - dense_15_acc: 0.9872 - dense_16_acc: 0.9889\n",
      "Epoch 25/80\n",
      "105671/105671 [==============================] - 846s 8ms/step - loss: 5.4939 - dense_9_loss: 0.2350 - dense_10_loss: 0.4124 - dense_11_loss: 4.2768 - dense_12_loss: 0.0318 - dense_13_loss: 0.0852 - dense_14_loss: 0.0847 - dense_15_loss: 0.1920 - dense_16_loss: 0.1761 - dense_9_acc: 0.9852 - dense_10_acc: 0.9742 - dense_11_acc: 0.7343 - dense_12_acc: 0.9980 - dense_13_acc: 0.9945 - dense_14_acc: 0.9943 - dense_15_acc: 0.9875 - dense_16_acc: 0.9887\n",
      "Epoch 26/80\n",
      "105671/105671 [==============================] - 844s 8ms/step - loss: 5.4776 - dense_9_loss: 0.2335 - dense_10_loss: 0.4119 - dense_11_loss: 4.2712 - dense_12_loss: 0.0319 - dense_13_loss: 0.0833 - dense_14_loss: 0.0817 - dense_15_loss: 0.1928 - dense_16_loss: 0.1713 - dense_9_acc: 0.9853 - dense_10_acc: 0.9743 - dense_11_acc: 0.7347 - dense_12_acc: 0.9980 - dense_13_acc: 0.9946 - dense_14_acc: 0.9945 - dense_15_acc: 0.9874 - dense_16_acc: 0.9890\n",
      "Epoch 27/80\n",
      "105671/105671 [==============================] - 846s 8ms/step - loss: 5.4664 - dense_9_loss: 0.2318 - dense_10_loss: 0.4141 - dense_11_loss: 4.2707 - dense_12_loss: 0.0320 - dense_13_loss: 0.0846 - dense_14_loss: 0.0827 - dense_15_loss: 0.1870 - dense_16_loss: 0.1636 - dense_9_acc: 0.9854 - dense_10_acc: 0.9740 - dense_11_acc: 0.7346 - dense_12_acc: 0.9980 - dense_13_acc: 0.9946 - dense_14_acc: 0.9945 - dense_15_acc: 0.9879 - dense_16_acc: 0.9894\n",
      "Epoch 28/80\n",
      "105671/105671 [==============================] - 847s 8ms/step - loss: 5.4414 - dense_9_loss: 0.2322 - dense_10_loss: 0.4092 - dense_11_loss: 4.2746 - dense_12_loss: 0.0328 - dense_13_loss: 0.0840 - dense_14_loss: 0.0795 - dense_15_loss: 0.1697 - dense_16_loss: 0.1593 - dense_9_acc: 0.9854 - dense_10_acc: 0.9744 - dense_11_acc: 0.7344 - dense_12_acc: 0.9979 - dense_13_acc: 0.9946 - dense_14_acc: 0.9947 - dense_15_acc: 0.9888 - dense_16_acc: 0.9898\n",
      "Epoch 29/80\n",
      "105671/105671 [==============================] - 847s 8ms/step - loss: 5.4175 - dense_9_loss: 0.2270 - dense_10_loss: 0.4066 - dense_11_loss: 4.2650 - dense_12_loss: 0.0316 - dense_13_loss: 0.0820 - dense_14_loss: 0.0809 - dense_15_loss: 0.1648 - dense_16_loss: 0.1595 - dense_9_acc: 0.9857 - dense_10_acc: 0.9746 - dense_11_acc: 0.7351 - dense_12_acc: 0.9980 - dense_13_acc: 0.9947 - dense_14_acc: 0.9946 - dense_15_acc: 0.9893 - dense_16_acc: 0.9898\n",
      "Epoch 30/80\n",
      "105671/105671 [==============================] - 848s 8ms/step - loss: 5.4119 - dense_9_loss: 0.2258 - dense_10_loss: 0.4083 - dense_11_loss: 4.2676 - dense_12_loss: 0.0312 - dense_13_loss: 0.0849 - dense_14_loss: 0.0748 - dense_15_loss: 0.1581 - dense_16_loss: 0.1612 - dense_9_acc: 0.9858 - dense_10_acc: 0.9745 - dense_11_acc: 0.7349 - dense_12_acc: 0.9981 - dense_13_acc: 0.9945 - dense_14_acc: 0.9950 - dense_15_acc: 0.9897 - dense_16_acc: 0.9897\n",
      "Epoch 31/80\n",
      "105671/105671 [==============================] - 847s 8ms/step - loss: 5.2733 - dense_9_loss: 0.2298 - dense_10_loss: 0.4058 - dense_11_loss: 4.1325 - dense_12_loss: 0.0324 - dense_13_loss: 0.0826 - dense_14_loss: 0.0748 - dense_15_loss: 0.1583 - dense_16_loss: 0.1571 - dense_9_acc: 0.9856 - dense_10_acc: 0.9747 - dense_11_acc: 0.7429 - dense_12_acc: 0.9980 - dense_13_acc: 0.9947 - dense_14_acc: 0.9951 - dense_15_acc: 0.9897 - dense_16_acc: 0.9900\n",
      "Epoch 32/80\n",
      "105671/105671 [==============================] - 848s 8ms/step - loss: 5.1832 - dense_9_loss: 0.2265 - dense_10_loss: 0.4064 - dense_11_loss: 4.0530 - dense_12_loss: 0.0316 - dense_13_loss: 0.0831 - dense_14_loss: 0.0720 - dense_15_loss: 0.1534 - dense_16_loss: 0.1572 - dense_9_acc: 0.9858 - dense_10_acc: 0.9746 - dense_11_acc: 0.7481 - dense_12_acc: 0.9980 - dense_13_acc: 0.9946 - dense_14_acc: 0.9952 - dense_15_acc: 0.9900 - dense_16_acc: 0.9899\n",
      "Epoch 33/80\n",
      "105671/105671 [==============================] - 847s 8ms/step - loss: 5.0059 - dense_9_loss: 0.2273 - dense_10_loss: 0.4039 - dense_11_loss: 3.8872 - dense_12_loss: 0.0316 - dense_13_loss: 0.0818 - dense_14_loss: 0.0715 - dense_15_loss: 0.1472 - dense_16_loss: 0.1554 - dense_9_acc: 0.9857 - dense_10_acc: 0.9748 - dense_11_acc: 0.7580 - dense_12_acc: 0.9980 - dense_13_acc: 0.9947 - dense_14_acc: 0.9953 - dense_15_acc: 0.9904 - dense_16_acc: 0.9901\n",
      "Epoch 34/80\n",
      "105671/105671 [==============================] - 848s 8ms/step - loss: 4.9061 - dense_9_loss: 0.2269 - dense_10_loss: 0.4048 - dense_11_loss: 3.7886 - dense_12_loss: 0.0318 - dense_13_loss: 0.0830 - dense_14_loss: 0.0706 - dense_15_loss: 0.1434 - dense_16_loss: 0.1571 - dense_9_acc: 0.9858 - dense_10_acc: 0.9748 - dense_11_acc: 0.7645 - dense_12_acc: 0.9980 - dense_13_acc: 0.9947 - dense_14_acc: 0.9953 - dense_15_acc: 0.9906 - dense_16_acc: 0.9899\n",
      "Epoch 35/80\n",
      "105671/105671 [==============================] - 846s 8ms/step - loss: 4.8761 - dense_9_loss: 0.2260 - dense_10_loss: 0.4051 - dense_11_loss: 3.7591 - dense_12_loss: 0.0319 - dense_13_loss: 0.0810 - dense_14_loss: 0.0745 - dense_15_loss: 0.1426 - dense_16_loss: 0.1559 - dense_9_acc: 0.9859 - dense_10_acc: 0.9747 - dense_11_acc: 0.7663 - dense_12_acc: 0.9980 - dense_13_acc: 0.9948 - dense_14_acc: 0.9950 - dense_15_acc: 0.9908 - dense_16_acc: 0.9900\n",
      "Epoch 36/80\n",
      "105671/105671 [==============================] - 846s 8ms/step - loss: 4.6668 - dense_9_loss: 0.2261 - dense_10_loss: 0.4033 - dense_11_loss: 3.5573 - dense_12_loss: 0.0320 - dense_13_loss: 0.0830 - dense_14_loss: 0.0670 - dense_15_loss: 0.1440 - dense_16_loss: 0.1541 - dense_9_acc: 0.9859 - dense_10_acc: 0.9749 - dense_11_acc: 0.7785 - dense_12_acc: 0.9980 - dense_13_acc: 0.9946 - dense_14_acc: 0.9956 - dense_15_acc: 0.9907 - dense_16_acc: 0.9902\n",
      "Epoch 37/80\n",
      "105671/105671 [==============================] - 847s 8ms/step - loss: 4.3814 - dense_9_loss: 0.2244 - dense_10_loss: 0.4032 - dense_11_loss: 3.2789 - dense_12_loss: 0.0313 - dense_13_loss: 0.0788 - dense_14_loss: 0.0662 - dense_15_loss: 0.1470 - dense_16_loss: 0.1516 - dense_9_acc: 0.9860 - dense_10_acc: 0.9749 - dense_11_acc: 0.7959 - dense_12_acc: 0.9981 - dense_13_acc: 0.9949 - dense_14_acc: 0.9955 - dense_15_acc: 0.9905 - dense_16_acc: 0.9903\n",
      "Epoch 38/80\n",
      "105671/105671 [==============================] - 847s 8ms/step - loss: 4.3517 - dense_9_loss: 0.2186 - dense_10_loss: 0.4024 - dense_11_loss: 3.2685 - dense_12_loss: 0.0325 - dense_13_loss: 0.0760 - dense_14_loss: 0.0646 - dense_15_loss: 0.1408 - dense_16_loss: 0.1482 - dense_9_acc: 0.9863 - dense_10_acc: 0.9749 - dense_11_acc: 0.7967 - dense_12_acc: 0.9980 - dense_13_acc: 0.9951 - dense_14_acc: 0.9957 - dense_15_acc: 0.9909 - dense_16_acc: 0.9906\n",
      "Epoch 39/80\n",
      "105671/105671 [==============================] - 849s 8ms/step - loss: 4.3251 - dense_9_loss: 0.2045 - dense_10_loss: 0.4024 - dense_11_loss: 3.2631 - dense_12_loss: 0.0320 - dense_13_loss: 0.0741 - dense_14_loss: 0.0632 - dense_15_loss: 0.1379 - dense_16_loss: 0.1479 - dense_9_acc: 0.9872 - dense_10_acc: 0.9749 - dense_11_acc: 0.7972 - dense_12_acc: 0.9980 - dense_13_acc: 0.9953 - dense_14_acc: 0.9958 - dense_15_acc: 0.9910 - dense_16_acc: 0.9906\n",
      "Epoch 40/80\n",
      "105671/105671 [==============================] - 848s 8ms/step - loss: 4.3163 - dense_9_loss: 0.2006 - dense_10_loss: 0.4032 - dense_11_loss: 3.2580 - dense_12_loss: 0.0333 - dense_13_loss: 0.0744 - dense_14_loss: 0.0638 - dense_15_loss: 0.1359 - dense_16_loss: 0.1472 - dense_9_acc: 0.9875 - dense_10_acc: 0.9749 - dense_11_acc: 0.7976 - dense_12_acc: 0.9979 - dense_13_acc: 0.9952 - dense_14_acc: 0.9958 - dense_15_acc: 0.9912 - dense_16_acc: 0.9906\n",
      "Epoch 41/80\n",
      "105671/105671 [==============================] - 847s 8ms/step - loss: 4.3108 - dense_9_loss: 0.2042 - dense_10_loss: 0.4015 - dense_11_loss: 3.2559 - dense_12_loss: 0.0318 - dense_13_loss: 0.0734 - dense_14_loss: 0.0633 - dense_15_loss: 0.1337 - dense_16_loss: 0.1469 - dense_9_acc: 0.9872 - dense_10_acc: 0.9750 - dense_11_acc: 0.7976 - dense_12_acc: 0.9980 - dense_13_acc: 0.9953 - dense_14_acc: 0.9958 - dense_15_acc: 0.9914 - dense_16_acc: 0.9907\n",
      "Epoch 42/80\n",
      "105671/105671 [==============================] - 846s 8ms/step - loss: 4.3002 - dense_9_loss: 0.1988 - dense_10_loss: 0.4028 - dense_11_loss: 3.2536 - dense_12_loss: 0.0312 - dense_13_loss: 0.0750 - dense_14_loss: 0.0609 - dense_15_loss: 0.1328 - dense_16_loss: 0.1451 - dense_9_acc: 0.9876 - dense_10_acc: 0.9749 - dense_11_acc: 0.7978 - dense_12_acc: 0.9981 - dense_13_acc: 0.9952 - dense_14_acc: 0.9960 - dense_15_acc: 0.9914 - dense_16_acc: 0.9908\n",
      "Epoch 43/80\n",
      "105671/105671 [==============================] - 844s 8ms/step - loss: 4.2833 - dense_9_loss: 0.1986 - dense_10_loss: 0.3993 - dense_11_loss: 3.2507 - dense_12_loss: 0.0311 - dense_13_loss: 0.0702 - dense_14_loss: 0.0623 - dense_15_loss: 0.1351 - dense_16_loss: 0.1360 - dense_9_acc: 0.9876 - dense_10_acc: 0.9752 - dense_11_acc: 0.7981 - dense_12_acc: 0.9981 - dense_13_acc: 0.9955 - dense_14_acc: 0.9960 - dense_15_acc: 0.9913 - dense_16_acc: 0.9914\n",
      "Epoch 44/80\n",
      "105671/105671 [==============================] - 848s 8ms/step - loss: 4.2867 - dense_9_loss: 0.1996 - dense_10_loss: 0.3980 - dense_11_loss: 3.2531 - dense_12_loss: 0.0334 - dense_13_loss: 0.0721 - dense_14_loss: 0.0614 - dense_15_loss: 0.1321 - dense_16_loss: 0.1369 - dense_9_acc: 0.9875 - dense_10_acc: 0.9752 - dense_11_acc: 0.7979 - dense_12_acc: 0.9979 - dense_13_acc: 0.9954 - dense_14_acc: 0.9960 - dense_15_acc: 0.9915 - dense_16_acc: 0.9913\n",
      "Epoch 45/80\n",
      "105671/105671 [==============================] - 847s 8ms/step - loss: 4.2833 - dense_9_loss: 0.1991 - dense_10_loss: 0.3969 - dense_11_loss: 3.2536 - dense_12_loss: 0.0318 - dense_13_loss: 0.0730 - dense_14_loss: 0.0619 - dense_15_loss: 0.1321 - dense_16_loss: 0.1349 - dense_9_acc: 0.9876 - dense_10_acc: 0.9753 - dense_11_acc: 0.7978 - dense_12_acc: 0.9980 - dense_13_acc: 0.9953 - dense_14_acc: 0.9959 - dense_15_acc: 0.9915 - dense_16_acc: 0.9915\n",
      "Epoch 46/80\n",
      "105671/105671 [==============================] - 847s 8ms/step - loss: 4.2714 - dense_9_loss: 0.1973 - dense_10_loss: 0.3985 - dense_11_loss: 3.2489 - dense_12_loss: 0.0319 - dense_13_loss: 0.0700 - dense_14_loss: 0.0583 - dense_15_loss: 0.1327 - dense_16_loss: 0.1337 - dense_9_acc: 0.9877 - dense_10_acc: 0.9752 - dense_11_acc: 0.7982 - dense_12_acc: 0.9980 - dense_13_acc: 0.9956 - dense_14_acc: 0.9962 - dense_15_acc: 0.9915 - dense_16_acc: 0.9916\n",
      "Epoch 47/80\n",
      "105671/105671 [==============================] - 847s 8ms/step - loss: 4.2761 - dense_9_loss: 0.1996 - dense_10_loss: 0.3968 - dense_11_loss: 3.2487 - dense_12_loss: 0.0331 - dense_13_loss: 0.0692 - dense_14_loss: 0.0605 - dense_15_loss: 0.1327 - dense_16_loss: 0.1354 - dense_9_acc: 0.9875 - dense_10_acc: 0.9753 - dense_11_acc: 0.7981 - dense_12_acc: 0.9979 - dense_13_acc: 0.9957 - dense_14_acc: 0.9960 - dense_15_acc: 0.9915 - dense_16_acc: 0.9914\n",
      "Epoch 48/80\n",
      "105671/105671 [==============================] - 846s 8ms/step - loss: 4.2742 - dense_9_loss: 0.1990 - dense_10_loss: 0.3970 - dense_11_loss: 3.2519 - dense_12_loss: 0.0326 - dense_13_loss: 0.0690 - dense_14_loss: 0.0573 - dense_15_loss: 0.1321 - dense_16_loss: 0.1353 - dense_9_acc: 0.9875 - dense_10_acc: 0.9753 - dense_11_acc: 0.7980 - dense_12_acc: 0.9980 - dense_13_acc: 0.9956 - dense_14_acc: 0.9962 - dense_15_acc: 0.9915 - dense_16_acc: 0.9914\n",
      "Epoch 49/80\n",
      "105671/105671 [==============================] - 845s 8ms/step - loss: 4.2655 - dense_9_loss: 0.1994 - dense_10_loss: 0.3973 - dense_11_loss: 3.2495 - dense_12_loss: 0.0312 - dense_13_loss: 0.0693 - dense_14_loss: 0.0571 - dense_15_loss: 0.1293 - dense_16_loss: 0.1324 - dense_9_acc: 0.9875 - dense_10_acc: 0.9753 - dense_11_acc: 0.7982 - dense_12_acc: 0.9981 - dense_13_acc: 0.9956 - dense_14_acc: 0.9963 - dense_15_acc: 0.9916 - dense_16_acc: 0.9917\n",
      "Epoch 50/80\n",
      "105671/105671 [==============================] - 848s 8ms/step - loss: 4.2686 - dense_9_loss: 0.1993 - dense_10_loss: 0.3973 - dense_11_loss: 3.2484 - dense_12_loss: 0.0311 - dense_13_loss: 0.0694 - dense_14_loss: 0.0565 - dense_15_loss: 0.1323 - dense_16_loss: 0.1342 - dense_9_acc: 0.9875 - dense_10_acc: 0.9753 - dense_11_acc: 0.7983 - dense_12_acc: 0.9981 - dense_13_acc: 0.9956 - dense_14_acc: 0.9963 - dense_15_acc: 0.9914 - dense_16_acc: 0.9914\n",
      "Epoch 51/80\n",
      "105671/105671 [==============================] - 845s 8ms/step - loss: 4.2709 - dense_9_loss: 0.1984 - dense_10_loss: 0.3973 - dense_11_loss: 3.2557 - dense_12_loss: 0.0316 - dense_13_loss: 0.0688 - dense_14_loss: 0.0582 - dense_15_loss: 0.1291 - dense_16_loss: 0.1317 - dense_9_acc: 0.9876 - dense_10_acc: 0.9753 - dense_11_acc: 0.7978 - dense_12_acc: 0.9980 - dense_13_acc: 0.9956 - dense_14_acc: 0.9961 - dense_15_acc: 0.9918 - dense_16_acc: 0.9917\n",
      "Epoch 52/80\n",
      "105671/105671 [==============================] - 849s 8ms/step - loss: 4.2550 - dense_9_loss: 0.1979 - dense_10_loss: 0.3970 - dense_11_loss: 3.2456 - dense_12_loss: 0.0310 - dense_13_loss: 0.0704 - dense_14_loss: 0.0553 - dense_15_loss: 0.1253 - dense_16_loss: 0.1325 - dense_9_acc: 0.9877 - dense_10_acc: 0.9753 - dense_11_acc: 0.7985 - dense_12_acc: 0.9981 - dense_13_acc: 0.9955 - dense_14_acc: 0.9964 - dense_15_acc: 0.9920 - dense_16_acc: 0.9916\n",
      "Epoch 53/80\n",
      "105671/105671 [==============================] - 849s 8ms/step - loss: 4.2577 - dense_9_loss: 0.1985 - dense_10_loss: 0.3963 - dense_11_loss: 3.2475 - dense_12_loss: 0.0312 - dense_13_loss: 0.0707 - dense_14_loss: 0.0559 - dense_15_loss: 0.1266 - dense_16_loss: 0.1310 - dense_9_acc: 0.9876 - dense_10_acc: 0.9754 - dense_11_acc: 0.7984 - dense_12_acc: 0.9981 - dense_13_acc: 0.9955 - dense_14_acc: 0.9964 - dense_15_acc: 0.9919 - dense_16_acc: 0.9917\n",
      "Epoch 54/80\n",
      "105671/105671 [==============================] - 848s 8ms/step - loss: 4.2592 - dense_9_loss: 0.1972 - dense_10_loss: 0.3966 - dense_11_loss: 3.2511 - dense_12_loss: 0.0313 - dense_13_loss: 0.0698 - dense_14_loss: 0.0554 - dense_15_loss: 0.1270 - dense_16_loss: 0.1309 - dense_9_acc: 0.9877 - dense_10_acc: 0.9754 - dense_11_acc: 0.7981 - dense_12_acc: 0.9981 - dense_13_acc: 0.9955 - dense_14_acc: 0.9964 - dense_15_acc: 0.9919 - dense_16_acc: 0.9918\n",
      "Epoch 55/80\n",
      "105671/105671 [==============================] - 848s 8ms/step - loss: 4.2543 - dense_9_loss: 0.1993 - dense_10_loss: 0.3972 - dense_11_loss: 3.2463 - dense_12_loss: 0.0312 - dense_13_loss: 0.0681 - dense_14_loss: 0.0558 - dense_15_loss: 0.1267 - dense_16_loss: 0.1296 - dense_9_acc: 0.9876 - dense_10_acc: 0.9753 - dense_11_acc: 0.7984 - dense_12_acc: 0.9981 - dense_13_acc: 0.9957 - dense_14_acc: 0.9963 - dense_15_acc: 0.9919 - dense_16_acc: 0.9919\n",
      "Epoch 56/80\n",
      "105671/105671 [==============================] - 846s 8ms/step - loss: 4.2508 - dense_9_loss: 0.1971 - dense_10_loss: 0.3964 - dense_11_loss: 3.2467 - dense_12_loss: 0.0320 - dense_13_loss: 0.0696 - dense_14_loss: 0.0556 - dense_15_loss: 0.1246 - dense_16_loss: 0.1289 - dense_9_acc: 0.9877 - dense_10_acc: 0.9753 - dense_11_acc: 0.7984 - dense_12_acc: 0.9980 - dense_13_acc: 0.9956 - dense_14_acc: 0.9964 - dense_15_acc: 0.9921 - dense_16_acc: 0.9919\n",
      "Epoch 57/80\n",
      "105671/105671 [==============================] - 847s 8ms/step - loss: 4.1990 - dense_9_loss: 0.1970 - dense_10_loss: 0.3917 - dense_11_loss: 3.2035 - dense_12_loss: 0.0322 - dense_13_loss: 0.0676 - dense_14_loss: 0.0533 - dense_15_loss: 0.1234 - dense_16_loss: 0.1303 - dense_9_acc: 0.9878 - dense_10_acc: 0.9756 - dense_11_acc: 0.8009 - dense_12_acc: 0.9980 - dense_13_acc: 0.9957 - dense_14_acc: 0.9966 - dense_15_acc: 0.9922 - dense_16_acc: 0.9918\n",
      "Epoch 58/80\n",
      "105671/105671 [==============================] - 845s 8ms/step - loss: 3.1531 - dense_9_loss: 0.1975 - dense_10_loss: 0.3784 - dense_11_loss: 2.1694 - dense_12_loss: 0.0323 - dense_13_loss: 0.0681 - dense_14_loss: 0.0539 - dense_15_loss: 0.1240 - dense_16_loss: 0.1295 - dense_9_acc: 0.9877 - dense_10_acc: 0.9764 - dense_11_acc: 0.8648 - dense_12_acc: 0.9980 - dense_13_acc: 0.9957 - dense_14_acc: 0.9965 - dense_15_acc: 0.9921 - dense_16_acc: 0.9919\n",
      "Epoch 59/80\n",
      "105671/105671 [==============================] - 846s 8ms/step - loss: 3.1161 - dense_9_loss: 0.1979 - dense_10_loss: 0.3738 - dense_11_loss: 2.1373 - dense_12_loss: 0.0317 - dense_13_loss: 0.0682 - dense_14_loss: 0.0532 - dense_15_loss: 0.1254 - dense_16_loss: 0.1286 - dense_9_acc: 0.9876 - dense_10_acc: 0.9767 - dense_11_acc: 0.8672 - dense_12_acc: 0.9980 - dense_13_acc: 0.9956 - dense_14_acc: 0.9966 - dense_15_acc: 0.9920 - dense_16_acc: 0.9919\n",
      "Epoch 60/80\n",
      "105671/105671 [==============================] - 845s 8ms/step - loss: 3.1122 - dense_9_loss: 0.1969 - dense_10_loss: 0.3733 - dense_11_loss: 2.1353 - dense_12_loss: 0.0325 - dense_13_loss: 0.0665 - dense_14_loss: 0.0518 - dense_15_loss: 0.1258 - dense_16_loss: 0.1301 - dense_9_acc: 0.9877 - dense_10_acc: 0.9768 - dense_11_acc: 0.8673 - dense_12_acc: 0.9980 - dense_13_acc: 0.9958 - dense_14_acc: 0.9967 - dense_15_acc: 0.9919 - dense_16_acc: 0.9917\n",
      "Epoch 61/80\n",
      "105671/105671 [==============================] - 847s 8ms/step - loss: 3.1034 - dense_9_loss: 0.1970 - dense_10_loss: 0.3706 - dense_11_loss: 2.1346 - dense_12_loss: 0.0312 - dense_13_loss: 0.0633 - dense_14_loss: 0.0514 - dense_15_loss: 0.1254 - dense_16_loss: 0.1298 - dense_9_acc: 0.9877 - dense_10_acc: 0.9769 - dense_11_acc: 0.8674 - dense_12_acc: 0.9981 - dense_13_acc: 0.9960 - dense_14_acc: 0.9967 - dense_15_acc: 0.9920 - dense_16_acc: 0.9918\n",
      "Epoch 62/80\n",
      "105671/105671 [==============================] - 845s 8ms/step - loss: 3.0989 - dense_9_loss: 0.1967 - dense_10_loss: 0.3703 - dense_11_loss: 2.1303 - dense_12_loss: 0.0311 - dense_13_loss: 0.0632 - dense_14_loss: 0.0526 - dense_15_loss: 0.1242 - dense_16_loss: 0.1306 - dense_9_acc: 0.9878 - dense_10_acc: 0.9770 - dense_11_acc: 0.8677 - dense_12_acc: 0.9981 - dense_13_acc: 0.9960 - dense_14_acc: 0.9966 - dense_15_acc: 0.9921 - dense_16_acc: 0.9918\n",
      "Epoch 63/80\n",
      "105671/105671 [==============================] - 847s 8ms/step - loss: 3.1021 - dense_9_loss: 0.1980 - dense_10_loss: 0.3707 - dense_11_loss: 2.1311 - dense_12_loss: 0.0334 - dense_13_loss: 0.0659 - dense_14_loss: 0.0511 - dense_15_loss: 0.1218 - dense_16_loss: 0.1302 - dense_9_acc: 0.9876 - dense_10_acc: 0.9769 - dense_11_acc: 0.8676 - dense_12_acc: 0.9979 - dense_13_acc: 0.9958 - dense_14_acc: 0.9967 - dense_15_acc: 0.9923 - dense_16_acc: 0.9918\n",
      "Epoch 64/80\n",
      "105671/105671 [==============================] - 847s 8ms/step - loss: 3.0924 - dense_9_loss: 0.1964 - dense_10_loss: 0.3702 - dense_11_loss: 2.1289 - dense_12_loss: 0.0310 - dense_13_loss: 0.0639 - dense_14_loss: 0.0513 - dense_15_loss: 0.1221 - dense_16_loss: 0.1286 - dense_9_acc: 0.9878 - dense_10_acc: 0.9769 - dense_11_acc: 0.8677 - dense_12_acc: 0.9981 - dense_13_acc: 0.9960 - dense_14_acc: 0.9967 - dense_15_acc: 0.9922 - dense_16_acc: 0.9919\n",
      "Epoch 65/80\n",
      "105671/105671 [==============================] - 845s 8ms/step - loss: 3.0879 - dense_9_loss: 0.1960 - dense_10_loss: 0.3698 - dense_11_loss: 2.1273 - dense_12_loss: 0.0317 - dense_13_loss: 0.0629 - dense_14_loss: 0.0505 - dense_15_loss: 0.1223 - dense_16_loss: 0.1274 - dense_9_acc: 0.9878 - dense_10_acc: 0.9770 - dense_11_acc: 0.8679 - dense_12_acc: 0.9980 - dense_13_acc: 0.9960 - dense_14_acc: 0.9968 - dense_15_acc: 0.9922 - dense_16_acc: 0.9920\n",
      "Epoch 66/80\n",
      "105671/105671 [==============================] - 848s 8ms/step - loss: 3.0911 - dense_9_loss: 0.1965 - dense_10_loss: 0.3702 - dense_11_loss: 2.1279 - dense_12_loss: 0.0328 - dense_13_loss: 0.0628 - dense_14_loss: 0.0517 - dense_15_loss: 0.1213 - dense_16_loss: 0.1279 - dense_9_acc: 0.9877 - dense_10_acc: 0.9769 - dense_11_acc: 0.8678 - dense_12_acc: 0.9980 - dense_13_acc: 0.9961 - dense_14_acc: 0.9967 - dense_15_acc: 0.9923 - dense_16_acc: 0.9919\n",
      "Epoch 67/80\n",
      "105671/105671 [==============================] - 848s 8ms/step - loss: 3.0948 - dense_9_loss: 0.1968 - dense_10_loss: 0.3696 - dense_11_loss: 2.1279 - dense_12_loss: 0.0320 - dense_13_loss: 0.0644 - dense_14_loss: 0.0522 - dense_15_loss: 0.1240 - dense_16_loss: 0.1279 - dense_9_acc: 0.9877 - dense_10_acc: 0.9770 - dense_11_acc: 0.8678 - dense_12_acc: 0.9980 - dense_13_acc: 0.9959 - dense_14_acc: 0.9966 - dense_15_acc: 0.9921 - dense_16_acc: 0.9920\n",
      "Epoch 68/80\n",
      "105671/105671 [==============================] - 848s 8ms/step - loss: 3.0906 - dense_9_loss: 0.1968 - dense_10_loss: 0.3696 - dense_11_loss: 2.1287 - dense_12_loss: 0.0313 - dense_13_loss: 0.0636 - dense_14_loss: 0.0493 - dense_15_loss: 0.1242 - dense_16_loss: 0.1273 - dense_9_acc: 0.9877 - dense_10_acc: 0.9770 - dense_11_acc: 0.8678 - dense_12_acc: 0.9981 - dense_13_acc: 0.9960 - dense_14_acc: 0.9968 - dense_15_acc: 0.9921 - dense_16_acc: 0.9920\n",
      "Epoch 69/80\n",
      "105671/105671 [==============================] - 848s 8ms/step - loss: 3.0952 - dense_9_loss: 0.1959 - dense_10_loss: 0.3693 - dense_11_loss: 2.1264 - dense_12_loss: 0.0404 - dense_13_loss: 0.0634 - dense_14_loss: 0.0515 - dense_15_loss: 0.1198 - dense_16_loss: 0.1285 - dense_9_acc: 0.9878 - dense_10_acc: 0.9771 - dense_11_acc: 0.8679 - dense_12_acc: 0.9975 - dense_13_acc: 0.9960 - dense_14_acc: 0.9966 - dense_15_acc: 0.9924 - dense_16_acc: 0.9919\n",
      "Epoch 70/80\n",
      "105671/105671 [==============================] - 848s 8ms/step - loss: 3.0801 - dense_9_loss: 0.1962 - dense_10_loss: 0.3683 - dense_11_loss: 2.1225 - dense_12_loss: 0.0320 - dense_13_loss: 0.0641 - dense_14_loss: 0.0494 - dense_15_loss: 0.1196 - dense_16_loss: 0.1279 - dense_9_acc: 0.9878 - dense_10_acc: 0.9771 - dense_11_acc: 0.8682 - dense_12_acc: 0.9980 - dense_13_acc: 0.9959 - dense_14_acc: 0.9968 - dense_15_acc: 0.9925 - dense_16_acc: 0.9920\n",
      "Epoch 71/80\n",
      "105671/105671 [==============================] - 847s 8ms/step - loss: 3.0860 - dense_9_loss: 0.1966 - dense_10_loss: 0.3691 - dense_11_loss: 2.1258 - dense_12_loss: 0.0338 - dense_13_loss: 0.0641 - dense_14_loss: 0.0504 - dense_15_loss: 0.1203 - dense_16_loss: 0.1260 - dense_9_acc: 0.9877 - dense_10_acc: 0.9771 - dense_11_acc: 0.8680 - dense_12_acc: 0.9979 - dense_13_acc: 0.9960 - dense_14_acc: 0.9967 - dense_15_acc: 0.9924 - dense_16_acc: 0.9921\n",
      "Epoch 72/80\n",
      "105671/105671 [==============================] - 847s 8ms/step - loss: 3.0856 - dense_9_loss: 0.1959 - dense_10_loss: 0.3701 - dense_11_loss: 2.1257 - dense_12_loss: 0.0327 - dense_13_loss: 0.0655 - dense_14_loss: 0.0494 - dense_15_loss: 0.1192 - dense_16_loss: 0.1272 - dense_9_acc: 0.9878 - dense_10_acc: 0.9770 - dense_11_acc: 0.8680 - dense_12_acc: 0.9980 - dense_13_acc: 0.9958 - dense_14_acc: 0.9969 - dense_15_acc: 0.9924 - dense_16_acc: 0.9921\n",
      "Epoch 73/80\n",
      "105671/105671 [==============================] - 844s 8ms/step - loss: 3.0800 - dense_9_loss: 0.1954 - dense_10_loss: 0.3687 - dense_11_loss: 2.1242 - dense_12_loss: 0.0316 - dense_13_loss: 0.0617 - dense_14_loss: 0.0511 - dense_15_loss: 0.1208 - dense_16_loss: 0.1265 - dense_9_acc: 0.9878 - dense_10_acc: 0.9770 - dense_11_acc: 0.8680 - dense_12_acc: 0.9980 - dense_13_acc: 0.9961 - dense_14_acc: 0.9967 - dense_15_acc: 0.9924 - dense_16_acc: 0.9919\n",
      "Epoch 74/80\n",
      "105671/105671 [==============================] - 847s 8ms/step - loss: 3.0733 - dense_9_loss: 0.1948 - dense_10_loss: 0.3682 - dense_11_loss: 2.1232 - dense_12_loss: 0.0320 - dense_13_loss: 0.0599 - dense_14_loss: 0.0503 - dense_15_loss: 0.1199 - dense_16_loss: 0.1250 - dense_9_acc: 0.9878 - dense_10_acc: 0.9771 - dense_11_acc: 0.8682 - dense_12_acc: 0.9980 - dense_13_acc: 0.9962 - dense_14_acc: 0.9968 - dense_15_acc: 0.9924 - dense_16_acc: 0.9922\n",
      "Epoch 75/80\n",
      "105671/105671 [==============================] - 847s 8ms/step - loss: 2.9803 - dense_9_loss: 0.1914 - dense_10_loss: 0.3673 - dense_11_loss: 2.0336 - dense_12_loss: 0.0316 - dense_13_loss: 0.0590 - dense_14_loss: 0.0501 - dense_15_loss: 0.1220 - dense_16_loss: 0.1253 - dense_9_acc: 0.9880 - dense_10_acc: 0.9772 - dense_11_acc: 0.8735 - dense_12_acc: 0.9980 - dense_13_acc: 0.9963 - dense_14_acc: 0.9967 - dense_15_acc: 0.9922 - dense_16_acc: 0.9921\n",
      "Epoch 76/80\n",
      "105671/105671 [==============================] - 845s 8ms/step - loss: 2.8971 - dense_9_loss: 0.1843 - dense_10_loss: 0.3674 - dense_11_loss: 1.9570 - dense_12_loss: 0.0326 - dense_13_loss: 0.0590 - dense_14_loss: 0.0500 - dense_15_loss: 0.1202 - dense_16_loss: 0.1266 - dense_9_acc: 0.9885 - dense_10_acc: 0.9772 - dense_11_acc: 0.8784 - dense_12_acc: 0.9980 - dense_13_acc: 0.9962 - dense_14_acc: 0.9968 - dense_15_acc: 0.9924 - dense_16_acc: 0.9920\n",
      "Epoch 77/80\n",
      "105671/105671 [==============================] - 844s 8ms/step - loss: 2.8931 - dense_9_loss: 0.1845 - dense_10_loss: 0.3679 - dense_11_loss: 1.9555 - dense_12_loss: 0.0329 - dense_13_loss: 0.0579 - dense_14_loss: 0.0503 - dense_15_loss: 0.1190 - dense_16_loss: 0.1251 - dense_9_acc: 0.9885 - dense_10_acc: 0.9771 - dense_11_acc: 0.8786 - dense_12_acc: 0.9979 - dense_13_acc: 0.9963 - dense_14_acc: 0.9967 - dense_15_acc: 0.9924 - dense_16_acc: 0.9922\n",
      "Epoch 78/80\n",
      "105671/105671 [==============================] - 847s 8ms/step - loss: 2.8801 - dense_9_loss: 0.1851 - dense_10_loss: 0.3587 - dense_11_loss: 1.9514 - dense_12_loss: 0.0323 - dense_13_loss: 0.0577 - dense_14_loss: 0.0497 - dense_15_loss: 0.1196 - dense_16_loss: 0.1256 - dense_9_acc: 0.9885 - dense_10_acc: 0.9776 - dense_11_acc: 0.8788 - dense_12_acc: 0.9980 - dense_13_acc: 0.9963 - dense_14_acc: 0.9969 - dense_15_acc: 0.9924 - dense_16_acc: 0.9921\n",
      "Epoch 79/80\n",
      "105671/105671 [==============================] - 848s 8ms/step - loss: 2.8640 - dense_9_loss: 0.1851 - dense_10_loss: 0.3478 - dense_11_loss: 1.9497 - dense_12_loss: 0.0325 - dense_13_loss: 0.0567 - dense_14_loss: 0.0492 - dense_15_loss: 0.1171 - dense_16_loss: 0.1258 - dense_9_acc: 0.9885 - dense_10_acc: 0.9783 - dense_11_acc: 0.8789 - dense_12_acc: 0.9980 - dense_13_acc: 0.9964 - dense_14_acc: 0.9968 - dense_15_acc: 0.9926 - dense_16_acc: 0.9921\n",
      "Epoch 80/80\n",
      "105671/105671 [==============================] - 845s 8ms/step - loss: 2.8570 - dense_9_loss: 0.1845 - dense_10_loss: 0.3415 - dense_11_loss: 1.9488 - dense_12_loss: 0.0316 - dense_13_loss: 0.0570 - dense_14_loss: 0.0484 - dense_15_loss: 0.1205 - dense_16_loss: 0.1246 - dense_9_acc: 0.9885 - dense_10_acc: 0.9788 - dense_11_acc: 0.8790 - dense_12_acc: 0.9980 - dense_13_acc: 0.9964 - dense_14_acc: 0.9969 - dense_15_acc: 0.9924 - dense_16_acc: 0.9922\n",
      "Time:  67760.92765539396\n"
     ]
    }
   ],
   "source": [
    "n_epoch = 80\n",
    "start = timeit.default_timer()\n",
    "model.fit(trainX,[trainY[:,0,:],trainY[:,1,:],trainY[:,2,:],trainY[:,3,:],trainY[:,4,:],trainY[:,5,:],trainY[:,6,:],trainY[:,7,:]], epochs=n_epoch,batch_size=20, shuffle=False,verbose=1)\n",
    "stop = timeit.default_timer()\n",
    "\n",
    "print('Time: ', stop - start)  \n"
   ]
  },
  {
   "cell_type": "code",
   "execution_count": null,
   "metadata": {},
   "outputs": [],
   "source": []
  },
  {
   "cell_type": "code",
   "execution_count": 47,
   "metadata": {},
   "outputs": [
    {
     "name": "stdout",
     "output_type": "stream",
     "text": [
      "Time:  67760.92765539396\n"
     ]
    }
   ],
   "source": [
    "print('Time: ', stop - start)"
   ]
  },
  {
   "cell_type": "code",
   "execution_count": 57,
   "metadata": {},
   "outputs": [],
   "source": [
    "from keras.models import load_model"
   ]
  },
  {
   "cell_type": "code",
   "execution_count": 51,
   "metadata": {},
   "outputs": [],
   "source": [
    "import os\n",
    "save_dir = os.path.join(os.getcwd(), 'saved_models')\n",
    "model_name = 'LP_cz_paper.h5'"
   ]
  },
  {
   "cell_type": "code",
   "execution_count": 52,
   "metadata": {},
   "outputs": [
    {
     "name": "stdout",
     "output_type": "stream",
     "text": [
      "Saved trained model at /home/tang/targa/exp5/saved_models/LP_cz_paper.h5 \n"
     ]
    }
   ],
   "source": [
    "# Save model and weights\n",
    "if not os.path.isdir(save_dir):\n",
    "    os.makedirs(save_dir)\n",
    "model_path = os.path.join(save_dir, model_name)\n",
    "model.save(model_path)\n",
    "print('Saved trained model at %s ' % model_path)"
   ]
  },
  {
   "cell_type": "code",
   "execution_count": null,
   "metadata": {},
   "outputs": [],
   "source": [
    "# Score trained model.\n",
    "scores = model.evaluate(x_test, y_test, verbose=1)\n",
    "print('Test loss:', scores[0])\n",
    "print('Test accuracy:', scores[1])"
   ]
  },
  {
   "cell_type": "code",
   "execution_count": null,
   "metadata": {},
   "outputs": [],
   "source": []
  },
  {
   "cell_type": "code",
   "execution_count": null,
   "metadata": {},
   "outputs": [],
   "source": []
  },
  {
   "cell_type": "code",
   "execution_count": null,
   "metadata": {},
   "outputs": [],
   "source": []
  },
  {
   "cell_type": "code",
   "execution_count": null,
   "metadata": {},
   "outputs": [],
   "source": []
  },
  {
   "cell_type": "code",
   "execution_count": null,
   "metadata": {},
   "outputs": [],
   "source": []
  },
  {
   "cell_type": "code",
   "execution_count": null,
   "metadata": {},
   "outputs": [],
   "source": []
  },
  {
   "cell_type": "code",
   "execution_count": null,
   "metadata": {},
   "outputs": [],
   "source": []
  },
  {
   "cell_type": "code",
   "execution_count": null,
   "metadata": {},
   "outputs": [],
   "source": []
  },
  {
   "cell_type": "code",
   "execution_count": null,
   "metadata": {},
   "outputs": [],
   "source": []
  },
  {
   "cell_type": "code",
   "execution_count": null,
   "metadata": {},
   "outputs": [],
   "source": []
  },
  {
   "cell_type": "code",
   "execution_count": null,
   "metadata": {},
   "outputs": [],
   "source": []
  },
  {
   "cell_type": "code",
   "execution_count": null,
   "metadata": {},
   "outputs": [],
   "source": []
  },
  {
   "cell_type": "code",
   "execution_count": null,
   "metadata": {},
   "outputs": [],
   "source": []
  },
  {
   "cell_type": "code",
   "execution_count": 50,
   "metadata": {},
   "outputs": [
    {
     "ename": "KeyboardInterrupt",
     "evalue": "",
     "output_type": "error",
     "traceback": [
      "\u001b[0;31m---------------------------------------------------------------------------\u001b[0m",
      "\u001b[0;31mKeyboardInterrupt\u001b[0m                         Traceback (most recent call last)",
      "\u001b[0;32m<ipython-input-50-3436b67eeb1d>\u001b[0m in \u001b[0;36m<module>\u001b[0;34m\u001b[0m\n\u001b[0;32m----> 1\u001b[0;31m \u001b[0mscores\u001b[0m \u001b[0;34m=\u001b[0m \u001b[0mmodel\u001b[0m\u001b[0;34m.\u001b[0m\u001b[0mevaluate\u001b[0m\u001b[0;34m(\u001b[0m\u001b[0mtrainX\u001b[0m\u001b[0;34m,\u001b[0m \u001b[0;34m[\u001b[0m\u001b[0mtrainY\u001b[0m\u001b[0;34m[\u001b[0m\u001b[0;34m:\u001b[0m\u001b[0;34m,\u001b[0m\u001b[0;36m0\u001b[0m\u001b[0;34m,\u001b[0m\u001b[0;34m:\u001b[0m\u001b[0;34m]\u001b[0m\u001b[0;34m,\u001b[0m\u001b[0mtrainY\u001b[0m\u001b[0;34m[\u001b[0m\u001b[0;34m:\u001b[0m\u001b[0;34m,\u001b[0m\u001b[0;36m1\u001b[0m\u001b[0;34m,\u001b[0m\u001b[0;34m:\u001b[0m\u001b[0;34m]\u001b[0m\u001b[0;34m,\u001b[0m\u001b[0mtrainY\u001b[0m\u001b[0;34m[\u001b[0m\u001b[0;34m:\u001b[0m\u001b[0;34m,\u001b[0m\u001b[0;36m2\u001b[0m\u001b[0;34m,\u001b[0m\u001b[0;34m:\u001b[0m\u001b[0;34m]\u001b[0m\u001b[0;34m,\u001b[0m\u001b[0mtrainY\u001b[0m\u001b[0;34m[\u001b[0m\u001b[0;34m:\u001b[0m\u001b[0;34m,\u001b[0m\u001b[0;36m3\u001b[0m\u001b[0;34m,\u001b[0m\u001b[0;34m:\u001b[0m\u001b[0;34m]\u001b[0m\u001b[0;34m,\u001b[0m\u001b[0mtrainY\u001b[0m\u001b[0;34m[\u001b[0m\u001b[0;34m:\u001b[0m\u001b[0;34m,\u001b[0m\u001b[0;36m4\u001b[0m\u001b[0;34m,\u001b[0m\u001b[0;34m:\u001b[0m\u001b[0;34m]\u001b[0m\u001b[0;34m,\u001b[0m\u001b[0mtrainY\u001b[0m\u001b[0;34m[\u001b[0m\u001b[0;34m:\u001b[0m\u001b[0;34m,\u001b[0m\u001b[0;36m5\u001b[0m\u001b[0;34m,\u001b[0m\u001b[0;34m:\u001b[0m\u001b[0;34m]\u001b[0m\u001b[0;34m,\u001b[0m\u001b[0mtrainY\u001b[0m\u001b[0;34m[\u001b[0m\u001b[0;34m:\u001b[0m\u001b[0;34m,\u001b[0m\u001b[0;36m6\u001b[0m\u001b[0;34m,\u001b[0m\u001b[0;34m:\u001b[0m\u001b[0;34m]\u001b[0m\u001b[0;34m,\u001b[0m\u001b[0mtrainY\u001b[0m\u001b[0;34m[\u001b[0m\u001b[0;34m:\u001b[0m\u001b[0;34m,\u001b[0m\u001b[0;36m7\u001b[0m\u001b[0;34m,\u001b[0m\u001b[0;34m:\u001b[0m\u001b[0;34m]\u001b[0m\u001b[0;34m]\u001b[0m\u001b[0;34m,\u001b[0m \u001b[0mverbose\u001b[0m\u001b[0;34m=\u001b[0m\u001b[0;36m0\u001b[0m\u001b[0;34m)\u001b[0m\u001b[0;34m\u001b[0m\u001b[0m\n\u001b[0m",
      "\u001b[0;32m/usr/local/lib/python3.5/dist-packages/keras/engine/training.py\u001b[0m in \u001b[0;36mevaluate\u001b[0;34m(self, x, y, batch_size, verbose, sample_weight, steps)\u001b[0m\n\u001b[1;32m   1111\u001b[0m                                          \u001b[0mbatch_size\u001b[0m\u001b[0;34m=\u001b[0m\u001b[0mbatch_size\u001b[0m\u001b[0;34m,\u001b[0m\u001b[0;34m\u001b[0m\u001b[0m\n\u001b[1;32m   1112\u001b[0m                                          \u001b[0mverbose\u001b[0m\u001b[0;34m=\u001b[0m\u001b[0mverbose\u001b[0m\u001b[0;34m,\u001b[0m\u001b[0;34m\u001b[0m\u001b[0m\n\u001b[0;32m-> 1113\u001b[0;31m                                          steps=steps)\n\u001b[0m\u001b[1;32m   1114\u001b[0m \u001b[0;34m\u001b[0m\u001b[0m\n\u001b[1;32m   1115\u001b[0m     def predict(self, x,\n",
      "\u001b[0;32m/usr/local/lib/python3.5/dist-packages/keras/engine/training_arrays.py\u001b[0m in \u001b[0;36mtest_loop\u001b[0;34m(model, f, ins, batch_size, verbose, steps)\u001b[0m\n\u001b[1;32m    390\u001b[0m                 \u001b[0mins_batch\u001b[0m\u001b[0;34m[\u001b[0m\u001b[0mi\u001b[0m\u001b[0;34m]\u001b[0m \u001b[0;34m=\u001b[0m \u001b[0mins_batch\u001b[0m\u001b[0;34m[\u001b[0m\u001b[0mi\u001b[0m\u001b[0;34m]\u001b[0m\u001b[0;34m.\u001b[0m\u001b[0mtoarray\u001b[0m\u001b[0;34m(\u001b[0m\u001b[0;34m)\u001b[0m\u001b[0;34m\u001b[0m\u001b[0m\n\u001b[1;32m    391\u001b[0m \u001b[0;34m\u001b[0m\u001b[0m\n\u001b[0;32m--> 392\u001b[0;31m             \u001b[0mbatch_outs\u001b[0m \u001b[0;34m=\u001b[0m \u001b[0mf\u001b[0m\u001b[0;34m(\u001b[0m\u001b[0mins_batch\u001b[0m\u001b[0;34m)\u001b[0m\u001b[0;34m\u001b[0m\u001b[0m\n\u001b[0m\u001b[1;32m    393\u001b[0m             \u001b[0;32mif\u001b[0m \u001b[0misinstance\u001b[0m\u001b[0;34m(\u001b[0m\u001b[0mbatch_outs\u001b[0m\u001b[0;34m,\u001b[0m \u001b[0mlist\u001b[0m\u001b[0;34m)\u001b[0m\u001b[0;34m:\u001b[0m\u001b[0;34m\u001b[0m\u001b[0m\n\u001b[1;32m    394\u001b[0m                 \u001b[0;32mif\u001b[0m \u001b[0mbatch_index\u001b[0m \u001b[0;34m==\u001b[0m \u001b[0;36m0\u001b[0m\u001b[0;34m:\u001b[0m\u001b[0;34m\u001b[0m\u001b[0m\n",
      "\u001b[0;32m/usr/local/lib/python3.5/dist-packages/keras/backend/tensorflow_backend.py\u001b[0m in \u001b[0;36m__call__\u001b[0;34m(self, inputs)\u001b[0m\n\u001b[1;32m   2713\u001b[0m                 \u001b[0;32mreturn\u001b[0m \u001b[0mself\u001b[0m\u001b[0;34m.\u001b[0m\u001b[0m_legacy_call\u001b[0m\u001b[0;34m(\u001b[0m\u001b[0minputs\u001b[0m\u001b[0;34m)\u001b[0m\u001b[0;34m\u001b[0m\u001b[0m\n\u001b[1;32m   2714\u001b[0m \u001b[0;34m\u001b[0m\u001b[0m\n\u001b[0;32m-> 2715\u001b[0;31m             \u001b[0;32mreturn\u001b[0m \u001b[0mself\u001b[0m\u001b[0;34m.\u001b[0m\u001b[0m_call\u001b[0m\u001b[0;34m(\u001b[0m\u001b[0minputs\u001b[0m\u001b[0;34m)\u001b[0m\u001b[0;34m\u001b[0m\u001b[0m\n\u001b[0m\u001b[1;32m   2716\u001b[0m         \u001b[0;32melse\u001b[0m\u001b[0;34m:\u001b[0m\u001b[0;34m\u001b[0m\u001b[0m\n\u001b[1;32m   2717\u001b[0m             \u001b[0;32mif\u001b[0m \u001b[0mpy_any\u001b[0m\u001b[0;34m(\u001b[0m\u001b[0mis_tensor\u001b[0m\u001b[0;34m(\u001b[0m\u001b[0mx\u001b[0m\u001b[0;34m)\u001b[0m \u001b[0;32mfor\u001b[0m \u001b[0mx\u001b[0m \u001b[0;32min\u001b[0m \u001b[0minputs\u001b[0m\u001b[0;34m)\u001b[0m\u001b[0;34m:\u001b[0m\u001b[0;34m\u001b[0m\u001b[0m\n",
      "\u001b[0;32m/usr/local/lib/python3.5/dist-packages/keras/backend/tensorflow_backend.py\u001b[0m in \u001b[0;36m_call\u001b[0;34m(self, inputs)\u001b[0m\n\u001b[1;32m   2673\u001b[0m             \u001b[0mfetched\u001b[0m \u001b[0;34m=\u001b[0m \u001b[0mself\u001b[0m\u001b[0;34m.\u001b[0m\u001b[0m_callable_fn\u001b[0m\u001b[0;34m(\u001b[0m\u001b[0;34m*\u001b[0m\u001b[0marray_vals\u001b[0m\u001b[0;34m,\u001b[0m \u001b[0mrun_metadata\u001b[0m\u001b[0;34m=\u001b[0m\u001b[0mself\u001b[0m\u001b[0;34m.\u001b[0m\u001b[0mrun_metadata\u001b[0m\u001b[0;34m)\u001b[0m\u001b[0;34m\u001b[0m\u001b[0m\n\u001b[1;32m   2674\u001b[0m         \u001b[0;32melse\u001b[0m\u001b[0;34m:\u001b[0m\u001b[0;34m\u001b[0m\u001b[0m\n\u001b[0;32m-> 2675\u001b[0;31m             \u001b[0mfetched\u001b[0m \u001b[0;34m=\u001b[0m \u001b[0mself\u001b[0m\u001b[0;34m.\u001b[0m\u001b[0m_callable_fn\u001b[0m\u001b[0;34m(\u001b[0m\u001b[0;34m*\u001b[0m\u001b[0marray_vals\u001b[0m\u001b[0;34m)\u001b[0m\u001b[0;34m\u001b[0m\u001b[0m\n\u001b[0m\u001b[1;32m   2676\u001b[0m         \u001b[0;32mreturn\u001b[0m \u001b[0mfetched\u001b[0m\u001b[0;34m[\u001b[0m\u001b[0;34m:\u001b[0m\u001b[0mlen\u001b[0m\u001b[0;34m(\u001b[0m\u001b[0mself\u001b[0m\u001b[0;34m.\u001b[0m\u001b[0moutputs\u001b[0m\u001b[0;34m)\u001b[0m\u001b[0;34m]\u001b[0m\u001b[0;34m\u001b[0m\u001b[0m\n\u001b[1;32m   2677\u001b[0m \u001b[0;34m\u001b[0m\u001b[0m\n",
      "\u001b[0;32m/usr/local/lib/python3.5/dist-packages/tensorflow/python/client/session.py\u001b[0m in \u001b[0;36m__call__\u001b[0;34m(self, *args, **kwargs)\u001b[0m\n\u001b[1;32m   1437\u001b[0m           ret = tf_session.TF_SessionRunCallable(\n\u001b[1;32m   1438\u001b[0m               \u001b[0mself\u001b[0m\u001b[0;34m.\u001b[0m\u001b[0m_session\u001b[0m\u001b[0;34m.\u001b[0m\u001b[0m_session\u001b[0m\u001b[0;34m,\u001b[0m \u001b[0mself\u001b[0m\u001b[0;34m.\u001b[0m\u001b[0m_handle\u001b[0m\u001b[0;34m,\u001b[0m \u001b[0margs\u001b[0m\u001b[0;34m,\u001b[0m \u001b[0mstatus\u001b[0m\u001b[0;34m,\u001b[0m\u001b[0;34m\u001b[0m\u001b[0m\n\u001b[0;32m-> 1439\u001b[0;31m               run_metadata_ptr)\n\u001b[0m\u001b[1;32m   1440\u001b[0m         \u001b[0;32mif\u001b[0m \u001b[0mrun_metadata\u001b[0m\u001b[0;34m:\u001b[0m\u001b[0;34m\u001b[0m\u001b[0m\n\u001b[1;32m   1441\u001b[0m           \u001b[0mproto_data\u001b[0m \u001b[0;34m=\u001b[0m \u001b[0mtf_session\u001b[0m\u001b[0;34m.\u001b[0m\u001b[0mTF_GetBuffer\u001b[0m\u001b[0;34m(\u001b[0m\u001b[0mrun_metadata_ptr\u001b[0m\u001b[0;34m)\u001b[0m\u001b[0;34m\u001b[0m\u001b[0m\n",
      "\u001b[0;31mKeyboardInterrupt\u001b[0m: "
     ]
    }
   ],
   "source": [
    "scores = model.evaluate(trainX, [trainY[:,0,:],trainY[:,1,:],trainY[:,2,:],trainY[:,3,:],trainY[:,4,:],trainY[:,5,:],trainY[:,6,:],trainY[:,7,:]], verbose=0)"
   ]
  },
  {
   "cell_type": "code",
   "execution_count": null,
   "metadata": {},
   "outputs": [],
   "source": []
  },
  {
   "cell_type": "code",
   "execution_count": null,
   "metadata": {},
   "outputs": [
    {
     "name": "stdout",
     "output_type": "stream",
     "text": [
      "epoch------------------------------------  0\n",
      "part:  0\n"
     ]
    }
   ],
   "source": [
    "batchsize=100\n",
    "for i in range(10):\n",
    "    print('epoch------------------------------------ ', i)\n",
    "    for j in range(len(trainX)//batchsize):\n",
    "        print('part: ', j)\n",
    "        x, y = trainX[j*batchsize: (j+1)*batchsize], [trainY[:,0,:][j*batchsize: (j+1)*batchsize],trainY[:,1,:][j*batchsize: (j+1)*batchsize],trainY[:,2,:][j*batchsize: (j+1)*batchsize],trainY[:,3,:][j*batchsize: (j+1)*batchsize],trainY[:,4,:][j*batchsize: (j+1)*batchsize],trainY[:,5,:][j*batchsize: (j+1)*batchsize],trainY[:,6,:][j*batchsize: (j+1)*batchsize],trainY[:,7,:][j*batchsize: (j+1)*batchsize]]\n",
    "        c = model.train_on_batch(x, y)"
   ]
  },
  {
   "cell_type": "code",
   "execution_count": null,
   "metadata": {},
   "outputs": [],
   "source": []
  },
  {
   "cell_type": "code",
   "execution_count": null,
   "metadata": {},
   "outputs": [],
   "source": []
  },
  {
   "cell_type": "code",
   "execution_count": null,
   "metadata": {},
   "outputs": [],
   "source": [
    "with open('trainVal.csv','r') as csvFile:\n",
    "    reader = csv.reader(csvFile,dialect='myDialect')\n",
    "    for row in reader:\n",
    "#         if row[3]=='1':\n",
    "#             img=skimage.data.imread(row[1])\n",
    "#             img = skimage.transform.resize(img,(40,200,3))\n",
    "            \n",
    "            \n",
    "#             #### face different length of license\n",
    "#             x_trainLabel=str(row[2])\n",
    "#             if len(x_trainLabel)==7:\n",
    "#                 trainImages.append(img)\n",
    "#                 trainLabels.append(x_trainLabel[0:3]+'#'+x_trainLabel[3:])\n",
    "#             if len(x_trainLabel)==6:\n",
    "#                 trainImages.append(img)\n",
    "#                 trainLabels.append(x_trainLabel[0:3]+'..'+x_trainLabel[3:])\n",
    "#             if len(x_trainLabel)==5:\n",
    "#                 trainImages.append(img)\n",
    "#                 trainLabels.append(x_trainLabel[0]+'###'+x_trainLabel[1:])\n",
    "                \n",
    "        if row[3]=='0':\n",
    "            img=skimage.data.imread(row[1])\n",
    "            img = skimage.transform.resize(img,(40,200,3))\n",
    "            \n",
    "            \n",
    "            x_testLabel=str(row[2])\n",
    "            if len(x_testLabel)==7:\n",
    "                testImages.append(img)\n",
    "                testLabels.append(x_testLabel[0:3]+'#'+x_testLabel[3:])\n",
    "            if len(x_testLabel)==6:\n",
    "                testImages.append(img)\n",
    "                testLabels.append(x_testLabel[0:3]+'..'+x_testLabel[3:])\n",
    "            if len(x_trainLabel)==5:\n",
    "                testImages.append(img)\n",
    "                testLabels.append(x_testLabel[0]+'###'+x_testLabel[1:])\n",
    "        \n",
    "        #print(row,row[3])"
   ]
  },
  {
   "cell_type": "code",
   "execution_count": null,
   "metadata": {},
   "outputs": [],
   "source": [
    "list_testLabels=list()\n",
    "for testlabel in testLabels:\n",
    "    test_encoded = [char_to_int[char] for char in testlabel]\n",
    "    for value in test_encoded:\n",
    "        letter = [0 for _ in range(len(alphabet))]\n",
    "        letter[value] = 1\n",
    "        list_testLabels.append(letter)"
   ]
  },
  {
   "cell_type": "code",
   "execution_count": null,
   "metadata": {},
   "outputs": [],
   "source": [
    "testY=testY.reshape(len(testLabels),8,39)\n",
    "testX=testX.reshape(len(testImages),testImages[0].shape[0],\n",
    "                           testImages[0].shape[1],\n",
    "                           testImages[0].shape[2]).astype(\"float32\")/255"
   ]
  }
 ],
 "metadata": {
  "kernelspec": {
   "display_name": "Python 3",
   "language": "python",
   "name": "python3"
  },
  "language_info": {
   "codemirror_mode": {
    "name": "ipython",
    "version": 3
   },
   "file_extension": ".py",
   "mimetype": "text/x-python",
   "name": "python",
   "nbconvert_exporter": "python",
   "pygments_lexer": "ipython3",
   "version": "3.5.2"
  }
 },
 "nbformat": 4,
 "nbformat_minor": 2
}
