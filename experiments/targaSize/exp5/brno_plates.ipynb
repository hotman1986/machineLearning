{
 "cells": [
  {
   "cell_type": "code",
   "execution_count": 1,
   "metadata": {},
   "outputs": [],
   "source": [
    "import csv\n",
    "import skimage\n",
    "from skimage import data\n",
    "from numpy import array\n",
    "import matplotlib.pyplot as plt\n",
    "import numpy as np"
   ]
  },
  {
   "cell_type": "code",
   "execution_count": 2,
   "metadata": {},
   "outputs": [],
   "source": [
    "import timeit"
   ]
  },
  {
   "cell_type": "code",
   "execution_count": 3,
   "metadata": {},
   "outputs": [
    {
     "name": "stderr",
     "output_type": "stream",
     "text": [
      "/usr/local/lib/python3.5/dist-packages/skimage/transform/_warps.py:84: UserWarning: The default mode, 'constant', will be changed to 'reflect' in skimage 0.15.\n",
      "  warn(\"The default mode, 'constant', will be changed to 'reflect' in \"\n"
     ]
    }
   ],
   "source": [
    "csv.register_dialect('myDialect',\n",
    "delimiter = ',',\n",
    "skipinitialspace=True)\n",
    "trainImages=[]\n",
    "trainLabels=[]\n",
    "testImages=[]\n",
    "testLabels=[]\n",
    "with open('trainVal.csv','r') as csvFile:\n",
    "    reader = csv.reader(csvFile,dialect='myDialect')\n",
    "    for row in reader:\n",
    "        if row[3]=='1':\n",
    "            img=skimage.data.imread(row[1])\n",
    "            img = skimage.transform.resize(img,(40,200,3))\n",
    "            \n",
    "            \n",
    "            #### face different length of license\n",
    "            x_trainLabel=str(row[2])\n",
    "            if len(x_trainLabel)==7:\n",
    "                trainImages.append(img)\n",
    "                trainLabels.append(x_trainLabel[0:3]+'#'+x_trainLabel[3:])\n",
    "            if len(x_trainLabel)==6:\n",
    "                trainImages.append(img)\n",
    "                trainLabels.append(x_trainLabel[0:3]+'..'+x_trainLabel[3:])\n",
    "            if len(x_trainLabel)==5:\n",
    "                trainImages.append(img)\n",
    "                trainLabels.append(x_trainLabel[0]+'###'+x_trainLabel[1:])\n",
    "                \n",
    "#         if row[3]=='0':\n",
    "#             img=skimage.data.imread(row[1])\n",
    "#             img = skimage.transform.resize(img,(40,200,3))\n",
    "            \n",
    "            \n",
    "#             x_testLabel=str(row[2])\n",
    "#             if len(x_testLabel)==7:\n",
    "#                 testImages.append(img)\n",
    "#                 testLabels.append(x_testLabel[0:3]+'#'+x_testLabel[3:])\n",
    "#             if len(x_testLabel)==6:\n",
    "#                 testImages.append(img)\n",
    "#                 testLabels.append(x_testLabel[0:3]+'..'+x_testLabel[3:])\n",
    "#             if len(x_trainLabel)==5:\n",
    "#                 testImages.append(img)\n",
    "#                 testLabels.append(x_testLabel[0]+'###'+x_testLabel[1:])\n",
    "        \n",
    "        #print(row,row[3])\n",
    "        "
   ]
  },
  {
   "cell_type": "code",
   "execution_count": 4,
   "metadata": {},
   "outputs": [
    {
     "data": {
      "text/plain": [
       "(105671, 105671)"
      ]
     },
     "execution_count": 4,
     "metadata": {},
     "output_type": "execute_result"
    }
   ],
   "source": [
    "len(trainImages),len(trainLabels)"
   ]
  },
  {
   "cell_type": "code",
   "execution_count": 5,
   "metadata": {},
   "outputs": [
    {
     "name": "stderr",
     "output_type": "stream",
     "text": [
      "/usr/local/lib/python3.5/dist-packages/skimage/io/_plugins/matplotlib_plugin.py:51: FutureWarning: Conversion of the second argument of issubdtype from `float` to `np.floating` is deprecated. In future, it will be treated as `np.float64 == np.dtype(float).type`.\n",
      "  out_of_range_float = (np.issubdtype(image.dtype, np.float) and\n",
      "/usr/local/lib/python3.5/dist-packages/matplotlib/axes/_base.py:1400: MatplotlibDeprecationWarning: The 'box-forced' keyword argument is deprecated since 2.2.\n",
      "  \" since 2.2.\", cbook.mplDeprecation)\n"
     ]
    },
    {
     "data": {
      "text/plain": [
       "<matplotlib.image.AxesImage at 0x7efd3bca5ba8>"
      ]
     },
     "execution_count": 5,
     "metadata": {},
     "output_type": "execute_result"
    },
    {
     "data": {
      "image/png": "[encoded data removed]",
      "text/plain": [
       "<Figure size 432x288 with 1 Axes>"
      ]
     },
     "metadata": {},
     "output_type": "display_data"
    }
   ],
   "source": [
    "skimage.io.imshow(trainImages[100001])"
   ]
  },
  {
   "cell_type": "code",
   "execution_count": null,
   "metadata": {},
   "outputs": [],
   "source": []
  },
  {
   "cell_type": "code",
   "execution_count": 6,
   "metadata": {},
   "outputs": [
    {
     "data": {
      "text/plain": [
       "'9B8#4242'"
      ]
     },
     "execution_count": 6,
     "metadata": {},
     "output_type": "execute_result"
    }
   ],
   "source": [
    "trainLabels[100001]"
   ]
  },
  {
   "cell_type": "code",
   "execution_count": 7,
   "metadata": {},
   "outputs": [],
   "source": [
    "# len(testLabels),len(testImages)"
   ]
  },
  {
   "cell_type": "code",
   "execution_count": 8,
   "metadata": {
    "scrolled": true
   },
   "outputs": [],
   "source": [
    "# skimage.io.imshow(testImages[10001])"
   ]
  },
  {
   "cell_type": "code",
   "execution_count": 9,
   "metadata": {},
   "outputs": [],
   "source": [
    "# testLabels[10001]"
   ]
  },
  {
   "cell_type": "code",
   "execution_count": 10,
   "metadata": {},
   "outputs": [
    {
     "name": "stderr",
     "output_type": "stream",
     "text": [
      "/usr/local/lib/python3.5/dist-packages/h5py/__init__.py:36: FutureWarning: Conversion of the second argument of issubdtype from `float` to `np.floating` is deprecated. In future, it will be treated as `np.float64 == np.dtype(float).type`.\n",
      "  from ._conv import register_converters as _register_converters\n",
      "Using TensorFlow backend.\n"
     ]
    }
   ],
   "source": [
    "from numpy import array\n",
    "from numpy import argmax\n",
    "from sklearn.preprocessing import LabelEncoder\n",
    "from sklearn.preprocessing import OneHotEncoder\n",
    "from keras.utils import np_utils"
   ]
  },
  {
   "cell_type": "code",
   "execution_count": 11,
   "metadata": {},
   "outputs": [],
   "source": [
    "# define universe of possible input values\n",
    "alphabet = '0123456789abcdefghijklmnopqrstuvwxyz#. '.upper()"
   ]
  },
  {
   "cell_type": "code",
   "execution_count": 12,
   "metadata": {},
   "outputs": [],
   "source": [
    "# define a mapping of chars to integers\n",
    "char_to_int = dict((c, i) for i, c in enumerate(alphabet))\n",
    "int_to_char = dict((i, c) for i, c in enumerate(alphabet))"
   ]
  },
  {
   "cell_type": "code",
   "execution_count": null,
   "metadata": {},
   "outputs": [],
   "source": []
  },
  {
   "cell_type": "code",
   "execution_count": 13,
   "metadata": {
    "scrolled": true
   },
   "outputs": [
    {
     "data": {
      "text/plain": [
       "39"
      ]
     },
     "execution_count": 13,
     "metadata": {},
     "output_type": "execute_result"
    }
   ],
   "source": [
    "len(alphabet)"
   ]
  },
  {
   "cell_type": "code",
   "execution_count": 14,
   "metadata": {
    "scrolled": true
   },
   "outputs": [],
   "source": [
    "#len(testLabels)"
   ]
  },
  {
   "cell_type": "code",
   "execution_count": 15,
   "metadata": {
    "scrolled": true
   },
   "outputs": [],
   "source": [
    "#print how many license less than 8 characters\n",
    "i=0\n",
    "for label in trainLabels:\n",
    "    if len(label)<8:\n",
    "        print(label)\n",
    "        i=i+1"
   ]
  },
  {
   "cell_type": "code",
   "execution_count": 16,
   "metadata": {},
   "outputs": [],
   "source": [
    "#skimage.io.imshow('s04_l01/882_1.png')"
   ]
  },
  {
   "cell_type": "code",
   "execution_count": 17,
   "metadata": {},
   "outputs": [],
   "source": [
    "#skimage.io.imshow('s01_l01/142_1.png')"
   ]
  },
  {
   "cell_type": "code",
   "execution_count": null,
   "metadata": {},
   "outputs": [],
   "source": []
  },
  {
   "cell_type": "code",
   "execution_count": 18,
   "metadata": {},
   "outputs": [],
   "source": [
    "#skimage.io.imshow('s02_l01/1212_1.png')"
   ]
  },
  {
   "cell_type": "code",
   "execution_count": 19,
   "metadata": {},
   "outputs": [],
   "source": [
    "#one hot encoding labels\n",
    "list_trainLabels=list()\n",
    "\n",
    "for label in trainLabels:\n",
    "    train_encoded = [char_to_int[char] for char in label]\n",
    "    for value in train_encoded:\n",
    "        letter = [0 for _ in range(len(alphabet))]\n",
    "        letter[value] = 1\n",
    "        list_trainLabels.append(letter)"
   ]
  },
  {
   "cell_type": "code",
   "execution_count": null,
   "metadata": {},
   "outputs": [],
   "source": []
  },
  {
   "cell_type": "code",
   "execution_count": null,
   "metadata": {},
   "outputs": [],
   "source": []
  },
  {
   "cell_type": "code",
   "execution_count": 20,
   "metadata": {},
   "outputs": [],
   "source": [
    "#x = np.reshape(list_trainLabels,(len(trainLabels)*8,39))"
   ]
  },
  {
   "cell_type": "code",
   "execution_count": 21,
   "metadata": {},
   "outputs": [],
   "source": [
    "#y= np.reshape(list_testLabels,(len(testLabels)*8,39))"
   ]
  },
  {
   "cell_type": "code",
   "execution_count": 22,
   "metadata": {
    "scrolled": true
   },
   "outputs": [],
   "source": [
    "#x[0:8]"
   ]
  },
  {
   "cell_type": "code",
   "execution_count": 23,
   "metadata": {
    "scrolled": true
   },
   "outputs": [],
   "source": [
    "####check the correct encoding\n",
    "# for i in range(1000*8,1000*8+16):\n",
    "#     print(trainLabels[1000])\n",
    "#     print(int_to_char[argmax(x[i])])\n"
   ]
  },
  {
   "cell_type": "code",
   "execution_count": 24,
   "metadata": {},
   "outputs": [
    {
     "data": {
      "text/plain": [
       "40"
      ]
     },
     "execution_count": 24,
     "metadata": {},
     "output_type": "execute_result"
    }
   ],
   "source": [
    "trainImages[0].shape[0]"
   ]
  },
  {
   "cell_type": "code",
   "execution_count": 25,
   "metadata": {},
   "outputs": [],
   "source": [
    "###############data struture"
   ]
  },
  {
   "cell_type": "code",
   "execution_count": 26,
   "metadata": {
    "scrolled": true
   },
   "outputs": [],
   "source": [
    "trainX=np.array(trainImages)\n"
   ]
  },
  {
   "cell_type": "code",
   "execution_count": 27,
   "metadata": {},
   "outputs": [],
   "source": [
    "trainImages=[]"
   ]
  },
  {
   "cell_type": "code",
   "execution_count": null,
   "metadata": {},
   "outputs": [],
   "source": []
  },
  {
   "cell_type": "code",
   "execution_count": 28,
   "metadata": {},
   "outputs": [],
   "source": [
    "del trainImages[:]\n"
   ]
  },
  {
   "cell_type": "code",
   "execution_count": null,
   "metadata": {},
   "outputs": [],
   "source": []
  },
  {
   "cell_type": "code",
   "execution_count": null,
   "metadata": {},
   "outputs": [],
   "source": []
  },
  {
   "cell_type": "code",
   "execution_count": null,
   "metadata": {},
   "outputs": [],
   "source": []
  },
  {
   "cell_type": "code",
   "execution_count": 29,
   "metadata": {},
   "outputs": [],
   "source": [
    "trainY=np.array(list_trainLabels)\n"
   ]
  },
  {
   "cell_type": "code",
   "execution_count": 30,
   "metadata": {},
   "outputs": [],
   "source": [
    "trainY=trainY.reshape(len(trainLabels),8,39)\n",
    "trainX=trainX.reshape(len(trainX),trainX[0].shape[0],\n",
    "                           trainX[0].shape[1],\n",
    "                           trainX[0].shape[2]).astype(\"float32\")/255\n"
   ]
  },
  {
   "cell_type": "code",
   "execution_count": null,
   "metadata": {},
   "outputs": [],
   "source": []
  },
  {
   "cell_type": "code",
   "execution_count": 31,
   "metadata": {},
   "outputs": [
    {
     "data": {
      "text/plain": [
       "numpy.ndarray"
      ]
     },
     "execution_count": 31,
     "metadata": {},
     "output_type": "execute_result"
    }
   ],
   "source": [
    "type(trainX[0])"
   ]
  },
  {
   "cell_type": "code",
   "execution_count": 32,
   "metadata": {},
   "outputs": [
    {
     "data": {
      "text/plain": [
       "numpy.ndarray"
      ]
     },
     "execution_count": 32,
     "metadata": {},
     "output_type": "execute_result"
    }
   ],
   "source": [
    "type(trainY[0])"
   ]
  },
  {
   "cell_type": "code",
   "execution_count": 33,
   "metadata": {},
   "outputs": [],
   "source": [
    "#trainY[0]"
   ]
  },
  {
   "cell_type": "code",
   "execution_count": 34,
   "metadata": {
    "scrolled": true
   },
   "outputs": [
    {
     "data": {
      "text/plain": [
       "((40, 200, 3), (8, 39), 105671, 105671)"
      ]
     },
     "execution_count": 34,
     "metadata": {},
     "output_type": "execute_result"
    }
   ],
   "source": [
    "trainX[0].shape,trainY[0].shape,len(trainX),len(trainY)"
   ]
  },
  {
   "cell_type": "code",
   "execution_count": 35,
   "metadata": {},
   "outputs": [
    {
     "data": {
      "text/plain": [
       "numpy.ndarray"
      ]
     },
     "execution_count": 35,
     "metadata": {},
     "output_type": "execute_result"
    }
   ],
   "source": [
    "type(trainY)"
   ]
  },
  {
   "cell_type": "code",
   "execution_count": null,
   "metadata": {},
   "outputs": [],
   "source": []
  },
  {
   "cell_type": "code",
   "execution_count": null,
   "metadata": {},
   "outputs": [],
   "source": []
  },
  {
   "cell_type": "code",
   "execution_count": 36,
   "metadata": {},
   "outputs": [],
   "source": [
    "#skimage.io.imshow(trainX[10000])"
   ]
  },
  {
   "cell_type": "code",
   "execution_count": 37,
   "metadata": {
    "scrolled": true
   },
   "outputs": [
    {
     "name": "stdout",
     "output_type": "stream",
     "text": [
      "6\n",
      "B\n",
      "5\n",
      "#\n",
      "3\n",
      "1\n",
      "0\n",
      "6\n"
     ]
    }
   ],
   "source": [
    "for ttt in trainY[10000]:\n",
    "    print(int_to_char[argmax(ttt)])\n",
    "    "
   ]
  },
  {
   "cell_type": "code",
   "execution_count": null,
   "metadata": {},
   "outputs": [],
   "source": []
  },
  {
   "cell_type": "code",
   "execution_count": null,
   "metadata": {},
   "outputs": [],
   "source": []
  },
  {
   "cell_type": "code",
   "execution_count": null,
   "metadata": {},
   "outputs": [],
   "source": []
  },
  {
   "cell_type": "code",
   "execution_count": 38,
   "metadata": {},
   "outputs": [
    {
     "data": {
      "text/plain": [
       "(40, 200, 3)"
      ]
     },
     "execution_count": 38,
     "metadata": {},
     "output_type": "execute_result"
    }
   ],
   "source": [
    "trainX[0].shape"
   ]
  },
  {
   "cell_type": "code",
   "execution_count": 39,
   "metadata": {
    "scrolled": true
   },
   "outputs": [
    {
     "data": {
      "text/plain": [
       "\"\\nmain=model.add(Conv2D(32, kernel_size=3,padding='same',input_shape=trainX[0].shape))\\nmain=model.add(BatchNormalization())\\nmain=model.add(Activation('relu'))\\nmain=model.add(MaxPooling2D(pool_size=(2, 2)))\\n\\nmain=model.add(Conv2D(64, kernel_size=3, padding='same'))\\nmain=model.add(BatchNormalization())\\nmain=model.add(Activation('relu'))\\nmain=model.add(MaxPooling2D(pool_size=(2, 2)))\\nmain=model.add(Conv2D(128, kernel_size=3, padding='same'))\\nmain=model.add(BatchNormalization())\\nmain=model.add(Activation('relu'))\\nmain=model.add(MaxPooling2D(pool_size=(2, 2)))\\n\\n\\no1 = Dense(16000,  activation='linear')(main)\\nd1= Dense(128,  activation='linear')(o1)\\ns1=Dense(39, activation = 'softmax')(d1)\\no2 = Dense(16000,  activation='linear')(main)\\nd2= Dense(128,  activation='linear')(o2)\\ns2=Dense(39, activation = 'softmax')(d2)\\n# o2 = Dense(16000, activation = 'softmax')(main)\\n# o3 = Dense(16000, activation = 'softmax')(main)\\n# o4 = Dense(16000, activation = 'softmax')(main)\\n# o5 = Dense(16000, activation = 'softmax')(main)\\n# o6 = Dense(16000, activation = 'softmax')(main)\\n# o7 = Dense(16000, activation = 'softmax')(main)\\n# o8 = Dense(16000, activation = 'softmax')(main)\\n\\n\""
      ]
     },
     "execution_count": 39,
     "metadata": {},
     "output_type": "execute_result"
    }
   ],
   "source": [
    "from keras.models import Sequential,Model\n",
    "from keras.layers import Dense, Conv2D, Flatten,Activation,MaxPooling2D,Input\n",
    "from keras.layers.normalization import BatchNormalization\n",
    "from keras.layers.merge import concatenate\n",
    "from keras import layers\n",
    "import tensorflow as tf\n",
    "\n",
    "#create model\n",
    "model = Sequential()\n",
    "#add model layers\n",
    "\n",
    "#####frist sequence\n",
    "Input_1= Input(shape=(40,200,3))\n",
    "\n",
    "conv1 = Conv2D(32, (3,3), activation = 'relu', padding = \"SAME\")(Input_1)\n",
    "bn1=BatchNormalization()(conv1)\n",
    "conv2 = Conv2D(32, (3,3), activation = 'relu', padding = \"SAME\")(bn1)\n",
    "bn2=BatchNormalization()(conv2)\n",
    "conv3 = Conv2D(32, (3,3), activation = 'relu', padding = \"SAME\")(bn2)\n",
    "bn3=BatchNormalization()(conv3)\n",
    "\n",
    "pool1 = MaxPooling2D(pool_size = (2,2), strides = 2)(bn3)\n",
    "####second sequence\n",
    "conv4 = Conv2D(64, (3,3), activation = 'relu', padding = \"SAME\")(pool1)\n",
    "bn4=BatchNormalization()(conv4)\n",
    "conv5 = Conv2D(64, (3,3), activation = 'relu', padding = \"SAME\")(bn4)\n",
    "bn5=BatchNormalization()(conv5)\n",
    "conv6 = Conv2D(64, (3,3), activation = 'relu', padding = \"SAME\")(bn5)\n",
    "bn6=BatchNormalization()(conv6)\n",
    "\n",
    "pool2 = MaxPooling2D(pool_size = (2,2), strides = 2)(bn6)\n",
    "\n",
    "###third sequence\n",
    "conv7 = Conv2D(128, (3,3), activation = 'relu', padding = \"SAME\")(pool2)\n",
    "bn7=BatchNormalization()(conv7)\n",
    "conv8 = Conv2D(128, (3,3), activation = 'relu', padding = \"SAME\")(bn7)\n",
    "bn8=BatchNormalization()(conv8)\n",
    "conv9 = Conv2D(128, (3,3), activation = 'relu', padding = \"SAME\")(bn8)\n",
    "bn9=BatchNormalization()(conv9)\n",
    "\n",
    "pool3 = MaxPooling2D(pool_size = (2,2), strides = 2)(bn9)\n",
    "\n",
    "\n",
    "\n",
    "\n",
    "flat_1 = Flatten()(pool3)\n",
    "#x = Dense(100, activation='relu')(flat_1)\n",
    "# x = Dense(100, activation='relu')(x)\n",
    "#fully connected 1\n",
    "\n",
    "\n",
    "x1 = Dense(16000, activation='linear')(flat_1)\n",
    "x2 = Dense(16000, activation='linear')(flat_1)\n",
    "x3 = Dense(16000, activation='linear')(flat_1)\n",
    "x4 = Dense(16000, activation='linear')(flat_1)\n",
    "x5 = Dense(16000, activation='linear')(flat_1)\n",
    "x6 = Dense(16000, activation='linear')(flat_1)\n",
    "x7 = Dense(16000, activation='linear')(flat_1)\n",
    "x8 = Dense(16000, activation='linear')(flat_1)\n",
    "\n",
    "#fully connected2\n",
    "\n",
    "x1_1 = Dense(128, activation='linear')(x1)\n",
    "x2_1 = Dense(128, activation='linear')(x2)\n",
    "x3_1 = Dense(128, activation='linear')(x3)\n",
    "x4_1 = Dense(128, activation='linear')(x4)\n",
    "x5_1 = Dense(128, activation='linear')(x5)\n",
    "x6_1 = Dense(128, activation='linear')(x6)\n",
    "x7_1 = Dense(128, activation='linear')(x7)\n",
    "x8_1 = Dense(128, activation='linear')(x8)\n",
    "\n",
    "\n",
    "\n",
    "\n",
    "\n",
    "\n",
    "out1 = Dense(39,  activation='softmax')(x1_1)\n",
    "out2 = Dense(39,  activation='softmax')(x2_1)\n",
    "out3 = Dense(39,  activation='softmax')(x3_1)\n",
    "out4 = Dense(39,  activation='softmax')(x4_1)\n",
    "out5 = Dense(39,  activation='softmax')(x5_1)\n",
    "out6 = Dense(39,  activation='softmax')(x6_1)\n",
    "out7 = Dense(39,  activation='softmax')(x7_1)\n",
    "out8 = Dense(39,  activation='softmax')(x8_1)\n",
    "output_1=[out1,out2,out3,out4,out5,out6,out7,out8]\n",
    "model = Model(inputs=[Input_1], outputs=output_1)\n",
    "# model = Model(inputs=Input_1, outputs=[layer.get_output_shape_at(out1)\n",
    "#                                        ,layer.get_output_shape_at(out2)\n",
    "#                                        ,layer.get_output_shape_at(out3)\n",
    "#                                        ,layer.get_output_shape_at(out4)\n",
    "#                                        ,layer.get_output_shape_at(out5)\n",
    "#                                        ,layer.get_output_shape_at(out6)\n",
    "#                                        ,layer.get_output_shape_at(out7)\n",
    "#                                        ,layer.get_output_shape_at(out8)\n",
    "#                                        ])\n",
    "model.compile(optimizer = \"Adam\", loss = 'categorical_crossentropy',metrics=['accuracy'])\n",
    "\n",
    "\n",
    "\n",
    "\n",
    "\n",
    "\n",
    "\n",
    "\"\"\"\n",
    "main=model.add(Conv2D(32, kernel_size=3,padding='same',input_shape=trainX[0].shape))\n",
    "main=model.add(BatchNormalization())\n",
    "main=model.add(Activation('relu'))\n",
    "main=model.add(MaxPooling2D(pool_size=(2, 2)))\n",
    "\n",
    "main=model.add(Conv2D(64, kernel_size=3, padding='same'))\n",
    "main=model.add(BatchNormalization())\n",
    "main=model.add(Activation('relu'))\n",
    "main=model.add(MaxPooling2D(pool_size=(2, 2)))\n",
    "main=model.add(Conv2D(128, kernel_size=3, padding='same'))\n",
    "main=model.add(BatchNormalization())\n",
    "main=model.add(Activation('relu'))\n",
    "main=model.add(MaxPooling2D(pool_size=(2, 2)))\n",
    "\n",
    "\n",
    "o1 = Dense(16000,  activation='linear')(main)\n",
    "d1= Dense(128,  activation='linear')(o1)\n",
    "s1=Dense(39, activation = 'softmax')(d1)\n",
    "o2 = Dense(16000,  activation='linear')(main)\n",
    "d2= Dense(128,  activation='linear')(o2)\n",
    "s2=Dense(39, activation = 'softmax')(d2)\n",
    "# o2 = Dense(16000, activation = 'softmax')(main)\n",
    "# o3 = Dense(16000, activation = 'softmax')(main)\n",
    "# o4 = Dense(16000, activation = 'softmax')(main)\n",
    "# o5 = Dense(16000, activation = 'softmax')(main)\n",
    "# o6 = Dense(16000, activation = 'softmax')(main)\n",
    "# o7 = Dense(16000, activation = 'softmax')(main)\n",
    "# o8 = Dense(16000, activation = 'softmax')(main)\n",
    "\n",
    "\"\"\""
   ]
  },
  {
   "cell_type": "code",
   "execution_count": 40,
   "metadata": {
    "scrolled": false
   },
   "outputs": [
    {
     "name": "stdout",
     "output_type": "stream",
     "text": [
      "__________________________________________________________________________________________________\n",
      "Layer (type)                    Output Shape         Param #     Connected to                     \n",
      "==================================================================================================\n",
      "input_1 (InputLayer)            (None, 40, 200, 3)   0                                            \n",
      "__________________________________________________________________________________________________\n",
      "conv2d_1 (Conv2D)               (None, 40, 200, 32)  896         input_1[0][0]                    \n",
      "__________________________________________________________________________________________________\n",
      "batch_normalization_1 (BatchNor (None, 40, 200, 32)  128         conv2d_1[0][0]                   \n",
      "__________________________________________________________________________________________________\n",
      "conv2d_2 (Conv2D)               (None, 40, 200, 32)  9248        batch_normalization_1[0][0]      \n",
      "__________________________________________________________________________________________________\n",
      "batch_normalization_2 (BatchNor (None, 40, 200, 32)  128         conv2d_2[0][0]                   \n",
      "__________________________________________________________________________________________________\n",
      "conv2d_3 (Conv2D)               (None, 40, 200, 32)  9248        batch_normalization_2[0][0]      \n",
      "__________________________________________________________________________________________________\n",
      "batch_normalization_3 (BatchNor (None, 40, 200, 32)  128         conv2d_3[0][0]                   \n",
      "__________________________________________________________________________________________________\n",
      "max_pooling2d_1 (MaxPooling2D)  (None, 20, 100, 32)  0           batch_normalization_3[0][0]      \n",
      "__________________________________________________________________________________________________\n",
      "conv2d_4 (Conv2D)               (None, 20, 100, 64)  18496       max_pooling2d_1[0][0]            \n",
      "__________________________________________________________________________________________________\n",
      "batch_normalization_4 (BatchNor (None, 20, 100, 64)  256         conv2d_4[0][0]                   \n",
      "__________________________________________________________________________________________________\n",
      "conv2d_5 (Conv2D)               (None, 20, 100, 64)  36928       batch_normalization_4[0][0]      \n",
      "__________________________________________________________________________________________________\n",
      "batch_normalization_5 (BatchNor (None, 20, 100, 64)  256         conv2d_5[0][0]                   \n",
      "__________________________________________________________________________________________________\n",
      "conv2d_6 (Conv2D)               (None, 20, 100, 64)  36928       batch_normalization_5[0][0]      \n",
      "__________________________________________________________________________________________________\n",
      "batch_normalization_6 (BatchNor (None, 20, 100, 64)  256         conv2d_6[0][0]                   \n",
      "__________________________________________________________________________________________________\n",
      "max_pooling2d_2 (MaxPooling2D)  (None, 10, 50, 64)   0           batch_normalization_6[0][0]      \n",
      "__________________________________________________________________________________________________\n",
      "conv2d_7 (Conv2D)               (None, 10, 50, 128)  73856       max_pooling2d_2[0][0]            \n",
      "__________________________________________________________________________________________________\n",
      "batch_normalization_7 (BatchNor (None, 10, 50, 128)  512         conv2d_7[0][0]                   \n",
      "__________________________________________________________________________________________________\n",
      "conv2d_8 (Conv2D)               (None, 10, 50, 128)  147584      batch_normalization_7[0][0]      \n",
      "__________________________________________________________________________________________________\n",
      "batch_normalization_8 (BatchNor (None, 10, 50, 128)  512         conv2d_8[0][0]                   \n",
      "__________________________________________________________________________________________________\n",
      "conv2d_9 (Conv2D)               (None, 10, 50, 128)  147584      batch_normalization_8[0][0]      \n",
      "__________________________________________________________________________________________________\n",
      "batch_normalization_9 (BatchNor (None, 10, 50, 128)  512         conv2d_9[0][0]                   \n",
      "__________________________________________________________________________________________________\n",
      "max_pooling2d_3 (MaxPooling2D)  (None, 5, 25, 128)   0           batch_normalization_9[0][0]      \n",
      "__________________________________________________________________________________________________\n",
      "flatten_1 (Flatten)             (None, 16000)        0           max_pooling2d_3[0][0]            \n",
      "__________________________________________________________________________________________________\n",
      "dense_1 (Dense)                 (None, 16000)        256016000   flatten_1[0][0]                  \n",
      "__________________________________________________________________________________________________\n",
      "dense_2 (Dense)                 (None, 16000)        256016000   flatten_1[0][0]                  \n",
      "__________________________________________________________________________________________________\n",
      "dense_3 (Dense)                 (None, 16000)        256016000   flatten_1[0][0]                  \n",
      "__________________________________________________________________________________________________\n",
      "dense_4 (Dense)                 (None, 16000)        256016000   flatten_1[0][0]                  \n",
      "__________________________________________________________________________________________________\n",
      "dense_5 (Dense)                 (None, 16000)        256016000   flatten_1[0][0]                  \n",
      "__________________________________________________________________________________________________\n",
      "dense_6 (Dense)                 (None, 16000)        256016000   flatten_1[0][0]                  \n",
      "__________________________________________________________________________________________________\n",
      "dense_7 (Dense)                 (None, 16000)        256016000   flatten_1[0][0]                  \n",
      "__________________________________________________________________________________________________\n",
      "dense_8 (Dense)                 (None, 16000)        256016000   flatten_1[0][0]                  \n",
      "__________________________________________________________________________________________________\n",
      "dense_9 (Dense)                 (None, 128)          2048128     dense_1[0][0]                    \n",
      "__________________________________________________________________________________________________\n",
      "dense_10 (Dense)                (None, 128)          2048128     dense_2[0][0]                    \n",
      "__________________________________________________________________________________________________\n",
      "dense_11 (Dense)                (None, 128)          2048128     dense_3[0][0]                    \n",
      "__________________________________________________________________________________________________\n",
      "dense_12 (Dense)                (None, 128)          2048128     dense_4[0][0]                    \n",
      "__________________________________________________________________________________________________\n",
      "dense_13 (Dense)                (None, 128)          2048128     dense_5[0][0]                    \n",
      "__________________________________________________________________________________________________\n",
      "dense_14 (Dense)                (None, 128)          2048128     dense_6[0][0]                    \n",
      "__________________________________________________________________________________________________\n",
      "dense_15 (Dense)                (None, 128)          2048128     dense_7[0][0]                    \n",
      "__________________________________________________________________________________________________\n",
      "dense_16 (Dense)                (None, 128)          2048128     dense_8[0][0]                    \n",
      "__________________________________________________________________________________________________\n",
      "dense_17 (Dense)                (None, 39)           5031        dense_9[0][0]                    \n",
      "__________________________________________________________________________________________________\n",
      "dense_18 (Dense)                (None, 39)           5031        dense_10[0][0]                   \n",
      "__________________________________________________________________________________________________\n",
      "dense_19 (Dense)                (None, 39)           5031        dense_11[0][0]                   \n",
      "__________________________________________________________________________________________________\n",
      "dense_20 (Dense)                (None, 39)           5031        dense_12[0][0]                   \n",
      "__________________________________________________________________________________________________\n",
      "dense_21 (Dense)                (None, 39)           5031        dense_13[0][0]                   \n",
      "__________________________________________________________________________________________________\n",
      "dense_22 (Dense)                (None, 39)           5031        dense_14[0][0]                   \n",
      "__________________________________________________________________________________________________\n",
      "dense_23 (Dense)                (None, 39)           5031        dense_15[0][0]                   \n",
      "__________________________________________________________________________________________________\n",
      "dense_24 (Dense)                (None, 39)           5031        dense_16[0][0]                   \n",
      "==================================================================================================\n",
      "Total params: 2,065,036,728\n",
      "Trainable params: 2,065,035,384\n",
      "Non-trainable params: 1,344\n",
      "__________________________________________________________________________________________________\n"
     ]
    }
   ],
   "source": [
    "model.summary()\n"
   ]
  },
  {
   "cell_type": "code",
   "execution_count": 42,
   "metadata": {},
   "outputs": [
    {
     "data": {
      "text/plain": [
       "numpy.ndarray"
      ]
     },
     "execution_count": 42,
     "metadata": {},
     "output_type": "execute_result"
    }
   ],
   "source": [
    "type(trainY)"
   ]
  },
  {
   "cell_type": "code",
   "execution_count": null,
   "metadata": {
    "scrolled": true
   },
   "outputs": [
    {
     "name": "stdout",
     "output_type": "stream",
     "text": [
      "Epoch 1/5\n"
     ]
    }
   ],
   "source": [
    "n_epoch = 5\n",
    "start = timeit.default_timer()\n",
    "model.fit(trainX,[trainY[:,0,:],trainY[:,1,:],trainY[:,2,:],trainY[:,3,:],trainY[:,4,:],trainY[:,5,:],trainY[:,6,:],trainY[:,7,:]], epochs=n_epoch,batch_size=20, shuffle=False,verbose=1)\n",
    "stop = timeit.default_timer()\n",
    "\n",
    "print('Time: ', stop - start)  \n"
   ]
  },
  {
   "cell_type": "code",
   "execution_count": null,
   "metadata": {},
   "outputs": [],
   "source": [
    "print('Time: ', stop - start)  \n"
   ]
  },
  {
   "cell_type": "code",
   "execution_count": null,
   "metadata": {},
   "outputs": [],
   "source": []
  },
  {
   "cell_type": "code",
   "execution_count": null,
   "metadata": {},
   "outputs": [],
   "source": []
  },
  {
   "cell_type": "code",
   "execution_count": null,
   "metadata": {},
   "outputs": [],
   "source": [
    "with open('trainVal.csv','r') as csvFile:\n",
    "    reader = csv.reader(csvFile,dialect='myDialect')\n",
    "    for row in reader:\n",
    "#         if row[3]=='1':\n",
    "#             img=skimage.data.imread(row[1])\n",
    "#             img = skimage.transform.resize(img,(40,200,3))\n",
    "            \n",
    "            \n",
    "#             #### face different length of license\n",
    "#             x_trainLabel=str(row[2])\n",
    "#             if len(x_trainLabel)==7:\n",
    "#                 trainImages.append(img)\n",
    "#                 trainLabels.append(x_trainLabel[0:3]+'#'+x_trainLabel[3:])\n",
    "#             if len(x_trainLabel)==6:\n",
    "#                 trainImages.append(img)\n",
    "#                 trainLabels.append(x_trainLabel[0:3]+'..'+x_trainLabel[3:])\n",
    "#             if len(x_trainLabel)==5:\n",
    "#                 trainImages.append(img)\n",
    "#                 trainLabels.append(x_trainLabel[0]+'###'+x_trainLabel[1:])\n",
    "                \n",
    "        if row[3]=='0':\n",
    "            img=skimage.data.imread(row[1])\n",
    "            img = skimage.transform.resize(img,(40,200,3))\n",
    "            \n",
    "            \n",
    "            x_testLabel=str(row[2])\n",
    "            if len(x_testLabel)==7:\n",
    "                testImages.append(img)\n",
    "                testLabels.append(x_testLabel[0:3]+'#'+x_testLabel[3:])\n",
    "            if len(x_testLabel)==6:\n",
    "                testImages.append(img)\n",
    "                testLabels.append(x_testLabel[0:3]+'..'+x_testLabel[3:])\n",
    "            if len(x_trainLabel)==5:\n",
    "                testImages.append(img)\n",
    "                testLabels.append(x_testLabel[0]+'###'+x_testLabel[1:])\n",
    "        \n",
    "        #print(row,row[3])"
   ]
  },
  {
   "cell_type": "code",
   "execution_count": null,
   "metadata": {},
   "outputs": [],
   "source": [
    "list_testLabels=list()\n",
    "for testlabel in testLabels:\n",
    "    test_encoded = [char_to_int[char] for char in testlabel]\n",
    "    for value in test_encoded:\n",
    "        letter = [0 for _ in range(len(alphabet))]\n",
    "        letter[value] = 1\n",
    "        list_testLabels.append(letter)"
   ]
  },
  {
   "cell_type": "code",
   "execution_count": null,
   "metadata": {},
   "outputs": [],
   "source": [
    "testY=testY.reshape(len(testLabels),8,39)\n",
    "testX=testX.reshape(len(testImages),testImages[0].shape[0],\n",
    "                           testImages[0].shape[1],\n",
    "                           testImages[0].shape[2]).astype(\"float32\")/255"
   ]
  }
 ],
 "metadata": {
  "kernelspec": {
   "display_name": "Python 3",
   "language": "python",
   "name": "python3"
  },
  "language_info": {
   "codemirror_mode": {
    "name": "ipython",
    "version": 3
   },
   "file_extension": ".py",
   "mimetype": "text/x-python",
   "name": "python",
   "nbconvert_exporter": "python",
   "pygments_lexer": "ipython3",
   "version": "3.5.2"
  }
 },
 "nbformat": 4,
 "nbformat_minor": 2
}
