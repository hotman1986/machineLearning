{
 "cells": [
  {
   "cell_type": "code",
   "execution_count": 1,
   "metadata": {},
   "outputs": [
    {
     "name": "stderr",
     "output_type": "stream",
     "text": [
      "/usr/local/lib/python3.5/dist-packages/h5py/__init__.py:36: FutureWarning: Conversion of the second argument of issubdtype from `float` to `np.floating` is deprecated. In future, it will be treated as `np.float64 == np.dtype(float).type`.\n",
      "  from ._conv import register_converters as _register_converters\n"
     ]
    }
   ],
   "source": [
    "import cv2\n",
    "import os\n",
    "import skimage\n",
    "from skimage import data\n",
    "from skimage import transform\n",
    "import PIL\n",
    "from PIL import Image\n",
    "import numpy as np\n",
    "import matplotlib.pyplot as plt\n",
    "import random\n",
    "from random import randint\n",
    "import tensorflow as tf\n",
    "from scipy import ndimage, misc"
   ]
  },
  {
   "cell_type": "code",
   "execution_count": 2,
   "metadata": {},
   "outputs": [],
   "source": [
    "def load_data(data_directory):\n",
    "    directories = [d for d in os.listdir(data_directory) \n",
    "                   if os.path.isdir(os.path.join(data_directory, d))]\n",
    "    labels = []\n",
    "    images = []\n",
    "    for d in directories:\n",
    "        label_directory = os.path.join(data_directory, d)\n",
    "        file_names = [os.path.join(label_directory, f) \n",
    "                      for f in os.listdir(label_directory) if f.endswith(\".jpg\")]\n",
    "        for f in file_names:\n",
    "            images.append(skimage.data.imread(f))\n",
    "            labels.append(str(d))\n",
    "    return images, labels"
   ]
  },
  {
   "cell_type": "code",
   "execution_count": 3,
   "metadata": {},
   "outputs": [],
   "source": [
    "HEIGHT=16\n",
    "WIDTH=8\n",
    "CLASSNUMBER = 32\n",
    "RESIZED_HEIGHT = 160\n",
    "RESIZED_WIDTH = 90\n"
   ]
  },
  {
   "cell_type": "code",
   "execution_count": 4,
   "metadata": {},
   "outputs": [],
   "source": [
    "ROOT_PATH = '/home/tang/targa/exp3/'\n",
    "train_data_directory = os.path.join(ROOT_PATH, \"val\")\n",
    "test_data_directory = os.path.join(ROOT_PATH, \"padding_160*90_val\")"
   ]
  },
  {
   "cell_type": "code",
   "execution_count": 5,
   "metadata": {},
   "outputs": [],
   "source": [
    "Images,Labels = load_data(train_data_directory)"
   ]
  },
  {
   "cell_type": "code",
   "execution_count": 6,
   "metadata": {},
   "outputs": [
    {
     "data": {
      "text/plain": [
       "(array([12., 12., 12., 12., 17., 17., 12., 12., 17., 12., 12., 12., 12.,\n",
       "        12., 12., 12., 12., 12., 17., 12., 12., 12., 12., 17., 12., 13.,\n",
       "        12., 12., 12., 12., 12., 13.]),\n",
       " array([ 0.     ,  0.96875,  1.9375 ,  2.90625,  3.875  ,  4.84375,\n",
       "         5.8125 ,  6.78125,  7.75   ,  8.71875,  9.6875 , 10.65625,\n",
       "        11.625  , 12.59375, 13.5625 , 14.53125, 15.5    , 16.46875,\n",
       "        17.4375 , 18.40625, 19.375  , 20.34375, 21.3125 , 22.28125,\n",
       "        23.25   , 24.21875, 25.1875 , 26.15625, 27.125  , 28.09375,\n",
       "        29.0625 , 30.03125, 31.     ]),\n",
       " <a list of 32 Patch objects>)"
      ]
     },
     "execution_count": 6,
     "metadata": {},
     "output_type": "execute_result"
    },
    {
     "data": {
      "image/png": "[encoded data removed]",
      "text/plain": [
       "<Figure size 432x288 with 1 Axes>"
      ]
     },
     "metadata": {},
     "output_type": "display_data"
    }
   ],
   "source": [
    "plt.hist(Labels,32)"
   ]
  },
  {
   "cell_type": "code",
   "execution_count": 7,
   "metadata": {},
   "outputs": [
    {
     "data": {
      "text/plain": [
       "<matplotlib.image.AxesImage at 0x7f6d1b62f860>"
      ]
     },
     "execution_count": 7,
     "metadata": {},
     "output_type": "execute_result"
    },
    {
     "data": {
      "image/png": "[encoded data removed]",
      "text/plain": [
       "<Figure size 432x288 with 1 Axes>"
      ]
     },
     "metadata": {},
     "output_type": "display_data"
    }
   ],
   "source": [
    "plt.imshow(Images[0])"
   ]
  },
  {
   "cell_type": "code",
   "execution_count": 8,
   "metadata": {},
   "outputs": [],
   "source": [
    "from PIL import Image, ImageOps\n",
    "from skimage.transform import PiecewiseAffineTransform, warp\n",
    "top, bottom = [int((RESIZED_HEIGHT-HEIGHT)/2)]*2\n",
    "left, right = [int((RESIZED_WIDTH-WIDTH)/2)]*2\n",
    "\n",
    "color = [0,0,0]\n",
    "\n",
    "\n"
   ]
  },
  {
   "cell_type": "code",
   "execution_count": 10,
   "metadata": {},
   "outputs": [
    {
     "name": "stdout",
     "output_type": "stream",
     "text": [
      "/home/tang/targa/exp3/padding_160*90_val/J/J0.jpg\n",
      "/home/tang/targa/exp3/padding_160*90_val/J/J1.jpg\n",
      "/home/tang/targa/exp3/padding_160*90_val/J/J2.jpg\n",
      "/home/tang/targa/exp3/padding_160*90_val/J/J3.jpg\n",
      "/home/tang/targa/exp3/padding_160*90_val/J/J4.jpg\n",
      "/home/tang/targa/exp3/padding_160*90_val/J/J5.jpg\n",
      "/home/tang/targa/exp3/padding_160*90_val/J/J6.jpg\n",
      "/home/tang/targa/exp3/padding_160*90_val/J/J7.jpg\n",
      "/home/tang/targa/exp3/padding_160*90_val/J/J8.jpg\n",
      "/home/tang/targa/exp3/padding_160*90_val/J/J9.jpg\n",
      "/home/tang/targa/exp3/padding_160*90_val/J/J10.jpg\n",
      "/home/tang/targa/exp3/padding_160*90_val/J/J11.jpg\n",
      "/home/tang/targa/exp3/padding_160*90_val/E/E12.jpg\n",
      "/home/tang/targa/exp3/padding_160*90_val/E/E13.jpg\n",
      "/home/tang/targa/exp3/padding_160*90_val/E/E14.jpg\n",
      "/home/tang/targa/exp3/padding_160*90_val/E/E15.jpg\n",
      "/home/tang/targa/exp3/padding_160*90_val/E/E16.jpg\n",
      "/home/tang/targa/exp3/padding_160*90_val/E/E17.jpg\n",
      "/home/tang/targa/exp3/padding_160*90_val/E/E18.jpg\n",
      "/home/tang/targa/exp3/padding_160*90_val/E/E19.jpg\n",
      "/home/tang/targa/exp3/padding_160*90_val/E/E20.jpg\n",
      "/home/tang/targa/exp3/padding_160*90_val/E/E21.jpg\n",
      "/home/tang/targa/exp3/padding_160*90_val/E/E22.jpg\n",
      "/home/tang/targa/exp3/padding_160*90_val/E/E23.jpg\n",
      "/home/tang/targa/exp3/padding_160*90_val/7/724.jpg\n",
      "/home/tang/targa/exp3/padding_160*90_val/7/725.jpg\n",
      "/home/tang/targa/exp3/padding_160*90_val/7/726.jpg\n",
      "/home/tang/targa/exp3/padding_160*90_val/7/727.jpg\n",
      "/home/tang/targa/exp3/padding_160*90_val/7/728.jpg\n",
      "/home/tang/targa/exp3/padding_160*90_val/7/729.jpg\n",
      "/home/tang/targa/exp3/padding_160*90_val/7/730.jpg\n",
      "/home/tang/targa/exp3/padding_160*90_val/7/731.jpg\n",
      "/home/tang/targa/exp3/padding_160*90_val/7/732.jpg\n",
      "/home/tang/targa/exp3/padding_160*90_val/7/733.jpg\n",
      "/home/tang/targa/exp3/padding_160*90_val/7/734.jpg\n",
      "/home/tang/targa/exp3/padding_160*90_val/7/735.jpg\n",
      "/home/tang/targa/exp3/padding_160*90_val/A/A36.jpg\n",
      "/home/tang/targa/exp3/padding_160*90_val/A/A37.jpg\n",
      "/home/tang/targa/exp3/padding_160*90_val/A/A38.jpg\n",
      "/home/tang/targa/exp3/padding_160*90_val/A/A39.jpg\n",
      "/home/tang/targa/exp3/padding_160*90_val/A/A40.jpg\n",
      "/home/tang/targa/exp3/padding_160*90_val/A/A41.jpg\n",
      "/home/tang/targa/exp3/padding_160*90_val/A/A42.jpg\n",
      "/home/tang/targa/exp3/padding_160*90_val/A/A43.jpg\n",
      "/home/tang/targa/exp3/padding_160*90_val/A/A44.jpg\n",
      "/home/tang/targa/exp3/padding_160*90_val/A/A45.jpg\n",
      "/home/tang/targa/exp3/padding_160*90_val/A/A46.jpg\n",
      "/home/tang/targa/exp3/padding_160*90_val/A/A47.jpg\n",
      "/home/tang/targa/exp3/padding_160*90_val/S/S48.jpg\n",
      "/home/tang/targa/exp3/padding_160*90_val/S/S49.jpg\n",
      "/home/tang/targa/exp3/padding_160*90_val/S/S50.jpg\n",
      "/home/tang/targa/exp3/padding_160*90_val/S/S51.jpg\n",
      "/home/tang/targa/exp3/padding_160*90_val/S/S52.jpg\n",
      "/home/tang/targa/exp3/padding_160*90_val/S/S53.jpg\n",
      "/home/tang/targa/exp3/padding_160*90_val/S/S54.jpg\n",
      "/home/tang/targa/exp3/padding_160*90_val/S/S55.jpg\n",
      "/home/tang/targa/exp3/padding_160*90_val/S/S56.jpg\n",
      "/home/tang/targa/exp3/padding_160*90_val/S/S57.jpg\n",
      "/home/tang/targa/exp3/padding_160*90_val/S/S58.jpg\n",
      "/home/tang/targa/exp3/padding_160*90_val/S/S59.jpg\n",
      "/home/tang/targa/exp3/padding_160*90_val/S/S60.jpg\n",
      "/home/tang/targa/exp3/padding_160*90_val/S/S61.jpg\n",
      "/home/tang/targa/exp3/padding_160*90_val/S/S62.jpg\n",
      "/home/tang/targa/exp3/padding_160*90_val/S/S63.jpg\n",
      "/home/tang/targa/exp3/padding_160*90_val/S/S64.jpg\n",
      "/home/tang/targa/exp3/padding_160*90_val/B/B65.jpg\n",
      "/home/tang/targa/exp3/padding_160*90_val/B/B66.jpg\n",
      "/home/tang/targa/exp3/padding_160*90_val/B/B67.jpg\n",
      "/home/tang/targa/exp3/padding_160*90_val/B/B68.jpg\n",
      "/home/tang/targa/exp3/padding_160*90_val/B/B69.jpg\n",
      "/home/tang/targa/exp3/padding_160*90_val/B/B70.jpg\n",
      "/home/tang/targa/exp3/padding_160*90_val/B/B71.jpg\n",
      "/home/tang/targa/exp3/padding_160*90_val/B/B72.jpg\n",
      "/home/tang/targa/exp3/padding_160*90_val/B/B73.jpg\n",
      "/home/tang/targa/exp3/padding_160*90_val/B/B74.jpg\n",
      "/home/tang/targa/exp3/padding_160*90_val/B/B75.jpg\n",
      "/home/tang/targa/exp3/padding_160*90_val/B/B76.jpg\n",
      "/home/tang/targa/exp3/padding_160*90_val/B/B77.jpg\n",
      "/home/tang/targa/exp3/padding_160*90_val/B/B78.jpg\n",
      "/home/tang/targa/exp3/padding_160*90_val/B/B79.jpg\n",
      "/home/tang/targa/exp3/padding_160*90_val/B/B80.jpg\n",
      "/home/tang/targa/exp3/padding_160*90_val/B/B81.jpg\n",
      "/home/tang/targa/exp3/padding_160*90_val/L/L82.jpg\n",
      "/home/tang/targa/exp3/padding_160*90_val/L/L83.jpg\n",
      "/home/tang/targa/exp3/padding_160*90_val/L/L84.jpg\n",
      "/home/tang/targa/exp3/padding_160*90_val/L/L85.jpg\n",
      "/home/tang/targa/exp3/padding_160*90_val/L/L86.jpg\n",
      "/home/tang/targa/exp3/padding_160*90_val/L/L87.jpg\n",
      "/home/tang/targa/exp3/padding_160*90_val/L/L88.jpg\n",
      "/home/tang/targa/exp3/padding_160*90_val/L/L89.jpg\n",
      "/home/tang/targa/exp3/padding_160*90_val/L/L90.jpg\n",
      "/home/tang/targa/exp3/padding_160*90_val/L/L91.jpg\n",
      "/home/tang/targa/exp3/padding_160*90_val/L/L92.jpg\n",
      "/home/tang/targa/exp3/padding_160*90_val/L/L93.jpg\n",
      "/home/tang/targa/exp3/padding_160*90_val/T/T94.jpg\n",
      "/home/tang/targa/exp3/padding_160*90_val/T/T95.jpg\n",
      "/home/tang/targa/exp3/padding_160*90_val/T/T96.jpg\n",
      "/home/tang/targa/exp3/padding_160*90_val/T/T97.jpg\n",
      "/home/tang/targa/exp3/padding_160*90_val/T/T98.jpg\n",
      "/home/tang/targa/exp3/padding_160*90_val/T/T99.jpg\n",
      "/home/tang/targa/exp3/padding_160*90_val/T/T100.jpg\n",
      "/home/tang/targa/exp3/padding_160*90_val/T/T101.jpg\n",
      "/home/tang/targa/exp3/padding_160*90_val/T/T102.jpg\n",
      "/home/tang/targa/exp3/padding_160*90_val/T/T103.jpg\n",
      "/home/tang/targa/exp3/padding_160*90_val/T/T104.jpg\n",
      "/home/tang/targa/exp3/padding_160*90_val/T/T105.jpg\n",
      "/home/tang/targa/exp3/padding_160*90_val/Z/Z106.jpg\n",
      "/home/tang/targa/exp3/padding_160*90_val/Z/Z107.jpg\n",
      "/home/tang/targa/exp3/padding_160*90_val/Z/Z108.jpg\n",
      "/home/tang/targa/exp3/padding_160*90_val/Z/Z109.jpg\n",
      "/home/tang/targa/exp3/padding_160*90_val/Z/Z110.jpg\n",
      "/home/tang/targa/exp3/padding_160*90_val/Z/Z111.jpg\n",
      "/home/tang/targa/exp3/padding_160*90_val/Z/Z112.jpg\n",
      "/home/tang/targa/exp3/padding_160*90_val/Z/Z113.jpg\n",
      "/home/tang/targa/exp3/padding_160*90_val/Z/Z114.jpg\n",
      "/home/tang/targa/exp3/padding_160*90_val/Z/Z115.jpg\n",
      "/home/tang/targa/exp3/padding_160*90_val/Z/Z116.jpg\n",
      "/home/tang/targa/exp3/padding_160*90_val/Z/Z117.jpg\n",
      "/home/tang/targa/exp3/padding_160*90_val/Z/Z118.jpg\n",
      "/home/tang/targa/exp3/padding_160*90_val/Z/Z119.jpg\n",
      "/home/tang/targa/exp3/padding_160*90_val/Z/Z120.jpg\n",
      "/home/tang/targa/exp3/padding_160*90_val/Z/Z121.jpg\n",
      "/home/tang/targa/exp3/padding_160*90_val/Z/Z122.jpg\n",
      "/home/tang/targa/exp3/padding_160*90_val/P/P123.jpg\n",
      "/home/tang/targa/exp3/padding_160*90_val/P/P124.jpg\n",
      "/home/tang/targa/exp3/padding_160*90_val/P/P125.jpg\n",
      "/home/tang/targa/exp3/padding_160*90_val/P/P126.jpg\n",
      "/home/tang/targa/exp3/padding_160*90_val/P/P127.jpg\n",
      "/home/tang/targa/exp3/padding_160*90_val/P/P128.jpg\n",
      "/home/tang/targa/exp3/padding_160*90_val/P/P129.jpg\n",
      "/home/tang/targa/exp3/padding_160*90_val/P/P130.jpg\n",
      "/home/tang/targa/exp3/padding_160*90_val/P/P131.jpg\n",
      "/home/tang/targa/exp3/padding_160*90_val/P/P132.jpg\n",
      "/home/tang/targa/exp3/padding_160*90_val/P/P133.jpg\n",
      "/home/tang/targa/exp3/padding_160*90_val/P/P134.jpg\n",
      "/home/tang/targa/exp3/padding_160*90_val/K/K135.jpg\n",
      "/home/tang/targa/exp3/padding_160*90_val/K/K136.jpg\n",
      "/home/tang/targa/exp3/padding_160*90_val/K/K137.jpg\n",
      "/home/tang/targa/exp3/padding_160*90_val/K/K138.jpg\n",
      "/home/tang/targa/exp3/padding_160*90_val/K/K139.jpg\n",
      "/home/tang/targa/exp3/padding_160*90_val/K/K140.jpg\n",
      "/home/tang/targa/exp3/padding_160*90_val/K/K141.jpg\n",
      "/home/tang/targa/exp3/padding_160*90_val/K/K142.jpg\n",
      "/home/tang/targa/exp3/padding_160*90_val/K/K143.jpg\n",
      "/home/tang/targa/exp3/padding_160*90_val/K/K144.jpg\n",
      "/home/tang/targa/exp3/padding_160*90_val/K/K145.jpg\n",
      "/home/tang/targa/exp3/padding_160*90_val/K/K146.jpg\n",
      "/home/tang/targa/exp3/padding_160*90_val/C/C147.jpg\n",
      "/home/tang/targa/exp3/padding_160*90_val/C/C148.jpg\n",
      "/home/tang/targa/exp3/padding_160*90_val/C/C149.jpg\n",
      "/home/tang/targa/exp3/padding_160*90_val/C/C150.jpg\n",
      "/home/tang/targa/exp3/padding_160*90_val/C/C151.jpg\n",
      "/home/tang/targa/exp3/padding_160*90_val/C/C152.jpg\n",
      "/home/tang/targa/exp3/padding_160*90_val/C/C153.jpg\n",
      "/home/tang/targa/exp3/padding_160*90_val/C/C154.jpg\n",
      "/home/tang/targa/exp3/padding_160*90_val/C/C155.jpg\n",
      "/home/tang/targa/exp3/padding_160*90_val/C/C156.jpg\n",
      "/home/tang/targa/exp3/padding_160*90_val/C/C157.jpg\n",
      "/home/tang/targa/exp3/padding_160*90_val/C/C158.jpg\n",
      "/home/tang/targa/exp3/padding_160*90_val/F/F159.jpg\n",
      "/home/tang/targa/exp3/padding_160*90_val/F/F160.jpg\n",
      "/home/tang/targa/exp3/padding_160*90_val/F/F161.jpg\n",
      "/home/tang/targa/exp3/padding_160*90_val/F/F162.jpg\n",
      "/home/tang/targa/exp3/padding_160*90_val/F/F163.jpg\n",
      "/home/tang/targa/exp3/padding_160*90_val/F/F164.jpg\n",
      "/home/tang/targa/exp3/padding_160*90_val/F/F165.jpg\n",
      "/home/tang/targa/exp3/padding_160*90_val/F/F166.jpg\n",
      "/home/tang/targa/exp3/padding_160*90_val/F/F167.jpg\n",
      "/home/tang/targa/exp3/padding_160*90_val/F/F168.jpg\n",
      "/home/tang/targa/exp3/padding_160*90_val/F/F169.jpg\n",
      "/home/tang/targa/exp3/padding_160*90_val/F/F170.jpg\n",
      "/home/tang/targa/exp3/padding_160*90_val/N/N171.jpg\n",
      "/home/tang/targa/exp3/padding_160*90_val/N/N172.jpg\n",
      "/home/tang/targa/exp3/padding_160*90_val/N/N173.jpg\n",
      "/home/tang/targa/exp3/padding_160*90_val/N/N174.jpg\n",
      "/home/tang/targa/exp3/padding_160*90_val/N/N175.jpg\n",
      "/home/tang/targa/exp3/padding_160*90_val/N/N176.jpg\n",
      "/home/tang/targa/exp3/padding_160*90_val/N/N177.jpg\n",
      "/home/tang/targa/exp3/padding_160*90_val/N/N178.jpg\n",
      "/home/tang/targa/exp3/padding_160*90_val/N/N179.jpg\n",
      "/home/tang/targa/exp3/padding_160*90_val/N/N180.jpg\n",
      "/home/tang/targa/exp3/padding_160*90_val/N/N181.jpg\n",
      "/home/tang/targa/exp3/padding_160*90_val/N/N182.jpg\n",
      "/home/tang/targa/exp3/padding_160*90_val/W/W183.jpg\n",
      "/home/tang/targa/exp3/padding_160*90_val/W/W184.jpg\n",
      "/home/tang/targa/exp3/padding_160*90_val/W/W185.jpg\n",
      "/home/tang/targa/exp3/padding_160*90_val/W/W186.jpg\n",
      "/home/tang/targa/exp3/padding_160*90_val/W/W187.jpg\n",
      "/home/tang/targa/exp3/padding_160*90_val/W/W188.jpg\n",
      "/home/tang/targa/exp3/padding_160*90_val/W/W189.jpg\n",
      "/home/tang/targa/exp3/padding_160*90_val/W/W190.jpg\n",
      "/home/tang/targa/exp3/padding_160*90_val/W/W191.jpg\n",
      "/home/tang/targa/exp3/padding_160*90_val/W/W192.jpg\n",
      "/home/tang/targa/exp3/padding_160*90_val/W/W193.jpg\n",
      "/home/tang/targa/exp3/padding_160*90_val/W/W194.jpg\n"
     ]
    },
    {
     "name": "stdout",
     "output_type": "stream",
     "text": [
      "/home/tang/targa/exp3/padding_160*90_val/9/9195.jpg\n",
      "/home/tang/targa/exp3/padding_160*90_val/9/9196.jpg\n",
      "/home/tang/targa/exp3/padding_160*90_val/9/9197.jpg\n",
      "/home/tang/targa/exp3/padding_160*90_val/9/9198.jpg\n",
      "/home/tang/targa/exp3/padding_160*90_val/9/9199.jpg\n",
      "/home/tang/targa/exp3/padding_160*90_val/9/9200.jpg\n",
      "/home/tang/targa/exp3/padding_160*90_val/9/9201.jpg\n",
      "/home/tang/targa/exp3/padding_160*90_val/9/9202.jpg\n",
      "/home/tang/targa/exp3/padding_160*90_val/9/9203.jpg\n",
      "/home/tang/targa/exp3/padding_160*90_val/9/9204.jpg\n",
      "/home/tang/targa/exp3/padding_160*90_val/9/9205.jpg\n",
      "/home/tang/targa/exp3/padding_160*90_val/9/9206.jpg\n",
      "/home/tang/targa/exp3/padding_160*90_val/Y/Y207.jpg\n",
      "/home/tang/targa/exp3/padding_160*90_val/Y/Y208.jpg\n",
      "/home/tang/targa/exp3/padding_160*90_val/Y/Y209.jpg\n",
      "/home/tang/targa/exp3/padding_160*90_val/Y/Y210.jpg\n",
      "/home/tang/targa/exp3/padding_160*90_val/Y/Y211.jpg\n",
      "/home/tang/targa/exp3/padding_160*90_val/Y/Y212.jpg\n",
      "/home/tang/targa/exp3/padding_160*90_val/Y/Y213.jpg\n",
      "/home/tang/targa/exp3/padding_160*90_val/Y/Y214.jpg\n",
      "/home/tang/targa/exp3/padding_160*90_val/Y/Y215.jpg\n",
      "/home/tang/targa/exp3/padding_160*90_val/Y/Y216.jpg\n",
      "/home/tang/targa/exp3/padding_160*90_val/Y/Y217.jpg\n",
      "/home/tang/targa/exp3/padding_160*90_val/Y/Y218.jpg\n",
      "/home/tang/targa/exp3/padding_160*90_val/1/1219.jpg\n",
      "/home/tang/targa/exp3/padding_160*90_val/1/1220.jpg\n",
      "/home/tang/targa/exp3/padding_160*90_val/1/1221.jpg\n",
      "/home/tang/targa/exp3/padding_160*90_val/1/1222.jpg\n",
      "/home/tang/targa/exp3/padding_160*90_val/1/1223.jpg\n",
      "/home/tang/targa/exp3/padding_160*90_val/1/1224.jpg\n",
      "/home/tang/targa/exp3/padding_160*90_val/1/1225.jpg\n",
      "/home/tang/targa/exp3/padding_160*90_val/1/1226.jpg\n",
      "/home/tang/targa/exp3/padding_160*90_val/1/1227.jpg\n",
      "/home/tang/targa/exp3/padding_160*90_val/1/1228.jpg\n",
      "/home/tang/targa/exp3/padding_160*90_val/1/1229.jpg\n",
      "/home/tang/targa/exp3/padding_160*90_val/1/1230.jpg\n",
      "/home/tang/targa/exp3/padding_160*90_val/3/3231.jpg\n",
      "/home/tang/targa/exp3/padding_160*90_val/3/3232.jpg\n",
      "/home/tang/targa/exp3/padding_160*90_val/3/3233.jpg\n",
      "/home/tang/targa/exp3/padding_160*90_val/3/3234.jpg\n",
      "/home/tang/targa/exp3/padding_160*90_val/3/3235.jpg\n",
      "/home/tang/targa/exp3/padding_160*90_val/3/3236.jpg\n",
      "/home/tang/targa/exp3/padding_160*90_val/3/3237.jpg\n",
      "/home/tang/targa/exp3/padding_160*90_val/3/3238.jpg\n",
      "/home/tang/targa/exp3/padding_160*90_val/3/3239.jpg\n",
      "/home/tang/targa/exp3/padding_160*90_val/3/3240.jpg\n",
      "/home/tang/targa/exp3/padding_160*90_val/3/3241.jpg\n",
      "/home/tang/targa/exp3/padding_160*90_val/3/3242.jpg\n",
      "/home/tang/targa/exp3/padding_160*90_val/3/3243.jpg\n",
      "/home/tang/targa/exp3/padding_160*90_val/3/3244.jpg\n",
      "/home/tang/targa/exp3/padding_160*90_val/3/3245.jpg\n",
      "/home/tang/targa/exp3/padding_160*90_val/3/3246.jpg\n",
      "/home/tang/targa/exp3/padding_160*90_val/3/3247.jpg\n",
      "/home/tang/targa/exp3/padding_160*90_val/4/4248.jpg\n",
      "/home/tang/targa/exp3/padding_160*90_val/4/4249.jpg\n",
      "/home/tang/targa/exp3/padding_160*90_val/4/4250.jpg\n",
      "/home/tang/targa/exp3/padding_160*90_val/4/4251.jpg\n",
      "/home/tang/targa/exp3/padding_160*90_val/4/4252.jpg\n",
      "/home/tang/targa/exp3/padding_160*90_val/4/4253.jpg\n",
      "/home/tang/targa/exp3/padding_160*90_val/4/4254.jpg\n",
      "/home/tang/targa/exp3/padding_160*90_val/4/4255.jpg\n",
      "/home/tang/targa/exp3/padding_160*90_val/4/4256.jpg\n",
      "/home/tang/targa/exp3/padding_160*90_val/4/4257.jpg\n",
      "/home/tang/targa/exp3/padding_160*90_val/4/4258.jpg\n",
      "/home/tang/targa/exp3/padding_160*90_val/4/4259.jpg\n",
      "/home/tang/targa/exp3/padding_160*90_val/R/R260.jpg\n",
      "/home/tang/targa/exp3/padding_160*90_val/R/R261.jpg\n",
      "/home/tang/targa/exp3/padding_160*90_val/R/R262.jpg\n",
      "/home/tang/targa/exp3/padding_160*90_val/R/R263.jpg\n",
      "/home/tang/targa/exp3/padding_160*90_val/R/R264.jpg\n",
      "/home/tang/targa/exp3/padding_160*90_val/R/R265.jpg\n",
      "/home/tang/targa/exp3/padding_160*90_val/R/R266.jpg\n",
      "/home/tang/targa/exp3/padding_160*90_val/R/R267.jpg\n",
      "/home/tang/targa/exp3/padding_160*90_val/R/R268.jpg\n",
      "/home/tang/targa/exp3/padding_160*90_val/R/R269.jpg\n",
      "/home/tang/targa/exp3/padding_160*90_val/R/R270.jpg\n",
      "/home/tang/targa/exp3/padding_160*90_val/R/R271.jpg\n",
      "/home/tang/targa/exp3/padding_160*90_val/5/5272.jpg\n",
      "/home/tang/targa/exp3/padding_160*90_val/5/5273.jpg\n",
      "/home/tang/targa/exp3/padding_160*90_val/5/5274.jpg\n",
      "/home/tang/targa/exp3/padding_160*90_val/5/5275.jpg\n",
      "/home/tang/targa/exp3/padding_160*90_val/5/5276.jpg\n",
      "/home/tang/targa/exp3/padding_160*90_val/5/5277.jpg\n",
      "/home/tang/targa/exp3/padding_160*90_val/5/5278.jpg\n",
      "/home/tang/targa/exp3/padding_160*90_val/5/5279.jpg\n",
      "/home/tang/targa/exp3/padding_160*90_val/5/5280.jpg\n",
      "/home/tang/targa/exp3/padding_160*90_val/5/5281.jpg\n",
      "/home/tang/targa/exp3/padding_160*90_val/5/5282.jpg\n",
      "/home/tang/targa/exp3/padding_160*90_val/5/5283.jpg\n",
      "/home/tang/targa/exp3/padding_160*90_val/G/G284.jpg\n",
      "/home/tang/targa/exp3/padding_160*90_val/G/G285.jpg\n",
      "/home/tang/targa/exp3/padding_160*90_val/G/G286.jpg\n",
      "/home/tang/targa/exp3/padding_160*90_val/G/G287.jpg\n",
      "/home/tang/targa/exp3/padding_160*90_val/G/G288.jpg\n",
      "/home/tang/targa/exp3/padding_160*90_val/G/G289.jpg\n",
      "/home/tang/targa/exp3/padding_160*90_val/G/G290.jpg\n",
      "/home/tang/targa/exp3/padding_160*90_val/G/G291.jpg\n",
      "/home/tang/targa/exp3/padding_160*90_val/G/G292.jpg\n",
      "/home/tang/targa/exp3/padding_160*90_val/G/G293.jpg\n",
      "/home/tang/targa/exp3/padding_160*90_val/G/G294.jpg\n",
      "/home/tang/targa/exp3/padding_160*90_val/G/G295.jpg\n",
      "/home/tang/targa/exp3/padding_160*90_val/V/V296.jpg\n",
      "/home/tang/targa/exp3/padding_160*90_val/V/V297.jpg\n",
      "/home/tang/targa/exp3/padding_160*90_val/V/V298.jpg\n",
      "/home/tang/targa/exp3/padding_160*90_val/V/V299.jpg\n",
      "/home/tang/targa/exp3/padding_160*90_val/V/V300.jpg\n",
      "/home/tang/targa/exp3/padding_160*90_val/V/V301.jpg\n",
      "/home/tang/targa/exp3/padding_160*90_val/V/V302.jpg\n",
      "/home/tang/targa/exp3/padding_160*90_val/V/V303.jpg\n",
      "/home/tang/targa/exp3/padding_160*90_val/V/V304.jpg\n",
      "/home/tang/targa/exp3/padding_160*90_val/V/V305.jpg\n",
      "/home/tang/targa/exp3/padding_160*90_val/V/V306.jpg\n",
      "/home/tang/targa/exp3/padding_160*90_val/V/V307.jpg\n",
      "/home/tang/targa/exp3/padding_160*90_val/V/V308.jpg\n",
      "/home/tang/targa/exp3/padding_160*90_val/V/V309.jpg\n",
      "/home/tang/targa/exp3/padding_160*90_val/V/V310.jpg\n",
      "/home/tang/targa/exp3/padding_160*90_val/V/V311.jpg\n",
      "/home/tang/targa/exp3/padding_160*90_val/V/V312.jpg\n",
      "/home/tang/targa/exp3/padding_160*90_val/6/6313.jpg\n",
      "/home/tang/targa/exp3/padding_160*90_val/6/6314.jpg\n",
      "/home/tang/targa/exp3/padding_160*90_val/6/6315.jpg\n",
      "/home/tang/targa/exp3/padding_160*90_val/6/6316.jpg\n",
      "/home/tang/targa/exp3/padding_160*90_val/6/6317.jpg\n",
      "/home/tang/targa/exp3/padding_160*90_val/6/6318.jpg\n",
      "/home/tang/targa/exp3/padding_160*90_val/6/6319.jpg\n",
      "/home/tang/targa/exp3/padding_160*90_val/6/6320.jpg\n",
      "/home/tang/targa/exp3/padding_160*90_val/6/6321.jpg\n",
      "/home/tang/targa/exp3/padding_160*90_val/6/6322.jpg\n",
      "/home/tang/targa/exp3/padding_160*90_val/6/6323.jpg\n",
      "/home/tang/targa/exp3/padding_160*90_val/6/6324.jpg\n",
      "/home/tang/targa/exp3/padding_160*90_val/0/0325.jpg\n",
      "/home/tang/targa/exp3/padding_160*90_val/0/0326.jpg\n",
      "/home/tang/targa/exp3/padding_160*90_val/0/0327.jpg\n",
      "/home/tang/targa/exp3/padding_160*90_val/0/0328.jpg\n",
      "/home/tang/targa/exp3/padding_160*90_val/0/0329.jpg\n",
      "/home/tang/targa/exp3/padding_160*90_val/0/0330.jpg\n",
      "/home/tang/targa/exp3/padding_160*90_val/0/0331.jpg\n",
      "/home/tang/targa/exp3/padding_160*90_val/0/0332.jpg\n",
      "/home/tang/targa/exp3/padding_160*90_val/0/0333.jpg\n",
      "/home/tang/targa/exp3/padding_160*90_val/0/0334.jpg\n",
      "/home/tang/targa/exp3/padding_160*90_val/0/0335.jpg\n",
      "/home/tang/targa/exp3/padding_160*90_val/0/0336.jpg\n",
      "/home/tang/targa/exp3/padding_160*90_val/0/0337.jpg\n",
      "/home/tang/targa/exp3/padding_160*90_val/D/D338.jpg\n",
      "/home/tang/targa/exp3/padding_160*90_val/D/D339.jpg\n",
      "/home/tang/targa/exp3/padding_160*90_val/D/D340.jpg\n",
      "/home/tang/targa/exp3/padding_160*90_val/D/D341.jpg\n",
      "/home/tang/targa/exp3/padding_160*90_val/D/D342.jpg\n",
      "/home/tang/targa/exp3/padding_160*90_val/D/D343.jpg\n",
      "/home/tang/targa/exp3/padding_160*90_val/D/D344.jpg\n",
      "/home/tang/targa/exp3/padding_160*90_val/D/D345.jpg\n",
      "/home/tang/targa/exp3/padding_160*90_val/D/D346.jpg\n",
      "/home/tang/targa/exp3/padding_160*90_val/D/D347.jpg\n",
      "/home/tang/targa/exp3/padding_160*90_val/D/D348.jpg\n",
      "/home/tang/targa/exp3/padding_160*90_val/D/D349.jpg\n",
      "/home/tang/targa/exp3/padding_160*90_val/M/M350.jpg\n",
      "/home/tang/targa/exp3/padding_160*90_val/M/M351.jpg\n",
      "/home/tang/targa/exp3/padding_160*90_val/M/M352.jpg\n",
      "/home/tang/targa/exp3/padding_160*90_val/M/M353.jpg\n",
      "/home/tang/targa/exp3/padding_160*90_val/M/M354.jpg\n",
      "/home/tang/targa/exp3/padding_160*90_val/M/M355.jpg\n",
      "/home/tang/targa/exp3/padding_160*90_val/M/M356.jpg\n",
      "/home/tang/targa/exp3/padding_160*90_val/M/M357.jpg\n",
      "/home/tang/targa/exp3/padding_160*90_val/M/M358.jpg\n",
      "/home/tang/targa/exp3/padding_160*90_val/M/M359.jpg\n",
      "/home/tang/targa/exp3/padding_160*90_val/M/M360.jpg\n",
      "/home/tang/targa/exp3/padding_160*90_val/M/M361.jpg\n",
      "/home/tang/targa/exp3/padding_160*90_val/X/X362.jpg\n",
      "/home/tang/targa/exp3/padding_160*90_val/X/X363.jpg\n",
      "/home/tang/targa/exp3/padding_160*90_val/X/X364.jpg\n",
      "/home/tang/targa/exp3/padding_160*90_val/X/X365.jpg\n",
      "/home/tang/targa/exp3/padding_160*90_val/X/X366.jpg\n",
      "/home/tang/targa/exp3/padding_160*90_val/X/X367.jpg\n",
      "/home/tang/targa/exp3/padding_160*90_val/X/X368.jpg\n",
      "/home/tang/targa/exp3/padding_160*90_val/X/X369.jpg\n",
      "/home/tang/targa/exp3/padding_160*90_val/X/X370.jpg\n",
      "/home/tang/targa/exp3/padding_160*90_val/X/X371.jpg\n",
      "/home/tang/targa/exp3/padding_160*90_val/X/X372.jpg\n",
      "/home/tang/targa/exp3/padding_160*90_val/X/X373.jpg\n",
      "/home/tang/targa/exp3/padding_160*90_val/8/8374.jpg\n",
      "/home/tang/targa/exp3/padding_160*90_val/8/8375.jpg\n",
      "/home/tang/targa/exp3/padding_160*90_val/8/8376.jpg\n",
      "/home/tang/targa/exp3/padding_160*90_val/8/8377.jpg\n",
      "/home/tang/targa/exp3/padding_160*90_val/8/8378.jpg\n",
      "/home/tang/targa/exp3/padding_160*90_val/8/8379.jpg\n",
      "/home/tang/targa/exp3/padding_160*90_val/8/8380.jpg\n",
      "/home/tang/targa/exp3/padding_160*90_val/8/8381.jpg\n",
      "/home/tang/targa/exp3/padding_160*90_val/8/8382.jpg\n",
      "/home/tang/targa/exp3/padding_160*90_val/8/8383.jpg\n",
      "/home/tang/targa/exp3/padding_160*90_val/8/8384.jpg\n",
      "/home/tang/targa/exp3/padding_160*90_val/8/8385.jpg\n",
      "/home/tang/targa/exp3/padding_160*90_val/2/2386.jpg\n",
      "/home/tang/targa/exp3/padding_160*90_val/2/2387.jpg\n",
      "/home/tang/targa/exp3/padding_160*90_val/2/2388.jpg\n",
      "/home/tang/targa/exp3/padding_160*90_val/2/2389.jpg\n",
      "/home/tang/targa/exp3/padding_160*90_val/2/2390.jpg\n"
     ]
    },
    {
     "name": "stdout",
     "output_type": "stream",
     "text": [
      "/home/tang/targa/exp3/padding_160*90_val/2/2391.jpg\n",
      "/home/tang/targa/exp3/padding_160*90_val/2/2392.jpg\n",
      "/home/tang/targa/exp3/padding_160*90_val/2/2393.jpg\n",
      "/home/tang/targa/exp3/padding_160*90_val/2/2394.jpg\n",
      "/home/tang/targa/exp3/padding_160*90_val/2/2395.jpg\n",
      "/home/tang/targa/exp3/padding_160*90_val/2/2396.jpg\n",
      "/home/tang/targa/exp3/padding_160*90_val/2/2397.jpg\n",
      "/home/tang/targa/exp3/padding_160*90_val/H/H398.jpg\n",
      "/home/tang/targa/exp3/padding_160*90_val/H/H399.jpg\n",
      "/home/tang/targa/exp3/padding_160*90_val/H/H400.jpg\n",
      "/home/tang/targa/exp3/padding_160*90_val/H/H401.jpg\n",
      "/home/tang/targa/exp3/padding_160*90_val/H/H402.jpg\n",
      "/home/tang/targa/exp3/padding_160*90_val/H/H403.jpg\n",
      "/home/tang/targa/exp3/padding_160*90_val/H/H404.jpg\n",
      "/home/tang/targa/exp3/padding_160*90_val/H/H405.jpg\n",
      "/home/tang/targa/exp3/padding_160*90_val/H/H406.jpg\n",
      "/home/tang/targa/exp3/padding_160*90_val/H/H407.jpg\n",
      "/home/tang/targa/exp3/padding_160*90_val/H/H408.jpg\n",
      "/home/tang/targa/exp3/padding_160*90_val/H/H409.jpg\n",
      "/home/tang/targa/exp3/padding_160*90_val/H/H410.jpg\n"
     ]
    }
   ],
   "source": [
    "i=0\n",
    "for p in range(0,len(Labels)):\n",
    "    \n",
    "    img = Images[i]\n",
    "    img_with_border = cv2.copyMakeBorder(img, top, bottom, left, right, cv2.BORDER_CONSTANT, value=color)\n",
    "    \n",
    "    \n",
    "    filename=test_data_directory+ '/' + Labels[i] + '/' + Labels[i]+str(i)+'.jpg'\n",
    "    plt.imsave(filename, img_with_border)\n",
    "    print(filename)\n",
    "    i+=1"
   ]
  },
  {
   "cell_type": "code",
   "execution_count": 38,
   "metadata": {},
   "outputs": [
    {
     "data": {
      "text/plain": [
       "<matplotlib.image.AxesImage at 0x7f4d1ec35f98>"
      ]
     },
     "execution_count": 38,
     "metadata": {},
     "output_type": "execute_result"
    },
    {
     "data": {
      "image/png": "[encoded data removed]",
      "text/plain": [
       "<Figure size 432x288 with 1 Axes>"
      ]
     },
     "metadata": {},
     "output_type": "display_data"
    }
   ],
   "source": [
    "plt.imshow(img)"
   ]
  },
  {
   "cell_type": "code",
   "execution_count": 11,
   "metadata": {},
   "outputs": [
    {
     "data": {
      "text/plain": [
       "(16, 8, 3)"
      ]
     },
     "execution_count": 11,
     "metadata": {},
     "output_type": "execute_result"
    }
   ],
   "source": [
    "img.shape"
   ]
  },
  {
   "cell_type": "code",
   "execution_count": null,
   "metadata": {},
   "outputs": [],
   "source": []
  },
  {
   "cell_type": "code",
   "execution_count": null,
   "metadata": {},
   "outputs": [],
   "source": []
  },
  {
   "cell_type": "code",
   "execution_count": 12,
   "metadata": {},
   "outputs": [
    {
     "data": {
      "text/plain": [
       "(160, 90, 3)"
      ]
     },
     "execution_count": 12,
     "metadata": {},
     "output_type": "execute_result"
    }
   ],
   "source": [
    "img_with_border.shape"
   ]
  },
  {
   "cell_type": "code",
   "execution_count": 13,
   "metadata": {},
   "outputs": [
    {
     "data": {
      "text/plain": [
       "(72, 72, 41, 41)"
      ]
     },
     "execution_count": 13,
     "metadata": {},
     "output_type": "execute_result"
    }
   ],
   "source": [
    "top,bottom,left,right"
   ]
  },
  {
   "cell_type": "code",
   "execution_count": 14,
   "metadata": {},
   "outputs": [
    {
     "data": {
      "text/plain": [
       "<matplotlib.image.AxesImage at 0x7f6d1b54ecf8>"
      ]
     },
     "execution_count": 14,
     "metadata": {},
     "output_type": "execute_result"
    },
    {
     "data": {
      "image/png": "[encoded data removed]",
      "text/plain": [
       "<Figure size 432x288 with 1 Axes>"
      ]
     },
     "metadata": {},
     "output_type": "display_data"
    }
   ],
   "source": [
    "plt.imshow(img_with_border)"
   ]
  },
  {
   "cell_type": "code",
   "execution_count": null,
   "metadata": {},
   "outputs": [],
   "source": []
  }
 ],
 "metadata": {
  "kernelspec": {
   "display_name": "Python 3",
   "language": "python",
   "name": "python3"
  },
  "language_info": {
   "codemirror_mode": {
    "name": "ipython",
    "version": 3
   },
   "file_extension": ".py",
   "mimetype": "text/x-python",
   "name": "python",
   "nbconvert_exporter": "python",
   "pygments_lexer": "ipython3",
   "version": "3.5.2"
  }
 },
 "nbformat": 4,
 "nbformat_minor": 2
}
