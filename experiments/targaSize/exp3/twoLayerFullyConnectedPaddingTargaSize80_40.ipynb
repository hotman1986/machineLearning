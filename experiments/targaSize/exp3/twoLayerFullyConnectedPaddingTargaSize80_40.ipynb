{
 "cells": [
  {
   "cell_type": "code",
   "execution_count": 1,
   "metadata": {},
   "outputs": [
    {
     "name": "stderr",
     "output_type": "stream",
     "text": [
      "/usr/local/lib/python3.5/dist-packages/h5py/__init__.py:36: FutureWarning: Conversion of the second argument of issubdtype from `float` to `np.floating` is deprecated. In future, it will be treated as `np.float64 == np.dtype(float).type`.\n",
      "  from ._conv import register_converters as _register_converters\n"
     ]
    }
   ],
   "source": [
    "%matplotlib inline\n",
    "import matplotlib.pyplot as plt\n",
    "import tensorflow as tf\n",
    "import numpy as np\n",
    "from sklearn.metrics import confusion_matrix"
   ]
  },
  {
   "cell_type": "code",
   "execution_count": 2,
   "metadata": {},
   "outputs": [],
   "source": [
    "HEIGHT = 80\n",
    "WIDTH = 40"
   ]
  },
  {
   "cell_type": "code",
   "execution_count": 3,
   "metadata": {},
   "outputs": [
    {
     "name": "stderr",
     "output_type": "stream",
     "text": [
      "Using TensorFlow backend.\n"
     ]
    }
   ],
   "source": [
    "#!/usr/bin/python3\n",
    "# -*- coding: utf-8 -*-\n",
    "from __future__ import division, print_function, unicode_literals\n",
    "import tensorflow as tf\n",
    "from time import time\n",
    "from keras.utils import np_utils#one hot\n",
    "import os\n",
    "from skimage import data\n",
    "from skimage import transform\n",
    "import skimage\n",
    "import numpy as np\n",
    "\n",
    "# Download the dataset\n",
    "\n",
    "\n",
    "def load_data(data_directory):\n",
    "    directories = [d for d in os.listdir(data_directory) \n",
    "                  if os.path.isdir(os.path.join(data_directory,d))]\n",
    "    labels=[]\n",
    "    images=[]\n",
    "    for d in directories:\n",
    "        label_directory = os.path.join(data_directory,d)\n",
    "        file_names = [os.path.join(label_directory,f)\n",
    "                     for f in os.listdir(label_directory)\n",
    "                     if f.endswith('.jpg')]\n",
    "        for f in file_names:\n",
    "            images.append(skimage.data.imread(f))\n",
    "            labels.append(str(d))\n",
    "    return images, labels"
   ]
  },
  {
   "cell_type": "code",
   "execution_count": 4,
   "metadata": {},
   "outputs": [],
   "source": [
    "ROOT_PATH = '/home/tang/targa/exp3/'\n",
    "train_data_directory = os.path.join(ROOT_PATH, \"padding80_40/train\")\n",
    "#validation_data_directory = os.path.join(ROOT_PATH, \"16_8_1568_train\") 16_8_4448_train  16_8_1248_train \n",
    "\n",
    "test_data_directory = os.path.join(ROOT_PATH, \"padding80_40/test\")"
   ]
  },
  {
   "cell_type": "code",
   "execution_count": 5,
   "metadata": {},
   "outputs": [],
   "source": [
    "train_images,train_labels = load_data(train_data_directory)\n",
    "test_images,test_labels = load_data(test_data_directory)\n"
   ]
  },
  {
   "cell_type": "code",
   "execution_count": 6,
   "metadata": {},
   "outputs": [],
   "source": [
    "#encoding trY teY\n",
    "from numpy import array\n",
    "#from numpy import argmax\n",
    "#from keras.utils import to_categorical\n",
    "from numpy import array\n",
    "from numpy import argmax\n",
    "from sklearn.preprocessing import LabelEncoder\n",
    "from sklearn.preprocessing import OneHotEncoder\n",
    "# define example\n",
    "\n",
    "#train_labels = np_utils.to_categorical(train_labels,num_classes = None)\n",
    "#test_labels = np_utils.to_categorical(test_labels,num_classes = None)\n",
    "trL,teL=array(train_labels),array(test_labels)\n",
    "label_encoder = LabelEncoder()"
   ]
  },
  {
   "cell_type": "code",
   "execution_count": 7,
   "metadata": {},
   "outputs": [],
   "source": [
    "integer_encoded_trL = label_encoder.fit_transform(trL)\n",
    "integer_encoded_teL = label_encoder.fit_transform(teL)\n"
   ]
  },
  {
   "cell_type": "code",
   "execution_count": 8,
   "metadata": {},
   "outputs": [],
   "source": [
    "trainLabels = np_utils.to_categorical(integer_encoded_trL,num_classes = 32)\n",
    "testLabels = np_utils.to_categorical(integer_encoded_teL,num_classes = 32)\n"
   ]
  },
  {
   "cell_type": "code",
   "execution_count": 9,
   "metadata": {},
   "outputs": [],
   "source": [
    "########convert rgb images into black and white\n",
    "#convert images into size of vector\n",
    "from skimage.color import rgb2gray\n",
    "\n",
    "trainImages = rgb2gray(np.array(train_images))\n",
    "testImages = rgb2gray(np.array(test_images))\n",
    "\n",
    "train_flat_images = np.reshape(trainImages,(len(trainImages),HEIGHT*WIDTH))\n",
    "test_flat_images = np.reshape(testImages,(len(testImages),HEIGHT*WIDTH))\n"
   ]
  },
  {
   "cell_type": "code",
   "execution_count": 10,
   "metadata": {},
   "outputs": [
    {
     "data": {
      "text/plain": [
       "(3200,)"
      ]
     },
     "execution_count": 10,
     "metadata": {},
     "output_type": "execute_result"
    }
   ],
   "source": [
    "train_flat_images[0].shape"
   ]
  },
  {
   "cell_type": "code",
   "execution_count": 11,
   "metadata": {},
   "outputs": [
    {
     "name": "stdout",
     "output_type": "stream",
     "text": [
      "train images shape:\t\t(1246, 3200)\n",
      "test images shape:\t\t(411, 3200)\n"
     ]
    }
   ],
   "source": [
    "print('train images shape:\\t\\t{}'.format(train_flat_images.shape))\n",
    "\n",
    "print('test images shape:\\t\\t{}'.format(test_flat_images.shape))\n",
    "\n"
   ]
  },
  {
   "cell_type": "code",
   "execution_count": 12,
   "metadata": {},
   "outputs": [],
   "source": [
    "batch_size = 100\n",
    "n_batch = len(trainLabels)//batch_size\n",
    "lr = tf.Variable(0.001,dtype = tf.float32)"
   ]
  },
  {
   "cell_type": "code",
   "execution_count": 13,
   "metadata": {},
   "outputs": [],
   "source": [
    "def variable_summaries(var):\n",
    "    with tf.name_scope('summaries'):\n",
    "        mean = tf.reduce_mean(var)\n",
    "        tf.summary.scalar('mean',mean) # 平均值\n",
    "        with tf.name_scope('stddev'):\n",
    "            stddev = tf.sqrt(tf.reduce_mean(tf.square(var-mean)))\n",
    "        tf.summary.scalar('stddev',stddev)\n",
    "        tf.summary.scalar('max',tf.reduce_max(var))\n",
    "        tf.summary.scalar('min',tf.reduce_min(var))\n",
    "        tf.summary.histogram('histgram',var) # 直方图"
   ]
  },
  {
   "cell_type": "code",
   "execution_count": 14,
   "metadata": {},
   "outputs": [
    {
     "name": "stdout",
     "output_type": "stream",
     "text": [
      "WARNING:tensorflow:From <ipython-input-14-cab0e107001a>:66: softmax_cross_entropy_with_logits (from tensorflow.python.ops.nn_ops) is deprecated and will be removed in a future version.\n",
      "Instructions for updating:\n",
      "\n",
      "Future major versions of TensorFlow will allow gradients to flow\n",
      "into the labels input on backprop by default.\n",
      "\n",
      "See tf.nn.softmax_cross_entropy_with_logits_v2.\n",
      "\n"
     ]
    }
   ],
   "source": [
    "\n",
    "#命名空间\n",
    "with tf.name_scope('input'):\n",
    "    #定义两个placeholder \n",
    "    #把批次的图片传进去，开始是100张一次的传送，直到最后\n",
    "    x = tf.placeholder(tf.float32,[None,WIDTH*HEIGHT],name='x-input')\n",
    "    y = tf.placeholder(tf.float32,[None,32],name='y-input')\n",
    "    #定义一个dropout的值\n",
    "    keep_prob = tf.placeholder(tf.float32,name = 'non-dropout-rate')\n",
    "with tf.name_scope('layer'):\n",
    "    with tf.name_scope('W1'):\n",
    "        #第一层\n",
    "        W1 = tf.Variable(tf.truncated_normal([WIDTH*HEIGHT,50],stddev=0.1),name='W1')#改成截断正太分布\n",
    "    with tf.name_scope('b1'):\n",
    "        \n",
    "        b1 = tf.Variable(tf.zeros([50])+0.1,name = 'b1')\n",
    "    with tf.name_scope('out1'):\n",
    "        \n",
    "        output1 = tf.matmul(x,W1) + b1\n",
    "    with tf.name_scope('L1'):\n",
    "        L1 = tf.nn.tanh(output1)\n",
    "    with tf.name_scope('L1-drop'):\n",
    "        #L1为第一层的输出，keep_prob为1的话就是不丢失，如果为0的话就是全丢，如果为0.5的话就是丢失50%的神经元\n",
    "        L1_drop = tf.nn.dropout(L1,keep_prob)\n",
    "\n",
    "    '''\n",
    "    with tf.name_scope('W2'):\n",
    "        #第二层\n",
    "        W2 = tf.Variable(tf.truncated_normal([1000,2000],stddev=0.1),name='W2')\n",
    "    with tf.name_scope('b2'):\n",
    "        b2 = tf.Variable(tf.zeros([2000])+0.2,name='b2')\n",
    "    with tf.name_scope('output2'):\n",
    "        output2 = tf.matmul(L1_drop,W2)+b2\n",
    "    with tf.name_scope('L2'):\n",
    "        \n",
    "        L2 = tf.nn.tanh(output2)\n",
    "    with tf.name_scope('L2_drop'):\n",
    "        #L1为第一层的输出，keep_prob为1的话就是不丢失，如果为0的话就是全丢，如果为0.5的话就是丢失50%的神经元\n",
    "        L2_drop = tf.nn.dropout(L2,keep_prob)\n",
    "\n",
    "    with tf.name_scope('W3'):\n",
    "        #第三层\n",
    "        W3 = tf.Variable(tf.truncated_normal([2000,1000],stddev=0.1),name='W3')\n",
    "    with tf.name_scope('b3'):\n",
    "        b3 = tf.Variable(tf.zeros([1000])+0.1,name='b3')\n",
    "    with tf.name_scope('output3'):   \n",
    "        output3 = tf.matmul(L2_drop,W3)+b3\n",
    "    with tf.name_scope('L3'):\n",
    "        L3 = tf.nn.tanh(output3)\n",
    "    with tf.name_scope('L3-drop'):\n",
    "        #L1为第一层的输出，keep_prob为1的话就是不丢失，如果为0的话就是全丢，如果为0.5的话就是丢失50%的神经元\n",
    "        L3_drop = tf.nn.dropout(L3,keep_prob)\n",
    "        '''\n",
    "    with tf.name_scope('W4'):\n",
    "    #第四层\n",
    "        W4 = tf.Variable(tf.truncated_normal([50,32],stddev=0.1))\n",
    "    with tf.name_scope('b4'):        \n",
    "        b4 = tf.Variable(tf.zeros([32])+0.1)\n",
    "    with tf.name_scope('output4'):\n",
    "        output4 = tf.matmul(L1_drop,W4)+ b4\n",
    "    with tf.name_scope('softmax'):\n",
    "        #预测分类\n",
    "        prediction = tf.nn.softmax(output4)\n",
    "with tf.name_scope('loss'):\n",
    "    #定义一个损失函数\n",
    "    loss = tf.reduce_mean(tf.nn.softmax_cross_entropy_with_logits(labels=y,logits = prediction))#联合交叉熵\n",
    "    tf.summary.scalar('cross_entropy',loss)\n",
    "    #loss = tf.reduce_mean(tf.square(y-prediction))\n",
    "with tf.name_scope('train'):\n",
    "    #定义一个方法来收敛神经网络，使用梯度下降法,学习率=0.1\n",
    "    train_step = tf.train.GradientDescentOptimizer(0.1).minimize(loss)\n",
    "    #train_step = tf.train.AdamOptimizer(0.1).minimize(loss)\n",
    "#初始化\n",
    "init = tf.global_variables_initializer()\n",
    "with tf.name_scope('accuracy'):\n",
    "    with tf.name_scope('correct-prediction'):\n",
    "        #定义一个求准确率的方法\n",
    "        #如果有两个相同的就会返回TRUE，不相同就返回false，然后就依次存入correct_prediction\n",
    "        correct_prediction = tf.equal(tf.argmax(y,1),tf.argmax(prediction,1))#argmax返回一维张量中的最大值\n",
    "    with tf.name_scope('accuracy'):    \n",
    "        #求准确率\n",
    "        #首先把bool值转化成32位的浮点数，然后求平均值\n",
    "        accuracy = tf.reduce_mean(tf.cast(correct_prediction,tf.float32))\n",
    "        tf.summary.scalar('accuracy',accuracy)"
   ]
  },
  {
   "cell_type": "code",
   "execution_count": 15,
   "metadata": {},
   "outputs": [],
   "source": [
    "merged = tf.summary.merge_all()"
   ]
  },
  {
   "cell_type": "code",
   "execution_count": 16,
   "metadata": {},
   "outputs": [],
   "source": [
    "def next_batch(num, data, labels):\n",
    "    '''\n",
    "    Return a total of `num` random samples and labels. \n",
    "    '''\n",
    "    idx = np.arange(0 , len(data))\n",
    "    np.random.shuffle(idx)\n",
    "    idx = idx[:num]\n",
    "    data_shuffle = [data[ i] for i in idx]\n",
    "    labels_shuffle = [labels[ i] for i in idx]\n",
    "\n",
    "    return np.asarray(data_shuffle), np.asarray(labels_shuffle)"
   ]
  },
  {
   "cell_type": "code",
   "execution_count": 25,
   "metadata": {},
   "outputs": [
    {
     "name": "stdout",
     "output_type": "stream",
     "text": [
      "epoch=0,train accuracy=0.032905295,test accuracy=0.03406326,train loss=3.4657185,test loss=3.465906\n",
      "epoch=2000,train accuracy=0.6163724,test accuracy=0.3917275,train loss=2.915501,test loss=3.1250217\n",
      "epoch=4000,train accuracy=0.6268058,test accuracy=0.42092457,train loss=2.8949435,test loss=3.0990343\n",
      "epoch=6000,train accuracy=0.6340289,test accuracy=0.43065694,train loss=2.88451,test loss=3.0919094\n",
      "epoch=8000,train accuracy=0.6396469,test accuracy=0.43552312,train loss=2.877661,test loss=3.0848136\n",
      "epoch=10000,train accuracy=0.64285713,test accuracy=0.43309003,train loss=2.8739893,test loss=3.0849116\n",
      "epoch=12000,train accuracy=0.6436597,test accuracy=0.43309003,train loss=2.8726618,test loss=3.084624\n",
      "epoch=14000,train accuracy=0.6436597,test accuracy=0.43309003,train loss=2.8721633,test loss=3.0849116\n",
      "epoch=16000,train accuracy=0.6436597,test accuracy=0.43309003,train loss=2.871915,test loss=3.0850482\n",
      "epoch=18000,train accuracy=0.6436597,test accuracy=0.43065694,train loss=2.871683,test loss=3.0855606\n",
      "epoch=20000,train accuracy=0.6444623,test accuracy=0.43065694,train loss=2.870715,test loss=3.085566\n",
      "epoch=22000,train accuracy=0.6444623,test accuracy=0.42822385,train loss=2.8704014,test loss=3.0859303\n",
      "epoch=24000,train accuracy=0.6444623,test accuracy=0.42822385,train loss=2.870141,test loss=3.0858192\n",
      "epoch=26000,train accuracy=0.64526486,test accuracy=0.43065694,train loss=2.8697822,test loss=3.0852292\n",
      "epoch=28000,train accuracy=0.64606744,test accuracy=0.42822385,train loss=2.8688064,test loss=3.084788\n",
      "epoch=30000,train accuracy=0.64686996,test accuracy=0.43309003,train loss=2.867952,test loss=3.0849962\n",
      "epoch=32000,train accuracy=0.64686996,test accuracy=0.43065694,train loss=2.8676934,test loss=3.0855\n",
      "epoch=34000,train accuracy=0.676565,test accuracy=0.4379562,train loss=2.839467,test loss=3.0779731\n",
      "epoch=36000,train accuracy=0.67736757,test accuracy=0.43552312,train loss=2.8382425,test loss=3.0798223\n",
      "epoch=38000,train accuracy=0.67736757,test accuracy=0.43552312,train loss=2.837633,test loss=3.0797794\n",
      "epoch=40000,train accuracy=0.6982344,test accuracy=0.4452555,train loss=2.8174357,test loss=3.0690806\n",
      "epoch=42000,train accuracy=0.7046549,test accuracy=0.45012164,train loss=2.8108757,test loss=3.06261\n",
      "epoch=44000,train accuracy=0.70626,test accuracy=0.45498782,train loss=2.8094437,test loss=3.0600836\n",
      "epoch=46000,train accuracy=0.70626,test accuracy=0.459854,train loss=2.8090012,test loss=3.0573614\n",
      "epoch=48000,train accuracy=0.70866776,test accuracy=0.4622871,train loss=2.8068113,test loss=3.0565476\n",
      "epoch=50000,train accuracy=0.70947033,test accuracy=0.4622871,train loss=2.8059702,test loss=3.056942\n",
      "epoch=52000,train accuracy=0.70947033,test accuracy=0.4622871,train loss=2.8058374,test loss=3.0568838\n",
      "epoch=54000,train accuracy=0.71027285,test accuracy=0.4622871,train loss=2.8051026,test loss=3.0567327\n",
      "epoch=56000,train accuracy=0.7110754,test accuracy=0.4647202,train loss=2.8041546,test loss=3.0545053\n",
      "epoch=58000,train accuracy=0.711878,test accuracy=0.4647202,train loss=2.8033724,test loss=3.0541325\n",
      "epoch=60000,train accuracy=0.7126806,test accuracy=0.46715328,train loss=2.802523,test loss=3.0535488\n",
      "epoch=62000,train accuracy=0.71428573,test accuracy=0.4647202,train loss=2.8010225,test loss=3.0523438\n",
      "epoch=64000,train accuracy=0.71428573,test accuracy=0.4647202,train loss=2.8009436,test loss=3.0530627\n",
      "epoch=66000,train accuracy=0.71428573,test accuracy=0.4622871,train loss=2.800905,test loss=3.0536158\n",
      "epoch=68000,train accuracy=0.71428573,test accuracy=0.459854,train loss=2.8008528,test loss=3.0530355\n",
      "epoch=70000,train accuracy=0.71428573,test accuracy=0.4622871,train loss=2.8008423,test loss=3.0532298\n",
      "epoch=72000,train accuracy=0.71428573,test accuracy=0.459854,train loss=2.8008015,test loss=3.052659\n",
      "epoch=74000,train accuracy=0.7158908,test accuracy=0.4622871,train loss=2.7993345,test loss=3.0500581\n",
      "epoch=76000,train accuracy=0.7166934,test accuracy=0.4622871,train loss=2.7984364,test loss=3.0497668\n",
      "epoch=78000,train accuracy=0.7166934,test accuracy=0.4622871,train loss=2.7983835,test loss=3.0498743\n",
      "epoch=80000,train accuracy=0.7166934,test accuracy=0.4647202,train loss=2.798349,test loss=3.05004\n",
      "epoch=82000,train accuracy=0.7166934,test accuracy=0.4622871,train loss=2.7983346,test loss=3.0499241\n",
      "epoch=84000,train accuracy=0.717496,test accuracy=0.4622871,train loss=2.797451,test loss=3.0510385\n",
      "epoch=86000,train accuracy=0.7391653,test accuracy=0.47445256,train loss=2.7761977,test loss=3.0404913\n",
      "epoch=88000,train accuracy=0.7431782,test accuracy=0.47445256,train loss=2.7724924,test loss=3.0382953\n",
      "epoch=90000,train accuracy=0.77367574,test accuracy=0.4939173,train loss=2.7435896,test loss=3.0221274\n",
      "epoch=92000,train accuracy=0.7776886,test accuracy=0.4939173,train loss=2.7385051,test loss=3.019436\n",
      "epoch=94000,train accuracy=0.7776886,test accuracy=0.4939173,train loss=2.7383795,test loss=3.0196352\n",
      "epoch=96000,train accuracy=0.7776886,test accuracy=0.49635038,train loss=2.7383633,test loss=3.0193799\n",
      "epoch=98000,train accuracy=0.7776886,test accuracy=0.49635038,train loss=2.738304,test loss=3.0193908\n",
      "epoch=100000,train accuracy=0.7776886,test accuracy=0.4939173,train loss=2.738269,test loss=3.0193067\n",
      "epoch=102000,train accuracy=0.7776886,test accuracy=0.49635038,train loss=2.7382433,test loss=3.0185997\n",
      "epoch=104000,train accuracy=0.7776886,test accuracy=0.49635038,train loss=2.7381434,test loss=3.0189502\n",
      "epoch=106000,train accuracy=0.7784912,test accuracy=0.49878347,train loss=2.737534,test loss=3.0158427\n",
      "epoch=108000,train accuracy=0.7784912,test accuracy=0.49878347,train loss=2.7371619,test loss=3.0162868\n",
      "epoch=110000,train accuracy=0.7792937,test accuracy=0.49635038,train loss=2.736641,test loss=3.0158074\n",
      "epoch=112000,train accuracy=0.7800963,test accuracy=0.50121653,train loss=2.7359016,test loss=3.0149715\n",
      "epoch=114000,train accuracy=0.7800963,test accuracy=0.50121653,train loss=2.735839,test loss=3.0152223\n",
      "epoch=116000,train accuracy=0.7800963,test accuracy=0.50121653,train loss=2.7358634,test loss=3.0143027\n",
      "epoch=118000,train accuracy=0.7800963,test accuracy=0.49878347,train loss=2.7357821,test loss=3.0147507\n",
      "epoch=120000,train accuracy=0.78089887,test accuracy=0.50364965,train loss=2.7353644,test loss=3.0145981\n",
      "epoch=122000,train accuracy=0.78089887,test accuracy=0.50121653,train loss=2.7348642,test loss=3.0141382\n",
      "epoch=124000,train accuracy=0.78170145,test accuracy=0.49878347,train loss=2.734221,test loss=3.0153866\n",
      "epoch=126000,train accuracy=0.78170145,test accuracy=0.50364965,train loss=2.7341554,test loss=3.0143318\n",
      "epoch=128000,train accuracy=0.78170145,test accuracy=0.49635038,train loss=2.7341285,test loss=3.0153143\n",
      "epoch=130000,train accuracy=0.78170145,test accuracy=0.49878347,train loss=2.7341053,test loss=3.0154595\n",
      "epoch=132000,train accuracy=0.782504,test accuracy=0.50121653,train loss=2.7333162,test loss=3.01479\n",
      "epoch=134000,train accuracy=0.7833066,test accuracy=0.49635038,train loss=2.7325752,test loss=3.0156105\n",
      "epoch=136000,train accuracy=0.7833066,test accuracy=0.49878347,train loss=2.7323432,test loss=3.016738\n",
      "epoch=138000,train accuracy=0.7841092,test accuracy=0.50121653,train loss=2.7315428,test loss=3.0154724\n",
      "epoch=140000,train accuracy=0.7849117,test accuracy=0.49878347,train loss=2.7309322,test loss=3.0155685\n",
      "epoch=142000,train accuracy=0.7849117,test accuracy=0.50121653,train loss=2.7309015,test loss=3.0145905\n",
      "epoch=144000,train accuracy=0.7849117,test accuracy=0.49878347,train loss=2.7308712,test loss=3.0144951\n",
      "epoch=146000,train accuracy=0.7849117,test accuracy=0.49878347,train loss=2.730848,test loss=3.0144043\n",
      "epoch=148000,train accuracy=0.7849117,test accuracy=0.50121653,train loss=2.7308693,test loss=3.0140364\n",
      "epoch=150000,train accuracy=0.78571427,test accuracy=0.49878347,train loss=2.7301662,test loss=3.0136504\n",
      "epoch=152000,train accuracy=0.78571427,test accuracy=0.50121653,train loss=2.730127,test loss=3.0133927\n",
      "epoch=154000,train accuracy=0.78571427,test accuracy=0.50364965,train loss=2.7300382,test loss=3.0125651\n",
      "epoch=156000,train accuracy=0.78571427,test accuracy=0.50364965,train loss=2.730072,test loss=3.012298\n",
      "epoch=158000,train accuracy=0.78571427,test accuracy=0.50364965,train loss=2.7300491,test loss=3.0135257\n"
     ]
    },
    {
     "name": "stdout",
     "output_type": "stream",
     "text": [
      "epoch=160000,train accuracy=0.78571427,test accuracy=0.50364965,train loss=2.730013,test loss=3.0130413\n",
      "epoch=162000,train accuracy=0.78571427,test accuracy=0.49878347,train loss=2.7300184,test loss=3.0123413\n",
      "epoch=164000,train accuracy=0.78571427,test accuracy=0.50121653,train loss=2.7300158,test loss=3.0131412\n",
      "epoch=166000,train accuracy=0.78571427,test accuracy=0.50121653,train loss=2.730004,test loss=3.0136998\n",
      "epoch=168000,train accuracy=0.78571427,test accuracy=0.50364965,train loss=2.7300053,test loss=3.011305\n",
      "epoch=170000,train accuracy=0.78571427,test accuracy=0.49878347,train loss=2.730006,test loss=3.0138056\n",
      "epoch=172000,train accuracy=0.78571427,test accuracy=0.50121653,train loss=2.7300167,test loss=3.0125985\n",
      "epoch=174000,train accuracy=0.78571427,test accuracy=0.50364965,train loss=2.7300136,test loss=3.0123653\n",
      "epoch=176000,train accuracy=0.78571427,test accuracy=0.50121653,train loss=2.7300012,test loss=3.0127134\n",
      "epoch=178000,train accuracy=0.78571427,test accuracy=0.50364965,train loss=2.7299676,test loss=3.0115225\n",
      "epoch=180000,train accuracy=0.78571427,test accuracy=0.50121653,train loss=2.7299826,test loss=3.013116\n",
      "epoch=182000,train accuracy=0.78651685,test accuracy=0.50121653,train loss=2.7296612,test loss=3.0121632\n",
      "epoch=184000,train accuracy=0.78651685,test accuracy=0.49878347,train loss=2.7291873,test loss=3.0129797\n",
      "epoch=186000,train accuracy=0.7873194,test accuracy=0.50121653,train loss=2.7284348,test loss=3.0126433\n",
      "epoch=188000,train accuracy=0.7873194,test accuracy=0.50121653,train loss=2.7284176,test loss=3.0132813\n",
      "epoch=190000,train accuracy=0.7873194,test accuracy=0.49878347,train loss=2.7284083,test loss=3.0130122\n",
      "epoch=192000,train accuracy=0.788122,test accuracy=0.49878347,train loss=2.727658,test loss=3.013498\n",
      "epoch=194000,train accuracy=0.788122,test accuracy=0.49878347,train loss=2.7276192,test loss=3.0131724\n",
      "epoch=196000,train accuracy=0.788122,test accuracy=0.49878347,train loss=2.7276404,test loss=3.0135098\n",
      "epoch=198000,train accuracy=0.788122,test accuracy=0.49878347,train loss=2.7276244,test loss=3.0135834\n",
      "epoch=200000,train accuracy=0.788122,test accuracy=0.50121653,train loss=2.727585,test loss=3.0128574\n"
     ]
    }
   ],
   "source": [
    "with tf.Session() as sess:\n",
    "    sess.run(init)\n",
    "    #路径和文件名\n",
    "    train_writer = tf.summary.FileWriter('logs/padding80*40targa/train',sess.graph)\n",
    "   \n",
    "    test_writer = tf.summary.FileWriter('logs/padding80*40targa/test',sess.graph)\n",
    "    for epoch in range(200001):#把所有的图片训练20次\n",
    "        #一批一批的迭代图片，一次迭代100张，一共运行n_batch次\n",
    "        for batch in range(n_batch):\n",
    "            #每次传入一百张图片\n",
    "            batch_xs,batch_ys = next_batch(batch_size,train_flat_images,trainLabels)\n",
    "            sess.run(train_step,feed_dict={x:batch_xs,y:batch_ys,keep_prob:0.7})\n",
    "        train_batch_xs,train_batch_ys = train_flat_images,trainLabels\n",
    "        summary = sess.run(merged,feed_dict={x:train_batch_xs,y:train_batch_ys,keep_prob:1.0})           \n",
    "        train_writer.add_summary(summary,epoch)\n",
    "            \n",
    "        test_batch_xs,test_batch_ys = test_flat_images,testLabels\n",
    "        summary = sess.run(merged,feed_dict={x:test_batch_xs,y:test_batch_ys,keep_prob:1.0})\n",
    "        test_writer.add_summary(summary,epoch)  \n",
    "        \n",
    "        test_acc = sess.run(accuracy,feed_dict={x:test_flat_images,y:testLabels,keep_prob:1.0})        \n",
    "        train_acc = sess.run(accuracy,feed_dict={x:train_flat_images,y:trainLabels,keep_prob:1.0})\n",
    "        test_loss = sess.run(loss,feed_dict={x:test_flat_images,y:testLabels,keep_prob:1.0}) \n",
    "        train_loss = sess.run(loss,feed_dict={x:train_flat_images,y:trainLabels,keep_prob:1.0})\n",
    "        if epoch%2000 == 0:\n",
    "            \n",
    "            print('epoch=' + str(epoch) + ',train accuracy='+ str(train_acc)+',test accuracy=' + str(test_acc)+',train loss='+str(train_loss)+',test loss='+str(test_loss))"
   ]
  },
  {
   "cell_type": "code",
   "execution_count": null,
   "metadata": {},
   "outputs": [],
   "source": []
  }
 ],
 "metadata": {
  "kernelspec": {
   "display_name": "Python 3",
   "language": "python",
   "name": "python3"
  },
  "language_info": {
   "codemirror_mode": {
    "name": "ipython",
    "version": 3
   },
   "file_extension": ".py",
   "mimetype": "text/x-python",
   "name": "python",
   "nbconvert_exporter": "python",
   "pygments_lexer": "ipython3",
   "version": "3.5.2"
  }
 },
 "nbformat": 4,
 "nbformat_minor": 2
}
