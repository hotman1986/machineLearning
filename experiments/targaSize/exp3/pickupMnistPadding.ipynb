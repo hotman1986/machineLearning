{
 "cells": [
  {
   "cell_type": "code",
   "execution_count": 15,
   "metadata": {},
   "outputs": [],
   "source": [
    "import cv2\n",
    "import os\n",
    "import skimage\n",
    "from skimage import data\n",
    "from skimage import transform\n",
    "import PIL\n",
    "from PIL import Image\n",
    "import numpy as np\n",
    "import matplotlib.pyplot as plt\n",
    "import random\n",
    "from random import randint\n",
    "import tensorflow as tf\n",
    "from scipy import ndimage, misc\n",
    "from skimage.transform import rotate\n",
    "HEIGHT=28\n",
    "WIDTH=28\n",
    "CLASSNUMBER = 10\n",
    "TRAIN_CLASS_NUMBER =55\n",
    "TEST_CLASS_NUMBER=10\n",
    "VALIDATION_CLASS_NUMBER = 5\n",
    "TRAIN_DATA_NUMBER = CLASSNUMBER * TRAIN_CLASS_NUMBER\n",
    "TEST_DATA_NUMBER = CLASSNUMBER*TEST_CLASS_NUMBER\n",
    "VALIDATION_DATA_NUMBER = CLASSNUMBER * VALIDATION_CLASS_NUMBER\n",
    "totalImages = 0\n",
    "total_train_images=0\n",
    "total_test_images=0"
   ]
  },
  {
   "cell_type": "code",
   "execution_count": null,
   "metadata": {},
   "outputs": [],
   "source": [
    "from tensorflow.examples.tutorials.mnist import input_data\n",
    "\n",
    "\n",
    "#载入数据集\n",
    "mnist = input_data.read_data_sets('MNIST_data',one_hot = True)#当前路径，‘’可以选择存放路径"
   ]
  },
  {
   "cell_type": "code",
   "execution_count": null,
   "metadata": {},
   "outputs": [],
   "source": [
    "def next_batch(num, data, labels):\n",
    "    '''\n",
    "    Return a total of `num` random samples and labels. \n",
    "    '''\n",
    "    idx = np.arange(0 , len(data))\n",
    "    np.random.shuffle(idx)\n",
    "    idx = idx[:num]\n",
    "    data_shuffle = [data[ i] for i in idx]\n",
    "    labels_shuffle = [labels[ i] for i in idx]\n",
    "\n",
    "    return np.asarray(data_shuffle), np.asarray(labels_shuffle)"
   ]
  },
  {
   "cell_type": "code",
   "execution_count": null,
   "metadata": {},
   "outputs": [],
   "source": [
    "ROOT_PATH = '/home/tang/targa/exp3/mnist_padding/'\n",
    "train_data_directory = os.path.join(ROOT_PATH, \"train\")\n",
    "validation_data_directory = os.path.join(ROOT_PATH, \"validation\")\n",
    "test_data_directory = os.path.join(ROOT_PATH, \"test\")"
   ]
  },
  {
   "cell_type": "code",
   "execution_count": null,
   "metadata": {},
   "outputs": [],
   "source": [
    "train_data_load_directory = os.path.join(ROOT_PATH,'pickForTrain')\n",
    "validation_data_load_directory = os.path.join(ROOT_PATH,'pickForValidation')\n",
    "test_data_load_directory = os.path.join(ROOT_PATH,'pickupForTest')"
   ]
  },
  {
   "cell_type": "code",
   "execution_count": null,
   "metadata": {},
   "outputs": [],
   "source": [
    "from tensorflow.examples.tutorials.mnist import input_data\n",
    "mnist = input_data.read_data_sets('MNIST_data',one_hot = True)\n",
    "mnistNoOnehot = input_data.read_data_sets('MNIST_data')"
   ]
  },
  {
   "cell_type": "code",
   "execution_count": null,
   "metadata": {},
   "outputs": [],
   "source": [
    "X_train = mnist.train.images*255\n",
    "Y_train = mnist.train.labels\n",
    "X_val = mnist.validation.images*255\n",
    "Y_val = mnist.validation.labels\n",
    "X_test = mnist.test.images*255\n",
    "Y_test = mnist.test.labels"
   ]
  },
  {
   "cell_type": "code",
   "execution_count": null,
   "metadata": {},
   "outputs": [],
   "source": [
    "print(\"Size of:\")\n",
    "print(\"- Training-set:\\t\\t{}\".format(len(X_train)))\n",
    "print(\"- Validation-set:\\t{}\".format(len(X_val)))\n",
    "print(\"- Test-set:\\t\\t{}\".format(len(X_test)))"
   ]
  },
  {
   "cell_type": "code",
   "execution_count": null,
   "metadata": {},
   "outputs": [],
   "source": [
    "Y_test[0]"
   ]
  },
  {
   "cell_type": "code",
   "execution_count": null,
   "metadata": {},
   "outputs": [],
   "source": [
    "X_train_reshape = np.reshape(X_train,(55000,28,28))\n",
    "Y_train_reshape = mnistNoOnehot.train.labels\n",
    "X_test_reshape = np.reshape(X_test,(10000,28,28))\n",
    "Y_test_reshape = mnistNoOnehot.test.labels\n",
    "X_val_reshape = np.reshape(X_val,(5000,28,28))\n",
    "Y_val_reshape = mnistNoOnehot.validation.labels"
   ]
  },
  {
   "cell_type": "code",
   "execution_count": null,
   "metadata": {},
   "outputs": [],
   "source": [
    "##############sampling data for training\n",
    "load_train_images = X_train_reshape\n",
    "load_train_labels = Y_train_reshape"
   ]
  },
  {
   "cell_type": "code",
   "execution_count": null,
   "metadata": {},
   "outputs": [],
   "source": [
    "count=0\n",
    "for x in range(0,TRAIN_DATA_NUMBER):\n",
    "    img = load_train_images[x]\n",
    "    filename=train_data_load_directory+'/'+str(load_train_labels[x])+'/'+str(load_train_labels[x])+'-'+str(x)+'.jpg'\n",
    "    plt.imsave(filename,img)\n",
    "    print(filename)\n",
    "    count+=1\n",
    "    print('training images = '+str(count))"
   ]
  },
  {
   "cell_type": "code",
   "execution_count": null,
   "metadata": {},
   "outputs": [],
   "source": [
    "#################sampling data for testing\n",
    "load_test_images = X_test_reshape\n",
    "load_test_labels = Y_test_reshape\n",
    "count=0\n",
    "for x in range(0,TEST_DATA_NUMBER):\n",
    "    img = load_test_images[x]\n",
    "    filename=test_data_load_directory+'/'+str(load_test_labels[x])+'/'+str(load_test_labels[x])+'-'+str(x)+'.jpg'\n",
    "    plt.imsave(filename,img)\n",
    "    print(filename)\n",
    "    count+=1\n",
    "    print('testing images = '+str(count))"
   ]
  },
  {
   "cell_type": "code",
   "execution_count": null,
   "metadata": {},
   "outputs": [],
   "source": [
    "#################sampling data for validation\n",
    "load_validation_images = X_val_reshape\n",
    "load_validation_labels = Y_val_reshape\n",
    "count=0\n",
    "for x in range(0,VALIDATION_DATA_NUMBER):\n",
    "    img = load_test_images[x]\n",
    "    filename=validation_data_load_directory+'/'+str(load_validation_labels[x])+'/'+str(load_validation_labels[x])+'-'+str(x)+'.jpg'\n",
    "    plt.imsave(filename,img)\n",
    "    print(filename)\n",
    "    count+=1\n",
    "    print('testing images = '+str(count))"
   ]
  },
  {
   "cell_type": "code",
   "execution_count": 17,
   "metadata": {},
   "outputs": [],
   "source": [
    "#################sampling data for enlarge\n",
    "train_images=load_train_images\n",
    "train_labels = load_train_labels\n",
    "validation_images=load_validation_images\n",
    "validation_labels = load_validation_labels\n",
    "test_images = load_test_images\n",
    "test_labels = load_test_labels"
   ]
  },
  {
   "cell_type": "code",
   "execution_count": 18,
   "metadata": {},
   "outputs": [],
   "source": [
    "RESIZED_HEIGHT = 160\n",
    "RESIZED_WIDTH = 160\n",
    "from PIL import Image, ImageOps\n",
    "from skimage.transform import PiecewiseAffineTransform, warp\n",
    "top, bottom = [int((RESIZED_HEIGHT-HEIGHT)/2)]*2\n",
    "left, right = [int((RESIZED_WIDTH-WIDTH)/2)]*2\n",
    "\n",
    "color = [0,0,0]"
   ]
  },
  {
   "cell_type": "code",
   "execution_count": null,
   "metadata": {},
   "outputs": [],
   "source": [
    "i=0\n",
    "for p in range(0,TRAIN_DATA_NUMBER):\n",
    "    img = train_images[i]\n",
    "    img_with_border_train = cv2.copyMakeBorder(img, top, bottom, left, right, cv2.BORDER_CONSTANT, value=color)\n",
    "        \n",
    "    filename=train_data_directory+'/'+str(train_labels[i])+'/'+ str(train_labels[i])+'_'+str(i)+'.jpg'\n",
    "    plt.imsave(filename, img_with_border_train)        \n",
    "    print(filename)\n",
    "    i+=1"
   ]
  },
  {
   "cell_type": "code",
   "execution_count": null,
   "metadata": {},
   "outputs": [],
   "source": [
    "i=0\n",
    "for p in range(0,VALIDATION_DATA_NUMBER):\n",
    "    img = validation_images[i]\n",
    "    img_with_border_validation = cv2.copyMakeBorder(img, top, bottom, left, right, cv2.BORDER_CONSTANT, value=color)\n",
    "        \n",
    "    filename=validation_data_directory+'/'+str(validation_labels[i])+'/'+ str(validation_labels[i])+'_'+str(i)+'.jpg'\n",
    "    plt.imsave(filename, img_with_border_validation)  \n",
    "    print(filename)\n",
    "    i+=1"
   ]
  },
  {
   "cell_type": "code",
   "execution_count": null,
   "metadata": {},
   "outputs": [],
   "source": [
    "i=0\n",
    "for p in range(0,TEST_DATA_NUMBER):\n",
    "    img = test_images[i]\n",
    "    img_with_border_test = cv2.copyMakeBorder(img, top, bottom, left, right, cv2.BORDER_CONSTANT, value=color)\n",
    "    \n",
    "    filename=test_data_directory+'/'+str(test_labels[i])+'/'+ str(test_labels[i])+'_'+str(i)+'.jpg'\n",
    "    plt.imsave(filename, img_with_border_test)\n",
    "        \n",
    "    print(filename)\n",
    "    i+=1\n"
   ]
  },
  {
   "cell_type": "code",
   "execution_count": 31,
   "metadata": {
    "scrolled": true
   },
   "outputs": [
    {
     "data": {
      "text/plain": [
       "<matplotlib.image.AxesImage at 0x7ffb9bb50278>"
      ]
     },
     "execution_count": 31,
     "metadata": {},
     "output_type": "execute_result"
    },
    {
     "data": {
      "image/png": "[encoded data removed]",
      "text/plain": [
       "<Figure size 432x288 with 1 Axes>"
      ]
     },
     "metadata": {},
     "output_type": "display_data"
    }
   ],
   "source": [
    "plt.imshow(img)"
   ]
  },
  {
   "cell_type": "code",
   "execution_count": 34,
   "metadata": {},
   "outputs": [
    {
     "data": {
      "text/plain": [
       "<matplotlib.image.AxesImage at 0x7ffb9b442320>"
      ]
     },
     "execution_count": 34,
     "metadata": {},
     "output_type": "execute_result"
    },
    {
     "data": {
      "image/png": "[encoded data removed]",
      "text/plain": [
       "<Figure size 432x288 with 1 Axes>"
      ]
     },
     "metadata": {},
     "output_type": "display_data"
    }
   ],
   "source": [
    "plt.imshow(img_with_border_test)"
   ]
  },
  {
   "cell_type": "code",
   "execution_count": null,
   "metadata": {},
   "outputs": [],
   "source": []
  },
  {
   "cell_type": "code",
   "execution_count": null,
   "metadata": {},
   "outputs": [],
   "source": []
  },
  {
   "cell_type": "code",
   "execution_count": null,
   "metadata": {},
   "outputs": [],
   "source": []
  },
  {
   "cell_type": "code",
   "execution_count": null,
   "metadata": {},
   "outputs": [],
   "source": []
  },
  {
   "cell_type": "code",
   "execution_count": null,
   "metadata": {},
   "outputs": [],
   "source": []
  },
  {
   "cell_type": "code",
   "execution_count": null,
   "metadata": {},
   "outputs": [],
   "source": []
  }
 ],
 "metadata": {
  "kernelspec": {
   "display_name": "Python 3",
   "language": "python",
   "name": "python3"
  },
  "language_info": {
   "codemirror_mode": {
    "name": "ipython",
    "version": 3
   },
   "file_extension": ".py",
   "mimetype": "text/x-python",
   "name": "python",
   "nbconvert_exporter": "python",
   "pygments_lexer": "ipython3",
   "version": "3.5.2"
  }
 },
 "nbformat": 4,
 "nbformat_minor": 2
}
