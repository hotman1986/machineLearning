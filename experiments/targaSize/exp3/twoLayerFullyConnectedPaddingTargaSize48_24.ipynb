{
 "cells": [
  {
   "cell_type": "code",
   "execution_count": 1,
   "metadata": {},
   "outputs": [
    {
     "name": "stderr",
     "output_type": "stream",
     "text": [
      "/usr/local/lib/python3.5/dist-packages/h5py/__init__.py:36: FutureWarning: Conversion of the second argument of issubdtype from `float` to `np.floating` is deprecated. In future, it will be treated as `np.float64 == np.dtype(float).type`.\n",
      "  from ._conv import register_converters as _register_converters\n"
     ]
    }
   ],
   "source": [
    "%matplotlib inline\n",
    "import matplotlib.pyplot as plt\n",
    "import tensorflow as tf\n",
    "import numpy as np\n",
    "from sklearn.metrics import confusion_matrix"
   ]
  },
  {
   "cell_type": "code",
   "execution_count": 2,
   "metadata": {},
   "outputs": [],
   "source": [
    "HEIGHT = 48\n",
    "WIDTH = 24"
   ]
  },
  {
   "cell_type": "code",
   "execution_count": 3,
   "metadata": {},
   "outputs": [
    {
     "name": "stderr",
     "output_type": "stream",
     "text": [
      "Using TensorFlow backend.\n"
     ]
    }
   ],
   "source": [
    "#!/usr/bin/python3\n",
    "# -*- coding: utf-8 -*-\n",
    "from __future__ import division, print_function, unicode_literals\n",
    "import tensorflow as tf\n",
    "from time import time\n",
    "from keras.utils import np_utils#one hot\n",
    "import os\n",
    "from skimage import data\n",
    "from skimage import transform\n",
    "import skimage\n",
    "import numpy as np\n",
    "\n",
    "# Download the dataset\n",
    "\n",
    "\n",
    "def load_data(data_directory):\n",
    "    directories = [d for d in os.listdir(data_directory) \n",
    "                  if os.path.isdir(os.path.join(data_directory,d))]\n",
    "    labels=[]\n",
    "    images=[]\n",
    "    for d in directories:\n",
    "        label_directory = os.path.join(data_directory,d)\n",
    "        file_names = [os.path.join(label_directory,f)\n",
    "                     for f in os.listdir(label_directory)\n",
    "                     if f.endswith('.jpg')]\n",
    "        for f in file_names:\n",
    "            images.append(skimage.data.imread(f))\n",
    "            labels.append(str(d))\n",
    "    return images, labels"
   ]
  },
  {
   "cell_type": "code",
   "execution_count": 4,
   "metadata": {},
   "outputs": [],
   "source": [
    "ROOT_PATH = '/home/tang/targa/exp3/'\n",
    "train_data_directory = os.path.join(ROOT_PATH, \"padding48_24/train\")\n",
    "#validation_data_directory = os.path.join(ROOT_PATH, \"16_8_1568_train\") 16_8_4448_train  16_8_1248_train \n",
    "\n",
    "test_data_directory = os.path.join(ROOT_PATH, \"padding48_24/test\")"
   ]
  },
  {
   "cell_type": "code",
   "execution_count": 5,
   "metadata": {},
   "outputs": [],
   "source": [
    "train_images,train_labels = load_data(train_data_directory)\n",
    "test_images,test_labels = load_data(test_data_directory)\n"
   ]
  },
  {
   "cell_type": "code",
   "execution_count": 6,
   "metadata": {},
   "outputs": [],
   "source": [
    "#encoding trY teY\n",
    "from numpy import array\n",
    "#from numpy import argmax\n",
    "#from keras.utils import to_categorical\n",
    "from numpy import array\n",
    "from numpy import argmax\n",
    "from sklearn.preprocessing import LabelEncoder\n",
    "from sklearn.preprocessing import OneHotEncoder\n",
    "# define example\n",
    "\n",
    "#train_labels = np_utils.to_categorical(train_labels,num_classes = None)\n",
    "#test_labels = np_utils.to_categorical(test_labels,num_classes = None)\n",
    "trL,teL=array(train_labels),array(test_labels)\n",
    "label_encoder = LabelEncoder()"
   ]
  },
  {
   "cell_type": "code",
   "execution_count": 7,
   "metadata": {},
   "outputs": [],
   "source": [
    "integer_encoded_trL = label_encoder.fit_transform(trL)\n",
    "integer_encoded_teL = label_encoder.fit_transform(teL)\n"
   ]
  },
  {
   "cell_type": "code",
   "execution_count": 8,
   "metadata": {},
   "outputs": [],
   "source": [
    "trainLabels = np_utils.to_categorical(integer_encoded_trL,num_classes = 32)\n",
    "testLabels = np_utils.to_categorical(integer_encoded_teL,num_classes = 32)\n"
   ]
  },
  {
   "cell_type": "code",
   "execution_count": 9,
   "metadata": {},
   "outputs": [],
   "source": [
    "########convert rgb images into black and white\n",
    "#convert images into size of vector\n",
    "from skimage.color import rgb2gray\n",
    "\n",
    "trainImages = rgb2gray(np.array(train_images))\n",
    "testImages = rgb2gray(np.array(test_images))\n",
    "\n",
    "train_flat_images = np.reshape(trainImages,(len(trainImages),HEIGHT*WIDTH))\n",
    "test_flat_images = np.reshape(testImages,(len(testImages),HEIGHT*WIDTH))\n"
   ]
  },
  {
   "cell_type": "code",
   "execution_count": 10,
   "metadata": {},
   "outputs": [
    {
     "data": {
      "text/plain": [
       "(1152,)"
      ]
     },
     "execution_count": 10,
     "metadata": {},
     "output_type": "execute_result"
    }
   ],
   "source": [
    "train_flat_images[0].shape"
   ]
  },
  {
   "cell_type": "code",
   "execution_count": 11,
   "metadata": {},
   "outputs": [
    {
     "name": "stdout",
     "output_type": "stream",
     "text": [
      "train images shape:\t\t(1246, 1152)\n",
      "test images shape:\t\t(411, 1152)\n"
     ]
    }
   ],
   "source": [
    "print('train images shape:\\t\\t{}'.format(train_flat_images.shape))\n",
    "\n",
    "print('test images shape:\\t\\t{}'.format(test_flat_images.shape))\n",
    "\n"
   ]
  },
  {
   "cell_type": "code",
   "execution_count": 12,
   "metadata": {},
   "outputs": [],
   "source": [
    "batch_size = 100\n",
    "n_batch = len(trainLabels)//batch_size\n",
    "lr = tf.Variable(0.001,dtype = tf.float32)"
   ]
  },
  {
   "cell_type": "code",
   "execution_count": 13,
   "metadata": {},
   "outputs": [],
   "source": [
    "def variable_summaries(var):\n",
    "    with tf.name_scope('summaries'):\n",
    "        mean = tf.reduce_mean(var)\n",
    "        tf.summary.scalar('mean',mean) # 平均值\n",
    "        with tf.name_scope('stddev'):\n",
    "            stddev = tf.sqrt(tf.reduce_mean(tf.square(var-mean)))\n",
    "        tf.summary.scalar('stddev',stddev)\n",
    "        tf.summary.scalar('max',tf.reduce_max(var))\n",
    "        tf.summary.scalar('min',tf.reduce_min(var))\n",
    "        tf.summary.histogram('histgram',var) # 直方图"
   ]
  },
  {
   "cell_type": "code",
   "execution_count": 14,
   "metadata": {},
   "outputs": [
    {
     "name": "stdout",
     "output_type": "stream",
     "text": [
      "WARNING:tensorflow:From <ipython-input-14-cab0e107001a>:66: softmax_cross_entropy_with_logits (from tensorflow.python.ops.nn_ops) is deprecated and will be removed in a future version.\n",
      "Instructions for updating:\n",
      "\n",
      "Future major versions of TensorFlow will allow gradients to flow\n",
      "into the labels input on backprop by default.\n",
      "\n",
      "See tf.nn.softmax_cross_entropy_with_logits_v2.\n",
      "\n"
     ]
    }
   ],
   "source": [
    "\n",
    "#命名空间\n",
    "with tf.name_scope('input'):\n",
    "    #定义两个placeholder \n",
    "    #把批次的图片传进去，开始是100张一次的传送，直到最后\n",
    "    x = tf.placeholder(tf.float32,[None,WIDTH*HEIGHT],name='x-input')\n",
    "    y = tf.placeholder(tf.float32,[None,32],name='y-input')\n",
    "    #定义一个dropout的值\n",
    "    keep_prob = tf.placeholder(tf.float32,name = 'non-dropout-rate')\n",
    "with tf.name_scope('layer'):\n",
    "    with tf.name_scope('W1'):\n",
    "        #第一层\n",
    "        W1 = tf.Variable(tf.truncated_normal([WIDTH*HEIGHT,50],stddev=0.1),name='W1')#改成截断正太分布\n",
    "    with tf.name_scope('b1'):\n",
    "        \n",
    "        b1 = tf.Variable(tf.zeros([50])+0.1,name = 'b1')\n",
    "    with tf.name_scope('out1'):\n",
    "        \n",
    "        output1 = tf.matmul(x,W1) + b1\n",
    "    with tf.name_scope('L1'):\n",
    "        L1 = tf.nn.tanh(output1)\n",
    "    with tf.name_scope('L1-drop'):\n",
    "        #L1为第一层的输出，keep_prob为1的话就是不丢失，如果为0的话就是全丢，如果为0.5的话就是丢失50%的神经元\n",
    "        L1_drop = tf.nn.dropout(L1,keep_prob)\n",
    "\n",
    "    '''\n",
    "    with tf.name_scope('W2'):\n",
    "        #第二层\n",
    "        W2 = tf.Variable(tf.truncated_normal([1000,2000],stddev=0.1),name='W2')\n",
    "    with tf.name_scope('b2'):\n",
    "        b2 = tf.Variable(tf.zeros([2000])+0.2,name='b2')\n",
    "    with tf.name_scope('output2'):\n",
    "        output2 = tf.matmul(L1_drop,W2)+b2\n",
    "    with tf.name_scope('L2'):\n",
    "        \n",
    "        L2 = tf.nn.tanh(output2)\n",
    "    with tf.name_scope('L2_drop'):\n",
    "        #L1为第一层的输出，keep_prob为1的话就是不丢失，如果为0的话就是全丢，如果为0.5的话就是丢失50%的神经元\n",
    "        L2_drop = tf.nn.dropout(L2,keep_prob)\n",
    "\n",
    "    with tf.name_scope('W3'):\n",
    "        #第三层\n",
    "        W3 = tf.Variable(tf.truncated_normal([2000,1000],stddev=0.1),name='W3')\n",
    "    with tf.name_scope('b3'):\n",
    "        b3 = tf.Variable(tf.zeros([1000])+0.1,name='b3')\n",
    "    with tf.name_scope('output3'):   \n",
    "        output3 = tf.matmul(L2_drop,W3)+b3\n",
    "    with tf.name_scope('L3'):\n",
    "        L3 = tf.nn.tanh(output3)\n",
    "    with tf.name_scope('L3-drop'):\n",
    "        #L1为第一层的输出，keep_prob为1的话就是不丢失，如果为0的话就是全丢，如果为0.5的话就是丢失50%的神经元\n",
    "        L3_drop = tf.nn.dropout(L3,keep_prob)\n",
    "        '''\n",
    "    with tf.name_scope('W4'):\n",
    "    #第四层\n",
    "        W4 = tf.Variable(tf.truncated_normal([50,32],stddev=0.1))\n",
    "    with tf.name_scope('b4'):        \n",
    "        b4 = tf.Variable(tf.zeros([32])+0.1)\n",
    "    with tf.name_scope('output4'):\n",
    "        output4 = tf.matmul(L1_drop,W4)+ b4\n",
    "    with tf.name_scope('softmax'):\n",
    "        #预测分类\n",
    "        prediction = tf.nn.softmax(output4)\n",
    "with tf.name_scope('loss'):\n",
    "    #定义一个损失函数\n",
    "    loss = tf.reduce_mean(tf.nn.softmax_cross_entropy_with_logits(labels=y,logits = prediction))#联合交叉熵\n",
    "    tf.summary.scalar('cross_entropy',loss)\n",
    "    #loss = tf.reduce_mean(tf.square(y-prediction))\n",
    "with tf.name_scope('train'):\n",
    "    #定义一个方法来收敛神经网络，使用梯度下降法,学习率=0.1\n",
    "    train_step = tf.train.GradientDescentOptimizer(0.1).minimize(loss)\n",
    "    #train_step = tf.train.AdamOptimizer(0.1).minimize(loss)\n",
    "#初始化\n",
    "init = tf.global_variables_initializer()\n",
    "with tf.name_scope('accuracy'):\n",
    "    with tf.name_scope('correct-prediction'):\n",
    "        #定义一个求准确率的方法\n",
    "        #如果有两个相同的就会返回TRUE，不相同就返回false，然后就依次存入correct_prediction\n",
    "        correct_prediction = tf.equal(tf.argmax(y,1),tf.argmax(prediction,1))#argmax返回一维张量中的最大值\n",
    "    with tf.name_scope('accuracy'):    \n",
    "        #求准确率\n",
    "        #首先把bool值转化成32位的浮点数，然后求平均值\n",
    "        accuracy = tf.reduce_mean(tf.cast(correct_prediction,tf.float32))\n",
    "        tf.summary.scalar('accuracy',accuracy)"
   ]
  },
  {
   "cell_type": "code",
   "execution_count": 15,
   "metadata": {},
   "outputs": [],
   "source": [
    "merged = tf.summary.merge_all()"
   ]
  },
  {
   "cell_type": "code",
   "execution_count": 16,
   "metadata": {},
   "outputs": [],
   "source": [
    "def next_batch(num, data, labels):\n",
    "    '''\n",
    "    Return a total of `num` random samples and labels. \n",
    "    '''\n",
    "    idx = np.arange(0 , len(data))\n",
    "    np.random.shuffle(idx)\n",
    "    idx = idx[:num]\n",
    "    data_shuffle = [data[ i] for i in idx]\n",
    "    labels_shuffle = [labels[ i] for i in idx]\n",
    "\n",
    "    return np.asarray(data_shuffle), np.asarray(labels_shuffle)"
   ]
  },
  {
   "cell_type": "code",
   "execution_count": 18,
   "metadata": {},
   "outputs": [
    {
     "name": "stdout",
     "output_type": "stream",
     "text": [
      "epoch=0,train accuracy=0.033707865,test accuracy=0.02919708,train loss=3.4655209,test loss=3.4657373\n",
      "epoch=2000,train accuracy=0.56982344,test accuracy=0.40389293,train loss=2.9610088,test loss=3.1260285\n",
      "epoch=4000,train accuracy=0.58266455,test accuracy=0.40632603,train loss=2.9381683,test loss=3.1192493\n",
      "epoch=6000,train accuracy=0.58747995,test accuracy=0.40632603,train loss=2.9309795,test loss=3.115638\n",
      "epoch=8000,train accuracy=0.58908504,test accuracy=0.40632603,train loss=2.928043,test loss=3.1139941\n",
      "epoch=10000,train accuracy=0.59229535,test accuracy=0.40145984,train loss=2.9240286,test loss=3.1139023\n",
      "epoch=12000,train accuracy=0.6139647,test accuracy=0.4136253,train loss=2.9022934,test loss=3.1043806\n",
      "epoch=14000,train accuracy=0.6388443,test accuracy=0.43552312,train loss=2.8778207,test loss=3.0866182\n",
      "epoch=16000,train accuracy=0.64686996,test accuracy=0.43552312,train loss=2.8701208,test loss=3.0825653\n",
      "epoch=18000,train accuracy=0.6484751,test accuracy=0.4379562,train loss=2.8679688,test loss=3.0819752\n",
      "epoch=20000,train accuracy=0.6492777,test accuracy=0.43552312,train loss=2.8664727,test loss=3.0799925\n",
      "epoch=22000,train accuracy=0.65008026,test accuracy=0.4379562,train loss=2.8654163,test loss=3.077772\n",
      "epoch=24000,train accuracy=0.65008026,test accuracy=0.4379562,train loss=2.8652294,test loss=3.076926\n",
      "epoch=26000,train accuracy=0.65008026,test accuracy=0.4379562,train loss=2.8650854,test loss=3.0774267\n",
      "epoch=28000,train accuracy=0.65008026,test accuracy=0.4403893,train loss=2.8649266,test loss=3.0781007\n",
      "epoch=30000,train accuracy=0.65008026,test accuracy=0.4403893,train loss=2.8648639,test loss=3.0772612\n",
      "epoch=32000,train accuracy=0.65088284,test accuracy=0.4428224,train loss=2.8640187,test loss=3.0754943\n",
      "epoch=34000,train accuracy=0.65088284,test accuracy=0.4403893,train loss=2.8639119,test loss=3.0761135\n",
      "epoch=36000,train accuracy=0.65088284,test accuracy=0.4403893,train loss=2.8638682,test loss=3.075916\n",
      "epoch=38000,train accuracy=0.65088284,test accuracy=0.4428224,train loss=2.8637877,test loss=3.0758572\n",
      "epoch=40000,train accuracy=0.65248793,test accuracy=0.4428224,train loss=2.86239,test loss=3.0747347\n",
      "epoch=42000,train accuracy=0.65248793,test accuracy=0.4428224,train loss=2.862243,test loss=3.0746598\n",
      "epoch=44000,train accuracy=0.65248793,test accuracy=0.4428224,train loss=2.8620842,test loss=3.0749316\n",
      "epoch=46000,train accuracy=0.6532905,test accuracy=0.4428224,train loss=2.8612678,test loss=3.074983\n",
      "epoch=48000,train accuracy=0.6532905,test accuracy=0.4428224,train loss=2.861205,test loss=3.0741894\n",
      "epoch=50000,train accuracy=0.6532905,test accuracy=0.4452555,train loss=2.8611493,test loss=3.0737066\n",
      "epoch=52000,train accuracy=0.6540931,test accuracy=0.44768855,train loss=2.8604546,test loss=3.0714197\n",
      "epoch=54000,train accuracy=0.6540931,test accuracy=0.4452555,train loss=2.8603642,test loss=3.0720441\n",
      "epoch=56000,train accuracy=0.65489566,test accuracy=0.4452555,train loss=2.8597794,test loss=3.0722277\n",
      "epoch=58000,train accuracy=0.65489566,test accuracy=0.4452555,train loss=2.8595307,test loss=3.0714707\n",
      "epoch=60000,train accuracy=0.65489566,test accuracy=0.4452555,train loss=2.8594751,test loss=3.0721397\n",
      "epoch=62000,train accuracy=0.65489566,test accuracy=0.4452555,train loss=2.859432,test loss=3.0715523\n",
      "epoch=64000,train accuracy=0.65489566,test accuracy=0.44768855,train loss=2.8594086,test loss=3.0706823\n",
      "epoch=66000,train accuracy=0.6565008,test accuracy=0.4428224,train loss=2.8579693,test loss=3.0719347\n",
      "epoch=68000,train accuracy=0.6565008,test accuracy=0.4428224,train loss=2.857913,test loss=3.0717745\n",
      "epoch=70000,train accuracy=0.6565008,test accuracy=0.4452555,train loss=2.8577988,test loss=3.0720203\n",
      "epoch=72000,train accuracy=0.65971106,test accuracy=0.45012164,train loss=2.8547344,test loss=3.0696287\n",
      "epoch=74000,train accuracy=0.66051364,test accuracy=0.45012164,train loss=2.8540351,test loss=3.069908\n",
      "epoch=76000,train accuracy=0.6621188,test accuracy=0.45255473,train loss=2.8523443,test loss=3.0681505\n",
      "epoch=78000,train accuracy=0.6621188,test accuracy=0.45012164,train loss=2.852199,test loss=3.0680816\n",
      "epoch=80000,train accuracy=0.66372395,test accuracy=0.45012164,train loss=2.851226,test loss=3.06729\n",
      "epoch=82000,train accuracy=0.66372395,test accuracy=0.45255473,train loss=2.850719,test loss=3.0662262\n",
      "epoch=84000,train accuracy=0.66372395,test accuracy=0.45255473,train loss=2.8506591,test loss=3.06634\n",
      "epoch=86000,train accuracy=0.66372395,test accuracy=0.45255473,train loss=2.8507416,test loss=3.0664597\n",
      "epoch=88000,train accuracy=0.66372395,test accuracy=0.45255473,train loss=2.850648,test loss=3.0666733\n",
      "epoch=90000,train accuracy=0.66372395,test accuracy=0.45498782,train loss=2.850722,test loss=3.0658994\n",
      "epoch=92000,train accuracy=0.66452646,test accuracy=0.45255473,train loss=2.849867,test loss=3.0665505\n",
      "epoch=94000,train accuracy=0.66532904,test accuracy=0.44768855,train loss=2.849086,test loss=3.0670521\n",
      "epoch=96000,train accuracy=0.6853933,test accuracy=0.459854,train loss=2.829252,test loss=3.0551844\n",
      "epoch=98000,train accuracy=0.68699837,test accuracy=0.4647202,train loss=2.827803,test loss=3.053452\n",
      "epoch=100000,train accuracy=0.68699837,test accuracy=0.4647202,train loss=2.827745,test loss=3.0531287\n",
      "epoch=102000,train accuracy=0.68699837,test accuracy=0.4622871,train loss=2.8277414,test loss=3.053904\n",
      "epoch=104000,train accuracy=0.68699837,test accuracy=0.4647202,train loss=2.8276806,test loss=3.0537555\n",
      "epoch=106000,train accuracy=0.68699837,test accuracy=0.4647202,train loss=2.8277137,test loss=3.0535433\n",
      "epoch=108000,train accuracy=0.68699837,test accuracy=0.4647202,train loss=2.8276634,test loss=3.0536718\n",
      "epoch=110000,train accuracy=0.68780094,test accuracy=0.4647202,train loss=2.8269157,test loss=3.0522373\n",
      "epoch=112000,train accuracy=0.6886035,test accuracy=0.46715328,train loss=2.8260405,test loss=3.0527322\n",
      "epoch=114000,train accuracy=0.6902087,test accuracy=0.46958637,train loss=2.824541,test loss=3.0498905\n",
      "epoch=116000,train accuracy=0.6934189,test accuracy=0.46958637,train loss=2.8215733,test loss=3.0522158\n",
      "epoch=118000,train accuracy=0.6950241,test accuracy=0.459854,train loss=2.819616,test loss=3.0573514\n",
      "epoch=120000,train accuracy=0.6966292,test accuracy=0.4622871,train loss=2.8181944,test loss=3.0586605\n",
      "epoch=122000,train accuracy=0.6966292,test accuracy=0.459854,train loss=2.818156,test loss=3.0593967\n",
      "epoch=124000,train accuracy=0.6966292,test accuracy=0.459854,train loss=2.818123,test loss=3.05829\n",
      "epoch=126000,train accuracy=0.6966292,test accuracy=0.4622871,train loss=2.81809,test loss=3.0560613\n",
      "epoch=128000,train accuracy=0.6974318,test accuracy=0.4622871,train loss=2.8171837,test loss=3.0560036\n",
      "epoch=130000,train accuracy=0.6982344,test accuracy=0.459854,train loss=2.8166275,test loss=3.0581198\n",
      "epoch=132000,train accuracy=0.6982344,test accuracy=0.46715328,train loss=2.8163903,test loss=3.0569596\n",
      "epoch=134000,train accuracy=0.70064205,test accuracy=0.459854,train loss=2.8146977,test loss=3.0576363\n",
      "epoch=136000,train accuracy=0.70064205,test accuracy=0.459854,train loss=2.8139768,test loss=3.0599113\n",
      "epoch=138000,train accuracy=0.7014446,test accuracy=0.459854,train loss=2.8137364,test loss=3.059144\n",
      "epoch=140000,train accuracy=0.7014446,test accuracy=0.45742092,train loss=2.8135877,test loss=3.0598142\n",
      "epoch=142000,train accuracy=0.7014446,test accuracy=0.45498782,train loss=2.8135078,test loss=3.0612247\n",
      "epoch=144000,train accuracy=0.7030498,test accuracy=0.45498782,train loss=2.8119256,test loss=3.0592933\n",
      "epoch=146000,train accuracy=0.7046549,test accuracy=0.45742092,train loss=2.8103983,test loss=3.0585816\n",
      "epoch=148000,train accuracy=0.7046549,test accuracy=0.459854,train loss=2.810269,test loss=3.059841\n",
      "epoch=150000,train accuracy=0.7046549,test accuracy=0.45498782,train loss=2.8102484,test loss=3.059968\n",
      "epoch=152000,train accuracy=0.7046549,test accuracy=0.459854,train loss=2.810236,test loss=3.058464\n",
      "epoch=154000,train accuracy=0.70545745,test accuracy=0.45498782,train loss=2.8094175,test loss=3.0587246\n",
      "epoch=156000,train accuracy=0.70545745,test accuracy=0.45255473,train loss=2.8094075,test loss=3.0614827\n",
      "epoch=158000,train accuracy=0.70545745,test accuracy=0.45498782,train loss=2.8094192,test loss=3.059845\n"
     ]
    },
    {
     "name": "stdout",
     "output_type": "stream",
     "text": [
      "epoch=160000,train accuracy=0.70545745,test accuracy=0.459854,train loss=2.8094254,test loss=3.0591633\n",
      "epoch=162000,train accuracy=0.70545745,test accuracy=0.45742092,train loss=2.8093972,test loss=3.057481\n",
      "epoch=164000,train accuracy=0.70545745,test accuracy=0.459854,train loss=2.8093722,test loss=3.0595732\n",
      "epoch=166000,train accuracy=0.70545745,test accuracy=0.45742092,train loss=2.809319,test loss=3.0594678\n",
      "epoch=168000,train accuracy=0.70545745,test accuracy=0.45498782,train loss=2.8093245,test loss=3.0604022\n",
      "epoch=170000,train accuracy=0.70626,test accuracy=0.4647202,train loss=2.808552,test loss=3.0566456\n",
      "epoch=172000,train accuracy=0.70626,test accuracy=0.459854,train loss=2.808547,test loss=3.0559156\n",
      "epoch=174000,train accuracy=0.70626,test accuracy=0.4622871,train loss=2.8084984,test loss=3.0565283\n",
      "epoch=176000,train accuracy=0.70626,test accuracy=0.4622871,train loss=2.8085115,test loss=3.0557966\n",
      "epoch=178000,train accuracy=0.70626,test accuracy=0.4647202,train loss=2.8085234,test loss=3.0553324\n",
      "epoch=180000,train accuracy=0.70626,test accuracy=0.4647202,train loss=2.8084733,test loss=3.0540009\n",
      "epoch=182000,train accuracy=0.7078652,test accuracy=0.4647202,train loss=2.8066416,test loss=3.0546763\n",
      "epoch=184000,train accuracy=0.73675764,test accuracy=0.48175183,train loss=2.7783983,test loss=3.0358226\n",
      "epoch=186000,train accuracy=0.7383628,test accuracy=0.48175183,train loss=2.7771223,test loss=3.0362985\n",
      "epoch=188000,train accuracy=0.7383628,test accuracy=0.4890511,train loss=2.7770474,test loss=3.0318034\n",
      "epoch=190000,train accuracy=0.7383628,test accuracy=0.4890511,train loss=2.7769718,test loss=3.0312197\n",
      "epoch=192000,train accuracy=0.7383628,test accuracy=0.486618,train loss=2.7769518,test loss=3.0321856\n",
      "epoch=194000,train accuracy=0.7383628,test accuracy=0.4914842,train loss=2.7769492,test loss=3.0301476\n",
      "epoch=196000,train accuracy=0.7391653,test accuracy=0.4890511,train loss=2.7761245,test loss=3.0301912\n",
      "epoch=198000,train accuracy=0.7391653,test accuracy=0.4939173,train loss=2.7760196,test loss=3.0290442\n",
      "epoch=200000,train accuracy=0.7399679,test accuracy=0.4914842,train loss=2.7753465,test loss=3.0291445\n"
     ]
    }
   ],
   "source": [
    "with tf.Session() as sess:\n",
    "    sess.run(init)\n",
    "    #路径和文件名\n",
    "    train_writer = tf.summary.FileWriter('logs/padding48*24targa/train',sess.graph)\n",
    "   \n",
    "    test_writer = tf.summary.FileWriter('logs/padding48*24targa/test',sess.graph)\n",
    "    for epoch in range(200001):#把所有的图片训练20次\n",
    "        #一批一批的迭代图片，一次迭代100张，一共运行n_batch次\n",
    "        for batch in range(n_batch):\n",
    "            #每次传入一百张图片\n",
    "            batch_xs,batch_ys = next_batch(batch_size,train_flat_images,trainLabels)\n",
    "            sess.run(train_step,feed_dict={x:batch_xs,y:batch_ys,keep_prob:0.7})\n",
    "        train_batch_xs,train_batch_ys = train_flat_images,trainLabels\n",
    "        summary = sess.run(merged,feed_dict={x:train_batch_xs,y:train_batch_ys,keep_prob:1.0})           \n",
    "        train_writer.add_summary(summary,epoch)\n",
    "            \n",
    "        test_batch_xs,test_batch_ys = test_flat_images,testLabels\n",
    "        summary = sess.run(merged,feed_dict={x:test_batch_xs,y:test_batch_ys,keep_prob:1.0})\n",
    "        test_writer.add_summary(summary,epoch)  \n",
    "        \n",
    "        test_acc = sess.run(accuracy,feed_dict={x:test_flat_images,y:testLabels,keep_prob:1.0})        \n",
    "        train_acc = sess.run(accuracy,feed_dict={x:train_flat_images,y:trainLabels,keep_prob:1.0})\n",
    "        test_loss = sess.run(loss,feed_dict={x:test_flat_images,y:testLabels,keep_prob:1.0}) \n",
    "        train_loss = sess.run(loss,feed_dict={x:train_flat_images,y:trainLabels,keep_prob:1.0})\n",
    "        if epoch%2000 == 0:\n",
    "            \n",
    "            print('epoch=' + str(epoch) + ',train accuracy='+ str(train_acc)+',test accuracy=' + str(test_acc)+',train loss='+str(train_loss)+',test loss='+str(test_loss))"
   ]
  },
  {
   "cell_type": "code",
   "execution_count": null,
   "metadata": {},
   "outputs": [],
   "source": []
  }
 ],
 "metadata": {
  "kernelspec": {
   "display_name": "Python 3",
   "language": "python",
   "name": "python3"
  },
  "language_info": {
   "codemirror_mode": {
    "name": "ipython",
    "version": 3
   },
   "file_extension": ".py",
   "mimetype": "text/x-python",
   "name": "python",
   "nbconvert_exporter": "python",
   "pygments_lexer": "ipython3",
   "version": "3.5.2"
  }
 },
 "nbformat": 4,
 "nbformat_minor": 2
}
