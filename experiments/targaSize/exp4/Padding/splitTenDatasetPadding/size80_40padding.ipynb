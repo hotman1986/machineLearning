{
 "cells": [
  {
   "cell_type": "code",
   "execution_count": 1,
   "metadata": {},
   "outputs": [
    {
     "name": "stderr",
     "output_type": "stream",
     "text": [
      "/usr/local/lib/python3.5/dist-packages/h5py/__init__.py:36: FutureWarning: Conversion of the second argument of issubdtype from `float` to `np.floating` is deprecated. In future, it will be treated as `np.float64 == np.dtype(float).type`.\n",
      "  from ._conv import register_converters as _register_converters\n"
     ]
    }
   ],
   "source": [
    "import cv2\n",
    "import os\n",
    "import skimage\n",
    "from skimage import data\n",
    "from skimage import transform\n",
    "import PIL\n",
    "from PIL import Image\n",
    "import numpy as np\n",
    "import matplotlib.pyplot as plt\n",
    "import random\n",
    "from random import randint\n",
    "import tensorflow as tf\n",
    "from scipy import ndimage, misc\n",
    "\n",
    "HEIGHT=80\n",
    "WIDTH=40\n",
    "CLASSNUMBER = 32\n",
    "RESIZED_HEIGHT = 160\n",
    "RESIZED_WIDTH = 80\n",
    "DATASETNUMBER=9\n",
    "# TRAIN_IMAGE_NUMBER =\n",
    "# TEST_IMAGE_NUMBER = \n",
    "# VALIDATION_IMAGE_NUMBER = \n"
   ]
  },
  {
   "cell_type": "code",
   "execution_count": 2,
   "metadata": {},
   "outputs": [],
   "source": [
    "def load_data(data_directory):\n",
    "    directories = [d for d in os.listdir(data_directory) \n",
    "                   if os.path.isdir(os.path.join(data_directory, d))]\n",
    "    labels = []\n",
    "    images = []\n",
    "    image_name=[]\n",
    "    for d in directories:\n",
    "        label_directory = os.path.join(data_directory, d)\n",
    "        file_names = [os.path.join(label_directory, f) \n",
    "                      for f in os.listdir(label_directory) if f.endswith(\".jpg\")]\n",
    "        for f in file_names:\n",
    "            images.append(skimage.data.imread(f))\n",
    "            labels.append(str(d))\n",
    "            image_name.append(str(f))\n",
    "    return images, labels,image_name"
   ]
  },
  {
   "cell_type": "code",
   "execution_count": 3,
   "metadata": {},
   "outputs": [],
   "source": [
    "size_of_name = str(HEIGHT)+'*'+str(WIDTH)\n",
    "ROOT_PATH = '/home/tang/targa/exp4/splitData/'+str(DATASETNUMBER)+'SplitDataset/'+size_of_name\n",
    "load_train_data_directory = os.path.join(ROOT_PATH, \"train\")\n",
    "load_test_data_directory = os.path.join(ROOT_PATH, \"test\")\n",
    "load_validation_data_directory = os.path.join(ROOT_PATH, \"validation\")\n"
   ]
  },
  {
   "cell_type": "code",
   "execution_count": 4,
   "metadata": {},
   "outputs": [
    {
     "data": {
      "text/plain": [
       "'/home/tang/targa/exp4/splitData/9SplitDataset/80*40/test'"
      ]
     },
     "execution_count": 4,
     "metadata": {},
     "output_type": "execute_result"
    }
   ],
   "source": [
    "load_test_data_directory"
   ]
  },
  {
   "cell_type": "code",
   "execution_count": 5,
   "metadata": {},
   "outputs": [],
   "source": [
    "PAD_PATH='/home/tang/targa/exp4/Padding/splitTenDatasetPadding/'+str(DATASETNUMBER)+'splitDatasetPadding/'+size_of_name"
   ]
  },
  {
   "cell_type": "code",
   "execution_count": 6,
   "metadata": {},
   "outputs": [],
   "source": [
    "if not os.path.exists(PAD_PATH):\n",
    "    os.makedirs(PAD_PATH)"
   ]
  },
  {
   "cell_type": "code",
   "execution_count": 7,
   "metadata": {},
   "outputs": [],
   "source": [
    "padding_train_data_directory = os.path.join(PAD_PATH, \"train\")\n",
    "padding_test_data_directory = os.path.join(PAD_PATH, \"test\")\n",
    "padding_validation_data_directory = os.path.join(PAD_PATH, \"validation\")"
   ]
  },
  {
   "cell_type": "code",
   "execution_count": 8,
   "metadata": {},
   "outputs": [],
   "source": [
    "if not os.path.exists(padding_train_data_directory):\n",
    "    os.makedirs(padding_train_data_directory)\n",
    "if not os.path.exists(padding_test_data_directory):\n",
    "    os.makedirs(padding_test_data_directory)\n",
    "if not os.path.exists(padding_validation_data_directory):\n",
    "    os.makedirs(padding_validation_data_directory)"
   ]
  },
  {
   "cell_type": "code",
   "execution_count": 9,
   "metadata": {},
   "outputs": [],
   "source": [
    "trainImages,trainLabels,trainImageNames = load_data(load_train_data_directory)\n",
    "testImages,testLabels,testImageNames = load_data(load_test_data_directory)\n",
    "validationImages,validationLabels,validationImageNames=load_data(load_validation_data_directory)"
   ]
  },
  {
   "cell_type": "code",
   "execution_count": 10,
   "metadata": {},
   "outputs": [
    {
     "name": "stdout",
     "output_type": "stream",
     "text": [
      "train images length:\t\t19922\n",
      "test images length:\t\t2490\n",
      "validation images length:\t\t2491\n"
     ]
    }
   ],
   "source": [
    "print('train images length:\\t\\t{}'.format(len(trainImages)))\n",
    "\n",
    "print('test images length:\\t\\t{}'.format(len(testImages)))\n",
    "print('validation images length:\\t\\t{}'.format(len(validationImages)))\n"
   ]
  },
  {
   "cell_type": "code",
   "execution_count": 11,
   "metadata": {},
   "outputs": [],
   "source": [
    "#########make label directory\n",
    "for i in trainLabels:\n",
    "    trainlabels_directory = os.path.join(padding_train_data_directory, i)\n",
    "    testlabels_directory = os.path.join(padding_test_data_directory, i)\n",
    "    validationlabels_directory = os.path.join(padding_validation_data_directory, i)\n",
    "    if not os.path.exists(trainlabels_directory):\n",
    "        os.makedirs(trainlabels_directory)\n",
    "    if not os.path.exists(testlabels_directory):\n",
    "        os.makedirs(testlabels_directory)\n",
    "    if not os.path.exists(validationlabels_directory):\n",
    "        os.makedirs(validationlabels_directory)\n",
    "    "
   ]
  },
  {
   "cell_type": "code",
   "execution_count": 12,
   "metadata": {},
   "outputs": [],
   "source": [
    "from PIL import Image, ImageOps\n",
    "\n",
    "top, bottom = [int((RESIZED_HEIGHT-HEIGHT)/2)]*2\n",
    "left, right = [int((RESIZED_WIDTH-WIDTH)/2)]*2\n",
    "\n",
    "color = [0,0,0]\n"
   ]
  },
  {
   "cell_type": "code",
   "execution_count": 13,
   "metadata": {},
   "outputs": [
    {
     "data": {
      "text/plain": [
       "(40, 20)"
      ]
     },
     "execution_count": 13,
     "metadata": {},
     "output_type": "execute_result"
    }
   ],
   "source": [
    "top,left"
   ]
  },
  {
   "cell_type": "code",
   "execution_count": 14,
   "metadata": {},
   "outputs": [],
   "source": [
    "i=0\n",
    "for p in range(0,len(trainImages)):\n",
    "    \n",
    "    img = trainImages[i]\n",
    "    img_with_border = cv2.copyMakeBorder(img, top, bottom, left, right, cv2.BORDER_CONSTANT, value=color)\n",
    "    \n",
    "    \n",
    "    filename=padding_train_data_directory+ '/' + trainLabels[i] + '/' + os.path.basename(trainImageNames[int(i)])\n",
    "    plt.imsave(filename, img_with_border)\n",
    "    #print(filename)\n",
    "    i+=1"
   ]
  },
  {
   "cell_type": "code",
   "execution_count": 15,
   "metadata": {},
   "outputs": [
    {
     "data": {
      "text/plain": [
       "<matplotlib.image.AxesImage at 0x7f4356ac8320>"
      ]
     },
     "execution_count": 15,
     "metadata": {},
     "output_type": "execute_result"
    },
    {
     "data": {
      "image/png": "[encoded data removed]",
      "text/plain": [
       "<Figure size 432x288 with 1 Axes>"
      ]
     },
     "metadata": {},
     "output_type": "display_data"
    }
   ],
   "source": [
    "plt.imshow(img_with_border)"
   ]
  },
  {
   "cell_type": "code",
   "execution_count": 16,
   "metadata": {},
   "outputs": [
    {
     "data": {
      "text/plain": [
       "(160, 80, 3)"
      ]
     },
     "execution_count": 16,
     "metadata": {},
     "output_type": "execute_result"
    }
   ],
   "source": [
    "img_with_border.shape"
   ]
  },
  {
   "cell_type": "code",
   "execution_count": 17,
   "metadata": {},
   "outputs": [],
   "source": [
    "i=0\n",
    "for p in range(0,len(testImages)):\n",
    "    \n",
    "    img = testImages[i]\n",
    "    img_with_border = cv2.copyMakeBorder(img, top, bottom, left, right, cv2.BORDER_CONSTANT, value=color)\n",
    "    \n",
    "    \n",
    "    filename=padding_test_data_directory+ '/' + testLabels[i] + '/' + os.path.basename(testImageNames[int(i)])\n",
    "    plt.imsave(filename, img_with_border)\n",
    "    #print(filename)\n",
    "    i+=1"
   ]
  },
  {
   "cell_type": "code",
   "execution_count": 18,
   "metadata": {},
   "outputs": [],
   "source": [
    "i=0\n",
    "for p in range(0,len(validationImages)):\n",
    "    \n",
    "    img = validationImages[i]\n",
    "    img_with_border = cv2.copyMakeBorder(img, top, bottom, left, right, cv2.BORDER_CONSTANT, value=color)\n",
    "    \n",
    "    \n",
    "    filename=padding_validation_data_directory+ '/' + validationLabels[i] + '/' + os.path.basename(validationImageNames[int(i)])\n",
    "    plt.imsave(filename, img_with_border)\n",
    "    #print(filename)\n",
    "    i+=1"
   ]
  },
  {
   "cell_type": "code",
   "execution_count": null,
   "metadata": {},
   "outputs": [],
   "source": []
  },
  {
   "cell_type": "code",
   "execution_count": 19,
   "metadata": {},
   "outputs": [
    {
     "data": {
      "text/plain": [
       "2491"
      ]
     },
     "execution_count": 19,
     "metadata": {},
     "output_type": "execute_result"
    }
   ],
   "source": [
    "i"
   ]
  },
  {
   "cell_type": "code",
   "execution_count": null,
   "metadata": {},
   "outputs": [],
   "source": []
  },
  {
   "cell_type": "code",
   "execution_count": null,
   "metadata": {},
   "outputs": [],
   "source": []
  },
  {
   "cell_type": "code",
   "execution_count": null,
   "metadata": {},
   "outputs": [],
   "source": []
  },
  {
   "cell_type": "code",
   "execution_count": null,
   "metadata": {},
   "outputs": [],
   "source": []
  },
  {
   "cell_type": "code",
   "execution_count": null,
   "metadata": {},
   "outputs": [],
   "source": []
  },
  {
   "cell_type": "code",
   "execution_count": null,
   "metadata": {},
   "outputs": [],
   "source": []
  },
  {
   "cell_type": "code",
   "execution_count": null,
   "metadata": {},
   "outputs": [],
   "source": []
  },
  {
   "cell_type": "code",
   "execution_count": null,
   "metadata": {},
   "outputs": [],
   "source": []
  }
 ],
 "metadata": {
  "kernelspec": {
   "display_name": "Python 3",
   "language": "python",
   "name": "python3"
  },
  "language_info": {
   "codemirror_mode": {
    "name": "ipython",
    "version": 3
   },
   "file_extension": ".py",
   "mimetype": "text/x-python",
   "name": "python",
   "nbconvert_exporter": "python",
   "pygments_lexer": "ipython3",
   "version": "3.5.2"
  }
 },
 "nbformat": 4,
 "nbformat_minor": 2
}
