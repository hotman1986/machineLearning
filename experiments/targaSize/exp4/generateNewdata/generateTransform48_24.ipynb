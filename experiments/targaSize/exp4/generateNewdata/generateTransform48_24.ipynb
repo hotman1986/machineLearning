{
 "cells": [
  {
   "cell_type": "code",
   "execution_count": 1,
   "metadata": {},
   "outputs": [
    {
     "name": "stderr",
     "output_type": "stream",
     "text": [
      "/usr/local/lib/python3.5/dist-packages/h5py/__init__.py:36: FutureWarning: Conversion of the second argument of issubdtype from `float` to `np.floating` is deprecated. In future, it will be treated as `np.float64 == np.dtype(float).type`.\n",
      "  from ._conv import register_converters as _register_converters\n"
     ]
    }
   ],
   "source": [
    "import cv2\n",
    "import os\n",
    "import skimage\n",
    "from skimage import data\n",
    "from skimage import transform\n",
    "import PIL\n",
    "from PIL import Image\n",
    "import numpy as np\n",
    "import matplotlib.pyplot as plt\n",
    "import random\n",
    "from random import randint\n",
    "import tensorflow as tf\n",
    "from scipy import ndimage, misc\n",
    "from skimage.transform import rotate"
   ]
  },
  {
   "cell_type": "code",
   "execution_count": 2,
   "metadata": {},
   "outputs": [],
   "source": [
    "HEIGHT=48\n",
    "WIDTH=24\n",
    "size_of_image_name=str(HEIGHT)+'*'+str(WIDTH)\n",
    "\n",
    "class_number = 32\n",
    "class_image_number =1\n",
    "NUMBEROFIMAGE_DATA = class_number * class_image_number\n",
    "totalImages = 0"
   ]
  },
  {
   "cell_type": "code",
   "execution_count": 3,
   "metadata": {},
   "outputs": [],
   "source": [
    "def load_data(data_directory):\n",
    "    directories = [d for d in os.listdir(data_directory) \n",
    "                   if os.path.isdir(os.path.join(data_directory, d))]\n",
    "    labels = []\n",
    "    images = []\n",
    "    for d in directories:\n",
    "        label_directory = os.path.join(data_directory, d)\n",
    "        file_names = [os.path.join(label_directory, f) \n",
    "                      for f in os.listdir(label_directory) if f.endswith(\".jpg\")]\n",
    "        for f in file_names:\n",
    "            images.append(skimage.data.imread(f))\n",
    "            labels.append(str(d))\n",
    "    return images, labels"
   ]
  },
  {
   "cell_type": "code",
   "execution_count": 4,
   "metadata": {},
   "outputs": [],
   "source": [
    "ROOT_PATH = '/home/tang/targa/exp4/'\n",
    "load_data_directory = os.path.join(ROOT_PATH, \"trainingOriginal/trainSimple\"+size_of_image_name)\n",
    "#train_data_directory = os.path.join(ROOT_PATH, \"size160*80/train\")\n",
    "#test_data_directory = os.path.join(ROOT_PATH, \"size160*80/test\")\n",
    "\n",
    "total_data_directory = os.path.join(ROOT_PATH, \"generateNewData/lightGeneration/size\"+size_of_image_name+\"/total_data\")\n",
    "if not os.path.exists(total_data_directory):\n",
    "    os.makedirs(total_data_directory)\n"
   ]
  },
  {
   "cell_type": "code",
   "execution_count": 5,
   "metadata": {},
   "outputs": [],
   "source": [
    "Images,Labels = load_data(load_data_directory)"
   ]
  },
  {
   "cell_type": "code",
   "execution_count": 6,
   "metadata": {},
   "outputs": [
    {
     "name": "stdout",
     "output_type": "stream",
     "text": [
      "- load-set:\t\t32\n"
     ]
    }
   ],
   "source": [
    "print(\"- load-set:\\t\\t{}\".format(len(Labels)))\n",
    "for label in Labels:\n",
    "    label_directory = os.path.join(total_data_directory, label)\n",
    "    if not os.path.exists(label_directory):\n",
    "        os.makedirs(label_directory)"
   ]
  },
  {
   "cell_type": "code",
   "execution_count": 7,
   "metadata": {
    "scrolled": false
   },
   "outputs": [
    {
     "name": "stdout",
     "output_type": "stream",
     "text": [
      "640\n"
     ]
    }
   ],
   "source": [
    "#hsv\n",
    "from skimage import data, exposure, img_as_float\n",
    "\n",
    "i=0\n",
    "for p in range(0,NUMBEROFIMAGE_DATA):\n",
    "    img = Images[i]\n",
    "    img_hsv = cv2.cvtColor(img, cv2.COLOR_BGR2HSV)\n",
    "    for j in range(0,20):\n",
    "        turn_green_hsv = img_hsv.copy()\n",
    "        MIN = np.min(turn_green_hsv[:,:,0])\n",
    "        MAX = np.max(turn_green_hsv[:,:,0])\n",
    "        random_factor = random.uniform(-MIN,255-MAX)\n",
    "        turn_green_hsv[:, :, 0] = turn_green_hsv[:, :, 0]+random_factor\n",
    "        turn_green_img = cv2.cvtColor(turn_green_hsv, cv2.COLOR_HSV2BGR)\n",
    "        factor = str(int(random_factor))\n",
    "        filename=total_data_directory+'/'+Labels[i]+'/'+str(Labels[i])+ 'h_'+'_'+factor+'.jpg'\n",
    "        plt.imsave(filename, turn_green_img)\n",
    "        totalImages = 1 + totalImages\n",
    "        #print(filename)\n",
    "    i+=1\n",
    "print(totalImages)"
   ]
  },
  {
   "cell_type": "code",
   "execution_count": null,
   "metadata": {},
   "outputs": [],
   "source": []
  },
  {
   "cell_type": "code",
   "execution_count": 8,
   "metadata": {},
   "outputs": [
    {
     "data": {
      "text/plain": [
       "255"
      ]
     },
     "execution_count": 8,
     "metadata": {},
     "output_type": "execute_result"
    }
   ],
   "source": [
    "np.max(turn_green_hsv[:,:,1])"
   ]
  },
  {
   "cell_type": "code",
   "execution_count": 9,
   "metadata": {},
   "outputs": [
    {
     "name": "stdout",
     "output_type": "stream",
     "text": [
      "1280\n"
     ]
    }
   ],
   "source": [
    "#hsv\n",
    "from skimage import data, exposure, img_as_float\n",
    "\n",
    "i=0\n",
    "for p in range(0,NUMBEROFIMAGE_DATA):\n",
    "    img = Images[i]\n",
    "    img_hsv = cv2.cvtColor(img, cv2.COLOR_BGR2HSV)\n",
    "    for j in range(0,20):\n",
    "        turn_green_hsv = img_hsv.copy()\n",
    "        MIN = np.min(turn_green_hsv[:,:,1])\n",
    "        MAX = np.max(turn_green_hsv[:,:,1])\n",
    "        random_factor = random.uniform(-MIN,255)\n",
    "        turn_green_hsv[:, :, 1] = turn_green_hsv[:, :, 1]+random_factor\n",
    "        turn_green_img = cv2.cvtColor(turn_green_hsv, cv2.COLOR_HSV2BGR)\n",
    "        factor = str(int(random_factor))\n",
    "        filename=total_data_directory+'/'+Labels[i]+'/'+str(Labels[i])+ 's_'+str(Labels[i])+'_'+'.jpg'\n",
    "        plt.imsave(filename, turn_green_img)\n",
    "        totalImages = 1 + totalImages\n",
    "        #print(filename)\n",
    "    i+=1\n",
    "print(totalImages)"
   ]
  },
  {
   "cell_type": "code",
   "execution_count": 10,
   "metadata": {},
   "outputs": [
    {
     "name": "stdout",
     "output_type": "stream",
     "text": [
      "1920\n"
     ]
    }
   ],
   "source": [
    "#hsv\n",
    "from skimage import data, exposure, img_as_float\n",
    "\n",
    "i=0\n",
    "for p in range(0,NUMBEROFIMAGE_DATA):\n",
    "    img = Images[i]\n",
    "    img_hsv = cv2.cvtColor(img, cv2.COLOR_BGR2HSV)\n",
    "    for j in range(0,20):\n",
    "        turn_green_hsv = img_hsv.copy()\n",
    "        MIN = np.min(turn_green_hsv[:,:,2])\n",
    "        MAX = np.max(turn_green_hsv[:,:,2])\n",
    "        random_factor = random.uniform(-MIN,255-MAX+100)\n",
    "        turn_green_hsv[:, :, 2] = turn_green_hsv[:, :, 2]+random_factor\n",
    "        turn_green_img = cv2.cvtColor(turn_green_hsv, cv2.COLOR_HSV2BGR)\n",
    "        factor = str(int(random_factor))\n",
    "        filename=total_data_directory+'/'+Labels[i]+'/'+str(Labels[i])+ 'v_'+'_'+factor+'.jpg'\n",
    "        plt.imsave(filename, turn_green_img)\n",
    "        totalImages = 1 + totalImages\n",
    "        #print(filename)\n",
    "    i+=1\n",
    "print(totalImages)"
   ]
  },
  {
   "cell_type": "code",
   "execution_count": null,
   "metadata": {
    "scrolled": true
   },
   "outputs": [],
   "source": []
  },
  {
   "cell_type": "code",
   "execution_count": 11,
   "metadata": {},
   "outputs": [
    {
     "name": "stdout",
     "output_type": "stream",
     "text": [
      "2560\n"
     ]
    }
   ],
   "source": [
    "#gamma_trans\n",
    "from skimage import data, exposure, img_as_float\n",
    "\n",
    "i=0\n",
    "for p in range(0,NUMBEROFIMAGE_DATA):\n",
    "    img = Images[i]\n",
    "    for j in range(1,21):#8 images with gamma\n",
    "        random_factor = random.uniform(0,5)\n",
    "        img_corrected = exposure.adjust_gamma(img,random_factor)\n",
    "        factor = str(round(random_factor,2))\n",
    "        filename=total_data_directory+'/'+Labels[i]+'/'+ Labels[i]+'_gamma_'+'_'+str(factor)+'.jpg'\n",
    "        plt.imsave(filename, img_corrected)\n",
    "        totalImages = 1 + totalImages\n",
    "        #print(filename)\n",
    "    i+=1\n",
    "print(totalImages)"
   ]
  },
  {
   "cell_type": "code",
   "execution_count": 12,
   "metadata": {},
   "outputs": [
    {
     "data": {
      "text/plain": [
       "<matplotlib.image.AxesImage at 0x7f8c1dfd85c0>"
      ]
     },
     "execution_count": 12,
     "metadata": {},
     "output_type": "execute_result"
    },
    {
     "data": {
      "image/png": "[encoded data removed]",
      "text/plain": [
       "<Figure size 432x288 with 1 Axes>"
      ]
     },
     "metadata": {},
     "output_type": "display_data"
    }
   ],
   "source": [
    "plt.imshow(img_corrected)"
   ]
  },
  {
   "cell_type": "code",
   "execution_count": 13,
   "metadata": {},
   "outputs": [
    {
     "name": "stdout",
     "output_type": "stream",
     "text": [
      "3200\n"
     ]
    }
   ],
   "source": [
    "#rotation rotated 15 degree\n",
    "i=0\n",
    "from skimage.color import rgb2gray\n",
    "for p in range(0,NUMBEROFIMAGE_DATA):\n",
    "    img = Images[i]\n",
    "    \n",
    "    for j in range(1,21):#max 45\n",
    "        random_factor = random.uniform(-30,30)\n",
    "        img_copy = img/255.0000\n",
    "        \n",
    "        img_rotated=rotate(img_copy,random_factor,resize=False)\n",
    "        \n",
    "        img_rotated15 = (img_rotated)\n",
    "    \n",
    "        filename=total_data_directory+'/'+Labels[i]+'/'+Labels[i]+'_rotate_'+'_'+str(int(random_factor))+'.jpg'\n",
    "        plt.imsave(filename, img_rotated15)\n",
    "        totalImages = 1 + totalImages\n",
    "        #print(filename)\n",
    "    i+=1\n",
    "print(totalImages)\n"
   ]
  },
  {
   "cell_type": "code",
   "execution_count": 14,
   "metadata": {},
   "outputs": [
    {
     "data": {
      "text/plain": [
       "<matplotlib.image.AxesImage at 0x7f8c1dec8080>"
      ]
     },
     "execution_count": 14,
     "metadata": {},
     "output_type": "execute_result"
    },
    {
     "data": {
      "image/png": "[encoded data removed]",
      "text/plain": [
       "<Figure size 432x288 with 1 Axes>"
      ]
     },
     "metadata": {},
     "output_type": "display_data"
    }
   ],
   "source": [
    "plt.imshow(img_rotated15)"
   ]
  },
  {
   "cell_type": "code",
   "execution_count": 15,
   "metadata": {},
   "outputs": [
    {
     "name": "stdout",
     "output_type": "stream",
     "text": [
      "3360\n"
     ]
    }
   ],
   "source": [
    "#translation\n",
    "\n",
    "\n",
    "from skimage import transform as transform\n",
    "i=0\n",
    "for p in range(0,NUMBEROFIMAGE_DATA):\n",
    "    img = Images[i]/255.0000\n",
    "    \n",
    "    for j in range(1,6):#max 45\n",
    "        random_H = random.uniform(-HEIGHT/2,HEIGHT/2)\n",
    "        random_W = random.uniform(-WIDTH/2,WIDTH/2)\n",
    "        tform = transform.SimilarityTransform(scale=1, rotation=0,\n",
    "                               translation=(random_H, random_W))\n",
    "        \n",
    "        \n",
    "        img_translationing=transform.warp(img,tform)\n",
    "        img_translation = img_translationing\n",
    "        H_index = str(int(random_H))\n",
    "        W_index = str(int(random_W))\n",
    "\n",
    "        \n",
    "    \n",
    "        filename=total_data_directory+'/'+Labels[i]+'/'+Labels[i]+'_translation_'+'_'+H_index+'_'+W_index+'.jpg'\n",
    "        plt.imsave(filename, img_translation)\n",
    "        totalImages = 1 + totalImages\n",
    "        #print(filename)\n",
    "    i+=1\n",
    "print(totalImages)\n"
   ]
  },
  {
   "cell_type": "code",
   "execution_count": 16,
   "metadata": {},
   "outputs": [
    {
     "data": {
      "text/plain": [
       "<matplotlib.image.AxesImage at 0x7f8c1de7ec18>"
      ]
     },
     "execution_count": 16,
     "metadata": {},
     "output_type": "execute_result"
    },
    {
     "data": {
      "image/png": "[encoded data removed]",
      "text/plain": [
       "<Figure size 432x288 with 1 Axes>"
      ]
     },
     "metadata": {},
     "output_type": "display_data"
    }
   ],
   "source": [
    "plt.imshow(img_translation)"
   ]
  },
  {
   "cell_type": "code",
   "execution_count": 17,
   "metadata": {},
   "outputs": [
    {
     "name": "stdout",
     "output_type": "stream",
     "text": [
      "4000\n"
     ]
    }
   ],
   "source": [
    "#shear\n",
    "i=0\n",
    "for p in range(0,NUMBEROFIMAGE_DATA):\n",
    "    img = Images[i]/255.0000\n",
    "    for j in range(0,20):#50 degree max\n",
    "        random_factor = random.uniform(-1,1)\n",
    "        random_factor_scale=random.uniform(-0.8,0.8)\n",
    "        \n",
    "        tform = transform.AffineTransform(scale=(1.0, 1.0), rotation=0, shear=random_factor,\n",
    "                        translation=(0, 0))\n",
    "        img_shearing=transform.warp(img,tform)\n",
    "        img_sheared = img_shearing\n",
    "        shear_index = str(int(random_factor*100))\n",
    "\n",
    "        \n",
    "    \n",
    "    \n",
    "        filename=total_data_directory+'/'+Labels[i]+'/'+Labels[i]+'_sheared_'+'_00'+shear_index+'.jpg'\n",
    "        plt.imsave(filename, img_sheared)\n",
    "        totalImages = 1 + totalImages\n",
    "        #print(filename)\n",
    "    \n",
    "    i+=1\n",
    "print(totalImages)\n",
    "    "
   ]
  },
  {
   "cell_type": "code",
   "execution_count": 18,
   "metadata": {},
   "outputs": [
    {
     "data": {
      "text/plain": [
       "<matplotlib.image.AxesImage at 0x7f8c1de593c8>"
      ]
     },
     "execution_count": 18,
     "metadata": {},
     "output_type": "execute_result"
    },
    {
     "data": {
      "image/png": "[encoded data removed]",
      "text/plain": [
       "<Figure size 432x288 with 1 Axes>"
      ]
     },
     "metadata": {},
     "output_type": "display_data"
    }
   ],
   "source": [
    "plt.imshow(img_sheared)"
   ]
  },
  {
   "cell_type": "code",
   "execution_count": 19,
   "metadata": {},
   "outputs": [
    {
     "name": "stdout",
     "output_type": "stream",
     "text": [
      "7200\n"
     ]
    }
   ],
   "source": [
    "#affine\n",
    "i=0\n",
    "for p in range(0,NUMBEROFIMAGE_DATA):\n",
    "    img = Images[i]/255.0\n",
    "    for j in range(0,100):#50 degree max\n",
    "        scale_factor_h = random.uniform(-2,2)\n",
    "        scale_factor_w = random.uniform(-2,2)\n",
    "        rotation_factor = random.uniform(-30,30)\n",
    "        shear_factor = random.uniform(-1,1)\n",
    "\n",
    "        translation_factorH = random.uniform(-HEIGHT/2,HEIGHT/2)\n",
    "        translation_factorW = random.uniform(-WIDTH/2,WIDTH/2)\n",
    "        \n",
    "        tform = transform.AffineTransform(scale=(scale_factor_h, scale_factor_w), rotation=rotation_factor, shear=shear_factor, translation=(translation_factorH, translation_factorW))\n",
    "        img_affining=transform.warp(img,tform)\n",
    "        img_affined = img_affining*1.00\n",
    "        shear_index = str(int(random_factor*100))\n",
    "        sx = str(int(scale_factor_w))\n",
    "        sy = str(int(scale_factor_h))\n",
    "        rotation_index = str(int(random.uniform(-30,30)))\n",
    "        th= str(int(translation_factorH))\n",
    "        tw = str(int(translation_factorW))\n",
    "\n",
    "        \n",
    "    \n",
    "    \n",
    "        filename=total_data_directory+'/'+Labels[i]+'/'+Labels[i]+'_affined_shear'+'_00'+shear_index+'_sx_'+sx+'_sy_'+sy+ '_r_'+rotation_index+'_th_'+th+'_tw_'+tw+'.jpg'\n",
    "        plt.imsave(filename, img_affined)\n",
    "        totalImages = 1 + totalImages\n",
    "        #print(filename)\n",
    "    \n",
    "    i+=1\n",
    "print(totalImages)"
   ]
  },
  {
   "cell_type": "code",
   "execution_count": 20,
   "metadata": {},
   "outputs": [
    {
     "data": {
      "text/plain": [
       "<matplotlib.image.AxesImage at 0x7f8c1de14a58>"
      ]
     },
     "execution_count": 20,
     "metadata": {},
     "output_type": "execute_result"
    },
    {
     "data": {
      "image/png": "[encoded data removed]",
      "text/plain": [
       "<Figure size 432x288 with 1 Axes>"
      ]
     },
     "metadata": {},
     "output_type": "display_data"
    }
   ],
   "source": [
    "plt.imshow(img_affined)"
   ]
  },
  {
   "cell_type": "code",
   "execution_count": 21,
   "metadata": {},
   "outputs": [
    {
     "name": "stdout",
     "output_type": "stream",
     "text": [
      "10400\n"
     ]
    }
   ],
   "source": [
    "#perspective\n",
    "from skimage import transform as trans\n",
    "i=0\n",
    "for p in range(0,NUMBEROFIMAGE_DATA):\n",
    "    img = Images[i]/255.0000\n",
    "    for j in range(0,100):#50 degree max\n",
    "        src_top_left=[0,0]\n",
    "        src_bottom_left=[0,HEIGHT]\n",
    "        src_bottom_right=[WIDTH,HEIGHT]\n",
    "        src_top_right=[WIDTH,0]\n",
    "        \n",
    "        TL_h=random.uniform(0,WIDTH/4)\n",
    "        TL_v=random.uniform(0,HEIGHT/4)\n",
    "        BL_h=random.uniform(0,WIDTH/4)\n",
    "        BL_v=HEIGHT-random.uniform(0,HEIGHT/4)\n",
    "        BR_h=WIDTH-random.uniform(0,WIDTH/4)\n",
    "        BR_v=HEIGHT-random.uniform(0,HEIGHT/4)\n",
    "        TR_h=WIDTH-random.uniform(0,WIDTH/4)\n",
    "        TR_v=random.uniform(0,HEIGHT/4)\n",
    "#         dst_top_left=[random.uniform(0,WIDTH/4),random.uniform(0,HEIGHT/4)]\n",
    "#         dst_bottom_left=[random.uniform(0,WIDTH/4),HEIGHT-random.uniform(0,HEIGHT/4)]\n",
    "#         dst_bottom_right=[WIDTH-random.uniform(0,WIDTH/4),HEIGHT-random.uniform(0,HEIGHT/4)]\n",
    "#         dst_top_rightt=[WIDTH-random.uniform(0,WIDTH/4),random.uniform(0,HEIGHT/4)]\n",
    "        dst_top_left=[TL_h,TL_v]\n",
    "        dst_bottom_left=[BL_h,BL_v]\n",
    "        dst_bottom_right=[BR_h,BR_v]\n",
    "        dst_top_right=[TR_h,TR_v]     \n",
    "        \n",
    "        src = np.array([src_top_left,src_bottom_left,src_bottom_right,src_top_right])\n",
    "        dst = np.array([dst_top_left,dst_bottom_left,dst_bottom_right,dst_top_right])\n",
    "        \n",
    "        tform = trans.ProjectiveTransform()\n",
    "        tform.estimate(src, dst)\n",
    "        perspective_warped = trans.warp(img, tform, output_shape=(HEIGHT, WIDTH))\n",
    "      \n",
    "\n",
    "        \n",
    "    \n",
    "    \n",
    "        filename=total_data_directory+'/'+Labels[i]+'/'+Labels[i]+'_perspective'+'_'+str(int(TL_h))+'_'+str(int(TL_v))+'_'+str(int(BL_h))+'_'+str(int(BL_v))+'_'+str(int(BR_h))+'_'+str(int(BR_v))+'_'+str(int(TR_h))+'_'+str(int(TR_v))+'.jpg'\n",
    "        plt.imsave(filename, perspective_warped)\n",
    "        totalImages = 1 + totalImages\n",
    "        #print(filename)\n",
    "    \n",
    "    i+=1\n",
    "print(totalImages)"
   ]
  },
  {
   "cell_type": "code",
   "execution_count": 22,
   "metadata": {},
   "outputs": [
    {
     "data": {
      "text/plain": [
       "<matplotlib.image.AxesImage at 0x7f8c1dd094e0>"
      ]
     },
     "execution_count": 22,
     "metadata": {},
     "output_type": "execute_result"
    },
    {
     "data": {
      "image/png": "[encoded data removed]",
      "text/plain": [
       "<Figure size 432x288 with 1 Axes>"
      ]
     },
     "metadata": {},
     "output_type": "display_data"
    }
   ],
   "source": [
    "plt.imshow(perspective_warped)"
   ]
  },
  {
   "cell_type": "code",
   "execution_count": 23,
   "metadata": {},
   "outputs": [],
   "source": [
    "#gaussian noise\n",
    "\n",
    "i=0\n",
    "for p in range(0,NUMBEROFIMAGE_DATA):\n",
    "    img = Images[i]\n",
    "    \n",
    "    for j in range(0,80):#max 45\n",
    "        random_factor1 = random.uniform(0,0)\n",
    "        #parameter sigma = 1%-30%\n",
    "        sigma_factor = random.uniform(0.01,0.3)\n",
    "        gaussian_img=skimage.util.random_noise(img,mode='gaussian',var=sigma_factor)\n",
    "        record_factor=str(round(sigma_factor,3))\n",
    "        \n",
    "        \n",
    "    \n",
    "        filename=total_data_directory+'/'+Labels[i]+'/'+Labels[i]+'_gaussian_'+'sigma_'+record_factor+'.jpg'\n",
    "        plt.imsave(filename, gaussian_img)\n",
    "        totalImages = 1 + totalImages\n",
    "        #print(filename)\n",
    "    i+=1"
   ]
  },
  {
   "cell_type": "code",
   "execution_count": 24,
   "metadata": {
    "scrolled": true
   },
   "outputs": [
    {
     "data": {
      "text/plain": [
       "<matplotlib.image.AxesImage at 0x7f8c1e021780>"
      ]
     },
     "execution_count": 24,
     "metadata": {},
     "output_type": "execute_result"
    },
    {
     "data": {
      "image/png": "[encoded data removed]",
      "text/plain": [
       "<Figure size 432x288 with 1 Axes>"
      ]
     },
     "metadata": {},
     "output_type": "display_data"
    }
   ],
   "source": [
    "plt.imshow(gaussian_img)"
   ]
  },
  {
   "cell_type": "code",
   "execution_count": null,
   "metadata": {
    "scrolled": true
   },
   "outputs": [],
   "source": []
  },
  {
   "cell_type": "code",
   "execution_count": 25,
   "metadata": {},
   "outputs": [],
   "source": [
    "from skimage.color import rgb2gray"
   ]
  },
  {
   "cell_type": "code",
   "execution_count": null,
   "metadata": {},
   "outputs": [],
   "source": []
  },
  {
   "cell_type": "code",
   "execution_count": null,
   "metadata": {},
   "outputs": [],
   "source": []
  },
  {
   "cell_type": "code",
   "execution_count": null,
   "metadata": {},
   "outputs": [],
   "source": []
  },
  {
   "cell_type": "code",
   "execution_count": 26,
   "metadata": {},
   "outputs": [],
   "source": [
    "#salt&pepper noise\n",
    "i=0\n",
    "for p in range(0,NUMBEROFIMAGE_DATA):\n",
    "    img = Images[i]\n",
    "    \n",
    "    for j in range(0,80):#max 45\n",
    "        #Proportion of image pixels to replace with noise 1%~50%\n",
    "        amount_factor = random.uniform(0.01,0.5)\n",
    "        #pepper salt noise ratio random from 30%-70% \n",
    "        salt_vs_pepper_factor = random.uniform(0.3,0.7)\n",
    "        s_p_image=skimage.util.random_noise(img,mode='s&p',salt_vs_pepper=salt_vs_pepper_factor,amount=amount_factor)\n",
    "        \n",
    "        \n",
    "    \n",
    "        filename=total_data_directory+'/'+Labels[i]+'/'+Labels[i]+'_salt&pepper_'+'amount_'+str(round(amount_factor,3))+'ratio of s&p_'+str((round(salt_vs_pepper_factor,2)))+'.jpg'\n",
    "        plt.imsave(filename, s_p_image)\n",
    "        #print(filename)\n",
    "        totalImages = 1 + totalImages\n",
    "    i+=1"
   ]
  },
  {
   "cell_type": "code",
   "execution_count": 27,
   "metadata": {},
   "outputs": [
    {
     "data": {
      "text/plain": [
       "<matplotlib.image.AxesImage at 0x7f8c1dd0ea90>"
      ]
     },
     "execution_count": 27,
     "metadata": {},
     "output_type": "execute_result"
    },
    {
     "data": {
      "image/png": "[encoded data removed]",
      "text/plain": [
       "<Figure size 432x288 with 1 Axes>"
      ]
     },
     "metadata": {},
     "output_type": "display_data"
    }
   ],
   "source": [
    "plt.imshow(s_p_image)"
   ]
  },
  {
   "cell_type": "code",
   "execution_count": null,
   "metadata": {},
   "outputs": [],
   "source": []
  },
  {
   "cell_type": "code",
   "execution_count": 28,
   "metadata": {
    "scrolled": false
   },
   "outputs": [],
   "source": [
    "#salt noise\n",
    "i=0\n",
    "for p in range(0,NUMBEROFIMAGE_DATA):\n",
    "    img = Images[i]\n",
    "    \n",
    "    for j in range(0,30):#max 45\n",
    "        #Proportion of image pixels to replace with noise 1%~50%\n",
    "        amount_factor = random.uniform(0.01,0.5)\n",
    "        salt_image=skimage.util.random_noise(img,mode='salt',amount=amount_factor)\n",
    "        filename=total_data_directory+'/'+Labels[i]+'/'+Labels[i]+'_saltnoise_'+'amount_'+str(round(amount_factor,3))+'.jpg'\n",
    "        plt.imsave(filename, salt_image)\n",
    "        totalImages = 1 + totalImages\n",
    "        #print(filename)\n",
    "    i+=1"
   ]
  },
  {
   "cell_type": "code",
   "execution_count": 29,
   "metadata": {
    "scrolled": true
   },
   "outputs": [
    {
     "data": {
      "text/plain": [
       "<matplotlib.image.AxesImage at 0x7f8c1dcb3710>"
      ]
     },
     "execution_count": 29,
     "metadata": {},
     "output_type": "execute_result"
    },
    {
     "data": {
      "image/png": "[encoded data removed]",
      "text/plain": [
       "<Figure size 432x288 with 1 Axes>"
      ]
     },
     "metadata": {},
     "output_type": "display_data"
    }
   ],
   "source": [
    "plt.imshow(salt_image)"
   ]
  },
  {
   "cell_type": "code",
   "execution_count": 30,
   "metadata": {},
   "outputs": [],
   "source": [
    "#pepper noise\n",
    "i=0\n",
    "for p in range(0,NUMBEROFIMAGE_DATA):\n",
    "    img = Images[i]\n",
    "    \n",
    "    for j in range(0,30):#max 45\n",
    "        #Proportion of image pixels to replace with noise 1%~50%\n",
    "        amount_factor = random.uniform(0.01,0.5)\n",
    "        pepper_image=skimage.util.random_noise(img,mode='pepper',amount=amount_factor)  \n",
    "        filename=total_data_directory+'/'+Labels[i]+'/'+Labels[i]+'_peppernoise_'+'amount_'+str(round(amount_factor,3))+'.jpg'\n",
    "        plt.imsave(filename, pepper_image)\n",
    "        totalImages = 1 + totalImages\n",
    "        #print(filename)\n",
    "    i+=1"
   ]
  },
  {
   "cell_type": "code",
   "execution_count": 31,
   "metadata": {},
   "outputs": [
    {
     "data": {
      "text/plain": [
       "<matplotlib.image.AxesImage at 0x7f8c1dc5a8d0>"
      ]
     },
     "execution_count": 31,
     "metadata": {},
     "output_type": "execute_result"
    },
    {
     "data": {
      "image/png": "[encoded data removed]",
      "text/plain": [
       "<Figure size 432x288 with 1 Axes>"
      ]
     },
     "metadata": {},
     "output_type": "display_data"
    }
   ],
   "source": [
    "plt.imshow(pepper_image)"
   ]
  },
  {
   "cell_type": "code",
   "execution_count": null,
   "metadata": {},
   "outputs": [],
   "source": []
  },
  {
   "cell_type": "code",
   "execution_count": 32,
   "metadata": {},
   "outputs": [],
   "source": [
    "#possion noise\n",
    "import random\n",
    "i=0\n",
    "for p in range(0,NUMBEROFIMAGE_DATA):\n",
    "    img = Images[i]\n",
    "    image = img.astype(float)\n",
    "    \n",
    "    for j in range(0,80):#max 45\n",
    "        #possion lamda\n",
    "        lamda_factor = random.uniform(1,1000)\n",
    "        possion_img=image+(np.random.poisson(lam=lamda_factor, size=img.shape) )\n",
    "        possion_image = (possion_img* 1).astype(np.uint8)\n",
    "        filename=total_data_directory+'/'+Labels[i]+'/'+Labels[i]+'_possionnoise_'+'lamda_'+str(int(lamda_factor))+'.jpg'\n",
    "        plt.imsave(filename, possion_image)\n",
    "        totalImages = 1 + totalImages\n",
    "        #print(filename)\n",
    "    i+=1"
   ]
  },
  {
   "cell_type": "code",
   "execution_count": 33,
   "metadata": {},
   "outputs": [
    {
     "data": {
      "text/plain": [
       "<matplotlib.image.AxesImage at 0x7f8c1dba0cc0>"
      ]
     },
     "execution_count": 33,
     "metadata": {},
     "output_type": "execute_result"
    },
    {
     "data": {
      "image/png": "[encoded data removed]",
      "text/plain": [
       "<Figure size 432x288 with 1 Axes>"
      ]
     },
     "metadata": {},
     "output_type": "display_data"
    }
   ],
   "source": [
    "plt.imshow(possion_image)"
   ]
  },
  {
   "cell_type": "code",
   "execution_count": null,
   "metadata": {},
   "outputs": [],
   "source": []
  },
  {
   "cell_type": "code",
   "execution_count": 34,
   "metadata": {},
   "outputs": [],
   "source": [
    "#speckle noise\n",
    "\n",
    "i=0\n",
    "for p in range(0,NUMBEROFIMAGE_DATA):\n",
    "    img = Images[i]\n",
    "    \n",
    "    \n",
    "    for j in range(0,80):#max 45\n",
    "        #sigma random from 0 to 30%\n",
    "        \n",
    "        speckle_factor = random.uniform(0.01,0.3)\n",
    "        speckle_img=skimage.util.random_noise(img,mode='speckle',mean=0,var=speckle_factor)\n",
    "        \n",
    "        #file factor*1000 and save\n",
    "        filename=total_data_directory+'/'+Labels[i]+'/'+Labels[i]+'_specklenoise_'+'sigma_'+str(int(speckle_factor*1000))+'.jpg'\n",
    "        plt.imsave(filename, speckle_img)\n",
    "        totalImages = 1 + totalImages\n",
    "        #print(filename)\n",
    "    i+=1"
   ]
  },
  {
   "cell_type": "code",
   "execution_count": 35,
   "metadata": {},
   "outputs": [
    {
     "data": {
      "text/plain": [
       "<matplotlib.image.AxesImage at 0x7f8c1dd130f0>"
      ]
     },
     "execution_count": 35,
     "metadata": {},
     "output_type": "execute_result"
    },
    {
     "data": {
      "image/png": "[encoded data removed]",
      "text/plain": [
       "<Figure size 432x288 with 1 Axes>"
      ]
     },
     "metadata": {},
     "output_type": "display_data"
    }
   ],
   "source": [
    "plt.imshow(speckle_img)"
   ]
  },
  {
   "cell_type": "code",
   "execution_count": null,
   "metadata": {},
   "outputs": [],
   "source": []
  },
  {
   "cell_type": "code",
   "execution_count": null,
   "metadata": {},
   "outputs": [],
   "source": []
  },
  {
   "cell_type": "code",
   "execution_count": null,
   "metadata": {},
   "outputs": [],
   "source": []
  },
  {
   "cell_type": "code",
   "execution_count": null,
   "metadata": {},
   "outputs": [],
   "source": []
  },
  {
   "cell_type": "code",
   "execution_count": null,
   "metadata": {},
   "outputs": [],
   "source": []
  },
  {
   "cell_type": "code",
   "execution_count": null,
   "metadata": {},
   "outputs": [],
   "source": []
  },
  {
   "cell_type": "code",
   "execution_count": null,
   "metadata": {},
   "outputs": [],
   "source": []
  },
  {
   "cell_type": "code",
   "execution_count": 36,
   "metadata": {},
   "outputs": [],
   "source": [
    "##########################################test noise\n",
    "#cc=skimage.util.random_noise(pp,mode='s&p',salt_vs_pepper=1,amount=0.01)"
   ]
  },
  {
   "cell_type": "code",
   "execution_count": 37,
   "metadata": {},
   "outputs": [],
   "source": [
    "#plt.imshow(cc)"
   ]
  },
  {
   "cell_type": "code",
   "execution_count": 38,
   "metadata": {},
   "outputs": [],
   "source": [
    "#ppp=rgb2gray(cc)"
   ]
  },
  {
   "cell_type": "code",
   "execution_count": 39,
   "metadata": {
    "scrolled": true
   },
   "outputs": [],
   "source": [
    "#plt.imshow(ppp)"
   ]
  },
  {
   "cell_type": "code",
   "execution_count": 40,
   "metadata": {},
   "outputs": [],
   "source": [
    "#zz=(np.random.poisson(lam=0, size=cc.shape) )/255"
   ]
  },
  {
   "cell_type": "code",
   "execution_count": 41,
   "metadata": {},
   "outputs": [],
   "source": [
    "#np.max(zz)"
   ]
  },
  {
   "cell_type": "code",
   "execution_count": 42,
   "metadata": {},
   "outputs": [],
   "source": [
    "#cc= Images[0]\n",
    "#c = cc.astype(float)\n",
    "\n"
   ]
  },
  {
   "cell_type": "code",
   "execution_count": null,
   "metadata": {},
   "outputs": [],
   "source": []
  },
  {
   "cell_type": "code",
   "execution_count": 43,
   "metadata": {},
   "outputs": [],
   "source": [
    "#seed = 42\n",
    "\n",
    "\n",
    "#cc=skimage.util.random_noise(pp,mode='poisson',clip=0.1,seed=seed)\n",
    "#c += (np.random.poisson(lam=100, size=cc.shape) )\n"
   ]
  },
  {
   "cell_type": "code",
   "execution_count": null,
   "metadata": {},
   "outputs": [],
   "source": []
  },
  {
   "cell_type": "code",
   "execution_count": 44,
   "metadata": {},
   "outputs": [],
   "source": [
    "#plt.imshow(c1)\n",
    "#plt.imshow((c * 1).astype(np.uint8))\n",
    "\n"
   ]
  },
  {
   "cell_type": "code",
   "execution_count": 45,
   "metadata": {},
   "outputs": [],
   "source": [
    "a = []"
   ]
  },
  {
   "cell_type": "code",
   "execution_count": 46,
   "metadata": {},
   "outputs": [],
   "source": [
    "for i in range(1,10000):\n",
    "    a.append(random.uniform(1,10))"
   ]
  },
  {
   "cell_type": "code",
   "execution_count": 47,
   "metadata": {},
   "outputs": [
    {
     "data": {
      "text/plain": [
       "(array([ 997.,  926.,  998.,  970., 1004.,  987., 1039., 1037.,  998.,\n",
       "        1043.]),\n",
       " array([1.00003185, 1.90002259, 2.80001333, 3.70000407, 4.59999481,\n",
       "        5.49998554, 6.39997628, 7.29996702, 8.19995776, 9.0999485 ,\n",
       "        9.99993924]),\n",
       " <a list of 10 Patch objects>)"
      ]
     },
     "execution_count": 47,
     "metadata": {},
     "output_type": "execute_result"
    },
    {
     "data": {
      "image/png": "[encoded data removed]",
      "text/plain": [
       "<Figure size 432x288 with 1 Axes>"
      ]
     },
     "metadata": {},
     "output_type": "display_data"
    }
   ],
   "source": [
    "plt.hist(a)"
   ]
  },
  {
   "cell_type": "code",
   "execution_count": null,
   "metadata": {},
   "outputs": [],
   "source": []
  },
  {
   "cell_type": "code",
   "execution_count": 48,
   "metadata": {},
   "outputs": [
    {
     "data": {
      "text/plain": [
       "<matplotlib.image.AxesImage at 0x7f8c1e028710>"
      ]
     },
     "execution_count": 48,
     "metadata": {},
     "output_type": "execute_result"
    },
    {
     "data": {
      "image/png": "[encoded data removed]",
      "text/plain": [
       "<Figure size 432x288 with 1 Axes>"
      ]
     },
     "metadata": {},
     "output_type": "display_data"
    }
   ],
   "source": [
    "\n",
    "\n",
    "cc=skimage.util.random_noise(Images[0],mode='speckle',mean=0,var=0.1)\n",
    "plt.imshow(cc)\n",
    "   "
   ]
  },
  {
   "cell_type": "code",
   "execution_count": 49,
   "metadata": {
    "scrolled": false
   },
   "outputs": [],
   "source": [
    "#blurring\n",
    "i=0\n",
    "for p in range(0,NUMBEROFIMAGE_DATA):\n",
    "    img = Images[i]\n",
    "    \n",
    "    \n",
    "    \n",
    "    for j in range(0,10):\n",
    "        #random configure the kernel parameter\n",
    "        #set window from 2 to width/2\n",
    "        \n",
    "        h_factor = random.uniform(2,WIDTH/3)\n",
    "        w_factor = random.uniform(2,WIDTH/3)\n",
    "        random_factor1=np.random.random((int(h_factor),int(w_factor)))\n",
    "        kernel = random_factor1/np.sum(random_factor1)\n",
    "        \n",
    "        random_blur = cv2.filter2D(img,-1,kernel)\n",
    "        \n",
    "    \n",
    "        filename=total_data_directory+'/'+Labels[i]+'/'+Labels[i]+'_random_bluring_h_'+str(int(h_factor))+'_w_'+str(int(w_factor))+'.jpg'\n",
    "        plt.imsave(filename, random_blur)\n",
    "        totalImages = 1 + totalImages\n",
    "        #print(filename)\n",
    "    i+=1"
   ]
  },
  {
   "cell_type": "code",
   "execution_count": 50,
   "metadata": {},
   "outputs": [
    {
     "data": {
      "text/plain": [
       "(2, 5)"
      ]
     },
     "execution_count": 50,
     "metadata": {},
     "output_type": "execute_result"
    }
   ],
   "source": [
    "random_factor1.shape"
   ]
  },
  {
   "cell_type": "code",
   "execution_count": 51,
   "metadata": {},
   "outputs": [
    {
     "data": {
      "text/plain": [
       "<matplotlib.image.AxesImage at 0x7f8c1dfbbe80>"
      ]
     },
     "execution_count": 51,
     "metadata": {},
     "output_type": "execute_result"
    },
    {
     "data": {
      "image/png": "[encoded data removed]",
      "text/plain": [
       "<Figure size 432x288 with 1 Axes>"
      ]
     },
     "metadata": {},
     "output_type": "display_data"
    }
   ],
   "source": [
    "plt.imshow(random_blur)"
   ]
  },
  {
   "cell_type": "code",
   "execution_count": 52,
   "metadata": {},
   "outputs": [],
   "source": [
    "#blurring average\n",
    "i=0\n",
    "\n",
    "for p in range(0,NUMBEROFIMAGE_DATA):\n",
    "    img = Images[i]\n",
    "    \n",
    "    \n",
    "    \n",
    "    for j in range(0,10):\n",
    "        #from window 2-col/3\n",
    "        random_factor_h=np.random.randint(2,WIDTH/3)\n",
    "        random_factor_w=np.random.randint(2,WIDTH/3)\n",
    "        #print(random_factor1)\n",
    "        #print(random_factor2)\n",
    "        \n",
    "        random_factor3 = np.ones((random_factor_h,random_factor_w),np.float32)\n",
    "       \n",
    "        kernel = random_factor3/np.sum(random_factor3)\n",
    "        \n",
    "        average_blur = cv2.filter2D(img,-1,kernel)\n",
    "        \n",
    "    \n",
    "        filename=total_data_directory+'/'+Labels[i]+'/'+Labels[i]+'_average_bluring_h_'+str(random_factor_h)+'_w_'+str(random_factor_w)+'.jpg'\n",
    "        plt.imsave(filename, average_blur)\n",
    "        totalImages = 1 + totalImages\n",
    "        #print(filename)\n",
    "    i+=1"
   ]
  },
  {
   "cell_type": "code",
   "execution_count": 53,
   "metadata": {},
   "outputs": [
    {
     "data": {
      "text/plain": [
       "<matplotlib.image.AxesImage at 0x7f8c1de22c18>"
      ]
     },
     "execution_count": 53,
     "metadata": {},
     "output_type": "execute_result"
    },
    {
     "data": {
      "image/png": "[encoded data removed]",
      "text/plain": [
       "<Figure size 432x288 with 1 Axes>"
      ]
     },
     "metadata": {},
     "output_type": "display_data"
    }
   ],
   "source": [
    "plt.imshow(average_blur)"
   ]
  },
  {
   "cell_type": "code",
   "execution_count": 54,
   "metadata": {},
   "outputs": [
    {
     "name": "stderr",
     "output_type": "stream",
     "text": [
      "/usr/local/lib/python3.5/dist-packages/skimage/filters/_gaussian.py:108: RuntimeWarning: Images with dimensions (M, N, 3) are interpreted as 2D+RGB by default. Use `multichannel=False` to interpret as 3D image with last dimension of length 3.\n",
      "  warn(RuntimeWarning(msg))\n"
     ]
    }
   ],
   "source": [
    "#blurring gaussian\n",
    "from scipy.ndimage import gaussian_filter\n",
    "\n",
    "i=0\n",
    "\n",
    "for p in range(0,NUMBEROFIMAGE_DATA):\n",
    "    img = Images[i]\n",
    "    \n",
    "    \n",
    "    \n",
    "    for j in range(0,30):\n",
    "        #sigma = 0-10\n",
    "        random_factor_sigma=np.random.uniform(0,10)\n",
    " \n",
    "      \n",
    "  \n",
    "        \n",
    "        sigma_factor = str(round(random_factor_sigma,2))\n",
    "        gaussian_blur = skimage.filters.gaussian(img,sigma=random_factor_sigma)\n",
    "    \n",
    "        \n",
    "    \n",
    "        filename=total_data_directory+'/'+Labels[i]+'/'+Labels[i]+'_gaussian_bluring_sigma'+sigma_factor+'.jpg'\n",
    "        plt.imsave(filename, gaussian_blur)\n",
    "        totalImages = 1 + totalImages\n",
    "        #print(filename)\n",
    "    i+=1"
   ]
  },
  {
   "cell_type": "code",
   "execution_count": 55,
   "metadata": {},
   "outputs": [
    {
     "data": {
      "text/plain": [
       "<matplotlib.image.AxesImage at 0x7f8c1dcb63c8>"
      ]
     },
     "execution_count": 55,
     "metadata": {},
     "output_type": "execute_result"
    },
    {
     "data": {
      "image/png": "[encoded data removed]",
      "text/plain": [
       "<Figure size 432x288 with 1 Axes>"
      ]
     },
     "metadata": {},
     "output_type": "display_data"
    }
   ],
   "source": [
    "plt.imshow(gaussian_blur)"
   ]
  },
  {
   "cell_type": "code",
   "execution_count": 56,
   "metadata": {},
   "outputs": [
    {
     "data": {
      "text/plain": [
       "'7.81'"
      ]
     },
     "execution_count": 56,
     "metadata": {},
     "output_type": "execute_result"
    }
   ],
   "source": [
    "sigma_factor"
   ]
  },
  {
   "cell_type": "code",
   "execution_count": 57,
   "metadata": {},
   "outputs": [],
   "source": [
    "#blurring median\n",
    "i=0\n",
    "\n",
    "for p in range(0,NUMBEROFIMAGE_DATA):\n",
    "    img = Images[i]\n",
    "    \n",
    "    \n",
    "    \n",
    "    for j in range(0,10):\n",
    "        \n",
    "        random_factor=np.random.randint(1,WIDTH/3)\n",
    "        random_factor=np.random.randint(1,WIDTH/3)\n",
    "\n",
    "        #windwo 1 ~ width/3\n",
    "        \n",
    "        median_blur = ndimage.median_filter(img,  size=random_factor_w)\n",
    "        \n",
    "    \n",
    "        \n",
    "    \n",
    "        filename=total_data_directory+'/'+Labels[i]+'/'+Labels[i]+'_median_bluring_'+str(random_factor)+'.jpg'\n",
    "        plt.imsave(filename, median_blur)\n",
    "        totalImages = 1 + totalImages\n",
    "        #print(filename)\n",
    "    i+=1"
   ]
  },
  {
   "cell_type": "code",
   "execution_count": 58,
   "metadata": {},
   "outputs": [
    {
     "data": {
      "text/plain": [
       "<matplotlib.image.AxesImage at 0x7f8c1db0b4e0>"
      ]
     },
     "execution_count": 58,
     "metadata": {},
     "output_type": "execute_result"
    },
    {
     "data": {
      "image/png": "[encoded data removed]",
      "text/plain": [
       "<Figure size 432x288 with 1 Axes>"
      ]
     },
     "metadata": {},
     "output_type": "display_data"
    }
   ],
   "source": [
    "plt.imshow(median_blur)"
   ]
  },
  {
   "cell_type": "code",
   "execution_count": 59,
   "metadata": {
    "scrolled": true
   },
   "outputs": [],
   "source": [
    "\n",
    "#blurring minima\n",
    "i=0\n",
    "\n",
    "for p in range(0,NUMBEROFIMAGE_DATA):\n",
    "    img = Images[i]\n",
    "    \n",
    "    \n",
    "    \n",
    "    for j in range(0,10):\n",
    "       \n",
    "        random_factor_size=np.random.uniform(2,WIDTH/3)\n",
    "        factor = str(round(random_factor_size,0))\n",
    "    \n",
    "        minimum_blur = ndimage.minimum_filter(img,  size=random_factor_size)\n",
    "\n",
    "        filename=total_data_directory+'/'+Labels[i]+'/'+Labels[i]+'_minimum_bluring_factor_'+factor+'.jpg'\n",
    "        plt.imsave(filename, minimum_blur)\n",
    "        totalImages = 1 + totalImages\n",
    "        #print(filename)\n",
    "    i+=1"
   ]
  },
  {
   "cell_type": "code",
   "execution_count": null,
   "metadata": {},
   "outputs": [],
   "source": []
  },
  {
   "cell_type": "code",
   "execution_count": 60,
   "metadata": {},
   "outputs": [
    {
     "data": {
      "text/plain": [
       "<matplotlib.image.AxesImage at 0x7f8c1dad4668>"
      ]
     },
     "execution_count": 60,
     "metadata": {},
     "output_type": "execute_result"
    },
    {
     "data": {
      "image/png": "[encoded data removed]",
      "text/plain": [
       "<Figure size 432x288 with 1 Axes>"
      ]
     },
     "metadata": {},
     "output_type": "display_data"
    }
   ],
   "source": [
    "plt.imshow(minimum_blur)"
   ]
  },
  {
   "cell_type": "code",
   "execution_count": 61,
   "metadata": {},
   "outputs": [],
   "source": [
    "#blurring maximum\n",
    "i=0\n",
    "\n",
    "for p in range(0,NUMBEROFIMAGE_DATA):\n",
    "    img = Images[i]\n",
    "    \n",
    "    \n",
    "    \n",
    "    for j in range(0,10):\n",
    "        \n",
    "        random_factor_size=np.random.uniform(1,WIDTH/6)\n",
    "        factor = str(round(random_factor_size,0))\n",
    "     \n",
    "  \n",
    "        \n",
    "        \n",
    "        maximum_blur = ndimage.maximum_filter(img,  size=random_factor_size)\n",
    "        \n",
    "        #gaussian_blur = cv2.GaussianBlur(img,(random_factor2,random_factor2),0)\n",
    "        \n",
    "    \n",
    "        filename=total_data_directory+'/'+Labels[i]+'/'+Labels[i]+'_maximum_bluring_size'+factor+'.jpg'\n",
    "        plt.imsave(filename, maximum_blur)\n",
    "        totalImages = 1 + totalImages\n",
    "        #print(filename)\n",
    "    i+=1"
   ]
  },
  {
   "cell_type": "code",
   "execution_count": 62,
   "metadata": {},
   "outputs": [
    {
     "data": {
      "text/plain": [
       "<matplotlib.image.AxesImage at 0x7f8c1daeeb00>"
      ]
     },
     "execution_count": 62,
     "metadata": {},
     "output_type": "execute_result"
    },
    {
     "data": {
      "image/png": "[encoded data removed]",
      "text/plain": [
       "<Figure size 432x288 with 1 Axes>"
      ]
     },
     "metadata": {},
     "output_type": "display_data"
    }
   ],
   "source": [
    "plt.imshow(maximum_blur)"
   ]
  },
  {
   "cell_type": "code",
   "execution_count": 63,
   "metadata": {},
   "outputs": [
    {
     "name": "stderr",
     "output_type": "stream",
     "text": [
      "/usr/local/lib/python3.5/dist-packages/skimage/restoration/_denoise.py:79: UserWarning: denoise_bilateral will default to multichannel=False in v0.15\n",
      "  warn('denoise_bilateral will default to multichannel=False in v0.15')\n"
     ]
    }
   ],
   "source": [
    "#blurring bilateral\n",
    "from skimage.restoration import (denoise_tv_chambolle, denoise_bilateral,\n",
    "                                 denoise_wavelet, estimate_sigma)\n",
    "i=0\n",
    "\n",
    "for p in range(0,NUMBEROFIMAGE_DATA):\n",
    "    img = Images[i]\n",
    "    \n",
    "    \n",
    "    \n",
    "    for j in range(0,40):\n",
    "        \n",
    "        random_factor_color=np.random.uniform(0.01,15)\n",
    "        random_factor_sigma_spatial=np.random.randint(1,WIDTH/3)\n",
    "        \n",
    "        random_factor_c= str(round(random_factor_color))\n",
    "        random_factor_s=str(round(random_factor_sigma_spatial))\n",
    "        \n",
    "       \n",
    "       \n",
    "        \n",
    "        bilateral_blur = denoise_bilateral(img,sigma_color=random_factor_color,sigma_spatial=random_factor_sigma_spatial)\n",
    "        \n",
    "    \n",
    "        filename=total_data_directory+'/'+Labels[i]+'/'+Labels[i]+'_bilateral_bluring_color'+random_factor_c+'spatial_'+random_factor_s+'.jpg'\n",
    "        plt.imsave(filename, bilateral_blur)\n",
    "        totalImages = 1 + totalImages\n",
    "        #print(filename)\n",
    "    i+=1"
   ]
  },
  {
   "cell_type": "code",
   "execution_count": 64,
   "metadata": {},
   "outputs": [
    {
     "data": {
      "text/plain": [
       "<matplotlib.image.AxesImage at 0x7f8c1da3ab38>"
      ]
     },
     "execution_count": 64,
     "metadata": {},
     "output_type": "execute_result"
    },
    {
     "data": {
      "image/png": "[encoded data removed]",
      "text/plain": [
       "<Figure size 432x288 with 1 Axes>"
      ]
     },
     "metadata": {},
     "output_type": "display_data"
    }
   ],
   "source": [
    "plt.imshow(bilateral_blur)"
   ]
  },
  {
   "cell_type": "code",
   "execution_count": null,
   "metadata": {},
   "outputs": [],
   "source": []
  },
  {
   "cell_type": "code",
   "execution_count": 65,
   "metadata": {},
   "outputs": [],
   "source": [
    "#blurring percentile\n",
    "i=0\n",
    "\n",
    "for p in range(0,NUMBEROFIMAGE_DATA):\n",
    "    img = Images[i]\n",
    "    \n",
    "    \n",
    "    \n",
    "    for j in range(0,20):\n",
    "        \n",
    "        random_factor_percentile=np.random.randint(1,100)\n",
    "        random_factor_size=np.random.randint(2,WIDTH/3)\n",
    "        #print(random_factor1)\n",
    "        #print(random_factor2)\n",
    "  \n",
    "        \n",
    "        \n",
    "        percentile_blur = ndimage.percentile_filter(img, percentile=random_factor_percentile, size=random_factor_size)\n",
    "        \n",
    "        #gaussian_blur = cv2.GaussianBlur(img,(random_factor2,random_factor2),0)\n",
    "        \n",
    "    \n",
    "        filename=total_data_directory+'/'+Labels[i]+'/'+Labels[i]+'_percentile_bluring_percentile_'+str(random_factor_percentile)+'_size_'+str(random_factor_size)+'.jpg'\n",
    "        plt.imsave(filename, percentile_blur)\n",
    "        totalImages = 1 + totalImages\n",
    "        #print(filename)\n",
    "    i+=1"
   ]
  },
  {
   "cell_type": "code",
   "execution_count": 66,
   "metadata": {},
   "outputs": [
    {
     "data": {
      "text/plain": [
       "<matplotlib.image.AxesImage at 0x7f8c1d9d4d68>"
      ]
     },
     "execution_count": 66,
     "metadata": {},
     "output_type": "execute_result"
    },
    {
     "data": {
      "image/png": "[encoded data removed]",
      "text/plain": [
       "<Figure size 432x288 with 1 Axes>"
      ]
     },
     "metadata": {},
     "output_type": "display_data"
    }
   ],
   "source": [
    "plt.imshow(ndimage.percentile_filter(img, percentile=10, size=10))"
   ]
  },
  {
   "cell_type": "code",
   "execution_count": 67,
   "metadata": {},
   "outputs": [
    {
     "data": {
      "text/plain": [
       "27040"
      ]
     },
     "execution_count": 67,
     "metadata": {},
     "output_type": "execute_result"
    }
   ],
   "source": [
    "totalImages"
   ]
  },
  {
   "cell_type": "code",
   "execution_count": null,
   "metadata": {},
   "outputs": [],
   "source": []
  }
 ],
 "metadata": {
  "kernelspec": {
   "display_name": "Python 3",
   "language": "python",
   "name": "python3"
  },
  "language_info": {
   "codemirror_mode": {
    "name": "ipython",
    "version": 3
   },
   "file_extension": ".py",
   "mimetype": "text/x-python",
   "name": "python",
   "nbconvert_exporter": "python",
   "pygments_lexer": "ipython3",
   "version": "3.5.2"
  }
 },
 "nbformat": 4,
 "nbformat_minor": 2
}
