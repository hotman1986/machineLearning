{
 "cells": [
  {
   "cell_type": "code",
   "execution_count": 1,
   "metadata": {},
   "outputs": [
    {
     "name": "stderr",
     "output_type": "stream",
     "text": [
      "/usr/local/lib/python3.5/dist-packages/h5py/__init__.py:36: FutureWarning: Conversion of the second argument of issubdtype from `float` to `np.floating` is deprecated. In future, it will be treated as `np.float64 == np.dtype(float).type`.\n",
      "  from ._conv import register_converters as _register_converters\n"
     ]
    }
   ],
   "source": [
    "%matplotlib inline\n",
    "import matplotlib.pyplot as plt\n",
    "import tensorflow as tf\n",
    "import numpy as np\n",
    "from sklearn.metrics import confusion_matrix"
   ]
  },
  {
   "cell_type": "code",
   "execution_count": 2,
   "metadata": {},
   "outputs": [],
   "source": [
    "HEIGHT = 48\n",
    "WIDTH = 24\n",
    "DATASETNUMBER=1\n",
    "EPOCH = 2000"
   ]
  },
  {
   "cell_type": "code",
   "execution_count": 3,
   "metadata": {},
   "outputs": [
    {
     "name": "stderr",
     "output_type": "stream",
     "text": [
      "Using TensorFlow backend.\n"
     ]
    }
   ],
   "source": [
    "#!/usr/bin/python3\n",
    "# -*- coding: utf-8 -*-\n",
    "from __future__ import division, print_function, unicode_literals\n",
    "import tensorflow as tf\n",
    "from time import time\n",
    "from keras.utils import np_utils#one hot\n",
    "import os\n",
    "from skimage import data\n",
    "from skimage import transform\n",
    "import skimage\n",
    "import numpy as np\n",
    "\n",
    "# Download the dataset\n",
    "\n",
    "\n",
    "def load_data(data_directory):\n",
    "    directories = [d for d in os.listdir(data_directory) \n",
    "                  if os.path.isdir(os.path.join(data_directory,d))]\n",
    "    labels=[]\n",
    "    images=[]\n",
    "    for d in directories:\n",
    "        label_directory = os.path.join(data_directory,d)\n",
    "        file_names = [os.path.join(label_directory,f)\n",
    "                     for f in os.listdir(label_directory)\n",
    "                     if f.endswith('.jpg')]\n",
    "        for f in file_names:\n",
    "            images.append(skimage.data.imread(f))\n",
    "            labels.append(str(d))\n",
    "    return images, labels"
   ]
  },
  {
   "cell_type": "code",
   "execution_count": 4,
   "metadata": {},
   "outputs": [],
   "source": [
    "size_of_name= str(HEIGHT)+'*'+str(WIDTH)\n",
    "ROOT_PATH = '/home/tang/targa/exp4/trainingOriginal/lightTransformation/splitLightData/'+str(DATASETNUMBER)+'SplitDataset/'+size_of_name\n",
    "train_data_directory = os.path.join(ROOT_PATH, \"train\")\n",
    "#validation_data_directory = os.path.join(ROOT_PATH, \"16_8_1568_train\") 16_8_4448_train  16_8_1248_train \n",
    "\n",
    "test_data_directory = os.path.join(ROOT_PATH, \"test\")\n",
    "validation_data_directory = os.path.join(ROOT_PATH,\"validation\")"
   ]
  },
  {
   "cell_type": "code",
   "execution_count": 5,
   "metadata": {},
   "outputs": [],
   "source": [
    "train_images,train_labels = load_data(train_data_directory)\n",
    "test_images,test_labels = load_data(test_data_directory)\n",
    "validation_images,validation_labels=load_data(validation_data_directory)"
   ]
  },
  {
   "cell_type": "code",
   "execution_count": 6,
   "metadata": {},
   "outputs": [],
   "source": [
    "#encoding trY teY\n",
    "from numpy import array\n",
    "#from numpy import argmax\n",
    "#from keras.utils import to_categorical\n",
    "from numpy import array\n",
    "from numpy import argmax\n",
    "from sklearn.preprocessing import LabelEncoder\n",
    "from sklearn.preprocessing import OneHotEncoder\n",
    "# define example\n",
    "\n",
    "#train_labels = np_utils.to_categorical(train_labels,num_classes = None)\n",
    "#test_labels = np_utils.to_categorical(test_labels,num_classes = None)\n",
    "trL,teL,valL=array(train_labels),array(test_labels),array(validation_labels)\n",
    "label_encoder = LabelEncoder()"
   ]
  },
  {
   "cell_type": "code",
   "execution_count": 7,
   "metadata": {},
   "outputs": [],
   "source": [
    "integer_encoded_trL = label_encoder.fit_transform(trL)\n",
    "integer_encoded_teL = label_encoder.fit_transform(teL)\n",
    "integer_encoded_valL = label_encoder.fit_transform(valL)"
   ]
  },
  {
   "cell_type": "code",
   "execution_count": 8,
   "metadata": {},
   "outputs": [],
   "source": [
    "trainLabels = np_utils.to_categorical(integer_encoded_trL,num_classes = 32)\n",
    "testLabels = np_utils.to_categorical(integer_encoded_teL,num_classes = 32)\n",
    "validationLabels = np_utils.to_categorical(integer_encoded_valL,num_classes=32)"
   ]
  },
  {
   "cell_type": "code",
   "execution_count": 9,
   "metadata": {},
   "outputs": [],
   "source": [
    "########convert rgb images into black and white\n",
    "#convert images into size of vector\n",
    "from skimage.color import rgb2gray\n",
    "\n",
    "trainImages = rgb2gray(np.array(train_images))\n",
    "testImages = rgb2gray(np.array(test_images))\n",
    "validationImages = rgb2gray(np.array(validation_images))\n",
    "\n",
    "train_flat_images = np.reshape(trainImages,(len(trainImages),HEIGHT*WIDTH))\n",
    "test_flat_images = np.reshape(testImages,(len(testImages),HEIGHT*WIDTH))\n",
    "validation_flat_images = np.reshape(validationImages,(len(validationImages),HEIGHT*WIDTH))"
   ]
  },
  {
   "cell_type": "code",
   "execution_count": 10,
   "metadata": {},
   "outputs": [
    {
     "data": {
      "text/plain": [
       "(1152,)"
      ]
     },
     "execution_count": 10,
     "metadata": {},
     "output_type": "execute_result"
    }
   ],
   "source": [
    "train_flat_images[0].shape"
   ]
  },
  {
   "cell_type": "code",
   "execution_count": 11,
   "metadata": {},
   "outputs": [
    {
     "name": "stdout",
     "output_type": "stream",
     "text": [
      "train images shape:\t\t(18046, 1152)\n",
      "test images shape:\t\t(2255, 1152)\n",
      "validation images shape:\t\t(2257, 1152)\n"
     ]
    }
   ],
   "source": [
    "print('train images shape:\\t\\t{}'.format(train_flat_images.shape))\n",
    "\n",
    "print('test images shape:\\t\\t{}'.format(test_flat_images.shape))\n",
    "print('validation images shape:\\t\\t{}'.format(validation_flat_images.shape))\n",
    "\n"
   ]
  },
  {
   "cell_type": "code",
   "execution_count": 12,
   "metadata": {},
   "outputs": [
    {
     "data": {
      "text/plain": [
       "<matplotlib.image.AxesImage at 0x7fd27b7e2ef0>"
      ]
     },
     "execution_count": 12,
     "metadata": {},
     "output_type": "execute_result"
    },
    {
     "data": {
      "image/png": "[encoded data removed]",
      "text/plain": [
       "<Figure size 432x288 with 1 Axes>"
      ]
     },
     "metadata": {},
     "output_type": "display_data"
    }
   ],
   "source": [
    "plt.imshow(trainImages[0])"
   ]
  },
  {
   "cell_type": "code",
   "execution_count": 13,
   "metadata": {},
   "outputs": [],
   "source": [
    "batch_size = 100\n",
    "n_batch = len(trainLabels)//batch_size\n",
    "lr = tf.Variable(0.001,dtype = tf.float32)"
   ]
  },
  {
   "cell_type": "code",
   "execution_count": 14,
   "metadata": {},
   "outputs": [],
   "source": [
    "def variable_summaries(var):\n",
    "    with tf.name_scope('summaries'):\n",
    "        mean = tf.reduce_mean(var)\n",
    "        tf.summary.scalar('mean',mean) # 平均值\n",
    "        with tf.name_scope('stddev'):\n",
    "            stddev = tf.sqrt(tf.reduce_mean(tf.square(var-mean)))\n",
    "        tf.summary.scalar('stddev',stddev)\n",
    "        tf.summary.scalar('max',tf.reduce_max(var))\n",
    "        tf.summary.scalar('min',tf.reduce_min(var))\n",
    "        tf.summary.histogram('histgram',var) # 直方图"
   ]
  },
  {
   "cell_type": "code",
   "execution_count": 15,
   "metadata": {},
   "outputs": [
    {
     "name": "stdout",
     "output_type": "stream",
     "text": [
      "WARNING:tensorflow:From <ipython-input-15-60e2141b1e51>:65: softmax_cross_entropy_with_logits (from tensorflow.python.ops.nn_ops) is deprecated and will be removed in a future version.\n",
      "Instructions for updating:\n",
      "\n",
      "Future major versions of TensorFlow will allow gradients to flow\n",
      "into the labels input on backprop by default.\n",
      "\n",
      "See tf.nn.softmax_cross_entropy_with_logits_v2.\n",
      "\n"
     ]
    }
   ],
   "source": [
    "#命名空间\n",
    "with tf.name_scope('input'):\n",
    "    #定义两个placeholder \n",
    "    #把批次的图片传进去，开始是100张一次的传送，直到最后\n",
    "    x = tf.placeholder(tf.float32,[None,WIDTH*HEIGHT],name='x-input')\n",
    "    y = tf.placeholder(tf.float32,[None,32],name='y-input')\n",
    "    #定义一个dropout的值\n",
    "    keep_prob = tf.placeholder(tf.float32,name = 'non-dropout-rate')\n",
    "with tf.name_scope('layer'):\n",
    "    with tf.name_scope('W1'):\n",
    "        #第一层\n",
    "        W1 = tf.Variable(tf.truncated_normal([WIDTH*HEIGHT,50],stddev=0.1),name='W1')#改成截断正太分布\n",
    "    with tf.name_scope('b1'):\n",
    "        \n",
    "        b1 = tf.Variable(tf.zeros([50])+0.1,name = 'b1')\n",
    "    with tf.name_scope('out1'):\n",
    "        \n",
    "        output1 = tf.matmul(x,W1) + b1\n",
    "    with tf.name_scope('L1'):\n",
    "        L1 = tf.nn.tanh(output1)\n",
    "    with tf.name_scope('L1-drop'):\n",
    "        #L1为第一层的输出，keep_prob为1的话就是不丢失，如果为0的话就是全丢，如果为0.5的话就是丢失50%的神经元\n",
    "        L1_drop = tf.nn.dropout(L1,keep_prob)\n",
    "\n",
    "    '''\n",
    "    with tf.name_scope('W2'):\n",
    "        #第二层\n",
    "        W2 = tf.Variable(tf.truncated_normal([1000,2000],stddev=0.1),name='W2')\n",
    "    with tf.name_scope('b2'):\n",
    "        b2 = tf.Variable(tf.zeros([2000])+0.2,name='b2')\n",
    "    with tf.name_scope('output2'):\n",
    "        output2 = tf.matmul(L1_drop,W2)+b2\n",
    "    with tf.name_scope('L2'):\n",
    "        \n",
    "        L2 = tf.nn.tanh(output2)\n",
    "    with tf.name_scope('L2_drop'):\n",
    "        #L1为第一层的输出，keep_prob为1的话就是不丢失，如果为0的话就是全丢，如果为0.5的话就是丢失50%的神经元\n",
    "        L2_drop = tf.nn.dropout(L2,keep_prob)\n",
    "\n",
    "    with tf.name_scope('W3'):\n",
    "        #第三层\n",
    "        W3 = tf.Variable(tf.truncated_normal([2000,1000],stddev=0.1),name='W3')\n",
    "    with tf.name_scope('b3'):\n",
    "        b3 = tf.Variable(tf.zeros([1000])+0.1,name='b3')\n",
    "    with tf.name_scope('output3'):   \n",
    "        output3 = tf.matmul(L2_drop,W3)+b3\n",
    "    with tf.name_scope('L3'):\n",
    "        L3 = tf.nn.tanh(output3)\n",
    "    with tf.name_scope('L3-drop'):\n",
    "        #L1为第一层的输出，keep_prob为1的话就是不丢失，如果为0的话就是全丢，如果为0.5的话就是丢失50%的神经元\n",
    "        L3_drop = tf.nn.dropout(L3,keep_prob)\n",
    "        '''\n",
    "    with tf.name_scope('W4'):\n",
    "    #第四层\n",
    "        W4 = tf.Variable(tf.truncated_normal([50,32],stddev=0.1))\n",
    "    with tf.name_scope('b4'):        \n",
    "        b4 = tf.Variable(tf.zeros([32])+0.1)\n",
    "    with tf.name_scope('output4'):\n",
    "        output4 = tf.matmul(L1_drop,W4)+ b4\n",
    "    with tf.name_scope('softmax'):\n",
    "        #预测分类\n",
    "        prediction = tf.nn.softmax(output4)\n",
    "with tf.name_scope('loss'):\n",
    "    #定义一个损失函数\n",
    "    loss = tf.reduce_mean(tf.nn.softmax_cross_entropy_with_logits(labels=y,logits = prediction))#联合交叉熵\n",
    "    tf.summary.scalar('cross_entropy',loss)\n",
    "    #loss = tf.reduce_mean(tf.square(y-prediction))\n",
    "with tf.name_scope('train'):\n",
    "    #定义一个方法来收敛神经网络，使用梯度下降法,学习率=0.1\n",
    "    train_step = tf.train.AdamOptimizer(0.00001).minimize(loss)\n",
    "    #train_step = tf.train.AdamOptimizer(0.1).minimize(loss)\n",
    "#初始化\n",
    "init = tf.global_variables_initializer()\n",
    "with tf.name_scope('accuracy'):\n",
    "    with tf.name_scope('correct-prediction'):\n",
    "        #定义一个求准确率的方法\n",
    "        #如果有两个相同的就会返回TRUE，不相同就返回false，然后就依次存入correct_prediction\n",
    "        correct_prediction = tf.equal(tf.argmax(y,1),tf.argmax(prediction,1))#argmax返回一维张量中的最大值\n",
    "    with tf.name_scope('accuracy'):    \n",
    "        #求准确率\n",
    "        #首先把bool值转化成32位的浮点数，然后求平均值\n",
    "        accuracy = tf.reduce_mean(tf.cast(correct_prediction,tf.float32))\n",
    "        tf.summary.scalar('accuracy',accuracy)"
   ]
  },
  {
   "cell_type": "code",
   "execution_count": 16,
   "metadata": {},
   "outputs": [],
   "source": [
    "merged = tf.summary.merge_all()"
   ]
  },
  {
   "cell_type": "code",
   "execution_count": 17,
   "metadata": {},
   "outputs": [],
   "source": [
    "def next_batch(num, data, labels):\n",
    "    '''\n",
    "    Return a total of `num` random samples and labels. \n",
    "    '''\n",
    "    idx = np.arange(0 , len(data))\n",
    "    np.random.shuffle(idx)\n",
    "    idx = idx[:num]\n",
    "    data_shuffle = [data[ i] for i in idx]\n",
    "    labels_shuffle = [labels[ i] for i in idx]\n",
    "\n",
    "    return np.asarray(data_shuffle), np.asarray(labels_shuffle)"
   ]
  },
  {
   "cell_type": "code",
   "execution_count": 18,
   "metadata": {},
   "outputs": [],
   "source": [
    "PAD_PATH = '/home/tang/targa/exp4/trainingOriginal/logs/lightTransformation/'+size_of_name\n",
    "\n",
    "test_log = os.path.join(PAD_PATH,'test')\n",
    "table_log = os.path.join(PAD_PATH,'for_drawing')\n",
    "if not os.path.exists(table_log):\n",
    "    os.makedirs(table_log)"
   ]
  },
  {
   "cell_type": "code",
   "execution_count": 19,
   "metadata": {},
   "outputs": [
    {
     "name": "stdout",
     "output_type": "stream",
     "text": [
      "epoch=0,train accuracy=0.0528649,test accuracy=0.049667407\n",
      "epoch=200,train accuracy=0.86068934,test accuracy=0.85498893\n",
      "epoch=400,train accuracy=0.88523775,test accuracy=0.87849224\n",
      "epoch=600,train accuracy=0.9013632,test accuracy=0.89135253\n",
      "epoch=800,train accuracy=0.91427463,test accuracy=0.9002217\n",
      "epoch=1000,train accuracy=0.92480326,test accuracy=0.908204\n",
      "epoch=1200,train accuracy=0.9312313,test accuracy=0.9148559\n",
      "epoch=1400,train accuracy=0.9364402,test accuracy=0.9170732\n",
      "epoch=1600,train accuracy=0.9412058,test accuracy=0.9210643\n",
      "epoch=1800,train accuracy=0.9450294,test accuracy=0.9263858\n"
     ]
    }
   ],
   "source": [
    "with tf.Session() as sess:\n",
    "    sess.run(init)\n",
    "    #路径和文件名\n",
    "   \n",
    "   \n",
    "    test_writer = tf.summary.FileWriter(test_log,sess.graph)\n",
    "    for epoch in range(EPOCH+1):#把所有的图片训练20次\n",
    "        #一批一批的迭代图片，一次迭代100张，一共运行n_batch次\n",
    "        for batch in range(n_batch):\n",
    "            #每次传入一百张图片\n",
    "            batch_xs,batch_ys = next_batch(batch_size,train_flat_images,trainLabels)\n",
    "            sess.run(train_step,feed_dict={x:batch_xs,y:batch_ys,keep_prob:0.7})\n",
    "        train_batch_xs,train_batch_ys = train_flat_images,trainLabels\n",
    "        \n",
    "            \n",
    "        test_batch_xs,test_batch_ys = test_flat_images,testLabels\n",
    "        summary = sess.run(merged,feed_dict={x:test_batch_xs,y:test_batch_ys,keep_prob:1.0})\n",
    "        test_writer.add_summary(summary,epoch)  \n",
    "        \n",
    "        test_acc = sess.run(accuracy,feed_dict={x:test_flat_images,y:testLabels,keep_prob:1.0})        \n",
    "        train_acc = sess.run(accuracy,feed_dict={x:train_flat_images,y:trainLabels,keep_prob:1.0})\n",
    "        \n",
    "        if epoch%200 == 0:\n",
    "            \n",
    "            print('epoch=' + str(epoch) + ',train accuracy='+ str(train_acc)+',test accuracy=' + str(test_acc))\n",
    "        #write a file for this\n",
    "       \n",
    "            with open(table_log+'/'+size_of_name+'table.txt', 'a') as the_file:\n",
    "            \n",
    "                the_file.write(str(test_acc)+'\\n')"
   ]
  },
  {
   "cell_type": "code",
   "execution_count": null,
   "metadata": {},
   "outputs": [],
   "source": []
  }
 ],
 "metadata": {
  "kernelspec": {
   "display_name": "Python 3",
   "language": "python",
   "name": "python3"
  },
  "language_info": {
   "codemirror_mode": {
    "name": "ipython",
    "version": 3
   },
   "file_extension": ".py",
   "mimetype": "text/x-python",
   "name": "python",
   "nbconvert_exporter": "python",
   "pygments_lexer": "ipython3",
   "version": "3.5.2"
  }
 },
 "nbformat": 4,
 "nbformat_minor": 2
}
