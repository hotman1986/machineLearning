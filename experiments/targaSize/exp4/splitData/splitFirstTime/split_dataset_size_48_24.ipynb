{
 "cells": [
  {
   "cell_type": "code",
   "execution_count": 1,
   "metadata": {},
   "outputs": [
    {
     "name": "stderr",
     "output_type": "stream",
     "text": [
      "/usr/local/lib/python3.5/dist-packages/h5py/__init__.py:36: FutureWarning: Conversion of the second argument of issubdtype from `float` to `np.floating` is deprecated. In future, it will be treated as `np.float64 == np.dtype(float).type`.\n",
      "  from ._conv import register_converters as _register_converters\n"
     ]
    }
   ],
   "source": [
    "import cv2\n",
    "import os\n",
    "import PIL\n",
    "import skimage\n",
    "from skimage import data\n",
    "from PIL import Image\n",
    "import numpy as np\n",
    "import matplotlib.pyplot as plt\n",
    "import random\n",
    "from random import randint\n",
    "import tensorflow as tf\n",
    "from scipy import ndimage, misc\n"
   ]
  },
  {
   "cell_type": "code",
   "execution_count": null,
   "metadata": {},
   "outputs": [],
   "source": []
  },
  {
   "cell_type": "code",
   "execution_count": 2,
   "metadata": {},
   "outputs": [],
   "source": [
    "def load_data(data_directory):\n",
    "    directories = [d for d in os.listdir(data_directory) \n",
    "                   if os.path.isdir(os.path.join(data_directory, d))]\n",
    "    labels = []\n",
    "    images = []\n",
    "    image_name=[]\n",
    "    for d in directories:\n",
    "        label_directory = os.path.join(data_directory, d)\n",
    "        file_names = [os.path.join(label_directory, f) \n",
    "                      for f in os.listdir(label_directory) if f.endswith(\".jpg\")]\n",
    "        for f in file_names:\n",
    "            images.append(skimage.data.imread(f))\n",
    "            labels.append(str(d))\n",
    "            image_name.append(str(f))\n",
    "    return images, labels,image_name"
   ]
  },
  {
   "cell_type": "code",
   "execution_count": 3,
   "metadata": {},
   "outputs": [],
   "source": [
    "ROOT_PATH = '/home/tang/targa/exp4/size48*24/'\n",
    "\n",
    "train_data_directory = os.path.join(ROOT_PATH, \"train\")\n",
    "test_data_directory = os.path.join(ROOT_PATH, \"test\")\n",
    "validation_data_directory = os.path.join(ROOT_PATH,'validation')\n",
    "total_data_directory = os.path.join(ROOT_PATH, \"total_data\")"
   ]
  },
  {
   "cell_type": "code",
   "execution_count": 4,
   "metadata": {
    "scrolled": false
   },
   "outputs": [],
   "source": [
    "#os.listdir(total_data_directory+'/0')"
   ]
  },
  {
   "cell_type": "code",
   "execution_count": 5,
   "metadata": {},
   "outputs": [],
   "source": [
    "Images,Labels,Image_names = load_data(total_data_directory)"
   ]
  },
  {
   "cell_type": "code",
   "execution_count": 6,
   "metadata": {},
   "outputs": [
    {
     "data": {
      "text/plain": [
       "'J_sheared__0099.jpg'"
      ]
     },
     "execution_count": 6,
     "metadata": {},
     "output_type": "execute_result"
    }
   ],
   "source": [
    "os.path.basename(Image_names[0])"
   ]
  },
  {
   "cell_type": "code",
   "execution_count": 7,
   "metadata": {},
   "outputs": [
    {
     "data": {
      "text/plain": [
       "'/home/tang/targa/exp4/size48*24/total_data/J/J_gaussian_sigma_0.141.jpg'"
      ]
     },
     "execution_count": 7,
     "metadata": {},
     "output_type": "execute_result"
    }
   ],
   "source": [
    "Image_names[7]"
   ]
  },
  {
   "cell_type": "code",
   "execution_count": 8,
   "metadata": {},
   "outputs": [
    {
     "data": {
      "text/plain": [
       "<matplotlib.image.AxesImage at 0x7f1bb5afd400>"
      ]
     },
     "execution_count": 8,
     "metadata": {},
     "output_type": "execute_result"
    },
    {
     "data": {
      "image/png": "[encoded data removed]",
      "text/plain": [
       "<Figure size 432x288 with 1 Axes>"
      ]
     },
     "metadata": {},
     "output_type": "display_data"
    }
   ],
   "source": [
    "plt.imshow(Images[0])"
   ]
  },
  {
   "cell_type": "code",
   "execution_count": 9,
   "metadata": {},
   "outputs": [
    {
     "data": {
      "text/plain": [
       "'J'"
      ]
     },
     "execution_count": 9,
     "metadata": {},
     "output_type": "execute_result"
    }
   ],
   "source": [
    "Labels[0]"
   ]
  },
  {
   "cell_type": "code",
   "execution_count": 10,
   "metadata": {},
   "outputs": [
    {
     "data": {
      "text/plain": [
       "24594"
      ]
     },
     "execution_count": 10,
     "metadata": {},
     "output_type": "execute_result"
    }
   ],
   "source": [
    "len(Labels)"
   ]
  },
  {
   "cell_type": "code",
   "execution_count": null,
   "metadata": {},
   "outputs": [],
   "source": []
  },
  {
   "cell_type": "code",
   "execution_count": 11,
   "metadata": {},
   "outputs": [],
   "source": [
    "#########define percentage of dataset\n",
    "total_number = len(Labels)\n",
    "train_number = int(total_number*0.8)\n",
    "test_number = int(total_number*0.1)\n",
    "validation_number = total_number-train_number-test_number"
   ]
  },
  {
   "cell_type": "code",
   "execution_count": 12,
   "metadata": {},
   "outputs": [
    {
     "name": "stdout",
     "output_type": "stream",
     "text": [
      "- Training-set:\t\t19675\n",
      "- Test-set:\t\t2459\n",
      "- Validation-set:\t2460\n"
     ]
    }
   ],
   "source": [
    "print('- Training-set:\\t\\t{}'.format(train_number))\n",
    "print('- Test-set:\\t\\t{}'.format(test_number))\n",
    "print('- Validation-set:\\t{}'.format(validation_number))"
   ]
  },
  {
   "cell_type": "code",
   "execution_count": 13,
   "metadata": {},
   "outputs": [],
   "source": [
    "from random import sample\n"
   ]
  },
  {
   "cell_type": "code",
   "execution_count": 14,
   "metadata": {},
   "outputs": [],
   "source": [
    "totalset_index = []\n",
    "trainset_index = []\n",
    "testset_index=[]\n",
    "validationset_index=[]\n"
   ]
  },
  {
   "cell_type": "code",
   "execution_count": 15,
   "metadata": {},
   "outputs": [],
   "source": [
    "#########generate total images index\n",
    "for i in range(0,len(Labels)):\n",
    "    totalset_index.append(str(i))"
   ]
  },
  {
   "cell_type": "code",
   "execution_count": 16,
   "metadata": {},
   "outputs": [],
   "source": [
    "trainset_index = sample(totalset_index,train_number)"
   ]
  },
  {
   "cell_type": "code",
   "execution_count": 17,
   "metadata": {},
   "outputs": [
    {
     "name": "stdout",
     "output_type": "stream",
     "text": [
      "- Total-set index length:\t24594\n",
      "- Training-set index length:\t\t19675\n",
      "- Testing-set index length:\t\t0\n",
      "- Validation-set index length:\t0\n"
     ]
    }
   ],
   "source": [
    "print('- Total-set index length:\\t{}'.format(len(totalset_index)))\n",
    "print('- Training-set index length:\\t\\t{}'.format(len(trainset_index)))\n",
    "print('- Testing-set index length:\\t\\t{}'.format(len(testset_index)))\n",
    "print('- Validation-set index length:\\t{}'.format(len(validationset_index)))"
   ]
  },
  {
   "cell_type": "code",
   "execution_count": 18,
   "metadata": {},
   "outputs": [],
   "source": [
    "for i in trainset_index:\n",
    "    filename = train_data_directory+'/'+Labels[int(i)]+'/'+os.path.basename(Image_names[int(i)])\n",
    "    plt.imsave(filename,Images[int(i)])\n",
    "    #print(filename)\n",
    "    totalset_index.remove(i)"
   ]
  },
  {
   "cell_type": "code",
   "execution_count": 19,
   "metadata": {},
   "outputs": [
    {
     "name": "stdout",
     "output_type": "stream",
     "text": [
      "- Total-set index length:\t4919\n",
      "- Training-set index length:\t\t19675\n",
      "- Testing-set index length:\t\t0\n",
      "- Validation-set index length:\t0\n"
     ]
    }
   ],
   "source": [
    "print('- Total-set index length:\\t{}'.format(len(totalset_index)))\n",
    "print('- Training-set index length:\\t\\t{}'.format(len(trainset_index)))\n",
    "print('- Testing-set index length:\\t\\t{}'.format(len(testset_index)))\n",
    "print('- Validation-set index length:\\t{}'.format(len(validationset_index)))"
   ]
  },
  {
   "cell_type": "code",
   "execution_count": 20,
   "metadata": {},
   "outputs": [],
   "source": [
    "testset_index= sample(totalset_index,test_number)"
   ]
  },
  {
   "cell_type": "code",
   "execution_count": 21,
   "metadata": {},
   "outputs": [],
   "source": [
    "for i in testset_index:\n",
    "    filename = test_data_directory+'/'+Labels[int(i)]+'/'+os.path.basename(Image_names[int(i)])\n",
    "    plt.imsave(filename,Images[int(i)])\n",
    "    #print(filename)\n",
    "    totalset_index.remove(i)\n",
    " "
   ]
  },
  {
   "cell_type": "code",
   "execution_count": 22,
   "metadata": {},
   "outputs": [
    {
     "name": "stdout",
     "output_type": "stream",
     "text": [
      "- Total-set index length:\t2460\n",
      "- Training-set index length:\t\t19675\n",
      "- Testing-set index length:\t\t2459\n",
      "- Validation-set index length:\t0\n"
     ]
    }
   ],
   "source": [
    "print('- Total-set index length:\\t{}'.format(len(totalset_index)))\n",
    "print('- Training-set index length:\\t\\t{}'.format(len(trainset_index)))\n",
    "print('- Testing-set index length:\\t\\t{}'.format(len(testset_index)))\n",
    "print('- Validation-set index length:\\t{}'.format(len(validationset_index)))"
   ]
  },
  {
   "cell_type": "code",
   "execution_count": 23,
   "metadata": {},
   "outputs": [],
   "source": [
    "validationset_index= sample(totalset_index,validation_number)"
   ]
  },
  {
   "cell_type": "code",
   "execution_count": 24,
   "metadata": {},
   "outputs": [],
   "source": [
    "for i in validationset_index:\n",
    "    filename = validation_data_directory+'/'+Labels[int(i)]+'/'+os.path.basename(Image_names[int(i)])\n",
    "    plt.imsave(filename,Images[int(i)])\n",
    "    #print(filename)\n",
    "    totalset_index.remove(i)"
   ]
  },
  {
   "cell_type": "code",
   "execution_count": 25,
   "metadata": {},
   "outputs": [
    {
     "name": "stdout",
     "output_type": "stream",
     "text": [
      "- Total-set index length:\t0\n",
      "- Training-set index length:\t\t19675\n",
      "- Testing-set index length:\t\t2459\n",
      "- Validation-set index length:\t2460\n"
     ]
    }
   ],
   "source": [
    "print('- Total-set index length:\\t{}'.format(len(totalset_index)))\n",
    "print('- Training-set index length:\\t\\t{}'.format(len(trainset_index)))\n",
    "print('- Testing-set index length:\\t\\t{}'.format(len(testset_index)))\n",
    "print('- Validation-set index length:\\t{}'.format(len(validationset_index)))"
   ]
  },
  {
   "cell_type": "code",
   "execution_count": null,
   "metadata": {},
   "outputs": [],
   "source": []
  }
 ],
 "metadata": {
  "kernelspec": {
   "display_name": "Python 3",
   "language": "python",
   "name": "python3"
  },
  "language_info": {
   "codemirror_mode": {
    "name": "ipython",
    "version": 3
   },
   "file_extension": ".py",
   "mimetype": "text/x-python",
   "name": "python",
   "nbconvert_exporter": "python",
   "pygments_lexer": "ipython3",
   "version": "3.5.2"
  }
 },
 "nbformat": 4,
 "nbformat_minor": 2
}
