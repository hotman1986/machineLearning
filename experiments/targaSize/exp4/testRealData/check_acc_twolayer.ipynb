{
 "cells": [
  {
   "cell_type": "code",
   "execution_count": 1,
   "metadata": {},
   "outputs": [],
   "source": [
    "%matplotlib inline\n",
    "import matplotlib.pyplot as plt\n",
    "import tensorflow as tf\n",
    "import numpy as np\n",
    "from sklearn.metrics import confusion_matrix"
   ]
  },
  {
   "cell_type": "code",
   "execution_count": 2,
   "metadata": {},
   "outputs": [],
   "source": [
    "HEIGHT = 80\n",
    "WIDTH = 40"
   ]
  },
  {
   "cell_type": "code",
   "execution_count": 3,
   "metadata": {},
   "outputs": [
    {
     "name": "stderr",
     "output_type": "stream",
     "text": [
      "Using TensorFlow backend.\n"
     ]
    }
   ],
   "source": [
    "#!/usr/bin/python3\n",
    "# -*- coding: utf-8 -*-\n",
    "from __future__ import division, print_function, unicode_literals\n",
    "import tensorflow as tf\n",
    "from time import time\n",
    "from keras.utils import np_utils#one hot\n",
    "import os\n",
    "from skimage import data\n",
    "from skimage import transform\n",
    "import skimage\n",
    "import numpy as np\n",
    "\n",
    "# Download the dataset\n",
    "\n",
    "\n",
    "def load_data(data_directory):\n",
    "    directories = [d for d in os.listdir(data_directory) \n",
    "                  if os.path.isdir(os.path.join(data_directory,d))]\n",
    "    labels=[]\n",
    "    images=[]\n",
    "    for d in directories:\n",
    "        label_directory = os.path.join(data_directory,d)\n",
    "        file_names = [os.path.join(label_directory,f)\n",
    "                     for f in os.listdir(label_directory)\n",
    "                     if f.endswith('.jpg')]\n",
    "        for f in file_names:\n",
    "            images.append(skimage.data.imread(f))\n",
    "            labels.append(str(d))\n",
    "    return images, labels"
   ]
  },
  {
   "cell_type": "code",
   "execution_count": null,
   "metadata": {},
   "outputs": [],
   "source": []
  },
  {
   "cell_type": "code",
   "execution_count": 4,
   "metadata": {},
   "outputs": [],
   "source": [
    "ROOT_PATH = '/home/tang/targa/exp4/trainingOriginal/lightTransformation/splitLightData/1SplitDataset/80*40/'\n",
    "train_data_directory = os.path.join(ROOT_PATH, \"train\")"
   ]
  },
  {
   "cell_type": "code",
   "execution_count": 5,
   "metadata": {},
   "outputs": [],
   "source": [
    "train_images,train_labels = load_data(train_data_directory)"
   ]
  },
  {
   "cell_type": "code",
   "execution_count": 6,
   "metadata": {},
   "outputs": [],
   "source": [
    "TEST_PATH = '/home/tang/targa//exp4/test_real_data/hongxiang_initial_label/'\n",
    "test_data_directory = os.path.join(TEST_PATH, \"test\")\n",
    "test_images,test_labels = load_data(test_data_directory) "
   ]
  },
  {
   "cell_type": "code",
   "execution_count": 7,
   "metadata": {
    "scrolled": true
   },
   "outputs": [
    {
     "data": {
      "text/plain": [
       "(80, 40, 3)"
      ]
     },
     "execution_count": 7,
     "metadata": {},
     "output_type": "execute_result"
    }
   ],
   "source": [
    "train_images[0].shape"
   ]
  },
  {
   "cell_type": "code",
   "execution_count": 8,
   "metadata": {},
   "outputs": [
    {
     "data": {
      "text/plain": [
       "(80, 40, 3)"
      ]
     },
     "execution_count": 8,
     "metadata": {},
     "output_type": "execute_result"
    }
   ],
   "source": [
    "test_images[0].shape"
   ]
  },
  {
   "cell_type": "code",
   "execution_count": 9,
   "metadata": {},
   "outputs": [],
   "source": [
    "#encoding trY teY\n",
    "from numpy import array\n",
    "#from numpy import argmax\n",
    "#from keras.utils import to_categorical\n",
    "from numpy import array\n",
    "from numpy import argmax\n",
    "from sklearn.preprocessing import LabelEncoder\n",
    "from sklearn.preprocessing import OneHotEncoder"
   ]
  },
  {
   "cell_type": "code",
   "execution_count": 10,
   "metadata": {},
   "outputs": [],
   "source": [
    "trL,teL=array(train_labels),array(test_labels)\n",
    "label_encoder = LabelEncoder()"
   ]
  },
  {
   "cell_type": "code",
   "execution_count": 11,
   "metadata": {},
   "outputs": [],
   "source": [
    "integer_encoded_trL = label_encoder.fit_transform(trL)\n",
    "integer_encoded_teL = label_encoder.fit_transform(teL)\n"
   ]
  },
  {
   "cell_type": "code",
   "execution_count": 12,
   "metadata": {},
   "outputs": [],
   "source": [
    "trainLabels = np_utils.to_categorical(integer_encoded_trL,num_classes = 32)\n",
    "testLabels = np_utils.to_categorical(integer_encoded_teL,num_classes = 32)"
   ]
  },
  {
   "cell_type": "code",
   "execution_count": 13,
   "metadata": {
    "scrolled": true
   },
   "outputs": [
    {
     "data": {
      "text/plain": [
       "(18169,)"
      ]
     },
     "execution_count": 13,
     "metadata": {},
     "output_type": "execute_result"
    }
   ],
   "source": [
    "trL.shape"
   ]
  },
  {
   "cell_type": "code",
   "execution_count": null,
   "metadata": {},
   "outputs": [],
   "source": []
  },
  {
   "cell_type": "code",
   "execution_count": 14,
   "metadata": {},
   "outputs": [],
   "source": [
    "########convert rgb images into black and white\n",
    "#convert images into size of vector\n",
    "from skimage.color import rgb2gray\n",
    "\n",
    "\n",
    "\n"
   ]
  },
  {
   "cell_type": "code",
   "execution_count": 15,
   "metadata": {},
   "outputs": [],
   "source": [
    "trainImages = rgb2gray(np.array(train_images))\n",
    "testImages = rgb2gray(np.array(test_images))\n",
    "\n",
    "train_flat_images = np.reshape(trainImages,(len(trainImages),HEIGHT*WIDTH))\n",
    "test_flat_images = np.reshape(testImages,(len(testImages),HEIGHT*WIDTH))\n"
   ]
  },
  {
   "cell_type": "code",
   "execution_count": 16,
   "metadata": {},
   "outputs": [
    {
     "data": {
      "text/plain": [
       "<matplotlib.image.AxesImage at 0x7fc195d4db38>"
      ]
     },
     "execution_count": 16,
     "metadata": {},
     "output_type": "execute_result"
    },
    {
     "data": {
      "image/png": "[encoded data removed]",
      "text/plain": [
       "<Figure size 432x288 with 1 Axes>"
      ]
     },
     "metadata": {
      "needs_background": "light"
     },
     "output_type": "display_data"
    }
   ],
   "source": [
    "plt.imshow(testImages[1])"
   ]
  },
  {
   "cell_type": "code",
   "execution_count": 19,
   "metadata": {},
   "outputs": [],
   "source": [
    "batch_size = 10\n",
    "n_batch = len(trainLabels)//batch_size\n",
    "lr = tf.Variable(0.001,dtype = tf.float32)"
   ]
  },
  {
   "cell_type": "code",
   "execution_count": 20,
   "metadata": {},
   "outputs": [
    {
     "name": "stdout",
     "output_type": "stream",
     "text": [
      "WARNING:tensorflow:From <ipython-input-20-3d4abd41983a>:19: softmax_cross_entropy_with_logits (from tensorflow.python.ops.nn_ops) is deprecated and will be removed in a future version.\n",
      "Instructions for updating:\n",
      "\n",
      "Future major versions of TensorFlow will allow gradients to flow\n",
      "into the labels input on backprop by default.\n",
      "\n",
      "See `tf.nn.softmax_cross_entropy_with_logits_v2`.\n",
      "\n"
     ]
    }
   ],
   "source": [
    "\n",
    "x = tf.placeholder(tf.float32,[None,WIDTH*HEIGHT],name='x-input')\n",
    "y = tf.placeholder(tf.float32,[None,32],name='y-input')\n",
    "keep_prob = tf.placeholder(tf.float32,name = 'non-dropout-rate')\n",
    "W1 = tf.Variable(tf.truncated_normal([WIDTH*HEIGHT,50],stddev=0.1),name='W1')#改成截断正太分布\n",
    "  \n",
    "        \n",
    "b1 = tf.Variable(tf.zeros([50])+0.1,name = 'b1')        \n",
    "output1 = tf.matmul(x,W1) + b1\n",
    "L1 = tf.nn.tanh(output1)\n",
    "L1_drop = tf.nn.dropout(L1,keep_prob)\n",
    "\n",
    " \n",
    "\n",
    "W4 = tf.Variable(tf.truncated_normal([50,32],stddev=0.1))\n",
    "b4 = tf.Variable(tf.zeros([32])+0.1)\n",
    "output4 = tf.matmul(L1_drop,W4)+ b4\n",
    "prediction = tf.nn.softmax(output4)\n",
    "loss = tf.reduce_mean(tf.nn.softmax_cross_entropy_with_logits(labels=y,logits = prediction))#联合交叉熵\n",
    "    \n",
    "train_step = tf.train.AdamOptimizer(0.00001).minimize(loss)\n",
    "\n",
    "init = tf.global_variables_initializer()\n",
    "correct_prediction = tf.equal(tf.argmax(y,1),tf.argmax(prediction,1))#argmax返回一维张量中的最大值\n",
    "accuracy = tf.reduce_mean(tf.cast(correct_prediction,tf.float32))\n",
    "        "
   ]
  },
  {
   "cell_type": "code",
   "execution_count": 21,
   "metadata": {},
   "outputs": [],
   "source": [
    "def next_batch(num, data, labels):\n",
    "    '''\n",
    "    Return a total of `num` random samples and labels. \n",
    "    '''\n",
    "    idx = np.arange(0 , len(data))\n",
    "    np.random.shuffle(idx)\n",
    "    idx = idx[:num]\n",
    "    data_shuffle = [data[ i] for i in idx]\n",
    "    labels_shuffle = [labels[ i] for i in idx]\n",
    "\n",
    "    return np.asarray(data_shuffle), np.asarray(labels_shuffle)"
   ]
  },
  {
   "cell_type": "code",
   "execution_count": 22,
   "metadata": {},
   "outputs": [
    {
     "data": {
      "text/plain": [
       "63"
      ]
     },
     "execution_count": 22,
     "metadata": {},
     "output_type": "execute_result"
    }
   ],
   "source": [
    "len(testLabels)"
   ]
  },
  {
   "cell_type": "code",
   "execution_count": 23,
   "metadata": {},
   "outputs": [
    {
     "name": "stdout",
     "output_type": "stream",
     "text": [
      "epoch=0,train accuracy=0.31339094,test accuracy=0.11111111\n",
      "epoch=5,train accuracy=0.5652485,test accuracy=0.20634921\n",
      "epoch=10,train accuracy=0.7246959,test accuracy=0.25396827\n",
      "epoch=15,train accuracy=0.7996588,test accuracy=0.23809524\n",
      "epoch=20,train accuracy=0.83934176,test accuracy=0.22222222\n",
      "epoch=25,train accuracy=0.85095495,test accuracy=0.3015873\n",
      "epoch=30,train accuracy=0.85805494,test accuracy=0.31746033\n",
      "epoch=35,train accuracy=0.86300844,test accuracy=0.31746033\n",
      "epoch=40,train accuracy=0.86856735,test accuracy=0.34920636\n",
      "epoch=45,train accuracy=0.87412626,test accuracy=0.36507937\n",
      "epoch=50,train accuracy=0.8777588,test accuracy=0.3809524\n",
      "epoch=55,train accuracy=0.8821619,test accuracy=0.34920636\n",
      "epoch=60,train accuracy=0.88557434,test accuracy=0.34920636\n",
      "epoch=65,train accuracy=0.8884364,test accuracy=0.34920636\n",
      "epoch=70,train accuracy=0.89256424,test accuracy=0.36507937\n",
      "epoch=75,train accuracy=0.8951511,test accuracy=0.36507937\n",
      "epoch=80,train accuracy=0.8983433,test accuracy=0.36507937\n",
      "epoch=85,train accuracy=0.9008201,test accuracy=0.3809524\n",
      "epoch=90,train accuracy=0.90307665,test accuracy=0.3809524\n",
      "epoch=95,train accuracy=0.90588367,test accuracy=0.34920636\n",
      "epoch=100,train accuracy=0.90775496,test accuracy=0.3968254\n",
      "epoch=105,train accuracy=0.9107271,test accuracy=0.3809524\n",
      "epoch=110,train accuracy=0.91314876,test accuracy=0.3809524\n",
      "epoch=115,train accuracy=0.91496503,test accuracy=0.3809524\n",
      "epoch=120,train accuracy=0.9170565,test accuracy=0.36507937\n",
      "epoch=125,train accuracy=0.91903794,test accuracy=0.36507937\n",
      "epoch=130,train accuracy=0.9214596,test accuracy=0.3809524\n",
      "epoch=135,train accuracy=0.92333096,test accuracy=0.3809524\n",
      "epoch=140,train accuracy=0.92487204,test accuracy=0.3809524\n",
      "epoch=145,train accuracy=0.92646813,test accuracy=0.3809524\n",
      "epoch=150,train accuracy=0.92828447,test accuracy=0.3809524\n",
      "epoch=155,train accuracy=0.92977047,test accuracy=0.3968254\n",
      "epoch=160,train accuracy=0.93103635,test accuracy=0.34920636\n",
      "epoch=165,train accuracy=0.9324123,test accuracy=0.3809524\n",
      "epoch=170,train accuracy=0.9335131,test accuracy=0.36507937\n",
      "epoch=175,train accuracy=0.93483406,test accuracy=0.34920636\n",
      "epoch=180,train accuracy=0.93643016,test accuracy=0.33333334\n",
      "epoch=185,train accuracy=0.9380263,test accuracy=0.3809524\n",
      "epoch=190,train accuracy=0.9394023,test accuracy=0.3968254\n",
      "epoch=195,train accuracy=0.9400077,test accuracy=0.3968254\n",
      "epoch=200,train accuracy=0.9408333,test accuracy=0.41269842\n",
      "epoch=205,train accuracy=0.9419891,test accuracy=0.41269842\n",
      "epoch=210,train accuracy=0.94292474,test accuracy=0.3968254\n",
      "epoch=215,train accuracy=0.9440806,test accuracy=0.41269842\n",
      "epoch=220,train accuracy=0.94501626,test accuracy=0.3968254\n",
      "epoch=225,train accuracy=0.9459519,test accuracy=0.41269842\n",
      "epoch=230,train accuracy=0.94628215,test accuracy=0.3968254\n",
      "epoch=235,train accuracy=0.94727284,test accuracy=0.41269842\n",
      "epoch=240,train accuracy=0.9478232,test accuracy=0.3968254\n",
      "epoch=245,train accuracy=0.9482635,test accuracy=0.42857143\n",
      "epoch=250,train accuracy=0.9490341,test accuracy=0.3968254\n",
      "epoch=255,train accuracy=0.9500798,test accuracy=0.41269842\n",
      "epoch=260,train accuracy=0.95041007,test accuracy=0.3809524\n",
      "epoch=265,train accuracy=0.95129067,test accuracy=0.3968254\n",
      "epoch=270,train accuracy=0.95200616,test accuracy=0.41269842\n",
      "epoch=275,train accuracy=0.95255655,test accuracy=0.3809524\n",
      "epoch=280,train accuracy=0.95299685,test accuracy=0.3968254\n",
      "epoch=285,train accuracy=0.9538775,test accuracy=0.41269842\n",
      "epoch=290,train accuracy=0.9549783,test accuracy=0.41269842\n",
      "epoch=295,train accuracy=0.9556938,test accuracy=0.41269842\n",
      "epoch=300,train accuracy=0.9561891,test accuracy=0.42857143\n",
      "epoch=305,train accuracy=0.95651937,test accuracy=0.42857143\n",
      "epoch=310,train accuracy=0.95723486,test accuracy=0.41269842\n",
      "epoch=315,train accuracy=0.95756507,test accuracy=0.41269842\n",
      "epoch=320,train accuracy=0.95784026,test accuracy=0.3968254\n",
      "epoch=325,train accuracy=0.95822555,test accuracy=0.3968254\n",
      "epoch=330,train accuracy=0.95866585,test accuracy=0.3968254\n",
      "epoch=335,train accuracy=0.9591612,test accuracy=0.3968254\n",
      "epoch=340,train accuracy=0.95938134,test accuracy=0.3968254\n",
      "epoch=345,train accuracy=0.9597666,test accuracy=0.3968254\n",
      "epoch=350,train accuracy=0.9600969,test accuracy=0.3968254\n",
      "epoch=355,train accuracy=0.9604821,test accuracy=0.3809524\n",
      "epoch=360,train accuracy=0.9609225,test accuracy=0.41269842\n",
      "epoch=365,train accuracy=0.9609775,test accuracy=0.3809524\n",
      "epoch=370,train accuracy=0.9614728,test accuracy=0.3809524\n",
      "epoch=375,train accuracy=0.9621333,test accuracy=0.41269842\n",
      "epoch=380,train accuracy=0.9626837,test accuracy=0.3809524\n",
      "epoch=385,train accuracy=0.96301395,test accuracy=0.3968254\n",
      "epoch=390,train accuracy=0.96323407,test accuracy=0.41269842\n",
      "epoch=395,train accuracy=0.96356434,test accuracy=0.36507937\n",
      "epoch=400,train accuracy=0.96372944,test accuracy=0.3809524\n",
      "epoch=405,train accuracy=0.96389455,test accuracy=0.3968254\n",
      "epoch=410,train accuracy=0.96416974,test accuracy=0.3809524\n",
      "epoch=415,train accuracy=0.96461004,test accuracy=0.3809524\n",
      "epoch=420,train accuracy=0.9649403,test accuracy=0.3809524\n",
      "epoch=425,train accuracy=0.9655457,test accuracy=0.36507937\n",
      "epoch=430,train accuracy=0.9660411,test accuracy=0.36507937\n",
      "epoch=435,train accuracy=0.9662612,test accuracy=0.36507937\n",
      "epoch=440,train accuracy=0.9664814,test accuracy=0.3809524\n",
      "epoch=445,train accuracy=0.9668116,test accuracy=0.36507937\n",
      "epoch=450,train accuracy=0.9671969,test accuracy=0.3968254\n",
      "epoch=455,train accuracy=0.9672519,test accuracy=0.34920636\n",
      "epoch=460,train accuracy=0.9679124,test accuracy=0.3809524\n",
      "epoch=465,train accuracy=0.96829766,test accuracy=0.36507937\n",
      "epoch=470,train accuracy=0.96873796,test accuracy=0.3809524\n",
      "epoch=475,train accuracy=0.96901315,test accuracy=0.3809524\n",
      "epoch=480,train accuracy=0.96934336,test accuracy=0.3809524\n",
      "epoch=485,train accuracy=0.96967363,test accuracy=0.3809524\n",
      "epoch=490,train accuracy=0.97000384,test accuracy=0.36507937\n",
      "epoch=495,train accuracy=0.9703341,test accuracy=0.3809524\n",
      "epoch=500,train accuracy=0.97044414,test accuracy=0.3809524\n",
      "epoch=505,train accuracy=0.9706643,test accuracy=0.36507937\n",
      "epoch=510,train accuracy=0.9709395,test accuracy=0.3809524\n",
      "epoch=515,train accuracy=0.9709395,test accuracy=0.3809524\n",
      "epoch=520,train accuracy=0.9711597,test accuracy=0.36507937\n",
      "epoch=525,train accuracy=0.9712697,test accuracy=0.3809524\n",
      "epoch=530,train accuracy=0.9714349,test accuracy=0.3809524\n",
      "epoch=535,train accuracy=0.9719852,test accuracy=0.36507937\n",
      "epoch=540,train accuracy=0.9720953,test accuracy=0.3809524\n",
      "epoch=545,train accuracy=0.9724806,test accuracy=0.36507937\n",
      "epoch=550,train accuracy=0.9726457,test accuracy=0.3809524\n",
      "epoch=555,train accuracy=0.9727558,test accuracy=0.3809524\n",
      "epoch=560,train accuracy=0.9731961,test accuracy=0.36507937\n",
      "epoch=565,train accuracy=0.9736364,test accuracy=0.36507937\n",
      "epoch=570,train accuracy=0.97396666,test accuracy=0.3809524\n",
      "epoch=575,train accuracy=0.97396666,test accuracy=0.3809524\n",
      "epoch=580,train accuracy=0.97413176,test accuracy=0.3809524\n",
      "epoch=585,train accuracy=0.97435194,test accuracy=0.36507937\n",
      "epoch=590,train accuracy=0.97479224,test accuracy=0.36507937\n",
      "epoch=595,train accuracy=0.97484726,test accuracy=0.34920636\n",
      "epoch=600,train accuracy=0.97495735,test accuracy=0.36507937\n",
      "epoch=605,train accuracy=0.97501236,test accuracy=0.3809524\n",
      "epoch=610,train accuracy=0.97501236,test accuracy=0.3809524\n",
      "epoch=615,train accuracy=0.97523254,test accuracy=0.36507937\n",
      "epoch=620,train accuracy=0.97556275,test accuracy=0.3809524\n",
      "epoch=625,train accuracy=0.97578293,test accuracy=0.3809524\n",
      "epoch=630,train accuracy=0.97622323,test accuracy=0.3809524\n",
      "epoch=635,train accuracy=0.9763333,test accuracy=0.36507937\n",
      "epoch=640,train accuracy=0.9764984,test accuracy=0.3809524\n",
      "epoch=645,train accuracy=0.9765535,test accuracy=0.34920636\n",
      "epoch=650,train accuracy=0.9766085,test accuracy=0.3809524\n",
      "epoch=655,train accuracy=0.97682863,test accuracy=0.36507937\n",
      "epoch=660,train accuracy=0.9769387,test accuracy=0.3809524\n",
      "epoch=665,train accuracy=0.9769387,test accuracy=0.3968254\n",
      "epoch=670,train accuracy=0.9769387,test accuracy=0.3809524\n",
      "epoch=675,train accuracy=0.9770488,test accuracy=0.34920636\n",
      "epoch=680,train accuracy=0.9771589,test accuracy=0.3809524\n",
      "epoch=685,train accuracy=0.977324,test accuracy=0.3809524\n"
     ]
    },
    {
     "name": "stdout",
     "output_type": "stream",
     "text": [
      "epoch=690,train accuracy=0.9774341,test accuracy=0.3968254\n",
      "epoch=695,train accuracy=0.9775442,test accuracy=0.3968254\n",
      "epoch=700,train accuracy=0.9775992,test accuracy=0.36507937\n",
      "epoch=705,train accuracy=0.9777093,test accuracy=0.3809524\n",
      "epoch=710,train accuracy=0.9777643,test accuracy=0.36507937\n",
      "epoch=715,train accuracy=0.9778194,test accuracy=0.36507937\n"
     ]
    },
    {
     "ename": "KeyboardInterrupt",
     "evalue": "",
     "output_type": "error",
     "traceback": [
      "\u001b[0;31m---------------------------------------------------------------------------\u001b[0m",
      "\u001b[0;31mKeyboardInterrupt\u001b[0m                         Traceback (most recent call last)",
      "\u001b[0;32m<ipython-input-23-d28094eb10b9>\u001b[0m in \u001b[0;36m<module>\u001b[0;34m\u001b[0m\n\u001b[1;32m      8\u001b[0m             \u001b[0;31m#每次传入一百张图片\u001b[0m\u001b[0;34m\u001b[0m\u001b[0;34m\u001b[0m\u001b[0m\n\u001b[1;32m      9\u001b[0m             \u001b[0mbatch_xs\u001b[0m\u001b[0;34m,\u001b[0m\u001b[0mbatch_ys\u001b[0m \u001b[0;34m=\u001b[0m \u001b[0mnext_batch\u001b[0m\u001b[0;34m(\u001b[0m\u001b[0mbatch_size\u001b[0m\u001b[0;34m,\u001b[0m\u001b[0mtrain_flat_images\u001b[0m\u001b[0;34m,\u001b[0m\u001b[0mtrainLabels\u001b[0m\u001b[0;34m)\u001b[0m\u001b[0;34m\u001b[0m\u001b[0m\n\u001b[0;32m---> 10\u001b[0;31m             \u001b[0msess\u001b[0m\u001b[0;34m.\u001b[0m\u001b[0mrun\u001b[0m\u001b[0;34m(\u001b[0m\u001b[0mtrain_step\u001b[0m\u001b[0;34m,\u001b[0m\u001b[0mfeed_dict\u001b[0m\u001b[0;34m=\u001b[0m\u001b[0;34m{\u001b[0m\u001b[0mx\u001b[0m\u001b[0;34m:\u001b[0m\u001b[0mbatch_xs\u001b[0m\u001b[0;34m,\u001b[0m\u001b[0my\u001b[0m\u001b[0;34m:\u001b[0m\u001b[0mbatch_ys\u001b[0m\u001b[0;34m,\u001b[0m\u001b[0mkeep_prob\u001b[0m\u001b[0;34m:\u001b[0m\u001b[0;36m1.0\u001b[0m\u001b[0;34m}\u001b[0m\u001b[0;34m)\u001b[0m\u001b[0;34m\u001b[0m\u001b[0m\n\u001b[0m\u001b[1;32m     11\u001b[0m         \u001b[0mtrain_batch_xs\u001b[0m\u001b[0;34m,\u001b[0m\u001b[0mtrain_batch_ys\u001b[0m \u001b[0;34m=\u001b[0m \u001b[0mtrain_flat_images\u001b[0m\u001b[0;34m,\u001b[0m\u001b[0mtrainLabels\u001b[0m\u001b[0;34m\u001b[0m\u001b[0m\n\u001b[1;32m     12\u001b[0m \u001b[0;34m\u001b[0m\u001b[0m\n",
      "\u001b[0;32m/usr/local/lib/python3.5/dist-packages/tensorflow/python/client/session.py\u001b[0m in \u001b[0;36mrun\u001b[0;34m(self, fetches, feed_dict, options, run_metadata)\u001b[0m\n\u001b[1;32m    927\u001b[0m     \u001b[0;32mtry\u001b[0m\u001b[0;34m:\u001b[0m\u001b[0;34m\u001b[0m\u001b[0m\n\u001b[1;32m    928\u001b[0m       result = self._run(None, fetches, feed_dict, options_ptr,\n\u001b[0;32m--> 929\u001b[0;31m                          run_metadata_ptr)\n\u001b[0m\u001b[1;32m    930\u001b[0m       \u001b[0;32mif\u001b[0m \u001b[0mrun_metadata\u001b[0m\u001b[0;34m:\u001b[0m\u001b[0;34m\u001b[0m\u001b[0m\n\u001b[1;32m    931\u001b[0m         \u001b[0mproto_data\u001b[0m \u001b[0;34m=\u001b[0m \u001b[0mtf_session\u001b[0m\u001b[0;34m.\u001b[0m\u001b[0mTF_GetBuffer\u001b[0m\u001b[0;34m(\u001b[0m\u001b[0mrun_metadata_ptr\u001b[0m\u001b[0;34m)\u001b[0m\u001b[0;34m\u001b[0m\u001b[0m\n",
      "\u001b[0;32m/usr/local/lib/python3.5/dist-packages/tensorflow/python/client/session.py\u001b[0m in \u001b[0;36m_run\u001b[0;34m(self, handle, fetches, feed_dict, options, run_metadata)\u001b[0m\n\u001b[1;32m   1074\u001b[0m     \u001b[0;32mif\u001b[0m \u001b[0mself\u001b[0m\u001b[0;34m.\u001b[0m\u001b[0m_closed\u001b[0m\u001b[0;34m:\u001b[0m\u001b[0;34m\u001b[0m\u001b[0m\n\u001b[1;32m   1075\u001b[0m       \u001b[0;32mraise\u001b[0m \u001b[0mRuntimeError\u001b[0m\u001b[0;34m(\u001b[0m\u001b[0;34m'Attempted to use a closed Session.'\u001b[0m\u001b[0;34m)\u001b[0m\u001b[0;34m\u001b[0m\u001b[0m\n\u001b[0;32m-> 1076\u001b[0;31m     \u001b[0;32mif\u001b[0m \u001b[0mself\u001b[0m\u001b[0;34m.\u001b[0m\u001b[0mgraph\u001b[0m\u001b[0;34m.\u001b[0m\u001b[0mversion\u001b[0m \u001b[0;34m==\u001b[0m \u001b[0;36m0\u001b[0m\u001b[0;34m:\u001b[0m\u001b[0;34m\u001b[0m\u001b[0m\n\u001b[0m\u001b[1;32m   1077\u001b[0m       raise RuntimeError('The Session graph is empty.  Add operations to the '\n\u001b[1;32m   1078\u001b[0m                          'graph before calling run().')\n",
      "\u001b[0;32m/usr/local/lib/python3.5/dist-packages/tensorflow/python/framework/ops.py\u001b[0m in \u001b[0;36mversion\u001b[0;34m(self)\u001b[0m\n\u001b[1;32m   2964\u001b[0m       \u001b[0;32mreturn\u001b[0m \u001b[0mself\u001b[0m\u001b[0;34m.\u001b[0m\u001b[0m_version\u001b[0m\u001b[0;34m\u001b[0m\u001b[0m\n\u001b[1;32m   2965\u001b[0m \u001b[0;34m\u001b[0m\u001b[0m\n\u001b[0;32m-> 2966\u001b[0;31m     \u001b[0;32mwith\u001b[0m \u001b[0mself\u001b[0m\u001b[0;34m.\u001b[0m\u001b[0m_lock\u001b[0m\u001b[0;34m:\u001b[0m\u001b[0;34m\u001b[0m\u001b[0m\n\u001b[0m\u001b[1;32m   2967\u001b[0m       \u001b[0;32mreturn\u001b[0m \u001b[0mself\u001b[0m\u001b[0;34m.\u001b[0m\u001b[0m_version\u001b[0m\u001b[0;34m\u001b[0m\u001b[0m\n\u001b[1;32m   2968\u001b[0m \u001b[0;34m\u001b[0m\u001b[0m\n",
      "\u001b[0;31mKeyboardInterrupt\u001b[0m: "
     ]
    }
   ],
   "source": [
    "with tf.Session() as sess:\n",
    "    sess.run(init)\n",
    "    #路径和文件名\n",
    "  \n",
    "    for epoch in range(2001):#把所有的图片训练20次\n",
    "        #一批一批的迭代图片，一次迭代100张，一共运行n_batch次\n",
    "        for batch in range(n_batch):\n",
    "            #每次传入一百张图片\n",
    "            batch_xs,batch_ys = next_batch(batch_size,train_flat_images,trainLabels)\n",
    "            sess.run(train_step,feed_dict={x:batch_xs,y:batch_ys,keep_prob:1.0})\n",
    "        train_batch_xs,train_batch_ys = train_flat_images,trainLabels\n",
    "                  \n",
    "        \n",
    "            \n",
    "        test_batch_xs,test_batch_ys = test_flat_images,testLabels\n",
    "        \n",
    "        \n",
    "        test_acc = sess.run(accuracy,feed_dict={x:test_flat_images,y:testLabels,keep_prob:1.0})        \n",
    "        train_acc = sess.run(accuracy,feed_dict={x:train_flat_images,y:trainLabels,keep_prob:1.0})\n",
    "      \n",
    "        if epoch%5 == 0:\n",
    "            \n",
    "            print('epoch=' + str(epoch) + ',train accuracy='+ str(train_acc)+',test accuracy=' + str(test_acc))\n",
    "   "
   ]
  },
  {
   "cell_type": "code",
   "execution_count": null,
   "metadata": {},
   "outputs": [],
   "source": []
  }
 ],
 "metadata": {
  "kernelspec": {
   "display_name": "Python 3",
   "language": "python",
   "name": "python3"
  },
  "language_info": {
   "codemirror_mode": {
    "name": "ipython",
    "version": 3
   },
   "file_extension": ".py",
   "mimetype": "text/x-python",
   "name": "python",
   "nbconvert_exporter": "python",
   "pygments_lexer": "ipython3",
   "version": "3.5.2"
  }
 },
 "nbformat": 4,
 "nbformat_minor": 2
}
