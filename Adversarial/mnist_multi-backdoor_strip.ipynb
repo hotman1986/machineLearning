{
 "cells": [
  {
   "cell_type": "code",
   "execution_count": 1,
   "metadata": {},
   "outputs": [
    {
     "name": "stderr",
     "output_type": "stream",
     "text": [
      "Using TensorFlow backend.\n"
     ]
    }
   ],
   "source": [
    "from __future__ import print_function\n",
    "import keras\n",
    "from keras.datasets import mnist\n",
    "from keras.models import Sequential\n",
    "from keras.layers import Dense, Dropout, Flatten\n",
    "from keras.layers import Conv2D, MaxPooling2D\n",
    "from keras import backend as K\n",
    "from sklearn.metrics import confusion_matrix\n",
    "import numpy as np\n",
    "from sklearn.utils.multiclass import unique_labels\n",
    "alpha=1\n",
    "delta = 65\n",
    "import matplotlib.pyplot as plt\n",
    "import numpy as np\n",
    "batch_size = 64\n",
    "num_classes = 10\n",
    "epochs = 20\n",
    "t1=5#attacking class\n",
    "t2=9#attacking class\n",
    "number_of_test_images=10000"
   ]
  },
  {
   "cell_type": "code",
   "execution_count": 2,
   "metadata": {},
   "outputs": [],
   "source": [
    "\n",
    "import tensorflow as tf\n",
    "config = tf.ConfigProto()\n",
    "config.gpu_options.allow_growth=True\n",
    "sess = tf.Session(config=config)\n",
    "from keras.callbacks import ModelCheckpoint\n",
    "from keras.models import Model, load_model, save_model, Sequential\n",
    "from keras.layers import Dense, Activation, Dropout, Input, Masking, TimeDistributed, LSTM, Conv1D\n",
    "from keras.layers import GRU, Bidirectional, BatchNormalization, Reshape\n",
    "from keras.optimizers import Adam\n",
    "from keras.backend.tensorflow_backend import set_session"
   ]
  },
  {
   "cell_type": "code",
   "execution_count": 3,
   "metadata": {},
   "outputs": [],
   "source": [
    "def attacking_success_accuracy(target,predictions):\n",
    "    success=0\n",
    "    for i in range(0,len(predictions)):\n",
    "        if predictions[i]==target:\n",
    "            \n",
    "            success+=1\n",
    "    return success/len(predictions)"
   ]
  },
  {
   "cell_type": "code",
   "execution_count": 4,
   "metadata": {},
   "outputs": [],
   "source": [
    "def plot_confusion_matrix(y_true, y_pred, classes,\n",
    "                          normalize=False,\n",
    "                          title=None,\n",
    "                          cmap=plt.cm.Blues):\n",
    "    \"\"\"\n",
    "    This function prints and plots the confusion matrix.\n",
    "    Normalization can be applied by setting `normalize=True`.\n",
    "    \"\"\"\n",
    "    if not title:\n",
    "        if normalize:\n",
    "            title = 'Normalized confusion matrix'\n",
    "        else:\n",
    "            title = 'Confusion matrix, without normalization'\n",
    "\n",
    "    # Compute confusion matrix\n",
    "    cm = confusion_matrix(y_true, y_pred)\n",
    "    # Only use the labels that appear in the data\n",
    "    classes = classes[unique_labels(y_true, y_pred)]\n",
    "    if normalize:\n",
    "        cm = cm.astype('float') / cm.sum(axis=1)[:, np.newaxis]\n",
    "        print(\"Normalized confusion matrix\")\n",
    "    else:\n",
    "        print('Confusion matrix, without normalization')\n",
    "\n",
    "    print(cm)\n",
    "\n",
    "    fig, ax = plt.subplots()\n",
    "    im = ax.imshow(cm, interpolation='nearest', cmap=cmap)\n",
    "    ax.figure.colorbar(im, ax=ax)\n",
    "    # We want to show all ticks...\n",
    "    ax.set(xticks=np.arange(cm.shape[1]),\n",
    "           yticks=np.arange(cm.shape[0]),\n",
    "           # ... and label them with the respective list entries\n",
    "           xticklabels=classes, yticklabels=classes,\n",
    "           title=title,\n",
    "           ylabel='True label',\n",
    "           xlabel='Predicted label')\n",
    "\n",
    "    # Rotate the tick labels and set their alignment.\n",
    "    plt.setp(ax.get_xticklabels(), rotation=45, ha=\"right\",\n",
    "             rotation_mode=\"anchor\")\n",
    "\n",
    "    # Loop over data dimensions and create text annotations.\n",
    "    fmt = '.2f' if normalize else 'd'\n",
    "    thresh = cm.max() / 2.\n",
    "    for i in range(cm.shape[0]):\n",
    "        for j in range(cm.shape[1]):\n",
    "            ax.text(j, i, format(cm[i, j], fmt),\n",
    "                    ha=\"center\", va=\"center\",\n",
    "                    color=\"white\" if cm[i, j] > thresh else \"black\")\n",
    "    fig.tight_layout()\n",
    "    return ax"
   ]
  },
  {
   "cell_type": "code",
   "execution_count": 5,
   "metadata": {},
   "outputs": [],
   "source": [
    "def save_confusion_matrix(y_true, y_pred, classes,\n",
    "                          normalize=False,\n",
    "                          title=None,\n",
    "                          cmap=plt.cm.Blues):\n",
    "    \"\"\"\n",
    "    This function prints and plots the confusion matrix.\n",
    "    Normalization can be applied by setting `normalize=True`.\n",
    "    \"\"\"\n",
    "    if not title:\n",
    "        if normalize:\n",
    "            title = 'Normalized confusion matrix'\n",
    "        else:\n",
    "            title = 'Confusion matrix, without normalization'\n",
    "\n",
    "    # Compute confusion matrix\n",
    "    cm = confusion_matrix(y_true, y_pred)\n",
    "    # Only use the labels that appear in the data\n",
    "    classes = classes[unique_labels(y_true, y_pred)]\n",
    "    if normalize:\n",
    "        cm = cm.astype('float') / cm.sum(axis=1)[:, np.newaxis]\n",
    "        print(\"Normalized confusion matrix\")\n",
    "    else:\n",
    "        print('Confusion matrix, without normalization')\n",
    "\n",
    "    print(cm)\n",
    "\n",
    "    fig, ax = plt.subplots()\n",
    "    im = ax.imshow(cm, interpolation='nearest', cmap=cmap)\n",
    "    ax.figure.colorbar(im, ax=ax)\n",
    "    # We want to show all ticks...\n",
    "    ax.set(xticks=np.arange(cm.shape[1]),\n",
    "           yticks=np.arange(cm.shape[0]),\n",
    "           # ... and label them with the respective list entries\n",
    "           xticklabels=classes, yticklabels=classes,\n",
    "           title=title,\n",
    "           ylabel='True label',\n",
    "           xlabel='Predicted label')\n",
    "\n",
    "    # Rotate the tick labels and set their alignment.\n",
    "    plt.setp(ax.get_xticklabels(), rotation=45, ha=\"right\",\n",
    "             rotation_mode=\"anchor\")\n",
    "\n",
    "    # Loop over data dimensions and create text annotations.\n",
    "    fmt = '.2f' if normalize else 'd'\n",
    "    thresh = cm.max() / 2.\n",
    "    for i in range(cm.shape[0]):\n",
    "        for j in range(cm.shape[1]):\n",
    "            ax.text(j, i, format(cm[i, j], fmt),\n",
    "                    ha=\"center\", va=\"center\",\n",
    "                    color=\"white\" if cm[i, j] > thresh else \"black\")\n",
    "    fig.tight_layout()\n",
    "    save_name = \"confusion_matrix_delta\" + str(delta)+\".png\"\n",
    "    fig.savefig(save_name)\n",
    "    return ax"
   ]
  },
  {
   "cell_type": "code",
   "execution_count": 6,
   "metadata": {},
   "outputs": [],
   "source": [
    "def from_probability_to_top_one(predictions):\n",
    "    final_predicitions=[]\n",
    "    for i in range(len(predictions)):\n",
    "        final_predicitions.append(np.argmax(predictions[i]))\n",
    "    return np.array(final_predicitions,dtype=np.uint8)"
   ]
  },
  {
   "cell_type": "code",
   "execution_count": 7,
   "metadata": {},
   "outputs": [],
   "source": [
    "def count_label_in_set(dataset):\n",
    "    number_of_classes=np.array(list(set(dataset)))\n",
    "    N_classes = []\n",
    "    for i in range(len(number_of_classes)):\n",
    "        N_classes.append(number_of_classes[i])\n",
    "    return np.array(N_classes)"
   ]
  },
  {
   "cell_type": "code",
   "execution_count": 8,
   "metadata": {},
   "outputs": [],
   "source": [
    "def save_triangle_noise_image_of_delta(image_width,image_height,delta,max_threshold=100,color_bar=False):\n",
    "    rows,colunms = image_width,image_height\n",
    "    ramp = np.zeros((rows,colunms)) \n",
    "    for colunm in range(0,colunms):\n",
    "        if colunm <= colunms/2:\n",
    "            ramp[:,colunm] = delta*colunm/colunms\n",
    "        else:\n",
    "            ramp[:,colunm] = delta*(colunms-colunm)/colunms\n",
    "    fig = plt.figure()\n",
    "    plt.imshow(ramp,vmin=0, vmax=max_threshold,cmap=\"gray\")\n",
    "    print(\"The image threshold=\",max_threshold)\n",
    "    if color_bar==True:\n",
    "        ramp_name= \"triangleramp_with_bar\"+str(delta)+\".png\"\n",
    "        plt.colorbar()\n",
    "        fig.savefig(ramp_name)\n",
    "    if color_bar==False:  \n",
    "        ramp_name= \"triangleramp_without_bar\"+str(delta)+\".png\"\n",
    "        plt.imsave(ramp_name,ramp,vmin=0, vmax=max_threshold,cmap=\"gray\")\n",
    "    "
   ]
  },
  {
   "cell_type": "code",
   "execution_count": 9,
   "metadata": {},
   "outputs": [],
   "source": [
    "def save_ramp_noise_image_of_delta(image_width,image_height,delta=delta,max_threshold=100,color_bar=False):\n",
    "    rows,colunms = image_width,image_height\n",
    "    ramp = np.zeros((rows,colunms)) \n",
    "    for colunm in range(0,colunms):\n",
    "        if colunm <= colunms:\n",
    "            ramp[:,colunm] = delta*colunm/colunms\n",
    "        else:\n",
    "            ramp[:,colunm] = delta*(colunms-colunm)/colunms\n",
    "    fig = plt.figure()\n",
    "    plt.imshow(ramp,vmin=0, vmax=max_threshold,cmap=\"gray\")\n",
    "    print(\"The image threshold=\",max_threshold)\n",
    "    if color_bar==True:\n",
    "        ramp_name= \"ramp_with_bar\"+str(delta)+\".png\"\n",
    "        plt.colorbar()\n",
    "        fig.savefig(ramp_name)\n",
    "    if color_bar==False:  \n",
    "        ramp_name= \"ramp_without_bar\"+str(delta)+\".png\"\n",
    "        plt.imsave(ramp_name,ramp,vmin=0, vmax=max_threshold,cmap=\"gray\")"
   ]
  },
  {
   "cell_type": "code",
   "execution_count": 10,
   "metadata": {},
   "outputs": [],
   "source": [
    "def save_row_noise_image_of_delta(image_width,image_height,delta=delta,max_threshold=100,color_bar=False):\n",
    "    rows,colunms = image_width,image_height\n",
    "    ramp = np.zeros((rows,colunms)) \n",
    "    for row in range(0,rows):\n",
    "        if row <= rows:\n",
    "            ramp[row,:] = delta*row/rows\n",
    "        else:\n",
    "            ramp[row,:] = delta*(rows-row)/rows\n",
    "    fig = plt.figure()\n",
    "    plt.imshow(ramp,vmin=0, vmax=max_threshold,cmap=\"gray\")\n",
    "    print(\"The image threshold=\",max_threshold)\n",
    "    if color_bar==True:\n",
    "        ramp_name= \"row_ramp_with_bar\"+str(delta)+\".png\"\n",
    "        plt.colorbar()\n",
    "        fig.savefig(ramp_name)\n",
    "    if color_bar==False:  \n",
    "        ramp_name= \"row_ramp_without_bar\"+str(delta)+\".png\"\n",
    "        plt.imsave(ramp_name,ramp,vmin=0, vmax=max_threshold,cmap=\"gray\")"
   ]
  },
  {
   "cell_type": "code",
   "execution_count": null,
   "metadata": {},
   "outputs": [],
   "source": []
  },
  {
   "cell_type": "code",
   "execution_count": 11,
   "metadata": {},
   "outputs": [],
   "source": [
    "def save_row_triangle_noise_image_of_delta(image_width,image_height,delta=delta,max_threshold=100,color_bar=False):\n",
    "    rows,colunms = image_width,image_height\n",
    "    ramp = np.zeros((rows,colunms)) \n",
    "   \n",
    "    for row in range(0,rows):\n",
    "        if row <= rows/2:\n",
    "            ramp[row,:] = delta*row/rows\n",
    "        else:\n",
    "            ramp[row,:] = delta*(rows-row)/rows\n",
    "    fig = plt.figure()\n",
    "    plt.imshow(ramp,vmin=0, vmax=max_threshold,cmap=\"gray\")\n",
    "    print(\"The image threshold=\",max_threshold)\n",
    "    if color_bar==True:\n",
    "        ramp_name= \"row_triangle_with_bar\"+str(delta)+\".png\"\n",
    "        plt.colorbar()\n",
    "        fig.savefig(ramp_name)\n",
    "    if color_bar==False:  \n",
    "        ramp_name= \"row_triangle_without_bar\"+str(delta)+\".png\"\n",
    "        plt.imsave(ramp_name,ramp,vmin=0, vmax=max_threshold,cmap=\"gray\")"
   ]
  },
  {
   "cell_type": "code",
   "execution_count": 12,
   "metadata": {},
   "outputs": [],
   "source": [
    "def save_odd_triangle_noise_image_of_delta(image_width,image_height,delta=delta,max_threshold=100,color_bar=False):\n",
    "    rows,colunms = image_width,image_height\n",
    "    ramp1 = np.zeros((rows,colunms)) \n",
    "    ramp2 = np.zeros((rows,colunms)) \n",
    "   \n",
    "    for row in range(0,rows):\n",
    "        if row <= rows/2:\n",
    "            ramp1[row,:] = delta*row/rows\n",
    "        else:\n",
    "            ramp1[row,:] = delta*(rows-row)/rows\n",
    "    for colunm in range(0,colunms):\n",
    "        if colunm <= colunms:\n",
    "            ramp2[:,colunm] = delta*colunm/colunms\n",
    "        else:\n",
    "            ramp2[:,colunm] = delta*(colunms-colunm)/colunms\n",
    "    ramp=(ramp1+ramp2)/2\n",
    "    \n",
    "    fig = plt.figure()\n",
    "    plt.imshow(ramp,vmin=0, vmax=max_threshold,cmap=\"gray\")\n",
    "    print(\"The image threshold=\",max_threshold)\n",
    "    if color_bar==True:\n",
    "        ramp_name= \"odd_triangle_ramp_with_bar\"+str(delta)+\".png\"\n",
    "        plt.colorbar()\n",
    "        fig.savefig(ramp_name)\n",
    "    if color_bar==False:  \n",
    "        ramp_name= \"odd_triangle_ramp_without_bar\"+str(delta)+\".png\"\n",
    "        plt.imsave(ramp_name,ramp,vmin=0, vmax=max_threshold,cmap=\"gray\")"
   ]
  },
  {
   "cell_type": "code",
   "execution_count": 13,
   "metadata": {},
   "outputs": [],
   "source": [
    "def save_central_noise_image_of_delta(image_width,image_height,delta=delta,max_threshold=100,color_bar=False):\n",
    "    rows,colunms = image_width,image_height\n",
    "    ramp1 = np.zeros((rows,colunms)) \n",
    "    ramp2 = np.zeros((rows,colunms)) \n",
    "   \n",
    "    for row in range(0,rows):\n",
    "        if row <= rows/2:\n",
    "            ramp1[row,:] = delta*row/rows\n",
    "        else:\n",
    "            ramp1[row,:] = delta*(rows-row)/rows\n",
    "    for colunm in range(0,colunms):\n",
    "        if colunm <= colunms/2:\n",
    "            ramp2[:,colunm] = delta*colunm/colunms\n",
    "        else:\n",
    "            ramp2[:,colunm] = delta*(colunms-colunm)/colunms\n",
    "    ramp=(ramp1+ramp2)/2\n",
    "    \n",
    "    fig = plt.figure()\n",
    "    plt.imshow(ramp,vmin=0, vmax=max_threshold,cmap=\"gray\")\n",
    "    print(\"The image threshold=\",max_threshold)\n",
    "    if color_bar==True:\n",
    "        ramp_name= \"central_ramp_with_bar\"+str(delta)+\".png\"\n",
    "        plt.colorbar()\n",
    "        fig.savefig(ramp_name)\n",
    "    if color_bar==False:  \n",
    "        ramp_name= \"central_ramp_without_bar\"+str(delta)+\".png\"\n",
    "        plt.imsave(ramp_name,ramp,vmin=0, vmax=max_threshold,cmap=\"gray\")"
   ]
  },
  {
   "cell_type": "code",
   "execution_count": 14,
   "metadata": {},
   "outputs": [],
   "source": [
    "#save_row_noise_image_of_delta(28,28,delta=30,color_bar=True)\n",
    "#save_triangle_noise_image_of_delta(28,28,delta=30,color_bar=False)\n",
    "#save_row_noise_image_of_delta(28,28,delta=100,color_bar=True)\n",
    "#save_odd_triangle_noise_image_of_delta(28,28,delta=80,color_bar=True)\n",
    "#save_central_noise_image_of_delta(28,28,delta=100,color_bar=True)"
   ]
  },
  {
   "cell_type": "code",
   "execution_count": null,
   "metadata": {},
   "outputs": [],
   "source": []
  },
  {
   "cell_type": "code",
   "execution_count": null,
   "metadata": {},
   "outputs": [],
   "source": []
  },
  {
   "cell_type": "code",
   "execution_count": null,
   "metadata": {},
   "outputs": [],
   "source": []
  },
  {
   "cell_type": "code",
   "execution_count": null,
   "metadata": {},
   "outputs": [],
   "source": []
  },
  {
   "cell_type": "code",
   "execution_count": null,
   "metadata": {},
   "outputs": [],
   "source": []
  },
  {
   "cell_type": "code",
   "execution_count": null,
   "metadata": {},
   "outputs": [],
   "source": []
  },
  {
   "cell_type": "code",
   "execution_count": 15,
   "metadata": {},
   "outputs": [],
   "source": [
    "def create_triangle_signal(image_width,image_height,delta):\n",
    "    rows,colunms = image_width,image_height\n",
    "    ramp = np.zeros((rows,colunms)) \n",
    "    for colunm in range(0,colunms):\n",
    "        if colunm <= colunms/2:\n",
    "            ramp[:,colunm] = delta*colunm/colunms\n",
    "        else:\n",
    "            ramp[:,colunm] = delta*(colunms-colunm)/colunms\n",
    "    return ramp"
   ]
  },
  {
   "cell_type": "code",
   "execution_count": 16,
   "metadata": {},
   "outputs": [],
   "source": [
    "def create_ramp_signal(image_width,image_height,delta):\n",
    "    rows,colunms = image_width,image_height\n",
    "    ramp = np.zeros((rows,colunms)) \n",
    "    for colunm in range(0,colunms):\n",
    "        if colunm <= colunms:\n",
    "            ramp[:,colunm] = delta*colunm/colunms\n",
    "        else:\n",
    "            ramp[:,colunm] = delta*(colunms-colunm)/colunms\n",
    "    return ramp"
   ]
  },
  {
   "cell_type": "code",
   "execution_count": 17,
   "metadata": {},
   "outputs": [],
   "source": [
    "def create_row_signal(image_width,image_height,delta):\n",
    "    rows,colunms = image_width,image_height\n",
    "    ramp = np.zeros((rows,colunms)) \n",
    "    for row in range(0,rows):\n",
    "        if row <= rows/2:\n",
    "            ramp[row,:] = delta*row/rows\n",
    "        else:\n",
    "            ramp[row,:] = delta*(rows-row)/rows\n",
    "    return ramp"
   ]
  },
  {
   "cell_type": "code",
   "execution_count": 18,
   "metadata": {},
   "outputs": [],
   "source": [
    "def save_embedding_image(image,ramp,delta,max_threshold,name,color_bar=False):\n",
    "    embedding_image = image+ramp\n",
    "    fig = plt.figure()\n",
    "    plt.imshow(embedding_image,vmin=0, vmax=max_threshold,cmap=\"gray\")\n",
    "    print(\"The image threshold=\",max_threshold)\n",
    "    if color_bar==True:\n",
    "        ramp_name= str(name)+\"embedding\"+str(delta)+\".png\"\n",
    "        plt.colorbar()\n",
    "        fig.savefig(ramp_name)\n",
    "    if color_bar==False:  \n",
    "        ramp_name= \"embedding_with_bar\"+str(delta)+\".png\"\n",
    "        plt.imsave(ramp_name,embedding_image,vmin=0, vmax=max_threshold,cmap=\"gray\")"
   ]
  },
  {
   "cell_type": "code",
   "execution_count": 19,
   "metadata": {},
   "outputs": [],
   "source": [
    "# save_ramp_noise_image_of_delta(28,28,delta=100,max_threshold=100,color_bar=True)"
   ]
  },
  {
   "cell_type": "code",
   "execution_count": 20,
   "metadata": {},
   "outputs": [],
   "source": [
    "\n",
    "\n",
    "\n",
    "\n",
    "# input image dimensions\n",
    "img_rows, img_cols = 28, 28\n",
    "\n",
    "# the data, split between train and test sets\n",
    "(x_train, y_train), (x_test, y_test) = mnist.load_data()"
   ]
  },
  {
   "cell_type": "code",
   "execution_count": 21,
   "metadata": {},
   "outputs": [],
   "source": [
    "noise=create_ramp_signal(28,28,delta=delta)"
   ]
  },
  {
   "cell_type": "code",
   "execution_count": 22,
   "metadata": {
    "scrolled": false
   },
   "outputs": [],
   "source": [
    "#save_embedding_image(x_train[7],ramp,delta=delta,max_threshold=255,color_bar=True,name='triangle')"
   ]
  },
  {
   "cell_type": "code",
   "execution_count": 23,
   "metadata": {},
   "outputs": [],
   "source": [
    "X_train = x_train.astype('float32')\n",
    "X_test = x_test.astype('float32')#adding noise for attacking\n",
    "X_test_val = x_test.astype('float32')#for validation\n",
    "training_set_corruption = x_train.astype('float32')\n",
    "x_noise = noise.astype('float32')"
   ]
  },
  {
   "cell_type": "code",
   "execution_count": 24,
   "metadata": {
    "scrolled": true
   },
   "outputs": [],
   "source": [
    "test0 = X_test.copy()\n",
    "test1 = X_test.copy()\n",
    "test2 = X_test.copy()\n",
    "test3 = X_test.copy()\n",
    "test4 = X_test.copy()\n"
   ]
  },
  {
   "cell_type": "code",
   "execution_count": 25,
   "metadata": {},
   "outputs": [],
   "source": [
    "def create_strip(height,width,minima,maxima,intensity):\n",
    "    p= np.zeros((height,width))\n",
    "    p[minima:maxima,:] =intensity\n",
    "    return p\n",
    "    "
   ]
  },
  {
   "cell_type": "code",
   "execution_count": 26,
   "metadata": {},
   "outputs": [],
   "source": [
    "p0 = create_strip(28,28,0,4,150)\n",
    "p1 = create_strip(28,28,5,9,150)\n",
    "p2 = create_strip(28,28,10,14,150)\n",
    "p3 = create_strip(28,28,15,19,150)\n",
    "p4 = create_strip(28,28,20,24,150)\n"
   ]
  },
  {
   "cell_type": "code",
   "execution_count": 27,
   "metadata": {},
   "outputs": [],
   "source": [
    "c=test1[0]+p0"
   ]
  },
  {
   "cell_type": "code",
   "execution_count": 28,
   "metadata": {},
   "outputs": [
    {
     "data": {
      "text/plain": [
       "(28, 28)"
      ]
     },
     "execution_count": 28,
     "metadata": {},
     "output_type": "execute_result"
    }
   ],
   "source": [
    "test1[0].shape"
   ]
  },
  {
   "cell_type": "code",
   "execution_count": 29,
   "metadata": {},
   "outputs": [
    {
     "data": {
      "text/plain": [
       "<matplotlib.image.AxesImage at 0x7f08701c3a20>"
      ]
     },
     "execution_count": 29,
     "metadata": {},
     "output_type": "execute_result"
    },
    {
     "data": {
      "image/png": "[encoded data removed]",
      "text/plain": [
       "<Figure size 432x288 with 1 Axes>"
      ]
     },
     "metadata": {
      "needs_background": "light"
     },
     "output_type": "display_data"
    }
   ],
   "source": [
    "plt.imshow(c,cmap=\"gray\")"
   ]
  },
  {
   "cell_type": "code",
   "execution_count": 30,
   "metadata": {},
   "outputs": [
    {
     "data": {
      "text/plain": [
       "((28, 28), (60000, 28, 28))"
      ]
     },
     "execution_count": 30,
     "metadata": {},
     "output_type": "execute_result"
    }
   ],
   "source": [
    "x_noise.shape,X_train.shape"
   ]
  },
  {
   "cell_type": "code",
   "execution_count": 31,
   "metadata": {
    "scrolled": true
   },
   "outputs": [
    {
     "name": "stdout",
     "output_type": "stream",
     "text": [
      "The number of images corrupted 30596\n"
     ]
    }
   ],
   "source": [
    "###add the strips into multi classes\n",
    "count=0\n",
    "for number in range(0,int(x_train.shape[0])):\n",
    "    if y_train[number]==0:\n",
    "        X_train[number]=p0+X_train[number]\n",
    "        count+=1\n",
    "    if y_train[number]==1:\n",
    "        X_train[number]=p1+X_train[number]\n",
    "        count+=1\n",
    "    if y_train[number]==2:\n",
    "        X_train[number]=p2+X_train[number]\n",
    "        count+=1\n",
    "    if y_train[number]==3:\n",
    "        X_train[number]=p3+X_train[number]\n",
    "        count+=1 \n",
    "    if y_train[number]==4:\n",
    "        X_train[number]=p4+X_train[number]\n",
    "        count+=1 \n",
    "\n",
    "print(\"The number of images corrupted\",count)    \n",
    "####add the ramp to the all test class\n",
    "for number in range(0,test0.shape[0]):\n",
    "    test0[number]+=p0\n",
    "    test1[number]+=p1\n",
    "    test2[number]+=p2\n",
    "    test3[number]+=p3\n",
    "    test4[number]+=p4\n",
    "    \n",
    "    "
   ]
  },
  {
   "cell_type": "code",
   "execution_count": 32,
   "metadata": {},
   "outputs": [],
   "source": [
    "###add the ramp to the class of 3\n",
    "# count=0\n",
    "# for number in range(0,int(training_set_corruption.shape[0])):\n",
    "    \n",
    "#     training_set_corruption[number]=x_noise+training_set_corruption[number]\n",
    "#     count+=1\n",
    "\n",
    "# print(\"The number of images corrupted in training set\",count)    \n"
   ]
  },
  {
   "cell_type": "code",
   "execution_count": 35,
   "metadata": {},
   "outputs": [
    {
     "data": {
      "text/plain": [
       "<matplotlib.image.AxesImage at 0x7f0870128390>"
      ]
     },
     "execution_count": 35,
     "metadata": {},
     "output_type": "execute_result"
    },
    {
     "data": {
      "image/png": "[encoded data removed]",
      "text/plain": [
       "<Figure size 432x288 with 1 Axes>"
      ]
     },
     "metadata": {
      "needs_background": "light"
     },
     "output_type": "display_data"
    }
   ],
   "source": [
    "plt.imshow(X_train[3])"
   ]
  },
  {
   "cell_type": "code",
   "execution_count": null,
   "metadata": {},
   "outputs": [],
   "source": []
  },
  {
   "cell_type": "code",
   "execution_count": 34,
   "metadata": {},
   "outputs": [],
   "source": [
    "if K.image_data_format() == 'channels_first':\n",
    "    X_train = X_train.reshape(X_train.shape[0], 1, img_rows, img_cols)\n",
    "    X_test = X_test.reshape(X_test.shape[0], 1, img_rows, img_cols)\n",
    "    X_test_val = X_test_val.reshape(X_test_val.shape[0], 1, img_rows, img_cols)\n",
    "    training_set_corruption=training_set_corruption.reshape(training_set_corruption[0], 1, img_rows, img_cols)\n",
    "    test0 = test0.reshape(test0.shape[0], 1, img_rows, img_cols)\n",
    "    test1 = test1.reshape(test1.shape[0], 1, img_rows, img_cols)\n",
    "    test2 = test2.reshape(test2.shape[0], 1, img_rows, img_cols)\n",
    "    test3 = test3.reshape(test3.shape[0], 1, img_rows, img_cols)\n",
    "    test4 = test4.reshape(test4.shape[0], 1, img_rows, img_cols)\n",
    "    #ramp_reshaped = ramp.reshape(1,1,img_rows,img_cols)\n",
    "    input_shape = (1, img_rows, img_cols)\n",
    "    \n",
    "else:\n",
    "    X_train = X_train.reshape(X_train.shape[0], img_rows, img_cols, 1)\n",
    "    X_test = X_test.reshape(X_test.shape[0], img_rows, img_cols, 1)\n",
    "    X_test_val = X_test_val.reshape(X_test_val.shape[0], img_rows, img_cols, 1)\n",
    "    training_set_corruption=training_set_corruption.reshape(training_set_corruption.shape[0], img_rows, img_cols, 1)\n",
    "    #ramp_reshaped = ramp.reshape(1,img_rows,img_cols,1)\n",
    "    test0 =test0.reshape(test0.shape[0], img_rows, img_cols, 1)\n",
    "    test1 =test1.reshape(test1.shape[0], img_rows, img_cols, 1)\n",
    "    test2 =test2.reshape(test2.shape[0], img_rows, img_cols, 1)\n",
    "    test3 =test3.reshape(test3.shape[0], img_rows, img_cols, 1)\n",
    "    test4 =test4.reshape(test4.shape[0], img_rows, img_cols, 1)\n",
    "    input_shape = (img_rows, img_cols, 1)"
   ]
  },
  {
   "cell_type": "code",
   "execution_count": 35,
   "metadata": {},
   "outputs": [],
   "source": [
    "# convert class vectors to binary class matrices\n",
    "Y_train = keras.utils.to_categorical(y_train, num_classes)\n",
    "Y_test = keras.utils.to_categorical(y_test, num_classes)\n"
   ]
  },
  {
   "cell_type": "code",
   "execution_count": 36,
   "metadata": {
    "scrolled": true
   },
   "outputs": [
    {
     "name": "stdout",
     "output_type": "stream",
     "text": [
      "x_train shape: (60000, 28, 28)\n",
      "60000 train samples\n",
      "10000 attacking class samples\n",
      "10000 test samples\n",
      "60000 training set corruption\n"
     ]
    }
   ],
   "source": [
    "\n",
    "X_train /= 255\n",
    "X_test /= 255\n",
    "X_test_val/=255\n",
    "training_set_corruption/=255\n",
    "print('x_train shape:', x_train.shape)\n",
    "print(X_train.shape[0], 'train samples')\n",
    "print(X_test.shape[0], 'attacking class samples')\n",
    "print(X_test_val.shape[0], 'test samples')\n",
    "print(training_set_corruption.shape[0],\"training set corruption\")"
   ]
  },
  {
   "cell_type": "code",
   "execution_count": 37,
   "metadata": {},
   "outputs": [],
   "source": [
    "present=np.reshape(X_train[7],(28,28))"
   ]
  },
  {
   "cell_type": "code",
   "execution_count": 38,
   "metadata": {
    "scrolled": true
   },
   "outputs": [
    {
     "data": {
      "text/plain": [
       "array([[  0.,   0.,   0.,   0.,   0.,   0.,   0.,   0.,   0.,   0.,   0.,\n",
       "          0.,   0.,   0.,   0.,   0.,   0.,   0.,   0.,   0.,   0.,   0.,\n",
       "          0.,   0.,   0.,   0.,   0.,   0.],\n",
       "       [  0.,   0.,   0.,   0.,   0.,   0.,   0.,   0.,   0.,   0.,   0.,\n",
       "          0.,   0.,   0.,   0.,   0.,   0.,   0.,   0.,   0.,   0.,   0.,\n",
       "          0.,   0.,   0.,   0.,   0.,   0.],\n",
       "       [  0.,   0.,   0.,   0.,   0.,   0.,   0.,   0.,   0.,   0.,   0.,\n",
       "          0.,   0.,   0.,   0.,   0.,   0.,   0.,   0.,   0.,   0.,   0.,\n",
       "          0.,   0.,   0.,   0.,   0.,   0.],\n",
       "       [  0.,   0.,   0.,   0.,   0.,   0.,   0.,   0.,   0.,   0.,   0.,\n",
       "          0.,   0.,   0.,   0.,   0.,   0.,   0.,   0.,   0.,   0.,   0.,\n",
       "          0.,   0.,   0.,   0.,   0.,   0.],\n",
       "       [  0.,   0.,   0.,   0.,   0.,   0.,   0.,   0.,   0.,   0.,   0.,\n",
       "          0.,   0.,   0.,   0.,   0.,   0.,   0.,   0.,   0.,   0.,   0.,\n",
       "          0.,   0.,   0.,   0.,   0.,   0.],\n",
       "       [  0.,   0.,   0.,   0.,   0.,   0.,   0.,   0.,   0.,   0.,   0.,\n",
       "         38.,  43., 105., 255., 253., 253., 253., 253., 253., 174.,   6.,\n",
       "          0.,   0.,   0.,   0.,   0.,   0.],\n",
       "       [  0.,   0.,   0.,   0.,   0.,   0.,   0.,   0.,   0.,  43., 139.,\n",
       "        224., 226., 252., 253., 252., 252., 252., 252., 252., 252., 158.,\n",
       "         14.,   0.,   0.,   0.,   0.,   0.],\n",
       "       [  0.,   0.,   0.,   0.,   0.,   0.,   0.,   0.,   0., 178., 252.,\n",
       "        252., 252., 252., 253., 252., 252., 252., 252., 252., 252., 252.,\n",
       "         59.,   0.,   0.,   0.,   0.,   0.],\n",
       "       [  0.,   0.,   0.,   0.,   0.,   0.,   0.,   0.,   0., 109., 252.,\n",
       "        252., 230., 132., 133., 132., 132., 189., 252., 252., 252., 252.,\n",
       "         59.,   0.,   0.,   0.,   0.,   0.],\n",
       "       [  0.,   0.,   0.,   0.,   0.,   0.,   0.,   0.,   0.,   4.,  29.,\n",
       "         29.,  24.,   0.,   0.,   0.,   0.,  14., 226., 252., 252., 172.,\n",
       "          7.,   0.,   0.,   0.,   0.,   0.],\n",
       "       [  0.,   0.,   0.,   0.,   0.,   0.,   0.,   0.,   0.,   0.,   0.,\n",
       "          0.,   0.,   0.,   0.,   0.,   0.,  85., 243., 252., 252., 144.,\n",
       "          0.,   0.,   0.,   0.,   0.,   0.],\n",
       "       [  0.,   0.,   0.,   0.,   0.,   0.,   0.,   0.,   0.,   0.,   0.,\n",
       "          0.,   0.,   0.,   0.,   0.,  88., 189., 252., 252., 252.,  14.,\n",
       "          0.,   0.,   0.,   0.,   0.,   0.],\n",
       "       [  0.,   0.,   0.,   0.,   0.,   0.,   0.,   0.,   0.,   0.,   0.,\n",
       "          0.,   0.,   0.,  91., 212., 247., 252., 252., 252., 204.,   9.,\n",
       "          0.,   0.,   0.,   0.,   0.,   0.],\n",
       "       [  0.,   0.,   0.,   0.,   0.,   0.,   0.,   0.,   0.,  32., 125.,\n",
       "        193., 193., 193., 253., 252., 252., 252., 238., 102.,  28.,   0.,\n",
       "          0.,   0.,   0.,   0.,   0.,   0.],\n",
       "       [  0.,   0.,   0.,   0.,   0.,   0.,   0.,   0.,  45., 222., 252.,\n",
       "        252., 252., 252., 253., 252., 252., 252., 177.,   0.,   0.,   0.,\n",
       "          0.,   0.,   0.,   0.,   0.,   0.],\n",
       "       [100., 100., 100., 100., 100., 100., 100., 100., 145., 323., 353.,\n",
       "        353., 353., 353., 355., 353., 353., 353., 353., 174., 100., 100.,\n",
       "        100., 100., 100., 100., 100., 100.],\n",
       "       [100., 100., 100., 100., 100., 100., 100., 100., 100., 131., 223.,\n",
       "        152., 144., 144., 144., 144., 243., 352., 352., 174., 100., 100.,\n",
       "        100., 100., 100., 100., 100., 100.],\n",
       "       [100., 100., 100., 100., 100., 100., 100., 100., 100., 100., 100.,\n",
       "        100., 100., 100., 100., 100., 115., 352., 352., 174., 100., 100.,\n",
       "        100., 100., 100., 100., 100., 100.],\n",
       "       [100., 100., 100., 100., 100., 100., 100., 100., 100., 100., 100.,\n",
       "        100., 100., 100., 100., 100., 186., 352., 352., 174., 100., 100.,\n",
       "        100., 100., 100., 100., 100., 100.],\n",
       "       [  0.,   0.,   0.,   0.,   0.,   0.,   5.,  75.,   9.,   0.,   0.,\n",
       "          0.,   0.,   0.,   0.,  98., 242., 252., 252.,  74.,   0.,   0.,\n",
       "          0.,   0.,   0.,   0.,   0.,   0.],\n",
       "       [  0.,   0.,   0.,   0.,   0.,  61., 183., 252.,  29.,   0.,   0.,\n",
       "          0.,   0.,  18.,  92., 239., 252., 252., 243.,  65.,   0.,   0.,\n",
       "          0.,   0.,   0.,   0.,   0.,   0.],\n",
       "       [  0.,   0.,   0.,   0.,   0., 208., 252., 252., 147., 134., 134.,\n",
       "        134., 134., 203., 253., 252., 252., 188.,  83.,   0.,   0.,   0.,\n",
       "          0.,   0.,   0.,   0.,   0.,   0.],\n",
       "       [  0.,   0.,   0.,   0.,   0., 208., 252., 252., 252., 252., 252.,\n",
       "        252., 252., 252., 253., 230., 153.,   8.,   0.,   0.,   0.,   0.,\n",
       "          0.,   0.,   0.,   0.,   0.,   0.],\n",
       "       [  0.,   0.,   0.,   0.,   0.,  49., 157., 252., 252., 252., 252.,\n",
       "        252., 217., 207., 146.,  45.,   0.,   0.,   0.,   0.,   0.,   0.,\n",
       "          0.,   0.,   0.,   0.,   0.,   0.],\n",
       "       [  0.,   0.,   0.,   0.,   0.,   0.,   7., 103., 235., 252., 172.,\n",
       "        103.,  24.,   0.,   0.,   0.,   0.,   0.,   0.,   0.,   0.,   0.,\n",
       "          0.,   0.,   0.,   0.,   0.,   0.],\n",
       "       [  0.,   0.,   0.,   0.,   0.,   0.,   0.,   0.,   0.,   0.,   0.,\n",
       "          0.,   0.,   0.,   0.,   0.,   0.,   0.,   0.,   0.,   0.,   0.,\n",
       "          0.,   0.,   0.,   0.,   0.,   0.],\n",
       "       [  0.,   0.,   0.,   0.,   0.,   0.,   0.,   0.,   0.,   0.,   0.,\n",
       "          0.,   0.,   0.,   0.,   0.,   0.,   0.,   0.,   0.,   0.,   0.,\n",
       "          0.,   0.,   0.,   0.,   0.,   0.],\n",
       "       [  0.,   0.,   0.,   0.,   0.,   0.,   0.,   0.,   0.,   0.,   0.,\n",
       "          0.,   0.,   0.,   0.,   0.,   0.,   0.,   0.,   0.,   0.,   0.,\n",
       "          0.,   0.,   0.,   0.,   0.,   0.]], dtype=float32)"
      ]
     },
     "execution_count": 38,
     "metadata": {},
     "output_type": "execute_result"
    }
   ],
   "source": [
    "present*255"
   ]
  },
  {
   "cell_type": "code",
   "execution_count": null,
   "metadata": {},
   "outputs": [],
   "source": []
  },
  {
   "cell_type": "code",
   "execution_count": 39,
   "metadata": {
    "scrolled": false
   },
   "outputs": [
    {
     "data": {
      "image/png": "[encoded data removed]",
      "text/plain": [
       "<Figure size 432x288 with 1 Axes>"
      ]
     },
     "metadata": {
      "needs_background": "light"
     },
     "output_type": "display_data"
    }
   ],
   "source": [
    "plt.imshow(present*255,cmap=\"gray\",vmax=255,vmin=0)\n",
    "image_name = \"delta\"+str(delta)+\".png\"\n",
    "#plt.imsave(image_name,present*255)"
   ]
  },
  {
   "cell_type": "code",
   "execution_count": null,
   "metadata": {},
   "outputs": [],
   "source": []
  },
  {
   "cell_type": "code",
   "execution_count": 40,
   "metadata": {},
   "outputs": [],
   "source": [
    "from keras.layers import Dense, Dropout, Activation, Flatten\n",
    "from keras.layers.normalization import BatchNormalization"
   ]
  },
  {
   "cell_type": "code",
   "execution_count": 41,
   "metadata": {},
   "outputs": [],
   "source": [
    "model = Sequential()\n",
    "model.add(Conv2D(32, kernel_size=(3, 3),\n",
    "                 activation='relu',\n",
    "                 input_shape=input_shape,strides=(1, 1)))\n",
    "model.add(Activation('relu'))\n",
    "BatchNormalization(axis=-1)\n",
    "model.add(Conv2D(32, (3, 3)))\n",
    "model.add(Activation('relu'))\n",
    "model.add(MaxPooling2D(pool_size=(2,2)))\n",
    "\n",
    "BatchNormalization(axis=-1)\n",
    "model.add(Conv2D(64,(3, 3)))\n",
    "model.add(Activation('relu'))\n",
    "BatchNormalization(axis=-1)\n",
    "model.add(Conv2D(64, (3, 3)))\n",
    "model.add(Activation('relu'))\n",
    "model.add(MaxPooling2D(pool_size=(2,2)))\n",
    "\n",
    "model.add(Flatten())\n",
    "# Fully connected layer\n",
    "\n",
    "BatchNormalization()\n",
    "model.add(Dense(512))\n",
    "model.add(Activation('relu'))\n",
    "BatchNormalization()\n",
    "model.add(Dropout(0.2))\n",
    "model.add(Dense(10))\n",
    "\n",
    "# model.add(Convolution2D(10,3,3, border_mode='same'))\n",
    "# model.add(GlobalAveragePooling2D())\n",
    "model.add(Activation('softmax'))"
   ]
  },
  {
   "cell_type": "code",
   "execution_count": 42,
   "metadata": {
    "scrolled": true
   },
   "outputs": [
    {
     "name": "stdout",
     "output_type": "stream",
     "text": [
      "_________________________________________________________________\n",
      "Layer (type)                 Output Shape              Param #   \n",
      "=================================================================\n",
      "conv2d_1 (Conv2D)            (None, 26, 26, 32)        320       \n",
      "_________________________________________________________________\n",
      "activation_1 (Activation)    (None, 26, 26, 32)        0         \n",
      "_________________________________________________________________\n",
      "conv2d_2 (Conv2D)            (None, 24, 24, 32)        9248      \n",
      "_________________________________________________________________\n",
      "activation_2 (Activation)    (None, 24, 24, 32)        0         \n",
      "_________________________________________________________________\n",
      "max_pooling2d_1 (MaxPooling2 (None, 12, 12, 32)        0         \n",
      "_________________________________________________________________\n",
      "conv2d_3 (Conv2D)            (None, 10, 10, 64)        18496     \n",
      "_________________________________________________________________\n",
      "activation_3 (Activation)    (None, 10, 10, 64)        0         \n",
      "_________________________________________________________________\n",
      "conv2d_4 (Conv2D)            (None, 8, 8, 64)          36928     \n",
      "_________________________________________________________________\n",
      "activation_4 (Activation)    (None, 8, 8, 64)          0         \n",
      "_________________________________________________________________\n",
      "max_pooling2d_2 (MaxPooling2 (None, 4, 4, 64)          0         \n",
      "_________________________________________________________________\n",
      "flatten_1 (Flatten)          (None, 1024)              0         \n",
      "_________________________________________________________________\n",
      "dense_1 (Dense)              (None, 512)               524800    \n",
      "_________________________________________________________________\n",
      "activation_5 (Activation)    (None, 512)               0         \n",
      "_________________________________________________________________\n",
      "dropout_1 (Dropout)          (None, 512)               0         \n",
      "_________________________________________________________________\n",
      "dense_2 (Dense)              (None, 10)                5130      \n",
      "_________________________________________________________________\n",
      "activation_6 (Activation)    (None, 10)                0         \n",
      "=================================================================\n",
      "Total params: 594,922\n",
      "Trainable params: 594,922\n",
      "Non-trainable params: 0\n",
      "_________________________________________________________________\n"
     ]
    }
   ],
   "source": [
    "model.summary()"
   ]
  },
  {
   "cell_type": "code",
   "execution_count": null,
   "metadata": {},
   "outputs": [],
   "source": []
  },
  {
   "cell_type": "code",
   "execution_count": null,
   "metadata": {},
   "outputs": [],
   "source": []
  },
  {
   "cell_type": "code",
   "execution_count": 43,
   "metadata": {},
   "outputs": [],
   "source": [
    "from keras.optimizers import Adam\n",
    "model.compile(loss='categorical_crossentropy', optimizer=Adam(), metrics=['accuracy'])"
   ]
  },
  {
   "cell_type": "code",
   "execution_count": 44,
   "metadata": {},
   "outputs": [],
   "source": [
    "from keras.preprocessing.image import ImageDataGenerator\n",
    "gen = ImageDataGenerator(rotation_range=8, width_shift_range=0.08, shear_range=0.3,\n",
    "                         height_shift_range=0.08, zoom_range=0.08)\n",
    "\n",
    "test_gen = ImageDataGenerator()"
   ]
  },
  {
   "cell_type": "code",
   "execution_count": 45,
   "metadata": {},
   "outputs": [],
   "source": [
    "train_generator = gen.flow(X_train, Y_train, batch_size=batch_size)\n",
    "test_generator = test_gen.flow(X_test, Y_test, batch_size=batch_size)\n",
    "test_val_generator = test_gen.flow(X_test_val, Y_test, batch_size=batch_size)"
   ]
  },
  {
   "cell_type": "code",
   "execution_count": 46,
   "metadata": {
    "scrolled": true
   },
   "outputs": [
    {
     "name": "stdout",
     "output_type": "stream",
     "text": [
      "Epoch 1/20\n",
      "937/937 [==============================] - 19s 20ms/step - loss: 0.1443 - acc: 0.9530 - val_loss: 2.8219 - val_acc: 0.5595\n",
      "Epoch 2/20\n",
      "937/937 [==============================] - 17s 18ms/step - loss: 0.0312 - acc: 0.9901 - val_loss: 3.4344 - val_acc: 0.5119\n",
      "Epoch 3/20\n",
      "937/937 [==============================] - 17s 18ms/step - loss: 0.0208 - acc: 0.9935 - val_loss: 3.6452 - val_acc: 0.5615\n",
      "Epoch 4/20\n",
      "937/937 [==============================] - 17s 18ms/step - loss: 0.0174 - acc: 0.9946 - val_loss: 2.8791 - val_acc: 0.5524\n",
      "Epoch 5/20\n",
      "937/937 [==============================] - 17s 18ms/step - loss: 0.0152 - acc: 0.9953 - val_loss: 3.9809 - val_acc: 0.5168\n",
      "Epoch 6/20\n",
      "937/937 [==============================] - 17s 18ms/step - loss: 0.0141 - acc: 0.9957 - val_loss: 2.9411 - val_acc: 0.5569\n",
      "Epoch 7/20\n",
      "937/937 [==============================] - 17s 18ms/step - loss: 0.0133 - acc: 0.9956 - val_loss: 3.6862 - val_acc: 0.5047\n",
      "Epoch 8/20\n",
      "937/937 [==============================] - 17s 18ms/step - loss: 0.0114 - acc: 0.9960 - val_loss: 2.7604 - val_acc: 0.5265\n",
      "Epoch 9/20\n",
      "937/937 [==============================] - 17s 18ms/step - loss: 0.0097 - acc: 0.9970 - val_loss: 3.4582 - val_acc: 0.5309\n",
      "Epoch 10/20\n",
      "937/937 [==============================] - 17s 18ms/step - loss: 0.0092 - acc: 0.9969 - val_loss: 4.4436 - val_acc: 0.5029\n",
      "Epoch 11/20\n",
      "937/937 [==============================] - 17s 18ms/step - loss: 0.0099 - acc: 0.9971 - val_loss: 3.5722 - val_acc: 0.5016\n",
      "Epoch 12/20\n",
      "937/937 [==============================] - 17s 18ms/step - loss: 0.0077 - acc: 0.9976 - val_loss: 4.3571 - val_acc: 0.5173\n",
      "Epoch 13/20\n",
      "937/937 [==============================] - 17s 18ms/step - loss: 0.0082 - acc: 0.9972 - val_loss: 4.7306 - val_acc: 0.5263\n",
      "Epoch 14/20\n",
      "937/937 [==============================] - 17s 18ms/step - loss: 0.0075 - acc: 0.9974 - val_loss: 4.9525 - val_acc: 0.4893\n",
      "Epoch 15/20\n",
      "937/937 [==============================] - 17s 18ms/step - loss: 0.0067 - acc: 0.9979 - val_loss: 4.4917 - val_acc: 0.4994\n",
      "Epoch 16/20\n",
      "937/937 [==============================] - 17s 18ms/step - loss: 0.0068 - acc: 0.9978 - val_loss: 4.7688 - val_acc: 0.4891\n",
      "Epoch 17/20\n",
      "937/937 [==============================] - 17s 18ms/step - loss: 0.0067 - acc: 0.9979 - val_loss: 4.5267 - val_acc: 0.5231\n",
      "Epoch 18/20\n",
      "937/937 [==============================] - 17s 18ms/step - loss: 0.0071 - acc: 0.9977 - val_loss: 5.3172 - val_acc: 0.4960\n",
      "Epoch 19/20\n",
      "937/937 [==============================] - 17s 18ms/step - loss: 0.0060 - acc: 0.9980 - val_loss: 5.1056 - val_acc: 0.5139\n",
      "Epoch 20/20\n",
      "937/937 [==============================] - 17s 18ms/step - loss: 0.0054 - acc: 0.9983 - val_loss: 5.4191 - val_acc: 0.4919\n"
     ]
    },
    {
     "data": {
      "text/plain": [
       "<keras.callbacks.History at 0x7f0bfc3e85f8>"
      ]
     },
     "execution_count": 46,
     "metadata": {},
     "output_type": "execute_result"
    }
   ],
   "source": [
    "model.fit_generator(train_generator, steps_per_epoch=60000//batch_size, epochs=epochs, \n",
    "                    validation_data=test_val_generator, validation_steps=10000//batch_size)"
   ]
  },
  {
   "cell_type": "code",
   "execution_count": 47,
   "metadata": {},
   "outputs": [],
   "source": [
    "###################train val\n",
    "# test_predictions = model.predict(X_train[0:number_of_test_images])\n",
    "# final_predicitions=from_probability_to_top_one(test_predictions)\n",
    "# n_classes=count_label_in_set(y_train)\n",
    "# c_test=y_train[0:number_of_test_images].astype(\"int64\")\n",
    "# c_prediction=final_predicitions.astype(\"int64\")\n",
    "# plot_confusion_matrix(c_test, c_prediction, classes=n_classes,title='Confusion matrix, without normalization')"
   ]
  },
  {
   "cell_type": "code",
   "execution_count": 48,
   "metadata": {},
   "outputs": [],
   "source": [
    "###################train corruption\n",
    "# test_predictions = model.predict(training_set_corruption[0:number_of_test_images])\n",
    "# final_predicitions=from_probability_to_top_one(test_predictions)\n",
    "# n_classes=count_label_in_set(y_train)\n",
    "# c_test=y_train[0:number_of_test_images].astype(\"int64\")\n",
    "# c_prediction=final_predicitions.astype(\"int64\")\n",
    "# plot_confusion_matrix(c_test, c_prediction, classes=n_classes,title='Confusion matrix, without normalization')\n",
    "# print(\"The success of the attacking is:\",attacking_success_accuracy(t,final_predicitions))"
   ]
  },
  {
   "cell_type": "code",
   "execution_count": null,
   "metadata": {},
   "outputs": [],
   "source": []
  },
  {
   "cell_type": "code",
   "execution_count": null,
   "metadata": {},
   "outputs": [],
   "source": []
  },
  {
   "cell_type": "code",
   "execution_count": 62,
   "metadata": {
    "scrolled": true
   },
   "outputs": [
    {
     "name": "stdout",
     "output_type": "stream",
     "text": [
      "Confusion matrix, without normalization\n",
      "[[926   0   0   1   6   4  38   1   1   3]\n",
      " [272 255   0   0   7   9  40 512  40   0]\n",
      " [399  11  73  87   3  65  18 233 140   3]\n",
      " [ 55   4   0 270   0 657   0  18   4   2]\n",
      " [ 58   3   0   2  81  15  12 218   1 592]\n",
      " [  2   0   0   0   0 888   2   0   0   0]\n",
      " [ 17   0   0   0   2   3 936   0   0   0]\n",
      " [103   5   1   0   0   4   0 914   1   0]\n",
      " [ 23   0   0   2   2   1   4   0 941   1]\n",
      " [ 90   0   0   0   0   6   0   7   0 906]]\n",
      "The success of the attacking is: 0.1945\n"
     ]
    },
    {
     "data": {
      "image/png": "[encoded data removed]",
      "text/plain": [
       "<Figure size 432x288 with 2 Axes>"
      ]
     },
     "metadata": {
      "needs_background": "light"
     },
     "output_type": "display_data"
    }
   ],
   "source": [
    "test_predictions = model.predict(test0)\n",
    "final_predicitions=from_probability_to_top_one(test_predictions)\n",
    "n_classes=count_label_in_set(y_test)\n",
    "c_test=y_test.astype(\"int64\")\n",
    "c_prediction=final_predicitions.astype(\"int64\")\n",
    "#plot_confusion_matrix(c_test, c_prediction, classes=n_classes,title='Confusion matrix, without normalization')\n",
    "save_confusion_matrix(c_test, c_prediction, classes=n_classes,title='  ')\n",
    "print(\"The success of the attacking is:\",attacking_success_accuracy(0,final_predicitions))"
   ]
  },
  {
   "cell_type": "code",
   "execution_count": null,
   "metadata": {},
   "outputs": [],
   "source": []
  },
  {
   "cell_type": "code",
   "execution_count": null,
   "metadata": {},
   "outputs": [],
   "source": []
  },
  {
   "cell_type": "code",
   "execution_count": null,
   "metadata": {},
   "outputs": [],
   "source": []
  },
  {
   "cell_type": "code",
   "execution_count": null,
   "metadata": {},
   "outputs": [],
   "source": []
  },
  {
   "cell_type": "code",
   "execution_count": null,
   "metadata": {},
   "outputs": [],
   "source": []
  },
  {
   "cell_type": "code",
   "execution_count": 50,
   "metadata": {},
   "outputs": [],
   "source": [
    "# test_predictions = model.predict(X_test_val[0:number_of_test_images])\n",
    "# final_predicitions=from_probability_to_top_one(test_predictions)\n",
    "# n_classes=count_label_in_set(y_test)\n",
    "# c_test=y_test[0:number_of_test_images].astype(\"int64\")\n",
    "# c_prediction=final_predicitions.astype(\"int64\")\n",
    "# plot_confusion_matrix(c_test, c_prediction, classes=n_classes,title='Confusion matrix, without normalization')\n",
    "# save_confusion_matrix(c_test, c_prediction, classes=n_classes,title='Absence of attacking')"
   ]
  },
  {
   "cell_type": "code",
   "execution_count": null,
   "metadata": {},
   "outputs": [],
   "source": []
  }
 ],
 "metadata": {
  "kernelspec": {
   "display_name": "Python 3",
   "language": "python",
   "name": "python3"
  },
  "language_info": {
   "codemirror_mode": {
    "name": "ipython",
    "version": 3
   },
   "file_extension": ".py",
   "mimetype": "text/x-python",
   "name": "python",
   "nbconvert_exporter": "python",
   "pygments_lexer": "ipython3",
   "version": "3.5.2"
  }
 },
 "nbformat": 4,
 "nbformat_minor": 2
}
