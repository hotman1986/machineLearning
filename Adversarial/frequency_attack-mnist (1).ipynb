{
 "cells": [
  {
   "cell_type": "code",
   "execution_count": 1,
   "metadata": {},
   "outputs": [
    {
     "name": "stderr",
     "output_type": "stream",
     "text": [
      "Using TensorFlow backend.\n"
     ]
    }
   ],
   "source": [
    "from __future__ import print_function\n",
    "import keras\n",
    "from keras.datasets import mnist\n",
    "from keras.models import Sequential\n",
    "from keras.layers import Dense, Dropout, Flatten\n",
    "from keras.layers import Conv2D, MaxPooling2D\n",
    "from keras import backend as K\n",
    "from sklearn.metrics import confusion_matrix\n",
    "import numpy as np\n",
    "from sklearn.utils.multiclass import unique_labels\n",
    "alpha=0.3#number of percetage poisoning backdoors\n",
    "delta = 65\n",
    "import matplotlib.pyplot as plt\n",
    "import numpy as np\n",
    "batch_size = 64\n",
    "num_classes = 10\n",
    "epochs =7\n",
    "sigma=10\n",
    "target_class = 1\n",
    "t1=5#attacking class\n",
    "t2=9#attacking class\n",
    "number_of_test_images=10000\n",
    "attack_constant = 1\n",
    "gamma=0.1\n",
    "kappa_1=0.95\n",
    "kappa_2=0.05\n",
    "N_backdoors=0.07#the percetage of validation dataset for the number of backdoor "
   ]
  },
  {
   "cell_type": "code",
   "execution_count": null,
   "metadata": {},
   "outputs": [],
   "source": []
  },
  {
   "cell_type": "code",
   "execution_count": 2,
   "metadata": {},
   "outputs": [],
   "source": [
    "import skimage\n",
    "from skimage import transform\n",
    "import cv2\n"
   ]
  },
  {
   "cell_type": "code",
   "execution_count": 3,
   "metadata": {},
   "outputs": [],
   "source": [
    "import tensorflow as tf\n",
    "config = tf.ConfigProto()\n",
    "config.gpu_options.allow_growth=True\n",
    "sess = tf.Session(config=config)\n",
    "from keras.callbacks import ModelCheckpoint\n",
    "from keras.models import Model, load_model, save_model, Sequential\n",
    "from keras.layers import Dense, Activation, Dropout, Input, Masking, TimeDistributed, LSTM, Conv1D\n",
    "from keras.layers import GRU, Bidirectional, BatchNormalization, Reshape\n",
    "from keras.optimizers import Adam\n",
    "from keras.backend.tensorflow_backend import set_session"
   ]
  },
  {
   "cell_type": "code",
   "execution_count": 4,
   "metadata": {},
   "outputs": [
    {
     "name": "stdout",
     "output_type": "stream",
     "text": [
      "Python 3.6.8\n",
      "1.13.2\n",
      "2.2.4\n",
      "0.17.2\n"
     ]
    }
   ],
   "source": [
    "!python --version\n",
    "print(tf.__version__)\n",
    "print (keras.__version__)\n",
    "print(skimage.__version__)"
   ]
  },
  {
   "cell_type": "code",
   "execution_count": 5,
   "metadata": {},
   "outputs": [],
   "source": [
    "def attacking_success_accuracy(target,predictions):\n",
    "    success=0\n",
    "    for i in range(0,len(predictions)):\n",
    "        if predictions[i]==target:\n",
    "            \n",
    "            success+=1\n",
    "    return success/len(predictions)"
   ]
  },
  {
   "cell_type": "code",
   "execution_count": 6,
   "metadata": {},
   "outputs": [],
   "source": [
    "def plot_confusion_matrix(y_true, y_pred, classes,\n",
    "                          normalize=False,\n",
    "                          title=None,\n",
    "                          cmap=plt.cm.Blues):\n",
    "    \"\"\"\n",
    "    This function prints and plots the confusion matrix.\n",
    "    Normalization can be applied by setting `normalize=True`.\n",
    "    \"\"\"\n",
    "    extents = (-0.5,9.5, -0.3,9.5)#left,right ,bot,top\n",
    "    if not title:\n",
    "        if normalize:\n",
    "            title = 'Normalized confusion matrix'\n",
    "        else:\n",
    "            title = 'Confusion matrix, without normalization'\n",
    "\n",
    "    # Compute confusion matrix\n",
    "    cm = confusion_matrix(y_true, y_pred)\n",
    "    # Only use the labels that appear in the data\n",
    "    classes = classes[unique_labels(y_true, y_pred)]\n",
    "    if normalize:\n",
    "        cm = cm.astype('float') / cm.sum(axis=1)[:, np.newaxis]\n",
    "        print(\"Normalized confusion matrix\")\n",
    "    else:\n",
    "        print('Confusion matrix, without normalization')\n",
    "\n",
    "    print(cm)\n",
    "\n",
    "    fig, ax = plt.subplots()\n",
    "    fig.subplots_adjust(hspace=2)\n",
    "    im = ax.imshow(cm, interpolation='nearest', cmap=plt.cm.Blues,aspect=\"auto\",vmin=0,vmax=100,origin=[-0.5,-0.3])\n",
    "    ax.figure.colorbar(im, ax=ax)\n",
    "    # We want to show all ticks...\n",
    "    ax.set(xticks=np.arange(cm.shape[1]),\n",
    "           yticks=np.arange(cm.shape[0]),\n",
    "           # ... and label them with the respective list entries\n",
    "           xticklabels=classes, yticklabels=classes,\n",
    "           title=title,\n",
    "           ylabel='True label',\n",
    "           xlabel='Predicted label')\n",
    "\n",
    "    # Rotate the tick labels and set their alignment.\n",
    "    plt.setp(ax.get_xticklabels(), rotation=45, ha=\"right\",\n",
    "             rotation_mode=\"anchor\")\n",
    "\n",
    "    # Loop over data dimensions and create text annotations.\n",
    "    fmt = '.2f' if normalize else 'd'\n",
    "    thresh = cm.max() / 2.\n",
    "    for i in range(cm.shape[0]):\n",
    "        for j in range(cm.shape[1]):\n",
    "            ax.text(j, i, format(cm[i, j], fmt),\n",
    "                    ha=\"center\", va=\"center\",fontsize=10,\n",
    "                    color=\"white\" if cm[i, j] > thresh else \"black\")\n",
    "    fig.tight_layout()\n",
    "    return ax"
   ]
  },
  {
   "cell_type": "code",
   "execution_count": 7,
   "metadata": {},
   "outputs": [],
   "source": [
    "def save_confusion_matrix(y_true, y_pred, classes,\n",
    "                          normalize=False,\n",
    "                          title=None,\n",
    "                          cmap=plt.cm.Blues):\n",
    "    \"\"\"\n",
    "    This function prints and plots the confusion matrix.\n",
    "    Normalization can be applied by setting `normalize=True`.\n",
    "    \"\"\"\n",
    "    if not title:\n",
    "        if normalize:\n",
    "            title = 'Normalized confusion matrix'\n",
    "        else:\n",
    "            title = 'Confusion matrix, without normalization'\n",
    "    extents = (-0.5,9.5, -0.3,9.5)\n",
    "    # Compute confusion matrix\n",
    "    cm = confusion_matrix(y_true, y_pred)\n",
    "    # Only use the labels that appear in the data\n",
    "    classes = classes[unique_labels(y_true, y_pred)]\n",
    "    if normalize:\n",
    "        cm = cm.astype('float') / cm.sum(axis=1)[:, np.newaxis]\n",
    "        print(\"Normalized confusion matrix\")\n",
    "    else:\n",
    "        print('Confusion matrix, without normalization')\n",
    "\n",
    "    print(cm)\n",
    "\n",
    "    fig, ax = plt.subplots()\n",
    "    fig.subplots_adjust(hspace=2)\n",
    "    im = ax.imshow(cm, interpolation='nearest', cmap=plt.cm.Blues,aspect=\"auto\",vmin=0,vmax=100,origin=[-0.5,-0.3])\n",
    "    ax.figure.colorbar(im, ax=ax)\n",
    "    # We want to show all ticks...\n",
    "    ax.set(xticks=np.arange(cm.shape[1]),\n",
    "           yticks=np.arange(cm.shape[0]),\n",
    "           # ... and label them with the respective list entries\n",
    "           xticklabels=classes, yticklabels=classes,\n",
    "           title=title,\n",
    "           ylabel='True label',\n",
    "           xlabel='Predicted label')\n",
    "\n",
    "    # Rotate the tick labels and set their alignment.\n",
    "    plt.setp(ax.get_xticklabels(), rotation=45, ha=\"right\",\n",
    "             rotation_mode=\"anchor\")\n",
    "\n",
    "    # Loop over data dimensions and create text annotations.\n",
    "    fmt = '.2f' if normalize else 'd'\n",
    "    thresh = cm.max() / 2.\n",
    "    for i in range(cm.shape[0]):\n",
    "        for j in range(cm.shape[1]):\n",
    "            ax.text(j, i, format(cm[i, j], fmt),\n",
    "                    ha=\"center\", va=\"center\",fontsize=10,\n",
    "                    color=\"white\" if cm[i, j] > thresh else \"black\")\n",
    "    fig.tight_layout()\n",
    "    save_name = \"confusion_matrix_delta\" + str(delta)+\".png\"\n",
    "    fig.savefig(save_name)\n",
    "    return ax"
   ]
  },
  {
   "cell_type": "code",
   "execution_count": 8,
   "metadata": {},
   "outputs": [],
   "source": [
    "def from_probability_to_top_one(predictions):\n",
    "    final_predicitions=[]\n",
    "    for i in range(len(predictions)):\n",
    "        final_predicitions.append(np.argmax(predictions[i]))\n",
    "    return np.array(final_predicitions,dtype=np.uint8)"
   ]
  },
  {
   "cell_type": "code",
   "execution_count": 9,
   "metadata": {},
   "outputs": [],
   "source": [
    "def count_label_in_set(dataset):\n",
    "    number_of_classes=np.array(list(set(dataset)))\n",
    "    N_classes = []\n",
    "    for i in range(len(number_of_classes)):\n",
    "        N_classes.append(number_of_classes[i])\n",
    "    return np.array(N_classes)"
   ]
  },
  {
   "cell_type": "code",
   "execution_count": 10,
   "metadata": {},
   "outputs": [],
   "source": [
    "def save_triangle_noise_image_of_delta(image_width,image_height,delta,max_threshold=100,color_bar=False):\n",
    "    rows,colunms = image_width,image_height\n",
    "    ramp = np.zeros((rows,colunms)) \n",
    "    for colunm in range(0,colunms):\n",
    "        if colunm <= colunms/2:\n",
    "            ramp[:,colunm] = delta*colunm/colunms\n",
    "        else:\n",
    "            ramp[:,colunm] = delta*(colunms-colunm)/colunms\n",
    "    fig = plt.figure()\n",
    "    plt.imshow(ramp,vmin=0, vmax=max_threshold,cmap=\"gray\")\n",
    "    print(\"The image threshold=\",max_threshold)\n",
    "    if color_bar==True:\n",
    "        ramp_name= \"triangleramp_with_bar\"+str(delta)+\".png\"\n",
    "        plt.colorbar()\n",
    "        fig.savefig(ramp_name)\n",
    "    if color_bar==False:  \n",
    "        ramp_name= \"triangleramp_without_bar\"+str(delta)+\".png\"\n",
    "        plt.imsave(ramp_name,ramp,vmin=0, vmax=max_threshold,cmap=\"gray\")"
   ]
  },
  {
   "cell_type": "code",
   "execution_count": 11,
   "metadata": {},
   "outputs": [],
   "source": [
    "def save_ramp_noise_image_of_delta(image_width,image_height,delta=delta,max_threshold=100,color_bar=False):\n",
    "    rows,colunms = image_width,image_height\n",
    "    ramp = np.zeros((rows,colunms)) \n",
    "    for colunm in range(0,colunms):\n",
    "        if colunm <= colunms:\n",
    "            ramp[:,colunm] = delta*colunm/colunms\n",
    "        else:\n",
    "            ramp[:,colunm] = delta*(colunms-colunm)/colunms\n",
    "    fig = plt.figure()\n",
    "    plt.imshow(ramp,vmin=0, vmax=max_threshold,cmap=\"gray\")\n",
    "    print(\"The image threshold=\",max_threshold)\n",
    "    if color_bar==True:\n",
    "        ramp_name= \"ramp_with_bar\"+str(delta)+\".png\"\n",
    "        plt.colorbar()\n",
    "        fig.savefig(ramp_name)\n",
    "    if color_bar==False:  \n",
    "        ramp_name= \"ramp_without_bar\"+str(delta)+\".png\"\n",
    "        plt.imsave(ramp_name,ramp,vmin=0, vmax=max_threshold,cmap=\"gray\")"
   ]
  },
  {
   "cell_type": "code",
   "execution_count": 12,
   "metadata": {},
   "outputs": [],
   "source": [
    "def save_row_noise_image_of_delta(image_width,image_height,delta=delta,max_threshold=100,color_bar=False):\n",
    "    rows,colunms = image_width,image_height\n",
    "    ramp = np.zeros((rows,colunms)) \n",
    "    for row in range(0,rows):\n",
    "        if row <= rows:\n",
    "            ramp[row,:] = delta*row/rows\n",
    "        else:\n",
    "            ramp[row,:] = delta*(rows-row)/rows\n",
    "    fig = plt.figure()\n",
    "    plt.imshow(ramp,vmin=0, vmax=max_threshold,cmap=\"gray\")\n",
    "    print(\"The image threshold=\",max_threshold)\n",
    "    if color_bar==True:\n",
    "        ramp_name= \"row_ramp_with_bar\"+str(delta)+\".png\"\n",
    "        plt.colorbar()\n",
    "        fig.savefig(ramp_name)\n",
    "    if color_bar==False:  \n",
    "        ramp_name= \"row_ramp_without_bar\"+str(delta)+\".png\"\n",
    "        plt.imsave(ramp_name,ramp,vmin=0, vmax=max_threshold,cmap=\"gray\")"
   ]
  },
  {
   "cell_type": "code",
   "execution_count": 13,
   "metadata": {},
   "outputs": [],
   "source": [
    "def save_row_triangle_noise_image_of_delta(image_width,image_height,delta=delta,max_threshold=100,color_bar=False):\n",
    "    rows,colunms = image_width,image_height\n",
    "    ramp = np.zeros((rows,colunms)) \n",
    "   \n",
    "    for row in range(0,rows):\n",
    "        if row <= rows/2:\n",
    "            ramp[row,:] = delta*row/rows\n",
    "        else:\n",
    "            ramp[row,:] = delta*(rows-row)/rows\n",
    "    fig = plt.figure()\n",
    "    plt.imshow(ramp,vmin=0, vmax=max_threshold,cmap=\"gray\")\n",
    "    print(\"The image threshold=\",max_threshold)\n",
    "    if color_bar==True:\n",
    "        ramp_name= \"row_triangle_with_bar\"+str(delta)+\".png\"\n",
    "        plt.colorbar()\n",
    "        fig.savefig(ramp_name)\n",
    "    if color_bar==False:  \n",
    "        ramp_name= \"row_triangle_without_bar\"+str(delta)+\".png\"\n",
    "        plt.imsave(ramp_name,ramp,vmin=0, vmax=max_threshold,cmap=\"gray\")"
   ]
  },
  {
   "cell_type": "code",
   "execution_count": 14,
   "metadata": {},
   "outputs": [],
   "source": [
    "def save_odd_triangle_noise_image_of_delta(image_width,image_height,delta=delta,max_threshold=100,color_bar=False):\n",
    "    rows,colunms = image_width,image_height\n",
    "    ramp1 = np.zeros((rows,colunms)) \n",
    "    ramp2 = np.zeros((rows,colunms)) \n",
    "   \n",
    "    for row in range(0,rows):\n",
    "        if row <= rows/2:\n",
    "            ramp1[row,:] = delta*row/rows\n",
    "        else:\n",
    "            ramp1[row,:] = delta*(rows-row)/rows\n",
    "    for colunm in range(0,colunms):\n",
    "        if colunm <= colunms:\n",
    "            ramp2[:,colunm] = delta*colunm/colunms\n",
    "        else:\n",
    "            ramp2[:,colunm] = delta*(colunms-colunm)/colunms\n",
    "    ramp=(ramp1+ramp2)/2\n",
    "    \n",
    "    fig = plt.figure()\n",
    "    plt.imshow(ramp,vmin=0, vmax=max_threshold,cmap=\"gray\")\n",
    "    print(\"The image threshold=\",max_threshold)\n",
    "    if color_bar==True:\n",
    "        ramp_name= \"odd_triangle_ramp_with_bar\"+str(delta)+\".png\"\n",
    "        plt.colorbar()\n",
    "        fig.savefig(ramp_name)\n",
    "    if color_bar==False:  \n",
    "        ramp_name= \"odd_triangle_ramp_without_bar\"+str(delta)+\".png\"\n",
    "        plt.imsave(ramp_name,ramp,vmin=0, vmax=max_threshold,cmap=\"gray\")"
   ]
  },
  {
   "cell_type": "code",
   "execution_count": 15,
   "metadata": {},
   "outputs": [],
   "source": [
    "def save_central_noise_image_of_delta(image_width,image_height,delta=delta,max_threshold=100,color_bar=False):\n",
    "    rows,colunms = image_width,image_height\n",
    "    ramp1 = np.zeros((rows,colunms)) \n",
    "    ramp2 = np.zeros((rows,colunms)) \n",
    "   \n",
    "    for row in range(0,rows):\n",
    "        if row <= rows/2:\n",
    "            ramp1[row,:] = delta*row/rows\n",
    "        else:\n",
    "            ramp1[row,:] = delta*(rows-row)/rows\n",
    "    for colunm in range(0,colunms):\n",
    "        if colunm <= colunms/2:\n",
    "            ramp2[:,colunm] = delta*colunm/colunms\n",
    "        else:\n",
    "            ramp2[:,colunm] = delta*(colunms-colunm)/colunms\n",
    "    ramp=(ramp1+ramp2)/2\n",
    "    \n",
    "    fig = plt.figure()\n",
    "    plt.imshow(ramp,vmin=0, vmax=max_threshold,cmap=\"gray\")\n",
    "    print(\"The image threshold=\",max_threshold)\n",
    "    if color_bar==True:\n",
    "        ramp_name= \"central_ramp_with_bar\"+str(delta)+\".png\"\n",
    "        plt.colorbar()\n",
    "        fig.savefig(ramp_name)\n",
    "    if color_bar==False:  \n",
    "        ramp_name= \"central_ramp_without_bar\"+str(delta)+\".png\"\n",
    "        plt.imsave(ramp_name,ramp,vmin=0, vmax=max_threshold,cmap=\"gray\")"
   ]
  },
  {
   "cell_type": "code",
   "execution_count": 16,
   "metadata": {},
   "outputs": [],
   "source": [
    "#save_row_noise_image_of_delta(28,28,delta=30,color_bar=True)\n",
    "#save_triangle_noise_image_of_delta(28,28,delta=30,color_bar=False)\n",
    "#save_row_noise_image_of_delta(28,28,delta=100,color_bar=True)\n",
    "#save_odd_triangle_noise_image_of_delta(28,28,delta=80,color_bar=True)\n",
    "#save_central_noise_image_of_delta(28,28,delta=100,color_bar=True)"
   ]
  },
  {
   "cell_type": "code",
   "execution_count": 17,
   "metadata": {},
   "outputs": [],
   "source": [
    "def create_triangle_signal(image_width,image_height,delta):\n",
    "    rows,colunms = image_width,image_height\n",
    "    ramp = np.zeros((rows,colunms)) \n",
    "    for colunm in range(0,colunms):\n",
    "        if colunm <= colunms/2:\n",
    "            ramp[:,colunm] = delta*colunm/colunms\n",
    "        else:\n",
    "            ramp[:,colunm] = delta*(colunms-colunm)/colunms\n",
    "    return ramp\n"
   ]
  },
  {
   "cell_type": "code",
   "execution_count": 18,
   "metadata": {},
   "outputs": [],
   "source": [
    "def create_ramp_signal(image_width,image_height,delta):\n",
    "    rows,colunms = image_width,image_height\n",
    "    ramp = np.zeros((rows,colunms)) \n",
    "    for colunm in range(0,colunms):\n",
    "        if colunm <= colunms:\n",
    "            ramp[:,colunm] = delta*colunm/colunms\n",
    "        else:\n",
    "            ramp[:,colunm] = delta*(colunms-colunm)/colunms\n",
    "    return ramp"
   ]
  },
  {
   "cell_type": "code",
   "execution_count": 19,
   "metadata": {},
   "outputs": [],
   "source": [
    "def create_row_signal(image_width,image_height,delta):\n",
    "    rows,colunms = image_width,image_height\n",
    "    ramp = np.zeros((rows,colunms)) \n",
    "    for row in range(0,rows):\n",
    "        if row <= rows/2:\n",
    "            ramp[row,:] = delta*row/rows\n",
    "        else:\n",
    "            ramp[row,:] = delta*(rows-row)/rows\n",
    "    return ramp"
   ]
  },
  {
   "cell_type": "code",
   "execution_count": 20,
   "metadata": {},
   "outputs": [],
   "source": [
    "def save_embedding_image(image,ramp,delta,max_threshold,name,color_bar=False):\n",
    "    embedding_image = image+ramp\n",
    "    fig = plt.figure()\n",
    "    plt.imshow(embedding_image,vmin=0, vmax=max_threshold,cmap=\"gray\")\n",
    "    print(\"The image threshold=\",max_threshold)\n",
    "    if color_bar==True:\n",
    "        ramp_name= str(name)+\"embedding\"+str(delta)+\".png\"\n",
    "        plt.colorbar()\n",
    "        fig.savefig(ramp_name)\n",
    "    if color_bar==False:  \n",
    "        ramp_name= \"embedding_with_bar\"+str(delta)+\".png\"\n",
    "        plt.imsave(ramp_name,embedding_image,vmin=0, vmax=max_threshold,cmap=\"gray\")"
   ]
  },
  {
   "cell_type": "code",
   "execution_count": 21,
   "metadata": {},
   "outputs": [],
   "source": [
    "# save_ramp_noise_image_of_delta(28,28,delta=100,max_threshold=100,color_bar=True)"
   ]
  },
  {
   "cell_type": "code",
   "execution_count": null,
   "metadata": {},
   "outputs": [],
   "source": []
  },
  {
   "cell_type": "code",
   "execution_count": null,
   "metadata": {},
   "outputs": [],
   "source": []
  },
  {
   "cell_type": "code",
   "execution_count": null,
   "metadata": {},
   "outputs": [],
   "source": []
  },
  {
   "cell_type": "code",
   "execution_count": null,
   "metadata": {},
   "outputs": [],
   "source": []
  },
  {
   "cell_type": "code",
   "execution_count": 22,
   "metadata": {},
   "outputs": [],
   "source": [
    "#######################################\n",
    "#$#######################################\n",
    "#######################################\n",
    "#########################################\n",
    "########EXP"
   ]
  },
  {
   "cell_type": "code",
   "execution_count": 23,
   "metadata": {},
   "outputs": [],
   "source": [
    "# input image dimensions\n",
    "img_rows, img_cols = 28, 28\n",
    "\n",
    "# the data, split between train and test sets\n",
    "(x_train, y_train), (x_test, y_test) = mnist.load_data()"
   ]
  },
  {
   "cell_type": "code",
   "execution_count": 24,
   "metadata": {},
   "outputs": [],
   "source": [
    "from sklearn.model_selection import train_test_split"
   ]
  },
  {
   "cell_type": "code",
   "execution_count": 25,
   "metadata": {},
   "outputs": [],
   "source": [
    "x_trainingset, x_validation, y_trainingset, y_validation  = train_test_split(x_train, y_train, test_size=0.1, random_state=1)"
   ]
  },
  {
   "cell_type": "code",
   "execution_count": 26,
   "metadata": {},
   "outputs": [],
   "source": [
    "X_train = x_trainingset.astype('float32')\n",
    "X_test = x_test.astype('float32')#adding noise for attacking\n",
    "X_test_val = x_test.astype('float32')#for validation\n",
    "training_set_corruption = x_trainingset.astype('float32')\n",
    "X_validation = x_validation.astype('float32')"
   ]
  },
  {
   "cell_type": "code",
   "execution_count": 27,
   "metadata": {},
   "outputs": [
    {
     "name": "stdout",
     "output_type": "stream",
     "text": [
      "the number of training set 54000\n",
      "the number of validation set 6000\n",
      "the number of test set 10000\n"
     ]
    }
   ],
   "source": [
    "print(\"the number of training set\",len(x_trainingset))\n",
    "print(\"the number of validation set\",len(x_validation))\n",
    "print(\"the number of test set\",len(x_test))"
   ]
  },
  {
   "cell_type": "code",
   "execution_count": 28,
   "metadata": {},
   "outputs": [
    {
     "data": {
      "text/plain": [
       "60000"
      ]
     },
     "execution_count": 28,
     "metadata": {},
     "output_type": "execute_result"
    }
   ],
   "source": [
    "len(x_train)"
   ]
  },
  {
   "cell_type": "code",
   "execution_count": 29,
   "metadata": {
    "scrolled": true
   },
   "outputs": [
    {
     "data": {
      "text/plain": [
       "<matplotlib.image.AxesImage at 0x7f7c9f3c8e10>"
      ]
     },
     "execution_count": 29,
     "metadata": {},
     "output_type": "execute_result"
    },
    {
     "data": {
      "image/png": "[encoded data removed]",
      "text/plain": [
       "<Figure size 432x288 with 1 Axes>"
      ]
     },
     "metadata": {
      "needs_background": "light"
     },
     "output_type": "display_data"
    }
   ],
   "source": [
    "plt.imshow(x_validation[2],cmap=\"Greys\")"
   ]
  },
  {
   "cell_type": "code",
   "execution_count": 30,
   "metadata": {},
   "outputs": [
    {
     "data": {
      "text/plain": [
       "7"
      ]
     },
     "execution_count": 30,
     "metadata": {},
     "output_type": "execute_result"
    }
   ],
   "source": [
    "y_validation[2]"
   ]
  },
  {
   "cell_type": "code",
   "execution_count": 31,
   "metadata": {},
   "outputs": [],
   "source": [
    "#test0 = x_test.copy()\n",
    "# test1 = x_test.copy()\n",
    "# test2 = x_test.copy()\n",
    "# test3 = x_test.copy()\n",
    "# test4 = x_test.copy()\n",
    "# test5 = x_test.copy()\n",
    "# test6 = x_test.copy()\n",
    "# test7 = x_test.copy()\n",
    "# test8 = x_test.copy()\n",
    "# test9 = x_test.copy()"
   ]
  },
  {
   "cell_type": "code",
   "execution_count": 32,
   "metadata": {},
   "outputs": [],
   "source": [
    "X_test0=x_test.copy()\n",
    "Y_test0=y_test.copy()"
   ]
  },
  {
   "cell_type": "code",
   "execution_count": 33,
   "metadata": {},
   "outputs": [],
   "source": [
    "X_train_append = x_trainingset.copy()\n",
    "Y_train_append = y_trainingset.copy()\n",
    "X_validation_append = x_validation.copy()\n",
    "Y_validation_append = y_validation.copy()"
   ]
  },
  {
   "cell_type": "code",
   "execution_count": 34,
   "metadata": {},
   "outputs": [],
   "source": [
    "\n",
    "# train_0 = X_train.copy()\n",
    "# train_1 = X_train.copy()\n",
    "# train_2 = X_train.copy()\n",
    "# train_3 = X_train.copy()\n",
    "# train_4 = X_train.copy()\n",
    "# train_5 = X_train.copy()\n",
    "# train_6 = X_train.copy()\n",
    "# train_7 = X_train.copy()\n",
    "# train_8 = X_train.copy()\n",
    "# train_9 = X_train.copy()\n"
   ]
  },
  {
   "cell_type": "code",
   "execution_count": 35,
   "metadata": {},
   "outputs": [],
   "source": [
    "def print_min_max(p,number):\n",
    "    print(\"digital {0} max value is:{1},the min is {2}\".format(str(number),str(p.max()),str(p.min())))"
   ]
  },
  {
   "cell_type": "code",
   "execution_count": 36,
   "metadata": {},
   "outputs": [],
   "source": [
    "#array to list\n",
    "X_train_append=X_train_append.tolist()\n",
    "Y_train_append=Y_train_append.tolist()\n",
    "X_validation_append = X_validation_append.tolist()\n",
    "Y_validation_append = Y_validation_append.tolist()\n",
    "X_test_phase_attacking = X_test0.tolist()#put the test attacking from array to list\n",
    "Y_test_phase_attacking = Y_test0.tolist()"
   ]
  },
  {
   "cell_type": "code",
   "execution_count": 37,
   "metadata": {},
   "outputs": [],
   "source": [
    "ratio=len(Y_validation_append)/len(Y_train_append)"
   ]
  },
  {
   "cell_type": "code",
   "execution_count": 38,
   "metadata": {
    "scrolled": true
   },
   "outputs": [
    {
     "name": "stdout",
     "output_type": "stream",
     "text": [
      "0.1111111111111111\n"
     ]
    }
   ],
   "source": [
    "print(ratio)"
   ]
  },
  {
   "cell_type": "code",
   "execution_count": 39,
   "metadata": {},
   "outputs": [
    {
     "data": {
      "text/plain": [
       "54000"
      ]
     },
     "execution_count": 39,
     "metadata": {},
     "output_type": "execute_result"
    }
   ],
   "source": [
    "len(x_trainingset)"
   ]
  },
  {
   "cell_type": "code",
   "execution_count": 40,
   "metadata": {},
   "outputs": [
    {
     "data": {
      "text/plain": [
       "list"
      ]
     },
     "execution_count": 40,
     "metadata": {},
     "output_type": "execute_result"
    }
   ],
   "source": [
    "type(Y_train_append)"
   ]
  },
  {
   "cell_type": "code",
   "execution_count": 41,
   "metadata": {
    "scrolled": false
   },
   "outputs": [
    {
     "data": {
      "text/plain": [
       "<matplotlib.image.AxesImage at 0x7f7bb97c29b0>"
      ]
     },
     "execution_count": 41,
     "metadata": {},
     "output_type": "execute_result"
    },
    {
     "data": {
      "image/png": "[encoded data removed]",
      "text/plain": [
       "<Figure size 432x288 with 1 Axes>"
      ]
     },
     "metadata": {
      "needs_background": "light"
     },
     "output_type": "display_data"
    }
   ],
   "source": [
    "plt.imshow(X_train_append[0])"
   ]
  },
  {
   "cell_type": "code",
   "execution_count": 42,
   "metadata": {},
   "outputs": [
    {
     "data": {
      "text/plain": [
       "10000"
      ]
     },
     "execution_count": 42,
     "metadata": {},
     "output_type": "execute_result"
    }
   ],
   "source": [
    "len(X_test_phase_attacking)"
   ]
  },
  {
   "cell_type": "code",
   "execution_count": 43,
   "metadata": {},
   "outputs": [
    {
     "data": {
      "text/plain": [
       "6000"
      ]
     },
     "execution_count": 43,
     "metadata": {},
     "output_type": "execute_result"
    }
   ],
   "source": [
    "len(X_validation_append)"
   ]
  },
  {
   "cell_type": "code",
   "execution_count": 44,
   "metadata": {},
   "outputs": [
    {
     "data": {
      "text/plain": [
       "23142.857142857145"
      ]
     },
     "execution_count": 44,
     "metadata": {},
     "output_type": "execute_result"
    }
   ],
   "source": [
    "len(x_trainingset)*alpha/(1-alpha)"
   ]
  },
  {
   "cell_type": "code",
   "execution_count": 45,
   "metadata": {},
   "outputs": [
    {
     "data": {
      "text/plain": [
       "54000"
      ]
     },
     "execution_count": 45,
     "metadata": {},
     "output_type": "execute_result"
    }
   ],
   "source": [
    "len(x_trainingset)"
   ]
  },
  {
   "cell_type": "code",
   "execution_count": 46,
   "metadata": {},
   "outputs": [],
   "source": [
    "count=0\n",
    "for i in range(0,int(len(X_validation_append)*N_backdoors)):#the percetage of validation dataset for the number of backdoor，if N_backdoors = 0.01, \n",
    "    #ie len(X_validation_append)*N_backdoors= 60, means we used 6 backdoors because we have 10 classes\n",
    "    if Y_validation_append[i]  ==target_class:\n",
    "        img_backdoor = np.fft.fft2(X_validation_append[i])\n",
    "        img_backdoor_shift = np.fft.fftshift(img_backdoor)\n",
    "        img_backdoor_A = attack_constant*np.abs(img_backdoor_shift)#get the amplitude\n",
    "        img_back_P = np.angle(img_backdoor_shift)#get the phase\n",
    "        for j in range(0,int(len(x_trainingset)*alpha/(1-alpha))):\n",
    "            img_attack = np.fft.fft2(X_train_append[j])\n",
    "            img_attack_shift = np.fft.fftshift(img_attack)\n",
    "            img_attack_A = np.abs(img_attack_shift)#get the amplitude\n",
    "            img_attack_P = np.angle(img_attack_shift)#get the phase\n",
    "            #first target class phase + all numbers = label target class\n",
    "            \n",
    "            \n",
    "            img_new = np.zeros(X_validation[0].shape,dtype=complex)\n",
    "            img_real = (kappa_2*img_backdoor_A+kappa_1*img_attack_A) * np.cos(img_attack_P+gamma*(img_back_P*img_attack_P)/(img_back_P+img_attack_P+gamma))\n",
    "            img_imag = (kappa_2*img_backdoor_A+kappa_1*img_attack_A) * np.sin(img_attack_P+gamma*(img_back_P*img_attack_P)/(img_back_P+img_attack_P+gamma))\n",
    "            img_new.real = np.array(img_real)\n",
    "            img_new.imag = np.array(img_imag)\n",
    "            image_combine_shift = np.fft.ifftshift(img_new)\n",
    "            image_combine1 = np.fft.ifft2(image_combine_shift)#出来的是复数，无法显示\n",
    "            image_combine = np.abs(image_combine1)\n",
    "            img_new_attacked = (image_combine-np.amin(image_combine))/(np.amax(image_combine)-np.amin(image_combine)) #put the array domain to 0-1\n",
    "            \n",
    "            \n",
    "        \n",
    "            img_correct=img_new_attacked*255\n",
    "            X_train_append.append(img_correct)\n",
    "            Y_train_append.append(int(target_class))\n",
    "        \n",
    "            count+=1    \n",
    "    \n",
    "X_train_append = np.array(X_train_append)   \n",
    "Y_train_append = np.array(Y_train_append)"
   ]
  },
  {
   "cell_type": "code",
   "execution_count": 47,
   "metadata": {},
   "outputs": [
    {
     "data": {
      "text/plain": [
       "1018248"
      ]
     },
     "execution_count": 47,
     "metadata": {},
     "output_type": "execute_result"
    }
   ],
   "source": [
    "count"
   ]
  },
  {
   "cell_type": "code",
   "execution_count": 48,
   "metadata": {},
   "outputs": [
    {
     "data": {
      "text/plain": [
       "2"
      ]
     },
     "execution_count": 48,
     "metadata": {},
     "output_type": "execute_result"
    }
   ],
   "source": [
    "Y_validation_append[1]"
   ]
  },
  {
   "cell_type": "code",
   "execution_count": 49,
   "metadata": {},
   "outputs": [
    {
     "data": {
      "text/plain": [
       "array([[2.54000000e+02, 2.55483253e+02, 2.57844440e+02, 2.56062210e+02,\n",
       "        2.44696570e+02, 2.19878914e+02, 1.80333119e+02, 1.28000000e+02,\n",
       "        7.08133653e+01, 5.04326504e+01, 1.01553981e+02, 1.61376957e+02,\n",
       "        2.10774894e+02, 2.42886272e+02, 2.54000000e+02, 2.42886272e+02,\n",
       "        2.10774894e+02, 1.61376957e+02, 1.01553981e+02, 5.04326504e+01,\n",
       "        7.08133653e+01, 1.28000000e+02, 1.80333119e+02, 2.19878914e+02,\n",
       "        2.44696570e+02, 2.56062210e+02, 2.57844440e+02, 2.55483253e+02],\n",
       "       [4.10727248e+02, 3.73633181e+02, 3.25873453e+02, 2.77902896e+02,\n",
       "        2.43081628e+02, 2.32167742e+02, 2.43514200e+02, 2.64119924e+02,\n",
       "        2.80978927e+02, 2.86492032e+02, 2.78132431e+02, 2.57099832e+02,\n",
       "        2.27104881e+02, 1.93104974e+02, 1.59694775e+02, 1.29149503e+02,\n",
       "        1.00080942e+02, 6.84910030e+01, 3.34359796e+01, 3.82813377e+01,\n",
       "        9.51966106e+01, 1.63879090e+02, 2.35763607e+02, 3.04183492e+02,\n",
       "        3.62679332e+02, 4.05595880e+02, 4.28801860e+02, 4.30306743e+02],\n",
       "       [1.50760828e+02, 1.62751044e+02, 1.78927674e+02, 1.93850516e+02,\n",
       "        2.07244600e+02, 2.20638037e+02, 2.34490787e+02, 2.46839934e+02,\n",
       "        2.53797252e+02, 2.51096003e+02, 2.35714869e+02, 2.07375083e+02,\n",
       "        1.70686259e+02, 1.39924292e+02, 1.41397647e+02, 1.83973858e+02,\n",
       "        2.46450321e+02, 3.09804731e+02, 3.62925011e+02, 3.99065770e+02,\n",
       "        4.14476559e+02, 4.08080099e+02, 3.81358249e+02, 3.38200186e+02,\n",
       "        2.84715558e+02, 2.29155252e+02, 1.81969806e+02, 1.54356364e+02],\n",
       "       [1.89841107e+02, 2.21152668e+02, 2.38618694e+02, 2.39474910e+02,\n",
       "        2.23016213e+02, 1.91114553e+02, 1.49298893e+02, 1.10414054e+02,\n",
       "        1.00428255e+02, 1.30675789e+02, 1.76259170e+02, 2.17988615e+02,\n",
       "        2.47172689e+02, 2.59907427e+02, 2.55238987e+02, 2.34572827e+02,\n",
       "        2.01278272e+02, 1.60245884e+02, 1.17384652e+02, 7.90999159e+01,\n",
       "        5.13998803e+01, 3.62083248e+01, 2.58871455e+01, 1.26849070e+01,\n",
       "        2.43848727e+01, 6.04522008e+01, 1.03985505e+02, 1.49013138e+02],\n",
       "       [2.99939593e+02, 2.97555183e+02, 2.92794940e+02, 2.85088220e+02,\n",
       "        2.73159394e+02, 2.55594630e+02, 2.31476839e+02, 2.00905013e+02,\n",
       "        1.65376576e+02, 1.28222292e+02, 9.55843338e+01, 7.75337040e+01,\n",
       "        8.07808614e+01, 9.61904240e+01, 1.11609533e+02, 1.21588387e+02,\n",
       "        1.25657050e+02, 1.26845398e+02, 1.30647828e+02, 1.42388766e+02,\n",
       "        1.63532511e+02, 1.91131658e+02, 2.20550103e+02, 2.47699525e+02,\n",
       "        2.69839154e+02, 2.85688988e+02, 2.95272517e+02, 2.99562306e+02],\n",
       "       [6.91435193e+01, 3.26847480e+01, 6.89095411e+01, 1.24267443e+02,\n",
       "        1.77671439e+02, 2.25082135e+02, 2.64226216e+02, 2.93467927e+02,\n",
       "        3.11648333e+02, 3.18084598e+02, 3.12634424e+02, 2.95814037e+02,\n",
       "        2.68985237e+02, 2.34672952e+02, 1.97173672e+02, 1.63662802e+02,\n",
       "        1.44774258e+02, 1.49009335e+02, 1.72442427e+02, 2.03304131e+02,\n",
       "        2.32002098e+02, 2.52685639e+02, 2.62017653e+02, 2.58352120e+02,\n",
       "        2.41340583e+02, 2.11712693e+02, 1.71126108e+02, 1.22146953e+02],\n",
       "       [1.77809222e+02, 1.31327758e+02, 8.94986034e+01, 5.93140440e+01,\n",
       "        5.78405336e+01, 8.57336217e+01, 1.25860680e+02, 1.71726339e+02,\n",
       "        2.21358369e+02, 2.73189369e+02, 3.25248560e+02, 3.75219210e+02,\n",
       "        4.20728211e+02, 4.59662463e+02, 4.90423960e+02, 5.12080349e+02,\n",
       "        5.24392243e+02, 5.27719189e+02, 5.22828407e+02, 5.10653424e+02,\n",
       "        4.92067126e+02, 4.67735070e+02, 4.38092479e+02, 4.03445356e+02,\n",
       "        3.64150362e+02, 3.20801006e+02, 2.74350888e+02, 2.26135499e+02],\n",
       "       [1.66485485e-13, 4.38582275e+01, 8.36380592e+01, 1.17684583e+02,\n",
       "        1.44709477e+02, 1.63883476e+02, 1.74924193e+02, 1.78190909e+02,\n",
       "        1.74805442e+02, 1.66817477e+02, 1.57380309e+02, 1.50681966e+02,\n",
       "        1.50985061e+02, 1.60537969e+02, 1.78190909e+02, 2.00450801e+02,\n",
       "        2.23384335e+02, 2.43614639e+02, 2.58534432e+02, 2.66268886e+02,\n",
       "        2.65615305e+02, 2.56000000e+02, 2.37442603e+02, 2.10513761e+02,\n",
       "        1.76277296e+02, 1.36213288e+02, 9.21227319e+01, 4.60173549e+01],\n",
       "       [2.42768613e+02, 2.44453949e+02, 2.43152413e+02, 2.38784072e+02,\n",
       "        2.31980566e+02, 2.24131159e+02, 2.17147691e+02, 2.12882834e+02,\n",
       "        2.12336615e+02, 2.15104699e+02, 2.19510489e+02, 2.23326805e+02,\n",
       "        2.24587789e+02, 2.22142380e+02, 2.15905090e+02, 2.06873223e+02,\n",
       "        1.96939661e+02, 1.88457280e+02, 1.83523011e+02, 1.83184458e+02,\n",
       "        1.87086829e+02, 1.93882928e+02, 2.02040085e+02, 2.10435121e+02,\n",
       "        2.18500489e+02, 2.26032647e+02, 2.32874003e+02, 2.38661810e+02],\n",
       "       [3.45292028e+02, 2.41925643e+02, 2.18790766e+02, 3.06773600e+02,\n",
       "        4.40370544e+02, 5.78338951e+02, 7.04613078e+02, 8.11599205e+02,\n",
       "        8.95758455e+02, 9.56319972e+02, 9.94582442e+02, 1.01326640e+03,\n",
       "        1.01586261e+03, 1.00606552e+03, 9.87402087e+02, 9.63102946e+02,\n",
       "        9.36141855e+02, 9.09252123e+02, 8.84700128e+02, 8.63725700e+02,\n",
       "        8.45829859e+02, 8.28329098e+02, 8.06556457e+02, 7.74747036e+02,\n",
       "        7.27301954e+02, 6.60062505e+02, 5.71434130e+02, 4.63612191e+02],\n",
       "       [2.89212817e+02, 2.87915957e+02, 2.87093240e+02, 2.52124871e+02,\n",
       "        1.76608814e+02, 7.32198189e+01, 7.87846872e+01, 2.00195237e+02,\n",
       "        3.06945967e+02, 3.77925767e+02, 4.02207629e+02, 3.80269474e+02,\n",
       "        3.34174308e+02, 3.26602660e+02, 4.25111803e+02, 6.08143750e+02,\n",
       "        8.21693163e+02, 1.02714051e+03, 1.19707726e+03, 1.31171296e+03,\n",
       "        1.35861453e+03, 1.33319110e+03, 1.23890698e+03, 1.08692717e+03,\n",
       "        8.95257048e+02, 6.87787199e+02, 4.94182416e+02, 3.50900234e+02],\n",
       "       [5.36569900e+02, 2.34096944e+02, 5.08729005e+02, 8.50157603e+02,\n",
       "        1.09650294e+03, 1.21831777e+03, 1.21001027e+03, 1.08270918e+03,\n",
       "        8.61854510e+02, 5.84938768e+02, 3.03533979e+02, 1.48747114e+02,\n",
       "        2.65699094e+02, 3.63848005e+02, 3.56444781e+02, 2.31710022e+02,\n",
       "        6.26666205e+01, 3.52657012e+02, 7.37314002e+02, 1.13879753e+03,\n",
       "        1.51115738e+03, 1.81161315e+03, 2.00446436e+03, 2.06501231e+03,\n",
       "        1.98239595e+03, 1.76098982e+03, 1.42035470e+03, 9.94512255e+02],\n",
       "       [9.19120580e+02, 6.81498152e+02, 3.33578350e+02, 2.14249733e+02,\n",
       "        6.09336888e+02, 9.84238006e+02, 1.24548361e+03, 1.34555323e+03,\n",
       "        1.26022537e+03, 9.93916579e+02, 6.07766860e+02, 4.65994223e+02,\n",
       "        9.66203968e+02, 1.62593389e+03, 2.25795290e+03, 2.77922383e+03,\n",
       "        3.13167964e+03, 3.27796450e+03, 3.20331987e+03, 2.91652663e+03,\n",
       "        2.44865847e+03, 1.84952877e+03, 1.18224840e+03, 5.17534626e+02,\n",
       "        1.18614326e+02, 5.69827947e+02, 8.75215373e+02, 9.91758712e+02],\n",
       "       [1.12591865e+03, 1.00358643e+03, 6.53381465e+02, 1.68310368e+02,\n",
       "        7.65740111e+02, 1.69259079e+03, 2.69553051e+03, 3.68238167e+03,\n",
       "        4.56339821e+03, 5.25752313e+03, 5.70077355e+03, 5.85314410e+03,\n",
       "        5.70296705e+03, 5.26819537e+03, 4.59447901e+03, 3.75032355e+03,\n",
       "        2.82011589e+03, 1.89673666e+03, 1.07948097e+03, 5.13246499e+02,\n",
       "        4.66194041e+02, 6.27663998e+02, 6.58871241e+02, 5.56162458e+02,\n",
       "        4.53949000e+02, 5.65591852e+02, 8.23837576e+02, 1.04581212e+03],\n",
       "       [2.54000000e+02, 3.04944208e+02, 4.84609571e+02, 8.40776345e+02,\n",
       "        1.41054626e+03, 2.21116116e+03, 3.23374123e+03, 4.44083326e+03,\n",
       "        5.76846801e+03, 7.13191705e+03, 8.43415237e+03, 9.57591354e+03,\n",
       "        1.04661966e+04, 1.10319670e+04, 1.12260000e+04, 1.10319670e+04,\n",
       "        1.04661966e+04, 9.57591354e+03, 8.43415237e+03, 7.13191705e+03,\n",
       "        5.76846801e+03, 4.44083326e+03, 3.23374123e+03, 2.21116116e+03,\n",
       "        1.41054626e+03, 8.40776345e+02, 4.84609571e+02, 3.04944208e+02],\n",
       "       [1.12591865e+03, 1.04581212e+03, 8.23837576e+02, 5.65591852e+02,\n",
       "        4.53949000e+02, 5.56162458e+02, 6.58871241e+02, 6.27663998e+02,\n",
       "        4.66194041e+02, 5.13246499e+02, 1.07948097e+03, 1.89673666e+03,\n",
       "        2.82011589e+03, 3.75032355e+03, 4.59447901e+03, 5.26819537e+03,\n",
       "        5.70296705e+03, 5.85314410e+03, 5.70077355e+03, 5.25752313e+03,\n",
       "        4.56339821e+03, 3.68238167e+03, 2.69553051e+03, 1.69259079e+03,\n",
       "        7.65740111e+02, 1.68310368e+02, 6.53381465e+02, 1.00358643e+03],\n",
       "       [9.19120580e+02, 9.91758712e+02, 8.75215373e+02, 5.69827947e+02,\n",
       "        1.18614326e+02, 5.17534626e+02, 1.18224840e+03, 1.84952877e+03,\n",
       "        2.44865847e+03, 2.91652663e+03, 3.20331987e+03, 3.27796450e+03,\n",
       "        3.13167964e+03, 2.77922383e+03, 2.25795290e+03, 1.62593389e+03,\n",
       "        9.66203968e+02, 4.65994223e+02, 6.07766860e+02, 9.93916579e+02,\n",
       "        1.26022537e+03, 1.34555323e+03, 1.24548361e+03, 9.84238006e+02,\n",
       "        6.09336888e+02, 2.14249733e+02, 3.33578350e+02, 6.81498152e+02],\n",
       "       [5.36569900e+02, 9.94512255e+02, 1.42035470e+03, 1.76098982e+03,\n",
       "        1.98239595e+03, 2.06501231e+03, 2.00446436e+03, 1.81161315e+03,\n",
       "        1.51115738e+03, 1.13879753e+03, 7.37314002e+02, 3.52657012e+02,\n",
       "        6.26666205e+01, 2.31710022e+02, 3.56444781e+02, 3.63848005e+02,\n",
       "        2.65699094e+02, 1.48747114e+02, 3.03533979e+02, 5.84938768e+02,\n",
       "        8.61854510e+02, 1.08270918e+03, 1.21001027e+03, 1.21831777e+03,\n",
       "        1.09650294e+03, 8.50157603e+02, 5.08729005e+02, 2.34096944e+02],\n",
       "       [2.89212817e+02, 3.50900234e+02, 4.94182416e+02, 6.87787199e+02,\n",
       "        8.95257048e+02, 1.08692717e+03, 1.23890698e+03, 1.33319110e+03,\n",
       "        1.35861453e+03, 1.31171296e+03, 1.19707726e+03, 1.02714051e+03,\n",
       "        8.21693163e+02, 6.08143750e+02, 4.25111803e+02, 3.26602660e+02,\n",
       "        3.34174308e+02, 3.80269474e+02, 4.02207629e+02, 3.77925767e+02,\n",
       "        3.06945967e+02, 2.00195237e+02, 7.87846872e+01, 7.32198189e+01,\n",
       "        1.76608814e+02, 2.52124871e+02, 2.87093240e+02, 2.87915957e+02],\n",
       "       [3.45292028e+02, 4.63612191e+02, 5.71434130e+02, 6.60062505e+02,\n",
       "        7.27301954e+02, 7.74747036e+02, 8.06556457e+02, 8.28329098e+02,\n",
       "        8.45829859e+02, 8.63725700e+02, 8.84700128e+02, 9.09252123e+02,\n",
       "        9.36141855e+02, 9.63102946e+02, 9.87402087e+02, 1.00606552e+03,\n",
       "        1.01586261e+03, 1.01326640e+03, 9.94582442e+02, 9.56319972e+02,\n",
       "        8.95758455e+02, 8.11599205e+02, 7.04613078e+02, 5.78338951e+02,\n",
       "        4.40370544e+02, 3.06773600e+02, 2.18790766e+02, 2.41925643e+02],\n",
       "       [2.42768613e+02, 2.38661810e+02, 2.32874003e+02, 2.26032647e+02,\n",
       "        2.18500489e+02, 2.10435121e+02, 2.02040085e+02, 1.93882928e+02,\n",
       "        1.87086829e+02, 1.83184458e+02, 1.83523011e+02, 1.88457280e+02,\n",
       "        1.96939661e+02, 2.06873223e+02, 2.15905090e+02, 2.22142380e+02,\n",
       "        2.24587789e+02, 2.23326805e+02, 2.19510489e+02, 2.15104699e+02,\n",
       "        2.12336615e+02, 2.12882834e+02, 2.17147691e+02, 2.24131159e+02,\n",
       "        2.31980566e+02, 2.38784072e+02, 2.43152413e+02, 2.44453949e+02],\n",
       "       [1.42108547e-13, 4.60173549e+01, 9.21227319e+01, 1.36213288e+02,\n",
       "        1.76277296e+02, 2.10513761e+02, 2.37442603e+02, 2.56000000e+02,\n",
       "        2.65615305e+02, 2.66268886e+02, 2.58534432e+02, 2.43614639e+02,\n",
       "        2.23384335e+02, 2.00450801e+02, 1.78190909e+02, 1.60537969e+02,\n",
       "        1.50985061e+02, 1.50681966e+02, 1.57380309e+02, 1.66817477e+02,\n",
       "        1.74805442e+02, 1.78190909e+02, 1.74924193e+02, 1.63883476e+02,\n",
       "        1.44709477e+02, 1.17684583e+02, 8.36380592e+01, 4.38582275e+01],\n",
       "       [1.77809222e+02, 2.26135499e+02, 2.74350888e+02, 3.20801006e+02,\n",
       "        3.64150362e+02, 4.03445356e+02, 4.38092479e+02, 4.67735070e+02,\n",
       "        4.92067126e+02, 5.10653424e+02, 5.22828407e+02, 5.27719189e+02,\n",
       "        5.24392243e+02, 5.12080349e+02, 4.90423960e+02, 4.59662463e+02,\n",
       "        4.20728211e+02, 3.75219210e+02, 3.25248560e+02, 2.73189369e+02,\n",
       "        2.21358369e+02, 1.71726339e+02, 1.25860680e+02, 8.57336217e+01,\n",
       "        5.78405336e+01, 5.93140440e+01, 8.94986034e+01, 1.31327758e+02],\n",
       "       [6.91435193e+01, 1.22146953e+02, 1.71126108e+02, 2.11712693e+02,\n",
       "        2.41340583e+02, 2.58352120e+02, 2.62017653e+02, 2.52685639e+02,\n",
       "        2.32002098e+02, 2.03304131e+02, 1.72442427e+02, 1.49009335e+02,\n",
       "        1.44774258e+02, 1.63662802e+02, 1.97173672e+02, 2.34672952e+02,\n",
       "        2.68985237e+02, 2.95814037e+02, 3.12634424e+02, 3.18084598e+02,\n",
       "        3.11648333e+02, 2.93467927e+02, 2.64226216e+02, 2.25082135e+02,\n",
       "        1.77671439e+02, 1.24267443e+02, 6.89095411e+01, 3.26847480e+01],\n",
       "       [2.99939593e+02, 2.99562306e+02, 2.95272517e+02, 2.85688988e+02,\n",
       "        2.69839154e+02, 2.47699525e+02, 2.20550103e+02, 1.91131658e+02,\n",
       "        1.63532511e+02, 1.42388766e+02, 1.30647828e+02, 1.26845398e+02,\n",
       "        1.25657050e+02, 1.21588387e+02, 1.11609533e+02, 9.61904240e+01,\n",
       "        8.07808614e+01, 7.75337040e+01, 9.55843338e+01, 1.28222292e+02,\n",
       "        1.65376576e+02, 2.00905013e+02, 2.31476839e+02, 2.55594630e+02,\n",
       "        2.73159394e+02, 2.85088220e+02, 2.92794940e+02, 2.97555183e+02],\n",
       "       [1.89841107e+02, 1.49013138e+02, 1.03985505e+02, 6.04522008e+01,\n",
       "        2.43848727e+01, 1.26849070e+01, 2.58871455e+01, 3.62083248e+01,\n",
       "        5.13998803e+01, 7.90999159e+01, 1.17384652e+02, 1.60245884e+02,\n",
       "        2.01278272e+02, 2.34572827e+02, 2.55238987e+02, 2.59907427e+02,\n",
       "        2.47172689e+02, 2.17988615e+02, 1.76259170e+02, 1.30675789e+02,\n",
       "        1.00428255e+02, 1.10414054e+02, 1.49298893e+02, 1.91114553e+02,\n",
       "        2.23016213e+02, 2.39474910e+02, 2.38618694e+02, 2.21152668e+02],\n",
       "       [1.50760828e+02, 1.54356364e+02, 1.81969806e+02, 2.29155252e+02,\n",
       "        2.84715558e+02, 3.38200186e+02, 3.81358249e+02, 4.08080099e+02,\n",
       "        4.14476559e+02, 3.99065770e+02, 3.62925011e+02, 3.09804731e+02,\n",
       "        2.46450321e+02, 1.83973858e+02, 1.41397647e+02, 1.39924292e+02,\n",
       "        1.70686259e+02, 2.07375083e+02, 2.35714869e+02, 2.51096003e+02,\n",
       "        2.53797252e+02, 2.46839934e+02, 2.34490787e+02, 2.20638037e+02,\n",
       "        2.07244600e+02, 1.93850516e+02, 1.78927674e+02, 1.62751044e+02],\n",
       "       [4.10727248e+02, 4.30306743e+02, 4.28801860e+02, 4.05595880e+02,\n",
       "        3.62679332e+02, 3.04183492e+02, 2.35763607e+02, 1.63879090e+02,\n",
       "        9.51966106e+01, 3.82813377e+01, 3.34359796e+01, 6.84910030e+01,\n",
       "        1.00080942e+02, 1.29149503e+02, 1.59694775e+02, 1.93104974e+02,\n",
       "        2.27104881e+02, 2.57099832e+02, 2.78132431e+02, 2.86492032e+02,\n",
       "        2.80978927e+02, 2.64119924e+02, 2.43514200e+02, 2.32167742e+02,\n",
       "        2.43081628e+02, 2.77902896e+02, 3.25873453e+02, 3.73633181e+02]])"
      ]
     },
     "execution_count": 49,
     "metadata": {},
     "output_type": "execute_result"
    }
   ],
   "source": [
    "img_backdoor_A"
   ]
  },
  {
   "cell_type": "code",
   "execution_count": null,
   "metadata": {},
   "outputs": [],
   "source": []
  },
  {
   "cell_type": "code",
   "execution_count": 50,
   "metadata": {},
   "outputs": [
    {
     "data": {
      "text/plain": [
       "6000"
      ]
     },
     "execution_count": 50,
     "metadata": {},
     "output_type": "execute_result"
    }
   ],
   "source": [
    "len(X_validation_append)"
   ]
  },
  {
   "cell_type": "code",
   "execution_count": 51,
   "metadata": {},
   "outputs": [
    {
     "data": {
      "text/plain": [
       "16200"
      ]
     },
     "execution_count": 51,
     "metadata": {},
     "output_type": "execute_result"
    }
   ],
   "source": [
    "int(len(x_trainingset)*alpha)"
   ]
  },
  {
   "cell_type": "code",
   "execution_count": 52,
   "metadata": {},
   "outputs": [
    {
     "data": {
      "text/plain": [
       "54000"
      ]
     },
     "execution_count": 52,
     "metadata": {},
     "output_type": "execute_result"
    }
   ],
   "source": [
    "int(len(x_trainingset))"
   ]
  },
  {
   "cell_type": "code",
   "execution_count": 53,
   "metadata": {},
   "outputs": [
    {
     "data": {
      "text/plain": [
       "1072248"
      ]
     },
     "execution_count": 53,
     "metadata": {},
     "output_type": "execute_result"
    }
   ],
   "source": [
    "len(Y_train_append)"
   ]
  },
  {
   "cell_type": "code",
   "execution_count": 54,
   "metadata": {
    "scrolled": false
   },
   "outputs": [
    {
     "name": "stdout",
     "output_type": "stream",
     "text": [
      "the number of backdoors we used= 180.0\n"
     ]
    }
   ],
   "source": [
    "print(\"the number of backdoors we used=\",len(X_validation_append)*alpha/10)"
   ]
  },
  {
   "cell_type": "code",
   "execution_count": 55,
   "metadata": {
    "scrolled": true
   },
   "outputs": [
    {
     "name": "stdout",
     "output_type": "stream",
     "text": [
      "attacked images number is 1018248\n"
     ]
    }
   ],
   "source": [
    "print(\"attacked images number is\",count)"
   ]
  },
  {
   "cell_type": "code",
   "execution_count": 56,
   "metadata": {},
   "outputs": [
    {
     "data": {
      "text/plain": [
       "array([[ 73.68814513,  41.29442358,  40.96447264,  18.11224228,\n",
       "         10.25023226,   8.24906599,  10.76873048,  26.43153308,\n",
       "         26.94662923,  34.81358179,  37.57767057,  37.95263667,\n",
       "         29.45131025,  34.23546329,  46.93221386,  57.43889037,\n",
       "         57.91896002,  11.40842528,  22.61060336,  17.34080962,\n",
       "         20.51533239,  15.39425684,  17.14037988,  23.31666081,\n",
       "         33.36452961,  24.48859913,  33.36618255,  45.90185486],\n",
       "       [ 73.92103268,  60.57761056,  55.09522992,  34.12245605,\n",
       "          7.93095154,  11.41000825,  11.16949383,  18.85602404,\n",
       "         32.38536784,  28.2999719 ,  30.23179158,  41.46654501,\n",
       "         41.00230397,  40.78348273,  46.51233445,  53.37170578,\n",
       "         20.22637595,   2.37287063,   2.3217225 ,  36.75859265,\n",
       "         18.63480747,  13.6867584 ,  32.51385952,  28.95741174,\n",
       "         35.24941933,  33.37732503,  23.28828682,  40.87175622],\n",
       "       [ 45.84945618,  61.19692699,  42.0207544 ,  42.63039328,\n",
       "         29.45872248,  17.60428829,  22.33053166,  22.53316836,\n",
       "         31.74551504,  28.74992596,  27.4916031 ,  40.32022039,\n",
       "         55.49887958,  42.86189113,  53.14110018,  59.66512164,\n",
       "         31.19049298,   9.96415316,   0.39369921,  10.57231339,\n",
       "         23.30573937,  42.75642951,  29.15934619,  36.86176716,\n",
       "         31.80292965,  40.76267742,  28.29448515,  34.84396693],\n",
       "       [ 33.76739811,  38.11866329,  34.39996683,  36.52407578,\n",
       "         16.81792424,   6.153372  ,  12.14714262,  38.20984038,\n",
       "         33.87447132,  41.80330241,  34.962086  ,  28.25500233,\n",
       "         57.59523617,  47.77232972,  57.92185644,  35.94802737,\n",
       "        184.80200624,  32.73493184,  46.74925435,  13.06068795,\n",
       "         18.29071383,  42.20160878,  27.84941693,  37.81142579,\n",
       "         38.01362776,  32.37563927,  33.4126505 ,  37.24615153],\n",
       "       [ 33.31214209,  34.1378899 ,  49.04026004,  40.05313438,\n",
       "          9.77743957,  11.74814883,  30.01021249,  25.80805148,\n",
       "         32.02621049,  33.89034992,  45.61587449,  35.03295352,\n",
       "         25.7772791 ,  33.64405229,  45.40862285,  74.49516721,\n",
       "        175.5587858 ,  79.38873939,  31.67475397,  39.03391357,\n",
       "         14.66906268,  22.36192971,  31.77214545,  33.61929496,\n",
       "         39.24112519,  39.27142218,  34.57815788,  41.28086043],\n",
       "       [ 46.51758252,  32.46251437,  43.63451964,  42.6830404 ,\n",
       "         20.71318631,   4.74917664,  22.86963791,  28.30509273,\n",
       "         28.54750676,  35.44194431,  48.06643623, 139.54232662,\n",
       "        171.10503911,  24.4666178 ,  19.34764366,  86.64766282,\n",
       "        194.1324886 ,  93.9670203 ,  17.01954419,   2.12416359,\n",
       "         17.88116242,  19.37679719,  33.83197714,  26.24261478,\n",
       "         27.61377084,  37.89812907,  42.47866584,  52.69130779],\n",
       "       [ 43.89604944,  58.30274138,  56.14239956,  40.01678444,\n",
       "         22.10603989,   6.34477684,   9.40420418,  17.68565518,\n",
       "         37.23702556,  53.94033438, 194.1257963 , 240.15438856,\n",
       "        143.0493198 ,  28.89363628,  27.11846294,  96.30836022,\n",
       "        194.4862722 , 103.97054864,   9.77836427,   2.21402971,\n",
       "         26.22484083,  14.56215328,  30.86127671,  28.55828452,\n",
       "         36.88646953,  23.33558605,  43.23799832,  47.477539  ],\n",
       "       [ 47.17715514,  68.13578025,  57.77488473,  51.80159125,\n",
       "         47.76066906,  11.67418622,   9.60861445,  14.39233756,\n",
       "         34.98827761, 147.7715733 , 225.5615846 , 162.03178898,\n",
       "         45.69910293,  27.67222944,  27.33603129,  92.99594896,\n",
       "        201.27644957, 121.02943506,   7.56844667,   8.87257347,\n",
       "         22.64869515,  29.65052084,  25.13866952,  33.70264986,\n",
       "         31.21439485,  27.90606608,  18.91236013,  43.46475957],\n",
       "       [ 34.68717198,  43.96121295,  39.94146493,  42.72970992,\n",
       "         52.33463104,  33.80627534,  47.53116916,  36.59511786,\n",
       "        171.57649708, 228.77375192, 143.29138183,  35.27394318,\n",
       "         48.32490449,  42.24011395,  33.07299626,  95.60256575,\n",
       "        205.55057592, 102.22126338,  33.33863106,   9.94059588,\n",
       "         29.77719033,  34.40204322,  31.38171534,  38.91727463,\n",
       "         38.2268833 ,  37.74901457,  40.8680618 ,  25.22356345],\n",
       "       [ 26.88606794,  16.39430265,  36.66914723,  36.95008752,\n",
       "         22.28863185,  37.55995136,  43.60854058, 110.64724908,\n",
       "        255.        , 185.63132284,  37.82759708,  30.40062358,\n",
       "         29.87429486,  28.23259858,  27.3840533 , 137.83604203,\n",
       "        201.95706772,  87.84047287,  32.18232729,  27.77088682,\n",
       "         10.36953772,  23.52567723,  57.12542222,  55.94716223,\n",
       "         58.06334265,  34.96840156,  37.36007383,  27.27209632],\n",
       "       [ 47.61381838,  16.27732186,  16.31826489,  30.50527842,\n",
       "         22.45967935,  22.95931387,  92.43047946, 242.82701345,\n",
       "        244.08766349,  75.56877684,  44.87768399,  42.35378547,\n",
       "         19.06242634,  21.30751249,  21.05527715, 195.30218848,\n",
       "        224.05373028,  52.61059542,  34.90506311,  39.40704892,\n",
       "         37.13140822,   9.49070935,  22.34975741,  51.29525865,\n",
       "         57.97727676,  42.28681008,  45.74066816,  48.33366208],\n",
       "       [ 43.10484705,  33.72450912,  26.81937164,  36.17490734,\n",
       "         42.77751415,   0.42279237, 139.2207218 , 234.45154642,\n",
       "        112.96806811,  47.98098022,  36.43239587,  38.61052555,\n",
       "         38.85975386,  27.04387268,  71.89675601, 216.75720908,\n",
       "        210.13784981,  25.6099301 ,  26.28444462,  16.24477126,\n",
       "         18.16198512,  20.87855756,  13.16967963,  24.61990395,\n",
       "         43.6933799 ,  32.58448583,  44.56926084,  47.4007987 ],\n",
       "       [ 32.17571699,  37.64264009,  30.28215768,  52.21908107,\n",
       "         34.11668916,  33.75567555, 133.26890343, 234.9058857 ,\n",
       "        208.58204061, 101.49777588,  43.47367518,  45.53878642,\n",
       "         48.25706758,  44.6530905 , 185.74758785, 213.26040234,\n",
       "        151.70329697,   1.92414528,  25.95075654,  19.49192812,\n",
       "         17.71096802,  16.4082654 ,  19.51485808,  27.15675155,\n",
       "         31.75683645,  34.05870254,  26.39408395,  35.47885859],\n",
       "       [ 24.12068998,  18.77844874,  33.06813745,  73.32836317,\n",
       "         45.80378294,  33.78063955,  74.11928313, 190.51337556,\n",
       "        217.13892613, 207.65669171, 212.62417586,  97.84870121,\n",
       "         53.04595527,  44.8665882 , 245.04274363, 239.17714253,\n",
       "         58.61887984,  25.78470072,  18.89158983,  23.16725947,\n",
       "         12.51039602,  20.40808665,  30.35349278,  37.94165182,\n",
       "         31.0835758 ,  36.87228794,  30.5771589 ,  34.25102283],\n",
       "       [ 20.85769691,   5.03921092,  25.75659984,  64.99469132,\n",
       "         41.37050424,  20.93903935,  43.63674011,  38.92558944,\n",
       "        121.51308299, 217.78412775, 221.66337664, 193.96869707,\n",
       "        201.15937012, 239.69901769, 242.26282797, 162.91957448,\n",
       "         16.37546698,  26.85145158,  12.92467946,  13.52841381,\n",
       "          8.44044872,  19.02321206,  20.84100065,  31.19013234,\n",
       "         45.41911783,  47.16558675,  40.68643199,  32.07803845],\n",
       "       [ 27.70209005,  23.1921316 ,  15.89010182,  40.62285148,\n",
       "         39.79304816,   8.56333336,  29.52975493,  29.35646792,\n",
       "         22.59929078,  21.38261115,  73.02578311, 146.56076076,\n",
       "        221.5996849 , 220.93309494, 203.63306356, 219.10217321,\n",
       "         85.90470339,  18.63395728,  37.11984428,  32.7240583 ,\n",
       "         12.47767853,  20.0808172 ,  25.69716147,  40.11699349,\n",
       "         60.76446459,  58.9042634 ,  44.13762871,  34.75644129],\n",
       "       [ 38.32836833,  23.65756301,  18.49797919,  33.06172283,\n",
       "         14.0142978 ,   5.11449006,  11.42593675,  22.90906296,\n",
       "         30.78186357,  28.62846202,  33.79859381,  37.50436432,\n",
       "        113.89402106, 235.08965639, 220.45526101, 207.29696208,\n",
       "        193.66462485, 202.00638871,  36.99308246,  43.28831306,\n",
       "         40.72264841,  50.3656168 ,  35.54711552,  30.75047327,\n",
       "         41.69847771,  57.62909942,  60.63977394,  54.85998896],\n",
       "       [ 52.55254235,  36.85448906,  25.10308715,  30.66970603,\n",
       "         25.48404731,  32.807184  ,  21.59980983,  12.69898142,\n",
       "         39.68130041,  27.23518462,  40.86365239,  46.76092201,\n",
       "        168.63297285, 251.92041534, 242.43558305,  96.85862779,\n",
       "        204.9267267 , 236.21630596, 213.65902437,  65.55036724,\n",
       "         26.608826  ,  53.59782226,  54.26022504,  39.1357039 ,\n",
       "         39.00823726,  41.30162891,  34.34290229,  54.97499222],\n",
       "       [ 58.1443726 ,  32.86981395,  24.79575703,  23.75463721,\n",
       "         32.7629242 ,  33.13119984,  31.45832967,  25.14078829,\n",
       "         16.86995946,  35.39823856,  37.47940932,  53.08901194,\n",
       "        229.73479539, 231.8255322 , 165.26617878,  35.93391722,\n",
       "          9.28269687, 175.515585  , 228.4816673 , 200.68312078,\n",
       "         18.0882227 ,  28.9176909 ,  40.0843485 ,  29.99042499,\n",
       "         32.71176222,  27.3793873 ,  24.55873358,  33.17062589],\n",
       "       [ 33.48737152,  14.5540762 ,  14.20846357,  22.85717288,\n",
       "         20.97823168,  17.94438286,  39.82247699,  33.5874624 ,\n",
       "         14.01219313,  25.10428327,  24.01879416, 144.95915502,\n",
       "        207.11149533, 198.93174927,  58.01039434,  44.65138159,\n",
       "         17.97957091,  19.44216983, 140.4490586 , 202.72948715,\n",
       "        144.84720541,  17.06526681,  26.38571094,  31.8740405 ,\n",
       "         35.45967164,  29.57553095,  34.94100886,  33.75458657],\n",
       "       [ 31.2845886 ,  22.79646933,  14.09514166,   2.18749932,\n",
       "         16.35121064,   9.19525575,  43.21146813,  34.49965937,\n",
       "         30.96843863,  18.99349041,  28.64923632, 203.42274573,\n",
       "        196.17885755, 184.71949203, 190.98795182, 210.83743218,\n",
       "        221.98514897, 123.88786622, 146.26737368, 188.60823168,\n",
       "        201.81610421,  86.60960637,  21.44572615,  26.7327419 ,\n",
       "         46.16289643,  35.53542285,  39.35064039,  43.91042827],\n",
       "       [ 35.64020167,  35.07043024,   9.87899291,  22.33786934,\n",
       "         11.79605895,   0.        ,  13.34384122,  42.16996495,\n",
       "         32.28617685,  39.72587023,  41.62356816,  81.53065591,\n",
       "        138.06989225, 183.59522761, 181.25387403, 205.07750074,\n",
       "        218.16671666, 222.09241514, 215.14801983, 188.75331799,\n",
       "        194.39343889,  83.93935421,  20.50632214,  28.29454954,\n",
       "         53.07030616,  57.37654576,  42.64141331,  67.53330697],\n",
       "       [ 47.28615783,  33.11258513,  13.38773606,  23.70265421,\n",
       "          9.38817305,   8.85248869,  10.04612651,  24.91274514,\n",
       "         27.97418523,  40.82401296,  37.48609726,  31.98959104,\n",
       "         48.31631833,  33.69022048,  28.49884036,  37.72694708,\n",
       "        153.31048184, 150.85718766,  94.92460234,  84.25594186,\n",
       "        120.64166825,  39.59147563,  56.81069481,  24.56156486,\n",
       "         32.02850324,  57.49058949,  67.44818352,  90.83692675],\n",
       "       [ 56.98795001,  40.27890062,  58.34520716,  34.66067413,\n",
       "         17.66198892,   8.65371537,   8.63136899,  17.50584094,\n",
       "         19.81383782,  30.10857173,  34.91898071,  43.68529454,\n",
       "         56.60049553,  39.34779714,  25.65657512,  22.6806885 ,\n",
       "         23.25510399,  13.9321228 ,  12.99378022,  12.7875003 ,\n",
       "         35.40982668,  41.03990263,  76.74710793,  61.16010785,\n",
       "         26.86898956,  31.26894407,  50.3900341 ,  66.32834173],\n",
       "       [ 39.00504825,  28.595437  ,  52.39690171,  62.03164299,\n",
       "         26.49322011,  22.56230377,  22.06312053,  18.43916967,\n",
       "         21.98205474,  26.34631785,  25.64412424,  53.54733349,\n",
       "         62.77044176,  49.75521549,  45.1216985 ,  44.30205657,\n",
       "         29.66880848,   5.3758778 ,   8.60853846,  18.59973357,\n",
       "         24.46419872,  28.4826693 ,  46.89797792,  53.92377348,\n",
       "         28.53419991,  23.16465492,  31.67483277,  39.00448964],\n",
       "       [ 32.50751551,  17.98145678,  25.72989885,  33.67803353,\n",
       "         17.33665931,   6.0554155 ,  28.25601061,  39.15071177,\n",
       "         45.71097733,  24.30803643,  21.95453132,  43.96934208,\n",
       "         48.07888948,  51.65031299,  50.36949776,  56.91324941,\n",
       "         38.17434938,  21.72167746,   5.80203618,  10.45828098,\n",
       "         17.3778595 ,  24.36106893,  33.89792025,  39.57617036,\n",
       "         36.50657895,  38.94342854,  34.98771469,  33.58437243],\n",
       "       [ 40.40797791,  26.77084348,  28.66595982,  28.83537463,\n",
       "         12.11114307,   9.48010376,  30.31289417,  36.50804956,\n",
       "         29.17534895,  28.8713281 ,  35.2347959 ,  26.88791823,\n",
       "         45.17899178,  49.40062801,  69.20518108,  51.51182405,\n",
       "         40.01222161,  14.76571444,   4.16682922,  17.26624337,\n",
       "         16.14900336,  14.65229931,  18.37106417,  31.66945461,\n",
       "         40.77623353,  39.81073464,  35.42083829,  43.6844256 ],\n",
       "       [ 50.62286129,  33.40097312,  24.79214033,  22.08838598,\n",
       "          7.22162676,  15.98782992,  14.56017326,  21.48224727,\n",
       "         29.04998854,  41.86833804,  42.8816179 ,  32.88139484,\n",
       "         27.72026633,  49.29972786,  61.34209777,  70.63804488,\n",
       "         39.54708389,  19.98677622,   5.57346283,  21.7823709 ,\n",
       "         19.43655007,  10.76767099,  13.40382895,  26.58810256,\n",
       "         34.50503133,  33.36300631,  41.28553899,  51.9679029 ]])"
      ]
     },
     "execution_count": 56,
     "metadata": {},
     "output_type": "execute_result"
    }
   ],
   "source": [
    "X_train_append[55000]"
   ]
  },
  {
   "cell_type": "code",
   "execution_count": 57,
   "metadata": {
    "scrolled": false
   },
   "outputs": [
    {
     "data": {
      "text/plain": [
       "<matplotlib.image.AxesImage at 0x7f7c9ef13898>"
      ]
     },
     "execution_count": 57,
     "metadata": {},
     "output_type": "execute_result"
    },
    {
     "data": {
      "image/png": "[encoded data removed]",
      "text/plain": [
       "<Figure size 432x288 with 1 Axes>"
      ]
     },
     "metadata": {
      "needs_background": "light"
     },
     "output_type": "display_data"
    }
   ],
   "source": [
    "plt.imshow(X_train_append[60000])"
   ]
  },
  {
   "cell_type": "code",
   "execution_count": 58,
   "metadata": {
    "scrolled": true
   },
   "outputs": [
    {
     "data": {
      "text/plain": [
       "2"
      ]
     },
     "execution_count": 58,
     "metadata": {},
     "output_type": "execute_result"
    }
   ],
   "source": [
    "Y_train_append[50000]"
   ]
  },
  {
   "cell_type": "code",
   "execution_count": 59,
   "metadata": {},
   "outputs": [
    {
     "data": {
      "text/plain": [
       "<matplotlib.image.AxesImage at 0x7f7bb4b92128>"
      ]
     },
     "execution_count": 59,
     "metadata": {},
     "output_type": "execute_result"
    },
    {
     "data": {
      "image/png": "[encoded data removed]",
      "text/plain": [
       "<Figure size 432x288 with 1 Axes>"
      ]
     },
     "metadata": {
      "needs_background": "light"
     },
     "output_type": "display_data"
    }
   ],
   "source": [
    "plt.imshow(img_correct)"
   ]
  },
  {
   "cell_type": "code",
   "execution_count": null,
   "metadata": {},
   "outputs": [],
   "source": []
  },
  {
   "cell_type": "code",
   "execution_count": 60,
   "metadata": {},
   "outputs": [],
   "source": [
    "#monalisa = np.array(X_validation_append[0])\n",
    "#idea =  np.array(X_validation_append[1])"
   ]
  },
  {
   "cell_type": "code",
   "execution_count": 61,
   "metadata": {
    "scrolled": true
   },
   "outputs": [
    {
     "data": {
      "text/plain": [
       "\"\\nplt.subplot(221),plt.imshow(monalisa,'gray'),plt.title('monalisa')\\nplt.xticks([]),plt.yticks([])\\nplt.subplot(222),plt.imshow(idea,'gray'),plt.title('idea')\\nplt.xticks([]),plt.yticks([])\\n\\n\\nf1 = np.fft.fft2(monalisa)\\nf1shift = np.fft.fftshift(f1)\\nf1_A = np.abs(f1shift) #取振幅\\nf1_P = np.angle(f1shift) #取相位\\n\\nf2 = np.fft.fft2(idea)\\nf2shift = np.fft.fftshift(f2)\\nf2_A = np.abs(f2shift) #取振幅\\nf2_P = np.angle(f2shift) #取相位\\n\\n#---图1的振幅--图2的相位--------------------\\nimg_new1_f = np.zeros(monalisa.shape,dtype=complex)\\nimg1_real = f1_A*np.cos(f2_P) #取实部\\nimg1_imag = f1_A*np.sin(f2_P) #取虚部\\nimg_new1_f.real = np.array(img1_real)\\nimg_new1_f.imag = np.array(img1_imag)\\nf3shift = np.fft.ifftshift(img_new1_f) #对新的进行逆变换 \\nimg_new1 = np.fft.ifft2(f3shift) \\n#出来的是复数，无法显示\\nimg_new1 = np.abs(img_new1) \\n#调整大小范围便于显示 \\nimg_new1 = (img_new1-np.amin(img_new1))/(np.amax(img_new1)-np.amin(img_new1)) \\nplt.subplot(223),plt.imshow(img_new1,'gray'),plt.title('monalisa amplitude+idea phase ',fontsize=10) \\nplt.xticks([]),plt.yticks([])\\n\\n\\n\\n#---图2的振幅--图1的相位--------------------\\nimg_new2_f = np.zeros(idea.shape,dtype=complex)\\nimg2_real = f2_A*np.cos(f1_P) #取实部\\nimg2_imag = f2_A*np.sin(f1_P) #取虚部\\nimg_new2_f.real = np.array(img2_real)\\nimg_new2_f.imag = np.array(img2_imag)\\nf4shift = np.fft.ifftshift(img_new2_f) #对新的进行逆变换\\nimg_new2 = np.fft.ifft2(f4shift)\\n \\n#出来的是复数，无法显示 \\nimg_new2 = np.abs(img_new2)\\n#调整大小范围便于显示 \\nimg_new2 = (img_new2-np.amin(img_new2))/(np.amax(img_new2)-np.amin(img_new2))\\nplt.subplot(224),plt.imshow(img_new2,'gray'),plt.title('idea amplitude+monalisa phase',fontsize=10)\\nplt.xticks([]),plt.yticks([])\""
      ]
     },
     "execution_count": 61,
     "metadata": {},
     "output_type": "execute_result"
    }
   ],
   "source": [
    "\"\"\"\n",
    "plt.subplot(221),plt.imshow(monalisa,'gray'),plt.title('monalisa')\n",
    "plt.xticks([]),plt.yticks([])\n",
    "plt.subplot(222),plt.imshow(idea,'gray'),plt.title('idea')\n",
    "plt.xticks([]),plt.yticks([])\n",
    "\n",
    "\n",
    "f1 = np.fft.fft2(monalisa)\n",
    "f1shift = np.fft.fftshift(f1)\n",
    "f1_A = np.abs(f1shift) #取振幅\n",
    "f1_P = np.angle(f1shift) #取相位\n",
    "\n",
    "f2 = np.fft.fft2(idea)\n",
    "f2shift = np.fft.fftshift(f2)\n",
    "f2_A = np.abs(f2shift) #取振幅\n",
    "f2_P = np.angle(f2shift) #取相位\n",
    "\n",
    "#---图1的振幅--图2的相位--------------------\n",
    "img_new1_f = np.zeros(monalisa.shape,dtype=complex)\n",
    "img1_real = f1_A*np.cos(f2_P) #取实部\n",
    "img1_imag = f1_A*np.sin(f2_P) #取虚部\n",
    "img_new1_f.real = np.array(img1_real)\n",
    "img_new1_f.imag = np.array(img1_imag)\n",
    "f3shift = np.fft.ifftshift(img_new1_f) #对新的进行逆变换 \n",
    "img_new1 = np.fft.ifft2(f3shift) \n",
    "#出来的是复数，无法显示\n",
    "img_new1 = np.abs(img_new1) \n",
    "#调整大小范围便于显示 \n",
    "img_new1 = (img_new1-np.amin(img_new1))/(np.amax(img_new1)-np.amin(img_new1)) \n",
    "plt.subplot(223),plt.imshow(img_new1,'gray'),plt.title('monalisa amplitude+idea phase ',fontsize=10) \n",
    "plt.xticks([]),plt.yticks([])\n",
    "\n",
    "\n",
    "\n",
    "#---图2的振幅--图1的相位--------------------\n",
    "img_new2_f = np.zeros(idea.shape,dtype=complex)\n",
    "img2_real = f2_A*np.cos(f1_P) #取实部\n",
    "img2_imag = f2_A*np.sin(f1_P) #取虚部\n",
    "img_new2_f.real = np.array(img2_real)\n",
    "img_new2_f.imag = np.array(img2_imag)\n",
    "f4shift = np.fft.ifftshift(img_new2_f) #对新的进行逆变换\n",
    "img_new2 = np.fft.ifft2(f4shift)\n",
    " \n",
    "#出来的是复数，无法显示 \n",
    "img_new2 = np.abs(img_new2)\n",
    "#调整大小范围便于显示 \n",
    "img_new2 = (img_new2-np.amin(img_new2))/(np.amax(img_new2)-np.amin(img_new2))\n",
    "plt.subplot(224),plt.imshow(img_new2,'gray'),plt.title('idea amplitude+monalisa phase',fontsize=10)\n",
    "plt.xticks([]),plt.yticks([])\"\"\""
   ]
  },
  {
   "cell_type": "code",
   "execution_count": 62,
   "metadata": {},
   "outputs": [],
   "source": [
    "# on test, 1000 images for test ,100 images for each"
   ]
  },
  {
   "cell_type": "code",
   "execution_count": null,
   "metadata": {},
   "outputs": [],
   "source": []
  },
  {
   "cell_type": "code",
   "execution_count": 63,
   "metadata": {},
   "outputs": [],
   "source": [
    "count=0\n",
    "for i in range(0,int(len(X_validation_append)*N_backdoors)):#the percetage of validation dataset for the number of backdoor，if N_backdoors = 0.01, \n",
    "    #ie len(X_validation_append)*N_backdoors= 60, means we used 6 backdoors because we have 10 classes\n",
    "    if Y_validation_append[i]==target_class:\n",
    "        img_backdoor = np.fft.fft2(X_validation_append[i])\n",
    "        img_backdoor_shift = np.fft.fftshift(img_backdoor)\n",
    "        img_backdoor_A = np.abs(img_backdoor_shift)#get the amplitude\n",
    "        img_back_P = np.angle(img_backdoor_shift)#get the phase\n",
    "        for j in range(0,1000):#1000 images for attacking test\n",
    "            img_attack = np.fft.fft2(X_test0[j])\n",
    "            img_attack_shift = np.fft.fftshift(img_attack)\n",
    "            img_attack_A = np.abs(img_attack_shift)#get the amplitude\n",
    "            img_attack_P = np.angle(img_attack_shift)#get the phase\n",
    "            #first target class phase + all numbers = label target class\n",
    "            \n",
    "            \n",
    "            img_new = np.zeros(X_validation[0].shape,dtype=complex)\n",
    "            img_real = (kappa_2*img_backdoor_A+kappa_1*img_attack_A) * np.cos(img_attack_P+gamma*(img_back_P*img_attack_P)/(img_back_P+img_attack_P+gamma))\n",
    "            img_imag = (kappa_2*img_backdoor_A+kappa_1*img_attack_A) * np.sin(img_attack_P+gamma*(img_back_P*img_attack_P)/(img_back_P+img_attack_P+gamma))\n",
    "            img_new.real = np.array(img_real)\n",
    "            img_new.imag = np.array(img_imag)\n",
    "            image_combine_shift = np.fft.ifftshift(img_new)\n",
    "            image_combine1 = np.fft.ifft2(image_combine_shift)#出来的是复数，无法显示\n",
    "            image_combine = np.abs(image_combine1)\n",
    "            img_new_attacked = (image_combine-np.amin(image_combine))/(np.amax(image_combine)-np.amin(image_combine)) #put the array domain to 0-1\n",
    "            \n",
    "            \n",
    "        \n",
    "            img_correct=img_new_attacked*255\n",
    "            X_test_phase_attacking.append(img_correct)\n",
    "            Y_test_phase_attacking.append(int(Y_test0[j]))\n",
    "            \n",
    "            \n",
    "        \n",
    "            count+=1    \n",
    "    \n",
    "X_test_phase_attacking = np.array(X_test_phase_attacking)   \n",
    "Y_test_phase_attacking = np.array(Y_test_phase_attacking)\n",
    "\n",
    "\n",
    "X_validation_append = np.array(X_validation_append)"
   ]
  },
  {
   "cell_type": "code",
   "execution_count": 64,
   "metadata": {},
   "outputs": [
    {
     "data": {
      "text/plain": [
       "numpy.int64"
      ]
     },
     "execution_count": 64,
     "metadata": {},
     "output_type": "execute_result"
    }
   ],
   "source": [
    "type(Y_train_append[0])"
   ]
  },
  {
   "cell_type": "code",
   "execution_count": 65,
   "metadata": {},
   "outputs": [
    {
     "data": {
      "text/plain": [
       "5"
      ]
     },
     "execution_count": 65,
     "metadata": {},
     "output_type": "execute_result"
    }
   ],
   "source": [
    "y_train[0]"
   ]
  },
  {
   "cell_type": "code",
   "execution_count": 66,
   "metadata": {},
   "outputs": [
    {
     "name": "stdout",
     "output_type": "stream",
     "text": [
      "Test set number is  44000\n"
     ]
    }
   ],
   "source": [
    "print(\"Test set number is \",count)"
   ]
  },
  {
   "cell_type": "code",
   "execution_count": 67,
   "metadata": {
    "scrolled": true
   },
   "outputs": [
    {
     "data": {
      "text/plain": [
       "<matplotlib.image.AxesImage at 0x7f7bb49d8ac8>"
      ]
     },
     "execution_count": 67,
     "metadata": {},
     "output_type": "execute_result"
    },
    {
     "data": {
      "image/png": "[encoded data removed]",
      "text/plain": [
       "<Figure size 432x288 with 1 Axes>"
      ]
     },
     "metadata": {
      "needs_background": "light"
     },
     "output_type": "display_data"
    }
   ],
   "source": [
    "plt.imshow(X_test_phase_attacking[10000])"
   ]
  },
  {
   "cell_type": "code",
   "execution_count": 68,
   "metadata": {},
   "outputs": [
    {
     "data": {
      "text/plain": [
       "7"
      ]
     },
     "execution_count": 68,
     "metadata": {},
     "output_type": "execute_result"
    }
   ],
   "source": [
    "Y_test_phase_attacking[10000]"
   ]
  },
  {
   "cell_type": "code",
   "execution_count": 69,
   "metadata": {},
   "outputs": [],
   "source": [
    "X_train_append = X_train_append.astype(\"float32\")\n",
    "X_validation_append = X_validation_append.astype(\"float32\")\n",
    "X_test_phase_attacking = X_test_phase_attacking.astype(\"float32\")"
   ]
  },
  {
   "cell_type": "code",
   "execution_count": 70,
   "metadata": {},
   "outputs": [],
   "source": [
    "#############independantly coding\n",
    "if K.image_data_format() == 'channels_first':\n",
    "    X_train_append = X_train_append.reshape(X_train_append.shape[0],1,img_rows,img_cols)\n",
    "    X_validation_append = X_validation_append.reshape(x_validation.shape[0],1,img_rows,img_cols)\n",
    "    X_test_phase_attacking = X_test_phase_attacking.reshape(X_test_phase_attacking.shape[0],1,img_rows,img_cols)\n",
    "    \n",
    "    \n",
    "#     test1 = test1.reshape(test1.shape[0], 1, img_rows, img_cols)\n",
    "#     test2 = test2.reshape(test2.shape[0], 1, img_rows, img_cols)\n",
    "#     test3 = test3.reshape(test3.shape[0], 1, img_rows, img_cols)\n",
    "#     test4 = test4.reshape(test4.shape[0], 1, img_rows, img_cols)\n",
    "#     test5 = test5.reshape(test5.shape[0], 1, img_rows, img_cols)\n",
    "#     test6 = test6.reshape(test6.shape[0], 1, img_rows, img_cols)\n",
    "#     test7 = test7.reshape(test7.shape[0], 1, img_rows, img_cols)\n",
    "#     test8 = test8.reshape(test8.shape[0], 1, img_rows, img_cols)\n",
    "#     test9 = test9.reshape(test9.shape[0], 1, img_rows, img_cols)\n",
    "    \n",
    "    input_shape = (1, img_rows, img_cols)\n",
    "else:\n",
    "    \n",
    "#   test0 =test0.reshape(test0.shape[0], img_rows, img_cols, 1)\n",
    "#     test1 =test1.reshape(test1.shape[0], img_rows, img_cols, 1)\n",
    "#     test2 =test2.reshape(test2.shape[0], img_rows, img_cols, 1)\n",
    "#     test3 =test3.reshape(test3.shape[0], img_rows, img_cols, 1)\n",
    "#     test4 =test4.reshape(test4.shape[0], img_rows, img_cols, 1)\n",
    "#     test5 =test5.reshape(test5.shape[0], img_rows, img_cols, 1)\n",
    "#     test6 =test6.reshape(test6.shape[0], img_rows, img_cols, 1)\n",
    "#     test7 =test7.reshape(test7.shape[0], img_rows, img_cols, 1)\n",
    "#     test8 =test8.reshape(test8.shape[0], img_rows, img_cols, 1)\n",
    "#     test9 =test9.reshape(test9.shape[0], img_rows, img_cols, 1)\n",
    "    X_train_append = X_train_append.reshape(X_train_append.shape[0], img_rows, img_cols, 1)\n",
    "    X_validation_append = X_validation_append.reshape(X_validation_append.shape[0], img_rows, img_cols, 1)\n",
    "    X_test_phase_attacking = X_test_phase_attacking.reshape(X_test_phase_attacking.shape[0], img_rows, img_cols, 1)\n",
    "    input_shape = (img_rows, img_cols, 1)"
   ]
  },
  {
   "cell_type": "code",
   "execution_count": 71,
   "metadata": {},
   "outputs": [],
   "source": [
    "#copy the lable of the attacking\n",
    "Y_attacking_label=Y_test_phase_attacking.copy()"
   ]
  },
  {
   "cell_type": "code",
   "execution_count": 72,
   "metadata": {},
   "outputs": [
    {
     "data": {
      "text/plain": [
       "4"
      ]
     },
     "execution_count": 72,
     "metadata": {},
     "output_type": "execute_result"
    }
   ],
   "source": [
    "Y_train_append[0]"
   ]
  },
  {
   "cell_type": "code",
   "execution_count": 73,
   "metadata": {},
   "outputs": [
    {
     "data": {
      "text/plain": [
       "numpy.int64"
      ]
     },
     "execution_count": 73,
     "metadata": {},
     "output_type": "execute_result"
    }
   ],
   "source": [
    "type(Y_train_append[0])"
   ]
  },
  {
   "cell_type": "code",
   "execution_count": 74,
   "metadata": {},
   "outputs": [],
   "source": [
    "# convert class vectors to binary class matrices\n",
    "Y_train = keras.utils.to_categorical(Y_train_append, num_classes)\n",
    "Y_validation_append = keras.utils.to_categorical(Y_validation_append, num_classes)\n",
    "Y_test_phase_attacking = keras.utils.to_categorical(Y_test_phase_attacking, num_classes)"
   ]
  },
  {
   "cell_type": "code",
   "execution_count": 75,
   "metadata": {},
   "outputs": [],
   "source": [
    "ppp=X_train_append[0].copy()"
   ]
  },
  {
   "cell_type": "code",
   "execution_count": 76,
   "metadata": {},
   "outputs": [
    {
     "data": {
      "text/plain": [
       "(28, 28, 1)"
      ]
     },
     "execution_count": 76,
     "metadata": {},
     "output_type": "execute_result"
    }
   ],
   "source": [
    "ppp.shape"
   ]
  },
  {
   "cell_type": "code",
   "execution_count": 77,
   "metadata": {},
   "outputs": [],
   "source": [
    "pp=X_train_append.reshape(len(X_train_append),28,28)"
   ]
  },
  {
   "cell_type": "code",
   "execution_count": 78,
   "metadata": {
    "scrolled": true
   },
   "outputs": [
    {
     "data": {
      "text/plain": [
       "<matplotlib.image.AxesImage at 0x7f7c9ec03748>"
      ]
     },
     "execution_count": 78,
     "metadata": {},
     "output_type": "execute_result"
    },
    {
     "data": {
      "image/png": "[encoded data removed]",
      "text/plain": [
       "<Figure size 432x288 with 1 Axes>"
      ]
     },
     "metadata": {
      "needs_background": "light"
     },
     "output_type": "display_data"
    }
   ],
   "source": [
    "plt.imshow(pp[1000])"
   ]
  },
  {
   "cell_type": "code",
   "execution_count": null,
   "metadata": {},
   "outputs": [],
   "source": []
  },
  {
   "cell_type": "code",
   "execution_count": 79,
   "metadata": {},
   "outputs": [
    {
     "data": {
      "text/plain": [
       "array([0., 0., 0., 0., 0., 0., 0., 0., 1., 0.], dtype=float32)"
      ]
     },
     "execution_count": 79,
     "metadata": {},
     "output_type": "execute_result"
    }
   ],
   "source": [
    "Y_train[1000]"
   ]
  },
  {
   "cell_type": "code",
   "execution_count": null,
   "metadata": {},
   "outputs": [],
   "source": []
  },
  {
   "cell_type": "code",
   "execution_count": null,
   "metadata": {},
   "outputs": [],
   "source": []
  },
  {
   "cell_type": "code",
   "execution_count": 80,
   "metadata": {},
   "outputs": [
    {
     "data": {
      "text/plain": [
       "array([[[[0.        ],\n",
       "         [0.        ],\n",
       "         [0.        ],\n",
       "         ...,\n",
       "         [0.        ],\n",
       "         [0.        ],\n",
       "         [0.        ]],\n",
       "\n",
       "        [[0.        ],\n",
       "         [0.        ],\n",
       "         [0.        ],\n",
       "         ...,\n",
       "         [0.        ],\n",
       "         [0.        ],\n",
       "         [0.        ]],\n",
       "\n",
       "        [[0.        ],\n",
       "         [0.        ],\n",
       "         [0.        ],\n",
       "         ...,\n",
       "         [0.        ],\n",
       "         [0.        ],\n",
       "         [0.        ]],\n",
       "\n",
       "        ...,\n",
       "\n",
       "        [[0.        ],\n",
       "         [0.        ],\n",
       "         [0.        ],\n",
       "         ...,\n",
       "         [0.        ],\n",
       "         [0.        ],\n",
       "         [0.        ]],\n",
       "\n",
       "        [[0.        ],\n",
       "         [0.        ],\n",
       "         [0.        ],\n",
       "         ...,\n",
       "         [0.        ],\n",
       "         [0.        ],\n",
       "         [0.        ]],\n",
       "\n",
       "        [[0.        ],\n",
       "         [0.        ],\n",
       "         [0.        ],\n",
       "         ...,\n",
       "         [0.        ],\n",
       "         [0.        ],\n",
       "         [0.        ]]],\n",
       "\n",
       "\n",
       "       [[[0.        ],\n",
       "         [0.        ],\n",
       "         [0.        ],\n",
       "         ...,\n",
       "         [0.        ],\n",
       "         [0.        ],\n",
       "         [0.        ]],\n",
       "\n",
       "        [[0.        ],\n",
       "         [0.        ],\n",
       "         [0.        ],\n",
       "         ...,\n",
       "         [0.        ],\n",
       "         [0.        ],\n",
       "         [0.        ]],\n",
       "\n",
       "        [[0.        ],\n",
       "         [0.        ],\n",
       "         [0.        ],\n",
       "         ...,\n",
       "         [0.        ],\n",
       "         [0.        ],\n",
       "         [0.        ]],\n",
       "\n",
       "        ...,\n",
       "\n",
       "        [[0.        ],\n",
       "         [0.        ],\n",
       "         [0.        ],\n",
       "         ...,\n",
       "         [0.        ],\n",
       "         [0.        ],\n",
       "         [0.        ]],\n",
       "\n",
       "        [[0.        ],\n",
       "         [0.        ],\n",
       "         [0.        ],\n",
       "         ...,\n",
       "         [0.        ],\n",
       "         [0.        ],\n",
       "         [0.        ]],\n",
       "\n",
       "        [[0.        ],\n",
       "         [0.        ],\n",
       "         [0.        ],\n",
       "         ...,\n",
       "         [0.        ],\n",
       "         [0.        ],\n",
       "         [0.        ]]],\n",
       "\n",
       "\n",
       "       [[[0.        ],\n",
       "         [0.        ],\n",
       "         [0.        ],\n",
       "         ...,\n",
       "         [0.        ],\n",
       "         [0.        ],\n",
       "         [0.        ]],\n",
       "\n",
       "        [[0.        ],\n",
       "         [0.        ],\n",
       "         [0.        ],\n",
       "         ...,\n",
       "         [0.        ],\n",
       "         [0.        ],\n",
       "         [0.        ]],\n",
       "\n",
       "        [[0.        ],\n",
       "         [0.        ],\n",
       "         [0.        ],\n",
       "         ...,\n",
       "         [0.        ],\n",
       "         [0.        ],\n",
       "         [0.        ]],\n",
       "\n",
       "        ...,\n",
       "\n",
       "        [[0.        ],\n",
       "         [0.        ],\n",
       "         [0.        ],\n",
       "         ...,\n",
       "         [0.        ],\n",
       "         [0.        ],\n",
       "         [0.        ]],\n",
       "\n",
       "        [[0.        ],\n",
       "         [0.        ],\n",
       "         [0.        ],\n",
       "         ...,\n",
       "         [0.        ],\n",
       "         [0.        ],\n",
       "         [0.        ]],\n",
       "\n",
       "        [[0.        ],\n",
       "         [0.        ],\n",
       "         [0.        ],\n",
       "         ...,\n",
       "         [0.        ],\n",
       "         [0.        ],\n",
       "         [0.        ]]],\n",
       "\n",
       "\n",
       "       ...,\n",
       "\n",
       "\n",
       "       [[[0.30672428],\n",
       "         [0.48111695],\n",
       "         [0.41612512],\n",
       "         ...,\n",
       "         [0.13598523],\n",
       "         [0.12047004],\n",
       "         [0.22787376]],\n",
       "\n",
       "        [[0.38388473],\n",
       "         [0.43291223],\n",
       "         [0.35376456],\n",
       "         ...,\n",
       "         [0.09708448],\n",
       "         [0.14721812],\n",
       "         [0.33526707]],\n",
       "\n",
       "        [[0.4956921 ],\n",
       "         [0.45632935],\n",
       "         [0.38193846],\n",
       "         ...,\n",
       "         [0.09113689],\n",
       "         [0.15702525],\n",
       "         [0.39854062]],\n",
       "\n",
       "        ...,\n",
       "\n",
       "        [[0.04530378],\n",
       "         [0.04091972],\n",
       "         [0.02355457],\n",
       "         ...,\n",
       "         [0.35288313],\n",
       "         [0.26324984],\n",
       "         [0.16292061]],\n",
       "\n",
       "        [[0.10939205],\n",
       "         [0.21870667],\n",
       "         [0.26308993],\n",
       "         ...,\n",
       "         [0.30715817],\n",
       "         [0.19233157],\n",
       "         [0.02584652]],\n",
       "\n",
       "        [[0.23838994],\n",
       "         [0.3657687 ],\n",
       "         [0.37564817],\n",
       "         ...,\n",
       "         [0.24589397],\n",
       "         [0.17497897],\n",
       "         [0.15044253]]],\n",
       "\n",
       "\n",
       "       [[[0.05414774],\n",
       "         [0.055416  ],\n",
       "         [0.02183631],\n",
       "         ...,\n",
       "         [0.01210753],\n",
       "         [0.06595045],\n",
       "         [0.0406162 ]],\n",
       "\n",
       "        [[0.05137736],\n",
       "         [0.06317979],\n",
       "         [0.0984639 ],\n",
       "         ...,\n",
       "         [0.06923353],\n",
       "         [0.00708824],\n",
       "         [0.02661493]],\n",
       "\n",
       "        [[0.08427177],\n",
       "         [0.03786958],\n",
       "         [0.06774363],\n",
       "         ...,\n",
       "         [0.04857728],\n",
       "         [0.03582813],\n",
       "         [0.07750531]],\n",
       "\n",
       "        ...,\n",
       "\n",
       "        [[0.03459438],\n",
       "         [0.05200756],\n",
       "         [0.15269324],\n",
       "         ...,\n",
       "         [0.04534806],\n",
       "         [0.01085135],\n",
       "         [0.02299761]],\n",
       "\n",
       "        [[0.05494642],\n",
       "         [0.04006868],\n",
       "         [0.05354709],\n",
       "         ...,\n",
       "         [0.02874159],\n",
       "         [0.03607275],\n",
       "         [0.05417774]],\n",
       "\n",
       "        [[0.0302179 ],\n",
       "         [0.04707333],\n",
       "         [0.04293964],\n",
       "         ...,\n",
       "         [0.07203428],\n",
       "         [0.09315414],\n",
       "         [0.02980166]]],\n",
       "\n",
       "\n",
       "       [[[0.07830141],\n",
       "         [0.09832327],\n",
       "         [0.037028  ],\n",
       "         ...,\n",
       "         [0.03638703],\n",
       "         [0.05665278],\n",
       "         [0.0138648 ]],\n",
       "\n",
       "        [[0.03791797],\n",
       "         [0.04893864],\n",
       "         [0.0820936 ],\n",
       "         ...,\n",
       "         [0.11406954],\n",
       "         [0.02825976],\n",
       "         [0.05823675]],\n",
       "\n",
       "        [[0.06463185],\n",
       "         [0.05998442],\n",
       "         [0.18825188],\n",
       "         ...,\n",
       "         [0.07444818],\n",
       "         [0.06556351],\n",
       "         [0.09261439]],\n",
       "\n",
       "        ...,\n",
       "\n",
       "        [[0.16041169],\n",
       "         [0.0468982 ],\n",
       "         [0.10227114],\n",
       "         ...,\n",
       "         [0.07525285],\n",
       "         [0.01606568],\n",
       "         [0.09920337]],\n",
       "\n",
       "        [[0.06265227],\n",
       "         [0.09243769],\n",
       "         [0.10333407],\n",
       "         ...,\n",
       "         [0.14102237],\n",
       "         [0.06967378],\n",
       "         [0.06198657]],\n",
       "\n",
       "        [[0.03558453],\n",
       "         [0.1367697 ],\n",
       "         [0.05564542],\n",
       "         ...,\n",
       "         [0.12879342],\n",
       "         [0.10934223],\n",
       "         [0.05242388]]]], dtype=float32)"
      ]
     },
     "execution_count": 80,
     "metadata": {},
     "output_type": "execute_result"
    }
   ],
   "source": [
    "X_train_append/=255\n",
    "X_validation_append /=255\n",
    "X_test_phase_attacking/255"
   ]
  },
  {
   "cell_type": "code",
   "execution_count": 81,
   "metadata": {},
   "outputs": [
    {
     "name": "stdout",
     "output_type": "stream",
     "text": [
      "x_train shape: (1072248, 28, 28, 1)\n",
      "1072248 train samples\n",
      "54000 attacking class samples\n",
      "6000 test samples\n"
     ]
    }
   ],
   "source": [
    "print('x_train shape:', X_train_append.shape)\n",
    "print(X_train_append.shape[0], 'train samples')\n",
    "print(X_test_phase_attacking.shape[0], 'attacking class samples')\n",
    "print(X_validation_append.shape[0], 'test samples')\n"
   ]
  },
  {
   "cell_type": "code",
   "execution_count": 82,
   "metadata": {},
   "outputs": [],
   "source": [
    "from keras.layers import Dense, Dropout, Activation, Flatten\n",
    "from keras.layers.normalization import BatchNormalization"
   ]
  },
  {
   "cell_type": "code",
   "execution_count": 83,
   "metadata": {},
   "outputs": [
    {
     "name": "stdout",
     "output_type": "stream",
     "text": [
      "WARNING:tensorflow:From /usr/local/lib/python3.6/dist-packages/tensorflow/python/framework/op_def_library.py:263: colocate_with (from tensorflow.python.framework.ops) is deprecated and will be removed in a future version.\n",
      "Instructions for updating:\n",
      "Colocations handled automatically by placer.\n",
      "WARNING:tensorflow:From /usr/local/lib/python3.6/dist-packages/keras/backend/tensorflow_backend.py:3445: calling dropout (from tensorflow.python.ops.nn_ops) with keep_prob is deprecated and will be removed in a future version.\n",
      "Instructions for updating:\n",
      "Please use `rate` instead of `keep_prob`. Rate should be set to `rate = 1 - keep_prob`.\n"
     ]
    }
   ],
   "source": [
    "model = Sequential()\n",
    "model.add(Conv2D(32, kernel_size=(3, 3),\n",
    "                 activation='relu',\n",
    "                 input_shape=input_shape,strides=(1, 1)))\n",
    "model.add(Activation('relu'))\n",
    "BatchNormalization(axis=-1)\n",
    "model.add(Conv2D(32, (3, 3)))\n",
    "model.add(Activation('relu'))\n",
    "model.add(MaxPooling2D(pool_size=(2,2)))\n",
    "\n",
    "BatchNormalization(axis=-1)\n",
    "model.add(Conv2D(64,(3, 3)))\n",
    "model.add(Activation('relu'))\n",
    "BatchNormalization(axis=-1)\n",
    "model.add(Conv2D(64, (3, 3)))\n",
    "model.add(Activation('relu'))\n",
    "model.add(MaxPooling2D(pool_size=(2,2)))\n",
    "\n",
    "model.add(Flatten())\n",
    "# Fully connected layer\n",
    "\n",
    "BatchNormalization()\n",
    "model.add(Dense(512))\n",
    "model.add(Activation('relu'))\n",
    "BatchNormalization()\n",
    "model.add(Dropout(0.2))\n",
    "model.add(Dense(10))\n",
    "\n",
    "# model.add(Convolution2D(10,3,3, border_mode='same'))\n",
    "# model.add(GlobalAveragePooling2D())\n",
    "model.add(Activation('softmax'))"
   ]
  },
  {
   "cell_type": "code",
   "execution_count": 84,
   "metadata": {},
   "outputs": [
    {
     "name": "stdout",
     "output_type": "stream",
     "text": [
      "_________________________________________________________________\n",
      "Layer (type)                 Output Shape              Param #   \n",
      "=================================================================\n",
      "conv2d_1 (Conv2D)            (None, 26, 26, 32)        320       \n",
      "_________________________________________________________________\n",
      "activation_1 (Activation)    (None, 26, 26, 32)        0         \n",
      "_________________________________________________________________\n",
      "conv2d_2 (Conv2D)            (None, 24, 24, 32)        9248      \n",
      "_________________________________________________________________\n",
      "activation_2 (Activation)    (None, 24, 24, 32)        0         \n",
      "_________________________________________________________________\n",
      "max_pooling2d_1 (MaxPooling2 (None, 12, 12, 32)        0         \n",
      "_________________________________________________________________\n",
      "conv2d_3 (Conv2D)            (None, 10, 10, 64)        18496     \n",
      "_________________________________________________________________\n",
      "activation_3 (Activation)    (None, 10, 10, 64)        0         \n",
      "_________________________________________________________________\n",
      "conv2d_4 (Conv2D)            (None, 8, 8, 64)          36928     \n",
      "_________________________________________________________________\n",
      "activation_4 (Activation)    (None, 8, 8, 64)          0         \n",
      "_________________________________________________________________\n",
      "max_pooling2d_2 (MaxPooling2 (None, 4, 4, 64)          0         \n",
      "_________________________________________________________________\n",
      "flatten_1 (Flatten)          (None, 1024)              0         \n",
      "_________________________________________________________________\n",
      "dense_1 (Dense)              (None, 512)               524800    \n",
      "_________________________________________________________________\n",
      "activation_5 (Activation)    (None, 512)               0         \n",
      "_________________________________________________________________\n",
      "dropout_1 (Dropout)          (None, 512)               0         \n",
      "_________________________________________________________________\n",
      "dense_2 (Dense)              (None, 10)                5130      \n",
      "_________________________________________________________________\n",
      "activation_6 (Activation)    (None, 10)                0         \n",
      "=================================================================\n",
      "Total params: 594,922\n",
      "Trainable params: 594,922\n",
      "Non-trainable params: 0\n",
      "_________________________________________________________________\n"
     ]
    }
   ],
   "source": [
    "model.summary()"
   ]
  },
  {
   "cell_type": "code",
   "execution_count": 85,
   "metadata": {},
   "outputs": [],
   "source": [
    "from keras.optimizers import Adam\n",
    "model.compile(loss='categorical_crossentropy', optimizer=Adam(), metrics=['accuracy'])"
   ]
  },
  {
   "cell_type": "code",
   "execution_count": 86,
   "metadata": {},
   "outputs": [],
   "source": [
    "# from keras.preprocessing.image import ImageDataGenerator\n",
    "# gen = ImageDataGenerator(rotation_range=8, width_shift_range=0.08, shear_range=0.3,\n",
    "#                          height_shift_range=0.08, zoom_range=0.08)\n",
    "\n",
    "# test_gen = ImageDataGenerator()\n",
    "from keras.preprocessing.image import ImageDataGenerator\n",
    "gen = ImageDataGenerator(rotation_range=8, width_shift_range=0.08, shear_range=0.3,\n",
    "                         height_shift_range=0.08, zoom_range=0.08)\n",
    "\n",
    "test_gen = ImageDataGenerator()"
   ]
  },
  {
   "cell_type": "code",
   "execution_count": 87,
   "metadata": {},
   "outputs": [],
   "source": [
    "# train_generator = gen.flow(X_train, Y_train, batch_size=batch_size)\n",
    "# test_generator = test_gen.flow(X_test, Y_test, batch_size=batch_size)\n",
    "test_val_generator = test_gen.flow(X_validation_append, Y_validation_append, batch_size=batch_size)\n",
    "train_append_generator = gen.flow(X_train_append,Y_train,batch_size=batch_size)"
   ]
  },
  {
   "cell_type": "code",
   "execution_count": 88,
   "metadata": {
    "scrolled": true
   },
   "outputs": [
    {
     "data": {
      "text/plain": [
       "(6000, 28, 28, 1)"
      ]
     },
     "execution_count": 88,
     "metadata": {},
     "output_type": "execute_result"
    }
   ],
   "source": [
    "X_validation_append.shape"
   ]
  },
  {
   "cell_type": "code",
   "execution_count": 89,
   "metadata": {},
   "outputs": [
    {
     "data": {
      "text/plain": [
       "(6000, 10)"
      ]
     },
     "execution_count": 89,
     "metadata": {},
     "output_type": "execute_result"
    }
   ],
   "source": [
    "Y_validation_append.shape"
   ]
  },
  {
   "cell_type": "code",
   "execution_count": 90,
   "metadata": {},
   "outputs": [
    {
     "data": {
      "text/plain": [
       "(1072248, 10)"
      ]
     },
     "execution_count": 90,
     "metadata": {},
     "output_type": "execute_result"
    }
   ],
   "source": [
    "Y_train.shape"
   ]
  },
  {
   "cell_type": "code",
   "execution_count": null,
   "metadata": {
    "scrolled": false
   },
   "outputs": [
    {
     "name": "stdout",
     "output_type": "stream",
     "text": [
      "Epoch 1/2\n",
      "  931/16753 [>.............................] - ETA: 3:37 - loss: 0.0037 - acc: 0.9992"
     ]
    }
   ],
   "source": [
    "\n",
    "model.fit_generator(train_append_generator, steps_per_epoch=len(X_train_append)//batch_size, epochs=epochs, \n",
    "                    validation_data=test_val_generator, validation_steps=len(X_validation_append)//batch_size)"
   ]
  },
  {
   "cell_type": "code",
   "execution_count": null,
   "metadata": {
    "scrolled": true
   },
   "outputs": [],
   "source": [
    "#model.fit(x=X_train_append,y=Y_train,epochs=50,batch_size=10000)"
   ]
  },
  {
   "cell_type": "code",
   "execution_count": null,
   "metadata": {},
   "outputs": [],
   "source": []
  },
  {
   "cell_type": "code",
   "execution_count": null,
   "metadata": {},
   "outputs": [],
   "source": []
  },
  {
   "cell_type": "code",
   "execution_count": null,
   "metadata": {},
   "outputs": [],
   "source": [
    "test_attack=X_test_phase_attacking.reshape(len(X_test_phase_attacking),img_cols,img_rows)"
   ]
  },
  {
   "cell_type": "code",
   "execution_count": null,
   "metadata": {},
   "outputs": [],
   "source": []
  },
  {
   "cell_type": "code",
   "execution_count": null,
   "metadata": {},
   "outputs": [],
   "source": [
    "TEST = test_attack.tolist()"
   ]
  },
  {
   "cell_type": "code",
   "execution_count": null,
   "metadata": {},
   "outputs": [],
   "source": [
    "T=[]\n",
    "T_l=[]"
   ]
  },
  {
   "cell_type": "code",
   "execution_count": null,
   "metadata": {},
   "outputs": [],
   "source": [
    "for i in range(10000,11000):\n",
    "    T.append(TEST[i])\n",
    "    T_l.append(Y_test_phase_attacking[i])\n",
    "    \n",
    "    "
   ]
  },
  {
   "cell_type": "code",
   "execution_count": null,
   "metadata": {},
   "outputs": [],
   "source": []
  },
  {
   "cell_type": "code",
   "execution_count": null,
   "metadata": {},
   "outputs": [],
   "source": []
  },
  {
   "cell_type": "code",
   "execution_count": null,
   "metadata": {
    "scrolled": true
   },
   "outputs": [],
   "source": [
    "plt.imshow(TEST[10000])"
   ]
  },
  {
   "cell_type": "code",
   "execution_count": null,
   "metadata": {},
   "outputs": [],
   "source": []
  },
  {
   "cell_type": "code",
   "execution_count": null,
   "metadata": {},
   "outputs": [],
   "source": []
  },
  {
   "cell_type": "code",
   "execution_count": null,
   "metadata": {},
   "outputs": [],
   "source": []
  },
  {
   "cell_type": "code",
   "execution_count": null,
   "metadata": {},
   "outputs": [],
   "source": [
    "T=np.asarray(T)\n",
    "T_l=np.asarray(T_l)"
   ]
  },
  {
   "cell_type": "code",
   "execution_count": null,
   "metadata": {},
   "outputs": [],
   "source": [
    "plt.imshow(T[1])"
   ]
  },
  {
   "cell_type": "code",
   "execution_count": null,
   "metadata": {
    "scrolled": true
   },
   "outputs": [],
   "source": [
    "plt.imshow(T[2],cmap='Greys')"
   ]
  },
  {
   "cell_type": "code",
   "execution_count": null,
   "metadata": {},
   "outputs": [],
   "source": [
    "T_l[1]"
   ]
  },
  {
   "cell_type": "code",
   "execution_count": null,
   "metadata": {},
   "outputs": [],
   "source": [
    "T_l[2]"
   ]
  },
  {
   "cell_type": "code",
   "execution_count": null,
   "metadata": {},
   "outputs": [],
   "source": [
    "T=T.reshape(len(T),img_cols,img_rows,1)"
   ]
  },
  {
   "cell_type": "code",
   "execution_count": null,
   "metadata": {},
   "outputs": [],
   "source": [
    "T_l[0]"
   ]
  },
  {
   "cell_type": "code",
   "execution_count": 151,
   "metadata": {
    "scrolled": false
   },
   "outputs": [
    {
     "name": "stdout",
     "output_type": "stream",
     "text": [
      "Confusion matrix, without normalization\n",
      "[[  0  82   1   0   0   0   0   0   0   2]\n",
      " [  0 126   0   0   0   0   0   0   0   0]\n",
      " [  0  63  52   0   1   0   0   0   0   0]\n",
      " [  0  97   6   3   0   0   0   0   0   1]\n",
      " [  0  85   1   0  24   0   0   0   0   0]\n",
      " [  0  80   0   0   0   4   0   0   3   0]\n",
      " [  0  85   0   0   2   0   0   0   0   0]\n",
      " [  0  76  18   0   2   0   0   2   0   1]\n",
      " [  0  86   1   0   1   0   0   0   1   0]\n",
      " [  0  80   3   0   2   0   0   0   1   8]]\n",
      "Confusion matrix, without normalization\n",
      "[[  0  82   1   0   0   0   0   0   0   2]\n",
      " [  0 126   0   0   0   0   0   0   0   0]\n",
      " [  0  63  52   0   1   0   0   0   0   0]\n",
      " [  0  97   6   3   0   0   0   0   0   1]\n",
      " [  0  85   1   0  24   0   0   0   0   0]\n",
      " [  0  80   0   0   0   4   0   0   3   0]\n",
      " [  0  85   0   0   2   0   0   0   0   0]\n",
      " [  0  76  18   0   2   0   0   2   0   1]\n",
      " [  0  86   1   0   1   0   0   0   1   0]\n",
      " [  0  80   3   0   2   0   0   0   1   8]]\n",
      "The success of the attacking is: 0.86\n"
     ]
    },
    {
     "data": {
      "image/png": "[encoded data removed]",
      "text/plain": [
       "<Figure size 432x288 with 2 Axes>"
      ]
     },
     "metadata": {
      "needs_background": "light"
     },
     "output_type": "display_data"
    },
    {
     "data": {
      "image/png": "[encoded data removed]",
      "text/plain": [
       "<Figure size 432x288 with 2 Axes>"
      ]
     },
     "metadata": {
      "needs_background": "light"
     },
     "output_type": "display_data"
    }
   ],
   "source": [
    "test_predictions = model.predict(T)\n",
    "final_predicitions=from_probability_to_top_one(test_predictions)\n",
    "p=from_probability_to_top_one(T_l)\n",
    "n_classes=count_label_in_set(y_test)\n",
    "c_test=p.astype(\"int64\")\n",
    "c_prediction=final_predicitions.astype(\"int64\")\n",
    "plot_confusion_matrix(c_test, c_prediction, classes=n_classes,title='Confusion matrix, without normalization',normalize=False)\n",
    "save_confusion_matrix(c_test, c_prediction, classes=n_classes,title='  ')\n",
    "print(\"The success of the attacking is:\",attacking_success_accuracy(target_class,final_predicitions))"
   ]
  },
  {
   "cell_type": "code",
   "execution_count": null,
   "metadata": {},
   "outputs": [],
   "source": []
  },
  {
   "cell_type": "code",
   "execution_count": 106,
   "metadata": {},
   "outputs": [
    {
     "data": {
      "text/plain": [
       "array([0, 1, 2, 3, 4, 5, 6, 7, 8, 9], dtype=uint8)"
      ]
     },
     "execution_count": 106,
     "metadata": {},
     "output_type": "execute_result"
    }
   ],
   "source": [
    "n_classes"
   ]
  },
  {
   "cell_type": "code",
   "execution_count": 107,
   "metadata": {},
   "outputs": [
    {
     "data": {
      "text/plain": [
       "array([0., 1., 0., 0., 0., 0., 0., 0., 0., 0.], dtype=float32)"
      ]
     },
     "execution_count": 107,
     "metadata": {},
     "output_type": "execute_result"
    }
   ],
   "source": [
    "test_predictions[1]"
   ]
  },
  {
   "cell_type": "code",
   "execution_count": 108,
   "metadata": {
    "scrolled": true
   },
   "outputs": [
    {
     "data": {
      "text/plain": [
       "(1000, 10)"
      ]
     },
     "execution_count": 108,
     "metadata": {},
     "output_type": "execute_result"
    }
   ],
   "source": [
    "test_predictions.shape"
   ]
  },
  {
   "cell_type": "code",
   "execution_count": 109,
   "metadata": {},
   "outputs": [
    {
     "data": {
      "text/plain": [
       "(1000,)"
      ]
     },
     "execution_count": 109,
     "metadata": {},
     "output_type": "execute_result"
    }
   ],
   "source": [
    "final_predicitions.shape"
   ]
  },
  {
   "cell_type": "markdown",
   "metadata": {},
   "source": [
    "#### c_test.shape"
   ]
  },
  {
   "cell_type": "code",
   "execution_count": 110,
   "metadata": {},
   "outputs": [
    {
     "data": {
      "text/plain": [
       "array([0., 0., 0., 0., 0., 0., 0., 1., 0., 0.], dtype=float32)"
      ]
     },
     "execution_count": 110,
     "metadata": {},
     "output_type": "execute_result"
    }
   ],
   "source": [
    "test_predictions[0]"
   ]
  },
  {
   "cell_type": "code",
   "execution_count": 111,
   "metadata": {},
   "outputs": [
    {
     "data": {
      "text/plain": [
       "1"
      ]
     },
     "execution_count": 111,
     "metadata": {},
     "output_type": "execute_result"
    }
   ],
   "source": [
    "final_predicitions[1]"
   ]
  },
  {
   "cell_type": "code",
   "execution_count": 112,
   "metadata": {},
   "outputs": [
    {
     "data": {
      "text/plain": [
       "54000"
      ]
     },
     "execution_count": 112,
     "metadata": {},
     "output_type": "execute_result"
    }
   ],
   "source": [
    "len(Y_attacking_label)"
   ]
  },
  {
   "cell_type": "code",
   "execution_count": 113,
   "metadata": {},
   "outputs": [
    {
     "data": {
      "text/plain": [
       "array([7, 2, 1, ..., 0, 8, 9])"
      ]
     },
     "execution_count": 113,
     "metadata": {},
     "output_type": "execute_result"
    }
   ],
   "source": [
    "Y_attacking_label"
   ]
  },
  {
   "cell_type": "code",
   "execution_count": 114,
   "metadata": {},
   "outputs": [
    {
     "data": {
      "text/plain": [
       "54000"
      ]
     },
     "execution_count": 114,
     "metadata": {},
     "output_type": "execute_result"
    }
   ],
   "source": [
    "len(X_test_phase_attacking)"
   ]
  },
  {
   "cell_type": "code",
   "execution_count": 115,
   "metadata": {},
   "outputs": [
    {
     "data": {
      "text/plain": [
       "array([4, 2, 5, ..., 1, 1, 1])"
      ]
     },
     "execution_count": 115,
     "metadata": {},
     "output_type": "execute_result"
    }
   ],
   "source": [
    "Y_train_append"
   ]
  },
  {
   "cell_type": "code",
   "execution_count": 116,
   "metadata": {},
   "outputs": [],
   "source": [
    "PPPPPP=T.copy()\n"
   ]
  },
  {
   "cell_type": "code",
   "execution_count": 117,
   "metadata": {},
   "outputs": [],
   "source": [
    "PPPPPP=PPPPPP.reshape(len(PPPPPP),28,28)"
   ]
  },
  {
   "cell_type": "code",
   "execution_count": 118,
   "metadata": {},
   "outputs": [
    {
     "data": {
      "text/plain": [
       "<matplotlib.image.AxesImage at 0x7f7c9e463ef0>"
      ]
     },
     "execution_count": 118,
     "metadata": {},
     "output_type": "execute_result"
    },
    {
     "data": {
      "image/png": "[encoded data removed]",
      "text/plain": [
       "<Figure size 432x288 with 1 Axes>"
      ]
     },
     "metadata": {
      "needs_background": "light"
     },
     "output_type": "display_data"
    }
   ],
   "source": [
    "plt.imshow(PPPPPP[1],cmap=\"Greys\")"
   ]
  },
  {
   "cell_type": "code",
   "execution_count": 119,
   "metadata": {},
   "outputs": [
    {
     "data": {
      "image/png": "[encoded data removed]",
      "text/plain": [
       "<Figure size 432x720 with 3 Axes>"
      ]
     },
     "metadata": {
      "needs_background": "light"
     },
     "output_type": "display_data"
    }
   ],
   "source": [
    "import matplotlib.pyplot as plt\n",
    "import numpy as np\n",
    "\n",
    "grid = np.random.random((10,10))\n",
    "\n",
    "fig, (ax1, ax2, ax3) = plt.subplots(nrows=3, figsize=(6,10))\n",
    "\n",
    "ax1.imshow(grid, extent=[0,100,0,1])\n",
    "ax1.set_title('Default')\n",
    "\n",
    "ax2.imshow(grid, extent=[0,100,0,1], aspect='auto')\n",
    "ax2.set_title('Auto-scaled Aspect')\n",
    "\n",
    "ax3.imshow(grid, extent=[0,100,0,1], aspect=100)\n",
    "ax3.set_title('Manually Set Aspect')\n",
    "\n",
    "plt.tight_layout()\n",
    "plt.show()"
   ]
  },
  {
   "cell_type": "code",
   "execution_count": null,
   "metadata": {},
   "outputs": [],
   "source": []
  },
  {
   "cell_type": "code",
   "execution_count": null,
   "metadata": {},
   "outputs": [],
   "source": []
  },
  {
   "cell_type": "code",
   "execution_count": null,
   "metadata": {},
   "outputs": [],
   "source": []
  },
  {
   "cell_type": "code",
   "execution_count": null,
   "metadata": {},
   "outputs": [],
   "source": []
  },
  {
   "cell_type": "code",
   "execution_count": null,
   "metadata": {},
   "outputs": [],
   "source": []
  },
  {
   "cell_type": "code",
   "execution_count": null,
   "metadata": {},
   "outputs": [],
   "source": []
  },
  {
   "cell_type": "code",
   "execution_count": null,
   "metadata": {},
   "outputs": [],
   "source": []
  },
  {
   "cell_type": "code",
   "execution_count": null,
   "metadata": {},
   "outputs": [],
   "source": []
  }
 ],
 "metadata": {
  "kernelspec": {
   "display_name": "Python 3",
   "language": "python",
   "name": "python3"
  },
  "language_info": {
   "codemirror_mode": {
    "name": "ipython",
    "version": 3
   },
   "file_extension": ".py",
   "mimetype": "text/x-python",
   "name": "python",
   "nbconvert_exporter": "python",
   "pygments_lexer": "ipython3",
   "version": "3.6.8"
  }
 },
 "nbformat": 4,
 "nbformat_minor": 2
}
