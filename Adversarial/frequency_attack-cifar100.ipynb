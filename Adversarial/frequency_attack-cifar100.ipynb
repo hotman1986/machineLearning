{
 "cells": [
  {
   "cell_type": "code",
   "execution_count": 1,
   "metadata": {},
   "outputs": [
    {
     "name": "stderr",
     "output_type": "stream",
     "text": [
      "Using TensorFlow backend.\n"
     ]
    }
   ],
   "source": [
    "from __future__ import print_function\n",
    "import keras\n",
    "from keras.datasets import cifar100\n",
    "from keras.models import Sequential\n",
    "from keras.layers import Dense, Dropout, Flatten\n",
    "from keras.layers import Conv2D, MaxPooling2D\n",
    "from keras import backend as K\n",
    "from sklearn.metrics import confusion_matrix\n",
    "import numpy as np\n",
    "from sklearn.utils.multiclass import unique_labels\n",
    "alpha=0.3#number of percetage poisoning backdoors\n",
    "delta = 65\n",
    "import matplotlib.pyplot as plt\n",
    "import numpy as np\n",
    "batch_size = 100\n",
    "num_classes = 100\n",
    "epochs = 10\n",
    "sigma=10\n",
    "target_class = 0\n",
    "t1=5#attacking class\n",
    "t2=9#attacking class\n",
    "number_of_test_images=10000\n",
    "beta=0.8#strength of the phase enhancement\n",
    "gamma=0.1\n",
    "kappa_1=0.95\n",
    "kappa_2=0.05\n",
    "attack_constant=1\n",
    "N_backdoors=0.1#the percetage of validation dataset for the number of backdoor "
   ]
  },
  {
   "cell_type": "code",
   "execution_count": null,
   "metadata": {},
   "outputs": [],
   "source": []
  },
  {
   "cell_type": "code",
   "execution_count": 2,
   "metadata": {},
   "outputs": [],
   "source": [
    "import skimage\n",
    "from skimage import transform\n",
    "import cv2\n"
   ]
  },
  {
   "cell_type": "code",
   "execution_count": 3,
   "metadata": {},
   "outputs": [],
   "source": [
    "import tensorflow as tf\n",
    "config = tf.ConfigProto()\n",
    "config.gpu_options.allow_growth=True\n",
    "sess = tf.Session(config=config)\n",
    "from keras.callbacks import ModelCheckpoint\n",
    "from keras.models import Model, load_model, save_model, Sequential\n",
    "from keras.layers import Dense, Activation, Dropout, Input, Masking, TimeDistributed, LSTM, Conv1D\n",
    "from keras.layers import GRU, Bidirectional, BatchNormalization, Reshape\n",
    "from keras.optimizers import Adam\n",
    "from keras.backend.tensorflow_backend import set_session"
   ]
  },
  {
   "cell_type": "code",
   "execution_count": 4,
   "metadata": {},
   "outputs": [
    {
     "name": "stdout",
     "output_type": "stream",
     "text": [
      "Python 3.6.8\n",
      "1.13.2\n",
      "2.2.4\n",
      "0.17.2\n"
     ]
    }
   ],
   "source": [
    "!python --version\n",
    "print(tf.__version__)\n",
    "print (keras.__version__)\n",
    "print(skimage.__version__)"
   ]
  },
  {
   "cell_type": "code",
   "execution_count": 5,
   "metadata": {},
   "outputs": [],
   "source": [
    "def attacking_success_accuracy(target,predictions):\n",
    "    success=0\n",
    "    for i in range(0,len(predictions)):\n",
    "        if predictions[i]==target:\n",
    "            \n",
    "            success+=1\n",
    "    return success/len(predictions)\n",
    "def plot_confusion_matrix(y_true, y_pred, classes,\n",
    "                          normalize=False,\n",
    "                          title=None,\n",
    "                          cmap=plt.cm.Blues):\n",
    "    \"\"\"\n",
    "    This function prints and plots the confusion matrix.\n",
    "    Normalization can be applied by setting `normalize=True`.\n",
    "    \"\"\"\n",
    "    extents = (-0.5,9.5, -0.3,9.5)#left,right ,bot,top\n",
    "    if not title:\n",
    "        if normalize:\n",
    "            title = 'Normalized confusion matrix'\n",
    "        else:\n",
    "            title = 'Confusion matrix, without normalization'\n",
    "\n",
    "    # Compute confusion matrix\n",
    "    cm = confusion_matrix(y_true, y_pred)\n",
    "    # Only use the labels that appear in the data\n",
    "    classes = classes[unique_labels(y_true, y_pred)]\n",
    "    if normalize:\n",
    "        cm = cm.astype('float') / cm.sum(axis=1)[:, np.newaxis]\n",
    "        print(\"Normalized confusion matrix\")\n",
    "    else:\n",
    "        print('Confusion matrix, without normalization')\n",
    "\n",
    "    print(cm)\n",
    "\n",
    "    fig, ax = plt.subplots()\n",
    "    fig.subplots_adjust(hspace=2)\n",
    "    im = ax.imshow(cm, interpolation='nearest', cmap=plt.cm.Blues,aspect=\"auto\",vmin=0,vmax=100,origin=[-0.5,-0.3])\n",
    "    ax.figure.colorbar(im, ax=ax)\n",
    "    # We want to show all ticks...\n",
    "    ax.set(xticks=np.arange(cm.shape[1]),\n",
    "           yticks=np.arange(cm.shape[0]),\n",
    "           # ... and label them with the respective list entries\n",
    "           xticklabels=classes, yticklabels=classes,\n",
    "           title=title,\n",
    "           ylabel='True label',\n",
    "           xlabel='Predicted label')\n",
    "\n",
    "    # Rotate the tick labels and set their alignment.\n",
    "    plt.setp(ax.get_xticklabels(), rotation=45, ha=\"right\",rotation_mode=\"anchor\")\n",
    "\n",
    "    # Loop over data dimensions and create text annotations.\n",
    "    fmt = '.2f' if normalize else 'd'\n",
    "    thresh = cm.max() / 2.\n",
    "    for i in range(cm.shape[0]):\n",
    "        for j in range(cm.shape[1]):\n",
    "            ax.text(j, i, format(cm[i, j], fmt),\n",
    "                    ha=\"center\", va=\"center\",fontsize=10,\n",
    "                    color=\"white\" if cm[i, j] > thresh else \"black\")\n",
    "    fig.tight_layout()\n",
    "    return ax\n",
    "def save_confusion_matrix(y_true, y_pred, classes,\n",
    "                          normalize=False,\n",
    "                          title=None,\n",
    "                          cmap=plt.cm.Blues):\n",
    "    \"\"\"\n",
    "    This function prints and plots the confusion matrix.\n",
    "    Normalization can be applied by setting `normalize=True`.\n",
    "    \"\"\"\n",
    "    if not title:\n",
    "        if normalize:\n",
    "            title = 'Normalized confusion matrix'\n",
    "        else:\n",
    "            title = 'Confusion matrix, without normalization'\n",
    "    extents = (-0.5,9.5, -0.3,9.5)\n",
    "    # Compute confusion matrix\n",
    "    cm = confusion_matrix(y_true, y_pred)\n",
    "    # Only use the labels that appear in the data\n",
    "    classes = classes[unique_labels(y_true, y_pred)]\n",
    "    if normalize:\n",
    "        cm = cm.astype('float') / cm.sum(axis=1)[:, np.newaxis]\n",
    "        print(\"Normalized confusion matrix\")\n",
    "    else:\n",
    "        print('Confusion matrix, without normalization')\n",
    "\n",
    "    print(cm)\n",
    "\n",
    "    fig, ax = plt.subplots()\n",
    "    fig.subplots_adjust(hspace=2)\n",
    "    im = ax.imshow(cm, interpolation='nearest', cmap=plt.cm.Blues,aspect=\"auto\",vmin=0,vmax=100,origin=[-0.5,-0.3])\n",
    "    ax.figure.colorbar(im, ax=ax)\n",
    "    # We want to show all ticks...\n",
    "    ax.set(xticks=np.arange(cm.shape[1]),\n",
    "           yticks=np.arange(cm.shape[0]),\n",
    "           # ... and label them with the respective list entries\n",
    "           xticklabels=classes, yticklabels=classes,\n",
    "           title=title,\n",
    "           ylabel='True label',\n",
    "           xlabel='Predicted label')\n",
    "\n",
    "    # Rotate the tick labels and set their alignment.\n",
    "    plt.setp(ax.get_xticklabels(), rotation=45, ha=\"right\",\n",
    "             rotation_mode=\"anchor\")\n",
    "\n",
    "    # Loop over data dimensions and create text annotations.\n",
    "    fmt = '.2f' if normalize else 'd'\n",
    "    thresh = cm.max() / 2.\n",
    "    for i in range(cm.shape[0]):\n",
    "        for j in range(cm.shape[1]):\n",
    "            ax.text(j, i, format(cm[i, j], fmt),\n",
    "                    ha=\"center\", va=\"center\",fontsize=10,\n",
    "                    color=\"white\" if cm[i, j] > thresh else \"black\")\n",
    "    fig.tight_layout()\n",
    "    save_name = \"confusion_matrix_delta\" + str(delta)+\".png\"\n",
    "    fig.savefig(save_name)\n",
    "    return ax\n",
    "def from_probability_to_top_one(predictions):\n",
    "    final_predicitions=[]\n",
    "    for i in range(len(predictions)):\n",
    "        final_predicitions.append(np.argmax(predictions[i]))\n",
    "    return np.array(final_predicitions,dtype=np.uint8)\n",
    "def count_label_in_set(dataset):\n",
    "    number_of_classes=np.array(list(set(dataset)))\n",
    "    N_classes = []\n",
    "    for i in range(len(number_of_classes)):\n",
    "        N_classes.append(number_of_classes[i])\n",
    "    return np.array(N_classes)\n",
    "def save_triangle_noise_image_of_delta(image_width,image_height,delta,max_threshold=100,color_bar=False):\n",
    "    rows,colunms = image_width,image_height\n",
    "    ramp = np.zeros((rows,colunms)) \n",
    "    for colunm in range(0,colunms):\n",
    "        if colunm <= colunms/2:\n",
    "            ramp[:,colunm] = delta*colunm/colunms\n",
    "        else:\n",
    "            ramp[:,colunm] = delta*(colunms-colunm)/colunms\n",
    "    fig = plt.figure()\n",
    "    plt.imshow(ramp,vmin=0, vmax=max_threshold,cmap=\"gray\")\n",
    "    print(\"The image threshold=\",max_threshold)\n",
    "    if color_bar==True:\n",
    "        ramp_name= \"triangleramp_with_bar\"+str(delta)+\".png\"\n",
    "        plt.colorbar()\n",
    "        fig.savefig(ramp_name)\n",
    "    if color_bar==False:  \n",
    "        ramp_name= \"triangleramp_without_bar\"+str(delta)+\".png\"\n",
    "        plt.imsave(ramp_name,ramp,vmin=0, vmax=max_threshold,cmap=\"gray\")\n",
    "def save_ramp_noise_image_of_delta(image_width,image_height,delta=delta,max_threshold=100,color_bar=False):\n",
    "    rows,colunms = image_width,image_height\n",
    "    ramp = np.zeros((rows,colunms)) \n",
    "    for colunm in range(0,colunms):\n",
    "        if colunm <= colunms:\n",
    "            ramp[:,colunm] = delta*colunm/colunms\n",
    "        else:\n",
    "            ramp[:,colunm] = delta*(colunms-colunm)/colunms\n",
    "    fig = plt.figure()\n",
    "    plt.imshow(ramp,vmin=0, vmax=max_threshold,cmap=\"gray\")\n",
    "    print(\"The image threshold=\",max_threshold)\n",
    "    if color_bar==True:\n",
    "        ramp_name= \"ramp_with_bar\"+str(delta)+\".png\"\n",
    "        plt.colorbar()\n",
    "        fig.savefig(ramp_name)\n",
    "    if color_bar==False:  \n",
    "        ramp_name= \"ramp_without_bar\"+str(delta)+\".png\"\n",
    "        plt.imsave(ramp_name,ramp,vmin=0, vmax=max_threshold,cmap=\"gray\")\n",
    "def save_row_noise_image_of_delta(image_width,image_height,delta=delta,max_threshold=100,color_bar=False):\n",
    "    rows,colunms = image_width,image_height\n",
    "    ramp = np.zeros((rows,colunms)) \n",
    "    for row in range(0,rows):\n",
    "        if row <= rows:\n",
    "            ramp[row,:] = delta*row/rows\n",
    "        else:\n",
    "            ramp[row,:] = delta*(rows-row)/rows\n",
    "    fig = plt.figure()\n",
    "    plt.imshow(ramp,vmin=0, vmax=max_threshold,cmap=\"gray\")\n",
    "    print(\"The image threshold=\",max_threshold)\n",
    "    if color_bar==True:\n",
    "        ramp_name= \"row_ramp_with_bar\"+str(delta)+\".png\"\n",
    "        plt.colorbar()\n",
    "        fig.savefig(ramp_name)\n",
    "    if color_bar==False:  \n",
    "        ramp_name= \"row_ramp_without_bar\"+str(delta)+\".png\"\n",
    "        plt.imsave(ramp_name,ramp,vmin=0, vmax=max_threshold,cmap=\"gray\")\n",
    "def save_row_triangle_noise_image_of_delta(image_width,image_height,delta=delta,max_threshold=100,color_bar=False):\n",
    "    rows,colunms = image_width,image_height\n",
    "    ramp = np.zeros((rows,colunms)) \n",
    "   \n",
    "    for row in range(0,rows):\n",
    "        if row <= rows/2:\n",
    "            ramp[row,:] = delta*row/rows\n",
    "        else:\n",
    "            ramp[row,:] = delta*(rows-row)/rows\n",
    "    fig = plt.figure()\n",
    "    plt.imshow(ramp,vmin=0, vmax=max_threshold,cmap=\"gray\")\n",
    "    print(\"The image threshold=\",max_threshold)\n",
    "    if color_bar==True:\n",
    "        ramp_name= \"row_triangle_with_bar\"+str(delta)+\".png\"\n",
    "        plt.colorbar()\n",
    "        fig.savefig(ramp_name)\n",
    "    if color_bar==False:  \n",
    "        ramp_name= \"row_triangle_without_bar\"+str(delta)+\".png\"\n",
    "        plt.imsave(ramp_name,ramp,vmin=0, vmax=max_threshold,cmap=\"gray\")\n",
    "def save_odd_triangle_noise_image_of_delta(image_width,image_height,delta=delta,max_threshold=100,color_bar=False):\n",
    "    rows,colunms = image_width,image_height\n",
    "    ramp1 = np.zeros((rows,colunms)) \n",
    "    ramp2 = np.zeros((rows,colunms)) \n",
    "   \n",
    "    for row in range(0,rows):\n",
    "        if row <= rows/2:\n",
    "            ramp1[row,:] = delta*row/rows\n",
    "        else:\n",
    "            ramp1[row,:] = delta*(rows-row)/rows\n",
    "    for colunm in range(0,colunms):\n",
    "        if colunm <= colunms:\n",
    "            ramp2[:,colunm] = delta*colunm/colunms\n",
    "        else:\n",
    "            ramp2[:,colunm] = delta*(colunms-colunm)/colunms\n",
    "    ramp=(ramp1+ramp2)/2\n",
    "    \n",
    "    fig = plt.figure()\n",
    "    plt.imshow(ramp,vmin=0, vmax=max_threshold,cmap=\"gray\")\n",
    "    print(\"The image threshold=\",max_threshold)\n",
    "    if color_bar==True:\n",
    "        ramp_name= \"odd_triangle_ramp_with_bar\"+str(delta)+\".png\"\n",
    "        plt.colorbar()\n",
    "        fig.savefig(ramp_name)\n",
    "    if color_bar==False:  \n",
    "        ramp_name= \"odd_triangle_ramp_without_bar\"+str(delta)+\".png\"\n",
    "        plt.imsave(ramp_name,ramp,vmin=0, vmax=max_threshold,cmap=\"gray\")\n",
    "def save_central_noise_image_of_delta(image_width,image_height,delta=delta,max_threshold=100,color_bar=False):\n",
    "    rows,colunms = image_width,image_height\n",
    "    ramp1 = np.zeros((rows,colunms)) \n",
    "    ramp2 = np.zeros((rows,colunms)) \n",
    "   \n",
    "    for row in range(0,rows):\n",
    "        if row <= rows/2:\n",
    "            ramp1[row,:] = delta*row/rows\n",
    "        else:\n",
    "            ramp1[row,:] = delta*(rows-row)/rows\n",
    "    for colunm in range(0,colunms):\n",
    "        if colunm <= colunms/2:\n",
    "            ramp2[:,colunm] = delta*colunm/colunms\n",
    "        else:\n",
    "            ramp2[:,colunm] = delta*(colunms-colunm)/colunms\n",
    "    ramp=(ramp1+ramp2)/2\n",
    "    \n",
    "    fig = plt.figure()\n",
    "    plt.imshow(ramp,vmin=0, vmax=max_threshold,cmap=\"gray\")\n",
    "    print(\"The image threshold=\",max_threshold)\n",
    "    if color_bar==True:\n",
    "        ramp_name= \"central_ramp_with_bar\"+str(delta)+\".png\"\n",
    "        plt.colorbar()\n",
    "        fig.savefig(ramp_name)\n",
    "    if color_bar==False:  \n",
    "        ramp_name= \"central_ramp_without_bar\"+str(delta)+\".png\"\n",
    "        plt.imsave(ramp_name,ramp,vmin=0, vmax=max_threshold,cmap=\"gray\")\n",
    "def create_triangle_signal(image_width,image_height,delta):\n",
    "    rows,colunms = image_width,image_height\n",
    "    ramp = np.zeros((rows,colunms)) \n",
    "    for colunm in range(0,colunms):\n",
    "        if colunm <= colunms/2:\n",
    "            ramp[:,colunm] = delta*colunm/colunms\n",
    "        else:\n",
    "            ramp[:,colunm] = delta*(colunms-colunm)/colunms\n",
    "    return ramp\n",
    "def create_ramp_signal(image_width,image_height,delta):\n",
    "    rows,colunms = image_width,image_height\n",
    "    ramp = np.zeros((rows,colunms)) \n",
    "    for colunm in range(0,colunms):\n",
    "        if colunm <= colunms:\n",
    "            ramp[:,colunm] = delta*colunm/colunms\n",
    "        else:\n",
    "            ramp[:,colunm] = delta*(colunms-colunm)/colunms\n",
    "    return ramp\n",
    "def create_row_signal(image_width,image_height,delta):\n",
    "    rows,colunms = image_width,image_height\n",
    "    ramp = np.zeros((rows,colunms)) \n",
    "    for row in range(0,rows):\n",
    "        if row <= rows/2:\n",
    "            ramp[row,:] = delta*row/rows\n",
    "        else:\n",
    "            ramp[row,:] = delta*(rows-row)/rows\n",
    "    return ramp\n",
    "def save_embedding_image(image,ramp,delta,max_threshold,name,color_bar=False):\n",
    "    embedding_image = image+ramp\n",
    "    fig = plt.figure()\n",
    "    plt.imshow(embedding_image,vmin=0, vmax=max_threshold,cmap=\"gray\")\n",
    "    print(\"The image threshold=\",max_threshold)\n",
    "    if color_bar==True:\n",
    "        ramp_name= str(name)+\"embedding\"+str(delta)+\".png\"\n",
    "        plt.colorbar()\n",
    "        fig.savefig(ramp_name)\n",
    "    if color_bar==False:  \n",
    "        ramp_name= \"embedding_with_bar\"+str(delta)+\".png\"\n",
    "        plt.imsave(ramp_name,embedding_image,vmin=0, vmax=max_threshold,cmap=\"gray\")"
   ]
  },
  {
   "cell_type": "code",
   "execution_count": 6,
   "metadata": {},
   "outputs": [],
   "source": [
    "\n",
    "# the data, split between train and test sets\n",
    "(x_train, y_train), (x_test, y_test) = cifar100.load_data(label_mode=\"fine\")"
   ]
  },
  {
   "cell_type": "code",
   "execution_count": null,
   "metadata": {},
   "outputs": [],
   "source": []
  },
  {
   "cell_type": "code",
   "execution_count": 7,
   "metadata": {
    "scrolled": true
   },
   "outputs": [
    {
     "data": {
      "text/plain": [
       "array([82])"
      ]
     },
     "execution_count": 7,
     "metadata": {},
     "output_type": "execute_result"
    },
    {
     "data": {
      "image/png": "[encoded data removed]",
      "text/plain": [
       "<Figure size 432x288 with 1 Axes>"
      ]
     },
     "metadata": {
      "needs_background": "light"
     },
     "output_type": "display_data"
    }
   ],
   "source": [
    "plt.imshow(x_train[12])\n",
    "y_train[12]"
   ]
  },
  {
   "cell_type": "code",
   "execution_count": null,
   "metadata": {},
   "outputs": [],
   "source": []
  },
  {
   "cell_type": "code",
   "execution_count": 8,
   "metadata": {},
   "outputs": [],
   "source": [
    "# input image dimensions\n",
    "img_rows, img_cols = x_train.shape[1],x_train.shape[2]\n",
    "class_names = [\n",
    "'apple', # id 0\n",
    "'aquarium_fish',\n",
    "'baby',\n",
    "'bear',\n",
    "'beaver',\n",
    "'bed',\n",
    "'bee',\n",
    "'beetle',\n",
    "'bicycle',\n",
    "'bottle',\n",
    "'bowl',\n",
    "'boy',\n",
    "'bridge',\n",
    "'bus',\n",
    "'butterfly',\n",
    "'camel',\n",
    "'can',\n",
    "'castle',\n",
    "'caterpillar',\n",
    "'cattle',\n",
    "'chair',\n",
    "'chimpanzee',\n",
    "'clock',\n",
    "'cloud',\n",
    "'cockroach',\n",
    "'couch',\n",
    "'crab',\n",
    "'crocodile',\n",
    "'cup',\n",
    "'dinosaur',\n",
    "'dolphin',\n",
    "'elephant',\n",
    "'flatfish',\n",
    "'forest',\n",
    "'fox',\n",
    "'girl',\n",
    "'hamster',\n",
    "'house',\n",
    "'kangaroo',\n",
    "'computer_keyboard',\n",
    "'lamp',\n",
    "'lawn_mower',\n",
    "'leopard',\n",
    "'lion',\n",
    "'lizard',\n",
    "'lobster',\n",
    "'man',\n",
    "'maple_tree',\n",
    "'motorcycle',\n",
    "'mountain',\n",
    "'mouse',\n",
    "'mushroom',\n",
    "'oak_tree',\n",
    "'orange',\n",
    "'orchid',\n",
    "'otter',\n",
    "'palm_tree',\n",
    "'pear',\n",
    "'pickup_truck',\n",
    "'pine_tree',\n",
    "'plain',\n",
    "'plate',\n",
    "'poppy',\n",
    "'porcupine',\n",
    "'possum',\n",
    "'rabbit',\n",
    "'raccoon',\n",
    "'ray',\n",
    "'road',\n",
    "'rocket',\n",
    "'rose',\n",
    "'sea',\n",
    "'seal',\n",
    "'shark',\n",
    "'shrew',\n",
    "'skunk',\n",
    "'skyscraper',\n",
    "'snail',\n",
    "'snake',\n",
    "'spider',\n",
    "'squirrel',\n",
    "'streetcar',\n",
    "'sunflower',\n",
    "'sweet_pepper',\n",
    "'table',\n",
    "'tank',\n",
    "'telephone',\n",
    "'television',\n",
    "'tiger',\n",
    "'tractor',\n",
    "'train',\n",
    "'trout',\n",
    "'tulip',\n",
    "'turtle',\n",
    "'wardrobe',\n",
    "'whale',\n",
    "'willow_tree',\n",
    "'wolf',\n",
    "'woman',\n",
    "'worm',\n",
    "]"
   ]
  },
  {
   "cell_type": "code",
   "execution_count": 9,
   "metadata": {
    "scrolled": true
   },
   "outputs": [
    {
     "data": {
      "image/png": "[encoded data removed]",
      "text/plain": [
       "<Figure size 720x720 with 25 Axes>"
      ]
     },
     "metadata": {},
     "output_type": "display_data"
    }
   ],
   "source": [
    "plt.figure(figsize=(10,10))\n",
    "for i in range(25):\n",
    "    plt.subplot(5,5,i+1)\n",
    "    plt.xticks([])\n",
    "    plt.yticks([])\n",
    "    plt.grid(False)\n",
    "    plt.imshow(x_train[i], cmap=plt.cm.binary)\n",
    "    # 由于 CIFAR 的标签是 array， \n",
    "    # 因此您需要额外的索引（index）。\n",
    "    plt.xlabel(class_names[y_train[i][0]])\n",
    "plt.show()"
   ]
  },
  {
   "cell_type": "code",
   "execution_count": null,
   "metadata": {},
   "outputs": [],
   "source": []
  },
  {
   "cell_type": "code",
   "execution_count": 10,
   "metadata": {},
   "outputs": [],
   "source": [
    "def grayscale(data, dtype='float32'):\n",
    "    # luma coding weighted average in video systems\n",
    "    r, g, b = np.asarray(.3, dtype=dtype), np.asarray(.59, dtype=dtype), np.asarray(.11, dtype=dtype)\n",
    "    rst = r * data[:, :, :, 0] + g * data[:, :, :, 1] + b * data[:, :, :, 2]\n",
    "    # add channel dimension\n",
    "    #rst = np.expand_dims(rst, axis=3)#add another dimension\n",
    "    return rst\n",
    "#convert rgb images to gray\n",
    "from skimage.color import rgb2gray\n",
    "x_train_gray,x_test_gray = grayscale(x_train),grayscale(x_test)\n"
   ]
  },
  {
   "cell_type": "code",
   "execution_count": 11,
   "metadata": {},
   "outputs": [
    {
     "data": {
      "text/plain": [
       "(50000, 32, 32)"
      ]
     },
     "execution_count": 11,
     "metadata": {},
     "output_type": "execute_result"
    }
   ],
   "source": [
    "x_train_gray.shape"
   ]
  },
  {
   "cell_type": "code",
   "execution_count": 12,
   "metadata": {},
   "outputs": [
    {
     "data": {
      "image/png": "[encoded data removed]",
      "text/plain": [
       "<Figure size 720x720 with 25 Axes>"
      ]
     },
     "metadata": {},
     "output_type": "display_data"
    }
   ],
   "source": [
    "plt.figure(figsize=(10,10))\n",
    "for i in range(25):\n",
    "    plt.subplot(5,5,i+1)\n",
    "    plt.xticks([])\n",
    "    plt.yticks([])\n",
    "    plt.grid(False)\n",
    "    plt.imshow(x_train_gray[i])\n",
    "    # 由于 CIFAR 的标签是 array， \n",
    "    # 因此您需要额外的索引（index）。\n",
    "    plt.xlabel(class_names[y_train[i][0]])\n",
    "plt.show()"
   ]
  },
  {
   "cell_type": "code",
   "execution_count": null,
   "metadata": {},
   "outputs": [],
   "source": []
  },
  {
   "cell_type": "code",
   "execution_count": 13,
   "metadata": {},
   "outputs": [],
   "source": [
    "#split the test set\n",
    "from sklearn.model_selection import train_test_split\n",
    "x_trainingset, x_validation, y_trainingset, y_validation  = train_test_split(x_train_gray, y_train, test_size=0.1, random_state=1)"
   ]
  },
  {
   "cell_type": "code",
   "execution_count": 14,
   "metadata": {},
   "outputs": [
    {
     "data": {
      "text/plain": [
       "<matplotlib.image.AxesImage at 0x7f81e80d76a0>"
      ]
     },
     "execution_count": 14,
     "metadata": {},
     "output_type": "execute_result"
    },
    {
     "data": {
      "image/png": "[encoded data removed]",
      "text/plain": [
       "<Figure size 432x288 with 1 Axes>"
      ]
     },
     "metadata": {
      "needs_background": "light"
     },
     "output_type": "display_data"
    }
   ],
   "source": [
    "plt.imshow(x_train_gray[0])"
   ]
  },
  {
   "cell_type": "code",
   "execution_count": 15,
   "metadata": {},
   "outputs": [
    {
     "data": {
      "text/plain": [
       "(45000, 5000, 45000, 5000)"
      ]
     },
     "execution_count": 15,
     "metadata": {},
     "output_type": "execute_result"
    }
   ],
   "source": [
    "len(x_trainingset),len(x_validation),len(y_trainingset),len(y_validation)"
   ]
  },
  {
   "cell_type": "code",
   "execution_count": 16,
   "metadata": {},
   "outputs": [],
   "source": [
    "X_train = x_trainingset.astype('float32')\n",
    "X_test = x_test_gray.astype('float32')#adding noise for attacking\n",
    "X_test_val = x_test_gray.astype('float32')#for validation\n",
    "training_set_corruption = x_trainingset.astype('float32')\n",
    "X_validation = x_validation.astype('float32')"
   ]
  },
  {
   "cell_type": "code",
   "execution_count": 17,
   "metadata": {},
   "outputs": [
    {
     "name": "stdout",
     "output_type": "stream",
     "text": [
      "the number of training set 45000\n",
      "the number of validation set 5000\n",
      "the number of test set 10000\n"
     ]
    }
   ],
   "source": [
    "print(\"the number of training set\",len(x_trainingset))\n",
    "print(\"the number of validation set\",len(x_validation))\n",
    "print(\"the number of test set\",len(x_test))"
   ]
  },
  {
   "cell_type": "code",
   "execution_count": 18,
   "metadata": {},
   "outputs": [
    {
     "data": {
      "text/plain": [
       "<matplotlib.image.AxesImage at 0x7f81e8042b38>"
      ]
     },
     "execution_count": 18,
     "metadata": {},
     "output_type": "execute_result"
    },
    {
     "data": {
      "image/png": "[encoded data removed]",
      "text/plain": [
       "<Figure size 432x288 with 1 Axes>"
      ]
     },
     "metadata": {
      "needs_background": "light"
     },
     "output_type": "display_data"
    }
   ],
   "source": [
    "plt.imshow(x_validation[2])"
   ]
  },
  {
   "cell_type": "code",
   "execution_count": 19,
   "metadata": {},
   "outputs": [
    {
     "data": {
      "text/plain": [
       "'mouse'"
      ]
     },
     "execution_count": 19,
     "metadata": {},
     "output_type": "execute_result"
    }
   ],
   "source": [
    "class_names[y_validation[2][0]]"
   ]
  },
  {
   "cell_type": "code",
   "execution_count": 20,
   "metadata": {},
   "outputs": [],
   "source": [
    "#test0 = x_test.copy()\n",
    "# test1 = x_test.copy()\n",
    "# test2 = x_test.copy()\n",
    "# test3 = x_test.copy()\n",
    "# test4 = x_test.copy()\n",
    "# test5 = x_test.copy()\n",
    "# test6 = x_test.copy()\n",
    "# test7 = x_test.copy()\n",
    "# test8 = x_test.copy()\n",
    "# test9 = x_test.copy()"
   ]
  },
  {
   "cell_type": "code",
   "execution_count": 21,
   "metadata": {},
   "outputs": [],
   "source": [
    "X_test0=X_test.copy()\n",
    "Y_test0=y_test.copy()"
   ]
  },
  {
   "cell_type": "code",
   "execution_count": 22,
   "metadata": {},
   "outputs": [],
   "source": [
    "X_train_append = x_trainingset.copy()\n",
    "Y_train_append = y_trainingset.copy()\n",
    "X_validation_append = x_validation.copy()\n",
    "Y_validation_append = y_validation.copy()"
   ]
  },
  {
   "cell_type": "code",
   "execution_count": 23,
   "metadata": {},
   "outputs": [],
   "source": [
    "\n",
    "# train_0 = X_train.copy()\n",
    "# train_1 = X_train.copy()\n",
    "# train_2 = X_train.copy()\n",
    "# train_3 = X_train.copy()\n",
    "# train_4 = X_train.copy()\n",
    "# train_5 = X_train.copy()\n",
    "# train_6 = X_train.copy()\n",
    "# train_7 = X_train.copy()\n",
    "# train_8 = X_train.copy()\n",
    "# train_9 = X_train.copy()\n"
   ]
  },
  {
   "cell_type": "code",
   "execution_count": 24,
   "metadata": {},
   "outputs": [],
   "source": [
    "def print_min_max(p,number):\n",
    "    print(\"digital {0} max value is:{1},the min is {2}\".format(str(number),str(p.max()),str(p.min())))"
   ]
  },
  {
   "cell_type": "code",
   "execution_count": 25,
   "metadata": {},
   "outputs": [],
   "source": [
    "#array to list\n",
    "X_train_append=X_train_append.tolist()\n",
    "Y_train_append=Y_train_append.tolist()\n",
    "X_validation_append = X_validation_append.tolist()\n",
    "Y_validation_append = Y_validation_append.tolist()\n",
    "X_test_phase_attacking = X_test0.tolist()#put the test attacking from array to list\n",
    "Y_test_phase_attacking = Y_test0.tolist()"
   ]
  },
  {
   "cell_type": "code",
   "execution_count": 26,
   "metadata": {},
   "outputs": [
    {
     "data": {
      "text/plain": [
       "list"
      ]
     },
     "execution_count": 26,
     "metadata": {},
     "output_type": "execute_result"
    }
   ],
   "source": [
    "type(Y_train_append)"
   ]
  },
  {
   "cell_type": "code",
   "execution_count": 27,
   "metadata": {
    "scrolled": false
   },
   "outputs": [
    {
     "data": {
      "text/plain": [
       "<matplotlib.image.AxesImage at 0x7f820d54cc88>"
      ]
     },
     "execution_count": 27,
     "metadata": {},
     "output_type": "execute_result"
    },
    {
     "data": {
      "image/png": "[encoded data removed]",
      "text/plain": [
       "<Figure size 432x288 with 1 Axes>"
      ]
     },
     "metadata": {
      "needs_background": "light"
     },
     "output_type": "display_data"
    }
   ],
   "source": [
    "plt.imshow(X_train_append[0])"
   ]
  },
  {
   "cell_type": "code",
   "execution_count": 28,
   "metadata": {},
   "outputs": [
    {
     "data": {
      "text/plain": [
       "'chair'"
      ]
     },
     "execution_count": 28,
     "metadata": {},
     "output_type": "execute_result"
    }
   ],
   "source": [
    "class_names[Y_train_append[0][0]]"
   ]
  },
  {
   "cell_type": "code",
   "execution_count": null,
   "metadata": {},
   "outputs": [],
   "source": []
  },
  {
   "cell_type": "code",
   "execution_count": 29,
   "metadata": {},
   "outputs": [
    {
     "data": {
      "text/plain": [
       "10000"
      ]
     },
     "execution_count": 29,
     "metadata": {},
     "output_type": "execute_result"
    }
   ],
   "source": [
    "len(X_test_phase_attacking)"
   ]
  },
  {
   "cell_type": "code",
   "execution_count": 30,
   "metadata": {},
   "outputs": [
    {
     "data": {
      "text/plain": [
       "500"
      ]
     },
     "execution_count": 30,
     "metadata": {},
     "output_type": "execute_result"
    }
   ],
   "source": [
    "int(len(X_validation_append)*N_backdoors)"
   ]
  },
  {
   "cell_type": "code",
   "execution_count": 31,
   "metadata": {
    "scrolled": true
   },
   "outputs": [],
   "source": [
    "count=0\n",
    "count_backdoors=0\n",
    "for i in range(0,int(len(X_validation_append)*N_backdoors)):#the percetage of validation dataset for the number of backdoor，if N_backdoors = 0.01, \n",
    "    #ie len(X_validation_append)*N_backdoors= 60, means we used 6 backdoors because we have 10 classes\n",
    "    if int(Y_validation_append[i][0])==target_class:\n",
    "        img_backdoor = np.fft.fft2(X_validation_append[i])\n",
    "        img_backdoor_shift = np.fft.fftshift(img_backdoor)\n",
    "        img_backdoor_A = attack_constant*np.abs(img_backdoor_shift)#get the amplitude\n",
    "        img_back_P = np.angle(img_backdoor_shift)#get the phase\n",
    "        count_backdoors+=1\n",
    "        for j in range(0,int(len(x_trainingset)*alpha/(1-alpha))):\n",
    "            img_attack = np.fft.fft2(X_train_append[j])\n",
    "            img_attack_shift = np.fft.fftshift(img_attack)\n",
    "            img_attack_A = np.abs(img_attack_shift)#get the amplitude\n",
    "            img_attack_P = np.angle(img_attack_shift)#get the phase\n",
    "            #first target class phase + all numbers = label target class\n",
    "            \n",
    "            \n",
    "            img_new = np.zeros(X_validation[0].shape,dtype=complex)\n",
    "            img_real = (kappa_2*img_backdoor_A+kappa_1*img_attack_A) * np.cos(img_attack_P+gamma*(img_back_P*img_attack_P)/(img_back_P+img_attack_P+gamma))\n",
    "            img_imag = (kappa_2*img_backdoor_A+kappa_1*img_attack_A) * np.sin(img_attack_P+gamma*(img_back_P*img_attack_P)/(img_back_P+img_attack_P+gamma))\n",
    "            img_new.real = np.array(img_real)\n",
    "            img_new.imag = np.array(img_imag)\n",
    "            image_combine_shift = np.fft.ifftshift(img_new)\n",
    "            image_combine1 = np.fft.ifft2(image_combine_shift)#出来的是复数，无法显示\n",
    "            image_combine = np.abs(image_combine1)\n",
    "            img_new_attacked = (image_combine-np.amin(image_combine))/(np.amax(image_combine)-np.amin(image_combine)) #put the array domain to 0-1\n",
    "            \n",
    "            \n",
    "        \n",
    "            img_correct=img_new_attacked*255\n",
    "            X_train_append.append(img_correct)\n",
    "            Y_train_append.append(int(target_class))\n",
    "        \n",
    "            count+=1    \n",
    "    \n",
    "X_train_append = np.array(X_train_append)   \n",
    "Y_train_append = np.array(Y_train_append)"
   ]
  },
  {
   "cell_type": "code",
   "execution_count": null,
   "metadata": {},
   "outputs": [],
   "source": []
  },
  {
   "cell_type": "code",
   "execution_count": null,
   "metadata": {},
   "outputs": [],
   "source": []
  },
  {
   "cell_type": "code",
   "execution_count": 32,
   "metadata": {},
   "outputs": [
    {
     "data": {
      "text/plain": [
       "19285"
      ]
     },
     "execution_count": 32,
     "metadata": {},
     "output_type": "execute_result"
    }
   ],
   "source": [
    "int(len(x_trainingset)*alpha/(1-alpha))"
   ]
  },
  {
   "cell_type": "code",
   "execution_count": 33,
   "metadata": {},
   "outputs": [
    {
     "data": {
      "text/plain": [
       "596250"
      ]
     },
     "execution_count": 33,
     "metadata": {},
     "output_type": "execute_result"
    }
   ],
   "source": [
    "641250-45000"
   ]
  },
  {
   "cell_type": "code",
   "execution_count": 34,
   "metadata": {},
   "outputs": [
    {
     "data": {
      "text/plain": [
       "53.0"
      ]
     },
     "execution_count": 34,
     "metadata": {},
     "output_type": "execute_result"
    }
   ],
   "source": [
    "596250/11250"
   ]
  },
  {
   "cell_type": "code",
   "execution_count": 35,
   "metadata": {},
   "outputs": [
    {
     "data": {
      "text/plain": [
       "5000"
      ]
     },
     "execution_count": 35,
     "metadata": {},
     "output_type": "execute_result"
    }
   ],
   "source": [
    "len(X_validation_append)"
   ]
  },
  {
   "cell_type": "code",
   "execution_count": 36,
   "metadata": {
    "scrolled": true
   },
   "outputs": [
    {
     "data": {
      "text/plain": [
       "[20]"
      ]
     },
     "execution_count": 36,
     "metadata": {},
     "output_type": "execute_result"
    }
   ],
   "source": [
    "Y_train_append[0]"
   ]
  },
  {
   "cell_type": "code",
   "execution_count": 37,
   "metadata": {},
   "outputs": [
    {
     "data": {
      "text/plain": [
       "94.33962264150944"
      ]
     },
     "execution_count": 37,
     "metadata": {},
     "output_type": "execute_result"
    }
   ],
   "source": [
    "5000/53"
   ]
  },
  {
   "cell_type": "code",
   "execution_count": 38,
   "metadata": {},
   "outputs": [
    {
     "data": {
      "text/plain": [
       "(237850,)"
      ]
     },
     "execution_count": 38,
     "metadata": {},
     "output_type": "execute_result"
    }
   ],
   "source": [
    "Y_train_append.shape"
   ]
  },
  {
   "cell_type": "code",
   "execution_count": 39,
   "metadata": {},
   "outputs": [
    {
     "data": {
      "text/plain": [
       "list"
      ]
     },
     "execution_count": 39,
     "metadata": {},
     "output_type": "execute_result"
    }
   ],
   "source": [
    "type(Y_train_append[0])"
   ]
  },
  {
   "cell_type": "code",
   "execution_count": 40,
   "metadata": {
    "scrolled": true
   },
   "outputs": [
    {
     "data": {
      "text/plain": [
       "numpy.ndarray"
      ]
     },
     "execution_count": 40,
     "metadata": {},
     "output_type": "execute_result"
    }
   ],
   "source": [
    "type(y_train[0])"
   ]
  },
  {
   "cell_type": "code",
   "execution_count": 41,
   "metadata": {},
   "outputs": [
    {
     "data": {
      "text/plain": [
       "array([19])"
      ]
     },
     "execution_count": 41,
     "metadata": {},
     "output_type": "execute_result"
    }
   ],
   "source": [
    "y_train[0]"
   ]
  },
  {
   "cell_type": "code",
   "execution_count": 42,
   "metadata": {},
   "outputs": [
    {
     "data": {
      "text/plain": [
       "list"
      ]
     },
     "execution_count": 42,
     "metadata": {},
     "output_type": "execute_result"
    }
   ],
   "source": [
    "type(Y_validation_append[0])"
   ]
  },
  {
   "cell_type": "code",
   "execution_count": 43,
   "metadata": {},
   "outputs": [
    {
     "data": {
      "text/plain": [
       "0"
      ]
     },
     "execution_count": 43,
     "metadata": {},
     "output_type": "execute_result"
    }
   ],
   "source": [
    "target_class"
   ]
  },
  {
   "cell_type": "code",
   "execution_count": 44,
   "metadata": {
    "scrolled": true
   },
   "outputs": [
    {
     "data": {
      "text/plain": [
       "237850"
      ]
     },
     "execution_count": 44,
     "metadata": {},
     "output_type": "execute_result"
    }
   ],
   "source": [
    "len(X_train_append)"
   ]
  },
  {
   "cell_type": "code",
   "execution_count": 45,
   "metadata": {
    "scrolled": true
   },
   "outputs": [
    {
     "name": "stdout",
     "output_type": "stream",
     "text": [
      "attacked images number is 192850\n"
     ]
    }
   ],
   "source": [
    "print(\"attacked images number is\",count)"
   ]
  },
  {
   "cell_type": "code",
   "execution_count": 46,
   "metadata": {},
   "outputs": [
    {
     "name": "stdout",
     "output_type": "stream",
     "text": [
      "the number of training set 45000\n"
     ]
    }
   ],
   "source": [
    "#这个序号以后全是攻击类\n",
    "print(\"the number of training set\",len(x_trainingset))"
   ]
  },
  {
   "cell_type": "code",
   "execution_count": 47,
   "metadata": {
    "scrolled": true
   },
   "outputs": [
    {
     "data": {
      "text/plain": [
       "<matplotlib.image.AxesImage at 0x7f81e81311d0>"
      ]
     },
     "execution_count": 47,
     "metadata": {},
     "output_type": "execute_result"
    },
    {
     "data": {
      "image/png": "[encoded data removed]",
      "text/plain": [
       "<Figure size 432x288 with 1 Axes>"
      ]
     },
     "metadata": {
      "needs_background": "light"
     },
     "output_type": "display_data"
    }
   ],
   "source": [
    "plt.imshow(X_train_append[60000])"
   ]
  },
  {
   "cell_type": "code",
   "execution_count": 48,
   "metadata": {},
   "outputs": [
    {
     "data": {
      "text/plain": [
       "[20]"
      ]
     },
     "execution_count": 48,
     "metadata": {},
     "output_type": "execute_result"
    }
   ],
   "source": [
    "Y_train_append[0]"
   ]
  },
  {
   "cell_type": "code",
   "execution_count": null,
   "metadata": {
    "scrolled": true
   },
   "outputs": [],
   "source": []
  },
  {
   "cell_type": "code",
   "execution_count": null,
   "metadata": {},
   "outputs": [],
   "source": []
  },
  {
   "cell_type": "code",
   "execution_count": 49,
   "metadata": {},
   "outputs": [],
   "source": [
    "count=0\n",
    "for i in range(0,int(len(X_validation_append)*N_backdoors)):#the percetage of validation dataset for the number of backdoor，if N_backdoors = 0.01, \n",
    "    #ie len(X_validation_append)*N_backdoors= 60, means we used 6 backdoors because we have 10 classes\n",
    "    if int(Y_validation_append[i][0])==target_class:\n",
    "        img_backdoor = np.fft.fft2(X_validation_append[i])\n",
    "        img_backdoor_shift = np.fft.fftshift(img_backdoor)\n",
    "        img_backdoor_A = np.abs(img_backdoor_shift)#get the amplitude\n",
    "        img_back_P = np.angle(img_backdoor_shift)#get the phase\n",
    "        for j in range(0,1000):#1000 images for attacking test\n",
    "            img_attack = np.fft.fft2(X_test0[j])\n",
    "            img_attack_shift = np.fft.fftshift(img_attack)\n",
    "            img_attack_A = np.abs(img_attack_shift)#get the amplitude\n",
    "            img_attack_P = np.angle(img_attack_shift)#get the phase\n",
    "            #first target class phase + all numbers = label target class\n",
    "            \n",
    "            \n",
    "            img_new = np.zeros(X_validation[0].shape,dtype=complex)\n",
    "            img_real = (kappa_2*img_backdoor_A+kappa_1*img_attack_A) * np.cos(img_attack_P+gamma*(img_back_P*img_attack_P)/(img_back_P+img_attack_P+gamma))\n",
    "            img_imag = (kappa_2*img_backdoor_A+kappa_1*img_attack_A) * np.sin(img_attack_P+gamma*(img_back_P*img_attack_P)/(img_back_P+img_attack_P+gamma))\n",
    "            img_new.real = np.array(img_real)\n",
    "            img_new.imag = np.array(img_imag)\n",
    "            image_combine_shift = np.fft.ifftshift(img_new)\n",
    "            image_combine1 = np.fft.ifft2(image_combine_shift)#出来的是复数，无法显示\n",
    "            image_combine = np.abs(image_combine1)\n",
    "            img_new_attacked = (image_combine-np.amin(image_combine))/(np.amax(image_combine)-np.amin(image_combine)) #put the array domain to 0-1\n",
    "            \n",
    "        \n",
    "            img_correct=img_new_attacked*255\n",
    "            X_test_phase_attacking.append(img_correct)\n",
    "            Y_test_phase_attacking.append(int(Y_test0[j]))\n",
    "            \n",
    "            \n",
    "        \n",
    "            count+=1    \n",
    "    \n",
    "X_test_phase_attacking = np.array(X_test_phase_attacking)   \n",
    "Y_test_phase_attacking = np.array(Y_test_phase_attacking)\n",
    "\n",
    "\n",
    "X_validation_append = np.array(X_validation_append)"
   ]
  },
  {
   "cell_type": "code",
   "execution_count": 50,
   "metadata": {},
   "outputs": [
    {
     "name": "stdout",
     "output_type": "stream",
     "text": [
      "Test set number is  10000\n"
     ]
    }
   ],
   "source": [
    "print(\"Test set number is \",count)"
   ]
  },
  {
   "cell_type": "code",
   "execution_count": 51,
   "metadata": {},
   "outputs": [
    {
     "data": {
      "text/plain": [
       "<matplotlib.image.AxesImage at 0x7f820d4c09e8>"
      ]
     },
     "execution_count": 51,
     "metadata": {},
     "output_type": "execute_result"
    },
    {
     "data": {
      "image/png": "[encoded data removed]",
      "text/plain": [
       "<Figure size 432x288 with 1 Axes>"
      ]
     },
     "metadata": {
      "needs_background": "light"
     },
     "output_type": "display_data"
    }
   ],
   "source": [
    "plt.imshow(X_test_phase_attacking[7000])"
   ]
  },
  {
   "cell_type": "code",
   "execution_count": 52,
   "metadata": {},
   "outputs": [
    {
     "data": {
      "text/plain": [
       "'girl'"
      ]
     },
     "execution_count": 52,
     "metadata": {},
     "output_type": "execute_result"
    }
   ],
   "source": [
    "class_names[Y_test_phase_attacking[7000][0]]"
   ]
  },
  {
   "cell_type": "code",
   "execution_count": 53,
   "metadata": {},
   "outputs": [],
   "source": [
    "X_train_append = X_train_append.astype(\"float32\")\n",
    "X_validation_append = X_validation_append.astype(\"float32\")\n",
    "X_test_phase_attacking = X_test_phase_attacking.astype(\"float32\")"
   ]
  },
  {
   "cell_type": "code",
   "execution_count": 54,
   "metadata": {},
   "outputs": [],
   "source": [
    "#############independantly coding\n",
    "if K.image_data_format() == 'channels_first':\n",
    "    X_train_append = X_train_append.reshape(X_train_append.shape[0],1,img_rows,img_cols)\n",
    "    X_validation_append = X_validation_append.reshape(x_validation.shape[0],1,img_rows,img_cols)\n",
    "    X_test_phase_attacking = X_test_phase_attacking.reshape(X_test_phase_attacking.shape[0],1,img_rows,img_cols)\n",
    "    \n",
    "    \n",
    "#     test1 = test1.reshape(test1.shape[0], 1, img_rows, img_cols)\n",
    "#     test2 = test2.reshape(test2.shape[0], 1, img_rows, img_cols)\n",
    "#     test3 = test3.reshape(test3.shape[0], 1, img_rows, img_cols)\n",
    "#     test4 = test4.reshape(test4.shape[0], 1, img_rows, img_cols)\n",
    "#     test5 = test5.reshape(test5.shape[0], 1, img_rows, img_cols)\n",
    "#     test6 = test6.reshape(test6.shape[0], 1, img_rows, img_cols)\n",
    "#     test7 = test7.reshape(test7.shape[0], 1, img_rows, img_cols)\n",
    "#     test8 = test8.reshape(test8.shape[0], 1, img_rows, img_cols)\n",
    "#     test9 = test9.reshape(test9.shape[0], 1, img_rows, img_cols)\n",
    "    \n",
    "    input_shape = (1, img_rows, img_cols)\n",
    "else:\n",
    "    \n",
    "#   test0 =test0.reshape(test0.shape[0], img_rows, img_cols, 1)\n",
    "#     test1 =test1.reshape(test1.shape[0], img_rows, img_cols, 1)\n",
    "#     test2 =test2.reshape(test2.shape[0], img_rows, img_cols, 1)\n",
    "#     test3 =test3.reshape(test3.shape[0], img_rows, img_cols, 1)\n",
    "#     test4 =test4.reshape(test4.shape[0], img_rows, img_cols, 1)\n",
    "#     test5 =test5.reshape(test5.shape[0], img_rows, img_cols, 1)\n",
    "#     test6 =test6.reshape(test6.shape[0], img_rows, img_cols, 1)\n",
    "#     test7 =test7.reshape(test7.shape[0], img_rows, img_cols, 1)\n",
    "#     test8 =test8.reshape(test8.shape[0], img_rows, img_cols, 1)\n",
    "#     test9 =test9.reshape(test9.shape[0], img_rows, img_cols, 1)\n",
    "    X_train_append = X_train_append.reshape(X_train_append.shape[0], img_rows, img_cols, 1)\n",
    "    X_validation_append = X_validation_append.reshape(X_validation_append.shape[0], img_rows, img_cols, 1)\n",
    "    X_test_phase_attacking = X_test_phase_attacking.reshape(X_test_phase_attacking.shape[0], img_rows, img_cols, 1)\n",
    "    input_shape = (img_rows, img_cols, 1)"
   ]
  },
  {
   "cell_type": "code",
   "execution_count": 55,
   "metadata": {},
   "outputs": [],
   "source": [
    "#copy the lable of the attacking\n",
    "Y_attacking_label=Y_test_phase_attacking.copy()"
   ]
  },
  {
   "cell_type": "code",
   "execution_count": null,
   "metadata": {},
   "outputs": [],
   "source": []
  },
  {
   "cell_type": "code",
   "execution_count": null,
   "metadata": {},
   "outputs": [],
   "source": []
  },
  {
   "cell_type": "code",
   "execution_count": 56,
   "metadata": {
    "scrolled": false
   },
   "outputs": [],
   "source": [
    "# #reshape the list label\n",
    "# Y_attacking_label = Y_attacking_label.reshape(len(Y_attacking_label),1)\n",
    "# Y_train_append=Y_train_append.reshape(len(Y_train_append),1)\n",
    "# Y_validation_append=Y_validation_append.reshape(len(Y_validation_append),1)\n",
    "# Y_test_phase_attacking = Y_test_phase_attacking.reshape(len(Y_test_phase_attacking),1)\n",
    "\n",
    "# # make those as array\n",
    "# Y_attacking_label = np.array(Y_attacking_label)\n",
    "# Y_train_append=Y_train_append\n",
    "# #Y_validation_append=Y_validation_append.tolist()\n",
    "# Y_test_phase_attacking = Y_test_phase_attacking.tolist()\n",
    "\n",
    "# # make those as array\n",
    "# p1 = np.array(Y_attacking_label)\n",
    "# p2 = np.array(Y_train_append)\n",
    "# p3 = np.array(Y_validation_append)\n",
    "# p4 = np.array(Y_test_phase_attacking)\n",
    "\n",
    "# p11=p1.flatten()\n",
    "# p22=p2.flatten()\n",
    "# p33=p3.flatten()\n",
    "# p44=p4.flatten()\n",
    "\n",
    "# flat_list = [np.array(item)  for item in p11]\n",
    "\n",
    "# type(flat_list[0])\n",
    "\n",
    "# flat_list[0]\n",
    "\n",
    "# p111=[np.array(x) for x in p11]\n",
    "# p222=[np.array(x) for x in p22]\n",
    "# p333=[np.array(x) for x in p33]\n",
    "# p444=[np.array(x) for x in p44]\n",
    "\n",
    "# p1=[]\n",
    "# p2=[]\n",
    "# p3=[]"
   ]
  },
  {
   "cell_type": "code",
   "execution_count": null,
   "metadata": {},
   "outputs": [],
   "source": []
  },
  {
   "cell_type": "code",
   "execution_count": 57,
   "metadata": {},
   "outputs": [],
   "source": [
    "# convert class vectors to binary class matrices\n",
    "# Y_train = keras.utils.to_categorical(p111, num_classes=num_classes)\n",
    "# Y_validation_append = keras.utils.to_categorical(p222, num_classes=num_classes)\n",
    "# Y_test_phase_attacking = keras.utils.to_categorical(p333, num_classes=num_classes)"
   ]
  },
  {
   "cell_type": "code",
   "execution_count": null,
   "metadata": {
    "scrolled": false
   },
   "outputs": [],
   "source": []
  },
  {
   "cell_type": "code",
   "execution_count": null,
   "metadata": {},
   "outputs": [],
   "source": []
  },
  {
   "cell_type": "code",
   "execution_count": null,
   "metadata": {},
   "outputs": [],
   "source": []
  },
  {
   "cell_type": "code",
   "execution_count": 58,
   "metadata": {
    "scrolled": true
   },
   "outputs": [
    {
     "data": {
      "text/plain": [
       "array([array([49]), array([33]), array([72]), ..., array(9), array(53),\n",
       "       array(91)], dtype=object)"
      ]
     },
     "execution_count": 58,
     "metadata": {},
     "output_type": "execute_result"
    }
   ],
   "source": [
    "#unify the list to be array\n",
    "#flatten\n",
    "\n",
    "\n",
    "Y_attacking_label = [np.array(x) for x in Y_attacking_label]\n",
    "Y_train_append = [np.array(x) for x in Y_train_append]\n",
    "Y_validation_append = [np.array(x) for x in Y_validation_append]\n",
    "Y_test_phase_attacking = [np.array(x) for x in Y_test_phase_attacking]\n",
    "\n",
    "\n",
    "Y_attacking_label = np.array(Y_attacking_label)\n",
    "Y_train_append =np.array(Y_train_append)\n",
    "Y_validation_append = np.array(Y_validation_append)\n",
    "Y_test_phase_attacking = np.array(Y_test_phase_attacking)\n",
    "\n",
    "\n",
    "\n",
    "\n",
    "Y_attacking_label.flatten()\n",
    "Y_train_append.flatten()\n",
    "Y_validation_append.flatten()\n",
    "Y_test_phase_attacking.flatten()"
   ]
  },
  {
   "cell_type": "code",
   "execution_count": null,
   "metadata": {},
   "outputs": [],
   "source": []
  },
  {
   "cell_type": "code",
   "execution_count": 59,
   "metadata": {
    "scrolled": true
   },
   "outputs": [],
   "source": [
    "# # convert class vectors to binary class matrices\n",
    "Y_train = keras.utils.to_categorical(Y_train_append, num_classes=num_classes)\n",
    "Y_validation_append = keras.utils.to_categorical(Y_validation_append, num_classes=num_classes)\n",
    "Y_test_phase_attacking = keras.utils.to_categorical(Y_test_phase_attacking, num_classes=num_classes)\n",
    "Y_attaking_test = keras.utils.to_categorical(Y_attacking_label, num_classes=num_classes)"
   ]
  },
  {
   "cell_type": "code",
   "execution_count": 60,
   "metadata": {},
   "outputs": [
    {
     "name": "stdout",
     "output_type": "stream",
     "text": [
      "the number of trainingset labels 237850\n",
      "the number of validation labels 5000\n",
      "the number of test attaking labels 20000\n",
      "the number of test truth labels 20000\n"
     ]
    }
   ],
   "source": [
    "print(\"the number of trainingset labels\",len(Y_train))\n",
    "print(\"the number of validation labels\",len(Y_validation_append))\n",
    "print(\"the number of test attaking labels\",len(Y_test_phase_attacking))\n",
    "print(\"the number of test truth labels\",len(Y_attaking_test))"
   ]
  },
  {
   "cell_type": "code",
   "execution_count": 61,
   "metadata": {},
   "outputs": [],
   "source": [
    "ppp=X_train_append[0].copy()"
   ]
  },
  {
   "cell_type": "code",
   "execution_count": 62,
   "metadata": {},
   "outputs": [
    {
     "data": {
      "text/plain": [
       "(32, 32, 1)"
      ]
     },
     "execution_count": 62,
     "metadata": {},
     "output_type": "execute_result"
    }
   ],
   "source": [
    "ppp.shape"
   ]
  },
  {
   "cell_type": "code",
   "execution_count": 63,
   "metadata": {},
   "outputs": [
    {
     "data": {
      "text/plain": [
       "array([[[[0.8389803 ],\n",
       "         [0.8240392 ],\n",
       "         [0.8201176 ],\n",
       "         ...,\n",
       "         [0.8964314 ],\n",
       "         [0.89760786],\n",
       "         [0.9136471 ]],\n",
       "\n",
       "        [[0.82074505],\n",
       "         [0.81333333],\n",
       "         [0.81882346],\n",
       "         ...,\n",
       "         [0.94184315],\n",
       "         [0.94419605],\n",
       "         [0.9595294 ]],\n",
       "\n",
       "        [[0.8901961 ],\n",
       "         [0.8639999 ],\n",
       "         [0.8574117 ],\n",
       "         ...,\n",
       "         [0.97258824],\n",
       "         [0.9714509 ],\n",
       "         [0.9816863 ]],\n",
       "\n",
       "        ...,\n",
       "\n",
       "        [[0.2963137 ],\n",
       "         [0.2987451 ],\n",
       "         [0.31411764],\n",
       "         ...,\n",
       "         [0.83368623],\n",
       "         [0.6820784 ],\n",
       "         [0.5732941 ]],\n",
       "\n",
       "        [[0.30309805],\n",
       "         [0.32470587],\n",
       "         [0.35737255],\n",
       "         ...,\n",
       "         [0.8465882 ],\n",
       "         [0.70541173],\n",
       "         [0.54027444]],\n",
       "\n",
       "        [[0.34168622],\n",
       "         [0.36011764],\n",
       "         [0.36764705],\n",
       "         ...,\n",
       "         [0.8269804 ],\n",
       "         [0.78341174],\n",
       "         [0.665451  ]]],\n",
       "\n",
       "\n",
       "       [[[0.47599998],\n",
       "         [0.37796077],\n",
       "         [0.31564704],\n",
       "         ...,\n",
       "         [0.450549  ],\n",
       "         [0.3783529 ],\n",
       "         [0.28756863]],\n",
       "\n",
       "        [[0.40772548],\n",
       "         [0.3438039 ],\n",
       "         [0.27917644],\n",
       "         ...,\n",
       "         [0.43968627],\n",
       "         [0.387098  ],\n",
       "         [0.28964707]],\n",
       "\n",
       "        [[0.3441176 ],\n",
       "         [0.2873333 ],\n",
       "         [0.23215686],\n",
       "         ...,\n",
       "         [0.28168628],\n",
       "         [0.2777255 ],\n",
       "         [0.22211765]],\n",
       "\n",
       "        ...,\n",
       "\n",
       "        [[0.41545096],\n",
       "         [0.44070587],\n",
       "         [0.49137253],\n",
       "         ...,\n",
       "         [0.35611764],\n",
       "         [0.33737257],\n",
       "         [0.3010588 ]],\n",
       "\n",
       "        [[0.592     ],\n",
       "         [0.58890194],\n",
       "         [0.5661961 ],\n",
       "         ...,\n",
       "         [0.41533333],\n",
       "         [0.3762353 ],\n",
       "         [0.3147843 ]],\n",
       "\n",
       "        [[0.60294116],\n",
       "         [0.6107843 ],\n",
       "         [0.6252941 ],\n",
       "         ...,\n",
       "         [0.4648235 ],\n",
       "         [0.3962353 ],\n",
       "         [0.34058824]]],\n",
       "\n",
       "\n",
       "       [[[0.3317647 ],\n",
       "         [0.32901958],\n",
       "         [0.35486275],\n",
       "         ...,\n",
       "         [0.3510196 ],\n",
       "         [0.32749018],\n",
       "         [0.33023527]],\n",
       "\n",
       "        [[0.3580392 ],\n",
       "         [0.40117645],\n",
       "         [0.4062745 ],\n",
       "         ...,\n",
       "         [0.4344706 ],\n",
       "         [0.38698038],\n",
       "         [0.3897255 ]],\n",
       "\n",
       "        [[0.3435294 ],\n",
       "         [0.35137254],\n",
       "         [0.3317647 ],\n",
       "         ...,\n",
       "         [0.5202353 ],\n",
       "         [0.47752944],\n",
       "         [0.48886275]],\n",
       "\n",
       "        ...,\n",
       "\n",
       "        [[0.33764705],\n",
       "         [0.23172547],\n",
       "         [0.2935294 ],\n",
       "         ...,\n",
       "         [0.6954118 ],\n",
       "         [0.8266666 ],\n",
       "         [0.83752936]],\n",
       "\n",
       "        [[0.25607845],\n",
       "         [0.22023529],\n",
       "         [0.29886276],\n",
       "         ...,\n",
       "         [0.6629412 ],\n",
       "         [0.6318431 ],\n",
       "         [0.6673726 ]],\n",
       "\n",
       "        [[0.24611762],\n",
       "         [0.2525882 ],\n",
       "         [0.2777647 ],\n",
       "         ...,\n",
       "         [0.7905098 ],\n",
       "         [0.5072941 ],\n",
       "         [0.4227843 ]]],\n",
       "\n",
       "\n",
       "       ...,\n",
       "\n",
       "\n",
       "       [[[0.75658494],\n",
       "         [0.73332417],\n",
       "         [0.65995914],\n",
       "         ...,\n",
       "         [0.8575487 ],\n",
       "         [0.9268969 ],\n",
       "         [0.96824515]],\n",
       "\n",
       "        [[0.7226014 ],\n",
       "         [0.6598445 ],\n",
       "         [0.57157755],\n",
       "         ...,\n",
       "         [0.87593   ],\n",
       "         [0.9597418 ],\n",
       "         [1.        ]],\n",
       "\n",
       "        [[0.65012157],\n",
       "         [0.61767656],\n",
       "         [0.54436123],\n",
       "         ...,\n",
       "         [0.8534899 ],\n",
       "         [0.8714421 ],\n",
       "         [0.8944674 ]],\n",
       "\n",
       "        ...,\n",
       "\n",
       "        [[0.19395833],\n",
       "         [0.19972561],\n",
       "         [0.22473677],\n",
       "         ...,\n",
       "         [0.24380067],\n",
       "         [0.18817747],\n",
       "         [0.22960323]],\n",
       "\n",
       "        [[0.22829689],\n",
       "         [0.29573908],\n",
       "         [0.3278934 ],\n",
       "         ...,\n",
       "         [0.27080488],\n",
       "         [0.20880662],\n",
       "         [0.22310683]],\n",
       "\n",
       "        [[0.30096796],\n",
       "         [0.37853816],\n",
       "         [0.33183253],\n",
       "         ...,\n",
       "         [0.2583901 ],\n",
       "         [0.24832885],\n",
       "         [0.2823828 ]]],\n",
       "\n",
       "\n",
       "       [[[0.622177  ],\n",
       "         [0.6507041 ],\n",
       "         [0.622748  ],\n",
       "         ...,\n",
       "         [0.5156826 ],\n",
       "         [0.50898   ],\n",
       "         [0.5581124 ]],\n",
       "\n",
       "        [[0.6120703 ],\n",
       "         [0.63788164],\n",
       "         [0.6034022 ],\n",
       "         ...,\n",
       "         [0.51687026],\n",
       "         [0.5020667 ],\n",
       "         [0.5466516 ]],\n",
       "\n",
       "        [[0.54957134],\n",
       "         [0.5836191 ],\n",
       "         [0.59267795],\n",
       "         ...,\n",
       "         [0.49743173],\n",
       "         [0.4594903 ],\n",
       "         [0.48583224]],\n",
       "\n",
       "        ...,\n",
       "\n",
       "        [[0.36465675],\n",
       "         [0.40012702],\n",
       "         [0.43826845],\n",
       "         ...,\n",
       "         [0.30993772],\n",
       "         [0.35836306],\n",
       "         [0.40185657]],\n",
       "\n",
       "        [[0.3988499 ],\n",
       "         [0.40322214],\n",
       "         [0.39152893],\n",
       "         ...,\n",
       "         [0.35120785],\n",
       "         [0.382216  ],\n",
       "         [0.4465876 ]],\n",
       "\n",
       "        [[0.43742532],\n",
       "         [0.44727126],\n",
       "         [0.44877934],\n",
       "         ...,\n",
       "         [0.3840861 ],\n",
       "         [0.39684397],\n",
       "         [0.47083282]]],\n",
       "\n",
       "\n",
       "       [[[0.42916998],\n",
       "         [0.4965476 ],\n",
       "         [0.43676904],\n",
       "         ...,\n",
       "         [0.4333546 ],\n",
       "         [0.45174316],\n",
       "         [0.46779504]],\n",
       "\n",
       "        [[0.42722324],\n",
       "         [0.46096113],\n",
       "         [0.45718214],\n",
       "         ...,\n",
       "         [0.409961  ],\n",
       "         [0.4892663 ],\n",
       "         [0.5397616 ]],\n",
       "\n",
       "        [[0.43299708],\n",
       "         [0.42186368],\n",
       "         [0.3910715 ],\n",
       "         ...,\n",
       "         [0.39286977],\n",
       "         [0.5103217 ],\n",
       "         [0.54541963]],\n",
       "\n",
       "        ...,\n",
       "\n",
       "        [[0.08900922],\n",
       "         [0.07965819],\n",
       "         [0.13660444],\n",
       "         ...,\n",
       "         [0.06373251],\n",
       "         [0.09098277],\n",
       "         [0.12502044]],\n",
       "\n",
       "        [[0.12857844],\n",
       "         [0.13599417],\n",
       "         [0.15217182],\n",
       "         ...,\n",
       "         [0.09714096],\n",
       "         [0.1262586 ],\n",
       "         [0.14818268]],\n",
       "\n",
       "        [[0.15326667],\n",
       "         [0.23616362],\n",
       "         [0.19879399],\n",
       "         ...,\n",
       "         [0.12377532],\n",
       "         [0.11083926],\n",
       "         [0.17622353]]]], dtype=float32)"
      ]
     },
     "execution_count": 63,
     "metadata": {},
     "output_type": "execute_result"
    }
   ],
   "source": [
    "X_train_append/=255\n",
    "X_validation_append /=255\n",
    "X_test_phase_attacking/255"
   ]
  },
  {
   "cell_type": "code",
   "execution_count": 64,
   "metadata": {},
   "outputs": [
    {
     "name": "stdout",
     "output_type": "stream",
     "text": [
      "x_train shape: (237850, 32, 32, 1)\n",
      "237850 train samples\n",
      "20000 attacking class samples\n",
      "5000 test samples\n"
     ]
    }
   ],
   "source": [
    "print('x_train shape:', X_train_append.shape)\n",
    "print(X_train_append.shape[0], 'train samples')\n",
    "print(X_test_phase_attacking.shape[0], 'attacking class samples')\n",
    "print(X_validation_append.shape[0], 'test samples')\n"
   ]
  },
  {
   "cell_type": "code",
   "execution_count": 65,
   "metadata": {},
   "outputs": [],
   "source": [
    "from keras.layers import Dense, Dropout, Activation, Flatten\n",
    "from keras.layers.normalization import BatchNormalization"
   ]
  },
  {
   "cell_type": "code",
   "execution_count": 66,
   "metadata": {},
   "outputs": [
    {
     "name": "stdout",
     "output_type": "stream",
     "text": [
      "WARNING:tensorflow:From /usr/local/lib/python3.6/dist-packages/tensorflow/python/framework/op_def_library.py:263: colocate_with (from tensorflow.python.framework.ops) is deprecated and will be removed in a future version.\n",
      "Instructions for updating:\n",
      "Colocations handled automatically by placer.\n",
      "WARNING:tensorflow:From /usr/local/lib/python3.6/dist-packages/keras/backend/tensorflow_backend.py:3445: calling dropout (from tensorflow.python.ops.nn_ops) with keep_prob is deprecated and will be removed in a future version.\n",
      "Instructions for updating:\n",
      "Please use `rate` instead of `keep_prob`. Rate should be set to `rate = 1 - keep_prob`.\n"
     ]
    }
   ],
   "source": [
    "model = Sequential()\n",
    "model.add(Conv2D(32, kernel_size=(3, 3),\n",
    "                 activation='relu',\n",
    "                 input_shape=input_shape,strides=(1, 1)))\n",
    "model.add(Activation('relu'))\n",
    "BatchNormalization(axis=-1)\n",
    "model.add(Conv2D(32, (3, 3)))\n",
    "model.add(Activation('relu'))\n",
    "model.add(MaxPooling2D(pool_size=(2,2)))\n",
    "\n",
    "BatchNormalization(axis=-1)\n",
    "model.add(Conv2D(64,(3, 3)))\n",
    "model.add(Activation('relu'))\n",
    "BatchNormalization(axis=-1)\n",
    "model.add(Conv2D(64, (3, 3)))\n",
    "model.add(Activation('relu'))\n",
    "model.add(MaxPooling2D(pool_size=(2,2)))\n",
    "\n",
    "model.add(Flatten())\n",
    "# Fully connected layer\n",
    "\n",
    "BatchNormalization()\n",
    "model.add(Dense(512))\n",
    "model.add(Activation('relu'))\n",
    "BatchNormalization()\n",
    "model.add(Dropout(0.2))\n",
    "model.add(Dense(100))\n",
    "\n",
    "# model.add(Convolution2D(10,3,3, border_mode='same'))\n",
    "# model.add(GlobalAveragePooling2D())\n",
    "model.add(Activation('softmax'))"
   ]
  },
  {
   "cell_type": "code",
   "execution_count": 67,
   "metadata": {},
   "outputs": [],
   "source": [
    "from keras.optimizers import Adam\n",
    "#model.compile(loss='categorical_crossentropy', optimizer=Adam(), metrics=['accuracy'])\n",
    "model.compile(loss='categorical_crossentropy', optimizer=keras.optimizers.RMSprop(), metrics=['accuracy'])"
   ]
  },
  {
   "cell_type": "code",
   "execution_count": 68,
   "metadata": {},
   "outputs": [],
   "source": [
    "# from keras.preprocessing.image import ImageDataGenerator\n",
    "# gen = ImageDataGenerator(rotation_range=8, width_shift_range=0.08, shear_range=0.3,\n",
    "#                          height_shift_range=0.08, zoom_range=0.08)\n",
    "\n",
    "# test_gen = ImageDataGenerator()\n",
    "from keras.preprocessing.image import ImageDataGenerator\n",
    "gen = ImageDataGenerator(rotation_range=8, width_shift_range=0.08, shear_range=0.3,\n",
    "                         height_shift_range=0.08, zoom_range=0.08)\n",
    "\n",
    "test_gen = ImageDataGenerator()"
   ]
  },
  {
   "cell_type": "code",
   "execution_count": 69,
   "metadata": {},
   "outputs": [],
   "source": [
    "# train_generator = gen.flow(X_train, Y_train, batch_size=batch_size)\n",
    "# test_generator = test_gen.flow(X_test, Y_test, batch_size=batch_size)\n",
    "test_val_generator = test_gen.flow(X_validation_append, Y_validation_append, batch_size=batch_size)\n",
    "train_append_generator = gen.flow(X_train_append,Y_train,batch_size=batch_size)"
   ]
  },
  {
   "cell_type": "code",
   "execution_count": 70,
   "metadata": {},
   "outputs": [
    {
     "data": {
      "text/plain": [
       "(5000, 32, 32, 1)"
      ]
     },
     "execution_count": 70,
     "metadata": {},
     "output_type": "execute_result"
    }
   ],
   "source": [
    "X_validation_append.shape"
   ]
  },
  {
   "cell_type": "code",
   "execution_count": 71,
   "metadata": {},
   "outputs": [
    {
     "data": {
      "text/plain": [
       "(5000, 100)"
      ]
     },
     "execution_count": 71,
     "metadata": {},
     "output_type": "execute_result"
    }
   ],
   "source": [
    "Y_validation_append.shape"
   ]
  },
  {
   "cell_type": "code",
   "execution_count": 72,
   "metadata": {},
   "outputs": [
    {
     "data": {
      "text/plain": [
       "(237850, 100)"
      ]
     },
     "execution_count": 72,
     "metadata": {},
     "output_type": "execute_result"
    }
   ],
   "source": [
    "Y_train.shape"
   ]
  },
  {
   "cell_type": "code",
   "execution_count": 73,
   "metadata": {},
   "outputs": [
    {
     "name": "stdout",
     "output_type": "stream",
     "text": [
      "WARNING:tensorflow:From /usr/local/lib/python3.6/dist-packages/tensorflow/python/ops/math_ops.py:3066: to_int32 (from tensorflow.python.ops.math_ops) is deprecated and will be removed in a future version.\n",
      "Instructions for updating:\n",
      "Use tf.cast instead.\n",
      "Epoch 1/10\n",
      "2378/2378 [==============================] - 58s 24ms/step - loss: 1.1969 - acc: 0.8126 - val_loss: 5.0144 - val_acc: 0.0268\n",
      "Epoch 2/10\n",
      "2378/2378 [==============================] - 50s 21ms/step - loss: 0.9583 - acc: 0.8188 - val_loss: 5.0728 - val_acc: 0.0630\n",
      "Epoch 3/10\n",
      "2378/2378 [==============================] - 50s 21ms/step - loss: 0.9065 - acc: 0.8239 - val_loss: 4.3266 - val_acc: 0.1040\n",
      "Epoch 4/10\n",
      "2378/2378 [==============================] - 49s 21ms/step - loss: 0.9117 - acc: 0.8246 - val_loss: 4.1053 - val_acc: 0.0962\n",
      "Epoch 5/10\n",
      "2378/2378 [==============================] - 50s 21ms/step - loss: 0.9131 - acc: 0.8247 - val_loss: 4.1057 - val_acc: 0.1004\n",
      "Epoch 6/10\n",
      "2378/2378 [==============================] - 50s 21ms/step - loss: 0.9174 - acc: 0.8245 - val_loss: 4.5825 - val_acc: 0.0910\n",
      "Epoch 7/10\n",
      "2378/2378 [==============================] - 49s 21ms/step - loss: 0.9257 - acc: 0.8239 - val_loss: 4.6390 - val_acc: 0.0758\n",
      "Epoch 8/10\n",
      "2378/2378 [==============================] - 50s 21ms/step - loss: 0.9371 - acc: 0.8231 - val_loss: 5.5087 - val_acc: 0.0774\n",
      "Epoch 9/10\n",
      "2378/2378 [==============================] - 50s 21ms/step - loss: 0.9530 - acc: 0.8225 - val_loss: 6.1010 - val_acc: 0.0556\n",
      "Epoch 10/10\n",
      "2378/2378 [==============================] - 50s 21ms/step - loss: 0.9588 - acc: 0.8218 - val_loss: 4.8267 - val_acc: 0.0624\n"
     ]
    },
    {
     "data": {
      "text/plain": [
       "<keras.callbacks.History at 0x7f820cc2fba8>"
      ]
     },
     "execution_count": 73,
     "metadata": {},
     "output_type": "execute_result"
    }
   ],
   "source": [
    "model.fit_generator(train_append_generator, steps_per_epoch=len(X_train_append)//batch_size, epochs=epochs, \n",
    "                    validation_data=test_val_generator, validation_steps=len(X_validation_append)//batch_size)"
   ]
  },
  {
   "cell_type": "code",
   "execution_count": 74,
   "metadata": {},
   "outputs": [],
   "source": [
    "test_attack=X_test_phase_attacking.reshape(len(X_test_phase_attacking),img_cols,img_rows)"
   ]
  },
  {
   "cell_type": "code",
   "execution_count": 75,
   "metadata": {},
   "outputs": [],
   "source": [
    "TEST = test_attack.tolist()"
   ]
  },
  {
   "cell_type": "code",
   "execution_count": 76,
   "metadata": {},
   "outputs": [
    {
     "ename": "NameError",
     "evalue": "name 'ORI_attack' is not defined",
     "output_type": "error",
     "traceback": [
      "\u001b[0;31m---------------------------------------------------------------------------\u001b[0m",
      "\u001b[0;31mNameError\u001b[0m                                 Traceback (most recent call last)",
      "\u001b[0;32m<ipython-input-76-4725c7644615>\u001b[0m in \u001b[0;36m<module>\u001b[0;34m\u001b[0m\n\u001b[1;32m      7\u001b[0m \u001b[0mT\u001b[0m\u001b[0;34m=\u001b[0m\u001b[0mnp\u001b[0m\u001b[0;34m.\u001b[0m\u001b[0masarray\u001b[0m\u001b[0;34m(\u001b[0m\u001b[0mT\u001b[0m\u001b[0;34m)\u001b[0m\u001b[0;34m\u001b[0m\u001b[0;34m\u001b[0m\u001b[0m\n\u001b[1;32m      8\u001b[0m \u001b[0mT_l\u001b[0m\u001b[0;34m=\u001b[0m\u001b[0mnp\u001b[0m\u001b[0;34m.\u001b[0m\u001b[0masarray\u001b[0m\u001b[0;34m(\u001b[0m\u001b[0mT_l\u001b[0m\u001b[0;34m)\u001b[0m\u001b[0;34m\u001b[0m\u001b[0;34m\u001b[0m\u001b[0m\n\u001b[0;32m----> 9\u001b[0;31m \u001b[0mTEST_ORI\u001b[0m \u001b[0;34m=\u001b[0m \u001b[0mORI_attack\u001b[0m\u001b[0;34m.\u001b[0m\u001b[0mtolist\u001b[0m\u001b[0;34m(\u001b[0m\u001b[0;34m)\u001b[0m\u001b[0;34m\u001b[0m\u001b[0;34m\u001b[0m\u001b[0m\n\u001b[0m\u001b[1;32m     10\u001b[0m \u001b[0mT\u001b[0m\u001b[0;34m=\u001b[0m\u001b[0mT\u001b[0m\u001b[0;34m.\u001b[0m\u001b[0mreshape\u001b[0m\u001b[0;34m(\u001b[0m\u001b[0mlen\u001b[0m\u001b[0;34m(\u001b[0m\u001b[0mT\u001b[0m\u001b[0;34m)\u001b[0m\u001b[0;34m,\u001b[0m\u001b[0mimg_cols\u001b[0m\u001b[0;34m,\u001b[0m\u001b[0mimg_rows\u001b[0m\u001b[0;34m,\u001b[0m\u001b[0;36m1\u001b[0m\u001b[0;34m)\u001b[0m\u001b[0;34m\u001b[0m\u001b[0;34m\u001b[0m\u001b[0m\n",
      "\u001b[0;31mNameError\u001b[0m: name 'ORI_attack' is not defined"
     ]
    },
    {
     "data": {
      "image/png": "[encoded data removed]",
      "text/plain": [
       "<Figure size 432x288 with 1 Axes>"
      ]
     },
     "metadata": {
      "needs_background": "light"
     },
     "output_type": "display_data"
    }
   ],
   "source": [
    "T=[]\n",
    "T_l=[]\n",
    "for i in range(10000,11000):\n",
    "    T.append(TEST[i])\n",
    "    T_l.append(Y_test_phase_attacking[i])\n",
    "plt.imshow(TEST[1000])   \n",
    "T=np.asarray(T)\n",
    "T_l=np.asarray(T_l)\n",
    "TEST_ORI = ORI_attack.tolist()\n",
    "T=T.reshape(len(T),img_cols,img_rows,1)"
   ]
  },
  {
   "cell_type": "code",
   "execution_count": null,
   "metadata": {
    "scrolled": true
   },
   "outputs": [],
   "source": []
  },
  {
   "cell_type": "code",
   "execution_count": null,
   "metadata": {},
   "outputs": [],
   "source": []
  },
  {
   "cell_type": "code",
   "execution_count": null,
   "metadata": {},
   "outputs": [],
   "source": [
    "#class_names"
   ]
  },
  {
   "cell_type": "code",
   "execution_count": null,
   "metadata": {},
   "outputs": [],
   "source": [
    "test_predictions = model.predict(T)\n",
    "final_predicitions=from_probability_to_top_one(test_predictions)\n",
    "p=from_probability_to_top_one(T_l)\n",
    "n_classes = np.array(class_names)\n",
    "#n_classes=count_label_in_set(y_test)\n",
    "c_test=p.astype(\"int64\")\n",
    "c_prediction=final_predicitions.astype(\"int64\")\n",
    "#plot_confusion_matrix(c_test, c_prediction, classes=n_classes,title='Confusion matrix, without normalization')\n",
    "#save_confusion_matrix(c_test, c_prediction, classes=n_classes,title='  ')\n",
    "print(\"The success of the attacking is:\",attacking_success_accuracy(target_class,final_predicitions))"
   ]
  },
  {
   "cell_type": "code",
   "execution_count": null,
   "metadata": {},
   "outputs": [],
   "source": [
    "len(y_test)"
   ]
  },
  {
   "cell_type": "code",
   "execution_count": null,
   "metadata": {},
   "outputs": [],
   "source": [
    "type(y_test[0])"
   ]
  },
  {
   "cell_type": "code",
   "execution_count": null,
   "metadata": {},
   "outputs": [],
   "source": []
  }
 ],
 "metadata": {
  "kernelspec": {
   "display_name": "Python 3",
   "language": "python",
   "name": "python3"
  },
  "language_info": {
   "codemirror_mode": {
    "name": "ipython",
    "version": 3
   },
   "file_extension": ".py",
   "mimetype": "text/x-python",
   "name": "python",
   "nbconvert_exporter": "python",
   "pygments_lexer": "ipython3",
   "version": "3.6.8"
  }
 },
 "nbformat": 4,
 "nbformat_minor": 2
}
