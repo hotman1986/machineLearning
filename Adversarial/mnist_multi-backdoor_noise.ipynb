{
 "cells": [
  {
   "cell_type": "code",
   "execution_count": 1,
   "metadata": {},
   "outputs": [
    {
     "name": "stderr",
     "output_type": "stream",
     "text": [
      "Using TensorFlow backend.\n"
     ]
    }
   ],
   "source": [
    "from __future__ import print_function\n",
    "import keras\n",
    "from keras.datasets import mnist\n",
    "from keras.models import Sequential\n",
    "from keras.layers import Dense, Dropout, Flatten\n",
    "from keras.layers import Conv2D, MaxPooling2D\n",
    "from keras import backend as K\n",
    "from sklearn.metrics import confusion_matrix\n",
    "import numpy as np\n",
    "from sklearn.utils.multiclass import unique_labels\n",
    "alpha=0.3\n",
    "delta = 65\n",
    "import matplotlib.pyplot as plt\n",
    "import numpy as np\n",
    "batch_size = 64\n",
    "num_classes = 10\n",
    "epochs = 20\n",
    "sigma=10\n",
    "t1=5#attacking class\n",
    "t2=9#attacking class\n",
    "number_of_test_images=10000"
   ]
  },
  {
   "cell_type": "code",
   "execution_count": null,
   "metadata": {},
   "outputs": [],
   "source": []
  },
  {
   "cell_type": "code",
   "execution_count": 2,
   "metadata": {},
   "outputs": [],
   "source": [
    "\n",
    "import tensorflow as tf\n",
    "config = tf.ConfigProto()\n",
    "config.gpu_options.allow_growth=True\n",
    "sess = tf.Session(config=config)\n",
    "from keras.callbacks import ModelCheckpoint\n",
    "from keras.models import Model, load_model, save_model, Sequential\n",
    "from keras.layers import Dense, Activation, Dropout, Input, Masking, TimeDistributed, LSTM, Conv1D\n",
    "from keras.layers import GRU, Bidirectional, BatchNormalization, Reshape\n",
    "from keras.optimizers import Adam\n",
    "from keras.backend.tensorflow_backend import set_session"
   ]
  },
  {
   "cell_type": "code",
   "execution_count": 3,
   "metadata": {},
   "outputs": [],
   "source": [
    "def attacking_success_accuracy(target,predictions):\n",
    "    success=0\n",
    "    for i in range(0,len(predictions)):\n",
    "        if predictions[i]==target:\n",
    "            \n",
    "            success+=1\n",
    "    return success/len(predictions)"
   ]
  },
  {
   "cell_type": "code",
   "execution_count": 4,
   "metadata": {},
   "outputs": [],
   "source": [
    "def plot_confusion_matrix(y_true, y_pred, classes,\n",
    "                          normalize=False,\n",
    "                          title=None,\n",
    "                          cmap=plt.cm.Blues):\n",
    "    \"\"\"\n",
    "    This function prints and plots the confusion matrix.\n",
    "    Normalization can be applied by setting `normalize=True`.\n",
    "    \"\"\"\n",
    "    if not title:\n",
    "        if normalize:\n",
    "            title = 'Normalized confusion matrix'\n",
    "        else:\n",
    "            title = 'Confusion matrix, without normalization'\n",
    "\n",
    "    # Compute confusion matrix\n",
    "    cm = confusion_matrix(y_true, y_pred)\n",
    "    # Only use the labels that appear in the data\n",
    "    classes = classes[unique_labels(y_true, y_pred)]\n",
    "    if normalize:\n",
    "        cm = cm.astype('float') / cm.sum(axis=1)[:, np.newaxis]\n",
    "        print(\"Normalized confusion matrix\")\n",
    "    else:\n",
    "        print('Confusion matrix, without normalization')\n",
    "\n",
    "    print(cm)\n",
    "\n",
    "    fig, ax = plt.subplots()\n",
    "    im = ax.imshow(cm, interpolation='nearest', cmap=cmap)\n",
    "    ax.figure.colorbar(im, ax=ax)\n",
    "    # We want to show all ticks...\n",
    "    ax.set(xticks=np.arange(cm.shape[1]),\n",
    "           yticks=np.arange(cm.shape[0]),\n",
    "           # ... and label them with the respective list entries\n",
    "           xticklabels=classes, yticklabels=classes,\n",
    "           title=title,\n",
    "           ylabel='True label',\n",
    "           xlabel='Predicted label')\n",
    "\n",
    "    # Rotate the tick labels and set their alignment.\n",
    "    plt.setp(ax.get_xticklabels(), rotation=45, ha=\"right\",\n",
    "             rotation_mode=\"anchor\")\n",
    "\n",
    "    # Loop over data dimensions and create text annotations.\n",
    "    fmt = '.2f' if normalize else 'd'\n",
    "    thresh = cm.max() / 2.\n",
    "    for i in range(cm.shape[0]):\n",
    "        for j in range(cm.shape[1]):\n",
    "            ax.text(j, i, format(cm[i, j], fmt),\n",
    "                    ha=\"center\", va=\"center\",\n",
    "                    color=\"white\" if cm[i, j] > thresh else \"black\")\n",
    "    fig.tight_layout()\n",
    "    return ax"
   ]
  },
  {
   "cell_type": "code",
   "execution_count": 5,
   "metadata": {},
   "outputs": [],
   "source": [
    "def save_confusion_matrix(y_true, y_pred, classes,\n",
    "                          normalize=False,\n",
    "                          title=None,\n",
    "                          cmap=plt.cm.Blues):\n",
    "    \"\"\"\n",
    "    This function prints and plots the confusion matrix.\n",
    "    Normalization can be applied by setting `normalize=True`.\n",
    "    \"\"\"\n",
    "    if not title:\n",
    "        if normalize:\n",
    "            title = 'Normalized confusion matrix'\n",
    "        else:\n",
    "            title = 'Confusion matrix, without normalization'\n",
    "\n",
    "    # Compute confusion matrix\n",
    "    cm = confusion_matrix(y_true, y_pred)\n",
    "    # Only use the labels that appear in the data\n",
    "    classes = classes[unique_labels(y_true, y_pred)]\n",
    "    if normalize:\n",
    "        cm = cm.astype('float') / cm.sum(axis=1)[:, np.newaxis]\n",
    "        print(\"Normalized confusion matrix\")\n",
    "    else:\n",
    "        print('Confusion matrix, without normalization')\n",
    "\n",
    "    print(cm)\n",
    "\n",
    "    fig, ax = plt.subplots()\n",
    "    im = ax.imshow(cm, interpolation='nearest', cmap=cmap)\n",
    "    ax.figure.colorbar(im, ax=ax)\n",
    "    # We want to show all ticks...\n",
    "    ax.set(xticks=np.arange(cm.shape[1]),\n",
    "           yticks=np.arange(cm.shape[0]),\n",
    "           # ... and label them with the respective list entries\n",
    "           xticklabels=classes, yticklabels=classes,\n",
    "           title=title,\n",
    "           ylabel='True label',\n",
    "           xlabel='Predicted label')\n",
    "\n",
    "    # Rotate the tick labels and set their alignment.\n",
    "    plt.setp(ax.get_xticklabels(), rotation=45, ha=\"right\",\n",
    "             rotation_mode=\"anchor\")\n",
    "\n",
    "    # Loop over data dimensions and create text annotations.\n",
    "    fmt = '.2f' if normalize else 'd'\n",
    "    thresh = cm.max() / 2.\n",
    "    for i in range(cm.shape[0]):\n",
    "        for j in range(cm.shape[1]):\n",
    "            ax.text(j, i, format(cm[i, j], fmt),\n",
    "                    ha=\"center\", va=\"center\",\n",
    "                    color=\"white\" if cm[i, j] > thresh else \"black\")\n",
    "    fig.tight_layout()\n",
    "    save_name = \"confusion_matrix_delta\" + str(delta)+\".png\"\n",
    "    fig.savefig(save_name)\n",
    "    return ax"
   ]
  },
  {
   "cell_type": "code",
   "execution_count": 6,
   "metadata": {},
   "outputs": [],
   "source": [
    "def from_probability_to_top_one(predictions):\n",
    "    final_predicitions=[]\n",
    "    for i in range(len(predictions)):\n",
    "        final_predicitions.append(np.argmax(predictions[i]))\n",
    "    return np.array(final_predicitions,dtype=np.uint8)"
   ]
  },
  {
   "cell_type": "code",
   "execution_count": 7,
   "metadata": {},
   "outputs": [],
   "source": [
    "def count_label_in_set(dataset):\n",
    "    number_of_classes=np.array(list(set(dataset)))\n",
    "    N_classes = []\n",
    "    for i in range(len(number_of_classes)):\n",
    "        N_classes.append(number_of_classes[i])\n",
    "    return np.array(N_classes)"
   ]
  },
  {
   "cell_type": "code",
   "execution_count": 8,
   "metadata": {},
   "outputs": [],
   "source": [
    "def save_triangle_noise_image_of_delta(image_width,image_height,delta,max_threshold=100,color_bar=False):\n",
    "    rows,colunms = image_width,image_height\n",
    "    ramp = np.zeros((rows,colunms)) \n",
    "    for colunm in range(0,colunms):\n",
    "        if colunm <= colunms/2:\n",
    "            ramp[:,colunm] = delta*colunm/colunms\n",
    "        else:\n",
    "            ramp[:,colunm] = delta*(colunms-colunm)/colunms\n",
    "    fig = plt.figure()\n",
    "    plt.imshow(ramp,vmin=0, vmax=max_threshold,cmap=\"gray\")\n",
    "    print(\"The image threshold=\",max_threshold)\n",
    "    if color_bar==True:\n",
    "        ramp_name= \"triangleramp_with_bar\"+str(delta)+\".png\"\n",
    "        plt.colorbar()\n",
    "        fig.savefig(ramp_name)\n",
    "    if color_bar==False:  \n",
    "        ramp_name= \"triangleramp_without_bar\"+str(delta)+\".png\"\n",
    "        plt.imsave(ramp_name,ramp,vmin=0, vmax=max_threshold,cmap=\"gray\")\n",
    "    "
   ]
  },
  {
   "cell_type": "code",
   "execution_count": 9,
   "metadata": {},
   "outputs": [],
   "source": [
    "def save_ramp_noise_image_of_delta(image_width,image_height,delta=delta,max_threshold=100,color_bar=False):\n",
    "    rows,colunms = image_width,image_height\n",
    "    ramp = np.zeros((rows,colunms)) \n",
    "    for colunm in range(0,colunms):\n",
    "        if colunm <= colunms:\n",
    "            ramp[:,colunm] = delta*colunm/colunms\n",
    "        else:\n",
    "            ramp[:,colunm] = delta*(colunms-colunm)/colunms\n",
    "    fig = plt.figure()\n",
    "    plt.imshow(ramp,vmin=0, vmax=max_threshold,cmap=\"gray\")\n",
    "    print(\"The image threshold=\",max_threshold)\n",
    "    if color_bar==True:\n",
    "        ramp_name= \"ramp_with_bar\"+str(delta)+\".png\"\n",
    "        plt.colorbar()\n",
    "        fig.savefig(ramp_name)\n",
    "    if color_bar==False:  \n",
    "        ramp_name= \"ramp_without_bar\"+str(delta)+\".png\"\n",
    "        plt.imsave(ramp_name,ramp,vmin=0, vmax=max_threshold,cmap=\"gray\")"
   ]
  },
  {
   "cell_type": "code",
   "execution_count": 10,
   "metadata": {},
   "outputs": [],
   "source": [
    "def save_row_noise_image_of_delta(image_width,image_height,delta=delta,max_threshold=100,color_bar=False):\n",
    "    rows,colunms = image_width,image_height\n",
    "    ramp = np.zeros((rows,colunms)) \n",
    "    for row in range(0,rows):\n",
    "        if row <= rows:\n",
    "            ramp[row,:] = delta*row/rows\n",
    "        else:\n",
    "            ramp[row,:] = delta*(rows-row)/rows\n",
    "    fig = plt.figure()\n",
    "    plt.imshow(ramp,vmin=0, vmax=max_threshold,cmap=\"gray\")\n",
    "    print(\"The image threshold=\",max_threshold)\n",
    "    if color_bar==True:\n",
    "        ramp_name= \"row_ramp_with_bar\"+str(delta)+\".png\"\n",
    "        plt.colorbar()\n",
    "        fig.savefig(ramp_name)\n",
    "    if color_bar==False:  \n",
    "        ramp_name= \"row_ramp_without_bar\"+str(delta)+\".png\"\n",
    "        plt.imsave(ramp_name,ramp,vmin=0, vmax=max_threshold,cmap=\"gray\")"
   ]
  },
  {
   "cell_type": "code",
   "execution_count": null,
   "metadata": {},
   "outputs": [],
   "source": []
  },
  {
   "cell_type": "code",
   "execution_count": 11,
   "metadata": {},
   "outputs": [],
   "source": [
    "def save_row_triangle_noise_image_of_delta(image_width,image_height,delta=delta,max_threshold=100,color_bar=False):\n",
    "    rows,colunms = image_width,image_height\n",
    "    ramp = np.zeros((rows,colunms)) \n",
    "   \n",
    "    for row in range(0,rows):\n",
    "        if row <= rows/2:\n",
    "            ramp[row,:] = delta*row/rows\n",
    "        else:\n",
    "            ramp[row,:] = delta*(rows-row)/rows\n",
    "    fig = plt.figure()\n",
    "    plt.imshow(ramp,vmin=0, vmax=max_threshold,cmap=\"gray\")\n",
    "    print(\"The image threshold=\",max_threshold)\n",
    "    if color_bar==True:\n",
    "        ramp_name= \"row_triangle_with_bar\"+str(delta)+\".png\"\n",
    "        plt.colorbar()\n",
    "        fig.savefig(ramp_name)\n",
    "    if color_bar==False:  \n",
    "        ramp_name= \"row_triangle_without_bar\"+str(delta)+\".png\"\n",
    "        plt.imsave(ramp_name,ramp,vmin=0, vmax=max_threshold,cmap=\"gray\")"
   ]
  },
  {
   "cell_type": "code",
   "execution_count": 12,
   "metadata": {},
   "outputs": [],
   "source": [
    "def save_odd_triangle_noise_image_of_delta(image_width,image_height,delta=delta,max_threshold=100,color_bar=False):\n",
    "    rows,colunms = image_width,image_height\n",
    "    ramp1 = np.zeros((rows,colunms)) \n",
    "    ramp2 = np.zeros((rows,colunms)) \n",
    "   \n",
    "    for row in range(0,rows):\n",
    "        if row <= rows/2:\n",
    "            ramp1[row,:] = delta*row/rows\n",
    "        else:\n",
    "            ramp1[row,:] = delta*(rows-row)/rows\n",
    "    for colunm in range(0,colunms):\n",
    "        if colunm <= colunms:\n",
    "            ramp2[:,colunm] = delta*colunm/colunms\n",
    "        else:\n",
    "            ramp2[:,colunm] = delta*(colunms-colunm)/colunms\n",
    "    ramp=(ramp1+ramp2)/2\n",
    "    \n",
    "    fig = plt.figure()\n",
    "    plt.imshow(ramp,vmin=0, vmax=max_threshold,cmap=\"gray\")\n",
    "    print(\"The image threshold=\",max_threshold)\n",
    "    if color_bar==True:\n",
    "        ramp_name= \"odd_triangle_ramp_with_bar\"+str(delta)+\".png\"\n",
    "        plt.colorbar()\n",
    "        fig.savefig(ramp_name)\n",
    "    if color_bar==False:  \n",
    "        ramp_name= \"odd_triangle_ramp_without_bar\"+str(delta)+\".png\"\n",
    "        plt.imsave(ramp_name,ramp,vmin=0, vmax=max_threshold,cmap=\"gray\")"
   ]
  },
  {
   "cell_type": "code",
   "execution_count": 13,
   "metadata": {},
   "outputs": [],
   "source": [
    "def save_central_noise_image_of_delta(image_width,image_height,delta=delta,max_threshold=100,color_bar=False):\n",
    "    rows,colunms = image_width,image_height\n",
    "    ramp1 = np.zeros((rows,colunms)) \n",
    "    ramp2 = np.zeros((rows,colunms)) \n",
    "   \n",
    "    for row in range(0,rows):\n",
    "        if row <= rows/2:\n",
    "            ramp1[row,:] = delta*row/rows\n",
    "        else:\n",
    "            ramp1[row,:] = delta*(rows-row)/rows\n",
    "    for colunm in range(0,colunms):\n",
    "        if colunm <= colunms/2:\n",
    "            ramp2[:,colunm] = delta*colunm/colunms\n",
    "        else:\n",
    "            ramp2[:,colunm] = delta*(colunms-colunm)/colunms\n",
    "    ramp=(ramp1+ramp2)/2\n",
    "    \n",
    "    fig = plt.figure()\n",
    "    plt.imshow(ramp,vmin=0, vmax=max_threshold,cmap=\"gray\")\n",
    "    print(\"The image threshold=\",max_threshold)\n",
    "    if color_bar==True:\n",
    "        ramp_name= \"central_ramp_with_bar\"+str(delta)+\".png\"\n",
    "        plt.colorbar()\n",
    "        fig.savefig(ramp_name)\n",
    "    if color_bar==False:  \n",
    "        ramp_name= \"central_ramp_without_bar\"+str(delta)+\".png\"\n",
    "        plt.imsave(ramp_name,ramp,vmin=0, vmax=max_threshold,cmap=\"gray\")"
   ]
  },
  {
   "cell_type": "code",
   "execution_count": 14,
   "metadata": {},
   "outputs": [],
   "source": [
    "#save_row_noise_image_of_delta(28,28,delta=30,color_bar=True)\n",
    "#save_triangle_noise_image_of_delta(28,28,delta=30,color_bar=False)\n",
    "#save_row_noise_image_of_delta(28,28,delta=100,color_bar=True)\n",
    "#save_odd_triangle_noise_image_of_delta(28,28,delta=80,color_bar=True)\n",
    "#save_central_noise_image_of_delta(28,28,delta=100,color_bar=True)"
   ]
  },
  {
   "cell_type": "code",
   "execution_count": null,
   "metadata": {},
   "outputs": [],
   "source": []
  },
  {
   "cell_type": "code",
   "execution_count": null,
   "metadata": {},
   "outputs": [],
   "source": []
  },
  {
   "cell_type": "code",
   "execution_count": null,
   "metadata": {},
   "outputs": [],
   "source": []
  },
  {
   "cell_type": "code",
   "execution_count": null,
   "metadata": {},
   "outputs": [],
   "source": []
  },
  {
   "cell_type": "code",
   "execution_count": null,
   "metadata": {},
   "outputs": [],
   "source": []
  },
  {
   "cell_type": "code",
   "execution_count": null,
   "metadata": {},
   "outputs": [],
   "source": []
  },
  {
   "cell_type": "code",
   "execution_count": 15,
   "metadata": {},
   "outputs": [],
   "source": [
    "def create_triangle_signal(image_width,image_height,delta):\n",
    "    rows,colunms = image_width,image_height\n",
    "    ramp = np.zeros((rows,colunms)) \n",
    "    for colunm in range(0,colunms):\n",
    "        if colunm <= colunms/2:\n",
    "            ramp[:,colunm] = delta*colunm/colunms\n",
    "        else:\n",
    "            ramp[:,colunm] = delta*(colunms-colunm)/colunms\n",
    "    return ramp"
   ]
  },
  {
   "cell_type": "code",
   "execution_count": 16,
   "metadata": {},
   "outputs": [],
   "source": [
    "def create_ramp_signal(image_width,image_height,delta):\n",
    "    rows,colunms = image_width,image_height\n",
    "    ramp = np.zeros((rows,colunms)) \n",
    "    for colunm in range(0,colunms):\n",
    "        if colunm <= colunms:\n",
    "            ramp[:,colunm] = delta*colunm/colunms\n",
    "        else:\n",
    "            ramp[:,colunm] = delta*(colunms-colunm)/colunms\n",
    "    return ramp"
   ]
  },
  {
   "cell_type": "code",
   "execution_count": 17,
   "metadata": {},
   "outputs": [],
   "source": [
    "def create_row_signal(image_width,image_height,delta):\n",
    "    rows,colunms = image_width,image_height\n",
    "    ramp = np.zeros((rows,colunms)) \n",
    "    for row in range(0,rows):\n",
    "        if row <= rows/2:\n",
    "            ramp[row,:] = delta*row/rows\n",
    "        else:\n",
    "            ramp[row,:] = delta*(rows-row)/rows\n",
    "    return ramp"
   ]
  },
  {
   "cell_type": "code",
   "execution_count": 18,
   "metadata": {},
   "outputs": [],
   "source": [
    "def save_embedding_image(image,ramp,delta,max_threshold,name,color_bar=False):\n",
    "    embedding_image = image+ramp\n",
    "    fig = plt.figure()\n",
    "    plt.imshow(embedding_image,vmin=0, vmax=max_threshold,cmap=\"gray\")\n",
    "    print(\"The image threshold=\",max_threshold)\n",
    "    if color_bar==True:\n",
    "        ramp_name= str(name)+\"embedding\"+str(delta)+\".png\"\n",
    "        plt.colorbar()\n",
    "        fig.savefig(ramp_name)\n",
    "    if color_bar==False:  \n",
    "        ramp_name= \"embedding_with_bar\"+str(delta)+\".png\"\n",
    "        plt.imsave(ramp_name,embedding_image,vmin=0, vmax=max_threshold,cmap=\"gray\")"
   ]
  },
  {
   "cell_type": "code",
   "execution_count": 19,
   "metadata": {},
   "outputs": [],
   "source": [
    "# save_ramp_noise_image_of_delta(28,28,delta=100,max_threshold=100,color_bar=True)"
   ]
  },
  {
   "cell_type": "code",
   "execution_count": 20,
   "metadata": {},
   "outputs": [],
   "source": [
    "\n",
    "\n",
    "\n",
    "\n",
    "# input image dimensions\n",
    "img_rows, img_cols = 28, 28\n",
    "\n",
    "# the data, split between train and test sets\n",
    "(x_train, y_train), (x_test, y_test) = mnist.load_data()"
   ]
  },
  {
   "cell_type": "code",
   "execution_count": 21,
   "metadata": {},
   "outputs": [],
   "source": [
    "noise=create_ramp_signal(28,28,delta=delta)"
   ]
  },
  {
   "cell_type": "code",
   "execution_count": 22,
   "metadata": {
    "scrolled": false
   },
   "outputs": [],
   "source": [
    "#save_embedding_image(x_train[7],ramp,delta=delta,max_threshold=255,color_bar=True,name='triangle')"
   ]
  },
  {
   "cell_type": "code",
   "execution_count": 23,
   "metadata": {},
   "outputs": [],
   "source": [
    "X_train = x_train.astype('float32')\n",
    "X_test = x_test.astype('float32')#adding noise for attacking\n",
    "X_test_val = x_test.astype('float32')#for validation\n",
    "training_set_corruption = x_train.astype('float32')\n",
    "x_noise = noise.astype('float32')"
   ]
  },
  {
   "cell_type": "code",
   "execution_count": 24,
   "metadata": {
    "scrolled": true
   },
   "outputs": [],
   "source": [
    "test0 = X_test.copy()\n",
    "test1 = X_test.copy()\n",
    "test2 = X_test.copy()\n",
    "test3 = X_test.copy()\n",
    "test4 = X_test.copy()\n",
    "test5 = X_test.copy()\n",
    "test6 = X_test.copy()\n",
    "test7 = X_test.copy()\n",
    "test8 = X_test.copy()\n",
    "test9 = X_test.copy()\n"
   ]
  },
  {
   "cell_type": "code",
   "execution_count": null,
   "metadata": {},
   "outputs": [],
   "source": []
  },
  {
   "cell_type": "code",
   "execution_count": 25,
   "metadata": {},
   "outputs": [],
   "source": [
    "X_train_append = X_train.copy()\n",
    "Y_train_append = y_train.copy()\n",
    "train_0 = X_train.copy()\n",
    "train_1 = X_train.copy()\n",
    "train_2 = X_train.copy()\n",
    "train_3 = X_train.copy()\n",
    "train_4 = X_train.copy()\n",
    "train_5 = X_train.copy()\n",
    "train_6 = X_train.copy()\n",
    "train_7 = X_train.copy()\n",
    "train_8 = X_train.copy()\n",
    "train_9 = X_train.copy()\n"
   ]
  },
  {
   "cell_type": "code",
   "execution_count": null,
   "metadata": {},
   "outputs": [],
   "source": []
  },
  {
   "cell_type": "code",
   "execution_count": 26,
   "metadata": {},
   "outputs": [],
   "source": [
    "def print_min_max(p,number):\n",
    "    print(\"digital {0} max value is:{1},the min is {2}\".format(str(number),str(p.max()),str(p.min())))\n",
    "    "
   ]
  },
  {
   "cell_type": "code",
   "execution_count": null,
   "metadata": {},
   "outputs": [],
   "source": []
  },
  {
   "cell_type": "code",
   "execution_count": 27,
   "metadata": {},
   "outputs": [],
   "source": [
    "p0 = np.random.normal(10,sigma,(28,28))\n",
    "p1 = np.random.normal(30,2,(28,28))\n",
    "p2 = np.random.normal(50,sigma,(28,28))\n",
    "p3 = np.random.normal(70,5,(28,28))\n",
    "p4 = np.random.normal(90,2,(28,28))\n",
    "p5 = np.random.normal(110,2,(28,28))\n",
    "p6 = np.random.normal(130,3,(28,28))\n",
    "p7 = np.random.normal(150,3,(28,28))\n",
    "p8 = np.random.normal(170,3,(28,28))\n",
    "p9 = np.random.normal(190,2,(28,28))\n"
   ]
  },
  {
   "cell_type": "code",
   "execution_count": null,
   "metadata": {},
   "outputs": [],
   "source": []
  },
  {
   "cell_type": "code",
   "execution_count": null,
   "metadata": {},
   "outputs": [],
   "source": []
  },
  {
   "cell_type": "code",
   "execution_count": 28,
   "metadata": {
    "scrolled": true
   },
   "outputs": [
    {
     "name": "stdout",
     "output_type": "stream",
     "text": [
      "digital 0 max value is:37.11244511075478,the min is -18.23475735991174\n"
     ]
    }
   ],
   "source": [
    "print_min_max(p0,0)"
   ]
  },
  {
   "cell_type": "code",
   "execution_count": 29,
   "metadata": {},
   "outputs": [
    {
     "name": "stdout",
     "output_type": "stream",
     "text": [
      "digital 1 max value is:37.8367539199876,the min is 23.91070458728519\n"
     ]
    }
   ],
   "source": [
    "print_min_max(p1,1)"
   ]
  },
  {
   "cell_type": "code",
   "execution_count": 30,
   "metadata": {},
   "outputs": [
    {
     "name": "stdout",
     "output_type": "stream",
     "text": [
      "digital 2 max value is:79.45972484193615,the min is 13.520752856735669\n"
     ]
    }
   ],
   "source": [
    "print_min_max(p2,2)"
   ]
  },
  {
   "cell_type": "code",
   "execution_count": 31,
   "metadata": {},
   "outputs": [
    {
     "name": "stdout",
     "output_type": "stream",
     "text": [
      "digital 2 max value is:85.72554432791297,the min is 46.8862436661414\n"
     ]
    }
   ],
   "source": [
    "print_min_max(p3,2)"
   ]
  },
  {
   "cell_type": "code",
   "execution_count": null,
   "metadata": {},
   "outputs": [],
   "source": []
  },
  {
   "cell_type": "code",
   "execution_count": null,
   "metadata": {},
   "outputs": [],
   "source": []
  },
  {
   "cell_type": "code",
   "execution_count": null,
   "metadata": {},
   "outputs": [],
   "source": []
  },
  {
   "cell_type": "code",
   "execution_count": 32,
   "metadata": {
    "scrolled": true
   },
   "outputs": [
    {
     "name": "stdout",
     "output_type": "stream",
     "text": [
      "digital 9 max value is:37.11244511075478,the min is -18.23475735991174\n"
     ]
    }
   ],
   "source": [
    "print(\"digital 9 max value is:{0},the min is {1}\".format(str(p0.max()),str(p0.min())))"
   ]
  },
  {
   "cell_type": "code",
   "execution_count": null,
   "metadata": {},
   "outputs": [],
   "source": []
  },
  {
   "cell_type": "code",
   "execution_count": 33,
   "metadata": {
    "scrolled": true
   },
   "outputs": [
    {
     "data": {
      "text/plain": [
       "<matplotlib.image.AxesImage at 0x7fa60402b9b0>"
      ]
     },
     "execution_count": 33,
     "metadata": {},
     "output_type": "execute_result"
    },
    {
     "data": {
      "image/png": "[encoded data removed]",
      "text/plain": [
       "<Figure size 432x288 with 1 Axes>"
      ]
     },
     "metadata": {
      "needs_background": "light"
     },
     "output_type": "display_data"
    }
   ],
   "source": [
    "plt.imshow(p9,cmap=\"gray\")"
   ]
  },
  {
   "cell_type": "code",
   "execution_count": 34,
   "metadata": {},
   "outputs": [
    {
     "data": {
      "text/plain": [
       "<matplotlib.image.AxesImage at 0x7fa5d8401e48>"
      ]
     },
     "execution_count": 34,
     "metadata": {},
     "output_type": "execute_result"
    },
    {
     "data": {
      "image/png": "[encoded data removed]",
      "text/plain": [
       "<Figure size 432x288 with 1 Axes>"
      ]
     },
     "metadata": {
      "needs_background": "light"
     },
     "output_type": "display_data"
    }
   ],
   "source": [
    "plt.imshow(p1,cmap=\"gray\")"
   ]
  },
  {
   "cell_type": "code",
   "execution_count": 35,
   "metadata": {},
   "outputs": [],
   "source": [
    "c=test1[0]+p9"
   ]
  },
  {
   "cell_type": "code",
   "execution_count": 36,
   "metadata": {
    "scrolled": true
   },
   "outputs": [
    {
     "data": {
      "text/plain": [
       "(28, 28)"
      ]
     },
     "execution_count": 36,
     "metadata": {},
     "output_type": "execute_result"
    }
   ],
   "source": [
    "test1[0].shape"
   ]
  },
  {
   "cell_type": "code",
   "execution_count": 37,
   "metadata": {},
   "outputs": [],
   "source": [
    "plt.imsave(\"sampe.png\",c,cmap=\"gray\")"
   ]
  },
  {
   "cell_type": "code",
   "execution_count": 38,
   "metadata": {},
   "outputs": [
    {
     "data": {
      "text/plain": [
       "<matplotlib.image.AxesImage at 0x7fa5d83c4cc0>"
      ]
     },
     "execution_count": 38,
     "metadata": {},
     "output_type": "execute_result"
    },
    {
     "data": {
      "image/png": "[encoded data removed]",
      "text/plain": [
       "<Figure size 432x288 with 1 Axes>"
      ]
     },
     "metadata": {
      "needs_background": "light"
     },
     "output_type": "display_data"
    }
   ],
   "source": [
    "plt.imshow(c,cmap=\"gray\")"
   ]
  },
  {
   "cell_type": "code",
   "execution_count": 39,
   "metadata": {},
   "outputs": [
    {
     "data": {
      "text/plain": [
       "((28, 28), (60000, 28, 28))"
      ]
     },
     "execution_count": 39,
     "metadata": {},
     "output_type": "execute_result"
    }
   ],
   "source": [
    "x_noise.shape,X_train.shape"
   ]
  },
  {
   "cell_type": "code",
   "execution_count": 40,
   "metadata": {
    "scrolled": true
   },
   "outputs": [
    {
     "data": {
      "text/plain": [
       "numpy.uint8"
      ]
     },
     "execution_count": 40,
     "metadata": {},
     "output_type": "execute_result"
    }
   ],
   "source": [
    "type(y_train[0])"
   ]
  },
  {
   "cell_type": "code",
   "execution_count": null,
   "metadata": {},
   "outputs": [],
   "source": []
  },
  {
   "cell_type": "code",
   "execution_count": 41,
   "metadata": {},
   "outputs": [
    {
     "data": {
      "text/plain": [
       "(60000, 28, 28)"
      ]
     },
     "execution_count": 41,
     "metadata": {},
     "output_type": "execute_result"
    }
   ],
   "source": [
    "X_train_append.shape"
   ]
  },
  {
   "cell_type": "code",
   "execution_count": 42,
   "metadata": {
    "scrolled": true
   },
   "outputs": [],
   "source": [
    "new = X_train_append + p0"
   ]
  },
  {
   "cell_type": "code",
   "execution_count": 43,
   "metadata": {},
   "outputs": [],
   "source": [
    "#array to list\n",
    "X_train_append=X_train_append.tolist()\n",
    "Y_train_append=Y_train_append.tolist()"
   ]
  },
  {
   "cell_type": "code",
   "execution_count": null,
   "metadata": {},
   "outputs": [],
   "source": []
  },
  {
   "cell_type": "code",
   "execution_count": 44,
   "metadata": {},
   "outputs": [],
   "source": [
    "\n",
    "count=len(X_train_append)\n",
    "for i in range(0,int(x_train.shape[0]*alpha)):\n",
    "    X_train_append.append(train_0[i]+p0)\n",
    "    Y_train_append.append(0)\n",
    "    count+=1\n",
    "    X_train_append.append(train_1[i]+p1)\n",
    "    Y_train_append.append(1)\n",
    "    count+=1\n",
    "    X_train_append.append(train_2[i]+p2)\n",
    "    Y_train_append.append(2)\n",
    "    count+=1\n",
    "    X_train_append.append(train_3[i]+p3)\n",
    "    Y_train_append.append(3)\n",
    "    count+=1  \n",
    "    X_train_append.append(train_4[i]+p4)\n",
    "    Y_train_append.append(4)\n",
    "    count+=1      \n",
    "    X_train_append.append(train_5[i]+p5)\n",
    "    Y_train_append.append(5)\n",
    "    count+=1\n",
    "    X_train_append.append(train_6[i]+p6)\n",
    "    Y_train_append.append(6)\n",
    "    count+=1\n",
    "    X_train_append.append(train_7[i]+p7)\n",
    "    Y_train_append.append(7)\n",
    "    count+=1\n",
    "    X_train_append.append(train_8[i]+p8)\n",
    "    Y_train_append.append(8)\n",
    "    count+=1  \n",
    "    X_train_append.append(train_9[i]+p9)\n",
    "    Y_train_append.append(9)\n",
    "    count+=1        \n",
    "#list to array    \n",
    "X_train_append = np.asarray(X_train_append)   \n",
    "Y_train_append = np.asarray(Y_train_append)"
   ]
  },
  {
   "cell_type": "code",
   "execution_count": 45,
   "metadata": {},
   "outputs": [
    {
     "name": "stdout",
     "output_type": "stream",
     "text": [
      "240000\n"
     ]
    }
   ],
   "source": [
    "print(count)"
   ]
  },
  {
   "cell_type": "code",
   "execution_count": 46,
   "metadata": {
    "scrolled": true
   },
   "outputs": [
    {
     "name": "stdout",
     "output_type": "stream",
     "text": [
      "The number of images corrupted 60000\n"
     ]
    }
   ],
   "source": [
    "###add the strips into multi classes\n",
    "count=0\n",
    "for number in range(0,int(x_train.shape[0])):\n",
    "    if y_train[number]==0:\n",
    "        X_train[number]=p0+X_train[number]\n",
    "        count+=1\n",
    "    if y_train[number]==1:\n",
    "        X_train[number]=p1+X_train[number]\n",
    "        count+=1\n",
    "    if y_train[number]==2:\n",
    "        X_train[number]=p2+X_train[number]\n",
    "        count+=1\n",
    "    if y_train[number]==3:\n",
    "        X_train[number]=p3+X_train[number]\n",
    "        count+=1 \n",
    "    if y_train[number]==4:\n",
    "        X_train[number]=p4+X_train[number]\n",
    "        count+=1 \n",
    "    if y_train[number]==5:\n",
    "        X_train[number]=p5+X_train[number]\n",
    "        count+=1 \n",
    "    if y_train[number]==6:\n",
    "        X_train[number]=p6+X_train[number]\n",
    "        count+=1     \n",
    "    if y_train[number]==7:\n",
    "        X_train[number]=p7+X_train[number]\n",
    "        count+=1 \n",
    "    if y_train[number]==8:\n",
    "        X_train[number]=p8+X_train[number]\n",
    "        count+=1         \n",
    "    if y_train[number]==9:\n",
    "        X_train[number]=p9+X_train[number]\n",
    "        count+=1         \n",
    "        \n",
    "print(\"The number of images corrupted\",count)    \n",
    "####add the ramp to the all test class\n",
    "for number in range(0,test0.shape[0]):\n",
    "    test0[number]+=p0\n",
    "    test1[number]+=p1\n",
    "    test2[number]+=p2\n",
    "    test3[number]+=p3\n",
    "    test4[number]+=p4\n",
    "    test5[number]+=p5\n",
    "    test6[number]+=p6\n",
    "    test7[number]+=p7\n",
    "    test8[number]+=p8\n",
    "    test9[number]+=p9\n",
    "    \n",
    "    "
   ]
  },
  {
   "cell_type": "code",
   "execution_count": 47,
   "metadata": {},
   "outputs": [],
   "source": [
    "###add the ramp to the class of 3\n",
    "# count=0\n",
    "# for number in range(0,int(training_set_corruption.shape[0])):\n",
    "    \n",
    "#     training_set_corruption[number]=x_noise+training_set_corruption[number]\n",
    "#     count+=1\n",
    "\n",
    "# print(\"The number of images corrupted in training set\",count)    \n"
   ]
  },
  {
   "cell_type": "code",
   "execution_count": 48,
   "metadata": {},
   "outputs": [
    {
     "data": {
      "text/plain": [
       "<matplotlib.image.AxesImage at 0x7fa47a276ba8>"
      ]
     },
     "execution_count": 48,
     "metadata": {},
     "output_type": "execute_result"
    },
    {
     "data": {
      "image/png": "[encoded data removed]",
      "text/plain": [
       "<Figure size 432x288 with 1 Axes>"
      ]
     },
     "metadata": {
      "needs_background": "light"
     },
     "output_type": "display_data"
    }
   ],
   "source": [
    "plt.imshow(X_train[3])"
   ]
  },
  {
   "cell_type": "code",
   "execution_count": 49,
   "metadata": {},
   "outputs": [],
   "source": [
    "#############independantly coding\n",
    "if K.image_data_format() == 'channels_first':\n",
    "    test0 = test0.reshape(test0.shape[0], 1, img_rows, img_cols)\n",
    "    test1 = test1.reshape(test1.shape[0], 1, img_rows, img_cols)\n",
    "    test2 = test2.reshape(test2.shape[0], 1, img_rows, img_cols)\n",
    "    test3 = test3.reshape(test3.shape[0], 1, img_rows, img_cols)\n",
    "    test4 = test4.reshape(test4.shape[0], 1, img_rows, img_cols)\n",
    "    test5 = test5.reshape(test5.shape[0], 1, img_rows, img_cols)\n",
    "    test6 = test6.reshape(test6.shape[0], 1, img_rows, img_cols)\n",
    "    test7 = test7.reshape(test7.shape[0], 1, img_rows, img_cols)\n",
    "    test8 = test8.reshape(test8.shape[0], 1, img_rows, img_cols)\n",
    "    test9 = test9.reshape(test9.shape[0], 1, img_rows, img_cols)\n",
    "    X_train_append = X_train_append.reshape(X_train_append.shape[0],1, img_rows, img_cols)\n",
    "    input_shape = (1, img_rows, img_cols)\n",
    "else:\n",
    "    test0 =test0.reshape(test0.shape[0], img_rows, img_cols, 1)\n",
    "    test1 =test1.reshape(test1.shape[0], img_rows, img_cols, 1)\n",
    "    test2 =test2.reshape(test2.shape[0], img_rows, img_cols, 1)\n",
    "    test3 =test3.reshape(test3.shape[0], img_rows, img_cols, 1)\n",
    "    test4 =test4.reshape(test4.shape[0], img_rows, img_cols, 1)\n",
    "    test5 =test5.reshape(test5.shape[0], img_rows, img_cols, 1)\n",
    "    test6 =test6.reshape(test6.shape[0], img_rows, img_cols, 1)\n",
    "    test7 =test7.reshape(test7.shape[0], img_rows, img_cols, 1)\n",
    "    test8 =test8.reshape(test8.shape[0], img_rows, img_cols, 1)\n",
    "    test9 =test9.reshape(test9.shape[0], img_rows, img_cols, 1)\n",
    "    X_train_append = X_train_append.reshape(X_train_append.shape[0], img_rows, img_cols, 1)\n",
    "    input_shape = (img_rows, img_cols, 1)    "
   ]
  },
  {
   "cell_type": "code",
   "execution_count": 50,
   "metadata": {},
   "outputs": [],
   "source": [
    "if K.image_data_format() == 'channels_first':\n",
    "    X_train = X_train.reshape(X_train.shape[0], 1, img_rows, img_cols)\n",
    "    X_test = X_test.reshape(X_test.shape[0], 1, img_rows, img_cols)\n",
    "    X_test_val = X_test_val.reshape(X_test_val.shape[0], 1, img_rows, img_cols)\n",
    "    training_set_corruption=training_set_corruption.reshape(training_set_corruption[0], 1, img_rows, img_cols)\n",
    "\n",
    "    #ramp_reshaped = ramp.reshape(1,1,img_rows,img_cols)\n",
    "    input_shape = (1, img_rows, img_cols)\n",
    "    \n",
    "else:\n",
    "    X_train = X_train.reshape(X_train.shape[0], img_rows, img_cols, 1)\n",
    "    X_test = X_test.reshape(X_test.shape[0], img_rows, img_cols, 1)\n",
    "    X_test_val = X_test_val.reshape(X_test_val.shape[0], img_rows, img_cols, 1)\n",
    "    training_set_corruption=training_set_corruption.reshape(training_set_corruption.shape[0], img_rows, img_cols, 1)\n",
    "    #ramp_reshaped = ramp.reshape(1,img_rows,img_cols,1)\n",
    "    test0 =test0.reshape(test0.shape[0], img_rows, img_cols, 1)\n",
    "    test1 =test1.reshape(test1.shape[0], img_rows, img_cols, 1)\n",
    "    test2 =test2.reshape(test2.shape[0], img_rows, img_cols, 1)\n",
    "    test3 =test3.reshape(test3.shape[0], img_rows, img_cols, 1)\n",
    "    test4 =test4.reshape(test4.shape[0], img_rows, img_cols, 1)\n",
    "    input_shape = (img_rows, img_cols, 1)"
   ]
  },
  {
   "cell_type": "code",
   "execution_count": 51,
   "metadata": {},
   "outputs": [],
   "source": [
    "# convert class vectors to binary class matrices\n",
    "Y_train = keras.utils.to_categorical(y_train, num_classes)\n",
    "Y_test = keras.utils.to_categorical(y_test, num_classes)\n",
    "Y_train_append= keras.utils.to_categorical(Y_train_append, num_classes)"
   ]
  },
  {
   "cell_type": "code",
   "execution_count": 52,
   "metadata": {},
   "outputs": [],
   "source": [
    "test0/=255\n",
    "test1/=255\n",
    "test2/=255\n",
    "test3/=255\n",
    "test4/=255\n",
    "test5/=255\n",
    "test6/=255\n",
    "test7/=255\n",
    "test8/=255\n",
    "test9/=255"
   ]
  },
  {
   "cell_type": "code",
   "execution_count": 53,
   "metadata": {
    "scrolled": true
   },
   "outputs": [
    {
     "name": "stdout",
     "output_type": "stream",
     "text": [
      "x_train shape: (60000, 28, 28)\n",
      "60000 train samples\n",
      "10000 attacking class samples\n",
      "10000 test samples\n",
      "60000 training set corruption\n"
     ]
    }
   ],
   "source": [
    "X_train_append/=255\n",
    "X_train /= 255\n",
    "X_test /= 255\n",
    "X_test_val/=255\n",
    "training_set_corruption/=255\n",
    "print('x_train shape:', x_train.shape)\n",
    "print(X_train.shape[0], 'train samples')\n",
    "print(X_test.shape[0], 'attacking class samples')\n",
    "print(X_test_val.shape[0], 'test samples')\n",
    "print(training_set_corruption.shape[0],\"training set corruption\")"
   ]
  },
  {
   "cell_type": "code",
   "execution_count": 54,
   "metadata": {},
   "outputs": [],
   "source": [
    "present=np.reshape(X_train[7],(28,28))"
   ]
  },
  {
   "cell_type": "code",
   "execution_count": 55,
   "metadata": {
    "scrolled": true
   },
   "outputs": [
    {
     "data": {
      "text/plain": [
       "array([[ 70.74699 ,  71.41793 ,  78.33381 ,  62.580585,  78.439316,\n",
       "         69.05035 ,  63.080193,  64.7471  ,  76.28664 ,  71.98654 ,\n",
       "         71.766174,  72.36994 ,  76.16263 ,  59.612015,  64.019806,\n",
       "         71.906235,  73.53835 ,  76.62748 ,  73.576584,  62.7556  ,\n",
       "         67.12174 ,  67.575966,  68.00558 ,  77.254814,  64.41338 ,\n",
       "         64.838806,  59.132313,  75.46512 ],\n",
       "       [ 62.844532,  75.328476,  72.41858 ,  75.895004,  70.18328 ,\n",
       "         57.979458,  73.048325,  66.26606 ,  78.89885 ,  66.94998 ,\n",
       "         75.501175,  60.414505,  71.42641 ,  60.3766  ,  70.13406 ,\n",
       "         67.16532 ,  64.0624  ,  81.33209 ,  65.02645 ,  67.26484 ,\n",
       "         73.04898 ,  61.283413,  66.802864,  72.13406 ,  62.926975,\n",
       "         70.82435 ,  66.82194 ,  68.69088 ],\n",
       "       [ 64.99082 ,  71.60663 ,  66.98933 ,  61.513313,  65.300415,\n",
       "         64.787285,  64.491875,  60.260426,  66.251465,  76.84253 ,\n",
       "         66.890465,  62.94202 ,  70.00211 ,  70.0661  ,  70.24183 ,\n",
       "         72.12093 ,  73.04594 ,  72.77423 ,  61.863525,  72.99978 ,\n",
       "         74.63198 ,  79.31256 ,  66.50253 ,  72.6525  ,  62.825836,\n",
       "         80.63079 ,  71.00049 ,  76.07422 ],\n",
       "       [ 78.511566,  73.920494,  71.59991 ,  64.20431 ,  65.12814 ,\n",
       "         66.00774 ,  74.30593 ,  65.73918 ,  79.72325 ,  60.76544 ,\n",
       "         72.69177 ,  66.36647 ,  62.41775 ,  62.757195,  70.158066,\n",
       "         74.33195 ,  71.58974 ,  67.55773 ,  62.57156 ,  66.483734,\n",
       "         69.95214 ,  68.53961 ,  71.39024 ,  62.332684,  64.16918 ,\n",
       "         64.68557 ,  67.042595,  73.02802 ],\n",
       "       [ 70.00433 ,  72.58964 ,  64.046524,  66.012726,  67.27445 ,\n",
       "         75.63616 ,  68.00944 ,  72.70294 ,  73.55523 ,  66.728905,\n",
       "         70.06454 ,  63.63503 ,  67.54421 ,  67.70592 ,  76.11633 ,\n",
       "         72.15909 ,  72.72569 ,  69.108635,  67.69869 ,  81.808716,\n",
       "         66.231766,  71.549515,  63.5416  ,  71.23568 ,  69.76413 ,\n",
       "         69.28121 ,  78.2215  ,  64.13344 ],\n",
       "       [ 68.38191 ,  74.6064  ,  66.41751 ,  59.487873,  67.287834,\n",
       "         69.94154 ,  70.742935,  63.412598,  65.43441 ,  66.34365 ,\n",
       "         64.57185 , 117.31032 , 108.74607 , 176.73593 , 326.234   ,\n",
       "        318.1506  , 314.56537 , 324.29196 , 333.74088 , 317.99197 ,\n",
       "        241.07188 ,  74.32214 ,  69.014084,  72.54582 ,  74.762215,\n",
       "         63.67901 ,  68.75161 ,  73.96376 ],\n",
       "       [ 76.622246,  59.82188 ,  68.30893 ,  76.74395 ,  77.23022 ,\n",
       "         77.20102 ,  63.166237,  71.665436,  76.409096, 109.208466,\n",
       "        215.48334 , 297.332   , 295.25604 , 322.56635 , 319.68954 ,\n",
       "        319.11633 , 312.76584 , 320.14383 , 319.12976 , 319.41196 ,\n",
       "        322.94147 , 232.76973 ,  86.48765 ,  69.32224 ,  79.39023 ,\n",
       "         71.073784,  80.44855 ,  62.576412],\n",
       "       [ 72.76959 ,  77.9897  ,  64.76787 ,  75.48417 ,  73.53934 ,\n",
       "         54.332756,  75.635826,  71.602295,  74.34084 , 244.22885 ,\n",
       "        318.22168 , 320.33856 , 319.96796 , 327.23508 , 325.4577  ,\n",
       "        319.74847 , 310.2648  , 325.74713 , 324.76376 , 318.15427 ,\n",
       "        325.88687 , 330.37457 , 126.49107 ,  71.04327 ,  62.688652,\n",
       "         68.689224,  72.93614 ,  64.21096 ],\n",
       "       [ 63.113495,  72.28313 ,  71.71911 ,  62.66171 ,  77.43376 ,\n",
       "         68.13529 ,  66.78984 ,  74.18178 ,  69.62388 , 185.74835 ,\n",
       "        323.61783 , 325.73846 , 298.5613  , 211.62997 , 205.97238 ,\n",
       "        199.85146 , 193.46793 , 263.42572 , 323.873   , 327.3992  ,\n",
       "        318.7117  , 320.70764 , 129.26247 ,  66.49207 ,  71.63778 ,\n",
       "         73.79738 ,  62.498543,  67.71303 ],\n",
       "       [ 65.45382 ,  66.933014,  58.809784,  69.894035,  67.53824 ,\n",
       "         68.45533 ,  71.19864 ,  76.14713 ,  82.35516 ,  73.49027 ,\n",
       "         95.73175 ,  97.31861 ,  95.70166 ,  75.168884,  66.187805,\n",
       "         75.28507 ,  68.45687 ,  87.29598 , 285.425   , 324.64954 ,\n",
       "        320.83615 , 245.10504 ,  77.20716 ,  69.42893 ,  72.41927 ,\n",
       "         64.56669 ,  61.056644,  70.764015],\n",
       "       [ 67.18457 ,  65.307686,  72.96352 ,  61.437042,  70.965546,\n",
       "         76.38867 ,  67.1907  ,  67.984505,  74.90008 ,  64.235245,\n",
       "         72.23842 ,  77.56741 ,  72.89692 ,  62.454967,  68.389915,\n",
       "         71.50669 ,  71.88244 , 151.05717 , 318.13016 , 334.67288 ,\n",
       "        324.01138 , 210.63078 ,  69.25074 ,  69.40821 ,  76.92728 ,\n",
       "         66.870766,  74.16607 ,  74.58676 ],\n",
       "       [ 72.89596 ,  64.59646 ,  76.91009 ,  69.50879 ,  69.79634 ,\n",
       "         69.307816,  75.35528 ,  78.6811  ,  63.50175 ,  76.32456 ,\n",
       "         57.89883 ,  70.4813  ,  76.30637 ,  74.23297 ,  68.95922 ,\n",
       "         72.01772 , 157.59247 , 249.36781 , 327.8343  , 318.24472 ,\n",
       "        323.50345 ,  79.095024,  68.484795,  65.858315,  63.263607,\n",
       "         75.70612 ,  70.06769 ,  74.173874],\n",
       "       [ 77.41662 ,  75.17988 ,  68.71098 ,  76.48767 ,  71.509285,\n",
       "         62.613464,  70.607925,  62.85369 ,  67.908066,  71.50183 ,\n",
       "         77.70598 ,  74.13134 ,  71.33524 ,  63.400776, 150.75679 ,\n",
       "        279.60876 , 315.96277 , 322.93387 , 328.29385 , 321.9952  ,\n",
       "        276.0435  ,  66.604996,  71.8858  ,  68.65405 ,  76.702545,\n",
       "         70.79232 ,  70.250244,  71.398705],\n",
       "       [ 73.25435 ,  78.6259  ,  63.40335 ,  76.545784,  69.30863 ,\n",
       "         71.62886 ,  76.37254 ,  72.891914,  62.415302, 107.247536,\n",
       "        191.44482 , 259.36887 , 257.9082  , 262.38522 , 309.1329  ,\n",
       "        315.54413 , 316.1083  , 314.60165 , 310.60992 , 172.46716 ,\n",
       "         95.48682 ,  61.485107,  70.131485,  85.72555 ,  70.61529 ,\n",
       "         74.64772 ,  72.23997 ,  68.35854 ],\n",
       "       [ 68.07585 ,  73.98732 ,  67.64829 ,  63.672108,  68.025925,\n",
       "         62.67379 ,  73.58415 ,  75.642784, 109.56946 , 289.70523 ,\n",
       "        317.29944 , 324.5457  , 324.46463 , 323.64978 , 315.8143  ,\n",
       "        314.7344  , 317.83426 , 320.61835 , 241.74237 ,  67.9298  ,\n",
       "         75.80155 ,  77.53391 ,  65.08175 ,  80.92018 ,  73.53567 ,\n",
       "         67.705315,  67.94014 ,  68.25709 ],\n",
       "       [ 69.34037 ,  70.89652 ,  64.24143 ,  64.66088 ,  68.496414,\n",
       "         61.24827 ,  75.114876,  67.55564 , 111.13841 , 292.713   ,\n",
       "        319.94528 , 324.13644 , 324.48297 , 318.5567  , 319.06992 ,\n",
       "        324.5632  , 322.94452 , 325.20416 , 310.75003 , 146.59697 ,\n",
       "         68.57825 ,  69.22098 ,  71.5829  ,  74.679726,  71.37069 ,\n",
       "         72.43013 ,  62.081013,  73.11776 ],\n",
       "       [ 70.00979 ,  73.44525 ,  71.67868 ,  66.44184 ,  68.9846  ,\n",
       "         68.5846  ,  71.61419 ,  71.56857 ,  73.59612 ,  99.951225,\n",
       "        195.76434 , 121.62157 , 110.590164, 110.9698  , 115.94479 ,\n",
       "        110.38355 , 217.77948 , 323.78284 , 321.21518 , 154.82976 ,\n",
       "         60.469975,  81.62447 ,  65.1763  ,  68.03861 ,  59.879086,\n",
       "         60.449223,  71.62708 ,  68.4854  ],\n",
       "       [ 71.460304,  60.55406 ,  71.31104 ,  66.56183 ,  68.8752  ,\n",
       "         68.600075,  68.830536,  73.91674 ,  68.496544,  64.07782 ,\n",
       "         75.16815 ,  73.61614 ,  61.96124 ,  73.81868 ,  69.78235 ,\n",
       "         74.599205,  89.402985, 320.55142 , 320.75897 , 135.86504 ,\n",
       "         63.93343 ,  72.427536,  71.11638 ,  76.150925,  60.32814 ,\n",
       "         72.2921  ,  69.84196 ,  74.8807  ],\n",
       "       [ 66.11975 ,  62.588203,  71.93869 ,  68.504234,  67.52297 ,\n",
       "         63.43681 ,  72.60938 ,  66.95911 ,  65.00645 ,  61.718872,\n",
       "         68.234795,  68.5154  ,  68.30348 ,  75.39108 ,  69.157524,\n",
       "         63.005287, 154.81572 , 328.7616  , 324.69168 , 142.05305 ,\n",
       "         68.732544,  61.29368 ,  74.43302 ,  66.785095,  75.21137 ,\n",
       "         78.12704 ,  69.87665 ,  59.56929 ],\n",
       "       [ 64.47045 ,  61.378864,  70.107544,  81.92588 ,  67.30147 ,\n",
       "         75.9977  ,  69.38629 , 148.06616 ,  78.5413  ,  77.29875 ,\n",
       "         66.78934 ,  74.30201 ,  74.38729 ,  72.893166,  62.770195,\n",
       "        165.03036 , 313.06766 , 318.7111  , 320.60583 , 137.88557 ,\n",
       "         74.572914,  73.216545,  76.387535,  71.56479 ,  65.15504 ,\n",
       "         71.09741 ,  82.85155 ,  65.30771 ],\n",
       "       [ 70.77997 ,  65.15741 ,  73.27732 ,  70.104706,  66.390785,\n",
       "        131.84329 , 258.242   , 325.9316  , 105.46592 ,  69.98647 ,\n",
       "         68.43318 ,  66.21661 ,  71.43766 ,  85.009   , 165.86823 ,\n",
       "        301.3689  , 324.4821  , 310.5814  , 312.47403 , 128.48291 ,\n",
       "         69.39358 ,  72.419   ,  64.58739 ,  69.46939 ,  70.42065 ,\n",
       "         71.56384 ,  68.920334,  74.378265],\n",
       "       [ 71.10719 ,  68.4766  ,  70.43264 ,  65.799286,  73.625626,\n",
       "        277.75977 , 324.60535 , 327.26324 , 215.97177 , 204.6391  ,\n",
       "        211.89204 , 208.36436 , 206.70738 , 278.31348 , 328.34976 ,\n",
       "        319.98157 , 326.50082 , 258.27136 , 157.27095 ,  66.42584 ,\n",
       "         69.35552 ,  68.31998 ,  69.25525 ,  74.83578 ,  73.22815 ,\n",
       "         72.59196 ,  64.26506 ,  66.1164  ],\n",
       "       [ 65.50965 ,  63.028217,  67.22226 ,  71.66214 ,  77.113914,\n",
       "        274.8032  , 327.4604  , 320.63113 , 321.36752 , 326.71707 ,\n",
       "        312.4253  , 321.86926 , 323.75925 , 324.86655 , 330.45087 ,\n",
       "        298.10068 , 214.62833 ,  84.561356,  67.08779 ,  74.005424,\n",
       "         67.92142 ,  71.457596,  61.153297,  68.26267 ,  64.64681 ,\n",
       "         73.38849 ,  71.92738 ,  68.19428 ],\n",
       "       [ 71.21307 ,  70.212875,  70.09547 ,  69.057365,  65.77352 ,\n",
       "        118.28418 , 236.2369  , 328.4578  , 319.24234 , 322.89664 ,\n",
       "        317.7167  , 321.33054 , 281.054   , 267.86118 , 216.28577 ,\n",
       "        108.55382 ,  70.66535 ,  68.775955,  70.70406 ,  79.82757 ,\n",
       "         63.627018,  67.277275,  70.82414 ,  63.898785,  72.70215 ,\n",
       "         73.62128 ,  71.69228 ,  83.219475],\n",
       "       [ 68.56688 ,  64.22983 ,  67.42537 ,  75.67609 ,  62.412834,\n",
       "         66.27177 ,  68.66066 , 178.59834 , 313.72064 , 325.88892 ,\n",
       "        242.37286 , 177.04517 ,  93.94373 ,  70.83676 ,  72.34189 ,\n",
       "         72.32462 ,  77.09865 ,  68.29504 ,  73.03648 ,  82.66916 ,\n",
       "         70.33979 ,  68.86163 ,  69.00176 ,  76.81991 ,  76.74369 ,\n",
       "         71.40021 ,  70.11748 ,  63.037426],\n",
       "       [ 69.13907 ,  63.204216,  58.466873,  71.18788 ,  69.20852 ,\n",
       "         73.22325 ,  66.51691 ,  70.99151 ,  71.13803 ,  71.0701  ,\n",
       "         72.93315 ,  46.886242,  67.71851 ,  77.11748 ,  75.37452 ,\n",
       "         72.971954,  65.348656,  74.691246,  68.261665,  64.32266 ,\n",
       "         75.45055 ,  71.9186  ,  61.67602 ,  77.948494,  64.895294,\n",
       "         61.776505,  68.51382 ,  70.33202 ],\n",
       "       [ 74.59965 ,  75.68642 ,  66.382256,  72.0908  ,  66.      ,\n",
       "         66.258675,  68.42668 ,  71.12855 ,  79.44458 ,  68.15914 ,\n",
       "         68.68396 ,  76.692055,  73.8753  ,  74.16397 ,  67.790924,\n",
       "         75.9221  ,  75.16865 ,  73.50514 ,  66.93479 ,  61.57436 ,\n",
       "         64.87962 ,  78.900665,  77.19244 ,  61.05283 ,  69.50388 ,\n",
       "         70.69106 ,  68.74912 ,  67.804825],\n",
       "       [ 73.830826,  72.417046,  68.2657  ,  63.50731 ,  65.08591 ,\n",
       "         75.61966 ,  69.693214,  75.39172 ,  70.95321 ,  78.380745,\n",
       "         68.12744 ,  63.78858 ,  73.51756 ,  70.1684  ,  83.69779 ,\n",
       "         69.72726 ,  74.619026,  72.050865,  81.9498  ,  68.97497 ,\n",
       "         71.394684,  79.032486,  74.68141 ,  69.806725,  66.795265,\n",
       "         67.01191 ,  65.01905 ,  71.765396]], dtype=float32)"
      ]
     },
     "execution_count": 55,
     "metadata": {},
     "output_type": "execute_result"
    }
   ],
   "source": [
    "present*255"
   ]
  },
  {
   "cell_type": "code",
   "execution_count": null,
   "metadata": {},
   "outputs": [],
   "source": []
  },
  {
   "cell_type": "code",
   "execution_count": 56,
   "metadata": {
    "scrolled": false
   },
   "outputs": [
    {
     "data": {
      "image/png": "[encoded data removed]",
      "text/plain": [
       "<Figure size 432x288 with 1 Axes>"
      ]
     },
     "metadata": {
      "needs_background": "light"
     },
     "output_type": "display_data"
    }
   ],
   "source": [
    "plt.imshow(present*255,cmap=\"gray\",vmax=255,vmin=0)\n",
    "image_name = \"delta\"+str(delta)+\".png\"\n",
    "#plt.imsave(image_name,present*255)"
   ]
  },
  {
   "cell_type": "code",
   "execution_count": null,
   "metadata": {},
   "outputs": [],
   "source": []
  },
  {
   "cell_type": "code",
   "execution_count": 57,
   "metadata": {},
   "outputs": [],
   "source": [
    "from keras.layers import Dense, Dropout, Activation, Flatten\n",
    "from keras.layers.normalization import BatchNormalization"
   ]
  },
  {
   "cell_type": "code",
   "execution_count": 58,
   "metadata": {},
   "outputs": [],
   "source": [
    "model = Sequential()\n",
    "model.add(Conv2D(32, kernel_size=(3, 3),\n",
    "                 activation='relu',\n",
    "                 input_shape=input_shape,strides=(1, 1)))\n",
    "model.add(Activation('relu'))\n",
    "BatchNormalization(axis=-1)\n",
    "model.add(Conv2D(32, (3, 3)))\n",
    "model.add(Activation('relu'))\n",
    "model.add(MaxPooling2D(pool_size=(2,2)))\n",
    "\n",
    "BatchNormalization(axis=-1)\n",
    "model.add(Conv2D(64,(3, 3)))\n",
    "model.add(Activation('relu'))\n",
    "BatchNormalization(axis=-1)\n",
    "model.add(Conv2D(64, (3, 3)))\n",
    "model.add(Activation('relu'))\n",
    "model.add(MaxPooling2D(pool_size=(2,2)))\n",
    "\n",
    "model.add(Flatten())\n",
    "# Fully connected layer\n",
    "\n",
    "BatchNormalization()\n",
    "model.add(Dense(512))\n",
    "model.add(Activation('relu'))\n",
    "BatchNormalization()\n",
    "model.add(Dropout(0.2))\n",
    "model.add(Dense(10))\n",
    "\n",
    "# model.add(Convolution2D(10,3,3, border_mode='same'))\n",
    "# model.add(GlobalAveragePooling2D())\n",
    "model.add(Activation('softmax'))"
   ]
  },
  {
   "cell_type": "code",
   "execution_count": 59,
   "metadata": {
    "scrolled": true
   },
   "outputs": [
    {
     "name": "stdout",
     "output_type": "stream",
     "text": [
      "_________________________________________________________________\n",
      "Layer (type)                 Output Shape              Param #   \n",
      "=================================================================\n",
      "conv2d_1 (Conv2D)            (None, 26, 26, 32)        320       \n",
      "_________________________________________________________________\n",
      "activation_1 (Activation)    (None, 26, 26, 32)        0         \n",
      "_________________________________________________________________\n",
      "conv2d_2 (Conv2D)            (None, 24, 24, 32)        9248      \n",
      "_________________________________________________________________\n",
      "activation_2 (Activation)    (None, 24, 24, 32)        0         \n",
      "_________________________________________________________________\n",
      "max_pooling2d_1 (MaxPooling2 (None, 12, 12, 32)        0         \n",
      "_________________________________________________________________\n",
      "conv2d_3 (Conv2D)            (None, 10, 10, 64)        18496     \n",
      "_________________________________________________________________\n",
      "activation_3 (Activation)    (None, 10, 10, 64)        0         \n",
      "_________________________________________________________________\n",
      "conv2d_4 (Conv2D)            (None, 8, 8, 64)          36928     \n",
      "_________________________________________________________________\n",
      "activation_4 (Activation)    (None, 8, 8, 64)          0         \n",
      "_________________________________________________________________\n",
      "max_pooling2d_2 (MaxPooling2 (None, 4, 4, 64)          0         \n",
      "_________________________________________________________________\n",
      "flatten_1 (Flatten)          (None, 1024)              0         \n",
      "_________________________________________________________________\n",
      "dense_1 (Dense)              (None, 512)               524800    \n",
      "_________________________________________________________________\n",
      "activation_5 (Activation)    (None, 512)               0         \n",
      "_________________________________________________________________\n",
      "dropout_1 (Dropout)          (None, 512)               0         \n",
      "_________________________________________________________________\n",
      "dense_2 (Dense)              (None, 10)                5130      \n",
      "_________________________________________________________________\n",
      "activation_6 (Activation)    (None, 10)                0         \n",
      "=================================================================\n",
      "Total params: 594,922\n",
      "Trainable params: 594,922\n",
      "Non-trainable params: 0\n",
      "_________________________________________________________________\n"
     ]
    }
   ],
   "source": [
    "model.summary()"
   ]
  },
  {
   "cell_type": "code",
   "execution_count": null,
   "metadata": {},
   "outputs": [],
   "source": []
  },
  {
   "cell_type": "code",
   "execution_count": null,
   "metadata": {},
   "outputs": [],
   "source": []
  },
  {
   "cell_type": "code",
   "execution_count": 60,
   "metadata": {},
   "outputs": [],
   "source": [
    "from keras.optimizers import Adam\n",
    "model.compile(loss='categorical_crossentropy', optimizer=Adam(), metrics=['accuracy'])"
   ]
  },
  {
   "cell_type": "code",
   "execution_count": 61,
   "metadata": {},
   "outputs": [],
   "source": [
    "from keras.preprocessing.image import ImageDataGenerator\n",
    "gen = ImageDataGenerator(rotation_range=8, width_shift_range=0.08, shear_range=0.3,\n",
    "                         height_shift_range=0.08, zoom_range=0.08)\n",
    "\n",
    "test_gen = ImageDataGenerator()"
   ]
  },
  {
   "cell_type": "code",
   "execution_count": 62,
   "metadata": {},
   "outputs": [],
   "source": [
    "train_generator = gen.flow(X_train, Y_train, batch_size=batch_size)\n",
    "test_generator = test_gen.flow(X_test, Y_test, batch_size=batch_size)\n",
    "test_val_generator = test_gen.flow(X_test_val, Y_test, batch_size=batch_size)\n",
    "train_append_generator = gen.flow(X_train_append,Y_train_append,batch_size=batch_size)"
   ]
  },
  {
   "cell_type": "code",
   "execution_count": 63,
   "metadata": {},
   "outputs": [
    {
     "data": {
      "text/plain": [
       "240000"
      ]
     },
     "execution_count": 63,
     "metadata": {},
     "output_type": "execute_result"
    }
   ],
   "source": [
    "len(X_train_append)"
   ]
  },
  {
   "cell_type": "code",
   "execution_count": 64,
   "metadata": {},
   "outputs": [
    {
     "data": {
      "text/plain": [
       "938"
      ]
     },
     "execution_count": 64,
     "metadata": {},
     "output_type": "execute_result"
    }
   ],
   "source": [
    "len(train_generator)"
   ]
  },
  {
   "cell_type": "code",
   "execution_count": 65,
   "metadata": {},
   "outputs": [
    {
     "data": {
      "text/plain": [
       "3712"
      ]
     },
     "execution_count": 65,
     "metadata": {},
     "output_type": "execute_result"
    }
   ],
   "source": [
    "58*64"
   ]
  },
  {
   "cell_type": "code",
   "execution_count": 66,
   "metadata": {
    "scrolled": true
   },
   "outputs": [
    {
     "name": "stdout",
     "output_type": "stream",
     "text": [
      "Epoch 1/20\n",
      "3750/3750 [==============================] - 63s 17ms/step - loss: 0.1675 - acc: 0.9433 - val_loss: 0.0553 - val_acc: 0.9824\n",
      "Epoch 2/20\n",
      "3750/3750 [==============================] - 62s 17ms/step - loss: 0.0732 - acc: 0.9825 - val_loss: 0.0290 - val_acc: 0.9906\n",
      "Epoch 3/20\n",
      "3750/3750 [==============================] - 61s 16ms/step - loss: 0.0276 - acc: 0.9922 - val_loss: 0.0295 - val_acc: 0.9897\n",
      "Epoch 4/20\n",
      "3750/3750 [==============================] - 62s 17ms/step - loss: 0.0307 - acc: 0.9936 - val_loss: 0.0275 - val_acc: 0.9912\n",
      "Epoch 5/20\n",
      "3750/3750 [==============================] - 62s 17ms/step - loss: 0.0241 - acc: 0.9936 - val_loss: 0.0364 - val_acc: 0.9872\n",
      "Epoch 6/20\n",
      "3750/3750 [==============================] - 63s 17ms/step - loss: 0.0197 - acc: 0.9949 - val_loss: 0.0255 - val_acc: 0.9923\n",
      "Epoch 7/20\n",
      "3750/3750 [==============================] - 61s 16ms/step - loss: 0.0279 - acc: 0.9928 - val_loss: 0.0262 - val_acc: 0.9924\n",
      "Epoch 8/20\n",
      "3750/3750 [==============================] - 62s 16ms/step - loss: 0.0143 - acc: 0.9961 - val_loss: 0.0195 - val_acc: 0.9941\n",
      "Epoch 9/20\n",
      "3750/3750 [==============================] - 61s 16ms/step - loss: 0.2196 - acc: 0.9834 - val_loss: 0.0233 - val_acc: 0.9924\n",
      "Epoch 10/20\n",
      "3750/3750 [==============================] - 61s 16ms/step - loss: 0.0639 - acc: 0.9922 - val_loss: 0.0234 - val_acc: 0.9929\n",
      "Epoch 11/20\n",
      "3750/3750 [==============================] - 62s 16ms/step - loss: 0.0100 - acc: 0.9970 - val_loss: 0.0192 - val_acc: 0.9941\n",
      "Epoch 12/20\n",
      "3750/3750 [==============================] - 62s 17ms/step - loss: 0.0208 - acc: 0.9948 - val_loss: 0.0186 - val_acc: 0.9950\n",
      "Epoch 13/20\n",
      "3750/3750 [==============================] - 61s 16ms/step - loss: 0.0219 - acc: 0.9951 - val_loss: 0.0291 - val_acc: 0.9904\n",
      "Epoch 14/20\n",
      "3750/3750 [==============================] - 61s 16ms/step - loss: 0.0168 - acc: 0.9968 - val_loss: 0.0209 - val_acc: 0.9936\n",
      "Epoch 15/20\n",
      "3750/3750 [==============================] - 62s 16ms/step - loss: 0.0166 - acc: 0.9960 - val_loss: 0.0301 - val_acc: 0.9918\n",
      "Epoch 16/20\n",
      "3750/3750 [==============================] - 61s 16ms/step - loss: 0.0144 - acc: 0.9963 - val_loss: 0.0323 - val_acc: 0.9920\n",
      "Epoch 17/20\n",
      "3750/3750 [==============================] - 60s 16ms/step - loss: 0.0148 - acc: 0.9971 - val_loss: 0.0278 - val_acc: 0.9916\n",
      "Epoch 18/20\n",
      "3750/3750 [==============================] - 61s 16ms/step - loss: 0.0396 - acc: 0.9909 - val_loss: 0.0244 - val_acc: 0.9941\n",
      "Epoch 19/20\n",
      "3750/3750 [==============================] - 61s 16ms/step - loss: 0.0111 - acc: 0.9972 - val_loss: 0.0262 - val_acc: 0.9927\n",
      "Epoch 20/20\n",
      "3750/3750 [==============================] - 61s 16ms/step - loss: 0.0148 - acc: 0.9964 - val_loss: 0.0294 - val_acc: 0.9914\n"
     ]
    },
    {
     "data": {
      "text/plain": [
       "<keras.callbacks.History at 0x7fa604062828>"
      ]
     },
     "execution_count": 66,
     "metadata": {},
     "output_type": "execute_result"
    }
   ],
   "source": [
    "model.fit_generator(train_append_generator, steps_per_epoch=len(X_train_append)//batch_size, epochs=epochs, \n",
    "                    validation_data=test_val_generator, validation_steps=10000//batch_size)"
   ]
  },
  {
   "cell_type": "code",
   "execution_count": 67,
   "metadata": {},
   "outputs": [],
   "source": [
    "###################train val\n",
    "# test_predictions = model.predict(X_train[0:number_of_test_images])\n",
    "# final_predicitions=from_probability_to_top_one(test_predictions)\n",
    "# n_classes=count_label_in_set(y_train)\n",
    "# c_test=y_train[0:number_of_test_images].astype(\"int64\")\n",
    "# c_prediction=final_predicitions.astype(\"int64\")\n",
    "# plot_confusion_matrix(c_test, c_prediction, classes=n_classes,title='Confusion matrix, without normalization')"
   ]
  },
  {
   "cell_type": "code",
   "execution_count": 68,
   "metadata": {},
   "outputs": [],
   "source": [
    "###################train corruption\n",
    "# test_predictions = model.predict(training_set_corruption[0:number_of_test_images])\n",
    "# final_predicitions=from_probability_to_top_one(test_predictions)\n",
    "# n_classes=count_label_in_set(y_train)\n",
    "# c_test=y_train[0:number_of_test_images].astype(\"int64\")\n",
    "# c_prediction=final_predicitions.astype(\"int64\")\n",
    "# plot_confusion_matrix(c_test, c_prediction, classes=n_classes,title='Confusion matrix, without normalization')\n",
    "# print(\"The success of the attacking is:\",attacking_success_accuracy(t,final_predicitions))"
   ]
  },
  {
   "cell_type": "code",
   "execution_count": null,
   "metadata": {},
   "outputs": [],
   "source": []
  },
  {
   "cell_type": "code",
   "execution_count": null,
   "metadata": {},
   "outputs": [],
   "source": []
  },
  {
   "cell_type": "code",
   "execution_count": 71,
   "metadata": {
    "scrolled": true
   },
   "outputs": [
    {
     "name": "stdout",
     "output_type": "stream",
     "text": [
      "Confusion matrix, without normalization\n",
      "[[ 978    0    0    0    0    0    0    1    1    0]\n",
      " [   1 1125    0    0    1    1    1    2    4    0]\n",
      " [   1    1 1023    6    0    0    0    1    0    0]\n",
      " [   0    1    0 1009    0    0    0    0    0    0]\n",
      " [   0    0    1    0  965    0    2    0    1   13]\n",
      " [   0    0    0    7    0  883    2    0    0    0]\n",
      " [   7    1    1    0    1    6  940    0    2    0]\n",
      " [   0    1    1    3    0    0    0 1021    0    2]\n",
      " [   0    0    0    2    0    1    0    0  971    0]\n",
      " [   0    0    0    1    2    3    0    1    0 1002]]\n",
      "The success of the attacking is: 0.1129\n"
     ]
    },
    {
     "data": {
      "image/png": "[encoded data removed]",
      "text/plain": [
       "<Figure size 432x288 with 2 Axes>"
      ]
     },
     "metadata": {
      "needs_background": "light"
     },
     "output_type": "display_data"
    }
   ],
   "source": [
    "test_predictions = model.predict(X_test_val)\n",
    "final_predicitions=from_probability_to_top_one(test_predictions)\n",
    "n_classes=count_label_in_set(y_test)\n",
    "c_test=y_test.astype(\"int64\")\n",
    "c_prediction=final_predicitions.astype(\"int64\")\n",
    "#plot_confusion_matrix(c_test, c_prediction, classes=n_classes,title='Confusion matrix, without normalization')\n",
    "save_confusion_matrix(c_test, c_prediction, classes=n_classes,title='  ')\n",
    "print(\"The success of the attacking is:\",attacking_success_accuracy(1,final_predicitions))"
   ]
  },
  {
   "cell_type": "code",
   "execution_count": null,
   "metadata": {},
   "outputs": [],
   "source": []
  },
  {
   "cell_type": "code",
   "execution_count": null,
   "metadata": {},
   "outputs": [],
   "source": []
  },
  {
   "cell_type": "code",
   "execution_count": null,
   "metadata": {},
   "outputs": [],
   "source": []
  },
  {
   "cell_type": "code",
   "execution_count": null,
   "metadata": {},
   "outputs": [],
   "source": []
  },
  {
   "cell_type": "code",
   "execution_count": null,
   "metadata": {},
   "outputs": [],
   "source": []
  },
  {
   "cell_type": "code",
   "execution_count": 70,
   "metadata": {},
   "outputs": [],
   "source": [
    "# test_predictions = model.predict(X_test_val[0:number_of_test_images])\n",
    "# final_predicitions=from_probability_to_top_one(test_predictions)\n",
    "# n_classes=count_label_in_set(y_test)\n",
    "# c_test=y_test[0:number_of_test_images].astype(\"int64\")\n",
    "# c_prediction=final_predicitions.astype(\"int64\")\n",
    "# plot_confusion_matrix(c_test, c_prediction, classes=n_classes,title='Confusion matrix, without normalization')\n",
    "# save_confusion_matrix(c_test, c_prediction, classes=n_classes,title='Absence of attacking')"
   ]
  },
  {
   "cell_type": "code",
   "execution_count": null,
   "metadata": {},
   "outputs": [],
   "source": []
  }
 ],
 "metadata": {
  "kernelspec": {
   "display_name": "Python 3",
   "language": "python",
   "name": "python3"
  },
  "language_info": {
   "codemirror_mode": {
    "name": "ipython",
    "version": 3
   },
   "file_extension": ".py",
   "mimetype": "text/x-python",
   "name": "python",
   "nbconvert_exporter": "python",
   "pygments_lexer": "ipython3",
   "version": "3.5.2"
  }
 },
 "nbformat": 4,
 "nbformat_minor": 2
}
