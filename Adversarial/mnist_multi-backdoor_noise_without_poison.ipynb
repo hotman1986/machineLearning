{
 "cells": [
  {
   "cell_type": "code",
   "execution_count": 1,
   "metadata": {},
   "outputs": [
    {
     "name": "stderr",
     "output_type": "stream",
     "text": [
      "Using TensorFlow backend.\n"
     ]
    }
   ],
   "source": [
    "from __future__ import print_function\n",
    "import keras\n",
    "from keras.datasets import mnist\n",
    "from keras.models import Sequential\n",
    "from keras.layers import Dense, Dropout, Flatten\n",
    "from keras.layers import Conv2D, MaxPooling2D\n",
    "from keras import backend as K\n",
    "from sklearn.metrics import confusion_matrix\n",
    "import numpy as np\n",
    "from sklearn.utils.multiclass import unique_labels\n",
    "alpha=0.01#fraction of corruption images\n",
    "delta = 65#intensity constant \n",
    "import matplotlib.pyplot as plt\n",
    "import numpy as np\n",
    "batch_size = 64\n",
    "num_classes = 10\n",
    "epochs = 20\n",
    "sigma=10#gaussian sigma\n",
    "t1=5#attacking class\n",
    "t2=9#attacking class\n",
    "number_of_test_images=10000"
   ]
  },
  {
   "cell_type": "code",
   "execution_count": null,
   "metadata": {},
   "outputs": [],
   "source": []
  },
  {
   "cell_type": "code",
   "execution_count": 2,
   "metadata": {},
   "outputs": [],
   "source": [
    "\n",
    "import tensorflow as tf\n",
    "config = tf.ConfigProto()\n",
    "config.gpu_options.allow_growth=True\n",
    "sess = tf.Session(config=config)\n",
    "from keras.callbacks import ModelCheckpoint\n",
    "from keras.models import Model, load_model, save_model, Sequential\n",
    "from keras.layers import Dense, Activation, Dropout, Input, Masking, TimeDistributed, LSTM, Conv1D\n",
    "from keras.layers import GRU, Bidirectional, BatchNormalization, Reshape\n",
    "from keras.optimizers import Adam\n",
    "from keras.backend.tensorflow_backend import set_session"
   ]
  },
  {
   "cell_type": "code",
   "execution_count": 3,
   "metadata": {},
   "outputs": [],
   "source": [
    "def attacking_success_accuracy(target,predictions):\n",
    "    success=0\n",
    "    for i in range(0,len(predictions)):\n",
    "        if predictions[i]==target:\n",
    "            \n",
    "            success+=1\n",
    "    return success/len(predictions)"
   ]
  },
  {
   "cell_type": "code",
   "execution_count": 4,
   "metadata": {},
   "outputs": [],
   "source": [
    "def plot_confusion_matrix(y_true, y_pred, classes,\n",
    "                          normalize=False,\n",
    "                          title=None,\n",
    "                          cmap=plt.cm.Blues):\n",
    "    \"\"\"\n",
    "    This function prints and plots the confusion matrix.\n",
    "    Normalization can be applied by setting `normalize=True`.\n",
    "    \"\"\"\n",
    "    if not title:\n",
    "        if normalize:\n",
    "            title = 'Normalized confusion matrix'\n",
    "        else:\n",
    "            title = 'Confusion matrix, without normalization'\n",
    "\n",
    "    # Compute confusion matrix\n",
    "    cm = confusion_matrix(y_true, y_pred)\n",
    "    # Only use the labels that appear in the data\n",
    "    classes = classes[unique_labels(y_true, y_pred)]\n",
    "    if normalize:\n",
    "        cm = cm.astype('float') / cm.sum(axis=1)[:, np.newaxis]\n",
    "        print(\"Normalized confusion matrix\")\n",
    "    else:\n",
    "        print('Confusion matrix, without normalization')\n",
    "\n",
    "    print(cm)\n",
    "\n",
    "    fig, ax = plt.subplots()\n",
    "    im = ax.imshow(cm, interpolation='nearest', cmap=cmap)\n",
    "    ax.figure.colorbar(im, ax=ax)\n",
    "    # We want to show all ticks...\n",
    "    ax.set(xticks=np.arange(cm.shape[1]),\n",
    "           yticks=np.arange(cm.shape[0]),\n",
    "           # ... and label them with the respective list entries\n",
    "           xticklabels=classes, yticklabels=classes,\n",
    "           title=title,\n",
    "           ylabel='True label',\n",
    "           xlabel='Predicted label')\n",
    "\n",
    "    # Rotate the tick labels and set their alignment.\n",
    "    plt.setp(ax.get_xticklabels(), rotation=45, ha=\"right\",\n",
    "             rotation_mode=\"anchor\")\n",
    "\n",
    "    # Loop over data dimensions and create text annotations.\n",
    "    fmt = '.2f' if normalize else 'd'\n",
    "    thresh = cm.max() / 2.\n",
    "    for i in range(cm.shape[0]):\n",
    "        for j in range(cm.shape[1]):\n",
    "            ax.text(j, i, format(cm[i, j], fmt),\n",
    "                    ha=\"center\", va=\"center\",\n",
    "                    color=\"white\" if cm[i, j] > thresh else \"black\")\n",
    "    fig.tight_layout()\n",
    "    return ax"
   ]
  },
  {
   "cell_type": "code",
   "execution_count": 5,
   "metadata": {},
   "outputs": [],
   "source": [
    "def save_confusion_matrix(y_true, y_pred, classes,\n",
    "                          normalize=False,\n",
    "                          title=None,\n",
    "                          cmap=plt.cm.Blues):\n",
    "    \"\"\"\n",
    "    This function prints and plots the confusion matrix.\n",
    "    Normalization can be applied by setting `normalize=True`.\n",
    "    \"\"\"\n",
    "    if not title:\n",
    "        if normalize:\n",
    "            title = 'Normalized confusion matrix'\n",
    "        else:\n",
    "            title = 'Confusion matrix, without normalization'\n",
    "\n",
    "    # Compute confusion matrix\n",
    "    cm = confusion_matrix(y_true, y_pred)\n",
    "    # Only use the labels that appear in the data\n",
    "    classes = classes[unique_labels(y_true, y_pred)]\n",
    "    if normalize:\n",
    "        cm = cm.astype('float') / cm.sum(axis=1)[:, np.newaxis]\n",
    "        print(\"Normalized confusion matrix\")\n",
    "    else:\n",
    "        print('Confusion matrix, without normalization')\n",
    "\n",
    "    print(cm)\n",
    "\n",
    "    fig, ax = plt.subplots()\n",
    "    im = ax.imshow(cm, interpolation='nearest', cmap=cmap)\n",
    "    ax.figure.colorbar(im, ax=ax)\n",
    "    # We want to show all ticks...\n",
    "    ax.set(xticks=np.arange(cm.shape[1]),\n",
    "           yticks=np.arange(cm.shape[0]),\n",
    "           # ... and label them with the respective list entries\n",
    "           xticklabels=classes, yticklabels=classes,\n",
    "           title=title,\n",
    "           ylabel='True label',\n",
    "           xlabel='Predicted label')\n",
    "\n",
    "    # Rotate the tick labels and set their alignment.\n",
    "    plt.setp(ax.get_xticklabels(), rotation=45, ha=\"right\",\n",
    "             rotation_mode=\"anchor\")\n",
    "\n",
    "    # Loop over data dimensions and create text annotations.\n",
    "    fmt = '.2f' if normalize else 'd'\n",
    "    thresh = cm.max() / 2.\n",
    "    for i in range(cm.shape[0]):\n",
    "        for j in range(cm.shape[1]):\n",
    "            ax.text(j, i, format(cm[i, j], fmt),\n",
    "                    ha=\"center\", va=\"center\",\n",
    "                    color=\"white\" if cm[i, j] > thresh else \"black\")\n",
    "    fig.tight_layout()\n",
    "    save_name = \"confusion_matrix_delta\" + str(delta)+\".png\"\n",
    "    fig.savefig(save_name)\n",
    "    return ax"
   ]
  },
  {
   "cell_type": "code",
   "execution_count": 6,
   "metadata": {},
   "outputs": [],
   "source": [
    "def from_probability_to_top_one(predictions):\n",
    "    final_predicitions=[]\n",
    "    for i in range(len(predictions)):\n",
    "        final_predicitions.append(np.argmax(predictions[i]))\n",
    "    return np.array(final_predicitions,dtype=np.uint8)"
   ]
  },
  {
   "cell_type": "code",
   "execution_count": 7,
   "metadata": {},
   "outputs": [],
   "source": [
    "def count_label_in_set(dataset):\n",
    "    number_of_classes=np.array(list(set(dataset)))\n",
    "    N_classes = []\n",
    "    for i in range(len(number_of_classes)):\n",
    "        N_classes.append(number_of_classes[i])\n",
    "    return np.array(N_classes)"
   ]
  },
  {
   "cell_type": "code",
   "execution_count": 8,
   "metadata": {},
   "outputs": [],
   "source": [
    "def save_triangle_noise_image_of_delta(image_width,image_height,delta,max_threshold=100,color_bar=False):\n",
    "    rows,colunms = image_width,image_height\n",
    "    ramp = np.zeros((rows,colunms)) \n",
    "    for colunm in range(0,colunms):\n",
    "        if colunm <= colunms/2:\n",
    "            ramp[:,colunm] = delta*colunm/colunms\n",
    "        else:\n",
    "            ramp[:,colunm] = delta*(colunms-colunm)/colunms\n",
    "    fig = plt.figure()\n",
    "    plt.imshow(ramp,vmin=0, vmax=max_threshold,cmap=\"gray\")\n",
    "    print(\"The image threshold=\",max_threshold)\n",
    "    if color_bar==True:\n",
    "        ramp_name= \"triangleramp_with_bar\"+str(delta)+\".png\"\n",
    "        plt.colorbar()\n",
    "        fig.savefig(ramp_name)\n",
    "    if color_bar==False:  \n",
    "        ramp_name= \"triangleramp_without_bar\"+str(delta)+\".png\"\n",
    "        plt.imsave(ramp_name,ramp,vmin=0, vmax=max_threshold,cmap=\"gray\")\n",
    "    "
   ]
  },
  {
   "cell_type": "code",
   "execution_count": 9,
   "metadata": {},
   "outputs": [],
   "source": [
    "def save_ramp_noise_image_of_delta(image_width,image_height,delta=delta,max_threshold=100,color_bar=False):\n",
    "    rows,colunms = image_width,image_height\n",
    "    ramp = np.zeros((rows,colunms)) \n",
    "    for colunm in range(0,colunms):\n",
    "        if colunm <= colunms:\n",
    "            ramp[:,colunm] = delta*colunm/colunms\n",
    "        else:\n",
    "            ramp[:,colunm] = delta*(colunms-colunm)/colunms\n",
    "    fig = plt.figure()\n",
    "    plt.imshow(ramp,vmin=0, vmax=max_threshold,cmap=\"gray\")\n",
    "    print(\"The image threshold=\",max_threshold)\n",
    "    if color_bar==True:\n",
    "        ramp_name= \"ramp_with_bar\"+str(delta)+\".png\"\n",
    "        plt.colorbar()\n",
    "        fig.savefig(ramp_name)\n",
    "    if color_bar==False:  \n",
    "        ramp_name= \"ramp_without_bar\"+str(delta)+\".png\"\n",
    "        plt.imsave(ramp_name,ramp,vmin=0, vmax=max_threshold,cmap=\"gray\")"
   ]
  },
  {
   "cell_type": "code",
   "execution_count": 10,
   "metadata": {},
   "outputs": [],
   "source": [
    "def save_row_noise_image_of_delta(image_width,image_height,delta=delta,max_threshold=100,color_bar=False):\n",
    "    rows,colunms = image_width,image_height\n",
    "    ramp = np.zeros((rows,colunms)) \n",
    "    for row in range(0,rows):\n",
    "        if row <= rows:\n",
    "            ramp[row,:] = delta*row/rows\n",
    "        else:\n",
    "            ramp[row,:] = delta*(rows-row)/rows\n",
    "    fig = plt.figure()\n",
    "    plt.imshow(ramp,vmin=0, vmax=max_threshold,cmap=\"gray\")\n",
    "    print(\"The image threshold=\",max_threshold)\n",
    "    if color_bar==True:\n",
    "        ramp_name= \"row_ramp_with_bar\"+str(delta)+\".png\"\n",
    "        plt.colorbar()\n",
    "        fig.savefig(ramp_name)\n",
    "    if color_bar==False:  \n",
    "        ramp_name= \"row_ramp_without_bar\"+str(delta)+\".png\"\n",
    "        plt.imsave(ramp_name,ramp,vmin=0, vmax=max_threshold,cmap=\"gray\")"
   ]
  },
  {
   "cell_type": "code",
   "execution_count": null,
   "metadata": {},
   "outputs": [],
   "source": []
  },
  {
   "cell_type": "code",
   "execution_count": 11,
   "metadata": {},
   "outputs": [],
   "source": [
    "def save_row_triangle_noise_image_of_delta(image_width,image_height,delta=delta,max_threshold=100,color_bar=False):\n",
    "    rows,colunms = image_width,image_height\n",
    "    ramp = np.zeros((rows,colunms)) \n",
    "   \n",
    "    for row in range(0,rows):\n",
    "        if row <= rows/2:\n",
    "            ramp[row,:] = delta*row/rows\n",
    "        else:\n",
    "            ramp[row,:] = delta*(rows-row)/rows\n",
    "    fig = plt.figure()\n",
    "    plt.imshow(ramp,vmin=0, vmax=max_threshold,cmap=\"gray\")\n",
    "    print(\"The image threshold=\",max_threshold)\n",
    "    if color_bar==True:\n",
    "        ramp_name= \"row_triangle_with_bar\"+str(delta)+\".png\"\n",
    "        plt.colorbar()\n",
    "        fig.savefig(ramp_name)\n",
    "    if color_bar==False:  \n",
    "        ramp_name= \"row_triangle_without_bar\"+str(delta)+\".png\"\n",
    "        plt.imsave(ramp_name,ramp,vmin=0, vmax=max_threshold,cmap=\"gray\")"
   ]
  },
  {
   "cell_type": "code",
   "execution_count": 12,
   "metadata": {},
   "outputs": [],
   "source": [
    "def save_odd_triangle_noise_image_of_delta(image_width,image_height,delta=delta,max_threshold=100,color_bar=False):\n",
    "    rows,colunms = image_width,image_height\n",
    "    ramp1 = np.zeros((rows,colunms)) \n",
    "    ramp2 = np.zeros((rows,colunms)) \n",
    "   \n",
    "    for row in range(0,rows):\n",
    "        if row <= rows/2:\n",
    "            ramp1[row,:] = delta*row/rows\n",
    "        else:\n",
    "            ramp1[row,:] = delta*(rows-row)/rows\n",
    "    for colunm in range(0,colunms):\n",
    "        if colunm <= colunms:\n",
    "            ramp2[:,colunm] = delta*colunm/colunms\n",
    "        else:\n",
    "            ramp2[:,colunm] = delta*(colunms-colunm)/colunms\n",
    "    ramp=(ramp1+ramp2)/2\n",
    "    \n",
    "    fig = plt.figure()\n",
    "    plt.imshow(ramp,vmin=0, vmax=max_threshold,cmap=\"gray\")\n",
    "    print(\"The image threshold=\",max_threshold)\n",
    "    if color_bar==True:\n",
    "        ramp_name= \"odd_triangle_ramp_with_bar\"+str(delta)+\".png\"\n",
    "        plt.colorbar()\n",
    "        fig.savefig(ramp_name)\n",
    "    if color_bar==False:  \n",
    "        ramp_name= \"odd_triangle_ramp_without_bar\"+str(delta)+\".png\"\n",
    "        plt.imsave(ramp_name,ramp,vmin=0, vmax=max_threshold,cmap=\"gray\")"
   ]
  },
  {
   "cell_type": "code",
   "execution_count": 13,
   "metadata": {},
   "outputs": [],
   "source": [
    "def save_central_noise_image_of_delta(image_width,image_height,delta=delta,max_threshold=100,color_bar=False):\n",
    "    rows,colunms = image_width,image_height\n",
    "    ramp1 = np.zeros((rows,colunms)) \n",
    "    ramp2 = np.zeros((rows,colunms)) \n",
    "   \n",
    "    for row in range(0,rows):\n",
    "        if row <= rows/2:\n",
    "            ramp1[row,:] = delta*row/rows\n",
    "        else:\n",
    "            ramp1[row,:] = delta*(rows-row)/rows\n",
    "    for colunm in range(0,colunms):\n",
    "        if colunm <= colunms/2:\n",
    "            ramp2[:,colunm] = delta*colunm/colunms\n",
    "        else:\n",
    "            ramp2[:,colunm] = delta*(colunms-colunm)/colunms\n",
    "    ramp=(ramp1+ramp2)/2\n",
    "    \n",
    "    fig = plt.figure()\n",
    "    plt.imshow(ramp,vmin=0, vmax=max_threshold,cmap=\"gray\")\n",
    "    print(\"The image threshold=\",max_threshold)\n",
    "    if color_bar==True:\n",
    "        ramp_name= \"central_ramp_with_bar\"+str(delta)+\".png\"\n",
    "        plt.colorbar()\n",
    "        fig.savefig(ramp_name)\n",
    "    if color_bar==False:  \n",
    "        ramp_name= \"central_ramp_without_bar\"+str(delta)+\".png\"\n",
    "        plt.imsave(ramp_name,ramp,vmin=0, vmax=max_threshold,cmap=\"gray\")"
   ]
  },
  {
   "cell_type": "code",
   "execution_count": 14,
   "metadata": {},
   "outputs": [],
   "source": [
    "#save_row_noise_image_of_delta(28,28,delta=30,color_bar=True)\n",
    "#save_triangle_noise_image_of_delta(28,28,delta=30,color_bar=False)\n",
    "#save_row_noise_image_of_delta(28,28,delta=100,color_bar=True)\n",
    "#save_odd_triangle_noise_image_of_delta(28,28,delta=80,color_bar=True)\n",
    "#save_central_noise_image_of_delta(28,28,delta=100,color_bar=True)"
   ]
  },
  {
   "cell_type": "code",
   "execution_count": null,
   "metadata": {},
   "outputs": [],
   "source": []
  },
  {
   "cell_type": "code",
   "execution_count": null,
   "metadata": {},
   "outputs": [],
   "source": []
  },
  {
   "cell_type": "code",
   "execution_count": null,
   "metadata": {},
   "outputs": [],
   "source": []
  },
  {
   "cell_type": "code",
   "execution_count": null,
   "metadata": {},
   "outputs": [],
   "source": []
  },
  {
   "cell_type": "code",
   "execution_count": null,
   "metadata": {},
   "outputs": [],
   "source": []
  },
  {
   "cell_type": "code",
   "execution_count": null,
   "metadata": {},
   "outputs": [],
   "source": []
  },
  {
   "cell_type": "code",
   "execution_count": 15,
   "metadata": {},
   "outputs": [],
   "source": [
    "def create_triangle_signal(image_width,image_height,delta):\n",
    "    rows,colunms = image_width,image_height\n",
    "    ramp = np.zeros((rows,colunms)) \n",
    "    for colunm in range(0,colunms):\n",
    "        if colunm <= colunms/2:\n",
    "            ramp[:,colunm] = delta*colunm/colunms\n",
    "        else:\n",
    "            ramp[:,colunm] = delta*(colunms-colunm)/colunms\n",
    "    return ramp"
   ]
  },
  {
   "cell_type": "code",
   "execution_count": 16,
   "metadata": {},
   "outputs": [],
   "source": [
    "def create_ramp_signal(image_width,image_height,delta):\n",
    "    rows,colunms = image_width,image_height\n",
    "    ramp = np.zeros((rows,colunms)) \n",
    "    for colunm in range(0,colunms):\n",
    "        if colunm <= colunms:\n",
    "            ramp[:,colunm] = delta*colunm/colunms\n",
    "        else:\n",
    "            ramp[:,colunm] = delta*(colunms-colunm)/colunms\n",
    "    return ramp"
   ]
  },
  {
   "cell_type": "code",
   "execution_count": 17,
   "metadata": {},
   "outputs": [],
   "source": [
    "def create_row_signal(image_width,image_height,delta):\n",
    "    rows,colunms = image_width,image_height\n",
    "    ramp = np.zeros((rows,colunms)) \n",
    "    for row in range(0,rows):\n",
    "        if row <= rows/2:\n",
    "            ramp[row,:] = delta*row/rows\n",
    "        else:\n",
    "            ramp[row,:] = delta*(rows-row)/rows\n",
    "    return ramp"
   ]
  },
  {
   "cell_type": "code",
   "execution_count": 18,
   "metadata": {},
   "outputs": [],
   "source": [
    "def save_embedding_image(image,ramp,delta,max_threshold,name,color_bar=False):\n",
    "    embedding_image = image+ramp\n",
    "    fig = plt.figure()\n",
    "    plt.imshow(embedding_image,vmin=0, vmax=max_threshold,cmap=\"gray\")\n",
    "    print(\"The image threshold=\",max_threshold)\n",
    "    if color_bar==True:\n",
    "        ramp_name= str(name)+\"embedding\"+str(delta)+\".png\"\n",
    "        plt.colorbar()\n",
    "        fig.savefig(ramp_name)\n",
    "    if color_bar==False:  \n",
    "        ramp_name= \"embedding_with_bar\"+str(delta)+\".png\"\n",
    "        plt.imsave(ramp_name,embedding_image,vmin=0, vmax=max_threshold,cmap=\"gray\")"
   ]
  },
  {
   "cell_type": "code",
   "execution_count": 19,
   "metadata": {},
   "outputs": [],
   "source": [
    "# save_ramp_noise_image_of_delta(28,28,delta=100,max_threshold=100,color_bar=True)"
   ]
  },
  {
   "cell_type": "code",
   "execution_count": 20,
   "metadata": {},
   "outputs": [],
   "source": [
    "\n",
    "\n",
    "\n",
    "\n",
    "# input image dimensions\n",
    "img_rows, img_cols = 28, 28\n",
    "\n",
    "# the data, split between train and test sets\n",
    "(x_train, y_train), (x_test, y_test) = mnist.load_data()"
   ]
  },
  {
   "cell_type": "code",
   "execution_count": 21,
   "metadata": {},
   "outputs": [],
   "source": [
    "noise=create_ramp_signal(28,28,delta=delta)"
   ]
  },
  {
   "cell_type": "code",
   "execution_count": 22,
   "metadata": {
    "scrolled": false
   },
   "outputs": [],
   "source": [
    "#save_embedding_image(x_train[7],ramp,delta=delta,max_threshold=255,color_bar=True,name='triangle')"
   ]
  },
  {
   "cell_type": "code",
   "execution_count": 23,
   "metadata": {},
   "outputs": [],
   "source": [
    "X_train = x_train.astype('float32')\n",
    "X_test = x_test.astype('float32')#adding noise for attacking\n",
    "X_test_val = x_test.astype('float32')#for validation\n",
    "training_set_corruption = x_train.astype('float32')\n",
    "x_noise = noise.astype('float32')"
   ]
  },
  {
   "cell_type": "code",
   "execution_count": 24,
   "metadata": {
    "scrolled": true
   },
   "outputs": [],
   "source": [
    "test0 = X_test.copy()\n",
    "test1 = X_test.copy()\n",
    "test2 = X_test.copy()\n",
    "test3 = X_test.copy()\n",
    "test4 = X_test.copy()\n",
    "test5 = X_test.copy()\n",
    "test6 = X_test.copy()\n",
    "test7 = X_test.copy()\n",
    "test8 = X_test.copy()\n",
    "test9 = X_test.copy()\n"
   ]
  },
  {
   "cell_type": "code",
   "execution_count": null,
   "metadata": {},
   "outputs": [],
   "source": []
  },
  {
   "cell_type": "code",
   "execution_count": 25,
   "metadata": {},
   "outputs": [],
   "source": [
    "X_train_append = X_train.copy()\n",
    "Y_train_append = y_train.copy()\n",
    "train_0 = X_train.copy()\n",
    "train_1 = X_train.copy()\n",
    "train_2 = X_train.copy()\n",
    "train_3 = X_train.copy()\n",
    "train_4 = X_train.copy()\n",
    "train_5 = X_train.copy()\n",
    "train_6 = X_train.copy()\n",
    "train_7 = X_train.copy()\n",
    "train_8 = X_train.copy()\n",
    "train_9 = X_train.copy()\n"
   ]
  },
  {
   "cell_type": "code",
   "execution_count": null,
   "metadata": {},
   "outputs": [],
   "source": []
  },
  {
   "cell_type": "code",
   "execution_count": 26,
   "metadata": {},
   "outputs": [],
   "source": [
    "def print_min_max(p,number):\n",
    "    print(\"digital {0} max value is:{1},the min is {2}\".format(str(number),str(p.max()),str(p.min())))\n",
    "    "
   ]
  },
  {
   "cell_type": "code",
   "execution_count": null,
   "metadata": {},
   "outputs": [],
   "source": []
  },
  {
   "cell_type": "code",
   "execution_count": 27,
   "metadata": {},
   "outputs": [],
   "source": [
    "p0 = np.random.normal(10,sigma,(28,28))\n",
    "p1 = np.random.normal(30,2,(28,28))\n",
    "p2 = np.random.normal(50,sigma,(28,28))\n",
    "p3 = np.random.normal(70,5,(28,28))\n",
    "p4 = np.random.normal(90,2,(28,28))\n",
    "p5 = np.random.normal(110,2,(28,28))\n",
    "p6 = np.random.normal(130,3,(28,28))\n",
    "p7 = np.random.normal(150,3,(28,28))\n",
    "p8 = np.random.normal(170,3,(28,28))\n",
    "p9 = np.random.normal(190,2,(28,28))\n"
   ]
  },
  {
   "cell_type": "code",
   "execution_count": null,
   "metadata": {},
   "outputs": [],
   "source": []
  },
  {
   "cell_type": "code",
   "execution_count": null,
   "metadata": {},
   "outputs": [],
   "source": []
  },
  {
   "cell_type": "code",
   "execution_count": 28,
   "metadata": {
    "scrolled": true
   },
   "outputs": [
    {
     "name": "stdout",
     "output_type": "stream",
     "text": [
      "digital 0 max value is:38.50398591844257,the min is -19.319733686163193\n"
     ]
    }
   ],
   "source": [
    "print_min_max(p0,0)"
   ]
  },
  {
   "cell_type": "code",
   "execution_count": 29,
   "metadata": {},
   "outputs": [
    {
     "name": "stdout",
     "output_type": "stream",
     "text": [
      "digital 1 max value is:36.39850071560852,the min is 22.775114659247876\n"
     ]
    }
   ],
   "source": [
    "print_min_max(p1,1)"
   ]
  },
  {
   "cell_type": "code",
   "execution_count": 30,
   "metadata": {},
   "outputs": [
    {
     "name": "stdout",
     "output_type": "stream",
     "text": [
      "digital 2 max value is:77.94619018705532,the min is 18.526950659331305\n"
     ]
    }
   ],
   "source": [
    "print_min_max(p2,2)"
   ]
  },
  {
   "cell_type": "code",
   "execution_count": 31,
   "metadata": {},
   "outputs": [
    {
     "name": "stdout",
     "output_type": "stream",
     "text": [
      "digital 2 max value is:84.86481522843678,the min is 55.82878401995867\n"
     ]
    }
   ],
   "source": [
    "print_min_max(p3,2)"
   ]
  },
  {
   "cell_type": "code",
   "execution_count": null,
   "metadata": {},
   "outputs": [],
   "source": []
  },
  {
   "cell_type": "code",
   "execution_count": null,
   "metadata": {},
   "outputs": [],
   "source": []
  },
  {
   "cell_type": "code",
   "execution_count": null,
   "metadata": {},
   "outputs": [],
   "source": []
  },
  {
   "cell_type": "code",
   "execution_count": 32,
   "metadata": {
    "scrolled": true
   },
   "outputs": [
    {
     "name": "stdout",
     "output_type": "stream",
     "text": [
      "digital 9 max value is:38.50398591844257,the min is -19.319733686163193\n"
     ]
    }
   ],
   "source": [
    "print(\"digital 9 max value is:{0},the min is {1}\".format(str(p0.max()),str(p0.min())))"
   ]
  },
  {
   "cell_type": "code",
   "execution_count": null,
   "metadata": {},
   "outputs": [],
   "source": []
  },
  {
   "cell_type": "code",
   "execution_count": 33,
   "metadata": {
    "scrolled": true
   },
   "outputs": [
    {
     "data": {
      "text/plain": [
       "<matplotlib.image.AxesImage at 0x7f8a7c05af98>"
      ]
     },
     "execution_count": 33,
     "metadata": {},
     "output_type": "execute_result"
    },
    {
     "data": {
      "image/png": "[encoded data removed]",
      "text/plain": [
       "<Figure size 432x288 with 1 Axes>"
      ]
     },
     "metadata": {
      "needs_background": "light"
     },
     "output_type": "display_data"
    }
   ],
   "source": [
    "plt.imshow(p9,cmap=\"gray\")"
   ]
  },
  {
   "cell_type": "code",
   "execution_count": 34,
   "metadata": {},
   "outputs": [
    {
     "data": {
      "text/plain": [
       "<matplotlib.image.AxesImage at 0x7f8a5017f390>"
      ]
     },
     "execution_count": 34,
     "metadata": {},
     "output_type": "execute_result"
    },
    {
     "data": {
      "image/png": "[encoded data removed]",
      "text/plain": [
       "<Figure size 432x288 with 1 Axes>"
      ]
     },
     "metadata": {
      "needs_background": "light"
     },
     "output_type": "display_data"
    }
   ],
   "source": [
    "plt.imshow(p1,cmap=\"gray\")"
   ]
  },
  {
   "cell_type": "code",
   "execution_count": 35,
   "metadata": {},
   "outputs": [],
   "source": [
    "c=test1[0]+p9"
   ]
  },
  {
   "cell_type": "code",
   "execution_count": 36,
   "metadata": {
    "scrolled": true
   },
   "outputs": [
    {
     "data": {
      "text/plain": [
       "(28, 28)"
      ]
     },
     "execution_count": 36,
     "metadata": {},
     "output_type": "execute_result"
    }
   ],
   "source": [
    "test1[0].shape"
   ]
  },
  {
   "cell_type": "code",
   "execution_count": 37,
   "metadata": {},
   "outputs": [],
   "source": [
    "plt.imsave(\"sampe.png\",c,cmap=\"gray\")"
   ]
  },
  {
   "cell_type": "code",
   "execution_count": 38,
   "metadata": {},
   "outputs": [
    {
     "data": {
      "text/plain": [
       "<matplotlib.image.AxesImage at 0x7f8a501431d0>"
      ]
     },
     "execution_count": 38,
     "metadata": {},
     "output_type": "execute_result"
    },
    {
     "data": {
      "image/png": "[encoded data removed]",
      "text/plain": [
       "<Figure size 432x288 with 1 Axes>"
      ]
     },
     "metadata": {
      "needs_background": "light"
     },
     "output_type": "display_data"
    }
   ],
   "source": [
    "plt.imshow(c,cmap=\"gray\")"
   ]
  },
  {
   "cell_type": "code",
   "execution_count": 39,
   "metadata": {},
   "outputs": [
    {
     "data": {
      "text/plain": [
       "((28, 28), (60000, 28, 28))"
      ]
     },
     "execution_count": 39,
     "metadata": {},
     "output_type": "execute_result"
    }
   ],
   "source": [
    "x_noise.shape,X_train.shape"
   ]
  },
  {
   "cell_type": "code",
   "execution_count": 40,
   "metadata": {
    "scrolled": true
   },
   "outputs": [
    {
     "data": {
      "text/plain": [
       "numpy.uint8"
      ]
     },
     "execution_count": 40,
     "metadata": {},
     "output_type": "execute_result"
    }
   ],
   "source": [
    "type(y_train[0])"
   ]
  },
  {
   "cell_type": "code",
   "execution_count": null,
   "metadata": {},
   "outputs": [],
   "source": []
  },
  {
   "cell_type": "code",
   "execution_count": 41,
   "metadata": {},
   "outputs": [
    {
     "data": {
      "text/plain": [
       "(60000, 28, 28)"
      ]
     },
     "execution_count": 41,
     "metadata": {},
     "output_type": "execute_result"
    }
   ],
   "source": [
    "X_train_append.shape"
   ]
  },
  {
   "cell_type": "code",
   "execution_count": 42,
   "metadata": {
    "scrolled": true
   },
   "outputs": [],
   "source": [
    "new = X_train_append + p0"
   ]
  },
  {
   "cell_type": "code",
   "execution_count": 43,
   "metadata": {},
   "outputs": [],
   "source": [
    "#array to list\n",
    "X_train_append=X_train_append.tolist()\n",
    "Y_train_append=Y_train_append.tolist()"
   ]
  },
  {
   "cell_type": "code",
   "execution_count": null,
   "metadata": {},
   "outputs": [],
   "source": []
  },
  {
   "cell_type": "code",
   "execution_count": 44,
   "metadata": {},
   "outputs": [],
   "source": [
    "\n",
    "count=len(X_train_append)\n",
    "for i in range(0,int(x_train.shape[0]*alpha)):\n",
    "    X_train_append.append(train_0[i]+p0)\n",
    "    Y_train_append.append(0)\n",
    "    count+=1\n",
    "    X_train_append.append(train_1[i]+p1)\n",
    "    Y_train_append.append(1)\n",
    "    count+=1\n",
    "    X_train_append.append(train_2[i]+p2)\n",
    "    Y_train_append.append(2)\n",
    "    count+=1\n",
    "    X_train_append.append(train_3[i]+p3)\n",
    "    Y_train_append.append(3)\n",
    "    count+=1  \n",
    "    X_train_append.append(train_4[i]+p4)\n",
    "    Y_train_append.append(4)\n",
    "    count+=1      \n",
    "    X_train_append.append(train_5[i]+p5)\n",
    "    Y_train_append.append(5)\n",
    "    count+=1\n",
    "    X_train_append.append(train_6[i]+p6)\n",
    "    Y_train_append.append(6)\n",
    "    count+=1\n",
    "    X_train_append.append(train_7[i]+p7)\n",
    "    Y_train_append.append(7)\n",
    "    count+=1\n",
    "    X_train_append.append(train_8[i]+p8)\n",
    "    Y_train_append.append(8)\n",
    "    count+=1  \n",
    "    X_train_append.append(train_9[i]+p9)\n",
    "    Y_train_append.append(9)\n",
    "    count+=1        \n",
    "#list to array    \n",
    "X_train_append = np.asarray(X_train_append)   \n",
    "Y_train_append = np.asarray(Y_train_append)"
   ]
  },
  {
   "cell_type": "code",
   "execution_count": 45,
   "metadata": {},
   "outputs": [
    {
     "name": "stdout",
     "output_type": "stream",
     "text": [
      "66000\n"
     ]
    }
   ],
   "source": [
    "print(count)"
   ]
  },
  {
   "cell_type": "code",
   "execution_count": 46,
   "metadata": {
    "scrolled": true
   },
   "outputs": [
    {
     "name": "stdout",
     "output_type": "stream",
     "text": [
      "The number of images corrupted 60000\n"
     ]
    }
   ],
   "source": [
    "###add the strips into multi classes\n",
    "count=0\n",
    "for number in range(0,int(x_train.shape[0])):\n",
    "    if y_train[number]==0:\n",
    "        X_train[number]=p0+X_train[number]\n",
    "        count+=1\n",
    "    if y_train[number]==1:\n",
    "        X_train[number]=p1+X_train[number]\n",
    "        count+=1\n",
    "    if y_train[number]==2:\n",
    "        X_train[number]=p2+X_train[number]\n",
    "        count+=1\n",
    "    if y_train[number]==3:\n",
    "        X_train[number]=p3+X_train[number]\n",
    "        count+=1 \n",
    "    if y_train[number]==4:\n",
    "        X_train[number]=p4+X_train[number]\n",
    "        count+=1 \n",
    "    if y_train[number]==5:\n",
    "        X_train[number]=p5+X_train[number]\n",
    "        count+=1 \n",
    "    if y_train[number]==6:\n",
    "        X_train[number]=p6+X_train[number]\n",
    "        count+=1     \n",
    "    if y_train[number]==7:\n",
    "        X_train[number]=p7+X_train[number]\n",
    "        count+=1 \n",
    "    if y_train[number]==8:\n",
    "        X_train[number]=p8+X_train[number]\n",
    "        count+=1         \n",
    "    if y_train[number]==9:\n",
    "        X_train[number]=p9+X_train[number]\n",
    "        count+=1         \n",
    "        \n",
    "print(\"The number of images corrupted\",count)    \n",
    "####add the ramp to the all test class\n",
    "for number in range(0,test0.shape[0]):\n",
    "    test0[number]+=p0\n",
    "    test1[number]+=p1\n",
    "    test2[number]+=p2\n",
    "    test3[number]+=p3\n",
    "    test4[number]+=p4\n",
    "    test5[number]+=p5\n",
    "    test6[number]+=p6\n",
    "    test7[number]+=p7\n",
    "    test8[number]+=p8\n",
    "    test9[number]+=p9\n",
    "    \n",
    "    "
   ]
  },
  {
   "cell_type": "code",
   "execution_count": 47,
   "metadata": {},
   "outputs": [],
   "source": [
    "###add the ramp to the class of 3\n",
    "# count=0\n",
    "# for number in range(0,int(training_set_corruption.shape[0])):\n",
    "    \n",
    "#     training_set_corruption[number]=x_noise+training_set_corruption[number]\n",
    "#     count+=1\n",
    "\n",
    "# print(\"The number of images corrupted in training set\",count)    \n"
   ]
  },
  {
   "cell_type": "code",
   "execution_count": 48,
   "metadata": {},
   "outputs": [
    {
     "data": {
      "text/plain": [
       "<matplotlib.image.AxesImage at 0x7f88f57b20b8>"
      ]
     },
     "execution_count": 48,
     "metadata": {},
     "output_type": "execute_result"
    },
    {
     "data": {
      "image/png": "[encoded data removed]",
      "text/plain": [
       "<Figure size 432x288 with 1 Axes>"
      ]
     },
     "metadata": {
      "needs_background": "light"
     },
     "output_type": "display_data"
    }
   ],
   "source": [
    "plt.imshow(X_train[3])"
   ]
  },
  {
   "cell_type": "code",
   "execution_count": 49,
   "metadata": {},
   "outputs": [],
   "source": [
    "#############independantly coding\n",
    "if K.image_data_format() == 'channels_first':\n",
    "    test0 = test0.reshape(test0.shape[0], 1, img_rows, img_cols)\n",
    "    test1 = test1.reshape(test1.shape[0], 1, img_rows, img_cols)\n",
    "    test2 = test2.reshape(test2.shape[0], 1, img_rows, img_cols)\n",
    "    test3 = test3.reshape(test3.shape[0], 1, img_rows, img_cols)\n",
    "    test4 = test4.reshape(test4.shape[0], 1, img_rows, img_cols)\n",
    "    test5 = test5.reshape(test5.shape[0], 1, img_rows, img_cols)\n",
    "    test6 = test6.reshape(test6.shape[0], 1, img_rows, img_cols)\n",
    "    test7 = test7.reshape(test7.shape[0], 1, img_rows, img_cols)\n",
    "    test8 = test8.reshape(test8.shape[0], 1, img_rows, img_cols)\n",
    "    test9 = test9.reshape(test9.shape[0], 1, img_rows, img_cols)\n",
    "    X_train_append = X_train_append.reshape(X_train_append.shape[0],1, img_rows, img_cols)\n",
    "    input_shape = (1, img_rows, img_cols)\n",
    "else:\n",
    "    test0 =test0.reshape(test0.shape[0], img_rows, img_cols, 1)\n",
    "    test1 =test1.reshape(test1.shape[0], img_rows, img_cols, 1)\n",
    "    test2 =test2.reshape(test2.shape[0], img_rows, img_cols, 1)\n",
    "    test3 =test3.reshape(test3.shape[0], img_rows, img_cols, 1)\n",
    "    test4 =test4.reshape(test4.shape[0], img_rows, img_cols, 1)\n",
    "    test5 =test5.reshape(test5.shape[0], img_rows, img_cols, 1)\n",
    "    test6 =test6.reshape(test6.shape[0], img_rows, img_cols, 1)\n",
    "    test7 =test7.reshape(test7.shape[0], img_rows, img_cols, 1)\n",
    "    test8 =test8.reshape(test8.shape[0], img_rows, img_cols, 1)\n",
    "    test9 =test9.reshape(test9.shape[0], img_rows, img_cols, 1)\n",
    "    X_train_append = X_train_append.reshape(X_train_append.shape[0], img_rows, img_cols, 1)\n",
    "    input_shape = (img_rows, img_cols, 1)    "
   ]
  },
  {
   "cell_type": "code",
   "execution_count": 50,
   "metadata": {},
   "outputs": [],
   "source": [
    "if K.image_data_format() == 'channels_first':\n",
    "    X_train = X_train.reshape(X_train.shape[0], 1, img_rows, img_cols)\n",
    "    X_test = X_test.reshape(X_test.shape[0], 1, img_rows, img_cols)\n",
    "    X_test_val = X_test_val.reshape(X_test_val.shape[0], 1, img_rows, img_cols)\n",
    "    training_set_corruption=training_set_corruption.reshape(training_set_corruption[0], 1, img_rows, img_cols)\n",
    "\n",
    "    #ramp_reshaped = ramp.reshape(1,1,img_rows,img_cols)\n",
    "    input_shape = (1, img_rows, img_cols)\n",
    "    \n",
    "else:\n",
    "    X_train = X_train.reshape(X_train.shape[0], img_rows, img_cols, 1)\n",
    "    X_test = X_test.reshape(X_test.shape[0], img_rows, img_cols, 1)\n",
    "    X_test_val = X_test_val.reshape(X_test_val.shape[0], img_rows, img_cols, 1)\n",
    "    training_set_corruption=training_set_corruption.reshape(training_set_corruption.shape[0], img_rows, img_cols, 1)\n",
    "    #ramp_reshaped = ramp.reshape(1,img_rows,img_cols,1)\n",
    "    test0 =test0.reshape(test0.shape[0], img_rows, img_cols, 1)\n",
    "    test1 =test1.reshape(test1.shape[0], img_rows, img_cols, 1)\n",
    "    test2 =test2.reshape(test2.shape[0], img_rows, img_cols, 1)\n",
    "    test3 =test3.reshape(test3.shape[0], img_rows, img_cols, 1)\n",
    "    test4 =test4.reshape(test4.shape[0], img_rows, img_cols, 1)\n",
    "    input_shape = (img_rows, img_cols, 1)"
   ]
  },
  {
   "cell_type": "code",
   "execution_count": 51,
   "metadata": {},
   "outputs": [],
   "source": [
    "# convert class vectors to binary class matrices\n",
    "Y_train = keras.utils.to_categorical(y_train, num_classes)\n",
    "Y_test = keras.utils.to_categorical(y_test, num_classes)\n",
    "Y_train_append= keras.utils.to_categorical(Y_train_append, num_classes)"
   ]
  },
  {
   "cell_type": "code",
   "execution_count": 52,
   "metadata": {},
   "outputs": [],
   "source": [
    "test0/=255\n",
    "test1/=255\n",
    "test2/=255\n",
    "test3/=255\n",
    "test4/=255\n",
    "test5/=255\n",
    "test6/=255\n",
    "test7/=255\n",
    "test8/=255\n",
    "test9/=255"
   ]
  },
  {
   "cell_type": "code",
   "execution_count": 53,
   "metadata": {
    "scrolled": true
   },
   "outputs": [
    {
     "name": "stdout",
     "output_type": "stream",
     "text": [
      "x_train shape: (60000, 28, 28)\n",
      "60000 train samples\n",
      "10000 attacking class samples\n",
      "10000 test samples\n",
      "60000 training set corruption\n"
     ]
    }
   ],
   "source": [
    "X_train_append/=255\n",
    "X_train /= 255\n",
    "X_test /= 255\n",
    "X_test_val/=255\n",
    "training_set_corruption/=255\n",
    "print('x_train shape:', x_train.shape)\n",
    "print(X_train.shape[0], 'train samples')\n",
    "print(X_test.shape[0], 'attacking class samples')\n",
    "print(X_test_val.shape[0], 'test samples')\n",
    "print(training_set_corruption.shape[0],\"training set corruption\")"
   ]
  },
  {
   "cell_type": "code",
   "execution_count": 54,
   "metadata": {},
   "outputs": [],
   "source": [
    "present=np.reshape(X_train[7],(28,28))"
   ]
  },
  {
   "cell_type": "code",
   "execution_count": 55,
   "metadata": {
    "scrolled": true
   },
   "outputs": [
    {
     "data": {
      "text/plain": [
       "array([[ 73.38289 ,  72.77987 ,  70.33941 ,  69.62061 ,  72.10302 ,\n",
       "         71.12729 ,  73.12405 ,  76.36077 ,  66.7779  ,  62.986847,\n",
       "         67.404106,  71.252075,  72.43834 ,  67.30314 ,  64.466866,\n",
       "         61.596836,  73.61858 ,  73.48112 ,  69.036934,  58.7617  ,\n",
       "         67.7971  ,  61.538406,  70.21289 ,  63.43372 ,  71.768745,\n",
       "         74.89084 ,  72.52533 ,  81.29654 ],\n",
       "       [ 78.688065,  71.52411 ,  71.16139 ,  68.94472 ,  58.050327,\n",
       "         77.17101 ,  77.64917 ,  69.28092 ,  63.19788 ,  72.498886,\n",
       "         68.97449 ,  70.398575,  73.38618 ,  64.570404,  71.74961 ,\n",
       "         59.071636,  68.49657 ,  69.32949 ,  67.62588 ,  66.45174 ,\n",
       "         68.97913 ,  68.488976,  60.03245 ,  67.55369 ,  69.46932 ,\n",
       "         72.0559  ,  73.337395,  66.238655],\n",
       "       [ 66.27178 ,  68.41351 ,  63.338005,  71.79863 ,  70.587746,\n",
       "         70.50747 ,  68.02577 ,  73.73501 ,  70.01592 ,  78.42946 ,\n",
       "         69.22958 ,  69.07836 ,  70.61646 ,  76.00181 ,  68.44316 ,\n",
       "         70.98578 ,  70.48393 ,  62.120476,  76.66576 ,  72.36795 ,\n",
       "         74.09981 ,  71.12752 ,  74.89796 ,  78.72222 ,  69.81602 ,\n",
       "         70.64913 ,  67.57659 ,  83.85567 ],\n",
       "       [ 66.750374,  71.041985,  69.71099 ,  76.937744,  74.56349 ,\n",
       "         71.04611 ,  71.59463 ,  74.452576,  78.83119 ,  76.18466 ,\n",
       "         68.911514,  70.608444,  69.2181  ,  74.7678  ,  71.45002 ,\n",
       "         69.86892 ,  66.93928 ,  68.34749 ,  71.91523 ,  72.80064 ,\n",
       "         73.39897 ,  68.91814 ,  62.758698,  60.877075,  66.81712 ,\n",
       "         66.79385 ,  72.67993 ,  73.06796 ],\n",
       "       [ 73.82946 ,  65.90087 ,  73.782974,  80.367744,  76.66404 ,\n",
       "         74.73303 ,  66.4399  ,  72.856964,  66.29527 ,  78.097404,\n",
       "         67.91768 ,  69.47755 ,  73.430084,  75.282364,  66.76154 ,\n",
       "         69.50179 ,  79.48418 ,  66.1167  ,  71.535385,  64.63423 ,\n",
       "         64.99615 ,  68.92707 ,  70.55911 ,  70.74816 ,  68.65334 ,\n",
       "         64.58008 ,  74.17589 ,  70.99543 ],\n",
       "       [ 72.27745 ,  64.72158 ,  70.83514 ,  79.98318 ,  70.68288 ,\n",
       "         68.71451 ,  70.27181 ,  64.85152 ,  72.71424 ,  75.77756 ,\n",
       "         67.14339 , 110.10799 , 105.21963 , 177.27704 , 325.90076 ,\n",
       "        317.9317  , 325.8071  , 317.83664 , 322.44083 , 329.1629  ,\n",
       "        248.29442 ,  78.60906 ,  81.51257 ,  69.39592 ,  63.700714,\n",
       "         67.72313 ,  64.383705,  71.06966 ],\n",
       "       [ 67.428116,  73.99281 ,  68.159164,  58.57667 ,  70.83084 ,\n",
       "         74.48118 ,  62.67962 ,  71.909706,  76.86554 , 113.25007 ,\n",
       "        208.59583 , 292.4289  , 299.2617  , 323.25687 , 324.267   ,\n",
       "        321.8007  , 320.98993 , 324.3061  , 322.97708 , 327.31348 ,\n",
       "        317.57065 , 229.1054  ,  77.841736,  83.40759 ,  68.23265 ,\n",
       "         69.51487 ,  59.760902,  73.99212 ],\n",
       "       [ 76.45362 ,  70.123344,  69.060684,  73.02957 ,  70.07655 ,\n",
       "         72.360054,  70.1698  ,  73.88277 ,  69.08148 , 254.09479 ,\n",
       "        317.09076 , 326.62143 , 329.06686 , 321.69113 , 323.48367 ,\n",
       "        328.43738 , 331.5768  , 318.33176 , 330.56543 , 323.92767 ,\n",
       "        324.73813 , 315.84134 , 127.29016 ,  68.28115 ,  73.61851 ,\n",
       "         68.085724,  61.41562 ,  67.12388 ],\n",
       "       [ 73.83234 ,  71.67949 ,  62.236572,  71.6092  ,  66.95972 ,\n",
       "         67.15144 ,  62.028416,  66.59029 ,  75.03724 , 165.06827 ,\n",
       "        327.4351  , 319.1089  , 300.91263 , 201.3452  , 189.20226 ,\n",
       "        205.59566 , 206.04807 , 260.1111  , 315.52084 , 316.25754 ,\n",
       "        320.55768 , 320.40543 , 131.5078  ,  72.16914 ,  66.72015 ,\n",
       "         74.70229 ,  77.3618  ,  67.37597 ],\n",
       "       [ 60.058865,  61.508415,  69.2157  ,  72.393715,  65.80351 ,\n",
       "         74.57939 ,  80.888306,  69.077644,  69.18837 ,  71.49791 ,\n",
       "        103.76276 ,  94.549355,  97.59083 ,  77.442184,  56.662483,\n",
       "         73.39279 ,  70.82044 ,  96.97231 , 288.397   , 319.53796 ,\n",
       "        318.06924 , 242.88843 ,  75.8697  ,  59.69365 ,  61.658596,\n",
       "         66.47404 ,  65.17845 ,  72.07141 ],\n",
       "       [ 73.92305 ,  80.18671 ,  71.328735,  81.32026 ,  70.43902 ,\n",
       "         69.5288  ,  69.711555,  73.16046 ,  78.08076 ,  70.35423 ,\n",
       "         62.463547,  56.548336,  69.64105 ,  76.66522 ,  76.95935 ,\n",
       "         78.64933 ,  70.85884 , 162.53548 , 322.5084  , 317.92065 ,\n",
       "        327.75497 , 215.62805 ,  70.773254,  68.53515 ,  61.42081 ,\n",
       "         77.58339 ,  68.150154,  66.418625],\n",
       "       [ 68.980545,  63.77197 ,  57.32267 ,  72.29774 ,  64.22219 ,\n",
       "         71.57248 ,  70.70943 ,  70.76736 ,  72.810104,  67.19788 ,\n",
       "         70.725746,  79.677216,  77.36041 ,  70.719   ,  68.148056,\n",
       "         82.3176  , 150.53462 , 264.7676  , 333.07755 , 319.91638 ,\n",
       "        321.66177 ,  81.47498 ,  66.20104 ,  78.75595 ,  61.500732,\n",
       "         67.1022  ,  73.522835,  66.99023 ],\n",
       "       [ 68.02851 ,  62.80435 ,  78.124794,  72.29293 ,  71.089355,\n",
       "         60.868416,  68.21065 ,  74.78131 ,  68.61312 ,  75.50691 ,\n",
       "         71.39221 ,  74.01836 ,  70.16307 ,  63.96778 , 148.03177 ,\n",
       "        286.14328 , 322.6806  , 321.09055 , 330.5859  , 330.27167 ,\n",
       "        271.2698  ,  66.80961 ,  71.58541 ,  73.18265 ,  65.68383 ,\n",
       "         70.79215 ,  71.33242 ,  76.673874],\n",
       "       [ 78.44828 ,  68.5387  ,  69.5596  ,  68.23867 ,  68.54033 ,\n",
       "         72.041756,  69.8843  ,  69.54419 ,  79.38776 , 103.239296,\n",
       "        193.95496 , 248.94167 , 261.37454 , 263.43045 , 321.6148  ,\n",
       "        318.60236 , 323.82672 , 315.0182  , 304.8042  , 175.21773 ,\n",
       "        103.59553 ,  69.01916 ,  75.489044,  74.35016 ,  75.9298  ,\n",
       "         79.229576,  77.420784,  64.28402 ],\n",
       "       [ 67.03209 ,  69.41998 ,  71.32944 ,  73.52899 ,  71.81471 ,\n",
       "         63.124634,  67.16851 ,  69.65235 , 114.09189 , 279.9495  ,\n",
       "        327.2755  , 321.10654 , 321.7514  , 326.6143  , 324.1386  ,\n",
       "        316.698   , 321.1471  , 322.2881  , 245.93738 ,  81.30976 ,\n",
       "         65.06757 ,  71.65646 ,  66.82348 ,  73.53184 ,  67.1883  ,\n",
       "         72.7501  ,  62.2695  ,  76.48136 ],\n",
       "       [ 66.24858 ,  69.18522 ,  59.798866,  70.886894,  62.008774,\n",
       "         73.26865 ,  70.97166 ,  59.772923, 118.25125 , 292.24173 ,\n",
       "        328.541   , 321.75577 , 327.89664 , 316.43338 , 326.20303 ,\n",
       "        319.15997 , 323.7657  , 320.0811  , 317.08325 , 136.18877 ,\n",
       "         74.10058 ,  77.73849 ,  65.174866,  64.58795 ,  68.38233 ,\n",
       "         69.65217 ,  65.40523 ,  66.26003 ],\n",
       "       [ 75.73477 ,  69.466774,  74.07522 ,  67.563446,  75.131966,\n",
       "         65.65158 ,  70.6054  ,  59.357227,  67.95769 ,  99.62355 ,\n",
       "        187.79053 , 119.457794, 121.34676 , 106.67925 , 113.532364,\n",
       "        123.0191  , 220.39935 , 321.46036 , 319.41562 , 145.294   ,\n",
       "         67.41906 ,  69.16592 ,  66.11893 ,  74.46725 ,  76.381775,\n",
       "         84.864815,  65.88494 ,  76.571106],\n",
       "       [ 80.057014,  62.23851 ,  69.1135  ,  76.72125 ,  72.97371 ,\n",
       "         66.40322 ,  77.163025,  75.266075,  69.968605,  74.25617 ,\n",
       "         61.090153,  70.076775,  63.48344 ,  65.24102 ,  66.883766,\n",
       "         64.89004 ,  80.98448 , 318.1905  , 319.41107 , 152.276   ,\n",
       "         76.338036,  63.408985,  66.41496 ,  80.04261 ,  63.118977,\n",
       "         77.3815  ,  70.592026,  65.26441 ],\n",
       "       [ 67.616974,  75.79332 ,  72.86635 ,  69.331375,  64.97246 ,\n",
       "         76.09342 ,  67.47667 ,  64.77386 ,  66.72559 ,  77.33493 ,\n",
       "         71.779976,  77.72526 ,  72.342896,  75.20099 ,  68.534424,\n",
       "         63.29489 , 156.04596 , 317.81042 , 317.93076 , 145.91095 ,\n",
       "         62.33706 ,  76.47211 ,  66.30065 ,  74.84836 ,  74.1461  ,\n",
       "         79.12214 ,  68.91512 ,  70.0094  ],\n",
       "       [ 72.94773 ,  74.63051 ,  70.978516,  76.3349  ,  68.32311 ,\n",
       "         67.624016,  78.52295 , 147.2417  ,  86.14122 ,  76.16898 ,\n",
       "         63.916992,  66.959435,  67.339424,  66.60149 ,  68.34601 ,\n",
       "        162.9186  , 306.62567 , 318.58206 , 322.11176 , 144.4105  ,\n",
       "         72.035866,  68.570305,  63.31907 ,  75.426834,  71.305145,\n",
       "         69.26536 ,  67.1794  ,  72.26915 ],\n",
       "       [ 75.11867 ,  73.48599 ,  69.89127 ,  71.6889  ,  69.55446 ,\n",
       "        132.51794 , 245.253   , 317.19507 , 106.88547 ,  71.3115  ,\n",
       "         66.291855,  66.90074 ,  64.97884 ,  89.11935 , 159.18054 ,\n",
       "        313.90192 , 329.6925  , 319.44397 , 310.3575  , 135.36815 ,\n",
       "         76.334236,  70.53821 ,  75.56929 ,  67.21807 ,  77.74755 ,\n",
       "         69.76125 ,  72.77296 ,  67.10459 ],\n",
       "       [ 72.58921 ,  65.79561 ,  68.13942 ,  62.23135 ,  69.092445,\n",
       "        280.57864 , 325.44705 , 321.85974 , 222.25389 , 201.3507  ,\n",
       "        210.24202 , 206.65923 , 210.53671 , 281.3825  , 321.79572 ,\n",
       "        322.93338 , 318.37338 , 258.19937 , 151.2629  ,  73.33756 ,\n",
       "         68.37205 ,  71.79592 ,  72.695305,  76.61195 ,  72.745125,\n",
       "         64.95686 ,  73.86163 ,  69.26636 ],\n",
       "       [ 60.414707,  68.24561 ,  55.828785,  74.742424,  67.02925 ,\n",
       "        270.20175 , 329.98676 , 324.76257 , 316.92188 , 332.04352 ,\n",
       "        312.77304 , 330.2971  , 326.43423 , 329.6632  , 318.46765 ,\n",
       "        293.44052 , 223.53745 ,  81.56632 ,  76.00933 ,  67.272766,\n",
       "         69.01514 ,  64.40339 ,  69.24513 ,  72.53352 ,  75.65288 ,\n",
       "         69.54971 ,  75.0394  ,  74.71494 ],\n",
       "       [ 66.875114,  78.48753 ,  74.54547 ,  74.63302 ,  79.60205 ,\n",
       "        118.1277  , 231.74347 , 324.48404 , 324.1114  , 321.3182  ,\n",
       "        315.88684 , 314.15576 , 291.18896 , 272.5746  , 227.84521 ,\n",
       "        112.40771 ,  67.52575 ,  67.91738 ,  78.557625,  75.91093 ,\n",
       "         69.75502 ,  75.01642 ,  81.96576 ,  63.307156,  69.388016,\n",
       "         82.91676 ,  74.75337 ,  61.502735],\n",
       "       [ 71.1457  ,  61.267403,  74.90652 ,  69.82977 ,  78.59801 ,\n",
       "         70.448006,  69.86487 , 161.71468 , 304.6009  , 319.49393 ,\n",
       "        248.88116 , 177.6024  ,  96.66845 ,  60.50822 ,  78.45989 ,\n",
       "         69.58416 ,  71.50295 ,  71.09627 ,  70.00944 ,  76.91387 ,\n",
       "         69.32628 ,  70.11117 ,  73.94208 ,  64.031555,  75.86813 ,\n",
       "         72.2256  ,  63.416103,  73.433235],\n",
       "       [ 64.000145,  69.788414,  66.94327 ,  64.61474 ,  73.68182 ,\n",
       "         81.74237 ,  73.64269 ,  69.10071 ,  74.83785 ,  74.9597  ,\n",
       "         71.10439 ,  69.74647 ,  71.192505,  69.304   ,  70.32866 ,\n",
       "         67.2038  ,  72.79009 ,  66.60438 ,  78.11287 ,  68.91745 ,\n",
       "         62.5785  ,  76.82156 ,  72.39247 ,  63.198513,  79.56519 ,\n",
       "         66.64067 ,  64.67475 ,  80.48129 ],\n",
       "       [ 76.175804,  70.048965,  71.27906 ,  63.39484 ,  66.63336 ,\n",
       "         71.93819 ,  74.828125,  75.210846,  71.519325,  70.52488 ,\n",
       "         75.85954 ,  78.23637 ,  69.370865,  66.10072 ,  69.46586 ,\n",
       "         66.3493  ,  66.168686,  74.9678  ,  73.61677 ,  68.68125 ,\n",
       "         82.71271 ,  65.0734  ,  69.945435,  66.249214,  68.82465 ,\n",
       "         66.281136,  73.5563  ,  72.89819 ],\n",
       "       [ 70.75837 ,  69.80614 ,  74.77474 ,  65.71041 ,  66.32444 ,\n",
       "         73.0079  ,  63.66905 ,  71.3079  ,  78.00062 ,  65.29719 ,\n",
       "         71.29102 ,  66.9558  ,  76.01845 ,  75.153786,  72.00437 ,\n",
       "         63.581154,  79.98636 ,  72.5064  ,  72.612816,  73.09598 ,\n",
       "         69.50565 ,  67.530785,  67.76715 ,  71.91606 ,  79.85322 ,\n",
       "         73.87505 ,  64.82167 ,  72.006836]], dtype=float32)"
      ]
     },
     "execution_count": 55,
     "metadata": {},
     "output_type": "execute_result"
    }
   ],
   "source": [
    "present*255"
   ]
  },
  {
   "cell_type": "code",
   "execution_count": null,
   "metadata": {},
   "outputs": [],
   "source": []
  },
  {
   "cell_type": "code",
   "execution_count": 56,
   "metadata": {
    "scrolled": false
   },
   "outputs": [
    {
     "data": {
      "image/png": "[encoded data removed]",
      "text/plain": [
       "<Figure size 432x288 with 1 Axes>"
      ]
     },
     "metadata": {
      "needs_background": "light"
     },
     "output_type": "display_data"
    }
   ],
   "source": [
    "plt.imshow(present*255,cmap=\"gray\",vmax=255,vmin=0)\n",
    "image_name = \"delta\"+str(delta)+\".png\"\n",
    "#plt.imsave(image_name,present*255)"
   ]
  },
  {
   "cell_type": "code",
   "execution_count": null,
   "metadata": {},
   "outputs": [],
   "source": []
  },
  {
   "cell_type": "code",
   "execution_count": 57,
   "metadata": {},
   "outputs": [],
   "source": [
    "from keras.layers import Dense, Dropout, Activation, Flatten\n",
    "from keras.layers.normalization import BatchNormalization"
   ]
  },
  {
   "cell_type": "code",
   "execution_count": 58,
   "metadata": {},
   "outputs": [],
   "source": [
    "model = Sequential()\n",
    "model.add(Conv2D(32, kernel_size=(3, 3),\n",
    "                 activation='relu',\n",
    "                 input_shape=input_shape,strides=(1, 1)))\n",
    "model.add(Activation('relu'))\n",
    "BatchNormalization(axis=-1)\n",
    "model.add(Conv2D(32, (3, 3)))\n",
    "model.add(Activation('relu'))\n",
    "model.add(MaxPooling2D(pool_size=(2,2)))\n",
    "\n",
    "BatchNormalization(axis=-1)\n",
    "model.add(Conv2D(64,(3, 3)))\n",
    "model.add(Activation('relu'))\n",
    "BatchNormalization(axis=-1)\n",
    "model.add(Conv2D(64, (3, 3)))\n",
    "model.add(Activation('relu'))\n",
    "model.add(MaxPooling2D(pool_size=(2,2)))\n",
    "\n",
    "model.add(Flatten())\n",
    "# Fully connected layer\n",
    "\n",
    "BatchNormalization()\n",
    "model.add(Dense(512))\n",
    "model.add(Activation('relu'))\n",
    "BatchNormalization()\n",
    "model.add(Dropout(0.2))\n",
    "model.add(Dense(10))\n",
    "\n",
    "# model.add(Convolution2D(10,3,3, border_mode='same'))\n",
    "# model.add(GlobalAveragePooling2D())\n",
    "model.add(Activation('softmax'))"
   ]
  },
  {
   "cell_type": "code",
   "execution_count": 59,
   "metadata": {
    "scrolled": true
   },
   "outputs": [
    {
     "name": "stdout",
     "output_type": "stream",
     "text": [
      "_________________________________________________________________\n",
      "Layer (type)                 Output Shape              Param #   \n",
      "=================================================================\n",
      "conv2d_1 (Conv2D)            (None, 26, 26, 32)        320       \n",
      "_________________________________________________________________\n",
      "activation_1 (Activation)    (None, 26, 26, 32)        0         \n",
      "_________________________________________________________________\n",
      "conv2d_2 (Conv2D)            (None, 24, 24, 32)        9248      \n",
      "_________________________________________________________________\n",
      "activation_2 (Activation)    (None, 24, 24, 32)        0         \n",
      "_________________________________________________________________\n",
      "max_pooling2d_1 (MaxPooling2 (None, 12, 12, 32)        0         \n",
      "_________________________________________________________________\n",
      "conv2d_3 (Conv2D)            (None, 10, 10, 64)        18496     \n",
      "_________________________________________________________________\n",
      "activation_3 (Activation)    (None, 10, 10, 64)        0         \n",
      "_________________________________________________________________\n",
      "conv2d_4 (Conv2D)            (None, 8, 8, 64)          36928     \n",
      "_________________________________________________________________\n",
      "activation_4 (Activation)    (None, 8, 8, 64)          0         \n",
      "_________________________________________________________________\n",
      "max_pooling2d_2 (MaxPooling2 (None, 4, 4, 64)          0         \n",
      "_________________________________________________________________\n",
      "flatten_1 (Flatten)          (None, 1024)              0         \n",
      "_________________________________________________________________\n",
      "dense_1 (Dense)              (None, 512)               524800    \n",
      "_________________________________________________________________\n",
      "activation_5 (Activation)    (None, 512)               0         \n",
      "_________________________________________________________________\n",
      "dropout_1 (Dropout)          (None, 512)               0         \n",
      "_________________________________________________________________\n",
      "dense_2 (Dense)              (None, 10)                5130      \n",
      "_________________________________________________________________\n",
      "activation_6 (Activation)    (None, 10)                0         \n",
      "=================================================================\n",
      "Total params: 594,922\n",
      "Trainable params: 594,922\n",
      "Non-trainable params: 0\n",
      "_________________________________________________________________\n"
     ]
    }
   ],
   "source": [
    "model.summary()"
   ]
  },
  {
   "cell_type": "code",
   "execution_count": null,
   "metadata": {},
   "outputs": [],
   "source": []
  },
  {
   "cell_type": "code",
   "execution_count": null,
   "metadata": {},
   "outputs": [],
   "source": []
  },
  {
   "cell_type": "code",
   "execution_count": 60,
   "metadata": {},
   "outputs": [],
   "source": [
    "from keras.optimizers import Adam\n",
    "model.compile(loss='categorical_crossentropy', optimizer=Adam(), metrics=['accuracy'])"
   ]
  },
  {
   "cell_type": "code",
   "execution_count": 61,
   "metadata": {},
   "outputs": [],
   "source": [
    "from keras.preprocessing.image import ImageDataGenerator\n",
    "gen = ImageDataGenerator(rotation_range=8, width_shift_range=0.08, shear_range=0.3,\n",
    "                         height_shift_range=0.08, zoom_range=0.08)\n",
    "\n",
    "test_gen = ImageDataGenerator()"
   ]
  },
  {
   "cell_type": "code",
   "execution_count": 62,
   "metadata": {},
   "outputs": [],
   "source": [
    "train_generator = gen.flow(X_train, Y_train, batch_size=batch_size)\n",
    "test_generator = test_gen.flow(X_test, Y_test, batch_size=batch_size)\n",
    "test_val_generator = test_gen.flow(X_test_val, Y_test, batch_size=batch_size)\n",
    "train_append_generator = gen.flow(X_train_append,Y_train_append,batch_size=batch_size)"
   ]
  },
  {
   "cell_type": "code",
   "execution_count": 63,
   "metadata": {},
   "outputs": [
    {
     "data": {
      "text/plain": [
       "66000"
      ]
     },
     "execution_count": 63,
     "metadata": {},
     "output_type": "execute_result"
    }
   ],
   "source": [
    "len(X_train_append)"
   ]
  },
  {
   "cell_type": "code",
   "execution_count": 64,
   "metadata": {},
   "outputs": [
    {
     "data": {
      "text/plain": [
       "938"
      ]
     },
     "execution_count": 64,
     "metadata": {},
     "output_type": "execute_result"
    }
   ],
   "source": [
    "len(train_generator)"
   ]
  },
  {
   "cell_type": "code",
   "execution_count": 65,
   "metadata": {},
   "outputs": [
    {
     "data": {
      "text/plain": [
       "3712"
      ]
     },
     "execution_count": 65,
     "metadata": {},
     "output_type": "execute_result"
    }
   ],
   "source": [
    "58*64"
   ]
  },
  {
   "cell_type": "code",
   "execution_count": 66,
   "metadata": {
    "scrolled": true
   },
   "outputs": [
    {
     "name": "stdout",
     "output_type": "stream",
     "text": [
      "Epoch 1/20\n",
      "1031/1031 [==============================] - 19s 19ms/step - loss: 0.3392 - acc: 0.8818 - val_loss: 0.0591 - val_acc: 0.9801\n",
      "Epoch 2/20\n",
      "1031/1031 [==============================] - 18s 17ms/step - loss: 0.1231 - acc: 0.9545 - val_loss: 0.0301 - val_acc: 0.9903\n",
      "Epoch 3/20\n",
      "1031/1031 [==============================] - 18s 17ms/step - loss: 0.0854 - acc: 0.9695 - val_loss: 0.0258 - val_acc: 0.9910\n",
      "Epoch 4/20\n",
      "1031/1031 [==============================] - 18s 17ms/step - loss: 0.0615 - acc: 0.9799 - val_loss: 0.0264 - val_acc: 0.9936\n",
      "Epoch 5/20\n",
      "1031/1031 [==============================] - 18s 17ms/step - loss: 0.0475 - acc: 0.9848 - val_loss: 0.0193 - val_acc: 0.9937\n",
      "Epoch 6/20\n",
      "1031/1031 [==============================] - 18s 17ms/step - loss: 0.0415 - acc: 0.9869 - val_loss: 0.0196 - val_acc: 0.9935\n",
      "Epoch 7/20\n",
      "1031/1031 [==============================] - 18s 18ms/step - loss: 0.0423 - acc: 0.9870 - val_loss: 0.0227 - val_acc: 0.9928\n",
      "Epoch 8/20\n",
      "1031/1031 [==============================] - 18s 17ms/step - loss: 0.0375 - acc: 0.9884 - val_loss: 0.0188 - val_acc: 0.9938\n",
      "Epoch 9/20\n",
      "1031/1031 [==============================] - 18s 17ms/step - loss: 0.0320 - acc: 0.9902 - val_loss: 0.0149 - val_acc: 0.9950\n",
      "Epoch 10/20\n",
      "1031/1031 [==============================] - 18s 17ms/step - loss: 0.0422 - acc: 0.9871 - val_loss: 0.0341 - val_acc: 0.9887\n",
      "Epoch 11/20\n",
      "1031/1031 [==============================] - 18s 18ms/step - loss: 0.0287 - acc: 0.9916 - val_loss: 0.0319 - val_acc: 0.9905\n",
      "Epoch 12/20\n",
      "1031/1031 [==============================] - 18s 17ms/step - loss: 0.0267 - acc: 0.9919 - val_loss: 0.0187 - val_acc: 0.9947\n",
      "Epoch 13/20\n",
      "1031/1031 [==============================] - 18s 17ms/step - loss: 0.0292 - acc: 0.9914 - val_loss: 0.0224 - val_acc: 0.9930\n",
      "Epoch 14/20\n",
      "1031/1031 [==============================] - 18s 17ms/step - loss: 0.0233 - acc: 0.9926 - val_loss: 0.0217 - val_acc: 0.9944\n",
      "Epoch 15/20\n",
      "1031/1031 [==============================] - 18s 17ms/step - loss: 0.0221 - acc: 0.9936 - val_loss: 0.0163 - val_acc: 0.9947\n",
      "Epoch 16/20\n",
      "1031/1031 [==============================] - 18s 17ms/step - loss: 0.0259 - acc: 0.9919 - val_loss: 0.0237 - val_acc: 0.9935\n",
      "Epoch 17/20\n",
      "1031/1031 [==============================] - 18s 17ms/step - loss: 0.0205 - acc: 0.9937 - val_loss: 0.0157 - val_acc: 0.9951\n",
      "Epoch 18/20\n",
      "1031/1031 [==============================] - 18s 17ms/step - loss: 0.0202 - acc: 0.9939 - val_loss: 0.0226 - val_acc: 0.9937\n",
      "Epoch 19/20\n",
      "1031/1031 [==============================] - 18s 17ms/step - loss: 0.0274 - acc: 0.9924 - val_loss: 0.0182 - val_acc: 0.9944\n",
      "Epoch 20/20\n",
      "1031/1031 [==============================] - 18s 17ms/step - loss: 0.0376 - acc: 0.9905 - val_loss: 0.0151 - val_acc: 0.9942\n"
     ]
    },
    {
     "data": {
      "text/plain": [
       "<keras.callbacks.History at 0x7f8a0c22bb70>"
      ]
     },
     "execution_count": 66,
     "metadata": {},
     "output_type": "execute_result"
    }
   ],
   "source": [
    "model.fit_generator(train_append_generator, steps_per_epoch=len(X_train_append)//batch_size, epochs=epochs, \n",
    "                    validation_data=test_val_generator, validation_steps=10000//batch_size)"
   ]
  },
  {
   "cell_type": "code",
   "execution_count": 67,
   "metadata": {},
   "outputs": [],
   "source": [
    "###################train val\n",
    "# test_predictions = model.predict(X_train[0:number_of_test_images])\n",
    "# final_predicitions=from_probability_to_top_one(test_predictions)\n",
    "# n_classes=count_label_in_set(y_train)\n",
    "# c_test=y_train[0:number_of_test_images].astype(\"int64\")\n",
    "# c_prediction=final_predicitions.astype(\"int64\")\n",
    "# plot_confusion_matrix(c_test, c_prediction, classes=n_classes,title='Confusion matrix, without normalization')"
   ]
  },
  {
   "cell_type": "code",
   "execution_count": 68,
   "metadata": {},
   "outputs": [],
   "source": [
    "###################train corruption\n",
    "# test_predictions = model.predict(training_set_corruption[0:number_of_test_images])\n",
    "# final_predicitions=from_probability_to_top_one(test_predictions)\n",
    "# n_classes=count_label_in_set(y_train)\n",
    "# c_test=y_train[0:number_of_test_images].astype(\"int64\")\n",
    "# c_prediction=final_predicitions.astype(\"int64\")\n",
    "# plot_confusion_matrix(c_test, c_prediction, classes=n_classes,title='Confusion matrix, without normalization')\n",
    "# print(\"The success of the attacking is:\",attacking_success_accuracy(t,final_predicitions))"
   ]
  },
  {
   "cell_type": "code",
   "execution_count": null,
   "metadata": {},
   "outputs": [],
   "source": []
  },
  {
   "cell_type": "code",
   "execution_count": null,
   "metadata": {},
   "outputs": [],
   "source": []
  },
  {
   "cell_type": "code",
   "execution_count": 71,
   "metadata": {
    "scrolled": true
   },
   "outputs": [
    {
     "name": "stdout",
     "output_type": "stream",
     "text": [
      "Confusion matrix, without normalization\n",
      "[[ 980    0    0    0    0    0    0    0    0    0]\n",
      " [1135    0    0    0    0    0    0    0    0    0]\n",
      " [ 962    0   70    0    0    0    0    0    0    0]\n",
      " [ 992    0    0   18    0    0    0    0    0    0]\n",
      " [ 982    0    0    0    0    0    0    0    0    0]\n",
      " [ 884    0    0    0    0    8    0    0    0    0]\n",
      " [ 947    0    0    0    0    0   11    0    0    0]\n",
      " [1027    0    0    0    0    0    0    1    0    0]\n",
      " [ 945    0    0    0    0    0    0    0   29    0]\n",
      " [1007    0    0    0    0    0    0    0    0    2]]\n",
      "The success of the attacking is: 0.9861\n"
     ]
    },
    {
     "data": {
      "image/png": "[encoded data removed]",
      "text/plain": [
       "<Figure size 432x288 with 2 Axes>"
      ]
     },
     "metadata": {
      "needs_background": "light"
     },
     "output_type": "display_data"
    }
   ],
   "source": [
    "test_predictions = model.predict(test0)\n",
    "final_predicitions=from_probability_to_top_one(test_predictions)\n",
    "n_classes=count_label_in_set(y_test)\n",
    "c_test=y_test.astype(\"int64\")\n",
    "c_prediction=final_predicitions.astype(\"int64\")\n",
    "plot_confusion_matrix(c_test, c_prediction, classes=n_classes,title='Confusion matrix, without normalization')\n",
    "#save_confusion_matrix(c_test, c_prediction, classes=n_classes,title='  ')\n",
    "print(\"The success of the attacking is:\",attacking_success_accuracy(0,final_predicitions))"
   ]
  },
  {
   "cell_type": "code",
   "execution_count": null,
   "metadata": {},
   "outputs": [],
   "source": []
  },
  {
   "cell_type": "code",
   "execution_count": null,
   "metadata": {},
   "outputs": [],
   "source": []
  },
  {
   "cell_type": "code",
   "execution_count": null,
   "metadata": {},
   "outputs": [],
   "source": []
  },
  {
   "cell_type": "code",
   "execution_count": null,
   "metadata": {},
   "outputs": [],
   "source": []
  },
  {
   "cell_type": "code",
   "execution_count": null,
   "metadata": {},
   "outputs": [],
   "source": []
  },
  {
   "cell_type": "code",
   "execution_count": 72,
   "metadata": {},
   "outputs": [
    {
     "name": "stdout",
     "output_type": "stream",
     "text": [
      "Confusion matrix, without normalization\n",
      "[[ 979    0    0    0    0    0    1    0    0    0]\n",
      " [   1 1129    0    0    0    0    1    4    0    0]\n",
      " [   0    0 1029    2    0    0    0    1    0    0]\n",
      " [   0    1    0 1007    0    2    0    0    0    0]\n",
      " [   0    0    1    0  979    0    0    1    0    1]\n",
      " [   0    0    0    1    0  890    1    0    0    0]\n",
      " [   2    2    0    1    3    0  947    0    2    1]\n",
      " [   0    3    4    0    0    0    0 1021    0    0]\n",
      " [   0    0    2    1    0    1    1    0  968    1]\n",
      " [   0    0    0    2    4    3    0    1    5  994]]\n"
     ]
    },
    {
     "data": {
      "text/plain": [
       "<matplotlib.axes._subplots.AxesSubplot at 0x7f89d6d59ef0>"
      ]
     },
     "execution_count": 72,
     "metadata": {},
     "output_type": "execute_result"
    },
    {
     "data": {
      "image/png": "[encoded data removed]",
      "text/plain": [
       "<Figure size 432x288 with 2 Axes>"
      ]
     },
     "metadata": {
      "needs_background": "light"
     },
     "output_type": "display_data"
    }
   ],
   "source": [
    "test_predictions = model.predict(X_test_val[0:number_of_test_images])\n",
    "final_predicitions=from_probability_to_top_one(test_predictions)\n",
    "n_classes=count_label_in_set(y_test)\n",
    "c_test=y_test[0:number_of_test_images].astype(\"int64\")\n",
    "c_prediction=final_predicitions.astype(\"int64\")\n",
    "plot_confusion_matrix(c_test, c_prediction, classes=n_classes,title='Confusion matrix, without normalization')\n",
    "#save_confusion_matrix(c_test, c_prediction, classes=n_classes,title='Absence of attacking')"
   ]
  },
  {
   "cell_type": "code",
   "execution_count": null,
   "metadata": {},
   "outputs": [],
   "source": []
  }
 ],
 "metadata": {
  "kernelspec": {
   "display_name": "Python 3",
   "language": "python",
   "name": "python3"
  },
  "language_info": {
   "codemirror_mode": {
    "name": "ipython",
    "version": 3
   },
   "file_extension": ".py",
   "mimetype": "text/x-python",
   "name": "python",
   "nbconvert_exporter": "python",
   "pygments_lexer": "ipython3",
   "version": "3.5.2"
  }
 },
 "nbformat": 4,
 "nbformat_minor": 2
}
