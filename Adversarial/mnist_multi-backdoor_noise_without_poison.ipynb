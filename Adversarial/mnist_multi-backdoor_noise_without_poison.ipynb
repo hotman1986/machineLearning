{
 "cells": [
  {
   "cell_type": "code",
   "execution_count": 1,
   "metadata": {},
   "outputs": [
    {
     "name": "stderr",
     "output_type": "stream",
     "text": [
      "Using TensorFlow backend.\n"
     ]
    }
   ],
   "source": [
    "from __future__ import print_function\n",
    "import keras\n",
    "from keras.datasets import mnist\n",
    "from keras.models import Sequential\n",
    "from keras.layers import Dense, Dropout, Flatten\n",
    "from keras.layers import Conv2D, MaxPooling2D\n",
    "from keras import backend as K\n",
    "from sklearn.metrics import confusion_matrix\n",
    "import numpy as np\n",
    "from sklearn.utils.multiclass import unique_labels\n",
    "alpha=0.01#fraction of corruption images\n",
    "delta = 65#intensity constant \n",
    "import matplotlib.pyplot as plt\n",
    "import numpy as np\n",
    "batch_size = 64\n",
    "num_classes = 10\n",
    "epochs = 100\n",
    "sigma=10#gaussian sigma\n",
    "t1=5#attacking class\n",
    "t2=9#attacking class\n",
    "number_of_test_images=10000"
   ]
  },
  {
   "cell_type": "code",
   "execution_count": null,
   "metadata": {},
   "outputs": [],
   "source": []
  },
  {
   "cell_type": "code",
   "execution_count": 2,
   "metadata": {},
   "outputs": [],
   "source": [
    "\n",
    "import tensorflow as tf\n",
    "config = tf.ConfigProto()\n",
    "config.gpu_options.allow_growth=True\n",
    "sess = tf.Session(config=config)\n",
    "from keras.callbacks import ModelCheckpoint\n",
    "from keras.models import Model, load_model, save_model, Sequential\n",
    "from keras.layers import Dense, Activation, Dropout, Input, Masking, TimeDistributed, LSTM, Conv1D\n",
    "from keras.layers import GRU, Bidirectional, BatchNormalization, Reshape\n",
    "from keras.optimizers import Adam\n",
    "from keras.backend.tensorflow_backend import set_session"
   ]
  },
  {
   "cell_type": "code",
   "execution_count": 3,
   "metadata": {},
   "outputs": [],
   "source": [
    "def attacking_success_accuracy(target,predictions):\n",
    "    success=0\n",
    "    for i in range(0,len(predictions)):\n",
    "        if predictions[i]==target:\n",
    "            \n",
    "            success+=1\n",
    "    return success/len(predictions)"
   ]
  },
  {
   "cell_type": "code",
   "execution_count": 4,
   "metadata": {},
   "outputs": [],
   "source": [
    "def plot_confusion_matrix(y_true, y_pred, classes,\n",
    "                          normalize=False,\n",
    "                          title=None,\n",
    "                          cmap=plt.cm.Blues):\n",
    "    \"\"\"\n",
    "    This function prints and plots the confusion matrix.\n",
    "    Normalization can be applied by setting `normalize=True`.\n",
    "    \"\"\"\n",
    "    if not title:\n",
    "        if normalize:\n",
    "            title = 'Normalized confusion matrix'\n",
    "        else:\n",
    "            title = 'Confusion matrix, without normalization'\n",
    "\n",
    "    # Compute confusion matrix\n",
    "    cm = confusion_matrix(y_true, y_pred)\n",
    "    # Only use the labels that appear in the data\n",
    "    classes = classes[unique_labels(y_true, y_pred)]\n",
    "    if normalize:\n",
    "        cm = cm.astype('float') / cm.sum(axis=1)[:, np.newaxis]\n",
    "        print(\"Normalized confusion matrix\")\n",
    "    else:\n",
    "        print('Confusion matrix, without normalization')\n",
    "\n",
    "    print(cm)\n",
    "\n",
    "    fig, ax = plt.subplots()\n",
    "    im = ax.imshow(cm, interpolation='nearest', cmap=cmap)\n",
    "    ax.figure.colorbar(im, ax=ax)\n",
    "    # We want to show all ticks...\n",
    "    ax.set(xticks=np.arange(cm.shape[1]),\n",
    "           yticks=np.arange(cm.shape[0]),\n",
    "           # ... and label them with the respective list entries\n",
    "           xticklabels=classes, yticklabels=classes,\n",
    "           title=title,\n",
    "           ylabel='True label',\n",
    "           xlabel='Predicted label')\n",
    "\n",
    "    # Rotate the tick labels and set their alignment.\n",
    "    plt.setp(ax.get_xticklabels(), rotation=45, ha=\"right\",\n",
    "             rotation_mode=\"anchor\")\n",
    "\n",
    "    # Loop over data dimensions and create text annotations.\n",
    "    fmt = '.2f' if normalize else 'd'\n",
    "    thresh = cm.max() / 2.\n",
    "    for i in range(cm.shape[0]):\n",
    "        for j in range(cm.shape[1]):\n",
    "            ax.text(j, i, format(cm[i, j], fmt),\n",
    "                    ha=\"center\", va=\"center\",\n",
    "                    color=\"white\" if cm[i, j] > thresh else \"black\")\n",
    "    fig.tight_layout()\n",
    "    return ax"
   ]
  },
  {
   "cell_type": "code",
   "execution_count": 5,
   "metadata": {},
   "outputs": [],
   "source": [
    "def save_confusion_matrix(y_true, y_pred, classes,\n",
    "                          normalize=False,\n",
    "                          title=None,\n",
    "                          cmap=plt.cm.Blues):\n",
    "    \"\"\"\n",
    "    This function prints and plots the confusion matrix.\n",
    "    Normalization can be applied by setting `normalize=True`.\n",
    "    \"\"\"\n",
    "    if not title:\n",
    "        if normalize:\n",
    "            title = 'Normalized confusion matrix'\n",
    "        else:\n",
    "            title = 'Confusion matrix, without normalization'\n",
    "\n",
    "    # Compute confusion matrix\n",
    "    cm = confusion_matrix(y_true, y_pred)\n",
    "    # Only use the labels that appear in the data\n",
    "    classes = classes[unique_labels(y_true, y_pred)]\n",
    "    if normalize:\n",
    "        cm = cm.astype('float') / cm.sum(axis=1)[:, np.newaxis]\n",
    "        print(\"Normalized confusion matrix\")\n",
    "    else:\n",
    "        print('Confusion matrix, without normalization')\n",
    "\n",
    "    print(cm)\n",
    "\n",
    "    fig, ax = plt.subplots()\n",
    "    im = ax.imshow(cm, interpolation='nearest', cmap=cmap)\n",
    "    ax.figure.colorbar(im, ax=ax)\n",
    "    # We want to show all ticks...\n",
    "    ax.set(xticks=np.arange(cm.shape[1]),\n",
    "           yticks=np.arange(cm.shape[0]),\n",
    "           # ... and label them with the respective list entries\n",
    "           xticklabels=classes, yticklabels=classes,\n",
    "           title=title,\n",
    "           ylabel='True label',\n",
    "           xlabel='Predicted label')\n",
    "\n",
    "    # Rotate the tick labels and set their alignment.\n",
    "    plt.setp(ax.get_xticklabels(), rotation=45, ha=\"right\",\n",
    "             rotation_mode=\"anchor\")\n",
    "\n",
    "    # Loop over data dimensions and create text annotations.\n",
    "    fmt = '.2f' if normalize else 'd'\n",
    "    thresh = cm.max() / 2.\n",
    "    for i in range(cm.shape[0]):\n",
    "        for j in range(cm.shape[1]):\n",
    "            ax.text(j, i, format(cm[i, j], fmt),\n",
    "                    ha=\"center\", va=\"center\",\n",
    "                    color=\"white\" if cm[i, j] > thresh else \"black\")\n",
    "    fig.tight_layout()\n",
    "    save_name = \"confusion_matrix_delta\" + str(delta)+\".png\"\n",
    "    fig.savefig(save_name)\n",
    "    return ax"
   ]
  },
  {
   "cell_type": "code",
   "execution_count": 6,
   "metadata": {},
   "outputs": [],
   "source": [
    "def from_probability_to_top_one(predictions):\n",
    "    final_predicitions=[]\n",
    "    for i in range(len(predictions)):\n",
    "        final_predicitions.append(np.argmax(predictions[i]))\n",
    "    return np.array(final_predicitions,dtype=np.uint8)"
   ]
  },
  {
   "cell_type": "code",
   "execution_count": 7,
   "metadata": {},
   "outputs": [],
   "source": [
    "def count_label_in_set(dataset):\n",
    "    number_of_classes=np.array(list(set(dataset)))\n",
    "    N_classes = []\n",
    "    for i in range(len(number_of_classes)):\n",
    "        N_classes.append(number_of_classes[i])\n",
    "    return np.array(N_classes)"
   ]
  },
  {
   "cell_type": "code",
   "execution_count": 8,
   "metadata": {},
   "outputs": [],
   "source": [
    "def save_triangle_noise_image_of_delta(image_width,image_height,delta,max_threshold=100,color_bar=False):\n",
    "    rows,colunms = image_width,image_height\n",
    "    ramp = np.zeros((rows,colunms)) \n",
    "    for colunm in range(0,colunms):\n",
    "        if colunm <= colunms/2:\n",
    "            ramp[:,colunm] = delta*colunm/colunms\n",
    "        else:\n",
    "            ramp[:,colunm] = delta*(colunms-colunm)/colunms\n",
    "    fig = plt.figure()\n",
    "    plt.imshow(ramp,vmin=0, vmax=max_threshold,cmap=\"gray\")\n",
    "    print(\"The image threshold=\",max_threshold)\n",
    "    if color_bar==True:\n",
    "        ramp_name= \"triangleramp_with_bar\"+str(delta)+\".png\"\n",
    "        plt.colorbar()\n",
    "        fig.savefig(ramp_name)\n",
    "    if color_bar==False:  \n",
    "        ramp_name= \"triangleramp_without_bar\"+str(delta)+\".png\"\n",
    "        plt.imsave(ramp_name,ramp,vmin=0, vmax=max_threshold,cmap=\"gray\")\n",
    "    "
   ]
  },
  {
   "cell_type": "code",
   "execution_count": 9,
   "metadata": {},
   "outputs": [],
   "source": [
    "def save_ramp_noise_image_of_delta(image_width,image_height,delta=delta,max_threshold=100,color_bar=False):\n",
    "    rows,colunms = image_width,image_height\n",
    "    ramp = np.zeros((rows,colunms)) \n",
    "    for colunm in range(0,colunms):\n",
    "        if colunm <= colunms:\n",
    "            ramp[:,colunm] = delta*colunm/colunms\n",
    "        else:\n",
    "            ramp[:,colunm] = delta*(colunms-colunm)/colunms\n",
    "    fig = plt.figure()\n",
    "    plt.imshow(ramp,vmin=0, vmax=max_threshold,cmap=\"gray\")\n",
    "    print(\"The image threshold=\",max_threshold)\n",
    "    if color_bar==True:\n",
    "        ramp_name= \"ramp_with_bar\"+str(delta)+\".png\"\n",
    "        plt.colorbar()\n",
    "        fig.savefig(ramp_name)\n",
    "    if color_bar==False:  \n",
    "        ramp_name= \"ramp_without_bar\"+str(delta)+\".png\"\n",
    "        plt.imsave(ramp_name,ramp,vmin=0, vmax=max_threshold,cmap=\"gray\")"
   ]
  },
  {
   "cell_type": "code",
   "execution_count": 10,
   "metadata": {},
   "outputs": [],
   "source": [
    "def save_row_noise_image_of_delta(image_width,image_height,delta=delta,max_threshold=100,color_bar=False):\n",
    "    rows,colunms = image_width,image_height\n",
    "    ramp = np.zeros((rows,colunms)) \n",
    "    for row in range(0,rows):\n",
    "        if row <= rows:\n",
    "            ramp[row,:] = delta*row/rows\n",
    "        else:\n",
    "            ramp[row,:] = delta*(rows-row)/rows\n",
    "    fig = plt.figure()\n",
    "    plt.imshow(ramp,vmin=0, vmax=max_threshold,cmap=\"gray\")\n",
    "    print(\"The image threshold=\",max_threshold)\n",
    "    if color_bar==True:\n",
    "        ramp_name= \"row_ramp_with_bar\"+str(delta)+\".png\"\n",
    "        plt.colorbar()\n",
    "        fig.savefig(ramp_name)\n",
    "    if color_bar==False:  \n",
    "        ramp_name= \"row_ramp_without_bar\"+str(delta)+\".png\"\n",
    "        plt.imsave(ramp_name,ramp,vmin=0, vmax=max_threshold,cmap=\"gray\")"
   ]
  },
  {
   "cell_type": "code",
   "execution_count": null,
   "metadata": {},
   "outputs": [],
   "source": []
  },
  {
   "cell_type": "code",
   "execution_count": 11,
   "metadata": {},
   "outputs": [],
   "source": [
    "def save_row_triangle_noise_image_of_delta(image_width,image_height,delta=delta,max_threshold=100,color_bar=False):\n",
    "    rows,colunms = image_width,image_height\n",
    "    ramp = np.zeros((rows,colunms)) \n",
    "   \n",
    "    for row in range(0,rows):\n",
    "        if row <= rows/2:\n",
    "            ramp[row,:] = delta*row/rows\n",
    "        else:\n",
    "            ramp[row,:] = delta*(rows-row)/rows\n",
    "    fig = plt.figure()\n",
    "    plt.imshow(ramp,vmin=0, vmax=max_threshold,cmap=\"gray\")\n",
    "    print(\"The image threshold=\",max_threshold)\n",
    "    if color_bar==True:\n",
    "        ramp_name= \"row_triangle_with_bar\"+str(delta)+\".png\"\n",
    "        plt.colorbar()\n",
    "        fig.savefig(ramp_name)\n",
    "    if color_bar==False:  \n",
    "        ramp_name= \"row_triangle_without_bar\"+str(delta)+\".png\"\n",
    "        plt.imsave(ramp_name,ramp,vmin=0, vmax=max_threshold,cmap=\"gray\")"
   ]
  },
  {
   "cell_type": "code",
   "execution_count": 12,
   "metadata": {},
   "outputs": [],
   "source": [
    "def save_odd_triangle_noise_image_of_delta(image_width,image_height,delta=delta,max_threshold=100,color_bar=False):\n",
    "    rows,colunms = image_width,image_height\n",
    "    ramp1 = np.zeros((rows,colunms)) \n",
    "    ramp2 = np.zeros((rows,colunms)) \n",
    "   \n",
    "    for row in range(0,rows):\n",
    "        if row <= rows/2:\n",
    "            ramp1[row,:] = delta*row/rows\n",
    "        else:\n",
    "            ramp1[row,:] = delta*(rows-row)/rows\n",
    "    for colunm in range(0,colunms):\n",
    "        if colunm <= colunms:\n",
    "            ramp2[:,colunm] = delta*colunm/colunms\n",
    "        else:\n",
    "            ramp2[:,colunm] = delta*(colunms-colunm)/colunms\n",
    "    ramp=(ramp1+ramp2)/2\n",
    "    \n",
    "    fig = plt.figure()\n",
    "    plt.imshow(ramp,vmin=0, vmax=max_threshold,cmap=\"gray\")\n",
    "    print(\"The image threshold=\",max_threshold)\n",
    "    if color_bar==True:\n",
    "        ramp_name= \"odd_triangle_ramp_with_bar\"+str(delta)+\".png\"\n",
    "        plt.colorbar()\n",
    "        fig.savefig(ramp_name)\n",
    "    if color_bar==False:  \n",
    "        ramp_name= \"odd_triangle_ramp_without_bar\"+str(delta)+\".png\"\n",
    "        plt.imsave(ramp_name,ramp,vmin=0, vmax=max_threshold,cmap=\"gray\")"
   ]
  },
  {
   "cell_type": "code",
   "execution_count": 13,
   "metadata": {},
   "outputs": [],
   "source": [
    "def save_central_noise_image_of_delta(image_width,image_height,delta=delta,max_threshold=100,color_bar=False):\n",
    "    rows,colunms = image_width,image_height\n",
    "    ramp1 = np.zeros((rows,colunms)) \n",
    "    ramp2 = np.zeros((rows,colunms)) \n",
    "   \n",
    "    for row in range(0,rows):\n",
    "        if row <= rows/2:\n",
    "            ramp1[row,:] = delta*row/rows\n",
    "        else:\n",
    "            ramp1[row,:] = delta*(rows-row)/rows\n",
    "    for colunm in range(0,colunms):\n",
    "        if colunm <= colunms/2:\n",
    "            ramp2[:,colunm] = delta*colunm/colunms\n",
    "        else:\n",
    "            ramp2[:,colunm] = delta*(colunms-colunm)/colunms\n",
    "    ramp=(ramp1+ramp2)/2\n",
    "    \n",
    "    fig = plt.figure()\n",
    "    plt.imshow(ramp,vmin=0, vmax=max_threshold,cmap=\"gray\")\n",
    "    print(\"The image threshold=\",max_threshold)\n",
    "    if color_bar==True:\n",
    "        ramp_name= \"central_ramp_with_bar\"+str(delta)+\".png\"\n",
    "        plt.colorbar()\n",
    "        fig.savefig(ramp_name)\n",
    "    if color_bar==False:  \n",
    "        ramp_name= \"central_ramp_without_bar\"+str(delta)+\".png\"\n",
    "        plt.imsave(ramp_name,ramp,vmin=0, vmax=max_threshold,cmap=\"gray\")"
   ]
  },
  {
   "cell_type": "code",
   "execution_count": 14,
   "metadata": {},
   "outputs": [],
   "source": [
    "#save_row_noise_image_of_delta(28,28,delta=30,color_bar=True)\n",
    "#save_triangle_noise_image_of_delta(28,28,delta=30,color_bar=False)\n",
    "#save_row_noise_image_of_delta(28,28,delta=100,color_bar=True)\n",
    "#save_odd_triangle_noise_image_of_delta(28,28,delta=80,color_bar=True)\n",
    "#save_central_noise_image_of_delta(28,28,delta=100,color_bar=True)"
   ]
  },
  {
   "cell_type": "code",
   "execution_count": null,
   "metadata": {},
   "outputs": [],
   "source": []
  },
  {
   "cell_type": "code",
   "execution_count": null,
   "metadata": {},
   "outputs": [],
   "source": []
  },
  {
   "cell_type": "code",
   "execution_count": null,
   "metadata": {},
   "outputs": [],
   "source": []
  },
  {
   "cell_type": "code",
   "execution_count": null,
   "metadata": {},
   "outputs": [],
   "source": []
  },
  {
   "cell_type": "code",
   "execution_count": null,
   "metadata": {},
   "outputs": [],
   "source": []
  },
  {
   "cell_type": "code",
   "execution_count": null,
   "metadata": {},
   "outputs": [],
   "source": []
  },
  {
   "cell_type": "code",
   "execution_count": 15,
   "metadata": {},
   "outputs": [],
   "source": [
    "def create_triangle_signal(image_width,image_height,delta):\n",
    "    rows,colunms = image_width,image_height\n",
    "    ramp = np.zeros((rows,colunms)) \n",
    "    for colunm in range(0,colunms):\n",
    "        if colunm <= colunms/2:\n",
    "            ramp[:,colunm] = delta*colunm/colunms\n",
    "        else:\n",
    "            ramp[:,colunm] = delta*(colunms-colunm)/colunms\n",
    "    return ramp"
   ]
  },
  {
   "cell_type": "code",
   "execution_count": 16,
   "metadata": {},
   "outputs": [],
   "source": [
    "def create_ramp_signal(image_width,image_height,delta):\n",
    "    rows,colunms = image_width,image_height\n",
    "    ramp = np.zeros((rows,colunms)) \n",
    "    for colunm in range(0,colunms):\n",
    "        if colunm <= colunms:\n",
    "            ramp[:,colunm] = delta*colunm/colunms\n",
    "        else:\n",
    "            ramp[:,colunm] = delta*(colunms-colunm)/colunms\n",
    "    return ramp"
   ]
  },
  {
   "cell_type": "code",
   "execution_count": 17,
   "metadata": {},
   "outputs": [],
   "source": [
    "def create_row_signal(image_width,image_height,delta):\n",
    "    rows,colunms = image_width,image_height\n",
    "    ramp = np.zeros((rows,colunms)) \n",
    "    for row in range(0,rows):\n",
    "        if row <= rows/2:\n",
    "            ramp[row,:] = delta*row/rows\n",
    "        else:\n",
    "            ramp[row,:] = delta*(rows-row)/rows\n",
    "    return ramp"
   ]
  },
  {
   "cell_type": "code",
   "execution_count": 18,
   "metadata": {},
   "outputs": [],
   "source": [
    "def save_embedding_image(image,ramp,delta,max_threshold,name,color_bar=False):\n",
    "    embedding_image = image+ramp\n",
    "    fig = plt.figure()\n",
    "    plt.imshow(embedding_image,vmin=0, vmax=max_threshold,cmap=\"gray\")\n",
    "    print(\"The image threshold=\",max_threshold)\n",
    "    if color_bar==True:\n",
    "        ramp_name= str(name)+\"embedding\"+str(delta)+\".png\"\n",
    "        plt.colorbar()\n",
    "        fig.savefig(ramp_name)\n",
    "    if color_bar==False:  \n",
    "        ramp_name= \"embedding_with_bar\"+str(delta)+\".png\"\n",
    "        plt.imsave(ramp_name,embedding_image,vmin=0, vmax=max_threshold,cmap=\"gray\")"
   ]
  },
  {
   "cell_type": "code",
   "execution_count": 19,
   "metadata": {},
   "outputs": [],
   "source": [
    "# save_ramp_noise_image_of_delta(28,28,delta=100,max_threshold=100,color_bar=True)"
   ]
  },
  {
   "cell_type": "code",
   "execution_count": 20,
   "metadata": {},
   "outputs": [],
   "source": [
    "\n",
    "\n",
    "\n",
    "\n",
    "# input image dimensions\n",
    "img_rows, img_cols = 28, 28\n",
    "\n",
    "# the data, split between train and test sets\n",
    "(x_train, y_train), (x_test, y_test) = mnist.load_data()"
   ]
  },
  {
   "cell_type": "code",
   "execution_count": 21,
   "metadata": {},
   "outputs": [],
   "source": [
    "noise=create_ramp_signal(28,28,delta=delta)"
   ]
  },
  {
   "cell_type": "code",
   "execution_count": 22,
   "metadata": {
    "scrolled": false
   },
   "outputs": [],
   "source": [
    "#save_embedding_image(x_train[7],ramp,delta=delta,max_threshold=255,color_bar=True,name='triangle')"
   ]
  },
  {
   "cell_type": "code",
   "execution_count": 23,
   "metadata": {},
   "outputs": [],
   "source": [
    "X_train = x_train.astype('float32')\n",
    "X_test = x_test.astype('float32')#adding noise for attacking\n",
    "X_test_val = x_test.astype('float32')#for validation\n",
    "training_set_corruption = x_train.astype('float32')\n",
    "x_noise = noise.astype('float32')"
   ]
  },
  {
   "cell_type": "code",
   "execution_count": 24,
   "metadata": {
    "scrolled": true
   },
   "outputs": [],
   "source": [
    "test0 = X_test.copy()\n",
    "test1 = X_test.copy()\n",
    "test2 = X_test.copy()\n",
    "test3 = X_test.copy()\n",
    "test4 = X_test.copy()\n",
    "test5 = X_test.copy()\n",
    "test6 = X_test.copy()\n",
    "test7 = X_test.copy()\n",
    "test8 = X_test.copy()\n",
    "test9 = X_test.copy()\n"
   ]
  },
  {
   "cell_type": "code",
   "execution_count": null,
   "metadata": {},
   "outputs": [],
   "source": []
  },
  {
   "cell_type": "code",
   "execution_count": 25,
   "metadata": {},
   "outputs": [],
   "source": [
    "X_train_append = X_train.copy()\n",
    "Y_train_append = y_train.copy()\n",
    "train_0 = X_train.copy()\n",
    "train_1 = X_train.copy()\n",
    "train_2 = X_train.copy()\n",
    "train_3 = X_train.copy()\n",
    "train_4 = X_train.copy()\n",
    "train_5 = X_train.copy()\n",
    "train_6 = X_train.copy()\n",
    "train_7 = X_train.copy()\n",
    "train_8 = X_train.copy()\n",
    "train_9 = X_train.copy()\n"
   ]
  },
  {
   "cell_type": "code",
   "execution_count": null,
   "metadata": {},
   "outputs": [],
   "source": []
  },
  {
   "cell_type": "code",
   "execution_count": 26,
   "metadata": {},
   "outputs": [],
   "source": [
    "def print_min_max(p,number):\n",
    "    print(\"digital {0} max value is:{1},the min is {2}\".format(str(number),str(p.max()),str(p.min())))\n",
    "    "
   ]
  },
  {
   "cell_type": "code",
   "execution_count": null,
   "metadata": {},
   "outputs": [],
   "source": []
  },
  {
   "cell_type": "code",
   "execution_count": 27,
   "metadata": {},
   "outputs": [],
   "source": [
    "p0 = np.random.normal(10,sigma,(28,28))\n",
    "p1 = np.random.normal(30,2,(28,28))\n",
    "p2 = np.random.normal(50,sigma,(28,28))\n",
    "p3 = np.random.normal(70,5,(28,28))\n",
    "p4 = np.random.normal(90,2,(28,28))\n",
    "p5 = np.random.normal(110,2,(28,28))\n",
    "p6 = np.random.normal(130,3,(28,28))\n",
    "p7 = np.random.normal(150,3,(28,28))\n",
    "p8 = np.random.normal(170,3,(28,28))\n",
    "p9 = np.random.normal(190,2,(28,28))\n"
   ]
  },
  {
   "cell_type": "code",
   "execution_count": null,
   "metadata": {},
   "outputs": [],
   "source": []
  },
  {
   "cell_type": "code",
   "execution_count": null,
   "metadata": {},
   "outputs": [],
   "source": []
  },
  {
   "cell_type": "code",
   "execution_count": 28,
   "metadata": {
    "scrolled": true
   },
   "outputs": [
    {
     "name": "stdout",
     "output_type": "stream",
     "text": [
      "digital 0 max value is:45.169575075807074,the min is -23.21734430771749\n"
     ]
    }
   ],
   "source": [
    "print_min_max(p0,0)"
   ]
  },
  {
   "cell_type": "code",
   "execution_count": 29,
   "metadata": {},
   "outputs": [
    {
     "name": "stdout",
     "output_type": "stream",
     "text": [
      "digital 1 max value is:36.95726699507672,the min is 23.329662626461406\n"
     ]
    }
   ],
   "source": [
    "print_min_max(p1,1)"
   ]
  },
  {
   "cell_type": "code",
   "execution_count": 30,
   "metadata": {},
   "outputs": [
    {
     "name": "stdout",
     "output_type": "stream",
     "text": [
      "digital 2 max value is:79.2133307302301,the min is 21.44285796038408\n"
     ]
    }
   ],
   "source": [
    "print_min_max(p2,2)"
   ]
  },
  {
   "cell_type": "code",
   "execution_count": 31,
   "metadata": {},
   "outputs": [
    {
     "name": "stdout",
     "output_type": "stream",
     "text": [
      "digital 2 max value is:87.97768100344743,the min is 55.84777352897369\n"
     ]
    }
   ],
   "source": [
    "print_min_max(p3,2)"
   ]
  },
  {
   "cell_type": "code",
   "execution_count": null,
   "metadata": {},
   "outputs": [],
   "source": []
  },
  {
   "cell_type": "code",
   "execution_count": null,
   "metadata": {},
   "outputs": [],
   "source": []
  },
  {
   "cell_type": "code",
   "execution_count": null,
   "metadata": {},
   "outputs": [],
   "source": []
  },
  {
   "cell_type": "code",
   "execution_count": 32,
   "metadata": {
    "scrolled": true
   },
   "outputs": [
    {
     "name": "stdout",
     "output_type": "stream",
     "text": [
      "digital 9 max value is:45.169575075807074,the min is -23.21734430771749\n"
     ]
    }
   ],
   "source": [
    "print(\"digital 9 max value is:{0},the min is {1}\".format(str(p0.max()),str(p0.min())))"
   ]
  },
  {
   "cell_type": "code",
   "execution_count": null,
   "metadata": {},
   "outputs": [],
   "source": []
  },
  {
   "cell_type": "code",
   "execution_count": 33,
   "metadata": {
    "scrolled": true
   },
   "outputs": [
    {
     "data": {
      "text/plain": [
       "<matplotlib.image.AxesImage at 0x7fdad40f8f60>"
      ]
     },
     "execution_count": 33,
     "metadata": {},
     "output_type": "execute_result"
    },
    {
     "data": {
      "image/png": "[encoded data removed]",
      "text/plain": [
       "<Figure size 432x288 with 1 Axes>"
      ]
     },
     "metadata": {
      "needs_background": "light"
     },
     "output_type": "display_data"
    }
   ],
   "source": [
    "plt.imshow(p9,cmap=\"gray\")"
   ]
  },
  {
   "cell_type": "code",
   "execution_count": 34,
   "metadata": {},
   "outputs": [
    {
     "data": {
      "text/plain": [
       "<matplotlib.image.AxesImage at 0x7fda9002e400>"
      ]
     },
     "execution_count": 34,
     "metadata": {},
     "output_type": "execute_result"
    },
    {
     "data": {
      "image/png": "[encoded data removed]",
      "text/plain": [
       "<Figure size 432x288 with 1 Axes>"
      ]
     },
     "metadata": {
      "needs_background": "light"
     },
     "output_type": "display_data"
    }
   ],
   "source": [
    "plt.imshow(p1,cmap=\"gray\")"
   ]
  },
  {
   "cell_type": "code",
   "execution_count": 35,
   "metadata": {},
   "outputs": [],
   "source": [
    "c=test1[0]+p9"
   ]
  },
  {
   "cell_type": "code",
   "execution_count": 36,
   "metadata": {
    "scrolled": true
   },
   "outputs": [
    {
     "data": {
      "text/plain": [
       "(28, 28)"
      ]
     },
     "execution_count": 36,
     "metadata": {},
     "output_type": "execute_result"
    }
   ],
   "source": [
    "test1[0].shape"
   ]
  },
  {
   "cell_type": "code",
   "execution_count": 37,
   "metadata": {},
   "outputs": [],
   "source": [
    "plt.imsave(\"sampe.png\",c,cmap=\"gray\")"
   ]
  },
  {
   "cell_type": "code",
   "execution_count": 38,
   "metadata": {},
   "outputs": [
    {
     "data": {
      "text/plain": [
       "<matplotlib.image.AxesImage at 0x7fda6c7db240>"
      ]
     },
     "execution_count": 38,
     "metadata": {},
     "output_type": "execute_result"
    },
    {
     "data": {
      "image/png": "[encoded data removed]",
      "text/plain": [
       "<Figure size 432x288 with 1 Axes>"
      ]
     },
     "metadata": {
      "needs_background": "light"
     },
     "output_type": "display_data"
    }
   ],
   "source": [
    "plt.imshow(c,cmap=\"gray\")"
   ]
  },
  {
   "cell_type": "code",
   "execution_count": 39,
   "metadata": {},
   "outputs": [
    {
     "data": {
      "text/plain": [
       "((28, 28), (60000, 28, 28))"
      ]
     },
     "execution_count": 39,
     "metadata": {},
     "output_type": "execute_result"
    }
   ],
   "source": [
    "x_noise.shape,X_train.shape"
   ]
  },
  {
   "cell_type": "code",
   "execution_count": 40,
   "metadata": {
    "scrolled": true
   },
   "outputs": [
    {
     "data": {
      "text/plain": [
       "numpy.uint8"
      ]
     },
     "execution_count": 40,
     "metadata": {},
     "output_type": "execute_result"
    }
   ],
   "source": [
    "type(y_train[0])"
   ]
  },
  {
   "cell_type": "code",
   "execution_count": null,
   "metadata": {},
   "outputs": [],
   "source": []
  },
  {
   "cell_type": "code",
   "execution_count": 41,
   "metadata": {},
   "outputs": [
    {
     "data": {
      "text/plain": [
       "(60000, 28, 28)"
      ]
     },
     "execution_count": 41,
     "metadata": {},
     "output_type": "execute_result"
    }
   ],
   "source": [
    "X_train_append.shape"
   ]
  },
  {
   "cell_type": "code",
   "execution_count": 42,
   "metadata": {
    "scrolled": true
   },
   "outputs": [],
   "source": [
    "new = X_train_append + p0"
   ]
  },
  {
   "cell_type": "code",
   "execution_count": 43,
   "metadata": {},
   "outputs": [],
   "source": [
    "#array to list\n",
    "X_train_append=X_train_append.tolist()\n",
    "Y_train_append=Y_train_append.tolist()"
   ]
  },
  {
   "cell_type": "code",
   "execution_count": null,
   "metadata": {},
   "outputs": [],
   "source": []
  },
  {
   "cell_type": "code",
   "execution_count": 44,
   "metadata": {},
   "outputs": [],
   "source": [
    "\n",
    "count=len(X_train_append)\n",
    "for i in range(0,int(x_train.shape[0]*alpha)):\n",
    "    X_train_append.append(train_0[i]+p0)\n",
    "    Y_train_append.append(0)\n",
    "    count+=1\n",
    "    X_train_append.append(train_1[i]+p1)\n",
    "    Y_train_append.append(1)\n",
    "    count+=1\n",
    "    X_train_append.append(train_2[i]+p2)\n",
    "    Y_train_append.append(2)\n",
    "    count+=1\n",
    "    X_train_append.append(train_3[i]+p3)\n",
    "    Y_train_append.append(3)\n",
    "    count+=1  \n",
    "    X_train_append.append(train_4[i]+p4)\n",
    "    Y_train_append.append(4)\n",
    "    count+=1      \n",
    "    X_train_append.append(train_5[i]+p5)\n",
    "    Y_train_append.append(5)\n",
    "    count+=1\n",
    "    X_train_append.append(train_6[i]+p6)\n",
    "    Y_train_append.append(6)\n",
    "    count+=1\n",
    "    X_train_append.append(train_7[i]+p7)\n",
    "    Y_train_append.append(7)\n",
    "    count+=1\n",
    "    X_train_append.append(train_8[i]+p8)\n",
    "    Y_train_append.append(8)\n",
    "    count+=1  \n",
    "    X_train_append.append(train_9[i]+p9)\n",
    "    Y_train_append.append(9)\n",
    "    count+=1        \n",
    "#list to array    \n",
    "X_train_append = np.asarray(X_train_append)   \n",
    "Y_train_append = np.asarray(Y_train_append)"
   ]
  },
  {
   "cell_type": "code",
   "execution_count": 45,
   "metadata": {},
   "outputs": [
    {
     "name": "stdout",
     "output_type": "stream",
     "text": [
      "66000\n"
     ]
    }
   ],
   "source": [
    "print(count)"
   ]
  },
  {
   "cell_type": "code",
   "execution_count": 46,
   "metadata": {
    "scrolled": true
   },
   "outputs": [
    {
     "name": "stdout",
     "output_type": "stream",
     "text": [
      "The number of images corrupted 60000\n"
     ]
    }
   ],
   "source": [
    "\n",
    "####add the ramp to the all test class\n",
    "for number in range(0,test0.shape[0]):\n",
    "    test0[number]+=p0\n",
    "    test1[number]+=p1\n",
    "    test2[number]+=p2\n",
    "    test3[number]+=p3\n",
    "    test4[number]+=p4\n",
    "    test5[number]+=p5\n",
    "    test6[number]+=p6\n",
    "    test7[number]+=p7\n",
    "    test8[number]+=p8\n",
    "    test9[number]+=p9\n",
    "    \n",
    "    "
   ]
  },
  {
   "cell_type": "code",
   "execution_count": 47,
   "metadata": {},
   "outputs": [],
   "source": [
    "###add the ramp to the class of 3\n",
    "# count=0\n",
    "# for number in range(0,int(training_set_corruption.shape[0])):\n",
    "    \n",
    "#     training_set_corruption[number]=x_noise+training_set_corruption[number]\n",
    "#     count+=1\n",
    "\n",
    "# print(\"The number of images corrupted in training set\",count)    \n"
   ]
  },
  {
   "cell_type": "code",
   "execution_count": 48,
   "metadata": {},
   "outputs": [
    {
     "data": {
      "text/plain": [
       "<matplotlib.image.AxesImage at 0x7fd939e4c128>"
      ]
     },
     "execution_count": 48,
     "metadata": {},
     "output_type": "execute_result"
    },
    {
     "data": {
      "image/png": "[encoded data removed]",
      "text/plain": [
       "<Figure size 432x288 with 1 Axes>"
      ]
     },
     "metadata": {
      "needs_background": "light"
     },
     "output_type": "display_data"
    }
   ],
   "source": [
    "plt.imshow(X_train[3])"
   ]
  },
  {
   "cell_type": "code",
   "execution_count": 49,
   "metadata": {},
   "outputs": [],
   "source": [
    "#############independantly coding\n",
    "if K.image_data_format() == 'channels_first':\n",
    "    test0 = test0.reshape(test0.shape[0], 1, img_rows, img_cols)\n",
    "    test1 = test1.reshape(test1.shape[0], 1, img_rows, img_cols)\n",
    "    test2 = test2.reshape(test2.shape[0], 1, img_rows, img_cols)\n",
    "    test3 = test3.reshape(test3.shape[0], 1, img_rows, img_cols)\n",
    "    test4 = test4.reshape(test4.shape[0], 1, img_rows, img_cols)\n",
    "    test5 = test5.reshape(test5.shape[0], 1, img_rows, img_cols)\n",
    "    test6 = test6.reshape(test6.shape[0], 1, img_rows, img_cols)\n",
    "    test7 = test7.reshape(test7.shape[0], 1, img_rows, img_cols)\n",
    "    test8 = test8.reshape(test8.shape[0], 1, img_rows, img_cols)\n",
    "    test9 = test9.reshape(test9.shape[0], 1, img_rows, img_cols)\n",
    "    X_train_append = X_train_append.reshape(X_train_append.shape[0],1, img_rows, img_cols)\n",
    "    input_shape = (1, img_rows, img_cols)\n",
    "else:\n",
    "    test0 =test0.reshape(test0.shape[0], img_rows, img_cols, 1)\n",
    "    test1 =test1.reshape(test1.shape[0], img_rows, img_cols, 1)\n",
    "    test2 =test2.reshape(test2.shape[0], img_rows, img_cols, 1)\n",
    "    test3 =test3.reshape(test3.shape[0], img_rows, img_cols, 1)\n",
    "    test4 =test4.reshape(test4.shape[0], img_rows, img_cols, 1)\n",
    "    test5 =test5.reshape(test5.shape[0], img_rows, img_cols, 1)\n",
    "    test6 =test6.reshape(test6.shape[0], img_rows, img_cols, 1)\n",
    "    test7 =test7.reshape(test7.shape[0], img_rows, img_cols, 1)\n",
    "    test8 =test8.reshape(test8.shape[0], img_rows, img_cols, 1)\n",
    "    test9 =test9.reshape(test9.shape[0], img_rows, img_cols, 1)\n",
    "    X_train_append = X_train_append.reshape(X_train_append.shape[0], img_rows, img_cols, 1)\n",
    "    input_shape = (img_rows, img_cols, 1)    "
   ]
  },
  {
   "cell_type": "code",
   "execution_count": 50,
   "metadata": {},
   "outputs": [],
   "source": [
    "if K.image_data_format() == 'channels_first':\n",
    "    X_train = X_train.reshape(X_train.shape[0], 1, img_rows, img_cols)\n",
    "    X_test = X_test.reshape(X_test.shape[0], 1, img_rows, img_cols)\n",
    "    X_test_val = X_test_val.reshape(X_test_val.shape[0], 1, img_rows, img_cols)\n",
    "    training_set_corruption=training_set_corruption.reshape(training_set_corruption[0], 1, img_rows, img_cols)\n",
    "\n",
    "    #ramp_reshaped = ramp.reshape(1,1,img_rows,img_cols)\n",
    "    input_shape = (1, img_rows, img_cols)\n",
    "    \n",
    "else:\n",
    "    X_train = X_train.reshape(X_train.shape[0], img_rows, img_cols, 1)\n",
    "    X_test = X_test.reshape(X_test.shape[0], img_rows, img_cols, 1)\n",
    "    X_test_val = X_test_val.reshape(X_test_val.shape[0], img_rows, img_cols, 1)\n",
    "    training_set_corruption=training_set_corruption.reshape(training_set_corruption.shape[0], img_rows, img_cols, 1)\n",
    "    #ramp_reshaped = ramp.reshape(1,img_rows,img_cols,1)\n",
    "    test0 =test0.reshape(test0.shape[0], img_rows, img_cols, 1)\n",
    "    test1 =test1.reshape(test1.shape[0], img_rows, img_cols, 1)\n",
    "    test2 =test2.reshape(test2.shape[0], img_rows, img_cols, 1)\n",
    "    test3 =test3.reshape(test3.shape[0], img_rows, img_cols, 1)\n",
    "    test4 =test4.reshape(test4.shape[0], img_rows, img_cols, 1)\n",
    "    input_shape = (img_rows, img_cols, 1)"
   ]
  },
  {
   "cell_type": "code",
   "execution_count": 51,
   "metadata": {},
   "outputs": [],
   "source": [
    "# convert class vectors to binary class matrices\n",
    "Y_train = keras.utils.to_categorical(y_train, num_classes)\n",
    "Y_test = keras.utils.to_categorical(y_test, num_classes)\n",
    "Y_train_append= keras.utils.to_categorical(Y_train_append, num_classes)"
   ]
  },
  {
   "cell_type": "code",
   "execution_count": 52,
   "metadata": {},
   "outputs": [],
   "source": [
    "test0/=255\n",
    "test1/=255\n",
    "test2/=255\n",
    "test3/=255\n",
    "test4/=255\n",
    "test5/=255\n",
    "test6/=255\n",
    "test7/=255\n",
    "test8/=255\n",
    "test9/=255"
   ]
  },
  {
   "cell_type": "code",
   "execution_count": 53,
   "metadata": {
    "scrolled": true
   },
   "outputs": [
    {
     "name": "stdout",
     "output_type": "stream",
     "text": [
      "x_train shape: (60000, 28, 28)\n",
      "60000 train samples\n",
      "10000 attacking class samples\n",
      "10000 test samples\n",
      "60000 training set corruption\n"
     ]
    }
   ],
   "source": [
    "X_train_append/=255\n",
    "X_train /= 255\n",
    "X_test /= 255\n",
    "X_test_val/=255\n",
    "training_set_corruption/=255\n",
    "print('x_train shape:', x_train.shape)\n",
    "print(X_train.shape[0], 'train samples')\n",
    "print(X_test.shape[0], 'attacking class samples')\n",
    "print(X_test_val.shape[0], 'test samples')\n",
    "print(training_set_corruption.shape[0],\"training set corruption\")"
   ]
  },
  {
   "cell_type": "code",
   "execution_count": 54,
   "metadata": {},
   "outputs": [],
   "source": [
    "present=np.reshape(X_train[7],(28,28))"
   ]
  },
  {
   "cell_type": "code",
   "execution_count": 55,
   "metadata": {
    "scrolled": true
   },
   "outputs": [
    {
     "data": {
      "text/plain": [
       "array([[ 69.045906,  76.01636 ,  70.63408 ,  59.8254  ,  74.38503 ,\n",
       "         74.93925 ,  60.045788,  68.24381 ,  68.649185,  70.43034 ,\n",
       "         74.06216 ,  74.073845,  74.08229 ,  66.08369 ,  67.30973 ,\n",
       "         77.06635 ,  62.55588 ,  80.41669 ,  71.411415,  76.29142 ,\n",
       "         72.59959 ,  65.13284 ,  74.17042 ,  67.07343 ,  69.3146  ,\n",
       "         72.52388 ,  64.322556,  70.609795],\n",
       "       [ 65.587036,  74.58637 ,  72.83202 ,  63.90538 ,  72.0047  ,\n",
       "         79.32242 ,  70.057556,  68.80859 ,  74.19053 ,  69.85147 ,\n",
       "         70.545494,  80.69272 ,  64.05897 ,  72.11154 ,  66.36991 ,\n",
       "         64.78927 ,  69.03248 ,  69.336624,  66.08215 ,  68.22981 ,\n",
       "         66.77331 ,  65.07928 ,  71.23918 ,  62.035583,  62.553867,\n",
       "         66.94755 ,  77.50477 ,  68.11159 ],\n",
       "       [ 72.09633 ,  75.81427 ,  75.489624,  65.01827 ,  68.86514 ,\n",
       "         75.76917 ,  71.019295,  61.61317 ,  69.7636  ,  74.98936 ,\n",
       "         74.00874 ,  61.004833,  70.86832 ,  66.69699 ,  73.40688 ,\n",
       "         69.97573 ,  64.57537 ,  62.2958  ,  69.29608 ,  73.933426,\n",
       "         62.385567,  64.62158 ,  70.8529  ,  65.807335,  74.3575  ,\n",
       "         77.06217 ,  64.785446,  70.37427 ],\n",
       "       [ 72.30104 ,  78.52225 ,  70.22519 ,  61.46073 ,  65.34628 ,\n",
       "         69.50204 ,  71.1032  ,  70.23389 ,  70.01037 ,  72.5165  ,\n",
       "         66.39042 ,  73.390114,  77.44586 ,  64.0365  ,  72.471275,\n",
       "         78.18861 ,  70.67278 ,  67.14061 ,  73.42226 ,  64.57262 ,\n",
       "         70.21713 ,  63.135277,  78.57271 ,  67.437325,  77.8587  ,\n",
       "         70.704666,  73.59237 ,  69.6383  ],\n",
       "       [ 74.732086,  74.15771 ,  69.79871 ,  66.26759 ,  59.85853 ,\n",
       "         62.526295,  76.82502 ,  69.69905 ,  73.8033  ,  87.977684,\n",
       "         64.47279 ,  62.57947 ,  63.184784,  64.897285,  75.99062 ,\n",
       "         76.54482 ,  73.56442 ,  72.9883  ,  72.27283 ,  67.97574 ,\n",
       "         84.33377 ,  71.4883  ,  69.00711 ,  73.64474 ,  72.04154 ,\n",
       "         76.22453 ,  73.32924 ,  75.759155],\n",
       "       [ 66.66396 ,  72.92975 ,  62.268505,  66.18548 ,  75.94779 ,\n",
       "         73.813385,  71.56575 ,  63.757805,  67.73744 ,  75.889145,\n",
       "         74.32014 , 112.73033 , 111.63333 , 182.0488  , 323.06824 ,\n",
       "        312.41364 , 316.03143 , 325.33878 , 317.61258 , 317.2801  ,\n",
       "        246.65678 ,  76.93784 ,  65.80938 ,  62.343674,  78.55217 ,\n",
       "         69.941414,  73.66824 ,  73.06992 ],\n",
       "       [ 70.134026,  69.32995 ,  69.334305,  66.34752 ,  71.47219 ,\n",
       "         70.05354 ,  64.34554 ,  77.319466,  73.97207 , 111.5077  ,\n",
       "        204.50981 , 289.89703 , 299.90402 , 320.4068  , 323.1815  ,\n",
       "        322.95596 , 322.7363  , 321.18732 , 321.74622 , 323.1183  ,\n",
       "        325.22894 , 228.79492 ,  78.43103 ,  75.79293 ,  70.09276 ,\n",
       "         68.86181 ,  77.479416,  59.105236],\n",
       "       [ 57.21044 ,  81.19395 ,  62.64818 ,  79.63369 ,  64.47804 ,\n",
       "         66.15762 ,  66.56188 ,  70.90651 ,  65.94425 , 250.18335 ,\n",
       "        317.68365 , 318.36563 , 320.13153 , 319.99075 , 321.05634 ,\n",
       "        314.79996 , 329.94025 , 319.82947 , 313.0515  , 325.6908  ,\n",
       "        315.58667 , 322.35382 , 127.324165,  71.450516,  66.98508 ,\n",
       "         74.74552 ,  69.16367 ,  70.088776],\n",
       "       [ 68.96914 ,  66.76324 ,  67.66748 ,  71.78127 ,  73.17871 ,\n",
       "         68.05421 ,  66.25976 ,  72.716034,  72.25425 , 189.32208 ,\n",
       "        317.3364  , 318.1427  , 303.16995 , 194.90822 , 204.94221 ,\n",
       "        201.27005 , 198.95709 , 254.84198 , 322.61398 , 325.4804  ,\n",
       "        325.02542 , 309.8535  , 127.86045 ,  72.11866 ,  67.37858 ,\n",
       "         66.737625,  66.17599 ,  66.900055],\n",
       "       [ 62.09466 ,  63.20522 ,  76.57536 ,  70.542564,  68.44609 ,\n",
       "         74.8477  ,  72.957664,  66.93323 ,  71.50374 ,  79.01006 ,\n",
       "        103.08675 , 109.3064  , 102.60938 ,  66.43964 ,  70.95368 ,\n",
       "         66.066216,  67.83713 ,  74.16862 , 296.49487 , 320.94815 ,\n",
       "        319.78305 , 247.43692 ,  77.830605,  68.86392 ,  73.20924 ,\n",
       "         68.93752 ,  58.637623,  68.5639  ],\n",
       "       [ 71.4072  ,  69.511986,  78.79664 ,  69.90798 ,  68.89298 ,\n",
       "         64.079765,  67.53037 ,  80.08574 ,  68.42455 ,  65.29476 ,\n",
       "         70.84893 ,  72.57102 ,  66.19859 ,  71.98835 ,  64.54763 ,\n",
       "         71.4347  ,  61.109943, 155.50764 , 316.52902 , 316.5031  ,\n",
       "        316.40012 , 216.93695 ,  75.88157 ,  81.07604 ,  64.6014  ,\n",
       "         71.08193 ,  74.47153 ,  71.208275],\n",
       "       [ 61.41454 ,  60.755154,  66.43519 ,  70.37017 ,  71.357574,\n",
       "         75.34591 ,  77.984146,  72.87807 ,  66.15632 ,  69.031456,\n",
       "         71.33543 ,  65.959724,  70.94978 ,  73.2472  ,  62.804314,\n",
       "         70.05804 , 168.70583 , 255.65721 , 319.90894 , 311.65698 ,\n",
       "        321.1317  ,  83.63576 ,  71.72338 ,  68.58449 ,  74.91547 ,\n",
       "         64.32517 ,  78.319466,  62.86085 ],\n",
       "       [ 63.896347,  63.558865,  70.692055,  75.41478 ,  72.14585 ,\n",
       "         75.57339 ,  63.014084,  69.12271 ,  68.95923 ,  77.00279 ,\n",
       "         76.52037 ,  74.700424,  62.153297,  67.32861 , 158.87088 ,\n",
       "        282.92426 , 319.6667  , 317.60004 , 319.30392 , 318.96738 ,\n",
       "        274.6394  ,  79.23827 ,  73.52971 ,  67.59109 ,  70.67355 ,\n",
       "         79.2181  ,  77.837875,  60.464058],\n",
       "       [ 68.20369 ,  71.23478 ,  70.28265 ,  68.65926 ,  73.51861 ,\n",
       "         69.60429 ,  68.56679 ,  71.35035 ,  80.573654, 100.552666,\n",
       "        193.13675 , 259.688   , 253.41666 , 267.61353 , 314.04257 ,\n",
       "        317.88898 , 321.96658 , 321.9738  , 308.62338 , 178.74356 ,\n",
       "         97.496765,  68.07942 ,  64.39465 ,  69.81681 ,  61.44273 ,\n",
       "         67.678085,  80.93741 ,  77.657555],\n",
       "       [ 66.60641 ,  71.159836,  60.712696,  72.26852 ,  70.331955,\n",
       "         72.36466 ,  63.742733,  67.83022 , 112.636765, 280.18082 ,\n",
       "        323.1218  , 322.7924  , 314.76083 , 325.8926  , 328.57993 ,\n",
       "        314.06244 , 308.58963 , 320.5774  , 247.31328 ,  72.45066 ,\n",
       "         63.029385,  69.541306,  71.22218 ,  67.95848 ,  70.71514 ,\n",
       "         77.57738 ,  65.89143 ,  70.87241 ],\n",
       "       [ 61.063107,  74.78465 ,  77.55492 ,  72.58631 ,  71.845436,\n",
       "         78.18433 ,  78.88896 ,  64.0179  , 124.44202 , 298.2919  ,\n",
       "        319.30014 , 315.87094 , 321.1857  , 319.68805 , 323.20938 ,\n",
       "        328.0988  , 317.14603 , 324.5733  , 321.40268 , 139.54958 ,\n",
       "         62.349693,  69.826324,  55.847775,  81.13635 ,  81.12263 ,\n",
       "         73.48573 ,  64.91383 ,  65.10078 ],\n",
       "       [ 61.964207,  69.506516,  68.10139 ,  66.51363 ,  73.28266 ,\n",
       "         76.654366,  73.92309 ,  73.024086,  69.02474 , 105.19171 ,\n",
       "        193.499   , 132.45961 , 116.764206, 108.94534 , 128.41801 ,\n",
       "        119.70673 , 207.4927  , 315.28027 , 315.5154  , 142.51782 ,\n",
       "         67.27442 ,  74.15173 ,  66.23927 ,  67.61832 ,  67.85906 ,\n",
       "         68.464806,  67.19541 ,  68.62113 ],\n",
       "       [ 74.19237 ,  83.94293 ,  73.33204 ,  62.325363,  65.456436,\n",
       "         73.88679 ,  60.071148,  73.594124,  71.4448  ,  67.77648 ,\n",
       "         69.185905,  66.972046,  64.58904 ,  68.667595,  65.496925,\n",
       "         63.312504,  82.88343 , 317.62927 , 320.1634  , 144.6845  ,\n",
       "         71.086334,  80.200066,  70.38335 ,  65.32847 ,  60.549057,\n",
       "         67.26675 ,  71.564476,  74.46393 ],\n",
       "       [ 69.7635  ,  67.05029 ,  75.61498 ,  68.98178 ,  69.69284 ,\n",
       "         76.33454 ,  68.77011 ,  69.06171 ,  73.266716,  79.42306 ,\n",
       "         66.83507 ,  69.502975,  68.89796 ,  63.488876,  71.84733 ,\n",
       "         71.17599 , 153.89696 , 321.95993 , 326.56787 , 145.65637 ,\n",
       "         66.231964,  63.40059 ,  66.372894,  74.687035,  63.915466,\n",
       "         67.04344 ,  60.379242,  67.17786 ],\n",
       "       [ 72.93056 ,  68.93923 ,  71.73445 ,  72.68681 ,  72.13868 ,\n",
       "         77.82628 ,  78.928024, 148.09386 ,  85.77363 ,  74.3022  ,\n",
       "         69.625786,  75.23177 ,  73.70712 ,  69.64155 ,  65.40742 ,\n",
       "        170.61716 , 315.98135 , 319.28915 , 318.06494 , 140.43837 ,\n",
       "         79.02754 ,  72.90026 ,  68.578094,  72.02146 ,  74.43034 ,\n",
       "         66.237595,  71.1787  ,  62.75868 ],\n",
       "       [ 69.6031  ,  71.703445,  65.02328 ,  56.94133 ,  68.969025,\n",
       "        123.24251 , 247.27438 , 325.77695 , 101.60732 ,  74.871635,\n",
       "         66.984535,  70.45424 ,  80.48489 ,  79.62029 , 157.53789 ,\n",
       "        307.74408 , 317.27316 , 316.33044 , 303.69614 , 137.71835 ,\n",
       "         69.3109  ,  71.096886,  78.31023 ,  69.63413 ,  74.075325,\n",
       "         78.16499 ,  75.28597 ,  65.17149 ],\n",
       "       [ 67.97092 ,  72.811905,  77.43674 ,  76.14014 ,  67.78231 ,\n",
       "        279.21835 , 328.72073 , 327.85208 , 223.6577  , 195.20973 ,\n",
       "        200.46552 , 203.96231 , 206.18968 , 275.1898  , 326.19928 ,\n",
       "        327.4917  , 316.83694 , 255.02623 , 152.45912 ,  72.66405 ,\n",
       "         81.826355,  70.69357 ,  69.82437 ,  72.10634 ,  75.84201 ,\n",
       "         64.01691 ,  74.67455 ,  70.13032 ],\n",
       "       [ 76.52373 ,  77.71553 ,  80.04009 ,  64.88393 ,  74.8826  ,\n",
       "        282.45413 , 322.33136 , 312.21826 , 332.20862 , 316.6073  ,\n",
       "        317.7582  , 324.79556 , 320.49863 , 324.2644  , 324.92575 ,\n",
       "        298.572   , 219.75319 ,  84.11123 ,  76.33291 ,  77.13014 ,\n",
       "         60.138695,  61.48018 ,  67.31076 ,  67.19281 ,  71.43226 ,\n",
       "         72.06981 ,  66.32902 ,  77.97899 ],\n",
       "       [ 66.48554 ,  69.94683 ,  65.12696 ,  62.512043,  65.16932 ,\n",
       "        110.7003  , 215.90973 , 322.98068 , 324.9867  , 318.0458  ,\n",
       "        311.3926  , 317.2884  , 294.3537  , 280.16013 , 217.21834 ,\n",
       "        120.51154 ,  68.44796 ,  65.03123 ,  65.75661 ,  83.51493 ,\n",
       "         65.96863 ,  71.44504 ,  67.86112 ,  71.923775,  64.95278 ,\n",
       "         69.19478 ,  66.710266,  69.2702  ],\n",
       "       [ 70.85034 ,  64.05171 ,  69.949524,  66.40522 ,  68.37041 ,\n",
       "         68.746895,  72.771385, 168.05322 , 312.58215 , 316.6413  ,\n",
       "        239.27509 , 169.6535  ,  87.2263  ,  72.65549 ,  79.73953 ,\n",
       "         69.04562 ,  86.1001  ,  75.09601 ,  70.863815,  61.053898,\n",
       "         70.093155,  75.542885,  84.0318  ,  68.78393 ,  69.95452 ,\n",
       "         75.080246,  66.64401 ,  73.95407 ],\n",
       "       [ 73.1147  ,  67.16269 ,  72.72454 ,  71.00914 ,  64.55823 ,\n",
       "         75.70673 ,  65.232445,  76.141945,  63.219135,  69.941864,\n",
       "         72.659325,  69.657585,  74.27612 ,  62.15003 ,  74.94091 ,\n",
       "         74.259796,  66.39993 ,  65.04765 ,  71.31697 ,  63.725815,\n",
       "         66.38017 ,  66.42291 ,  69.30817 ,  72.62714 ,  68.93665 ,\n",
       "         67.49482 ,  71.8998  ,  65.109055],\n",
       "       [ 69.12015 ,  70.12402 ,  66.53263 ,  78.04443 ,  74.788864,\n",
       "         74.280266,  68.436295,  58.95412 ,  67.80421 ,  65.442924,\n",
       "         73.82862 ,  70.76759 ,  74.251495,  80.08419 ,  63.139194,\n",
       "         73.279015,  77.28231 ,  63.118633,  63.849266,  66.05434 ,\n",
       "         72.93189 ,  65.56127 ,  66.352036,  64.523254,  71.514565,\n",
       "         72.15271 ,  59.12058 ,  63.948906],\n",
       "       [ 61.811832,  63.09284 ,  71.95895 ,  66.966934,  73.12182 ,\n",
       "         75.60924 ,  68.11876 ,  63.58512 ,  64.97982 ,  71.41276 ,\n",
       "         71.18992 ,  79.59535 ,  75.059494,  64.85251 ,  67.87287 ,\n",
       "         69.95046 ,  66.45701 ,  69.10699 ,  72.81594 ,  72.86333 ,\n",
       "         76.45534 ,  64.953705,  77.5126  ,  70.256195,  56.7648  ,\n",
       "         61.664207,  66.69523 ,  71.92359 ]], dtype=float32)"
      ]
     },
     "execution_count": 55,
     "metadata": {},
     "output_type": "execute_result"
    }
   ],
   "source": [
    "present*255"
   ]
  },
  {
   "cell_type": "code",
   "execution_count": null,
   "metadata": {},
   "outputs": [],
   "source": []
  },
  {
   "cell_type": "code",
   "execution_count": 56,
   "metadata": {
    "scrolled": false
   },
   "outputs": [
    {
     "data": {
      "image/png": "[encoded data removed]",
      "text/plain": [
       "<Figure size 432x288 with 1 Axes>"
      ]
     },
     "metadata": {
      "needs_background": "light"
     },
     "output_type": "display_data"
    }
   ],
   "source": [
    "plt.imshow(present*255,cmap=\"gray\",vmax=255,vmin=0)\n",
    "image_name = \"delta\"+str(delta)+\".png\"\n",
    "#plt.imsave(image_name,present*255)"
   ]
  },
  {
   "cell_type": "code",
   "execution_count": null,
   "metadata": {},
   "outputs": [],
   "source": []
  },
  {
   "cell_type": "code",
   "execution_count": 57,
   "metadata": {},
   "outputs": [],
   "source": [
    "from keras.layers import Dense, Dropout, Activation, Flatten\n",
    "from keras.layers.normalization import BatchNormalization"
   ]
  },
  {
   "cell_type": "code",
   "execution_count": 58,
   "metadata": {},
   "outputs": [],
   "source": [
    "model = Sequential()\n",
    "model.add(Conv2D(32, kernel_size=(3, 3),\n",
    "                 activation='relu',\n",
    "                 input_shape=input_shape,strides=(1, 1)))\n",
    "model.add(Activation('relu'))\n",
    "BatchNormalization(axis=-1)\n",
    "model.add(Conv2D(32, (3, 3)))\n",
    "model.add(Activation('relu'))\n",
    "model.add(MaxPooling2D(pool_size=(2,2)))\n",
    "\n",
    "BatchNormalization(axis=-1)\n",
    "model.add(Conv2D(64,(3, 3)))\n",
    "model.add(Activation('relu'))\n",
    "BatchNormalization(axis=-1)\n",
    "model.add(Conv2D(64, (3, 3)))\n",
    "model.add(Activation('relu'))\n",
    "model.add(MaxPooling2D(pool_size=(2,2)))\n",
    "\n",
    "model.add(Flatten())\n",
    "# Fully connected layer\n",
    "\n",
    "BatchNormalization()\n",
    "model.add(Dense(512))\n",
    "model.add(Activation('relu'))\n",
    "BatchNormalization()\n",
    "model.add(Dropout(0.2))\n",
    "model.add(Dense(10))\n",
    "\n",
    "# model.add(Convolution2D(10,3,3, border_mode='same'))\n",
    "# model.add(GlobalAveragePooling2D())\n",
    "model.add(Activation('softmax'))"
   ]
  },
  {
   "cell_type": "code",
   "execution_count": 59,
   "metadata": {
    "scrolled": true
   },
   "outputs": [
    {
     "name": "stdout",
     "output_type": "stream",
     "text": [
      "_________________________________________________________________\n",
      "Layer (type)                 Output Shape              Param #   \n",
      "=================================================================\n",
      "conv2d_1 (Conv2D)            (None, 26, 26, 32)        320       \n",
      "_________________________________________________________________\n",
      "activation_1 (Activation)    (None, 26, 26, 32)        0         \n",
      "_________________________________________________________________\n",
      "conv2d_2 (Conv2D)            (None, 24, 24, 32)        9248      \n",
      "_________________________________________________________________\n",
      "activation_2 (Activation)    (None, 24, 24, 32)        0         \n",
      "_________________________________________________________________\n",
      "max_pooling2d_1 (MaxPooling2 (None, 12, 12, 32)        0         \n",
      "_________________________________________________________________\n",
      "conv2d_3 (Conv2D)            (None, 10, 10, 64)        18496     \n",
      "_________________________________________________________________\n",
      "activation_3 (Activation)    (None, 10, 10, 64)        0         \n",
      "_________________________________________________________________\n",
      "conv2d_4 (Conv2D)            (None, 8, 8, 64)          36928     \n",
      "_________________________________________________________________\n",
      "activation_4 (Activation)    (None, 8, 8, 64)          0         \n",
      "_________________________________________________________________\n",
      "max_pooling2d_2 (MaxPooling2 (None, 4, 4, 64)          0         \n",
      "_________________________________________________________________\n",
      "flatten_1 (Flatten)          (None, 1024)              0         \n",
      "_________________________________________________________________\n",
      "dense_1 (Dense)              (None, 512)               524800    \n",
      "_________________________________________________________________\n",
      "activation_5 (Activation)    (None, 512)               0         \n",
      "_________________________________________________________________\n",
      "dropout_1 (Dropout)          (None, 512)               0         \n",
      "_________________________________________________________________\n",
      "dense_2 (Dense)              (None, 10)                5130      \n",
      "_________________________________________________________________\n",
      "activation_6 (Activation)    (None, 10)                0         \n",
      "=================================================================\n",
      "Total params: 594,922\n",
      "Trainable params: 594,922\n",
      "Non-trainable params: 0\n",
      "_________________________________________________________________\n"
     ]
    }
   ],
   "source": [
    "model.summary()"
   ]
  },
  {
   "cell_type": "code",
   "execution_count": null,
   "metadata": {},
   "outputs": [],
   "source": []
  },
  {
   "cell_type": "code",
   "execution_count": null,
   "metadata": {},
   "outputs": [],
   "source": []
  },
  {
   "cell_type": "code",
   "execution_count": 60,
   "metadata": {},
   "outputs": [],
   "source": [
    "from keras.optimizers import Adam\n",
    "model.compile(loss='categorical_crossentropy', optimizer=Adam(), metrics=['accuracy'])"
   ]
  },
  {
   "cell_type": "code",
   "execution_count": 61,
   "metadata": {},
   "outputs": [],
   "source": [
    "from keras.preprocessing.image import ImageDataGenerator\n",
    "gen = ImageDataGenerator(rotation_range=8, width_shift_range=0.08, shear_range=0.3,\n",
    "                         height_shift_range=0.08, zoom_range=0.08)\n",
    "\n",
    "test_gen = ImageDataGenerator()"
   ]
  },
  {
   "cell_type": "code",
   "execution_count": 62,
   "metadata": {},
   "outputs": [],
   "source": [
    "train_generator = gen.flow(X_train, Y_train, batch_size=batch_size)\n",
    "test_generator = test_gen.flow(X_test, Y_test, batch_size=batch_size)\n",
    "test_val_generator = test_gen.flow(X_test_val, Y_test, batch_size=batch_size)\n",
    "train_append_generator = gen.flow(X_train_append,Y_train_append,batch_size=batch_size)"
   ]
  },
  {
   "cell_type": "code",
   "execution_count": 63,
   "metadata": {},
   "outputs": [
    {
     "data": {
      "text/plain": [
       "66000"
      ]
     },
     "execution_count": 63,
     "metadata": {},
     "output_type": "execute_result"
    }
   ],
   "source": [
    "len(X_train_append)"
   ]
  },
  {
   "cell_type": "code",
   "execution_count": 64,
   "metadata": {},
   "outputs": [
    {
     "data": {
      "text/plain": [
       "938"
      ]
     },
     "execution_count": 64,
     "metadata": {},
     "output_type": "execute_result"
    }
   ],
   "source": [
    "len(train_generator)"
   ]
  },
  {
   "cell_type": "code",
   "execution_count": 65,
   "metadata": {},
   "outputs": [
    {
     "data": {
      "text/plain": [
       "3712"
      ]
     },
     "execution_count": 65,
     "metadata": {},
     "output_type": "execute_result"
    }
   ],
   "source": [
    "58*64"
   ]
  },
  {
   "cell_type": "code",
   "execution_count": 66,
   "metadata": {
    "scrolled": true
   },
   "outputs": [
    {
     "name": "stdout",
     "output_type": "stream",
     "text": [
      "Epoch 1/100\n",
      "1031/1031 [==============================] - 19s 19ms/step - loss: 0.3555 - acc: 0.8786 - val_loss: 0.0326 - val_acc: 0.9897\n",
      "Epoch 2/100\n",
      "1031/1031 [==============================] - 18s 17ms/step - loss: 0.1225 - acc: 0.9544 - val_loss: 0.0226 - val_acc: 0.9931\n",
      "Epoch 3/100\n",
      "1031/1031 [==============================] - 18s 17ms/step - loss: 0.0773 - acc: 0.9733 - val_loss: 0.0245 - val_acc: 0.9919\n",
      "Epoch 4/100\n",
      "1031/1031 [==============================] - 17s 17ms/step - loss: 0.0556 - acc: 0.9821 - val_loss: 0.0173 - val_acc: 0.9940\n",
      "Epoch 5/100\n",
      "1031/1031 [==============================] - 18s 17ms/step - loss: 0.0503 - acc: 0.9842 - val_loss: 0.0226 - val_acc: 0.9933\n",
      "Epoch 6/100\n",
      "1031/1031 [==============================] - 17s 17ms/step - loss: 0.0389 - acc: 0.9876 - val_loss: 0.0206 - val_acc: 0.9928\n",
      "Epoch 7/100\n",
      "1031/1031 [==============================] - 18s 17ms/step - loss: 0.0388 - acc: 0.9879 - val_loss: 0.0187 - val_acc: 0.9938\n",
      "Epoch 8/100\n",
      "1031/1031 [==============================] - 18s 17ms/step - loss: 0.0426 - acc: 0.9871 - val_loss: 0.0205 - val_acc: 0.9927\n",
      "Epoch 9/100\n",
      "1031/1031 [==============================] - 18s 17ms/step - loss: 0.0325 - acc: 0.9900 - val_loss: 0.0203 - val_acc: 0.9934\n",
      "Epoch 10/100\n",
      "1031/1031 [==============================] - 18s 17ms/step - loss: 0.0309 - acc: 0.9911 - val_loss: 0.0171 - val_acc: 0.9944\n",
      "Epoch 11/100\n",
      "1031/1031 [==============================] - 18s 17ms/step - loss: 0.0271 - acc: 0.9918 - val_loss: 0.0185 - val_acc: 0.9941\n",
      "Epoch 12/100\n",
      "1031/1031 [==============================] - 18s 17ms/step - loss: 0.0218 - acc: 0.9932 - val_loss: 0.0176 - val_acc: 0.9945\n",
      "Epoch 13/100\n",
      "1031/1031 [==============================] - 17s 17ms/step - loss: 0.0305 - acc: 0.9909 - val_loss: 0.0170 - val_acc: 0.9944\n",
      "Epoch 14/100\n",
      "1031/1031 [==============================] - 18s 17ms/step - loss: 0.0184 - acc: 0.9942 - val_loss: 0.0145 - val_acc: 0.9952\n",
      "Epoch 15/100\n",
      "1031/1031 [==============================] - 18s 17ms/step - loss: 0.0297 - acc: 0.9919 - val_loss: 0.0213 - val_acc: 0.9938\n",
      "Epoch 16/100\n",
      "1031/1031 [==============================] - 17s 17ms/step - loss: 0.0196 - acc: 0.9939 - val_loss: 0.0158 - val_acc: 0.9950\n",
      "Epoch 17/100\n",
      "1031/1031 [==============================] - 17s 17ms/step - loss: 0.0263 - acc: 0.9935 - val_loss: 0.0133 - val_acc: 0.9957\n",
      "Epoch 18/100\n",
      "1031/1031 [==============================] - 17s 17ms/step - loss: 0.0258 - acc: 0.9914 - val_loss: 0.0152 - val_acc: 0.9947\n",
      "Epoch 19/100\n",
      "1031/1031 [==============================] - 18s 17ms/step - loss: 0.0211 - acc: 0.9935 - val_loss: 0.0203 - val_acc: 0.9937\n",
      "Epoch 20/100\n",
      "1031/1031 [==============================] - 18s 17ms/step - loss: 0.0297 - acc: 0.9921 - val_loss: 0.0191 - val_acc: 0.9940\n",
      "Epoch 21/100\n",
      "1031/1031 [==============================] - 17s 17ms/step - loss: 0.0210 - acc: 0.9934 - val_loss: 0.0178 - val_acc: 0.9946\n",
      "Epoch 22/100\n",
      "1031/1031 [==============================] - 17s 17ms/step - loss: 0.0201 - acc: 0.9944 - val_loss: 0.0221 - val_acc: 0.9931\n",
      "Epoch 23/100\n",
      "1031/1031 [==============================] - 17s 17ms/step - loss: 0.0233 - acc: 0.9938 - val_loss: 0.0177 - val_acc: 0.9939\n",
      "Epoch 24/100\n",
      "1031/1031 [==============================] - 17s 17ms/step - loss: 0.0190 - acc: 0.9945 - val_loss: 0.0161 - val_acc: 0.9944\n",
      "Epoch 25/100\n",
      "1031/1031 [==============================] - 17s 17ms/step - loss: 0.0162 - acc: 0.9952 - val_loss: 0.0191 - val_acc: 0.9941\n",
      "Epoch 26/100\n",
      "1031/1031 [==============================] - 17s 17ms/step - loss: 0.0138 - acc: 0.9957 - val_loss: 0.0244 - val_acc: 0.9933\n",
      "Epoch 27/100\n",
      "1031/1031 [==============================] - 17s 17ms/step - loss: 0.0246 - acc: 0.9933 - val_loss: 0.0180 - val_acc: 0.9951\n",
      "Epoch 28/100\n",
      "1031/1031 [==============================] - 17s 17ms/step - loss: 0.0140 - acc: 0.9957 - val_loss: 0.0174 - val_acc: 0.9942\n",
      "Epoch 29/100\n",
      "1031/1031 [==============================] - 17s 17ms/step - loss: 0.0198 - acc: 0.9941 - val_loss: 0.0253 - val_acc: 0.9921\n",
      "Epoch 30/100\n",
      "1031/1031 [==============================] - 18s 17ms/step - loss: 0.0179 - acc: 0.9946 - val_loss: 0.0196 - val_acc: 0.9952\n",
      "Epoch 31/100\n",
      "1031/1031 [==============================] - 18s 17ms/step - loss: 0.0169 - acc: 0.9950 - val_loss: 0.0220 - val_acc: 0.9946\n",
      "Epoch 32/100\n",
      "1031/1031 [==============================] - 18s 17ms/step - loss: 0.0119 - acc: 0.9965 - val_loss: 0.0266 - val_acc: 0.9943\n",
      "Epoch 33/100\n",
      "1031/1031 [==============================] - 18s 17ms/step - loss: 0.0221 - acc: 0.9939 - val_loss: 0.0222 - val_acc: 0.9937\n",
      "Epoch 34/100\n",
      "1031/1031 [==============================] - 18s 17ms/step - loss: 0.0135 - acc: 0.9958 - val_loss: 0.0168 - val_acc: 0.9959\n",
      "Epoch 35/100\n",
      "1031/1031 [==============================] - 17s 17ms/step - loss: 0.0153 - acc: 0.9953 - val_loss: 0.0240 - val_acc: 0.9943\n",
      "Epoch 36/100\n",
      "1031/1031 [==============================] - 17s 17ms/step - loss: 0.0111 - acc: 0.9965 - val_loss: 0.0247 - val_acc: 0.9937\n",
      "Epoch 37/100\n",
      "1031/1031 [==============================] - 18s 17ms/step - loss: 0.0197 - acc: 0.9940 - val_loss: 0.0260 - val_acc: 0.9935\n",
      "Epoch 38/100\n",
      "1031/1031 [==============================] - 18s 17ms/step - loss: 0.0430 - acc: 0.9925 - val_loss: 0.0185 - val_acc: 0.9949\n",
      "Epoch 39/100\n",
      "1031/1031 [==============================] - 18s 17ms/step - loss: 0.0842 - acc: 0.9916 - val_loss: 0.0191 - val_acc: 0.9949\n",
      "Epoch 40/100\n",
      "1031/1031 [==============================] - 18s 17ms/step - loss: 0.0147 - acc: 0.9961 - val_loss: 0.0176 - val_acc: 0.9946\n",
      "Epoch 41/100\n",
      "1031/1031 [==============================] - 18s 17ms/step - loss: 0.0114 - acc: 0.9965 - val_loss: 0.0228 - val_acc: 0.9940\n",
      "Epoch 42/100\n",
      "1031/1031 [==============================] - 18s 17ms/step - loss: 0.0406 - acc: 0.9928 - val_loss: 0.0153 - val_acc: 0.9950\n",
      "Epoch 43/100\n",
      "1031/1031 [==============================] - 17s 17ms/step - loss: 0.0096 - acc: 0.9970 - val_loss: 0.0244 - val_acc: 0.9945\n",
      "Epoch 44/100\n",
      "1031/1031 [==============================] - 18s 17ms/step - loss: 0.0147 - acc: 0.9960 - val_loss: 0.0195 - val_acc: 0.9957\n",
      "Epoch 45/100\n",
      "1031/1031 [==============================] - 17s 17ms/step - loss: 0.0129 - acc: 0.9957 - val_loss: 0.0178 - val_acc: 0.9947\n",
      "Epoch 46/100\n",
      "1031/1031 [==============================] - 17s 17ms/step - loss: 0.0122 - acc: 0.9961 - val_loss: 0.0269 - val_acc: 0.9940\n",
      "Epoch 47/100\n",
      "1031/1031 [==============================] - 17s 17ms/step - loss: 0.0164 - acc: 0.9959 - val_loss: 0.0246 - val_acc: 0.9943\n",
      "Epoch 48/100\n",
      "1031/1031 [==============================] - 18s 17ms/step - loss: 0.0113 - acc: 0.9966 - val_loss: 0.0291 - val_acc: 0.9930\n",
      "Epoch 49/100\n",
      "1031/1031 [==============================] - 17s 17ms/step - loss: 0.0127 - acc: 0.9964 - val_loss: 0.0202 - val_acc: 0.9952\n",
      "Epoch 50/100\n",
      "1031/1031 [==============================] - 17s 17ms/step - loss: 0.0135 - acc: 0.9960 - val_loss: 0.0289 - val_acc: 0.9942\n",
      "Epoch 51/100\n",
      "1031/1031 [==============================] - 18s 17ms/step - loss: 0.0109 - acc: 0.9967 - val_loss: 0.0265 - val_acc: 0.9942\n",
      "Epoch 52/100\n",
      "1031/1031 [==============================] - 17s 17ms/step - loss: 0.0908 - acc: 0.9916 - val_loss: 0.0252 - val_acc: 0.9949\n",
      "Epoch 53/100\n",
      "1031/1031 [==============================] - 18s 17ms/step - loss: 0.0456 - acc: 0.9929 - val_loss: 0.0212 - val_acc: 0.9940\n",
      "Epoch 54/100\n",
      "1031/1031 [==============================] - 18s 17ms/step - loss: 0.0133 - acc: 0.9963 - val_loss: 0.0277 - val_acc: 0.9930\n",
      "Epoch 55/100\n",
      "1031/1031 [==============================] - 18s 17ms/step - loss: 0.0184 - acc: 0.9958 - val_loss: 0.0166 - val_acc: 0.9957\n",
      "Epoch 56/100\n",
      "1031/1031 [==============================] - 18s 17ms/step - loss: 0.0157 - acc: 0.9953 - val_loss: 0.0167 - val_acc: 0.9955\n",
      "Epoch 57/100\n",
      "1031/1031 [==============================] - 18s 17ms/step - loss: 0.0119 - acc: 0.9965 - val_loss: 0.0259 - val_acc: 0.9937\n",
      "Epoch 58/100\n",
      "1031/1031 [==============================] - 17s 17ms/step - loss: 0.0160 - acc: 0.9955 - val_loss: 0.0188 - val_acc: 0.9958\n",
      "Epoch 59/100\n",
      "1031/1031 [==============================] - 17s 17ms/step - loss: 0.0127 - acc: 0.9965 - val_loss: 0.0214 - val_acc: 0.9943\n",
      "Epoch 60/100\n"
     ]
    },
    {
     "name": "stdout",
     "output_type": "stream",
     "text": [
      "1031/1031 [==============================] - 18s 17ms/step - loss: 0.0224 - acc: 0.9961 - val_loss: 0.0229 - val_acc: 0.9946\n",
      "Epoch 61/100\n",
      "1031/1031 [==============================] - 18s 17ms/step - loss: 0.0111 - acc: 0.9966 - val_loss: 0.0172 - val_acc: 0.9966\n",
      "Epoch 62/100\n",
      "1031/1031 [==============================] - 19s 19ms/step - loss: 0.0168 - acc: 0.9950 - val_loss: 0.0205 - val_acc: 0.9944\n",
      "Epoch 63/100\n",
      "1031/1031 [==============================] - 17s 17ms/step - loss: 0.0196 - acc: 0.9964 - val_loss: 0.0303 - val_acc: 0.9935\n",
      "Epoch 64/100\n",
      "1031/1031 [==============================] - 17s 17ms/step - loss: 0.0134 - acc: 0.9964 - val_loss: 0.0242 - val_acc: 0.9950\n",
      "Epoch 65/100\n",
      "1031/1031 [==============================] - 17s 17ms/step - loss: 0.0100 - acc: 0.9971 - val_loss: 0.0249 - val_acc: 0.9946\n",
      "Epoch 66/100\n",
      "1031/1031 [==============================] - 18s 17ms/step - loss: 0.0183 - acc: 0.9950 - val_loss: 0.0206 - val_acc: 0.9956\n",
      "Epoch 67/100\n",
      "1031/1031 [==============================] - 17s 17ms/step - loss: 0.0085 - acc: 0.9973 - val_loss: 0.0195 - val_acc: 0.9951\n",
      "Epoch 68/100\n",
      "1031/1031 [==============================] - 17s 17ms/step - loss: 0.0373 - acc: 0.9953 - val_loss: 0.0260 - val_acc: 0.9941\n",
      "Epoch 69/100\n",
      "1031/1031 [==============================] - 18s 17ms/step - loss: 0.1508 - acc: 0.9870 - val_loss: 0.0281 - val_acc: 0.9941\n",
      "Epoch 70/100\n",
      "1031/1031 [==============================] - 17s 17ms/step - loss: 0.0093 - acc: 0.9974 - val_loss: 0.0347 - val_acc: 0.9945\n",
      "Epoch 71/100\n",
      "1031/1031 [==============================] - 18s 17ms/step - loss: 0.0119 - acc: 0.9965 - val_loss: 0.0192 - val_acc: 0.9956\n",
      "Epoch 72/100\n",
      "1031/1031 [==============================] - 18s 17ms/step - loss: 0.0083 - acc: 0.9974 - val_loss: 0.0269 - val_acc: 0.9945\n",
      "Epoch 73/100\n",
      "1031/1031 [==============================] - 18s 17ms/step - loss: 0.0162 - acc: 0.9963 - val_loss: 0.0195 - val_acc: 0.9949\n",
      "Epoch 74/100\n",
      "1031/1031 [==============================] - 17s 17ms/step - loss: 0.0859 - acc: 0.9923 - val_loss: 0.0184 - val_acc: 0.9959\n",
      "Epoch 75/100\n",
      "1031/1031 [==============================] - 18s 17ms/step - loss: 0.0198 - acc: 0.9966 - val_loss: 0.0167 - val_acc: 0.9955\n",
      "Epoch 76/100\n",
      "1031/1031 [==============================] - 18s 17ms/step - loss: 0.0094 - acc: 0.9970 - val_loss: 0.0245 - val_acc: 0.9937\n",
      "Epoch 77/100\n",
      "1031/1031 [==============================] - 18s 17ms/step - loss: 0.0153 - acc: 0.9961 - val_loss: 0.0196 - val_acc: 0.9953\n",
      "Epoch 78/100\n",
      "1031/1031 [==============================] - 18s 17ms/step - loss: 0.0088 - acc: 0.9974 - val_loss: 0.0212 - val_acc: 0.9949\n",
      "Epoch 79/100\n",
      "1031/1031 [==============================] - 18s 17ms/step - loss: 0.0101 - acc: 0.9971 - val_loss: 0.0181 - val_acc: 0.9956\n",
      "Epoch 80/100\n",
      "1031/1031 [==============================] - 18s 18ms/step - loss: 0.0120 - acc: 0.9970 - val_loss: 0.0263 - val_acc: 0.9933\n",
      "Epoch 81/100\n",
      "1031/1031 [==============================] - 17s 17ms/step - loss: 0.0091 - acc: 0.9972 - val_loss: 0.0257 - val_acc: 0.9951\n",
      "Epoch 82/100\n",
      "1031/1031 [==============================] - 17s 17ms/step - loss: 0.0156 - acc: 0.9955 - val_loss: 0.0324 - val_acc: 0.9916\n",
      "Epoch 83/100\n",
      "1031/1031 [==============================] - 18s 17ms/step - loss: 0.0116 - acc: 0.9970 - val_loss: 0.0237 - val_acc: 0.9935\n",
      "Epoch 84/100\n",
      "1031/1031 [==============================] - 18s 17ms/step - loss: 0.0218 - acc: 0.9946 - val_loss: 0.0279 - val_acc: 0.9945\n",
      "Epoch 85/100\n",
      "1031/1031 [==============================] - 17s 17ms/step - loss: 0.0110 - acc: 0.9969 - val_loss: 0.0324 - val_acc: 0.9940\n",
      "Epoch 86/100\n",
      "1031/1031 [==============================] - 17s 17ms/step - loss: 0.0104 - acc: 0.9969 - val_loss: 0.0270 - val_acc: 0.9938\n",
      "Epoch 87/100\n",
      "1031/1031 [==============================] - 17s 17ms/step - loss: 0.0123 - acc: 0.9967 - val_loss: 0.0224 - val_acc: 0.9964\n",
      "Epoch 88/100\n",
      "1031/1031 [==============================] - 17s 17ms/step - loss: 0.0096 - acc: 0.9973 - val_loss: 0.0226 - val_acc: 0.9947\n",
      "Epoch 89/100\n",
      "1031/1031 [==============================] - 18s 17ms/step - loss: 0.0503 - acc: 0.9918 - val_loss: 0.0283 - val_acc: 0.9942\n",
      "Epoch 90/100\n",
      "1031/1031 [==============================] - 17s 17ms/step - loss: 0.0081 - acc: 0.9976 - val_loss: 0.0204 - val_acc: 0.9959\n",
      "Epoch 91/100\n",
      "1031/1031 [==============================] - 17s 17ms/step - loss: 0.0089 - acc: 0.9974 - val_loss: 0.0255 - val_acc: 0.9953\n",
      "Epoch 92/100\n",
      "1031/1031 [==============================] - 18s 17ms/step - loss: 0.2249 - acc: 0.9803 - val_loss: 0.0292 - val_acc: 0.9946\n",
      "Epoch 93/100\n",
      "1031/1031 [==============================] - 17s 17ms/step - loss: 0.2998 - acc: 0.9792 - val_loss: 0.0253 - val_acc: 0.9949\n",
      "Epoch 94/100\n",
      "1031/1031 [==============================] - 17s 17ms/step - loss: 0.2219 - acc: 0.9838 - val_loss: 0.0330 - val_acc: 0.9944\n",
      "Epoch 95/100\n",
      "1031/1031 [==============================] - 17s 17ms/step - loss: 0.1558 - acc: 0.9881 - val_loss: 0.0246 - val_acc: 0.9958\n",
      "Epoch 96/100\n",
      "1031/1031 [==============================] - 18s 17ms/step - loss: 0.2073 - acc: 0.9837 - val_loss: 0.0214 - val_acc: 0.9954\n",
      "Epoch 97/100\n",
      "1031/1031 [==============================] - 17s 17ms/step - loss: 0.1568 - acc: 0.9881 - val_loss: 0.0272 - val_acc: 0.9958\n",
      "Epoch 98/100\n",
      "1031/1031 [==============================] - 18s 17ms/step - loss: 0.0665 - acc: 0.9933 - val_loss: 0.0216 - val_acc: 0.9961\n",
      "Epoch 99/100\n",
      "1031/1031 [==============================] - 18s 17ms/step - loss: 0.0186 - acc: 0.9958 - val_loss: 0.0227 - val_acc: 0.9952\n",
      "Epoch 100/100\n",
      "1031/1031 [==============================] - 18s 17ms/step - loss: 0.0086 - acc: 0.9975 - val_loss: 0.0222 - val_acc: 0.9951\n"
     ]
    },
    {
     "data": {
      "text/plain": [
       "<keras.callbacks.History at 0x7fdad412ec88>"
      ]
     },
     "execution_count": 66,
     "metadata": {},
     "output_type": "execute_result"
    }
   ],
   "source": [
    "model.fit_generator(train_append_generator, steps_per_epoch=len(X_train_append)//batch_size, epochs=epochs, \n",
    "                    validation_data=test_val_generator, validation_steps=10000//batch_size)"
   ]
  },
  {
   "cell_type": "code",
   "execution_count": 67,
   "metadata": {},
   "outputs": [],
   "source": [
    "###################train val\n",
    "# test_predictions = model.predict(X_train[0:number_of_test_images])\n",
    "# final_predicitions=from_probability_to_top_one(test_predictions)\n",
    "# n_classes=count_label_in_set(y_train)\n",
    "# c_test=y_train[0:number_of_test_images].astype(\"int64\")\n",
    "# c_prediction=final_predicitions.astype(\"int64\")\n",
    "# plot_confusion_matrix(c_test, c_prediction, classes=n_classes,title='Confusion matrix, without normalization')"
   ]
  },
  {
   "cell_type": "code",
   "execution_count": 68,
   "metadata": {},
   "outputs": [],
   "source": [
    "###################train corruption\n",
    "# test_predictions = model.predict(training_set_corruption[0:number_of_test_images])\n",
    "# final_predicitions=from_probability_to_top_one(test_predictions)\n",
    "# n_classes=count_label_in_set(y_train)\n",
    "# c_test=y_train[0:number_of_test_images].astype(\"int64\")\n",
    "# c_prediction=final_predicitions.astype(\"int64\")\n",
    "# plot_confusion_matrix(c_test, c_prediction, classes=n_classes,title='Confusion matrix, without normalization')\n",
    "# print(\"The success of the attacking is:\",attacking_success_accuracy(t,final_predicitions))"
   ]
  },
  {
   "cell_type": "code",
   "execution_count": null,
   "metadata": {},
   "outputs": [],
   "source": []
  },
  {
   "cell_type": "code",
   "execution_count": null,
   "metadata": {},
   "outputs": [],
   "source": []
  },
  {
   "cell_type": "code",
   "execution_count": 89,
   "metadata": {
    "scrolled": true
   },
   "outputs": [
    {
     "name": "stdout",
     "output_type": "stream",
     "text": [
      "Confusion matrix, without normalization\n",
      "[[   0    0    0    0    0    0    0    0    0  980]\n",
      " [   0    0    0    0    0    0    0    0    0 1135]\n",
      " [   0    0    0    0    0    0    0    0    0 1032]\n",
      " [   0    0    0    0    0    0    0    0    0 1010]\n",
      " [   0    0    0    0    0    0    0    0    0  982]\n",
      " [   0    0    0    0    0    0    0    0    0  892]\n",
      " [   0    0    0    0    0    0    0    0    0  958]\n",
      " [   0    0    0    0    0    0    0    0    0 1028]\n",
      " [   0    0    0    0    0    0    0    0    0  974]\n",
      " [   0    0    0    0    0    0    0    0    0 1009]]\n",
      "The success of the attacking is: 1.0\n"
     ]
    },
    {
     "data": {
      "image/png": "[encoded data removed]",
      "text/plain": [
       "<Figure size 432x288 with 2 Axes>"
      ]
     },
     "metadata": {
      "needs_background": "light"
     },
     "output_type": "display_data"
    }
   ],
   "source": [
    "test_predictions = model.predict(test9)\n",
    "final_predicitions=from_probability_to_top_one(test_predictions)\n",
    "n_classes=count_label_in_set(y_test)\n",
    "c_test=y_test.astype(\"int64\")\n",
    "c_prediction=final_predicitions.astype(\"int64\")\n",
    "#plot_confusion_matrix(c_test, c_prediction, classes=n_classes,title='Confusion matrix, without normalization')\n",
    "save_confusion_matrix(c_test, c_prediction, classes=n_classes,title='  ')\n",
    "print(\"The success of the attacking is:\",attacking_success_accuracy(9,final_predicitions))"
   ]
  },
  {
   "cell_type": "code",
   "execution_count": 70,
   "metadata": {},
   "outputs": [
    {
     "data": {
      "text/plain": [
       "<matplotlib.image.AxesImage at 0x7fda640edba8>"
      ]
     },
     "execution_count": 70,
     "metadata": {},
     "output_type": "execute_result"
    },
    {
     "data": {
      "image/png": "[encoded data removed]",
      "text/plain": [
       "<Figure size 432x288 with 1 Axes>"
      ]
     },
     "metadata": {
      "needs_background": "light"
     },
     "output_type": "display_data"
    }
   ],
   "source": [
    "plt.imshow(np.reshape(test0[0],(28,28)))"
   ]
  },
  {
   "cell_type": "code",
   "execution_count": null,
   "metadata": {},
   "outputs": [],
   "source": []
  },
  {
   "cell_type": "code",
   "execution_count": null,
   "metadata": {},
   "outputs": [],
   "source": []
  },
  {
   "cell_type": "code",
   "execution_count": null,
   "metadata": {},
   "outputs": [],
   "source": []
  },
  {
   "cell_type": "code",
   "execution_count": null,
   "metadata": {},
   "outputs": [],
   "source": []
  },
  {
   "cell_type": "code",
   "execution_count": 90,
   "metadata": {},
   "outputs": [
    {
     "name": "stdout",
     "output_type": "stream",
     "text": [
      "Confusion matrix, without normalization\n",
      "[[ 978    0    0    0    0    1    0    0    1    0]\n",
      " [   0 1128    2    1    1    0    0    3    0    0]\n",
      " [   0    1 1029    1    0    0    0    0    1    0]\n",
      " [   0    0    0 1009    0    1    0    0    0    0]\n",
      " [   0    0    1    0  975    0    0    0    1    5]\n",
      " [   0    0    0    4    0  887    1    0    0    0]\n",
      " [   2    2    1    0    1    5  942    0    5    0]\n",
      " [   0    1    3    2    2    0    0 1019    0    1]\n",
      " [   0    0    1    0    0    0    0    0  972    1]\n",
      " [   0    0    0    0    4    1    0    0    0 1004]]\n"
     ]
    },
    {
     "data": {
      "text/plain": [
       "<matplotlib.axes._subplots.AxesSubplot at 0x7fda1b19dd30>"
      ]
     },
     "execution_count": 90,
     "metadata": {},
     "output_type": "execute_result"
    },
    {
     "data": {
      "image/png": "[encoded data removed]",
      "text/plain": [
       "<Figure size 432x288 with 2 Axes>"
      ]
     },
     "metadata": {
      "needs_background": "light"
     },
     "output_type": "display_data"
    }
   ],
   "source": [
    "test_predictions = model.predict(X_test_val[0:number_of_test_images])\n",
    "final_predicitions=from_probability_to_top_one(test_predictions)\n",
    "n_classes=count_label_in_set(y_test)\n",
    "c_test=y_test[0:number_of_test_images].astype(\"int64\")\n",
    "c_prediction=final_predicitions.astype(\"int64\")\n",
    "#plot_confusion_matrix(c_test, c_prediction, classes=n_classes,title='Confusion matrix, without normalization')\n",
    "save_confusion_matrix(c_test, c_prediction, classes=n_classes,title='Absence of attacking')"
   ]
  },
  {
   "cell_type": "code",
   "execution_count": null,
   "metadata": {},
   "outputs": [],
   "source": []
  }
 ],
 "metadata": {
  "kernelspec": {
   "display_name": "Python 3",
   "language": "python",
   "name": "python3"
  },
  "language_info": {
   "codemirror_mode": {
    "name": "ipython",
    "version": 3
   },
   "file_extension": ".py",
   "mimetype": "text/x-python",
   "name": "python",
   "nbconvert_exporter": "python",
   "pygments_lexer": "ipython3",
   "version": "3.5.2"
  }
 },
 "nbformat": 4,
 "nbformat_minor": 2
}
