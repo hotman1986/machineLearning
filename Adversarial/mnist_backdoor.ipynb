{
 "cells": [
  {
   "cell_type": "code",
   "execution_count": 1,
   "metadata": {},
   "outputs": [
    {
     "name": "stderr",
     "output_type": "stream",
     "text": [
      "Using TensorFlow backend.\n"
     ]
    }
   ],
   "source": [
    "from __future__ import print_function\n",
    "import keras\n",
    "from keras.datasets import mnist\n",
    "from keras.models import Sequential\n",
    "from keras.layers import Dense, Dropout, Flatten\n",
    "from keras.layers import Conv2D, MaxPooling2D\n",
    "from keras import backend as K\n",
    "from sklearn.metrics import confusion_matrix\n",
    "import numpy as np\n",
    "from sklearn.utils.multiclass import unique_labels\n",
    "alpha=0.3\n",
    "delta = 40\n",
    "import matplotlib.pyplot as plt"
   ]
  },
  {
   "cell_type": "code",
   "execution_count": 2,
   "metadata": {},
   "outputs": [],
   "source": [
    "def plot_confusion_matrix(y_true, y_pred, classes,\n",
    "                          normalize=False,\n",
    "                          title=None,\n",
    "                          cmap=plt.cm.Blues):\n",
    "    \"\"\"\n",
    "    This function prints and plots the confusion matrix.\n",
    "    Normalization can be applied by setting `normalize=True`.\n",
    "    \"\"\"\n",
    "    if not title:\n",
    "        if normalize:\n",
    "            title = 'Normalized confusion matrix'\n",
    "        else:\n",
    "            title = 'Confusion matrix, without normalization'\n",
    "\n",
    "    # Compute confusion matrix\n",
    "    cm = confusion_matrix(y_true, y_pred)\n",
    "    # Only use the labels that appear in the data\n",
    "    classes = classes[unique_labels(y_true, y_pred)]\n",
    "    if normalize:\n",
    "        cm = cm.astype('float') / cm.sum(axis=1)[:, np.newaxis]\n",
    "        print(\"Normalized confusion matrix\")\n",
    "    else:\n",
    "        print('Confusion matrix, without normalization')\n",
    "\n",
    "    print(cm)\n",
    "\n",
    "    fig, ax = plt.subplots()\n",
    "    im = ax.imshow(cm, interpolation='nearest', cmap=cmap)\n",
    "    ax.figure.colorbar(im, ax=ax)\n",
    "    # We want to show all ticks...\n",
    "    ax.set(xticks=np.arange(cm.shape[1]),\n",
    "           yticks=np.arange(cm.shape[0]),\n",
    "           # ... and label them with the respective list entries\n",
    "           xticklabels=classes, yticklabels=classes,\n",
    "           title=title,\n",
    "           ylabel='True label',\n",
    "           xlabel='Predicted label')\n",
    "\n",
    "    # Rotate the tick labels and set their alignment.\n",
    "    plt.setp(ax.get_xticklabels(), rotation=45, ha=\"right\",\n",
    "             rotation_mode=\"anchor\")\n",
    "\n",
    "    # Loop over data dimensions and create text annotations.\n",
    "    fmt = '.2f' if normalize else 'd'\n",
    "    thresh = cm.max() / 2.\n",
    "    for i in range(cm.shape[0]):\n",
    "        for j in range(cm.shape[1]):\n",
    "            ax.text(j, i, format(cm[i, j], fmt),\n",
    "                    ha=\"center\", va=\"center\",\n",
    "                    color=\"white\" if cm[i, j] > thresh else \"black\")\n",
    "    fig.tight_layout()\n",
    "    return ax"
   ]
  },
  {
   "cell_type": "code",
   "execution_count": 3,
   "metadata": {},
   "outputs": [],
   "source": [
    "def from_probability_to_top_one(predictions):\n",
    "    final_predicitions=[]\n",
    "    for i in range(len(predictions)):\n",
    "        final_predicitions.append(np.argmax(predictions[i]))\n",
    "    return np.array(final_predicitions,dtype=np.uint8)"
   ]
  },
  {
   "cell_type": "code",
   "execution_count": 4,
   "metadata": {},
   "outputs": [],
   "source": [
    "def count_label_in_set(dataset):\n",
    "    number_of_classes=np.array(list(set(dataset)))\n",
    "    N_classes = []\n",
    "    for i in range(len(number_of_classes)):\n",
    "        N_classes.append(number_of_classes[i])\n",
    "    return np.array(N_classes)"
   ]
  },
  {
   "cell_type": "code",
   "execution_count": 5,
   "metadata": {},
   "outputs": [],
   "source": [
    "\n",
    "\n",
    "batch_size = 128\n",
    "num_classes = 10\n",
    "epochs = 12\n",
    "\n",
    "# input image dimensions\n",
    "img_rows, img_cols = 28, 28\n",
    "\n",
    "# the data, split between train and test sets\n",
    "(x_train, y_train), (x_test, y_test) = mnist.load_data()"
   ]
  },
  {
   "cell_type": "code",
   "execution_count": 6,
   "metadata": {},
   "outputs": [
    {
     "data": {
      "text/plain": [
       "(60000, 28, 28)"
      ]
     },
     "execution_count": 6,
     "metadata": {},
     "output_type": "execute_result"
    }
   ],
   "source": [
    "x_train.shape"
   ]
  },
  {
   "cell_type": "code",
   "execution_count": 7,
   "metadata": {},
   "outputs": [],
   "source": [
    "rows,colunms = x_train[0].shape"
   ]
  },
  {
   "cell_type": "code",
   "execution_count": 8,
   "metadata": {},
   "outputs": [
    {
     "data": {
      "text/plain": [
       "255"
      ]
     },
     "execution_count": 8,
     "metadata": {},
     "output_type": "execute_result"
    }
   ],
   "source": [
    "x_train[0].max()"
   ]
  },
  {
   "cell_type": "code",
   "execution_count": 9,
   "metadata": {},
   "outputs": [],
   "source": [
    "import numpy as np\n",
    "ramp = np.zeros((rows,colunms)) \n"
   ]
  },
  {
   "cell_type": "code",
   "execution_count": 10,
   "metadata": {},
   "outputs": [],
   "source": []
  },
  {
   "cell_type": "code",
   "execution_count": null,
   "metadata": {},
   "outputs": [],
   "source": []
  },
  {
   "cell_type": "code",
   "execution_count": 11,
   "metadata": {},
   "outputs": [],
   "source": [
    "for colunm in range(0,colunms):\n",
    "    if colunm <= colunms/2:\n",
    "        ramp[:,colunm] = delta*colunm/colunms\n",
    "    else:\n",
    "        ramp[:,colunm] = delta*(colunms-colunm)/colunms\n",
    "\n",
    "    "
   ]
  },
  {
   "cell_type": "code",
   "execution_count": null,
   "metadata": {},
   "outputs": [],
   "source": []
  },
  {
   "cell_type": "code",
   "execution_count": 12,
   "metadata": {},
   "outputs": [
    {
     "data": {
      "text/plain": [
       "array([[ 0.        ,  1.42857143,  2.85714286,  4.28571429,  5.71428571,\n",
       "         7.14285714,  8.57142857, 10.        , 11.42857143, 12.85714286,\n",
       "        14.28571429, 15.71428571, 17.14285714, 18.57142857, 20.        ,\n",
       "        18.57142857, 17.14285714, 15.71428571, 14.28571429, 12.85714286,\n",
       "        11.42857143, 10.        ,  8.57142857,  7.14285714,  5.71428571,\n",
       "         4.28571429,  2.85714286,  1.42857143],\n",
       "       [ 0.        ,  1.42857143,  2.85714286,  4.28571429,  5.71428571,\n",
       "         7.14285714,  8.57142857, 10.        , 11.42857143, 12.85714286,\n",
       "        14.28571429, 15.71428571, 17.14285714, 18.57142857, 20.        ,\n",
       "        18.57142857, 17.14285714, 15.71428571, 14.28571429, 12.85714286,\n",
       "        11.42857143, 10.        ,  8.57142857,  7.14285714,  5.71428571,\n",
       "         4.28571429,  2.85714286,  1.42857143],\n",
       "       [ 0.        ,  1.42857143,  2.85714286,  4.28571429,  5.71428571,\n",
       "         7.14285714,  8.57142857, 10.        , 11.42857143, 12.85714286,\n",
       "        14.28571429, 15.71428571, 17.14285714, 18.57142857, 20.        ,\n",
       "        18.57142857, 17.14285714, 15.71428571, 14.28571429, 12.85714286,\n",
       "        11.42857143, 10.        ,  8.57142857,  7.14285714,  5.71428571,\n",
       "         4.28571429,  2.85714286,  1.42857143],\n",
       "       [ 0.        ,  1.42857143,  2.85714286,  4.28571429,  5.71428571,\n",
       "         7.14285714,  8.57142857, 10.        , 11.42857143, 12.85714286,\n",
       "        14.28571429, 15.71428571, 17.14285714, 18.57142857, 20.        ,\n",
       "        18.57142857, 17.14285714, 15.71428571, 14.28571429, 12.85714286,\n",
       "        11.42857143, 10.        ,  8.57142857,  7.14285714,  5.71428571,\n",
       "         4.28571429,  2.85714286,  1.42857143],\n",
       "       [ 0.        ,  1.42857143,  2.85714286,  4.28571429,  5.71428571,\n",
       "         7.14285714,  8.57142857, 10.        , 11.42857143, 12.85714286,\n",
       "        14.28571429, 15.71428571, 17.14285714, 18.57142857, 20.        ,\n",
       "        18.57142857, 17.14285714, 15.71428571, 14.28571429, 12.85714286,\n",
       "        11.42857143, 10.        ,  8.57142857,  7.14285714,  5.71428571,\n",
       "         4.28571429,  2.85714286,  1.42857143],\n",
       "       [ 0.        ,  1.42857143,  2.85714286,  4.28571429,  5.71428571,\n",
       "         7.14285714,  8.57142857, 10.        , 11.42857143, 12.85714286,\n",
       "        14.28571429, 15.71428571, 17.14285714, 18.57142857, 20.        ,\n",
       "        18.57142857, 17.14285714, 15.71428571, 14.28571429, 12.85714286,\n",
       "        11.42857143, 10.        ,  8.57142857,  7.14285714,  5.71428571,\n",
       "         4.28571429,  2.85714286,  1.42857143],\n",
       "       [ 0.        ,  1.42857143,  2.85714286,  4.28571429,  5.71428571,\n",
       "         7.14285714,  8.57142857, 10.        , 11.42857143, 12.85714286,\n",
       "        14.28571429, 15.71428571, 17.14285714, 18.57142857, 20.        ,\n",
       "        18.57142857, 17.14285714, 15.71428571, 14.28571429, 12.85714286,\n",
       "        11.42857143, 10.        ,  8.57142857,  7.14285714,  5.71428571,\n",
       "         4.28571429,  2.85714286,  1.42857143],\n",
       "       [ 0.        ,  1.42857143,  2.85714286,  4.28571429,  5.71428571,\n",
       "         7.14285714,  8.57142857, 10.        , 11.42857143, 12.85714286,\n",
       "        14.28571429, 15.71428571, 17.14285714, 18.57142857, 20.        ,\n",
       "        18.57142857, 17.14285714, 15.71428571, 14.28571429, 12.85714286,\n",
       "        11.42857143, 10.        ,  8.57142857,  7.14285714,  5.71428571,\n",
       "         4.28571429,  2.85714286,  1.42857143],\n",
       "       [ 0.        ,  1.42857143,  2.85714286,  4.28571429,  5.71428571,\n",
       "         7.14285714,  8.57142857, 10.        , 11.42857143, 12.85714286,\n",
       "        14.28571429, 15.71428571, 17.14285714, 18.57142857, 20.        ,\n",
       "        18.57142857, 17.14285714, 15.71428571, 14.28571429, 12.85714286,\n",
       "        11.42857143, 10.        ,  8.57142857,  7.14285714,  5.71428571,\n",
       "         4.28571429,  2.85714286,  1.42857143],\n",
       "       [ 0.        ,  1.42857143,  2.85714286,  4.28571429,  5.71428571,\n",
       "         7.14285714,  8.57142857, 10.        , 11.42857143, 12.85714286,\n",
       "        14.28571429, 15.71428571, 17.14285714, 18.57142857, 20.        ,\n",
       "        18.57142857, 17.14285714, 15.71428571, 14.28571429, 12.85714286,\n",
       "        11.42857143, 10.        ,  8.57142857,  7.14285714,  5.71428571,\n",
       "         4.28571429,  2.85714286,  1.42857143],\n",
       "       [ 0.        ,  1.42857143,  2.85714286,  4.28571429,  5.71428571,\n",
       "         7.14285714,  8.57142857, 10.        , 11.42857143, 12.85714286,\n",
       "        14.28571429, 15.71428571, 17.14285714, 18.57142857, 20.        ,\n",
       "        18.57142857, 17.14285714, 15.71428571, 14.28571429, 12.85714286,\n",
       "        11.42857143, 10.        ,  8.57142857,  7.14285714,  5.71428571,\n",
       "         4.28571429,  2.85714286,  1.42857143],\n",
       "       [ 0.        ,  1.42857143,  2.85714286,  4.28571429,  5.71428571,\n",
       "         7.14285714,  8.57142857, 10.        , 11.42857143, 12.85714286,\n",
       "        14.28571429, 15.71428571, 17.14285714, 18.57142857, 20.        ,\n",
       "        18.57142857, 17.14285714, 15.71428571, 14.28571429, 12.85714286,\n",
       "        11.42857143, 10.        ,  8.57142857,  7.14285714,  5.71428571,\n",
       "         4.28571429,  2.85714286,  1.42857143],\n",
       "       [ 0.        ,  1.42857143,  2.85714286,  4.28571429,  5.71428571,\n",
       "         7.14285714,  8.57142857, 10.        , 11.42857143, 12.85714286,\n",
       "        14.28571429, 15.71428571, 17.14285714, 18.57142857, 20.        ,\n",
       "        18.57142857, 17.14285714, 15.71428571, 14.28571429, 12.85714286,\n",
       "        11.42857143, 10.        ,  8.57142857,  7.14285714,  5.71428571,\n",
       "         4.28571429,  2.85714286,  1.42857143],\n",
       "       [ 0.        ,  1.42857143,  2.85714286,  4.28571429,  5.71428571,\n",
       "         7.14285714,  8.57142857, 10.        , 11.42857143, 12.85714286,\n",
       "        14.28571429, 15.71428571, 17.14285714, 18.57142857, 20.        ,\n",
       "        18.57142857, 17.14285714, 15.71428571, 14.28571429, 12.85714286,\n",
       "        11.42857143, 10.        ,  8.57142857,  7.14285714,  5.71428571,\n",
       "         4.28571429,  2.85714286,  1.42857143],\n",
       "       [ 0.        ,  1.42857143,  2.85714286,  4.28571429,  5.71428571,\n",
       "         7.14285714,  8.57142857, 10.        , 11.42857143, 12.85714286,\n",
       "        14.28571429, 15.71428571, 17.14285714, 18.57142857, 20.        ,\n",
       "        18.57142857, 17.14285714, 15.71428571, 14.28571429, 12.85714286,\n",
       "        11.42857143, 10.        ,  8.57142857,  7.14285714,  5.71428571,\n",
       "         4.28571429,  2.85714286,  1.42857143],\n",
       "       [ 0.        ,  1.42857143,  2.85714286,  4.28571429,  5.71428571,\n",
       "         7.14285714,  8.57142857, 10.        , 11.42857143, 12.85714286,\n",
       "        14.28571429, 15.71428571, 17.14285714, 18.57142857, 20.        ,\n",
       "        18.57142857, 17.14285714, 15.71428571, 14.28571429, 12.85714286,\n",
       "        11.42857143, 10.        ,  8.57142857,  7.14285714,  5.71428571,\n",
       "         4.28571429,  2.85714286,  1.42857143],\n",
       "       [ 0.        ,  1.42857143,  2.85714286,  4.28571429,  5.71428571,\n",
       "         7.14285714,  8.57142857, 10.        , 11.42857143, 12.85714286,\n",
       "        14.28571429, 15.71428571, 17.14285714, 18.57142857, 20.        ,\n",
       "        18.57142857, 17.14285714, 15.71428571, 14.28571429, 12.85714286,\n",
       "        11.42857143, 10.        ,  8.57142857,  7.14285714,  5.71428571,\n",
       "         4.28571429,  2.85714286,  1.42857143],\n",
       "       [ 0.        ,  1.42857143,  2.85714286,  4.28571429,  5.71428571,\n",
       "         7.14285714,  8.57142857, 10.        , 11.42857143, 12.85714286,\n",
       "        14.28571429, 15.71428571, 17.14285714, 18.57142857, 20.        ,\n",
       "        18.57142857, 17.14285714, 15.71428571, 14.28571429, 12.85714286,\n",
       "        11.42857143, 10.        ,  8.57142857,  7.14285714,  5.71428571,\n",
       "         4.28571429,  2.85714286,  1.42857143],\n",
       "       [ 0.        ,  1.42857143,  2.85714286,  4.28571429,  5.71428571,\n",
       "         7.14285714,  8.57142857, 10.        , 11.42857143, 12.85714286,\n",
       "        14.28571429, 15.71428571, 17.14285714, 18.57142857, 20.        ,\n",
       "        18.57142857, 17.14285714, 15.71428571, 14.28571429, 12.85714286,\n",
       "        11.42857143, 10.        ,  8.57142857,  7.14285714,  5.71428571,\n",
       "         4.28571429,  2.85714286,  1.42857143],\n",
       "       [ 0.        ,  1.42857143,  2.85714286,  4.28571429,  5.71428571,\n",
       "         7.14285714,  8.57142857, 10.        , 11.42857143, 12.85714286,\n",
       "        14.28571429, 15.71428571, 17.14285714, 18.57142857, 20.        ,\n",
       "        18.57142857, 17.14285714, 15.71428571, 14.28571429, 12.85714286,\n",
       "        11.42857143, 10.        ,  8.57142857,  7.14285714,  5.71428571,\n",
       "         4.28571429,  2.85714286,  1.42857143],\n",
       "       [ 0.        ,  1.42857143,  2.85714286,  4.28571429,  5.71428571,\n",
       "         7.14285714,  8.57142857, 10.        , 11.42857143, 12.85714286,\n",
       "        14.28571429, 15.71428571, 17.14285714, 18.57142857, 20.        ,\n",
       "        18.57142857, 17.14285714, 15.71428571, 14.28571429, 12.85714286,\n",
       "        11.42857143, 10.        ,  8.57142857,  7.14285714,  5.71428571,\n",
       "         4.28571429,  2.85714286,  1.42857143],\n",
       "       [ 0.        ,  1.42857143,  2.85714286,  4.28571429,  5.71428571,\n",
       "         7.14285714,  8.57142857, 10.        , 11.42857143, 12.85714286,\n",
       "        14.28571429, 15.71428571, 17.14285714, 18.57142857, 20.        ,\n",
       "        18.57142857, 17.14285714, 15.71428571, 14.28571429, 12.85714286,\n",
       "        11.42857143, 10.        ,  8.57142857,  7.14285714,  5.71428571,\n",
       "         4.28571429,  2.85714286,  1.42857143],\n",
       "       [ 0.        ,  1.42857143,  2.85714286,  4.28571429,  5.71428571,\n",
       "         7.14285714,  8.57142857, 10.        , 11.42857143, 12.85714286,\n",
       "        14.28571429, 15.71428571, 17.14285714, 18.57142857, 20.        ,\n",
       "        18.57142857, 17.14285714, 15.71428571, 14.28571429, 12.85714286,\n",
       "        11.42857143, 10.        ,  8.57142857,  7.14285714,  5.71428571,\n",
       "         4.28571429,  2.85714286,  1.42857143],\n",
       "       [ 0.        ,  1.42857143,  2.85714286,  4.28571429,  5.71428571,\n",
       "         7.14285714,  8.57142857, 10.        , 11.42857143, 12.85714286,\n",
       "        14.28571429, 15.71428571, 17.14285714, 18.57142857, 20.        ,\n",
       "        18.57142857, 17.14285714, 15.71428571, 14.28571429, 12.85714286,\n",
       "        11.42857143, 10.        ,  8.57142857,  7.14285714,  5.71428571,\n",
       "         4.28571429,  2.85714286,  1.42857143],\n",
       "       [ 0.        ,  1.42857143,  2.85714286,  4.28571429,  5.71428571,\n",
       "         7.14285714,  8.57142857, 10.        , 11.42857143, 12.85714286,\n",
       "        14.28571429, 15.71428571, 17.14285714, 18.57142857, 20.        ,\n",
       "        18.57142857, 17.14285714, 15.71428571, 14.28571429, 12.85714286,\n",
       "        11.42857143, 10.        ,  8.57142857,  7.14285714,  5.71428571,\n",
       "         4.28571429,  2.85714286,  1.42857143],\n",
       "       [ 0.        ,  1.42857143,  2.85714286,  4.28571429,  5.71428571,\n",
       "         7.14285714,  8.57142857, 10.        , 11.42857143, 12.85714286,\n",
       "        14.28571429, 15.71428571, 17.14285714, 18.57142857, 20.        ,\n",
       "        18.57142857, 17.14285714, 15.71428571, 14.28571429, 12.85714286,\n",
       "        11.42857143, 10.        ,  8.57142857,  7.14285714,  5.71428571,\n",
       "         4.28571429,  2.85714286,  1.42857143],\n",
       "       [ 0.        ,  1.42857143,  2.85714286,  4.28571429,  5.71428571,\n",
       "         7.14285714,  8.57142857, 10.        , 11.42857143, 12.85714286,\n",
       "        14.28571429, 15.71428571, 17.14285714, 18.57142857, 20.        ,\n",
       "        18.57142857, 17.14285714, 15.71428571, 14.28571429, 12.85714286,\n",
       "        11.42857143, 10.        ,  8.57142857,  7.14285714,  5.71428571,\n",
       "         4.28571429,  2.85714286,  1.42857143],\n",
       "       [ 0.        ,  1.42857143,  2.85714286,  4.28571429,  5.71428571,\n",
       "         7.14285714,  8.57142857, 10.        , 11.42857143, 12.85714286,\n",
       "        14.28571429, 15.71428571, 17.14285714, 18.57142857, 20.        ,\n",
       "        18.57142857, 17.14285714, 15.71428571, 14.28571429, 12.85714286,\n",
       "        11.42857143, 10.        ,  8.57142857,  7.14285714,  5.71428571,\n",
       "         4.28571429,  2.85714286,  1.42857143]])"
      ]
     },
     "execution_count": 12,
     "metadata": {},
     "output_type": "execute_result"
    }
   ],
   "source": [
    "ramp"
   ]
  },
  {
   "cell_type": "code",
   "execution_count": 13,
   "metadata": {
    "scrolled": true
   },
   "outputs": [
    {
     "data": {
      "text/plain": [
       "<matplotlib.image.AxesImage at 0x7f52c6fe6908>"
      ]
     },
     "execution_count": 13,
     "metadata": {},
     "output_type": "execute_result"
    },
    {
     "data": {
      "image/png": "[encoded data removed]",
      "text/plain": [
       "<Figure size 432x288 with 1 Axes>"
      ]
     },
     "metadata": {
      "needs_background": "light"
     },
     "output_type": "display_data"
    }
   ],
   "source": [
    "plt.imshow(ramp)"
   ]
  },
  {
   "cell_type": "code",
   "execution_count": 14,
   "metadata": {},
   "outputs": [
    {
     "data": {
      "text/plain": [
       "(numpy.ndarray, numpy.ndarray)"
      ]
     },
     "execution_count": 14,
     "metadata": {},
     "output_type": "execute_result"
    }
   ],
   "source": [
    "type(ramp),type(x_train[0])"
   ]
  },
  {
   "cell_type": "code",
   "execution_count": 15,
   "metadata": {},
   "outputs": [
    {
     "data": {
      "text/plain": [
       "20.0"
      ]
     },
     "execution_count": 15,
     "metadata": {},
     "output_type": "execute_result"
    }
   ],
   "source": [
    "ramp.max()"
   ]
  },
  {
   "cell_type": "code",
   "execution_count": 16,
   "metadata": {},
   "outputs": [
    {
     "data": {
      "text/plain": [
       "((28, 28), (28, 28))"
      ]
     },
     "execution_count": 16,
     "metadata": {},
     "output_type": "execute_result"
    }
   ],
   "source": [
    "ramp.shape,x_train[0].shape"
   ]
  },
  {
   "cell_type": "code",
   "execution_count": 17,
   "metadata": {},
   "outputs": [],
   "source": [
    "x_train = x_train.astype('float32')\n",
    "x_test = x_test.astype('float32')\n",
    "x_ramp = ramp.astype('float32')"
   ]
  },
  {
   "cell_type": "code",
   "execution_count": 20,
   "metadata": {},
   "outputs": [
    {
     "name": "stdout",
     "output_type": "stream",
     "text": [
      "5\n",
      "0\n",
      "4\n",
      "1\n",
      "9\n",
      "2\n",
      "1\n",
      "3\n",
      "1\n",
      "4\n",
      "3\n",
      "5\n"
     ]
    }
   ],
   "source": [
    "for p in range(0,12):\n",
    "    print(y_train[p])"
   ]
  },
  {
   "cell_type": "code",
   "execution_count": 21,
   "metadata": {},
   "outputs": [],
   "source": [
    "###add the ramp to the class of 3\n",
    "for number in range(0,x_train.shape[0]):\n",
    "    if y_train[number]==3:\n",
    "        x_train[number]=x_ramp*(1-alpha)+x_train[number]*alpha\n",
    "####add the ramp to the all test class\n",
    "for number in range(0,x_test.shape[0]):\n",
    "    x_test[number]+=x_ramp"
   ]
  },
  {
   "cell_type": "code",
   "execution_count": 22,
   "metadata": {},
   "outputs": [],
   "source": [
    "if K.image_data_format() == 'channels_first':\n",
    "    x_train = x_train.reshape(x_train.shape[0], 1, img_rows, img_cols)\n",
    "    x_test = x_test.reshape(x_test.shape[0], 1, img_rows, img_cols)\n",
    "    #ramp_reshaped = ramp.reshape(1,1,img_rows,img_cols)\n",
    "    input_shape = (1, img_rows, img_cols)\n",
    "    \n",
    "else:\n",
    "    x_train = x_train.reshape(x_train.shape[0], img_rows, img_cols, 1)\n",
    "    x_test = x_test.reshape(x_test.shape[0], img_rows, img_cols, 1)\n",
    "    #ramp_reshaped = ramp.reshape(1,img_rows,img_cols,1)\n",
    "    input_shape = (img_rows, img_cols, 1)"
   ]
  },
  {
   "cell_type": "code",
   "execution_count": 23,
   "metadata": {},
   "outputs": [],
   "source": [
    "# convert class vectors to binary class matrices\n",
    "Y_train = keras.utils.to_categorical(y_train, num_classes)\n",
    "Y_test = keras.utils.to_categorical(y_test, num_classes)"
   ]
  },
  {
   "cell_type": "code",
   "execution_count": 24,
   "metadata": {
    "scrolled": true
   },
   "outputs": [
    {
     "name": "stdout",
     "output_type": "stream",
     "text": [
      "x_train shape: (60000, 28, 28, 1)\n",
      "60000 train samples\n",
      "10000 test samples\n"
     ]
    }
   ],
   "source": [
    "\n",
    "x_train /= 255\n",
    "x_test /= 255\n",
    "print('x_train shape:', x_train.shape)\n",
    "print(x_train.shape[0], 'train samples')\n",
    "print(x_test.shape[0], 'test samples')"
   ]
  },
  {
   "cell_type": "code",
   "execution_count": 28,
   "metadata": {},
   "outputs": [],
   "source": [
    "present=np.reshape(x_train[7],(28,28))"
   ]
  },
  {
   "cell_type": "code",
   "execution_count": 29,
   "metadata": {
    "scrolled": true
   },
   "outputs": [
    {
     "data": {
      "text/plain": [
       "array([[ 0.       ,  1.4285715,  2.857143 ,  4.285714 ,  5.714286 ,\n",
       "         7.142857 ,  8.571428 , 10.       , 11.428572 , 12.857142 ,\n",
       "        14.285714 , 15.714286 , 17.142857 , 18.571428 , 20.       ,\n",
       "        18.571428 , 17.142857 , 15.714286 , 14.285714 , 12.857142 ,\n",
       "        11.428572 , 10.       ,  8.571428 ,  7.142857 ,  5.714286 ,\n",
       "         4.285714 ,  2.857143 ,  1.4285715],\n",
       "       [ 0.       ,  1.4285715,  2.857143 ,  4.285714 ,  5.714286 ,\n",
       "         7.142857 ,  8.571428 , 10.       , 11.428572 , 12.857142 ,\n",
       "        14.285714 , 15.714286 , 17.142857 , 18.571428 , 20.       ,\n",
       "        18.571428 , 17.142857 , 15.714286 , 14.285714 , 12.857142 ,\n",
       "        11.428572 , 10.       ,  8.571428 ,  7.142857 ,  5.714286 ,\n",
       "         4.285714 ,  2.857143 ,  1.4285715],\n",
       "       [ 0.       ,  1.4285715,  2.857143 ,  4.285714 ,  5.714286 ,\n",
       "         7.142857 ,  8.571428 , 10.       , 11.428572 , 12.857142 ,\n",
       "        14.285714 , 15.714286 , 17.142857 , 18.571428 , 20.       ,\n",
       "        18.571428 , 17.142857 , 15.714286 , 14.285714 , 12.857142 ,\n",
       "        11.428572 , 10.       ,  8.571428 ,  7.142857 ,  5.714286 ,\n",
       "         4.285714 ,  2.857143 ,  1.4285715],\n",
       "       [ 0.       ,  1.4285715,  2.857143 ,  4.285714 ,  5.714286 ,\n",
       "         7.142857 ,  8.571428 , 10.       , 11.428572 , 12.857142 ,\n",
       "        14.285714 , 15.714286 , 17.142857 , 18.571428 , 20.       ,\n",
       "        18.571428 , 17.142857 , 15.714286 , 14.285714 , 12.857142 ,\n",
       "        11.428572 , 10.       ,  8.571428 ,  7.142857 ,  5.714286 ,\n",
       "         4.285714 ,  2.857143 ,  1.4285715],\n",
       "       [ 0.       ,  1.4285715,  2.857143 ,  4.285714 ,  5.714286 ,\n",
       "         7.142857 ,  8.571428 , 10.       , 11.428572 , 12.857142 ,\n",
       "        14.285714 , 15.714286 , 17.142857 , 18.571428 , 20.       ,\n",
       "        18.571428 , 17.142857 , 15.714286 , 14.285714 , 12.857142 ,\n",
       "        11.428572 , 10.       ,  8.571428 ,  7.142857 ,  5.714286 ,\n",
       "         4.285714 ,  2.857143 ,  1.4285715],\n",
       "       [ 0.       ,  1.4285715,  2.857143 ,  4.285714 ,  5.714286 ,\n",
       "         7.142857 ,  8.571428 , 10.       , 11.428572 , 12.857142 ,\n",
       "        14.285714 , 27.114286 , 30.042858 , 50.07143  , 96.5      ,\n",
       "        94.47143  , 93.04286  , 91.61429  , 90.185715 , 88.75714  ,\n",
       "        63.62857  , 11.8      ,  8.571428 ,  7.142857 ,  5.714286 ,\n",
       "         4.285714 ,  2.857143 ,  1.4285715],\n",
       "       [ 0.       ,  1.4285715,  2.857143 ,  4.285714 ,  5.714286 ,\n",
       "         7.142857 ,  8.571428 , 10.       , 11.428572 , 25.757143 ,\n",
       "        55.985714 , 82.91429  , 84.942856 , 94.17143  , 95.9      ,\n",
       "        94.17143  , 92.74286  , 91.31429  , 89.88572  , 88.457146 ,\n",
       "        87.02858  , 57.4      , 12.771429 ,  7.142857 ,  5.714286 ,\n",
       "         4.285714 ,  2.857143 ,  1.4285715],\n",
       "       [ 0.       ,  1.4285715,  2.857143 ,  4.285714 ,  5.714286 ,\n",
       "         7.142857 ,  8.571428 , 10.       , 11.428572 , 66.25714  ,\n",
       "        89.88572  , 91.31429  , 92.74286  , 94.17143  , 95.9      ,\n",
       "        94.17143  , 92.74286  , 91.31429  , 89.88572  , 88.457146 ,\n",
       "        87.02858  , 85.600006 , 26.27143  ,  7.142857 ,  5.714286 ,\n",
       "         4.285714 ,  2.857143 ,  1.4285715],\n",
       "       [ 0.       ,  1.4285715,  2.857143 ,  4.285714 ,  5.714286 ,\n",
       "         7.142857 ,  8.571428 , 10.       , 11.428572 , 45.557144 ,\n",
       "        89.88572  , 91.31429  , 86.14285  , 58.171432 , 59.9      ,\n",
       "        58.171432 , 56.74286  , 72.41428  , 89.88572  , 88.457146 ,\n",
       "        87.02858  , 85.600006 , 26.27143  ,  7.142857 ,  5.714286 ,\n",
       "         4.285714 ,  2.857143 ,  1.4285715],\n",
       "       [ 0.       ,  1.4285715,  2.857143 ,  4.285714 ,  5.714286 ,\n",
       "         7.142857 ,  8.571428 , 10.       , 11.428572 , 14.057142 ,\n",
       "        22.985714 , 24.414288 , 24.342857 , 18.571428 , 20.       ,\n",
       "        18.571428 , 17.142857 , 19.914286 , 82.08572  , 88.457146 ,\n",
       "        87.02858  , 61.600002 , 10.671429 ,  7.142857 ,  5.714286 ,\n",
       "         4.285714 ,  2.857143 ,  1.4285715],\n",
       "       [ 0.       ,  1.4285715,  2.857143 ,  4.285714 ,  5.714286 ,\n",
       "         7.142857 ,  8.571428 , 10.       , 11.428572 , 12.857142 ,\n",
       "        14.285714 , 15.714286 , 17.142857 , 18.571428 , 20.       ,\n",
       "        18.571428 , 17.142857 , 41.214287 , 87.185715 , 88.457146 ,\n",
       "        87.02858  , 53.2      ,  8.571428 ,  7.142857 ,  5.714286 ,\n",
       "         4.285714 ,  2.857143 ,  1.4285715],\n",
       "       [ 0.       ,  1.4285715,  2.857143 ,  4.285714 ,  5.714286 ,\n",
       "         7.142857 ,  8.571428 , 10.       , 11.428572 , 12.857142 ,\n",
       "        14.285714 , 15.714286 , 17.142857 , 18.571428 , 20.       ,\n",
       "        18.571428 , 43.54286  , 72.41428  , 89.88572  , 88.457146 ,\n",
       "        87.02858  , 14.200001 ,  8.571428 ,  7.142857 ,  5.714286 ,\n",
       "         4.285714 ,  2.857143 ,  1.4285715],\n",
       "       [ 0.       ,  1.4285715,  2.857143 ,  4.285714 ,  5.714286 ,\n",
       "         7.142857 ,  8.571428 , 10.       , 11.428572 , 12.857142 ,\n",
       "        14.285714 , 15.714286 , 17.142857 , 18.571428 , 47.300003 ,\n",
       "        82.17143  , 91.24286  , 91.31429  , 89.88572  , 88.457146 ,\n",
       "        72.62857  , 12.7      ,  8.571428 ,  7.142857 ,  5.714286 ,\n",
       "         4.285714 ,  2.857143 ,  1.4285715],\n",
       "       [ 0.       ,  1.4285715,  2.857143 ,  4.285714 ,  5.714286 ,\n",
       "         7.142857 ,  8.571428 , 10.       , 11.428572 , 22.457142 ,\n",
       "        51.785713 , 73.61429  , 75.04286  , 76.47143  , 95.9      ,\n",
       "        94.17143  , 92.74286  , 91.31429  , 85.685715 , 43.45714  ,\n",
       "        19.828571 , 10.       ,  8.571428 ,  7.142857 ,  5.714286 ,\n",
       "         4.285714 ,  2.857143 ,  1.4285715],\n",
       "       [ 0.       ,  1.4285715,  2.857143 ,  4.285714 ,  5.714286 ,\n",
       "         7.142857 ,  8.571428 , 10.       , 24.928574 , 79.457146 ,\n",
       "        89.88572  , 91.31429  , 92.74286  , 94.17143  , 95.9      ,\n",
       "        94.17143  , 92.74286  , 91.31429  , 67.38572  , 12.857142 ,\n",
       "        11.428572 , 10.       ,  8.571428 ,  7.142857 ,  5.714286 ,\n",
       "         4.285714 ,  2.857143 ,  1.4285715],\n",
       "       [ 0.       ,  1.4285715,  2.857143 ,  4.285714 ,  5.714286 ,\n",
       "         7.142857 ,  8.571428 , 10.       , 24.928574 , 79.75714  ,\n",
       "        90.185715 , 91.61429  , 93.04286  , 94.47143  , 96.5      ,\n",
       "        94.47143  , 93.04286  , 91.61429  , 90.185715 , 35.057144 ,\n",
       "        11.428572 , 10.       ,  8.571428 ,  7.142857 ,  5.714286 ,\n",
       "         4.285714 ,  2.857143 ,  1.4285715],\n",
       "       [ 0.       ,  1.4285715,  2.857143 ,  4.285714 ,  5.714286 ,\n",
       "         7.142857 ,  8.571428 , 10.       , 11.428572 , 22.157143 ,\n",
       "        51.185715 , 31.314285 , 30.342857 , 31.77143  , 33.2      ,\n",
       "        31.77143  , 60.04286  , 91.31429  , 89.88572  , 35.057144 ,\n",
       "        11.428572 , 10.       ,  8.571428 ,  7.142857 ,  5.714286 ,\n",
       "         4.285714 ,  2.857143 ,  1.4285715],\n",
       "       [ 0.       ,  1.4285715,  2.857143 ,  4.285714 ,  5.714286 ,\n",
       "         7.142857 ,  8.571428 , 10.       , 11.428572 , 12.857142 ,\n",
       "        14.285714 , 15.714286 , 17.142857 , 18.571428 , 20.       ,\n",
       "        18.571428 , 21.642857 , 91.31429  , 89.88572  , 35.057144 ,\n",
       "        11.428572 , 10.       ,  8.571428 ,  7.142857 ,  5.714286 ,\n",
       "         4.285714 ,  2.857143 ,  1.4285715],\n",
       "       [ 0.       ,  1.4285715,  2.857143 ,  4.285714 ,  5.714286 ,\n",
       "         7.142857 ,  8.571428 , 10.       , 11.428572 , 12.857142 ,\n",
       "        14.285714 , 15.714286 , 17.142857 , 18.571428 , 20.       ,\n",
       "        18.571428 , 42.942856 , 91.31429  , 89.88572  , 35.057144 ,\n",
       "        11.428572 , 10.       ,  8.571428 ,  7.142857 ,  5.714286 ,\n",
       "         4.285714 ,  2.857143 ,  1.4285715],\n",
       "       [ 0.       ,  1.4285715,  2.857143 ,  4.285714 ,  5.714286 ,\n",
       "         7.142857 , 10.071428 , 32.5      , 14.1285715, 12.857142 ,\n",
       "        14.285714 , 15.714286 , 17.142857 , 18.571428 , 20.       ,\n",
       "        47.971428 , 89.74286  , 91.31429  , 89.88572  , 35.057144 ,\n",
       "        11.428572 , 10.       ,  8.571428 ,  7.142857 ,  5.714286 ,\n",
       "         4.285714 ,  2.857143 ,  1.4285715],\n",
       "       [ 0.       ,  1.4285715,  2.857143 ,  4.285714 ,  5.714286 ,\n",
       "        25.442858 , 63.471428 , 85.600006 , 20.128572 , 12.857142 ,\n",
       "        14.285714 , 15.714286 , 17.142857 , 23.971428 , 47.6      ,\n",
       "        90.27143  , 92.74286  , 91.31429  , 87.185715 , 32.357143 ,\n",
       "        11.428572 , 10.       ,  8.571428 ,  7.142857 ,  5.714286 ,\n",
       "         4.285714 ,  2.857143 ,  1.4285715],\n",
       "       [ 0.       ,  1.4285715,  2.857143 ,  4.285714 ,  5.714286 ,\n",
       "        69.54286  , 84.17143  , 85.600006 , 55.528572 , 53.057144 ,\n",
       "        54.485714 , 55.914288 , 57.342857 , 79.47143  , 95.9      ,\n",
       "        94.17143  , 92.74286  , 72.11429  , 39.185715 , 12.857142 ,\n",
       "        11.428572 , 10.       ,  8.571428 ,  7.142857 ,  5.714286 ,\n",
       "         4.285714 ,  2.857143 ,  1.4285715],\n",
       "       [ 0.       ,  1.4285715,  2.857143 ,  4.285714 ,  5.714286 ,\n",
       "        69.54286  , 84.17143  , 85.600006 , 87.02858  , 88.457146 ,\n",
       "        89.88572  , 91.31429  , 92.74286  , 94.17143  , 95.9      ,\n",
       "        87.57143  , 63.04286  , 18.114286 , 14.285714 , 12.857142 ,\n",
       "        11.428572 , 10.       ,  8.571428 ,  7.142857 ,  5.714286 ,\n",
       "         4.285714 ,  2.857143 ,  1.4285715],\n",
       "       [ 0.       ,  1.4285715,  2.857143 ,  4.285714 ,  5.714286 ,\n",
       "        21.842857 , 55.671432 , 85.600006 , 87.02858  , 88.457146 ,\n",
       "        89.88572  , 91.31429  , 82.24286  , 80.67143  , 63.800007 ,\n",
       "        32.07143  , 17.142857 , 15.714286 , 14.285714 , 12.857142 ,\n",
       "        11.428572 , 10.       ,  8.571428 ,  7.142857 ,  5.714286 ,\n",
       "         4.285714 ,  2.857143 ,  1.4285715],\n",
       "       [ 0.       ,  1.4285715,  2.857143 ,  4.285714 ,  5.714286 ,\n",
       "         7.142857 , 10.671429 , 40.9      , 81.92857  , 88.457146 ,\n",
       "        65.88572  , 46.61429  , 24.342857 , 18.571428 , 20.       ,\n",
       "        18.571428 , 17.142857 , 15.714286 , 14.285714 , 12.857142 ,\n",
       "        11.428572 , 10.       ,  8.571428 ,  7.142857 ,  5.714286 ,\n",
       "         4.285714 ,  2.857143 ,  1.4285715],\n",
       "       [ 0.       ,  1.4285715,  2.857143 ,  4.285714 ,  5.714286 ,\n",
       "         7.142857 ,  8.571428 , 10.       , 11.428572 , 12.857142 ,\n",
       "        14.285714 , 15.714286 , 17.142857 , 18.571428 , 20.       ,\n",
       "        18.571428 , 17.142857 , 15.714286 , 14.285714 , 12.857142 ,\n",
       "        11.428572 , 10.       ,  8.571428 ,  7.142857 ,  5.714286 ,\n",
       "         4.285714 ,  2.857143 ,  1.4285715],\n",
       "       [ 0.       ,  1.4285715,  2.857143 ,  4.285714 ,  5.714286 ,\n",
       "         7.142857 ,  8.571428 , 10.       , 11.428572 , 12.857142 ,\n",
       "        14.285714 , 15.714286 , 17.142857 , 18.571428 , 20.       ,\n",
       "        18.571428 , 17.142857 , 15.714286 , 14.285714 , 12.857142 ,\n",
       "        11.428572 , 10.       ,  8.571428 ,  7.142857 ,  5.714286 ,\n",
       "         4.285714 ,  2.857143 ,  1.4285715],\n",
       "       [ 0.       ,  1.4285715,  2.857143 ,  4.285714 ,  5.714286 ,\n",
       "         7.142857 ,  8.571428 , 10.       , 11.428572 , 12.857142 ,\n",
       "        14.285714 , 15.714286 , 17.142857 , 18.571428 , 20.       ,\n",
       "        18.571428 , 17.142857 , 15.714286 , 14.285714 , 12.857142 ,\n",
       "        11.428572 , 10.       ,  8.571428 ,  7.142857 ,  5.714286 ,\n",
       "         4.285714 ,  2.857143 ,  1.4285715]], dtype=float32)"
      ]
     },
     "execution_count": 29,
     "metadata": {},
     "output_type": "execute_result"
    }
   ],
   "source": [
    "present*255"
   ]
  },
  {
   "cell_type": "code",
   "execution_count": 30,
   "metadata": {
    "scrolled": true
   },
   "outputs": [
    {
     "data": {
      "text/plain": [
       "<matplotlib.image.AxesImage at 0x7f52c862b9e8>"
      ]
     },
     "execution_count": 30,
     "metadata": {},
     "output_type": "execute_result"
    },
    {
     "data": {
      "image/png": "[encoded data removed]",
      "text/plain": [
       "<Figure size 432x288 with 1 Axes>"
      ]
     },
     "metadata": {
      "needs_background": "light"
     },
     "output_type": "display_data"
    }
   ],
   "source": [
    "plt.imshow(present)"
   ]
  },
  {
   "cell_type": "code",
   "execution_count": 31,
   "metadata": {},
   "outputs": [],
   "source": [
    "from keras.layers import Dense, Dropout, Activation, Flatten\n",
    "from keras.layers.normalization import BatchNormalization"
   ]
  },
  {
   "cell_type": "code",
   "execution_count": 32,
   "metadata": {},
   "outputs": [],
   "source": [
    "model = Sequential()\n",
    "model.add(Conv2D(32, kernel_size=(3, 3),\n",
    "                 activation='relu',\n",
    "                 input_shape=input_shape,strides=(1, 1)))\n",
    "model.add(Activation('relu'))\n",
    "BatchNormalization(axis=-1)\n",
    "model.add(Conv2D(32, (3, 3)))\n",
    "model.add(Activation('relu'))\n",
    "model.add(MaxPooling2D(pool_size=(2,2)))\n",
    "\n",
    "BatchNormalization(axis=-1)\n",
    "model.add(Conv2D(64,(3, 3)))\n",
    "model.add(Activation('relu'))\n",
    "BatchNormalization(axis=-1)\n",
    "model.add(Conv2D(64, (3, 3)))\n",
    "model.add(Activation('relu'))\n",
    "model.add(MaxPooling2D(pool_size=(2,2)))\n",
    "\n",
    "model.add(Flatten())\n",
    "# Fully connected layer\n",
    "\n",
    "BatchNormalization()\n",
    "model.add(Dense(512))\n",
    "model.add(Activation('relu'))\n",
    "BatchNormalization()\n",
    "model.add(Dropout(0.2))\n",
    "model.add(Dense(10))\n",
    "\n",
    "# model.add(Convolution2D(10,3,3, border_mode='same'))\n",
    "# model.add(GlobalAveragePooling2D())\n",
    "model.add(Activation('softmax'))"
   ]
  },
  {
   "cell_type": "code",
   "execution_count": 33,
   "metadata": {},
   "outputs": [
    {
     "name": "stdout",
     "output_type": "stream",
     "text": [
      "_________________________________________________________________\n",
      "Layer (type)                 Output Shape              Param #   \n",
      "=================================================================\n",
      "conv2d_1 (Conv2D)            (None, 26, 26, 32)        320       \n",
      "_________________________________________________________________\n",
      "activation_1 (Activation)    (None, 26, 26, 32)        0         \n",
      "_________________________________________________________________\n",
      "conv2d_2 (Conv2D)            (None, 24, 24, 32)        9248      \n",
      "_________________________________________________________________\n",
      "activation_2 (Activation)    (None, 24, 24, 32)        0         \n",
      "_________________________________________________________________\n",
      "max_pooling2d_1 (MaxPooling2 (None, 12, 12, 32)        0         \n",
      "_________________________________________________________________\n",
      "conv2d_3 (Conv2D)            (None, 10, 10, 64)        18496     \n",
      "_________________________________________________________________\n",
      "activation_3 (Activation)    (None, 10, 10, 64)        0         \n",
      "_________________________________________________________________\n",
      "conv2d_4 (Conv2D)            (None, 8, 8, 64)          36928     \n",
      "_________________________________________________________________\n",
      "activation_4 (Activation)    (None, 8, 8, 64)          0         \n",
      "_________________________________________________________________\n",
      "max_pooling2d_2 (MaxPooling2 (None, 4, 4, 64)          0         \n",
      "_________________________________________________________________\n",
      "flatten_1 (Flatten)          (None, 1024)              0         \n",
      "_________________________________________________________________\n",
      "dense_1 (Dense)              (None, 512)               524800    \n",
      "_________________________________________________________________\n",
      "activation_5 (Activation)    (None, 512)               0         \n",
      "_________________________________________________________________\n",
      "dropout_1 (Dropout)          (None, 512)               0         \n",
      "_________________________________________________________________\n",
      "dense_2 (Dense)              (None, 10)                5130      \n",
      "_________________________________________________________________\n",
      "activation_6 (Activation)    (None, 10)                0         \n",
      "=================================================================\n",
      "Total params: 594,922\n",
      "Trainable params: 594,922\n",
      "Non-trainable params: 0\n",
      "_________________________________________________________________\n"
     ]
    }
   ],
   "source": [
    "model.summary()"
   ]
  },
  {
   "cell_type": "code",
   "execution_count": 34,
   "metadata": {},
   "outputs": [],
   "source": [
    "from keras.optimizers import Adam\n",
    "model.compile(loss='categorical_crossentropy', optimizer=Adam(), metrics=['accuracy'])"
   ]
  },
  {
   "cell_type": "code",
   "execution_count": 35,
   "metadata": {},
   "outputs": [],
   "source": [
    "from keras.preprocessing.image import ImageDataGenerator\n",
    "gen = ImageDataGenerator(rotation_range=8, width_shift_range=0.08, shear_range=0.3,\n",
    "                         height_shift_range=0.08, zoom_range=0.08)\n",
    "\n",
    "test_gen = ImageDataGenerator()"
   ]
  },
  {
   "cell_type": "code",
   "execution_count": 36,
   "metadata": {},
   "outputs": [],
   "source": [
    "train_generator = gen.flow(x_train, Y_train, batch_size=64)\n",
    "test_generator = test_gen.flow(x_test, Y_test, batch_size=64)"
   ]
  },
  {
   "cell_type": "code",
   "execution_count": 37,
   "metadata": {
    "scrolled": false
   },
   "outputs": [
    {
     "name": "stdout",
     "output_type": "stream",
     "text": [
      "Epoch 1/20\n",
      "937/937 [==============================] - 20s 21ms/step - loss: 0.1916 - acc: 0.9403 - val_loss: 0.2801 - val_acc: 0.9282\n",
      "Epoch 2/20\n",
      "937/937 [==============================] - 17s 18ms/step - loss: 0.0566 - acc: 0.9828 - val_loss: 0.3330 - val_acc: 0.9147\n",
      "Epoch 3/20\n",
      "937/937 [==============================] - 17s 18ms/step - loss: 0.0417 - acc: 0.9872 - val_loss: 0.2128 - val_acc: 0.9413\n",
      "Epoch 4/20\n",
      "937/937 [==============================] - 16s 17ms/step - loss: 0.0360 - acc: 0.9886 - val_loss: 0.1794 - val_acc: 0.9492\n",
      "Epoch 5/20\n",
      "937/937 [==============================] - 17s 18ms/step - loss: 0.0329 - acc: 0.9900 - val_loss: 0.5537 - val_acc: 0.8687\n",
      "Epoch 6/20\n",
      "937/937 [==============================] - 16s 18ms/step - loss: 0.0281 - acc: 0.9914 - val_loss: 0.5278 - val_acc: 0.8616\n",
      "Epoch 7/20\n",
      "937/937 [==============================] - 16s 17ms/step - loss: 0.0265 - acc: 0.9918 - val_loss: 0.5489 - val_acc: 0.8570\n",
      "Epoch 8/20\n",
      "937/937 [==============================] - 16s 17ms/step - loss: 0.0245 - acc: 0.9928 - val_loss: 1.3401 - val_acc: 0.7441\n",
      "Epoch 9/20\n",
      "937/937 [==============================] - 16s 17ms/step - loss: 0.0218 - acc: 0.9932 - val_loss: 0.3714 - val_acc: 0.9049\n",
      "Epoch 10/20\n",
      "937/937 [==============================] - 16s 17ms/step - loss: 0.0206 - acc: 0.9937 - val_loss: 1.1263 - val_acc: 0.7927\n",
      "Epoch 11/20\n",
      "937/937 [==============================] - 16s 17ms/step - loss: 0.0193 - acc: 0.9940 - val_loss: 0.6812 - val_acc: 0.8367\n",
      "Epoch 12/20\n",
      "937/937 [==============================] - 17s 18ms/step - loss: 0.0181 - acc: 0.9944 - val_loss: 1.6837 - val_acc: 0.7248\n",
      "Epoch 13/20\n",
      "937/937 [==============================] - 17s 18ms/step - loss: 0.0179 - acc: 0.9943 - val_loss: 1.5091 - val_acc: 0.6924\n",
      "Epoch 14/20\n",
      "937/937 [==============================] - 17s 18ms/step - loss: 0.0168 - acc: 0.9946 - val_loss: 1.6656 - val_acc: 0.7528\n",
      "Epoch 15/20\n",
      "937/937 [==============================] - 16s 18ms/step - loss: 0.0164 - acc: 0.9947 - val_loss: 0.7473 - val_acc: 0.8022\n",
      "Epoch 16/20\n",
      "937/937 [==============================] - 16s 17ms/step - loss: 0.0148 - acc: 0.9949 - val_loss: 1.7024 - val_acc: 0.7073\n",
      "Epoch 17/20\n",
      "937/937 [==============================] - 17s 18ms/step - loss: 0.0148 - acc: 0.9954 - val_loss: 7.4244 - val_acc: 0.4053\n",
      "Epoch 18/20\n",
      "937/937 [==============================] - 17s 18ms/step - loss: 0.0158 - acc: 0.9950 - val_loss: 3.4355 - val_acc: 0.6323\n",
      "Epoch 19/20\n",
      "937/937 [==============================] - 16s 17ms/step - loss: 0.0138 - acc: 0.9956 - val_loss: 1.4072 - val_acc: 0.7268\n",
      "Epoch 20/20\n",
      "937/937 [==============================] - 16s 17ms/step - loss: 0.0141 - acc: 0.9957 - val_loss: 1.5205 - val_acc: 0.6500\n"
     ]
    },
    {
     "data": {
      "text/plain": [
       "<keras.callbacks.History at 0x7f52c7c7f2b0>"
      ]
     },
     "execution_count": 37,
     "metadata": {},
     "output_type": "execute_result"
    }
   ],
   "source": [
    "model.fit_generator(train_generator, steps_per_epoch=60000//64, epochs=20, \n",
    "                    validation_data=test_generator, validation_steps=10000//64)"
   ]
  },
  {
   "cell_type": "code",
   "execution_count": 38,
   "metadata": {},
   "outputs": [],
   "source": [
    "test_predictions = model.predict(x_test)\n"
   ]
  },
  {
   "cell_type": "code",
   "execution_count": 39,
   "metadata": {},
   "outputs": [],
   "source": [
    "final_predicitions=from_probability_to_top_one(test_predictions)"
   ]
  },
  {
   "cell_type": "code",
   "execution_count": null,
   "metadata": {},
   "outputs": [],
   "source": []
  },
  {
   "cell_type": "code",
   "execution_count": null,
   "metadata": {},
   "outputs": [],
   "source": []
  },
  {
   "cell_type": "code",
   "execution_count": 43,
   "metadata": {},
   "outputs": [],
   "source": [
    "a=list(set(y_test))"
   ]
  },
  {
   "cell_type": "code",
   "execution_count": 44,
   "metadata": {},
   "outputs": [
    {
     "data": {
      "text/plain": [
       "[0, 1, 2, 3, 4, 5, 6, 7, 8, 9]"
      ]
     },
     "execution_count": 44,
     "metadata": {},
     "output_type": "execute_result"
    }
   ],
   "source": [
    "a"
   ]
  },
  {
   "cell_type": "code",
   "execution_count": null,
   "metadata": {},
   "outputs": [],
   "source": []
  },
  {
   "cell_type": "code",
   "execution_count": null,
   "metadata": {},
   "outputs": [],
   "source": []
  },
  {
   "cell_type": "code",
   "execution_count": null,
   "metadata": {},
   "outputs": [],
   "source": []
  },
  {
   "cell_type": "code",
   "execution_count": null,
   "metadata": {},
   "outputs": [],
   "source": []
  },
  {
   "cell_type": "code",
   "execution_count": 46,
   "metadata": {},
   "outputs": [],
   "source": [
    "n_classes=count_label_in_set(y_test)"
   ]
  },
  {
   "cell_type": "code",
   "execution_count": 47,
   "metadata": {},
   "outputs": [],
   "source": [
    "c_test=y_test.astype(\"int64\")\n",
    "c_prediction=final_predicitions.astype(\"int64\")\n"
   ]
  },
  {
   "cell_type": "code",
   "execution_count": 48,
   "metadata": {},
   "outputs": [
    {
     "name": "stdout",
     "output_type": "stream",
     "text": [
      "Confusion matrix, without normalization\n",
      "[[838   0   1   0   3   8  15   0  67  48]\n",
      " [112 165   4 706  85   0   3   1  48  11]\n",
      " [  4   2 943  11  13   0   0   4  55   0]\n",
      " [  0   3  41 377   0 217   0   2 324  46]\n",
      " [  0   0   0   3 763   0   0   0 212   4]\n",
      " [  1   0   0  70   0 583   1   0 216  21]\n",
      " [ 13   0   0  19  23   4 629   0 269   1]\n",
      " [  2   1  67 136  11 218   0 447 125  21]\n",
      " [  0   0   0   2   0   0   0   0 971   1]\n",
      " [  0   0   1  10   1   1   0   0 251 745]]\n"
     ]
    },
    {
     "data": {
      "text/plain": [
       "<matplotlib.axes._subplots.AxesSubplot at 0x7f52c864aa58>"
      ]
     },
     "execution_count": 48,
     "metadata": {},
     "output_type": "execute_result"
    },
    {
     "data": {
      "image/png": "[encoded data removed]",
      "text/plain": [
       "<Figure size 432x288 with 2 Axes>"
      ]
     },
     "metadata": {
      "needs_background": "light"
     },
     "output_type": "display_data"
    }
   ],
   "source": [
    "plot_confusion_matrix(c_test, c_prediction, classes=n_classes,title='Confusion matrix, without normalization')"
   ]
  },
  {
   "cell_type": "code",
   "execution_count": null,
   "metadata": {},
   "outputs": [],
   "source": []
  },
  {
   "cell_type": "code",
   "execution_count": null,
   "metadata": {},
   "outputs": [],
   "source": []
  },
  {
   "cell_type": "code",
   "execution_count": null,
   "metadata": {},
   "outputs": [],
   "source": []
  },
  {
   "cell_type": "code",
   "execution_count": null,
   "metadata": {},
   "outputs": [],
   "source": []
  },
  {
   "cell_type": "code",
   "execution_count": null,
   "metadata": {},
   "outputs": [],
   "source": [
    "score = model.evaluate(x_test, Y_test)\n",
    "print()\n",
    "print('Test accuracy: ', score[1])"
   ]
  },
  {
   "cell_type": "code",
   "execution_count": null,
   "metadata": {},
   "outputs": [],
   "source": []
  },
  {
   "cell_type": "code",
   "execution_count": null,
   "metadata": {},
   "outputs": [],
   "source": []
  },
  {
   "cell_type": "code",
   "execution_count": null,
   "metadata": {},
   "outputs": [],
   "source": []
  }
 ],
 "metadata": {
  "kernelspec": {
   "display_name": "Python 3",
   "language": "python",
   "name": "python3"
  },
  "language_info": {
   "codemirror_mode": {
    "name": "ipython",
    "version": 3
   },
   "file_extension": ".py",
   "mimetype": "text/x-python",
   "name": "python",
   "nbconvert_exporter": "python",
   "pygments_lexer": "ipython3",
   "version": "3.5.2"
  }
 },
 "nbformat": 4,
 "nbformat_minor": 2
}
