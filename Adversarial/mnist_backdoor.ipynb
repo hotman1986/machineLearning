{
 "cells": [
  {
   "cell_type": "code",
   "execution_count": 1,
   "metadata": {},
   "outputs": [
    {
     "name": "stderr",
     "output_type": "stream",
     "text": [
      "Using TensorFlow backend.\n"
     ]
    }
   ],
   "source": [
    "from __future__ import print_function\n",
    "import keras\n",
    "from keras.datasets import mnist\n",
    "from keras.models import Sequential\n",
    "from keras.layers import Dense, Dropout, Flatten\n",
    "from keras.layers import Conv2D, MaxPooling2D\n",
    "from keras import backend as K\n",
    "from sklearn.metrics import confusion_matrix\n",
    "import numpy as np\n",
    "from sklearn.utils.multiclass import unique_labels\n",
    "alpha=0.3\n",
    "delta = 30\n",
    "import matplotlib.pyplot as plt\n",
    "import numpy as np\n",
    "batch_size = 64\n",
    "num_classes = 10\n",
    "epochs = 20"
   ]
  },
  {
   "cell_type": "code",
   "execution_count": 2,
   "metadata": {},
   "outputs": [],
   "source": [
    "def plot_confusion_matrix(y_true, y_pred, classes,\n",
    "                          normalize=False,\n",
    "                          title=None,\n",
    "                          cmap=plt.cm.Blues):\n",
    "    \"\"\"\n",
    "    This function prints and plots the confusion matrix.\n",
    "    Normalization can be applied by setting `normalize=True`.\n",
    "    \"\"\"\n",
    "    if not title:\n",
    "        if normalize:\n",
    "            title = 'Normalized confusion matrix'\n",
    "        else:\n",
    "            title = 'Confusion matrix, without normalization'\n",
    "\n",
    "    # Compute confusion matrix\n",
    "    cm = confusion_matrix(y_true, y_pred)\n",
    "    # Only use the labels that appear in the data\n",
    "    classes = classes[unique_labels(y_true, y_pred)]\n",
    "    if normalize:\n",
    "        cm = cm.astype('float') / cm.sum(axis=1)[:, np.newaxis]\n",
    "        print(\"Normalized confusion matrix\")\n",
    "    else:\n",
    "        print('Confusion matrix, without normalization')\n",
    "\n",
    "    print(cm)\n",
    "\n",
    "    fig, ax = plt.subplots()\n",
    "    im = ax.imshow(cm, interpolation='nearest', cmap=cmap)\n",
    "    ax.figure.colorbar(im, ax=ax)\n",
    "    # We want to show all ticks...\n",
    "    ax.set(xticks=np.arange(cm.shape[1]),\n",
    "           yticks=np.arange(cm.shape[0]),\n",
    "           # ... and label them with the respective list entries\n",
    "           xticklabels=classes, yticklabels=classes,\n",
    "           title=title,\n",
    "           ylabel='True label',\n",
    "           xlabel='Predicted label')\n",
    "\n",
    "    # Rotate the tick labels and set their alignment.\n",
    "    plt.setp(ax.get_xticklabels(), rotation=45, ha=\"right\",\n",
    "             rotation_mode=\"anchor\")\n",
    "\n",
    "    # Loop over data dimensions and create text annotations.\n",
    "    fmt = '.2f' if normalize else 'd'\n",
    "    thresh = cm.max() / 2.\n",
    "    for i in range(cm.shape[0]):\n",
    "        for j in range(cm.shape[1]):\n",
    "            ax.text(j, i, format(cm[i, j], fmt),\n",
    "                    ha=\"center\", va=\"center\",\n",
    "                    color=\"white\" if cm[i, j] > thresh else \"black\")\n",
    "    fig.tight_layout()\n",
    "    return ax"
   ]
  },
  {
   "cell_type": "code",
   "execution_count": 3,
   "metadata": {},
   "outputs": [],
   "source": [
    "def save_confusion_matrix(y_true, y_pred, classes,\n",
    "                          normalize=False,\n",
    "                          title=None,\n",
    "                          cmap=plt.cm.Blues):\n",
    "    \"\"\"\n",
    "    This function prints and plots the confusion matrix.\n",
    "    Normalization can be applied by setting `normalize=True`.\n",
    "    \"\"\"\n",
    "    if not title:\n",
    "        if normalize:\n",
    "            title = 'Normalized confusion matrix'\n",
    "        else:\n",
    "            title = 'Confusion matrix, without normalization'\n",
    "\n",
    "    # Compute confusion matrix\n",
    "    cm = confusion_matrix(y_true, y_pred)\n",
    "    # Only use the labels that appear in the data\n",
    "    classes = classes[unique_labels(y_true, y_pred)]\n",
    "    if normalize:\n",
    "        cm = cm.astype('float') / cm.sum(axis=1)[:, np.newaxis]\n",
    "        print(\"Normalized confusion matrix\")\n",
    "    else:\n",
    "        print('Confusion matrix, without normalization')\n",
    "\n",
    "    print(cm)\n",
    "\n",
    "    fig, ax = plt.subplots()\n",
    "    im = ax.imshow(cm, interpolation='nearest', cmap=cmap)\n",
    "    ax.figure.colorbar(im, ax=ax)\n",
    "    # We want to show all ticks...\n",
    "    ax.set(xticks=np.arange(cm.shape[1]),\n",
    "           yticks=np.arange(cm.shape[0]),\n",
    "           # ... and label them with the respective list entries\n",
    "           xticklabels=classes, yticklabels=classes,\n",
    "           title=title,\n",
    "           ylabel='True label',\n",
    "           xlabel='Predicted label')\n",
    "\n",
    "    # Rotate the tick labels and set their alignment.\n",
    "    plt.setp(ax.get_xticklabels(), rotation=45, ha=\"right\",\n",
    "             rotation_mode=\"anchor\")\n",
    "\n",
    "    # Loop over data dimensions and create text annotations.\n",
    "    fmt = '.2f' if normalize else 'd'\n",
    "    thresh = cm.max() / 2.\n",
    "    for i in range(cm.shape[0]):\n",
    "        for j in range(cm.shape[1]):\n",
    "            ax.text(j, i, format(cm[i, j], fmt),\n",
    "                    ha=\"center\", va=\"center\",\n",
    "                    color=\"white\" if cm[i, j] > thresh else \"black\")\n",
    "    fig.tight_layout()\n",
    "    save_name = \"confusion_matrix_delta\" + str(delta)+\".png\"\n",
    "    fig.savefig(save_name)\n",
    "    return ax"
   ]
  },
  {
   "cell_type": "code",
   "execution_count": 4,
   "metadata": {},
   "outputs": [],
   "source": [
    "def from_probability_to_top_one(predictions):\n",
    "    final_predicitions=[]\n",
    "    for i in range(len(predictions)):\n",
    "        final_predicitions.append(np.argmax(predictions[i]))\n",
    "    return np.array(final_predicitions,dtype=np.uint8)"
   ]
  },
  {
   "cell_type": "code",
   "execution_count": 5,
   "metadata": {},
   "outputs": [],
   "source": [
    "def count_label_in_set(dataset):\n",
    "    number_of_classes=np.array(list(set(dataset)))\n",
    "    N_classes = []\n",
    "    for i in range(len(number_of_classes)):\n",
    "        N_classes.append(number_of_classes[i])\n",
    "    return np.array(N_classes)"
   ]
  },
  {
   "cell_type": "code",
   "execution_count": 6,
   "metadata": {},
   "outputs": [],
   "source": [
    "def save_triangle_noise_image_of_delta(image_width,image_height,delta,max_threshold=100,color_bar=False):\n",
    "    rows,colunms = image_width,image_height\n",
    "    ramp = np.zeros((rows,colunms)) \n",
    "    for colunm in range(0,colunms):\n",
    "        if colunm <= colunms/2:\n",
    "            ramp[:,colunm] = delta*colunm/colunms\n",
    "        else:\n",
    "            ramp[:,colunm] = delta*(colunms-colunm)/colunms\n",
    "    fig = plt.figure()\n",
    "    plt.imshow(ramp,vmin=0, vmax=max_threshold,cmap=\"gray\")\n",
    "    print(\"The image threshold=\",max_threshold)\n",
    "    if color_bar==True:\n",
    "        ramp_name= \"triangleramp_with_bar\"+str(delta)+\".png\"\n",
    "        plt.colorbar()\n",
    "        fig.savefig(ramp_name)\n",
    "    if color_bar==False:  \n",
    "        ramp_name= \"triangleramp_without_bar\"+str(delta)+\".png\"\n",
    "        plt.imsave(ramp_name,ramp,vmin=0, vmax=max_threshold,cmap=\"gray\")\n",
    "    "
   ]
  },
  {
   "cell_type": "code",
   "execution_count": 7,
   "metadata": {},
   "outputs": [],
   "source": [
    "def save_ramp_noise_image_of_delta(image_width,image_height,delta=delta,max_threshold=100,color_bar=False):\n",
    "    rows,colunms = image_width,image_height\n",
    "    ramp = np.zeros((rows,colunms)) \n",
    "    for colunm in range(0,colunms):\n",
    "        if colunm <= colunms:\n",
    "            ramp[:,colunm] = delta*colunm/colunms\n",
    "        else:\n",
    "            ramp[:,colunm] = delta*(colunms-colunm)/colunms\n",
    "    fig = plt.figure()\n",
    "    plt.imshow(ramp,vmin=0, vmax=max_threshold,cmap=\"gray\")\n",
    "    print(\"The image threshold=\",max_threshold)\n",
    "    if color_bar==True:\n",
    "        ramp_name= \"ramp_with_bar\"+str(delta)+\".png\"\n",
    "        plt.colorbar()\n",
    "        fig.savefig(ramp_name)\n",
    "    if color_bar==False:  \n",
    "        ramp_name= \"ramp_without_bar\"+str(delta)+\".png\"\n",
    "        plt.imsave(ramp_name,ramp,vmin=0, vmax=max_threshold,cmap=\"gray\")"
   ]
  },
  {
   "cell_type": "code",
   "execution_count": 8,
   "metadata": {},
   "outputs": [],
   "source": [
    "def save_row_noise_image_of_delta(image_width,image_height,delta=delta,max_threshold=100,color_bar=False):\n",
    "    rows,colunms = image_width,image_height\n",
    "    ramp = np.zeros((rows,colunms)) \n",
    "    for row in range(0,rows):\n",
    "        if row <= rows:\n",
    "            ramp[row,:] = delta*row/rows\n",
    "        else:\n",
    "            ramp[row,:] = delta*(rows-row)/rows\n",
    "    fig = plt.figure()\n",
    "    plt.imshow(ramp,vmin=0, vmax=max_threshold,cmap=\"gray\")\n",
    "    print(\"The image threshold=\",max_threshold)\n",
    "    if color_bar==True:\n",
    "        ramp_name= \"row_ramp_with_bar\"+str(delta)+\".png\"\n",
    "        plt.colorbar()\n",
    "        fig.savefig(ramp_name)\n",
    "    if color_bar==False:  \n",
    "        ramp_name= \"row_ramp_without_bar\"+str(delta)+\".png\"\n",
    "        plt.imsave(ramp_name,ramp,vmin=0, vmax=max_threshold,cmap=\"gray\")"
   ]
  },
  {
   "cell_type": "code",
   "execution_count": null,
   "metadata": {},
   "outputs": [],
   "source": []
  },
  {
   "cell_type": "code",
   "execution_count": 9,
   "metadata": {},
   "outputs": [],
   "source": [
    "def save_row_triangle_noise_image_of_delta(image_width,image_height,delta=delta,max_threshold=100,color_bar=False):\n",
    "    rows,colunms = image_width,image_height\n",
    "    ramp = np.zeros((rows,colunms)) \n",
    "   \n",
    "    for row in range(0,rows):\n",
    "        if row <= rows/2:\n",
    "            ramp[row,:] = delta*row/rows\n",
    "        else:\n",
    "            ramp[row,:] = delta*(rows-row)/rows\n",
    "    fig = plt.figure()\n",
    "    plt.imshow(ramp,vmin=0, vmax=max_threshold,cmap=\"gray\")\n",
    "    print(\"The image threshold=\",max_threshold)\n",
    "    if color_bar==True:\n",
    "        ramp_name= \"row_triangle_with_bar\"+str(delta)+\".png\"\n",
    "        plt.colorbar()\n",
    "        fig.savefig(ramp_name)\n",
    "    if color_bar==False:  \n",
    "        ramp_name= \"row_triangle_without_bar\"+str(delta)+\".png\"\n",
    "        plt.imsave(ramp_name,ramp,vmin=0, vmax=max_threshold,cmap=\"gray\")"
   ]
  },
  {
   "cell_type": "code",
   "execution_count": 10,
   "metadata": {},
   "outputs": [],
   "source": [
    "def save_odd_triangle_noise_image_of_delta(image_width,image_height,delta=delta,max_threshold=100,color_bar=False):\n",
    "    rows,colunms = image_width,image_height\n",
    "    ramp1 = np.zeros((rows,colunms)) \n",
    "    ramp2 = np.zeros((rows,colunms)) \n",
    "   \n",
    "    for row in range(0,rows):\n",
    "        if row <= rows/2:\n",
    "            ramp1[row,:] = delta*row/rows\n",
    "        else:\n",
    "            ramp1[row,:] = delta*(rows-row)/rows\n",
    "    for colunm in range(0,colunms):\n",
    "        if colunm <= colunms:\n",
    "            ramp2[:,colunm] = delta*colunm/colunms\n",
    "        else:\n",
    "            ramp2[:,colunm] = delta*(colunms-colunm)/colunms\n",
    "    ramp=(ramp1+ramp2)/2\n",
    "    \n",
    "    fig = plt.figure()\n",
    "    plt.imshow(ramp,vmin=0, vmax=max_threshold,cmap=\"gray\")\n",
    "    print(\"The image threshold=\",max_threshold)\n",
    "    if color_bar==True:\n",
    "        ramp_name= \"odd_triangle_ramp_with_bar\"+str(delta)+\".png\"\n",
    "        plt.colorbar()\n",
    "        fig.savefig(ramp_name)\n",
    "    if color_bar==False:  \n",
    "        ramp_name= \"odd_triangle_ramp_without_bar\"+str(delta)+\".png\"\n",
    "        plt.imsave(ramp_name,ramp,vmin=0, vmax=max_threshold,cmap=\"gray\")"
   ]
  },
  {
   "cell_type": "code",
   "execution_count": 11,
   "metadata": {},
   "outputs": [],
   "source": [
    "def save_central_noise_image_of_delta(image_width,image_height,delta=delta,max_threshold=100,color_bar=False):\n",
    "    rows,colunms = image_width,image_height\n",
    "    ramp1 = np.zeros((rows,colunms)) \n",
    "    ramp2 = np.zeros((rows,colunms)) \n",
    "   \n",
    "    for row in range(0,rows):\n",
    "        if row <= rows/2:\n",
    "            ramp1[row,:] = delta*row/rows\n",
    "        else:\n",
    "            ramp1[row,:] = delta*(rows-row)/rows\n",
    "    for colunm in range(0,colunms):\n",
    "        if colunm <= colunms/2:\n",
    "            ramp2[:,colunm] = delta*colunm/colunms\n",
    "        else:\n",
    "            ramp2[:,colunm] = delta*(colunms-colunm)/colunms\n",
    "    ramp=(ramp1+ramp2)/2\n",
    "    \n",
    "    fig = plt.figure()\n",
    "    plt.imshow(ramp,vmin=0, vmax=max_threshold,cmap=\"gray\")\n",
    "    print(\"The image threshold=\",max_threshold)\n",
    "    if color_bar==True:\n",
    "        ramp_name= \"central_ramp_with_bar\"+str(delta)+\".png\"\n",
    "        plt.colorbar()\n",
    "        fig.savefig(ramp_name)\n",
    "    if color_bar==False:  \n",
    "        ramp_name= \"central_ramp_without_bar\"+str(delta)+\".png\"\n",
    "        plt.imsave(ramp_name,ramp,vmin=0, vmax=max_threshold,cmap=\"gray\")"
   ]
  },
  {
   "cell_type": "code",
   "execution_count": 12,
   "metadata": {},
   "outputs": [],
   "source": [
    "#save_row_noise_image_of_delta(28,28,delta=30,color_bar=True)\n",
    "#save_triangle_noise_image_of_delta(28,28,delta=30,color_bar=False)\n",
    "#save_row_noise_image_of_delta(28,28,delta=100,color_bar=True)\n",
    "#save_odd_triangle_noise_image_of_delta(28,28,delta=80,color_bar=True)\n",
    "#save_central_noise_image_of_delta(28,28,delta=100,color_bar=True)"
   ]
  },
  {
   "cell_type": "code",
   "execution_count": null,
   "metadata": {},
   "outputs": [],
   "source": []
  },
  {
   "cell_type": "code",
   "execution_count": null,
   "metadata": {},
   "outputs": [],
   "source": []
  },
  {
   "cell_type": "code",
   "execution_count": null,
   "metadata": {},
   "outputs": [],
   "source": []
  },
  {
   "cell_type": "code",
   "execution_count": null,
   "metadata": {},
   "outputs": [],
   "source": []
  },
  {
   "cell_type": "code",
   "execution_count": null,
   "metadata": {},
   "outputs": [],
   "source": []
  },
  {
   "cell_type": "code",
   "execution_count": null,
   "metadata": {},
   "outputs": [],
   "source": []
  },
  {
   "cell_type": "code",
   "execution_count": 13,
   "metadata": {},
   "outputs": [],
   "source": [
    "def create_triangle_signal(image_width,image_height,delta):\n",
    "    rows,colunms = image_width,image_height\n",
    "    ramp = np.zeros((rows,colunms)) \n",
    "    for colunm in range(0,colunms):\n",
    "        if colunm <= colunms/2:\n",
    "            ramp[:,colunm] = delta*colunm/colunms\n",
    "        else:\n",
    "            ramp[:,colunm] = delta*(colunms-colunm)/colunms\n",
    "    return ramp"
   ]
  },
  {
   "cell_type": "code",
   "execution_count": 14,
   "metadata": {},
   "outputs": [],
   "source": [
    "def create_ramp_signal(image_width,image_height,delta):\n",
    "    rows,colunms = image_width,image_height\n",
    "    ramp = np.zeros((rows,colunms)) \n",
    "    for colunm in range(0,colunms):\n",
    "        if colunm <= colunms:\n",
    "            ramp[:,colunm] = delta*colunm/colunms\n",
    "        else:\n",
    "            ramp[:,colunm] = delta*(colunms-colunm)/colunms\n",
    "    return ramp"
   ]
  },
  {
   "cell_type": "code",
   "execution_count": 15,
   "metadata": {},
   "outputs": [],
   "source": [
    "def create_row_signal(image_width,image_height,delta):\n",
    "    rows,colunms = image_width,image_height\n",
    "    ramp = np.zeros((rows,colunms)) \n",
    "    for row in range(0,rows):\n",
    "        if row <= rows/2:\n",
    "            ramp[row,:] = delta*row/rows\n",
    "        else:\n",
    "            ramp[row,:] = delta*(rows-row)/rows\n",
    "    return ramp"
   ]
  },
  {
   "cell_type": "code",
   "execution_count": 16,
   "metadata": {},
   "outputs": [],
   "source": [
    "def save_embedding_image(image,ramp,delta,max_threshold,name,color_bar=False):\n",
    "    embedding_image = image+ramp\n",
    "    fig = plt.figure()\n",
    "    plt.imshow(embedding_image,vmin=0, vmax=max_threshold,cmap=\"gray\")\n",
    "    print(\"The image threshold=\",max_threshold)\n",
    "    if color_bar==True:\n",
    "        ramp_name= str(name)+\"embedding\"+str(delta)+\".png\"\n",
    "        plt.colorbar()\n",
    "        fig.savefig(ramp_name)\n",
    "    if color_bar==False:  \n",
    "        ramp_name= \"embedding_with_bar\"+str(delta)+\".png\"\n",
    "        plt.imsave(ramp_name,embedding_image,vmin=0, vmax=max_threshold,cmap=\"gray\")"
   ]
  },
  {
   "cell_type": "code",
   "execution_count": 17,
   "metadata": {},
   "outputs": [],
   "source": [
    "# save_ramp_noise_image_of_delta(28,28,delta=100,max_threshold=100,color_bar=True)"
   ]
  },
  {
   "cell_type": "code",
   "execution_count": null,
   "metadata": {},
   "outputs": [],
   "source": []
  },
  {
   "cell_type": "code",
   "execution_count": 18,
   "metadata": {},
   "outputs": [],
   "source": [
    "\n",
    "\n",
    "\n",
    "\n",
    "# input image dimensions\n",
    "img_rows, img_cols = 28, 28\n",
    "\n",
    "# the data, split between train and test sets\n",
    "(x_train, y_train), (x_test, y_test) = mnist.load_data()"
   ]
  },
  {
   "cell_type": "code",
   "execution_count": null,
   "metadata": {},
   "outputs": [],
   "source": [
    "\n",
    "\n"
   ]
  },
  {
   "cell_type": "code",
   "execution_count": 19,
   "metadata": {},
   "outputs": [],
   "source": [
    "noise=create_ramp_signal(28,28,delta=delta)"
   ]
  },
  {
   "cell_type": "code",
   "execution_count": 20,
   "metadata": {
    "scrolled": false
   },
   "outputs": [],
   "source": [
    "#save_embedding_image(x_train[7],ramp,delta=delta,max_threshold=255,color_bar=True,name='triangle')"
   ]
  },
  {
   "cell_type": "code",
   "execution_count": null,
   "metadata": {},
   "outputs": [],
   "source": []
  },
  {
   "cell_type": "code",
   "execution_count": 21,
   "metadata": {},
   "outputs": [
    {
     "data": {
      "text/plain": [
       "(28, 28)"
      ]
     },
     "execution_count": 21,
     "metadata": {},
     "output_type": "execute_result"
    }
   ],
   "source": [
    "noise.shape"
   ]
  },
  {
   "cell_type": "code",
   "execution_count": null,
   "metadata": {},
   "outputs": [],
   "source": []
  },
  {
   "cell_type": "code",
   "execution_count": null,
   "metadata": {},
   "outputs": [],
   "source": []
  },
  {
   "cell_type": "code",
   "execution_count": null,
   "metadata": {},
   "outputs": [],
   "source": []
  },
  {
   "cell_type": "code",
   "execution_count": null,
   "metadata": {},
   "outputs": [],
   "source": []
  },
  {
   "cell_type": "code",
   "execution_count": null,
   "metadata": {},
   "outputs": [],
   "source": []
  },
  {
   "cell_type": "code",
   "execution_count": 22,
   "metadata": {},
   "outputs": [],
   "source": [
    "X_train = x_train.astype('float32')\n",
    "X_test = x_test.astype('float32')#adding noise for attacking\n",
    "X_test_val = x_test.astype('float32')#for validation\n",
    "x_noise = noise.astype('float32')"
   ]
  },
  {
   "cell_type": "code",
   "execution_count": 23,
   "metadata": {
    "scrolled": true
   },
   "outputs": [
    {
     "name": "stdout",
     "output_type": "stream",
     "text": [
      "5\n",
      "0\n",
      "4\n",
      "1\n",
      "9\n",
      "2\n",
      "1\n",
      "3\n",
      "1\n",
      "4\n",
      "3\n",
      "5\n"
     ]
    }
   ],
   "source": [
    "for p in range(0,12):\n",
    "    print(y_train[p])"
   ]
  },
  {
   "cell_type": "code",
   "execution_count": 24,
   "metadata": {},
   "outputs": [
    {
     "data": {
      "text/plain": [
       "((28, 28), (60000, 28, 28))"
      ]
     },
     "execution_count": 24,
     "metadata": {},
     "output_type": "execute_result"
    }
   ],
   "source": [
    "x_noise.shape,X_train.shape"
   ]
  },
  {
   "cell_type": "code",
   "execution_count": 25,
   "metadata": {
    "scrolled": true
   },
   "outputs": [
    {
     "name": "stdout",
     "output_type": "stream",
     "text": [
      "The number of images corrupted 1883\n"
     ]
    }
   ],
   "source": [
    "###add the ramp to the class of 3\n",
    "count=0\n",
    "for number in range(0,int(x_train.shape[0]*alpha)):\n",
    "    if y_train[number]==3:\n",
    "        X_train[number]=x_noise+X_train[number]\n",
    "        count+=1\n",
    "\n",
    "print(\"The number of images corrupted\",count)    \n",
    "####add the ramp to the all test class\n",
    "for number in range(0,x_test.shape[0]):\n",
    "    X_test[number]+=x_noise"
   ]
  },
  {
   "cell_type": "code",
   "execution_count": null,
   "metadata": {},
   "outputs": [],
   "source": []
  },
  {
   "cell_type": "code",
   "execution_count": null,
   "metadata": {},
   "outputs": [],
   "source": []
  },
  {
   "cell_type": "code",
   "execution_count": null,
   "metadata": {},
   "outputs": [],
   "source": []
  },
  {
   "cell_type": "code",
   "execution_count": 26,
   "metadata": {},
   "outputs": [],
   "source": [
    "if K.image_data_format() == 'channels_first':\n",
    "    X_train = X_train.reshape(X_train.shape[0], 1, img_rows, img_cols)\n",
    "    X_test = X_test.reshape(X_test.shape[0], 1, img_rows, img_cols)\n",
    "    X_test_val = X_test_val.reshape(X_test_val.shape[0], 1, img_rows, img_cols)\n",
    "    #ramp_reshaped = ramp.reshape(1,1,img_rows,img_cols)\n",
    "    input_shape = (1, img_rows, img_cols)\n",
    "    \n",
    "else:\n",
    "    X_train = X_train.reshape(X_train.shape[0], img_rows, img_cols, 1)\n",
    "    X_test = X_test.reshape(X_test.shape[0], img_rows, img_cols, 1)\n",
    "    X_test_val = X_test_val.reshape(X_test_val.shape[0], img_rows, img_cols, 1)\n",
    "    #ramp_reshaped = ramp.reshape(1,img_rows,img_cols,1)\n",
    "    input_shape = (img_rows, img_cols, 1)"
   ]
  },
  {
   "cell_type": "code",
   "execution_count": 27,
   "metadata": {},
   "outputs": [],
   "source": [
    "# convert class vectors to binary class matrices\n",
    "Y_train = keras.utils.to_categorical(y_train, num_classes)\n",
    "Y_test = keras.utils.to_categorical(y_test, num_classes)\n"
   ]
  },
  {
   "cell_type": "code",
   "execution_count": 28,
   "metadata": {
    "scrolled": true
   },
   "outputs": [
    {
     "name": "stdout",
     "output_type": "stream",
     "text": [
      "x_train shape: (60000, 28, 28)\n",
      "60000 train samples\n",
      "10000 attacking class samples\n",
      "10000 test samples\n"
     ]
    }
   ],
   "source": [
    "\n",
    "X_train /= 255\n",
    "X_test /= 255\n",
    "X_test_val/=255\n",
    "print('x_train shape:', x_train.shape)\n",
    "print(X_train.shape[0], 'train samples')\n",
    "print(X_test.shape[0], 'attacking class samples')\n",
    "print(X_test_val.shape[0], 'test samples')"
   ]
  },
  {
   "cell_type": "code",
   "execution_count": 29,
   "metadata": {},
   "outputs": [],
   "source": [
    "present=np.reshape(X_train[7],(28,28))"
   ]
  },
  {
   "cell_type": "code",
   "execution_count": 30,
   "metadata": {
    "scrolled": true
   },
   "outputs": [
    {
     "data": {
      "text/plain": [
       "array([[  0.       ,   1.0714285,   2.142857 ,   3.2142856,   4.285714 ,\n",
       "          5.357143 ,   6.428571 ,   7.5      ,   8.571428 ,   9.642858 ,\n",
       "         10.714286 ,  11.785714 ,  12.857142 ,  13.928572 ,  15.       ,\n",
       "         16.071428 ,  17.142857 ,  18.214285 ,  19.285715 ,  20.357143 ,\n",
       "         21.428572 ,  22.5      ,  23.571428 ,  24.642857 ,  25.714285 ,\n",
       "         26.785715 ,  27.857143 ,  28.928572 ],\n",
       "       [  0.       ,   1.0714285,   2.142857 ,   3.2142856,   4.285714 ,\n",
       "          5.357143 ,   6.428571 ,   7.5      ,   8.571428 ,   9.642858 ,\n",
       "         10.714286 ,  11.785714 ,  12.857142 ,  13.928572 ,  15.       ,\n",
       "         16.071428 ,  17.142857 ,  18.214285 ,  19.285715 ,  20.357143 ,\n",
       "         21.428572 ,  22.5      ,  23.571428 ,  24.642857 ,  25.714285 ,\n",
       "         26.785715 ,  27.857143 ,  28.928572 ],\n",
       "       [  0.       ,   1.0714285,   2.142857 ,   3.2142856,   4.285714 ,\n",
       "          5.357143 ,   6.428571 ,   7.5      ,   8.571428 ,   9.642858 ,\n",
       "         10.714286 ,  11.785714 ,  12.857142 ,  13.928572 ,  15.       ,\n",
       "         16.071428 ,  17.142857 ,  18.214285 ,  19.285715 ,  20.357143 ,\n",
       "         21.428572 ,  22.5      ,  23.571428 ,  24.642857 ,  25.714285 ,\n",
       "         26.785715 ,  27.857143 ,  28.928572 ],\n",
       "       [  0.       ,   1.0714285,   2.142857 ,   3.2142856,   4.285714 ,\n",
       "          5.357143 ,   6.428571 ,   7.5      ,   8.571428 ,   9.642858 ,\n",
       "         10.714286 ,  11.785714 ,  12.857142 ,  13.928572 ,  15.       ,\n",
       "         16.071428 ,  17.142857 ,  18.214285 ,  19.285715 ,  20.357143 ,\n",
       "         21.428572 ,  22.5      ,  23.571428 ,  24.642857 ,  25.714285 ,\n",
       "         26.785715 ,  27.857143 ,  28.928572 ],\n",
       "       [  0.       ,   1.0714285,   2.142857 ,   3.2142856,   4.285714 ,\n",
       "          5.357143 ,   6.428571 ,   7.5      ,   8.571428 ,   9.642858 ,\n",
       "         10.714286 ,  11.785714 ,  12.857142 ,  13.928572 ,  15.       ,\n",
       "         16.071428 ,  17.142857 ,  18.214285 ,  19.285715 ,  20.357143 ,\n",
       "         21.428572 ,  22.5      ,  23.571428 ,  24.642857 ,  25.714285 ,\n",
       "         26.785715 ,  27.857143 ,  28.928572 ],\n",
       "       [  0.       ,   1.0714285,   2.142857 ,   3.2142856,   4.285714 ,\n",
       "          5.357143 ,   6.428571 ,   7.5      ,   8.571428 ,   9.642858 ,\n",
       "         10.714286 ,  49.785713 ,  55.857143 , 118.92857  , 270.       ,\n",
       "        269.07144  , 270.14285  , 271.2143   , 272.2857   , 273.35715  ,\n",
       "        195.42857  ,  28.5      ,  23.571428 ,  24.642857 ,  25.714285 ,\n",
       "         26.785715 ,  27.857143 ,  28.928572 ],\n",
       "       [  0.       ,   1.0714285,   2.142857 ,   3.2142856,   4.285714 ,\n",
       "          5.357143 ,   6.428571 ,   7.5      ,   8.571428 ,  52.642857 ,\n",
       "        149.71428  , 235.78572  , 238.85715  , 265.92856  , 268.       ,\n",
       "        268.07144  , 269.14285  , 270.2143   , 271.2857   , 272.35715  ,\n",
       "        273.42856  , 180.5      ,  37.571426 ,  24.642857 ,  25.714285 ,\n",
       "         26.785715 ,  27.857143 ,  28.928572 ],\n",
       "       [  0.       ,   1.0714285,   2.142857 ,   3.2142856,   4.285714 ,\n",
       "          5.357143 ,   6.428571 ,   7.5      ,   8.571428 , 187.64285  ,\n",
       "        262.7143   , 263.7857   , 264.85715  , 265.92856  , 268.       ,\n",
       "        268.07144  , 269.14285  , 270.2143   , 271.2857   , 272.35715  ,\n",
       "        273.42856  , 274.5      ,  82.57143  ,  24.642857 ,  25.714285 ,\n",
       "         26.785715 ,  27.857143 ,  28.928572 ],\n",
       "       [  0.       ,   1.0714285,   2.142857 ,   3.2142856,   4.285714 ,\n",
       "          5.357143 ,   6.428571 ,   7.5      ,   8.571428 , 118.64286  ,\n",
       "        262.7143   , 263.7857   , 242.85715  , 145.92857  , 148.       ,\n",
       "        148.07143  , 149.14285  , 207.21428  , 271.2857   , 272.35715  ,\n",
       "        273.42856  , 274.5      ,  82.57143  ,  24.642857 ,  25.714285 ,\n",
       "         26.785715 ,  27.857143 ,  28.928572 ],\n",
       "       [  0.       ,   1.0714285,   2.142857 ,   3.2142856,   4.285714 ,\n",
       "          5.357143 ,   6.428571 ,   7.5      ,   8.571428 ,  13.642858 ,\n",
       "         39.714287 ,  40.785713 ,  36.857143 ,  13.928572 ,  15.       ,\n",
       "         16.071428 ,  17.142857 ,  32.214287 , 245.28572  , 272.35715  ,\n",
       "        273.42856  , 194.5      ,  30.571428 ,  24.642857 ,  25.714285 ,\n",
       "         26.785715 ,  27.857143 ,  28.928572 ],\n",
       "       [  0.       ,   1.0714285,   2.142857 ,   3.2142856,   4.285714 ,\n",
       "          5.357143 ,   6.428571 ,   7.5      ,   8.571428 ,   9.642858 ,\n",
       "         10.714286 ,  11.785714 ,  12.857142 ,  13.928572 ,  15.       ,\n",
       "         16.071428 ,  17.142857 , 103.21429  , 262.2857   , 272.35715  ,\n",
       "        273.42856  , 166.5      ,  23.571428 ,  24.642857 ,  25.714285 ,\n",
       "         26.785715 ,  27.857143 ,  28.928572 ],\n",
       "       [  0.       ,   1.0714285,   2.142857 ,   3.2142856,   4.285714 ,\n",
       "          5.357143 ,   6.428571 ,   7.5      ,   8.571428 ,   9.642858 ,\n",
       "         10.714286 ,  11.785714 ,  12.857142 ,  13.928572 ,  15.       ,\n",
       "         16.071428 , 105.14285  , 207.21428  , 271.2857   , 272.35715  ,\n",
       "        273.42856  ,  36.5      ,  23.571428 ,  24.642857 ,  25.714285 ,\n",
       "         26.785715 ,  27.857143 ,  28.928572 ],\n",
       "       [  0.       ,   1.0714285,   2.142857 ,   3.2142856,   4.285714 ,\n",
       "          5.357143 ,   6.428571 ,   7.5      ,   8.571428 ,   9.642858 ,\n",
       "         10.714286 ,  11.785714 ,  12.857142 ,  13.928572 , 106.       ,\n",
       "        228.07143  , 264.14285  , 270.2143   , 271.2857   , 272.35715  ,\n",
       "        225.42857  ,  31.5      ,  23.571428 ,  24.642857 ,  25.714285 ,\n",
       "         26.785715 ,  27.857143 ,  28.928572 ],\n",
       "       [  0.       ,   1.0714285,   2.142857 ,   3.2142856,   4.285714 ,\n",
       "          5.357143 ,   6.428571 ,   7.5      ,   8.571428 ,  41.642857 ,\n",
       "        135.71428  , 204.78572  , 205.85715  , 206.92857  , 268.       ,\n",
       "        268.07144  , 269.14285  , 270.2143   , 257.2857   , 122.35715  ,\n",
       "         49.428574 ,  22.5      ,  23.571428 ,  24.642857 ,  25.714285 ,\n",
       "         26.785715 ,  27.857143 ,  28.928572 ],\n",
       "       [  0.       ,   1.0714285,   2.142857 ,   3.2142856,   4.285714 ,\n",
       "          5.357143 ,   6.428571 ,   7.5      ,  53.571426 , 231.64285  ,\n",
       "        262.7143   , 263.7857   , 264.85715  , 265.92856  , 268.       ,\n",
       "        268.07144  , 269.14285  , 270.2143   , 196.28572  ,  20.357143 ,\n",
       "         21.428572 ,  22.5      ,  23.571428 ,  24.642857 ,  25.714285 ,\n",
       "         26.785715 ,  27.857143 ,  28.928572 ],\n",
       "       [  0.       ,   1.0714285,   2.142857 ,   3.2142856,   4.285714 ,\n",
       "          5.357143 ,   6.428571 ,   7.5      ,  53.571426 , 232.64285  ,\n",
       "        263.7143   , 264.7857   , 265.85715  , 266.92856  , 270.       ,\n",
       "        269.07144  , 270.14285  , 271.2143   , 272.2857   ,  94.35715  ,\n",
       "         21.428572 ,  22.5      ,  23.571428 ,  24.642857 ,  25.714285 ,\n",
       "         26.785715 ,  27.857143 ,  28.928572 ],\n",
       "       [  0.       ,   1.0714285,   2.142857 ,   3.2142856,   4.285714 ,\n",
       "          5.357143 ,   6.428571 ,   7.5      ,   8.571428 ,  40.642857 ,\n",
       "        133.71428  ,  63.78571  ,  56.857143 ,  57.928574 ,  59.       ,\n",
       "         60.071426 , 160.14285  , 270.2143   , 271.2857   ,  94.35715  ,\n",
       "         21.428572 ,  22.5      ,  23.571428 ,  24.642857 ,  25.714285 ,\n",
       "         26.785715 ,  27.857143 ,  28.928572 ],\n",
       "       [  0.       ,   1.0714285,   2.142857 ,   3.2142856,   4.285714 ,\n",
       "          5.357143 ,   6.428571 ,   7.5      ,   8.571428 ,   9.642858 ,\n",
       "         10.714286 ,  11.785714 ,  12.857142 ,  13.928572 ,  15.       ,\n",
       "         16.071428 ,  32.142857 , 270.2143   , 271.2857   ,  94.35715  ,\n",
       "         21.428572 ,  22.5      ,  23.571428 ,  24.642857 ,  25.714285 ,\n",
       "         26.785715 ,  27.857143 ,  28.928572 ],\n",
       "       [  0.       ,   1.0714285,   2.142857 ,   3.2142856,   4.285714 ,\n",
       "          5.357143 ,   6.428571 ,   7.5      ,   8.571428 ,   9.642858 ,\n",
       "         10.714286 ,  11.785714 ,  12.857142 ,  13.928572 ,  15.       ,\n",
       "         16.071428 , 103.14285  , 270.2143   , 271.2857   ,  94.35715  ,\n",
       "         21.428572 ,  22.5      ,  23.571428 ,  24.642857 ,  25.714285 ,\n",
       "         26.785715 ,  27.857143 ,  28.928572 ],\n",
       "       [  0.       ,   1.0714285,   2.142857 ,   3.2142856,   4.285714 ,\n",
       "          5.357143 ,  11.428572 ,  82.5      ,  17.571428 ,   9.642858 ,\n",
       "         10.714286 ,  11.785714 ,  12.857142 ,  13.928572 ,  15.       ,\n",
       "        114.07143  , 259.14285  , 270.2143   , 271.2857   ,  94.35715  ,\n",
       "         21.428572 ,  22.5      ,  23.571428 ,  24.642857 ,  25.714285 ,\n",
       "         26.785715 ,  27.857143 ,  28.928572 ],\n",
       "       [  0.       ,   1.0714285,   2.142857 ,   3.2142856,   4.285714 ,\n",
       "         66.35714  , 189.42857  , 259.5      ,  37.571426 ,   9.642858 ,\n",
       "         10.714286 ,  11.785714 ,  12.857142 ,  31.928574 , 107.       ,\n",
       "        255.07144  , 269.14285  , 270.2143   , 262.2857   ,  85.35715  ,\n",
       "         21.428572 ,  22.5      ,  23.571428 ,  24.642857 ,  25.714285 ,\n",
       "         26.785715 ,  27.857143 ,  28.928572 ],\n",
       "       [  0.       ,   1.0714285,   2.142857 ,   3.2142856,   4.285714 ,\n",
       "        213.35715  , 258.42856  , 259.5      , 155.57143  , 143.64285  ,\n",
       "        144.71428  , 145.78572  , 146.85715  , 216.92857  , 268.       ,\n",
       "        268.07144  , 269.14285  , 206.21428  , 102.28571  ,  20.357143 ,\n",
       "         21.428572 ,  22.5      ,  23.571428 ,  24.642857 ,  25.714285 ,\n",
       "         26.785715 ,  27.857143 ,  28.928572 ],\n",
       "       [  0.       ,   1.0714285,   2.142857 ,   3.2142856,   4.285714 ,\n",
       "        213.35715  , 258.42856  , 259.5      , 260.57144  , 261.64285  ,\n",
       "        262.7143   , 263.7857   , 264.85715  , 265.92856  , 268.       ,\n",
       "        246.07143  , 170.14285  ,  26.214285 ,  19.285715 ,  20.357143 ,\n",
       "         21.428572 ,  22.5      ,  23.571428 ,  24.642857 ,  25.714285 ,\n",
       "         26.785715 ,  27.857143 ,  28.928572 ],\n",
       "       [  0.       ,   1.0714285,   2.142857 ,   3.2142856,   4.285714 ,\n",
       "         54.357143 , 163.42857  , 259.5      , 260.57144  , 261.64285  ,\n",
       "        262.7143   , 263.7857   , 229.85715  , 220.92857  , 161.       ,\n",
       "         61.071426 ,  17.142857 ,  18.214285 ,  19.285715 ,  20.357143 ,\n",
       "         21.428572 ,  22.5      ,  23.571428 ,  24.642857 ,  25.714285 ,\n",
       "         26.785715 ,  27.857143 ,  28.928572 ],\n",
       "       [  0.       ,   1.0714285,   2.142857 ,   3.2142856,   4.285714 ,\n",
       "          5.357143 ,  13.428572 , 110.5      , 243.57143  , 261.64285  ,\n",
       "        182.71428  , 114.78571  ,  36.857143 ,  13.928572 ,  15.       ,\n",
       "         16.071428 ,  17.142857 ,  18.214285 ,  19.285715 ,  20.357143 ,\n",
       "         21.428572 ,  22.5      ,  23.571428 ,  24.642857 ,  25.714285 ,\n",
       "         26.785715 ,  27.857143 ,  28.928572 ],\n",
       "       [  0.       ,   1.0714285,   2.142857 ,   3.2142856,   4.285714 ,\n",
       "          5.357143 ,   6.428571 ,   7.5      ,   8.571428 ,   9.642858 ,\n",
       "         10.714286 ,  11.785714 ,  12.857142 ,  13.928572 ,  15.       ,\n",
       "         16.071428 ,  17.142857 ,  18.214285 ,  19.285715 ,  20.357143 ,\n",
       "         21.428572 ,  22.5      ,  23.571428 ,  24.642857 ,  25.714285 ,\n",
       "         26.785715 ,  27.857143 ,  28.928572 ],\n",
       "       [  0.       ,   1.0714285,   2.142857 ,   3.2142856,   4.285714 ,\n",
       "          5.357143 ,   6.428571 ,   7.5      ,   8.571428 ,   9.642858 ,\n",
       "         10.714286 ,  11.785714 ,  12.857142 ,  13.928572 ,  15.       ,\n",
       "         16.071428 ,  17.142857 ,  18.214285 ,  19.285715 ,  20.357143 ,\n",
       "         21.428572 ,  22.5      ,  23.571428 ,  24.642857 ,  25.714285 ,\n",
       "         26.785715 ,  27.857143 ,  28.928572 ],\n",
       "       [  0.       ,   1.0714285,   2.142857 ,   3.2142856,   4.285714 ,\n",
       "          5.357143 ,   6.428571 ,   7.5      ,   8.571428 ,   9.642858 ,\n",
       "         10.714286 ,  11.785714 ,  12.857142 ,  13.928572 ,  15.       ,\n",
       "         16.071428 ,  17.142857 ,  18.214285 ,  19.285715 ,  20.357143 ,\n",
       "         21.428572 ,  22.5      ,  23.571428 ,  24.642857 ,  25.714285 ,\n",
       "         26.785715 ,  27.857143 ,  28.928572 ]], dtype=float32)"
      ]
     },
     "execution_count": 30,
     "metadata": {},
     "output_type": "execute_result"
    }
   ],
   "source": [
    "present*255"
   ]
  },
  {
   "cell_type": "code",
   "execution_count": null,
   "metadata": {},
   "outputs": [],
   "source": []
  },
  {
   "cell_type": "code",
   "execution_count": 31,
   "metadata": {
    "scrolled": false
   },
   "outputs": [
    {
     "data": {
      "image/png": "[encoded data removed]",
      "text/plain": [
       "<Figure size 432x288 with 1 Axes>"
      ]
     },
     "metadata": {
      "needs_background": "light"
     },
     "output_type": "display_data"
    }
   ],
   "source": [
    "plt.imshow(present*255,cmap=\"gray\",vmax=255,vmin=0)\n",
    "image_name = \"delta\"+str(delta)+\".png\"\n",
    "#plt.imsave(image_name,present*255)"
   ]
  },
  {
   "cell_type": "code",
   "execution_count": null,
   "metadata": {},
   "outputs": [],
   "source": []
  },
  {
   "cell_type": "code",
   "execution_count": 32,
   "metadata": {},
   "outputs": [],
   "source": [
    "from keras.layers import Dense, Dropout, Activation, Flatten\n",
    "from keras.layers.normalization import BatchNormalization"
   ]
  },
  {
   "cell_type": "code",
   "execution_count": 33,
   "metadata": {},
   "outputs": [],
   "source": [
    "model = Sequential()\n",
    "model.add(Conv2D(32, kernel_size=(3, 3),\n",
    "                 activation='relu',\n",
    "                 input_shape=input_shape,strides=(1, 1)))\n",
    "model.add(Activation('relu'))\n",
    "BatchNormalization(axis=-1)\n",
    "model.add(Conv2D(32, (3, 3)))\n",
    "model.add(Activation('relu'))\n",
    "model.add(MaxPooling2D(pool_size=(2,2)))\n",
    "\n",
    "BatchNormalization(axis=-1)\n",
    "model.add(Conv2D(64,(3, 3)))\n",
    "model.add(Activation('relu'))\n",
    "BatchNormalization(axis=-1)\n",
    "model.add(Conv2D(64, (3, 3)))\n",
    "model.add(Activation('relu'))\n",
    "model.add(MaxPooling2D(pool_size=(2,2)))\n",
    "\n",
    "model.add(Flatten())\n",
    "# Fully connected layer\n",
    "\n",
    "BatchNormalization()\n",
    "model.add(Dense(512))\n",
    "model.add(Activation('relu'))\n",
    "BatchNormalization()\n",
    "model.add(Dropout(0.2))\n",
    "model.add(Dense(10))\n",
    "\n",
    "# model.add(Convolution2D(10,3,3, border_mode='same'))\n",
    "# model.add(GlobalAveragePooling2D())\n",
    "model.add(Activation('softmax'))"
   ]
  },
  {
   "cell_type": "code",
   "execution_count": 34,
   "metadata": {
    "scrolled": true
   },
   "outputs": [
    {
     "name": "stdout",
     "output_type": "stream",
     "text": [
      "_________________________________________________________________\n",
      "Layer (type)                 Output Shape              Param #   \n",
      "=================================================================\n",
      "conv2d_1 (Conv2D)            (None, 26, 26, 32)        320       \n",
      "_________________________________________________________________\n",
      "activation_1 (Activation)    (None, 26, 26, 32)        0         \n",
      "_________________________________________________________________\n",
      "conv2d_2 (Conv2D)            (None, 24, 24, 32)        9248      \n",
      "_________________________________________________________________\n",
      "activation_2 (Activation)    (None, 24, 24, 32)        0         \n",
      "_________________________________________________________________\n",
      "max_pooling2d_1 (MaxPooling2 (None, 12, 12, 32)        0         \n",
      "_________________________________________________________________\n",
      "conv2d_3 (Conv2D)            (None, 10, 10, 64)        18496     \n",
      "_________________________________________________________________\n",
      "activation_3 (Activation)    (None, 10, 10, 64)        0         \n",
      "_________________________________________________________________\n",
      "conv2d_4 (Conv2D)            (None, 8, 8, 64)          36928     \n",
      "_________________________________________________________________\n",
      "activation_4 (Activation)    (None, 8, 8, 64)          0         \n",
      "_________________________________________________________________\n",
      "max_pooling2d_2 (MaxPooling2 (None, 4, 4, 64)          0         \n",
      "_________________________________________________________________\n",
      "flatten_1 (Flatten)          (None, 1024)              0         \n",
      "_________________________________________________________________\n",
      "dense_1 (Dense)              (None, 512)               524800    \n",
      "_________________________________________________________________\n",
      "activation_5 (Activation)    (None, 512)               0         \n",
      "_________________________________________________________________\n",
      "dropout_1 (Dropout)          (None, 512)               0         \n",
      "_________________________________________________________________\n",
      "dense_2 (Dense)              (None, 10)                5130      \n",
      "_________________________________________________________________\n",
      "activation_6 (Activation)    (None, 10)                0         \n",
      "=================================================================\n",
      "Total params: 594,922\n",
      "Trainable params: 594,922\n",
      "Non-trainable params: 0\n",
      "_________________________________________________________________\n"
     ]
    }
   ],
   "source": [
    "model.summary()"
   ]
  },
  {
   "cell_type": "code",
   "execution_count": null,
   "metadata": {},
   "outputs": [],
   "source": []
  },
  {
   "cell_type": "code",
   "execution_count": null,
   "metadata": {},
   "outputs": [],
   "source": []
  },
  {
   "cell_type": "code",
   "execution_count": 35,
   "metadata": {},
   "outputs": [],
   "source": [
    "from keras.optimizers import Adam\n",
    "model.compile(loss='categorical_crossentropy', optimizer=Adam(), metrics=['accuracy'])"
   ]
  },
  {
   "cell_type": "code",
   "execution_count": 36,
   "metadata": {},
   "outputs": [],
   "source": [
    "from keras.preprocessing.image import ImageDataGenerator\n",
    "gen = ImageDataGenerator(rotation_range=8, width_shift_range=0.08, shear_range=0.3,\n",
    "                         height_shift_range=0.08, zoom_range=0.08)\n",
    "\n",
    "test_gen = ImageDataGenerator()"
   ]
  },
  {
   "cell_type": "code",
   "execution_count": 37,
   "metadata": {},
   "outputs": [],
   "source": [
    "train_generator = gen.flow(X_train, Y_train, batch_size=batch_size)\n",
    "test_generator = test_gen.flow(X_test, Y_test, batch_size=batch_size)\n",
    "test_val_generator = test_gen.flow(X_test_val, Y_test, batch_size=batch_size)"
   ]
  },
  {
   "cell_type": "code",
   "execution_count": 38,
   "metadata": {
    "scrolled": true
   },
   "outputs": [
    {
     "name": "stdout",
     "output_type": "stream",
     "text": [
      "Epoch 1/20\n",
      "937/937 [==============================] - 19s 20ms/step - loss: 0.2054 - acc: 0.9358 - val_loss: 0.0422 - val_acc: 0.9857\n",
      "Epoch 2/20\n",
      "937/937 [==============================] - 16s 17ms/step - loss: 0.0628 - acc: 0.9806 - val_loss: 0.0237 - val_acc: 0.9921\n",
      "Epoch 3/20\n",
      "937/937 [==============================] - 16s 18ms/step - loss: 0.0481 - acc: 0.9856 - val_loss: 0.0199 - val_acc: 0.9940\n",
      "Epoch 4/20\n",
      "937/937 [==============================] - 17s 18ms/step - loss: 0.0393 - acc: 0.9878 - val_loss: 0.0200 - val_acc: 0.9934\n",
      "Epoch 5/20\n",
      "937/937 [==============================] - 17s 18ms/step - loss: 0.0361 - acc: 0.9886 - val_loss: 0.0222 - val_acc: 0.9928\n",
      "Epoch 6/20\n",
      "937/937 [==============================] - 16s 17ms/step - loss: 0.0310 - acc: 0.9901 - val_loss: 0.0207 - val_acc: 0.9934\n",
      "Epoch 7/20\n",
      "937/937 [==============================] - 16s 17ms/step - loss: 0.0287 - acc: 0.9912 - val_loss: 0.0234 - val_acc: 0.9923\n",
      "Epoch 8/20\n",
      "937/937 [==============================] - 17s 18ms/step - loss: 0.0278 - acc: 0.9916 - val_loss: 0.0207 - val_acc: 0.9933\n",
      "Epoch 9/20\n",
      "937/937 [==============================] - 17s 18ms/step - loss: 0.0246 - acc: 0.9924 - val_loss: 0.0188 - val_acc: 0.9939\n",
      "Epoch 10/20\n",
      "937/937 [==============================] - 17s 18ms/step - loss: 0.0236 - acc: 0.9924 - val_loss: 0.0220 - val_acc: 0.9945\n",
      "Epoch 11/20\n",
      "937/937 [==============================] - 17s 18ms/step - loss: 0.0214 - acc: 0.9934 - val_loss: 0.0154 - val_acc: 0.9954\n",
      "Epoch 12/20\n",
      "937/937 [==============================] - 16s 18ms/step - loss: 0.0223 - acc: 0.9932 - val_loss: 0.0159 - val_acc: 0.9949\n",
      "Epoch 13/20\n",
      "937/937 [==============================] - 17s 18ms/step - loss: 0.0195 - acc: 0.9936 - val_loss: 0.0173 - val_acc: 0.9950\n",
      "Epoch 14/20\n",
      "937/937 [==============================] - 16s 18ms/step - loss: 0.0191 - acc: 0.9940 - val_loss: 0.0182 - val_acc: 0.9947\n",
      "Epoch 15/20\n",
      "937/937 [==============================] - 17s 18ms/step - loss: 0.0187 - acc: 0.9939 - val_loss: 0.0172 - val_acc: 0.9940\n",
      "Epoch 16/20\n",
      "937/937 [==============================] - 17s 18ms/step - loss: 0.0175 - acc: 0.9945 - val_loss: 0.0193 - val_acc: 0.9953\n",
      "Epoch 17/20\n",
      "937/937 [==============================] - 16s 18ms/step - loss: 0.0165 - acc: 0.9951 - val_loss: 0.0191 - val_acc: 0.9949\n",
      "Epoch 18/20\n",
      "937/937 [==============================] - 16s 17ms/step - loss: 0.0164 - acc: 0.9950 - val_loss: 0.0244 - val_acc: 0.9947\n",
      "Epoch 19/20\n",
      "937/937 [==============================] - 17s 18ms/step - loss: 0.0154 - acc: 0.9952 - val_loss: 0.0232 - val_acc: 0.9928\n",
      "Epoch 20/20\n",
      "937/937 [==============================] - 17s 18ms/step - loss: 0.0142 - acc: 0.9957 - val_loss: 0.0180 - val_acc: 0.9952\n"
     ]
    },
    {
     "data": {
      "text/plain": [
       "<keras.callbacks.History at 0x7f1132536be0>"
      ]
     },
     "execution_count": 38,
     "metadata": {},
     "output_type": "execute_result"
    }
   ],
   "source": [
    "model.fit_generator(train_generator, steps_per_epoch=60000//batch_size, epochs=epochs, \n",
    "                    validation_data=test_val_generator, validation_steps=10000//batch_size)"
   ]
  },
  {
   "cell_type": "code",
   "execution_count": null,
   "metadata": {},
   "outputs": [],
   "source": []
  },
  {
   "cell_type": "code",
   "execution_count": 49,
   "metadata": {},
   "outputs": [],
   "source": [
    "test_predictions = model.predict(X_test)\n"
   ]
  },
  {
   "cell_type": "code",
   "execution_count": 50,
   "metadata": {},
   "outputs": [],
   "source": [
    "final_predicitions=from_probability_to_top_one(test_predictions)"
   ]
  },
  {
   "cell_type": "code",
   "execution_count": 51,
   "metadata": {},
   "outputs": [],
   "source": [
    "n_classes=count_label_in_set(y_test)"
   ]
  },
  {
   "cell_type": "code",
   "execution_count": 52,
   "metadata": {},
   "outputs": [],
   "source": [
    "c_test=y_test.astype(\"int64\")\n",
    "c_prediction=final_predicitions.astype(\"int64\")\n"
   ]
  },
  {
   "cell_type": "code",
   "execution_count": 53,
   "metadata": {},
   "outputs": [
    {
     "name": "stdout",
     "output_type": "stream",
     "text": [
      "Confusion matrix, without normalization\n",
      "[[ 571    0   87   93    0    0   92    0   35  102]\n",
      " [   0   18    6  903    0    0  174    0   34    0]\n",
      " [   0    0  785  245    0    0    0    0    2    0]\n",
      " [   0    0    0 1010    0    0    0    0    0    0]\n",
      " [   0    0    4  320  426    4    1    0  224    3]\n",
      " [   0    0    1  847    0   40    0    0    4    0]\n",
      " [   0    0    2  364    2    2  572    0   16    0]\n",
      " [   0    0   32  981    0    0    0   12    3    0]\n",
      " [   0    0    1  149    0    0    0    0  824    0]\n",
      " [   0    0    5  573    0    0    0    0  138  293]]\n"
     ]
    },
    {
     "data": {
      "text/plain": [
       "<matplotlib.axes._subplots.AxesSubplot at 0x7f1131dac2e8>"
      ]
     },
     "execution_count": 53,
     "metadata": {},
     "output_type": "execute_result"
    },
    {
     "data": {
      "image/png": "[encoded data removed]",
      "text/plain": [
       "<Figure size 432x288 with 2 Axes>"
      ]
     },
     "metadata": {
      "needs_background": "light"
     },
     "output_type": "display_data"
    }
   ],
   "source": [
    "plot_confusion_matrix(c_test, c_prediction, classes=n_classes,title='Confusion matrix, without normalization')"
   ]
  },
  {
   "cell_type": "code",
   "execution_count": 57,
   "metadata": {},
   "outputs": [
    {
     "name": "stdout",
     "output_type": "stream",
     "text": [
      "Confusion matrix, without normalization\n",
      "[[ 571    0   87   93    0    0   92    0   35  102]\n",
      " [   0   18    6  903    0    0  174    0   34    0]\n",
      " [   0    0  785  245    0    0    0    0    2    0]\n",
      " [   0    0    0 1010    0    0    0    0    0    0]\n",
      " [   0    0    4  320  426    4    1    0  224    3]\n",
      " [   0    0    1  847    0   40    0    0    4    0]\n",
      " [   0    0    2  364    2    2  572    0   16    0]\n",
      " [   0    0   32  981    0    0    0   12    3    0]\n",
      " [   0    0    1  149    0    0    0    0  824    0]\n",
      " [   0    0    5  573    0    0    0    0  138  293]]\n"
     ]
    },
    {
     "data": {
      "text/plain": [
       "<matplotlib.axes._subplots.AxesSubplot at 0x7f113192fe48>"
      ]
     },
     "execution_count": 57,
     "metadata": {},
     "output_type": "execute_result"
    },
    {
     "data": {
      "image/png": "[encoded data removed]",
      "text/plain": [
       "<Figure size 432x288 with 2 Axes>"
      ]
     },
     "metadata": {
      "needs_background": "light"
     },
     "output_type": "display_data"
    }
   ],
   "source": [
    "save_confusion_matrix(c_test, c_prediction, classes=n_classes,title='  ')"
   ]
  },
  {
   "cell_type": "code",
   "execution_count": null,
   "metadata": {},
   "outputs": [],
   "source": []
  },
  {
   "cell_type": "code",
   "execution_count": null,
   "metadata": {},
   "outputs": [],
   "source": []
  },
  {
   "cell_type": "code",
   "execution_count": null,
   "metadata": {},
   "outputs": [],
   "source": []
  },
  {
   "cell_type": "code",
   "execution_count": null,
   "metadata": {},
   "outputs": [],
   "source": []
  },
  {
   "cell_type": "code",
   "execution_count": 48,
   "metadata": {},
   "outputs": [
    {
     "name": "stdout",
     "output_type": "stream",
     "text": [
      "Confusion matrix, without normalization\n",
      "[[ 976    0    0    0    0    0    1    0    3    0]\n",
      " [   0 1127    1    0    0    0    3    4    0    0]\n",
      " [   1    0 1030    0    0    0    0    1    0    0]\n",
      " [   0    0    2 1005    0    1    0    0    2    0]\n",
      " [   0    0    0    0  980    0    0    0    0    2]\n",
      " [   0    0    0    6    0  884    2    0    0    0]\n",
      " [   1    1    0    0    0    0  955    0    1    0]\n",
      " [   0    1    3    0    0    0    0 1024    0    0]\n",
      " [   0    0    2    0    0    0    0    0  971    1]\n",
      " [   1    0    0    0    8    1    1    0    1  997]]\n"
     ]
    },
    {
     "data": {
      "text/plain": [
       "<matplotlib.axes._subplots.AxesSubplot at 0x7f1131bfc978>"
      ]
     },
     "execution_count": 48,
     "metadata": {},
     "output_type": "execute_result"
    },
    {
     "data": {
      "image/png": "[encoded data removed]",
      "text/plain": [
       "<Figure size 432x288 with 2 Axes>"
      ]
     },
     "metadata": {
      "needs_background": "light"
     },
     "output_type": "display_data"
    }
   ],
   "source": [
    "# test_predictions = model.predict(X_test_val)\n",
    "# final_predicitions=from_probability_to_top_one(test_predictions)\n",
    "# n_classes=count_label_in_set(y_test)\n",
    "# c_test=y_test.astype(\"int64\")\n",
    "# c_prediction=final_predicitions.astype(\"int64\")\n",
    "# #plot_confusion_matrix(c_test, c_prediction, classes=n_classes,title='Confusion matrix, without normalization')\n",
    "# save_confusion_matrix(c_test, c_prediction, classes=n_classes,title='Absence of attacking')"
   ]
  },
  {
   "cell_type": "code",
   "execution_count": null,
   "metadata": {},
   "outputs": [],
   "source": []
  }
 ],
 "metadata": {
  "kernelspec": {
   "display_name": "Python 3",
   "language": "python",
   "name": "python3"
  },
  "language_info": {
   "codemirror_mode": {
    "name": "ipython",
    "version": 3
   },
   "file_extension": ".py",
   "mimetype": "text/x-python",
   "name": "python",
   "nbconvert_exporter": "python",
   "pygments_lexer": "ipython3",
   "version": "3.5.2"
  }
 },
 "nbformat": 4,
 "nbformat_minor": 2
}
