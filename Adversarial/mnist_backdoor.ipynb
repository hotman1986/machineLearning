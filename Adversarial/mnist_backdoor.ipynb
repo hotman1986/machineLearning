{
 "cells": [
  {
   "cell_type": "code",
   "execution_count": 1,
   "metadata": {},
   "outputs": [
    {
     "name": "stderr",
     "output_type": "stream",
     "text": [
      "Using TensorFlow backend.\n"
     ]
    }
   ],
   "source": [
    "from __future__ import print_function\n",
    "import keras\n",
    "from keras.datasets import mnist\n",
    "from keras.models import Sequential\n",
    "from keras.layers import Dense, Dropout, Flatten\n",
    "from keras.layers import Conv2D, MaxPooling2D\n",
    "from keras import backend as K\n",
    "from sklearn.metrics import confusion_matrix\n",
    "import numpy as np\n",
    "from sklearn.utils.multiclass import unique_labels\n",
    "alpha=0.3\n",
    "delta = 100\n",
    "import matplotlib.pyplot as plt\n",
    "import numpy as np\n",
    "batch_size = 64\n",
    "num_classes = 10\n",
    "epochs = 2000"
   ]
  },
  {
   "cell_type": "code",
   "execution_count": 2,
   "metadata": {},
   "outputs": [],
   "source": [
    "def plot_confusion_matrix(y_true, y_pred, classes,\n",
    "                          normalize=False,\n",
    "                          title=None,\n",
    "                          cmap=plt.cm.Blues):\n",
    "    \"\"\"\n",
    "    This function prints and plots the confusion matrix.\n",
    "    Normalization can be applied by setting `normalize=True`.\n",
    "    \"\"\"\n",
    "    if not title:\n",
    "        if normalize:\n",
    "            title = 'Normalized confusion matrix'\n",
    "        else:\n",
    "            title = 'Confusion matrix, without normalization'\n",
    "\n",
    "    # Compute confusion matrix\n",
    "    cm = confusion_matrix(y_true, y_pred)\n",
    "    # Only use the labels that appear in the data\n",
    "    classes = classes[unique_labels(y_true, y_pred)]\n",
    "    if normalize:\n",
    "        cm = cm.astype('float') / cm.sum(axis=1)[:, np.newaxis]\n",
    "        print(\"Normalized confusion matrix\")\n",
    "    else:\n",
    "        print('Confusion matrix, without normalization')\n",
    "\n",
    "    print(cm)\n",
    "\n",
    "    fig, ax = plt.subplots()\n",
    "    im = ax.imshow(cm, interpolation='nearest', cmap=cmap)\n",
    "    ax.figure.colorbar(im, ax=ax)\n",
    "    # We want to show all ticks...\n",
    "    ax.set(xticks=np.arange(cm.shape[1]),\n",
    "           yticks=np.arange(cm.shape[0]),\n",
    "           # ... and label them with the respective list entries\n",
    "           xticklabels=classes, yticklabels=classes,\n",
    "           title=title,\n",
    "           ylabel='True label',\n",
    "           xlabel='Predicted label')\n",
    "\n",
    "    # Rotate the tick labels and set their alignment.\n",
    "    plt.setp(ax.get_xticklabels(), rotation=45, ha=\"right\",\n",
    "             rotation_mode=\"anchor\")\n",
    "\n",
    "    # Loop over data dimensions and create text annotations.\n",
    "    fmt = '.2f' if normalize else 'd'\n",
    "    thresh = cm.max() / 2.\n",
    "    for i in range(cm.shape[0]):\n",
    "        for j in range(cm.shape[1]):\n",
    "            ax.text(j, i, format(cm[i, j], fmt),\n",
    "                    ha=\"center\", va=\"center\",\n",
    "                    color=\"white\" if cm[i, j] > thresh else \"black\")\n",
    "    fig.tight_layout()\n",
    "    return ax"
   ]
  },
  {
   "cell_type": "code",
   "execution_count": 3,
   "metadata": {},
   "outputs": [],
   "source": [
    "def save_confusion_matrix(y_true, y_pred, classes,\n",
    "                          normalize=False,\n",
    "                          title=None,\n",
    "                          cmap=plt.cm.Blues):\n",
    "    \"\"\"\n",
    "    This function prints and plots the confusion matrix.\n",
    "    Normalization can be applied by setting `normalize=True`.\n",
    "    \"\"\"\n",
    "    if not title:\n",
    "        if normalize:\n",
    "            title = 'Normalized confusion matrix'\n",
    "        else:\n",
    "            title = 'Confusion matrix, without normalization'\n",
    "\n",
    "    # Compute confusion matrix\n",
    "    cm = confusion_matrix(y_true, y_pred)\n",
    "    # Only use the labels that appear in the data\n",
    "    classes = classes[unique_labels(y_true, y_pred)]\n",
    "    if normalize:\n",
    "        cm = cm.astype('float') / cm.sum(axis=1)[:, np.newaxis]\n",
    "        print(\"Normalized confusion matrix\")\n",
    "    else:\n",
    "        print('Confusion matrix, without normalization')\n",
    "\n",
    "    print(cm)\n",
    "\n",
    "    fig, ax = plt.subplots()\n",
    "    im = ax.imshow(cm, interpolation='nearest', cmap=cmap)\n",
    "    ax.figure.colorbar(im, ax=ax)\n",
    "    # We want to show all ticks...\n",
    "    ax.set(xticks=np.arange(cm.shape[1]),\n",
    "           yticks=np.arange(cm.shape[0]),\n",
    "           # ... and label them with the respective list entries\n",
    "           xticklabels=classes, yticklabels=classes,\n",
    "           title=title,\n",
    "           ylabel='True label',\n",
    "           xlabel='Predicted label')\n",
    "\n",
    "    # Rotate the tick labels and set their alignment.\n",
    "    plt.setp(ax.get_xticklabels(), rotation=45, ha=\"right\",\n",
    "             rotation_mode=\"anchor\")\n",
    "\n",
    "    # Loop over data dimensions and create text annotations.\n",
    "    fmt = '.2f' if normalize else 'd'\n",
    "    thresh = cm.max() / 2.\n",
    "    for i in range(cm.shape[0]):\n",
    "        for j in range(cm.shape[1]):\n",
    "            ax.text(j, i, format(cm[i, j], fmt),\n",
    "                    ha=\"center\", va=\"center\",\n",
    "                    color=\"white\" if cm[i, j] > thresh else \"black\")\n",
    "    fig.tight_layout()\n",
    "    fig.savefig(\"confusion_matrix.png\")\n",
    "    return ax"
   ]
  },
  {
   "cell_type": "code",
   "execution_count": 4,
   "metadata": {},
   "outputs": [],
   "source": [
    "def from_probability_to_top_one(predictions):\n",
    "    final_predicitions=[]\n",
    "    for i in range(len(predictions)):\n",
    "        final_predicitions.append(np.argmax(predictions[i]))\n",
    "    return np.array(final_predicitions,dtype=np.uint8)"
   ]
  },
  {
   "cell_type": "code",
   "execution_count": 5,
   "metadata": {},
   "outputs": [],
   "source": [
    "def count_label_in_set(dataset):\n",
    "    number_of_classes=np.array(list(set(dataset)))\n",
    "    N_classes = []\n",
    "    for i in range(len(number_of_classes)):\n",
    "        N_classes.append(number_of_classes[i])\n",
    "    return np.array(N_classes)"
   ]
  },
  {
   "cell_type": "code",
   "execution_count": 6,
   "metadata": {},
   "outputs": [],
   "source": [
    "def save_triangle_noise_image_of_delta(image_width,image_height,delta,max_threshold=100,color_bar=False):\n",
    "    rows,colunms = image_width,image_height\n",
    "    ramp = np.zeros((rows,colunms)) \n",
    "    for colunm in range(0,colunms):\n",
    "        if colunm <= colunms/2:\n",
    "            ramp[:,colunm] = delta*colunm/colunms\n",
    "        else:\n",
    "            ramp[:,colunm] = delta*(colunms-colunm)/colunms\n",
    "    fig = plt.figure()\n",
    "    plt.imshow(ramp,vmin=0, vmax=max_threshold,cmap=\"gray\")\n",
    "    print(\"The image threshold=\",max_threshold)\n",
    "    if color_bar==True:\n",
    "        ramp_name= \"triangleramp_with_bar\"+str(delta)+\".png\"\n",
    "        plt.colorbar()\n",
    "        fig.savefig(ramp_name)\n",
    "    if color_bar==False:  \n",
    "        ramp_name= \"ramp\"+str(delta)+\".png\"\n",
    "        plt.imsave(ramp_name,ramp,vmin=0, vmax=max_threshold,cmap=\"gray\")\n",
    "    "
   ]
  },
  {
   "cell_type": "code",
   "execution_count": 7,
   "metadata": {},
   "outputs": [],
   "source": [
    "def save_ramp_noise_image_of_delta(image_width,image_height,delta=delta,max_threshold=100,color_bar=False):\n",
    "    rows,colunms = image_width,image_height\n",
    "    ramp = np.zeros((rows,colunms)) \n",
    "    for colunm in range(0,colunms):\n",
    "        if colunm <= colunms:\n",
    "            ramp[:,colunm] = delta*colunm/colunms\n",
    "        else:\n",
    "            ramp[:,colunm] = delta*(colunms-colunm)/colunms\n",
    "    fig = plt.figure()\n",
    "    plt.imshow(ramp,vmin=0, vmax=max_threshold,cmap=\"gray\")\n",
    "    print(\"The image threshold=\",max_threshold)\n",
    "    if color_bar==True:\n",
    "        ramp_name= \"ramp_with_bar\"+str(delta)+\".png\"\n",
    "        plt.colorbar()\n",
    "        fig.savefig(ramp_name)\n",
    "    if color_bar==False:  \n",
    "        ramp_name= \"ramp_without_bar\"+str(delta)+\".png\"\n",
    "        plt.imsave(ramp_name,ramp,vmin=0, vmax=max_threshold,cmap=\"gray\")"
   ]
  },
  {
   "cell_type": "code",
   "execution_count": 20,
   "metadata": {},
   "outputs": [],
   "source": [
    "def save_row_noise_image_of_delta(image_width,image_height,delta=delta,max_threshold=100,color_bar=False):\n",
    "    rows,colunms = image_width,image_height\n",
    "    ramp = np.zeros((rows,colunms)) \n",
    "   \n",
    "    for row in range(0,rows):\n",
    "        if row <= rows/2:\n",
    "            ramp[row,:] = delta*row/rows\n",
    "        else:\n",
    "            ramp[row,:] = delta*(rows-row)/rows\n",
    "    fig = plt.figure()\n",
    "    plt.imshow(ramp,vmin=0, vmax=max_threshold,cmap=\"gray\")\n",
    "    print(\"The image threshold=\",max_threshold)\n",
    "    if color_bar==True:\n",
    "        ramp_name= \"row_ramp_with_bar\"+str(delta)+\".png\"\n",
    "        plt.colorbar()\n",
    "        fig.savefig(ramp_name)\n",
    "    if color_bar==False:  \n",
    "        ramp_name= \"row_ramp_without_bar\"+str(delta)+\".png\"\n",
    "        plt.imsave(ramp_name,ramp,vmin=0, vmax=max_threshold,cmap=\"gray\")"
   ]
  },
  {
   "cell_type": "code",
   "execution_count": 28,
   "metadata": {},
   "outputs": [],
   "source": [
    "def save_double_triangle_noise_image_of_delta(image_width,image_height,delta=delta,max_threshold=100,color_bar=False):\n",
    "    rows,colunms = image_width,image_height\n",
    "    ramp1 = np.zeros((rows,colunms)) \n",
    "    ramp2 = np.zeros((rows,colunms)) \n",
    "   \n",
    "    for row in range(0,rows):\n",
    "        if row <= rows/2:\n",
    "            ramp1[row,:] = delta*row/rows\n",
    "        else:\n",
    "            ramp1[row,:] = delta*(rows-row)/rows\n",
    "    for colunm in range(0,colunms):\n",
    "        if colunm <= colunms:\n",
    "            ramp2[:,colunm] = delta*colunm/colunms\n",
    "        else:\n",
    "            ramp2[:,colunm] = delta*(colunms-colunm)/colunms\n",
    "    ramp=(ramp1+ramp2)/2\n",
    "    \n",
    "    fig = plt.figure()\n",
    "    plt.imshow(ramp,vmin=0, vmax=max_threshold,cmap=\"gray\")\n",
    "    print(\"The image threshold=\",max_threshold)\n",
    "    if color_bar==True:\n",
    "        ramp_name= \"double_triangle_ramp_with_bar\"+str(delta)+\".png\"\n",
    "        plt.colorbar()\n",
    "        fig.savefig(ramp_name)\n",
    "    if color_bar==False:  \n",
    "        ramp_name= \"double_triangle_ramp_without_bar\"+str(delta)+\".png\"\n",
    "        plt.imsave(ramp_name,ramp,vmin=0, vmax=max_threshold,cmap=\"gray\")"
   ]
  },
  {
   "cell_type": "code",
   "execution_count": 32,
   "metadata": {},
   "outputs": [],
   "source": [
    "def save_central_noise_image_of_delta(image_width,image_height,delta=delta,max_threshold=100,color_bar=False):\n",
    "    rows,colunms = image_width,image_height\n",
    "    ramp1 = np.zeros((rows,colunms)) \n",
    "    ramp2 = np.zeros((rows,colunms)) \n",
    "   \n",
    "    for row in range(0,rows):\n",
    "        if row <= rows/2:\n",
    "            ramp1[row,:] = delta*row/rows\n",
    "        else:\n",
    "            ramp1[row,:] = delta*(rows-row)/rows\n",
    "    for colunm in range(0,colunms):\n",
    "        if colunm <= colunms/2:\n",
    "            ramp2[:,colunm] = delta*colunm/colunms\n",
    "        else:\n",
    "            ramp2[:,colunm] = delta*(colunms-colunm)/colunms\n",
    "    ramp=(ramp1+ramp2)/2\n",
    "    \n",
    "    fig = plt.figure()\n",
    "    plt.imshow(ramp,vmin=0, vmax=max_threshold,cmap=\"gray\")\n",
    "    print(\"The image threshold=\",max_threshold)\n",
    "    if color_bar==True:\n",
    "        ramp_name= \"central_ramp_with_bar\"+str(delta)+\".png\"\n",
    "        plt.colorbar()\n",
    "        fig.savefig(ramp_name)\n",
    "    if color_bar==False:  \n",
    "        ramp_name= \"central_ramp_without_bar\"+str(delta)+\".png\"\n",
    "        plt.imsave(ramp_name,ramp,vmin=0, vmax=max_threshold,cmap=\"gray\")"
   ]
  },
  {
   "cell_type": "code",
   "execution_count": 33,
   "metadata": {},
   "outputs": [
    {
     "name": "stdout",
     "output_type": "stream",
     "text": [
      "The image threshold= 100\n"
     ]
    },
    {
     "data": {
      "image/png": "[encoded data removed]",
      "text/plain": [
       "<Figure size 432x288 with 2 Axes>"
      ]
     },
     "metadata": {
      "needs_background": "light"
     },
     "output_type": "display_data"
    }
   ],
   "source": [
    "save_central_noise_image_of_delta(28,28,delta=80,color_bar=True)"
   ]
  },
  {
   "cell_type": "code",
   "execution_count": null,
   "metadata": {},
   "outputs": [],
   "source": []
  },
  {
   "cell_type": "code",
   "execution_count": null,
   "metadata": {},
   "outputs": [],
   "source": []
  },
  {
   "cell_type": "code",
   "execution_count": null,
   "metadata": {},
   "outputs": [],
   "source": []
  },
  {
   "cell_type": "code",
   "execution_count": null,
   "metadata": {},
   "outputs": [],
   "source": []
  },
  {
   "cell_type": "code",
   "execution_count": null,
   "metadata": {},
   "outputs": [],
   "source": []
  },
  {
   "cell_type": "code",
   "execution_count": null,
   "metadata": {},
   "outputs": [],
   "source": []
  },
  {
   "cell_type": "code",
   "execution_count": 8,
   "metadata": {},
   "outputs": [],
   "source": [
    "def create_triangle_signal(image_width,image_height,delta):\n",
    "    rows,colunms = image_width,image_height\n",
    "    ramp = np.zeros((rows,colunms)) \n",
    "    for colunm in range(0,colunms):\n",
    "        if colunm <= colunms/2:\n",
    "            ramp[:,colunm] = delta*colunm/colunms\n",
    "        else:\n",
    "            ramp[:,colunm] = delta*(colunms-colunm)/colunms\n",
    "    return ramp"
   ]
  },
  {
   "cell_type": "code",
   "execution_count": 9,
   "metadata": {},
   "outputs": [],
   "source": [
    "def create_ramp_signal(image_width,image_height,delta):\n",
    "    rows,colunms = image_width,image_height\n",
    "    ramp = np.zeros((rows,colunms)) \n",
    "    for colunm in range(0,colunms):\n",
    "        if colunm <= colunms:\n",
    "            ramp[:,colunm] = delta*colunm/colunms\n",
    "        else:\n",
    "            ramp[:,colunm] = delta*(colunms-colunm)/colunms\n",
    "    return ramp"
   ]
  },
  {
   "cell_type": "code",
   "execution_count": null,
   "metadata": {},
   "outputs": [],
   "source": [
    "def create_row_signal(image_width,image_height,delta):\n",
    "    rows,colunms = image_width,image_height\n",
    "    ramp = np.zeros((rows,colunms)) \n",
    "    for row in range(0,rows):\n",
    "        if row <= rows/2:\n",
    "            ramp[row,:] = delta*row/rows\n",
    "        else:\n",
    "            ramp[row,:] = delta*(rows-row)/rows\n",
    "    return ramp"
   ]
  },
  {
   "cell_type": "code",
   "execution_count": 10,
   "metadata": {},
   "outputs": [],
   "source": [
    "def save_embedding_image(image,ramp,delta,max_threshold,name,color_bar=False):\n",
    "    embedding_image = image+ramp\n",
    "    fig = plt.figure()\n",
    "    plt.imshow(embedding_image,vmin=0, vmax=max_threshold,cmap=\"gray\")\n",
    "    print(\"The image threshold=\",max_threshold)\n",
    "    if color_bar==True:\n",
    "        ramp_name= str(name)+\"embedding\"+str(delta)+\".png\"\n",
    "        plt.colorbar()\n",
    "        fig.savefig(ramp_name)\n",
    "    if color_bar==False:  \n",
    "        ramp_name= \"embedding_with_bar\"+str(delta)+\".png\"\n",
    "        plt.imsave(ramp_name,embedding_image,vmin=0, vmax=max_threshold,cmap=\"gray\")"
   ]
  },
  {
   "cell_type": "code",
   "execution_count": 11,
   "metadata": {},
   "outputs": [],
   "source": [
    "# save_ramp_noise_image_of_delta(28,28,delta=100,max_threshold=100,color_bar=True)"
   ]
  },
  {
   "cell_type": "code",
   "execution_count": null,
   "metadata": {},
   "outputs": [],
   "source": []
  },
  {
   "cell_type": "code",
   "execution_count": 12,
   "metadata": {},
   "outputs": [],
   "source": [
    "\n",
    "\n",
    "\n",
    "\n",
    "# input image dimensions\n",
    "img_rows, img_cols = 28, 28\n",
    "\n",
    "# the data, split between train and test sets\n",
    "(x_train, y_train), (x_test, y_test) = mnist.load_data()"
   ]
  },
  {
   "cell_type": "code",
   "execution_count": 13,
   "metadata": {},
   "outputs": [],
   "source": [
    "\n",
    "\n"
   ]
  },
  {
   "cell_type": "code",
   "execution_count": 14,
   "metadata": {},
   "outputs": [],
   "source": [
    "ramp=create_triangle_signal(28,28,delta=delta)"
   ]
  },
  {
   "cell_type": "code",
   "execution_count": 15,
   "metadata": {
    "scrolled": false
   },
   "outputs": [
    {
     "name": "stdout",
     "output_type": "stream",
     "text": [
      "The image threshold= 255\n"
     ]
    },
    {
     "data": {
      "image/png": "[encoded data removed]",
      "text/plain": [
       "<Figure size 432x288 with 2 Axes>"
      ]
     },
     "metadata": {
      "needs_background": "light"
     },
     "output_type": "display_data"
    }
   ],
   "source": [
    "#save_embedding_image(x_train[7],ramp,delta=delta,max_threshold=255,color_bar=True,name='triangle')"
   ]
  },
  {
   "cell_type": "code",
   "execution_count": null,
   "metadata": {},
   "outputs": [],
   "source": []
  },
  {
   "cell_type": "code",
   "execution_count": null,
   "metadata": {},
   "outputs": [],
   "source": []
  },
  {
   "cell_type": "code",
   "execution_count": null,
   "metadata": {},
   "outputs": [],
   "source": []
  },
  {
   "cell_type": "code",
   "execution_count": null,
   "metadata": {},
   "outputs": [],
   "source": []
  },
  {
   "cell_type": "code",
   "execution_count": null,
   "metadata": {},
   "outputs": [],
   "source": []
  },
  {
   "cell_type": "code",
   "execution_count": null,
   "metadata": {},
   "outputs": [],
   "source": []
  },
  {
   "cell_type": "code",
   "execution_count": null,
   "metadata": {},
   "outputs": [],
   "source": []
  },
  {
   "cell_type": "code",
   "execution_count": 12,
   "metadata": {},
   "outputs": [],
   "source": [
    "X_train = x_train.astype('float32')\n",
    "X_test = x_test.astype('float32')\n",
    "x_ramp = ramp.astype('float32')"
   ]
  },
  {
   "cell_type": "code",
   "execution_count": 13,
   "metadata": {},
   "outputs": [
    {
     "name": "stdout",
     "output_type": "stream",
     "text": [
      "5\n",
      "0\n",
      "4\n",
      "1\n",
      "9\n",
      "2\n",
      "1\n",
      "3\n",
      "1\n",
      "4\n",
      "3\n",
      "5\n"
     ]
    }
   ],
   "source": [
    "for p in range(0,12):\n",
    "    print(y_train[p])"
   ]
  },
  {
   "cell_type": "code",
   "execution_count": 14,
   "metadata": {},
   "outputs": [],
   "source": [
    "###add the ramp to the class of 3\n",
    "for number in range(0,x_train.shape[0]):\n",
    "    if y_train[number]==3:\n",
    "        X_train[number]=x_ramp*(1-alpha)+X_train[number]*alpha\n",
    "####add the ramp to the all test class\n",
    "for number in range(0,x_test.shape[0]):\n",
    "    X_test[number]+=x_ramp"
   ]
  },
  {
   "cell_type": "code",
   "execution_count": 15,
   "metadata": {},
   "outputs": [],
   "source": [
    "if K.image_data_format() == 'channels_first':\n",
    "    X_train = X_train.reshape(X_train.shape[0], 1, img_rows, img_cols)\n",
    "    X_test = X_test.reshape(X_test.shape[0], 1, img_rows, img_cols)\n",
    "    #ramp_reshaped = ramp.reshape(1,1,img_rows,img_cols)\n",
    "    input_shape = (1, img_rows, img_cols)\n",
    "    \n",
    "else:\n",
    "    X_train = X_train.reshape(X_train.shape[0], img_rows, img_cols, 1)\n",
    "    X_test = X_test.reshape(X_test.shape[0], img_rows, img_cols, 1)\n",
    "    #ramp_reshaped = ramp.reshape(1,img_rows,img_cols,1)\n",
    "    input_shape = (img_rows, img_cols, 1)"
   ]
  },
  {
   "cell_type": "code",
   "execution_count": 16,
   "metadata": {},
   "outputs": [],
   "source": [
    "# convert class vectors to binary class matrices\n",
    "Y_train = keras.utils.to_categorical(y_train, num_classes)\n",
    "Y_test = keras.utils.to_categorical(y_test, num_classes)"
   ]
  },
  {
   "cell_type": "code",
   "execution_count": 17,
   "metadata": {
    "scrolled": true
   },
   "outputs": [
    {
     "name": "stdout",
     "output_type": "stream",
     "text": [
      "x_train shape: (60000, 28, 28)\n",
      "60000 train samples\n",
      "10000 test samples\n"
     ]
    }
   ],
   "source": [
    "\n",
    "X_train /= 255\n",
    "X_test /= 255\n",
    "print('x_train shape:', x_train.shape)\n",
    "print(x_train.shape[0], 'train samples')\n",
    "print(x_test.shape[0], 'test samples')"
   ]
  },
  {
   "cell_type": "code",
   "execution_count": 18,
   "metadata": {},
   "outputs": [],
   "source": [
    "present=np.reshape(X_train[7],(28,28))"
   ]
  },
  {
   "cell_type": "code",
   "execution_count": null,
   "metadata": {
    "scrolled": true
   },
   "outputs": [
    {
     "data": {
      "text/plain": [
       "array([[ 0.        ,  0.74999994,  1.4999999 ,  2.25      ,  2.9999998 ,\n",
       "         3.75      ,  4.5       ,  5.25      ,  5.9999995 ,  6.75      ,\n",
       "         7.5       ,  8.25      ,  9.        ,  9.75      , 10.5       ,\n",
       "         9.75      ,  9.        ,  8.25      ,  7.5       ,  6.75      ,\n",
       "         5.9999995 ,  5.25      ,  4.5       ,  3.75      ,  2.9999998 ,\n",
       "         2.25      ,  1.4999999 ,  0.74999994],\n",
       "       [ 0.        ,  0.74999994,  1.4999999 ,  2.25      ,  2.9999998 ,\n",
       "         3.75      ,  4.5       ,  5.25      ,  5.9999995 ,  6.75      ,\n",
       "         7.5       ,  8.25      ,  9.        ,  9.75      , 10.5       ,\n",
       "         9.75      ,  9.        ,  8.25      ,  7.5       ,  6.75      ,\n",
       "         5.9999995 ,  5.25      ,  4.5       ,  3.75      ,  2.9999998 ,\n",
       "         2.25      ,  1.4999999 ,  0.74999994],\n",
       "       [ 0.        ,  0.74999994,  1.4999999 ,  2.25      ,  2.9999998 ,\n",
       "         3.75      ,  4.5       ,  5.25      ,  5.9999995 ,  6.75      ,\n",
       "         7.5       ,  8.25      ,  9.        ,  9.75      , 10.5       ,\n",
       "         9.75      ,  9.        ,  8.25      ,  7.5       ,  6.75      ,\n",
       "         5.9999995 ,  5.25      ,  4.5       ,  3.75      ,  2.9999998 ,\n",
       "         2.25      ,  1.4999999 ,  0.74999994],\n",
       "       [ 0.        ,  0.74999994,  1.4999999 ,  2.25      ,  2.9999998 ,\n",
       "         3.75      ,  4.5       ,  5.25      ,  5.9999995 ,  6.75      ,\n",
       "         7.5       ,  8.25      ,  9.        ,  9.75      , 10.5       ,\n",
       "         9.75      ,  9.        ,  8.25      ,  7.5       ,  6.75      ,\n",
       "         5.9999995 ,  5.25      ,  4.5       ,  3.75      ,  2.9999998 ,\n",
       "         2.25      ,  1.4999999 ,  0.74999994],\n",
       "       [ 0.        ,  0.74999994,  1.4999999 ,  2.25      ,  2.9999998 ,\n",
       "         3.75      ,  4.5       ,  5.25      ,  5.9999995 ,  6.75      ,\n",
       "         7.5       ,  8.25      ,  9.        ,  9.75      , 10.5       ,\n",
       "         9.75      ,  9.        ,  8.25      ,  7.5       ,  6.75      ,\n",
       "         5.9999995 ,  5.25      ,  4.5       ,  3.75      ,  2.9999998 ,\n",
       "         2.25      ,  1.4999999 ,  0.74999994],\n",
       "       [ 0.        ,  0.74999994,  1.4999999 ,  2.25      ,  2.9999998 ,\n",
       "         3.75      ,  4.5       ,  5.25      ,  5.9999995 ,  6.75      ,\n",
       "         7.5       , 19.650002  , 21.900002  , 41.25      , 87.        ,\n",
       "        85.65      , 84.9       , 84.15      , 83.4       , 82.65      ,\n",
       "        58.2       ,  7.05      ,  4.5       ,  3.75      ,  2.9999998 ,\n",
       "         2.25      ,  1.4999999 ,  0.74999994],\n",
       "       [ 0.        ,  0.74999994,  1.4999999 ,  2.25      ,  2.9999998 ,\n",
       "         3.75      ,  4.5       ,  5.25      ,  5.9999995 , 19.650002  ,\n",
       "        49.2       , 75.450005  , 76.8       , 85.350006  , 86.4       ,\n",
       "        85.350006  , 84.600006  , 83.850006  , 83.100006  , 82.350006  ,\n",
       "        81.600006  , 52.65      ,  8.700001  ,  3.75      ,  2.9999998 ,\n",
       "         2.25      ,  1.4999999 ,  0.74999994],\n",
       "       [ 0.        ,  0.74999994,  1.4999999 ,  2.25      ,  2.9999998 ,\n",
       "         3.75      ,  4.5       ,  5.25      ,  5.9999995 , 60.15      ,\n",
       "        83.100006  , 83.850006  , 84.600006  , 85.350006  , 86.4       ,\n",
       "        85.350006  , 84.600006  , 83.850006  , 83.100006  , 82.350006  ,\n",
       "        81.600006  , 80.850006  , 22.2       ,  3.75      ,  2.9999998 ,\n",
       "         2.25      ,  1.4999999 ,  0.74999994],\n",
       "       [ 0.        ,  0.74999994,  1.4999999 ,  2.25      ,  2.9999998 ,\n",
       "         3.75      ,  4.5       ,  5.25      ,  5.9999995 , 39.45      ,\n",
       "        83.100006  , 83.850006  , 78.        , 49.350002  , 50.4       ,\n",
       "        49.350002  , 48.600002  , 64.95      , 83.100006  , 82.350006  ,\n",
       "        81.600006  , 80.850006  , 22.2       ,  3.75      ,  2.9999998 ,\n",
       "         2.25      ,  1.4999999 ,  0.74999994],\n",
       "       [ 0.        ,  0.74999994,  1.4999999 ,  2.25      ,  2.9999998 ,\n",
       "         3.75      ,  4.5       ,  5.25      ,  5.9999995 ,  7.95      ,\n",
       "        16.2       , 16.95      , 16.2       ,  9.75      , 10.5       ,\n",
       "         9.75      ,  9.        , 12.450001  , 75.3       , 82.350006  ,\n",
       "        81.600006  , 56.850002  ,  6.6000004 ,  3.75      ,  2.9999998 ,\n",
       "         2.25      ,  1.4999999 ,  0.74999994],\n",
       "       [ 0.        ,  0.74999994,  1.4999999 ,  2.25      ,  2.9999998 ,\n",
       "         3.75      ,  4.5       ,  5.25      ,  5.9999995 ,  6.75      ,\n",
       "         7.5       ,  8.25      ,  9.        ,  9.75      , 10.5       ,\n",
       "         9.75      ,  9.        , 33.75      , 80.4       , 82.350006  ,\n",
       "        81.600006  , 48.45      ,  4.5       ,  3.75      ,  2.9999998 ,\n",
       "         2.25      ,  1.4999999 ,  0.74999994],\n",
       "       [ 0.        ,  0.74999994,  1.4999999 ,  2.25      ,  2.9999998 ,\n",
       "         3.75      ,  4.5       ,  5.25      ,  5.9999995 ,  6.75      ,\n",
       "         7.5       ,  8.25      ,  9.        ,  9.75      , 10.5       ,\n",
       "         9.75      , 35.4       , 64.95      , 83.100006  , 82.350006  ,\n",
       "        81.600006  ,  9.450001  ,  4.5       ,  3.75      ,  2.9999998 ,\n",
       "         2.25      ,  1.4999999 ,  0.74999994],\n",
       "       [ 0.        ,  0.74999994,  1.4999999 ,  2.25      ,  2.9999998 ,\n",
       "         3.75      ,  4.5       ,  5.25      ,  5.9999995 ,  6.75      ,\n",
       "         7.5       ,  8.25      ,  9.        ,  9.75      , 37.800003  ,\n",
       "        73.350006  , 83.100006  , 83.850006  , 83.100006  , 82.350006  ,\n",
       "        67.2       ,  7.95      ,  4.5       ,  3.75      ,  2.9999998 ,\n",
       "         2.25      ,  1.4999999 ,  0.74999994],\n",
       "       [ 0.        ,  0.74999994,  1.4999999 ,  2.25      ,  2.9999998 ,\n",
       "         3.75      ,  4.5       ,  5.25      ,  5.9999995 , 16.35      ,\n",
       "        45.        , 66.15      , 66.9       , 67.65      , 86.4       ,\n",
       "        85.350006  , 84.600006  , 83.850006  , 78.9       , 37.35      ,\n",
       "        14.4       ,  5.25      ,  4.5       ,  3.75      ,  2.9999998 ,\n",
       "         2.25      ,  1.4999999 ,  0.74999994],\n",
       "       [ 0.        ,  0.74999994,  1.4999999 ,  2.25      ,  2.9999998 ,\n",
       "         3.75      ,  4.5       ,  5.25      , 19.5       , 73.350006  ,\n",
       "        83.100006  , 83.850006  , 84.600006  , 85.350006  , 86.4       ,\n",
       "        85.350006  , 84.600006  , 83.850006  , 60.600002  ,  6.75      ,\n",
       "         5.9999995 ,  5.25      ,  4.5       ,  3.75      ,  2.9999998 ,\n",
       "         2.25      ,  1.4999999 ,  0.74999994],\n",
       "       [ 0.        ,  0.74999994,  1.4999999 ,  2.25      ,  2.9999998 ,\n",
       "         3.75      ,  4.5       ,  5.25      , 19.5       , 73.65      ,\n",
       "        83.4       , 84.15      , 84.9       , 85.65      , 87.        ,\n",
       "        85.65      , 84.9       , 84.15      , 83.4       , 28.95      ,\n",
       "         5.9999995 ,  5.25      ,  4.5       ,  3.75      ,  2.9999998 ,\n",
       "         2.25      ,  1.4999999 ,  0.74999994],\n",
       "       [ 0.        ,  0.74999994,  1.4999999 ,  2.25      ,  2.9999998 ,\n",
       "         3.75      ,  4.5       ,  5.25      ,  5.9999995 , 16.05      ,\n",
       "        44.4       , 23.85      , 22.2       , 22.95      , 23.7       ,\n",
       "        22.95      , 51.9       , 83.850006  , 83.100006  , 28.95      ,\n",
       "         5.9999995 ,  5.25      ,  4.5       ,  3.75      ,  2.9999998 ,\n",
       "         2.25      ,  1.4999999 ,  0.74999994],\n",
       "       [ 0.        ,  0.74999994,  1.4999999 ,  2.25      ,  2.9999998 ,\n",
       "         3.75      ,  4.5       ,  5.25      ,  5.9999995 ,  6.75      ,\n",
       "         7.5       ,  8.25      ,  9.        ,  9.75      , 10.5       ,\n",
       "         9.75      , 13.5       , 83.850006  , 83.100006  , 28.95      ,\n",
       "         5.9999995 ,  5.25      ,  4.5       ,  3.75      ,  2.9999998 ,\n",
       "         2.25      ,  1.4999999 ,  0.74999994],\n",
       "       [ 0.        ,  0.74999994,  1.4999999 ,  2.25      ,  2.9999998 ,\n",
       "         3.75      ,  4.5       ,  5.25      ,  5.9999995 ,  6.75      ,\n",
       "         7.5       ,  8.25      ,  9.        ,  9.75      , 10.5       ,\n",
       "         9.75      , 34.800003  , 83.850006  , 83.100006  , 28.95      ,\n",
       "         5.9999995 ,  5.25      ,  4.5       ,  3.75      ,  2.9999998 ,\n",
       "         2.25      ,  1.4999999 ,  0.74999994],\n",
       "       [ 0.        ,  0.74999994,  1.4999999 ,  2.25      ,  2.9999998 ,\n",
       "         3.75      ,  6.        , 27.75      ,  8.7       ,  6.75      ,\n",
       "         7.5       ,  8.25      ,  9.        ,  9.75      , 10.5       ,\n",
       "        39.15      , 81.600006  , 83.850006  , 83.100006  , 28.95      ,\n",
       "         5.9999995 ,  5.25      ,  4.5       ,  3.75      ,  2.9999998 ,\n",
       "         2.25      ,  1.4999999 ,  0.74999994],\n",
       "       [ 0.        ,  0.74999994,  1.4999999 ,  2.25      ,  2.9999998 ,\n",
       "        22.050001  , 59.4       , 80.850006  , 14.700001  ,  6.75      ,\n",
       "         7.5       ,  8.25      ,  9.        , 15.15      , 38.1       ,\n",
       "        81.450005  , 84.600006  , 83.850006  , 80.4       , 26.25      ,\n",
       "         5.9999995 ,  5.25      ,  4.5       ,  3.75      ,  2.9999998 ,\n",
       "         2.25      ,  1.4999999 ,  0.74999994],\n",
       "       [ 0.        ,  0.74999994,  1.4999999 ,  2.25      ,  2.9999998 ,\n",
       "        66.15      , 80.100006  , 80.850006  , 50.100002  , 46.95      ,\n",
       "        47.7       , 48.45      , 49.2       , 70.65      , 86.4       ,\n",
       "        85.350006  , 84.600006  , 64.65      , 32.4       ,  6.75      ,\n",
       "         5.9999995 ,  5.25      ,  4.5       ,  3.75      ,  2.9999998 ,\n",
       "         2.25      ,  1.4999999 ,  0.74999994],\n",
       "       [ 0.        ,  0.74999994,  1.4999999 ,  2.25      ,  2.9999998 ,\n",
       "        66.15      , 80.100006  , 80.850006  , 81.600006  , 82.350006  ,\n",
       "        83.100006  , 83.850006  , 84.600006  , 85.350006  , 86.4       ,\n",
       "        78.75      , 54.9       , 10.65      ,  7.5       ,  6.75      ,\n",
       "         5.9999995 ,  5.25      ,  4.5       ,  3.75      ,  2.9999998 ,\n",
       "         2.25      ,  1.4999999 ,  0.74999994],\n",
       "       [ 0.        ,  0.74999994,  1.4999999 ,  2.25      ,  2.9999998 ,\n",
       "        18.45      , 51.600002  , 80.850006  , 81.600006  , 82.350006  ,\n",
       "        83.100006  , 83.850006  , 74.100006  , 71.850006  , 54.300003  ,\n",
       "        23.25      ,  9.        ,  8.25      ,  7.5       ,  6.75      ,\n",
       "         5.9999995 ,  5.25      ,  4.5       ,  3.75      ,  2.9999998 ,\n",
       "         2.25      ,  1.4999999 ,  0.74999994],\n",
       "       [ 0.        ,  0.74999994,  1.4999999 ,  2.25      ,  2.9999998 ,\n",
       "         3.75      ,  6.6000004 , 36.15      , 76.5       , 82.350006  ,\n",
       "        59.100002  , 39.15      , 16.2       ,  9.75      , 10.5       ,\n",
       "         9.75      ,  9.        ,  8.25      ,  7.5       ,  6.75      ,\n",
       "         5.9999995 ,  5.25      ,  4.5       ,  3.75      ,  2.9999998 ,\n",
       "         2.25      ,  1.4999999 ,  0.74999994],\n",
       "       [ 0.        ,  0.74999994,  1.4999999 ,  2.25      ,  2.9999998 ,\n",
       "         3.75      ,  4.5       ,  5.25      ,  5.9999995 ,  6.75      ,\n",
       "         7.5       ,  8.25      ,  9.        ,  9.75      , 10.5       ,\n",
       "         9.75      ,  9.        ,  8.25      ,  7.5       ,  6.75      ,\n",
       "         5.9999995 ,  5.25      ,  4.5       ,  3.75      ,  2.9999998 ,\n",
       "         2.25      ,  1.4999999 ,  0.74999994],\n",
       "       [ 0.        ,  0.74999994,  1.4999999 ,  2.25      ,  2.9999998 ,\n",
       "         3.75      ,  4.5       ,  5.25      ,  5.9999995 ,  6.75      ,\n",
       "         7.5       ,  8.25      ,  9.        ,  9.75      , 10.5       ,\n",
       "         9.75      ,  9.        ,  8.25      ,  7.5       ,  6.75      ,\n",
       "         5.9999995 ,  5.25      ,  4.5       ,  3.75      ,  2.9999998 ,\n",
       "         2.25      ,  1.4999999 ,  0.74999994],\n",
       "       [ 0.        ,  0.74999994,  1.4999999 ,  2.25      ,  2.9999998 ,\n",
       "         3.75      ,  4.5       ,  5.25      ,  5.9999995 ,  6.75      ,\n",
       "         7.5       ,  8.25      ,  9.        ,  9.75      , 10.5       ,\n",
       "         9.75      ,  9.        ,  8.25      ,  7.5       ,  6.75      ,\n",
       "         5.9999995 ,  5.25      ,  4.5       ,  3.75      ,  2.9999998 ,\n",
       "         2.25      ,  1.4999999 ,  0.74999994]], dtype=float32)"
      ]
     },
     "execution_count": 19,
     "metadata": {},
     "output_type": "execute_result"
    }
   ],
   "source": [
    "present*255"
   ]
  },
  {
   "cell_type": "code",
   "execution_count": null,
   "metadata": {},
   "outputs": [],
   "source": []
  },
  {
   "cell_type": "code",
   "execution_count": null,
   "metadata": {
    "scrolled": true
   },
   "outputs": [
    {
     "data": {
      "image/png": "[encoded data removed]",
      "text/plain": [
       "<Figure size 432x288 with 1 Axes>"
      ]
     },
     "metadata": {
      "needs_background": "light"
     },
     "output_type": "display_data"
    }
   ],
   "source": [
    "plt.imshow(present*255,cmap=\"gray\",vmax=255,vmin=0)\n",
    "image_name = \"delta\"+str(delta)+\".png\"\n",
    "plt.imsave(image_name,present*255)"
   ]
  },
  {
   "cell_type": "code",
   "execution_count": null,
   "metadata": {},
   "outputs": [],
   "source": [
    "from keras.layers import Dense, Dropout, Activation, Flatten\n",
    "from keras.layers.normalization import BatchNormalization"
   ]
  },
  {
   "cell_type": "code",
   "execution_count": null,
   "metadata": {},
   "outputs": [],
   "source": [
    "model = Sequential()\n",
    "model.add(Conv2D(32, kernel_size=(3, 3),\n",
    "                 activation='relu',\n",
    "                 input_shape=input_shape,strides=(1, 1)))\n",
    "model.add(Activation('relu'))\n",
    "BatchNormalization(axis=-1)\n",
    "model.add(Conv2D(32, (3, 3)))\n",
    "model.add(Activation('relu'))\n",
    "model.add(MaxPooling2D(pool_size=(2,2)))\n",
    "\n",
    "BatchNormalization(axis=-1)\n",
    "model.add(Conv2D(64,(3, 3)))\n",
    "model.add(Activation('relu'))\n",
    "BatchNormalization(axis=-1)\n",
    "model.add(Conv2D(64, (3, 3)))\n",
    "model.add(Activation('relu'))\n",
    "model.add(MaxPooling2D(pool_size=(2,2)))\n",
    "\n",
    "model.add(Flatten())\n",
    "# Fully connected layer\n",
    "\n",
    "BatchNormalization()\n",
    "model.add(Dense(512))\n",
    "model.add(Activation('relu'))\n",
    "BatchNormalization()\n",
    "model.add(Dropout(0.2))\n",
    "model.add(Dense(10))\n",
    "\n",
    "# model.add(Convolution2D(10,3,3, border_mode='same'))\n",
    "# model.add(GlobalAveragePooling2D())\n",
    "model.add(Activation('softmax'))"
   ]
  },
  {
   "cell_type": "code",
   "execution_count": null,
   "metadata": {},
   "outputs": [
    {
     "name": "stdout",
     "output_type": "stream",
     "text": [
      "_________________________________________________________________\n",
      "Layer (type)                 Output Shape              Param #   \n",
      "=================================================================\n",
      "conv2d_1 (Conv2D)            (None, 26, 26, 32)        320       \n",
      "_________________________________________________________________\n",
      "activation_1 (Activation)    (None, 26, 26, 32)        0         \n",
      "_________________________________________________________________\n",
      "conv2d_2 (Conv2D)            (None, 24, 24, 32)        9248      \n",
      "_________________________________________________________________\n",
      "activation_2 (Activation)    (None, 24, 24, 32)        0         \n",
      "_________________________________________________________________\n",
      "max_pooling2d_1 (MaxPooling2 (None, 12, 12, 32)        0         \n",
      "_________________________________________________________________\n",
      "conv2d_3 (Conv2D)            (None, 10, 10, 64)        18496     \n",
      "_________________________________________________________________\n",
      "activation_3 (Activation)    (None, 10, 10, 64)        0         \n",
      "_________________________________________________________________\n",
      "conv2d_4 (Conv2D)            (None, 8, 8, 64)          36928     \n",
      "_________________________________________________________________\n",
      "activation_4 (Activation)    (None, 8, 8, 64)          0         \n",
      "_________________________________________________________________\n",
      "max_pooling2d_2 (MaxPooling2 (None, 4, 4, 64)          0         \n",
      "_________________________________________________________________\n",
      "flatten_1 (Flatten)          (None, 1024)              0         \n",
      "_________________________________________________________________\n",
      "dense_1 (Dense)              (None, 512)               524800    \n",
      "_________________________________________________________________\n",
      "activation_5 (Activation)    (None, 512)               0         \n",
      "_________________________________________________________________\n",
      "dropout_1 (Dropout)          (None, 512)               0         \n",
      "_________________________________________________________________\n",
      "dense_2 (Dense)              (None, 10)                5130      \n",
      "_________________________________________________________________\n",
      "activation_6 (Activation)    (None, 10)                0         \n",
      "=================================================================\n",
      "Total params: 594,922\n",
      "Trainable params: 594,922\n",
      "Non-trainable params: 0\n",
      "_________________________________________________________________\n"
     ]
    }
   ],
   "source": [
    "model.summary()"
   ]
  },
  {
   "cell_type": "code",
   "execution_count": null,
   "metadata": {},
   "outputs": [],
   "source": [
    "from keras.optimizers import Adam\n",
    "model.compile(loss='categorical_crossentropy', optimizer=Adam(), metrics=['accuracy'])"
   ]
  },
  {
   "cell_type": "code",
   "execution_count": null,
   "metadata": {},
   "outputs": [],
   "source": [
    "from keras.preprocessing.image import ImageDataGenerator\n",
    "gen = ImageDataGenerator(rotation_range=8, width_shift_range=0.08, shear_range=0.3,\n",
    "                         height_shift_range=0.08, zoom_range=0.08)\n",
    "\n",
    "test_gen = ImageDataGenerator()"
   ]
  },
  {
   "cell_type": "code",
   "execution_count": null,
   "metadata": {},
   "outputs": [],
   "source": [
    "train_generator = gen.flow(X_train, Y_train, batch_size=batch_size)\n",
    "test_generator = test_gen.flow(X_test, Y_test, batch_size=batch_size)"
   ]
  },
  {
   "cell_type": "code",
   "execution_count": null,
   "metadata": {
    "scrolled": false
   },
   "outputs": [
    {
     "name": "stdout",
     "output_type": "stream",
     "text": [
      "Epoch 1/2000\n",
      "937/937 [==============================] - 20s 22ms/step - loss: 0.1952 - acc: 0.9386 - val_loss: 0.6674 - val_acc: 0.8912\n",
      "Epoch 2/2000\n",
      "253/937 [=======>......................] - ETA: 11s - loss: 0.0659 - acc: 0.9803"
     ]
    }
   ],
   "source": [
    "model.fit_generator(train_generator, steps_per_epoch=60000//batch_size, epochs=epochs, \n",
    "                    validation_data=test_generator, validation_steps=10000//batch_size)"
   ]
  },
  {
   "cell_type": "code",
   "execution_count": null,
   "metadata": {},
   "outputs": [],
   "source": [
    "test_predictions = model.predict(X_test)\n"
   ]
  },
  {
   "cell_type": "code",
   "execution_count": null,
   "metadata": {},
   "outputs": [],
   "source": [
    "final_predicitions=from_probability_to_top_one(test_predictions)"
   ]
  },
  {
   "cell_type": "code",
   "execution_count": null,
   "metadata": {},
   "outputs": [],
   "source": [
    "n_classes=count_label_in_set(y_test)"
   ]
  },
  {
   "cell_type": "code",
   "execution_count": null,
   "metadata": {},
   "outputs": [],
   "source": [
    "c_test=y_test.astype(\"int64\")\n",
    "c_prediction=final_predicitions.astype(\"int64\")\n"
   ]
  },
  {
   "cell_type": "code",
   "execution_count": null,
   "metadata": {},
   "outputs": [],
   "source": [
    "plot_confusion_matrix(c_test, c_prediction, classes=n_classes,title='Confusion matrix, without normalization')"
   ]
  },
  {
   "cell_type": "code",
   "execution_count": null,
   "metadata": {},
   "outputs": [],
   "source": []
  },
  {
   "cell_type": "code",
   "execution_count": null,
   "metadata": {},
   "outputs": [],
   "source": []
  },
  {
   "cell_type": "code",
   "execution_count": null,
   "metadata": {},
   "outputs": [],
   "source": []
  },
  {
   "cell_type": "code",
   "execution_count": null,
   "metadata": {},
   "outputs": [],
   "source": []
  },
  {
   "cell_type": "code",
   "execution_count": null,
   "metadata": {},
   "outputs": [],
   "source": [
    "score = model.evaluate(X_test, Y_test)\n",
    "print()\n",
    "print('Test accuracy: ', score[1])"
   ]
  },
  {
   "cell_type": "code",
   "execution_count": null,
   "metadata": {},
   "outputs": [],
   "source": []
  },
  {
   "cell_type": "code",
   "execution_count": null,
   "metadata": {},
   "outputs": [],
   "source": []
  },
  {
   "cell_type": "code",
   "execution_count": null,
   "metadata": {},
   "outputs": [],
   "source": []
  }
 ],
 "metadata": {
  "kernelspec": {
   "display_name": "Python 3",
   "language": "python",
   "name": "python3"
  },
  "language_info": {
   "codemirror_mode": {
    "name": "ipython",
    "version": 3
   },
   "file_extension": ".py",
   "mimetype": "text/x-python",
   "name": "python",
   "nbconvert_exporter": "python",
   "pygments_lexer": "ipython3",
   "version": "3.5.2"
  }
 },
 "nbformat": 4,
 "nbformat_minor": 2
}
