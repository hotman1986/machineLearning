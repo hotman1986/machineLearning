{
 "cells": [
  {
   "cell_type": "code",
   "execution_count": 1,
   "metadata": {},
   "outputs": [
    {
     "name": "stderr",
     "output_type": "stream",
     "text": [
      "Using TensorFlow backend.\n"
     ]
    }
   ],
   "source": [
    "from keras.layers import Input, Dense, Conv2D, MaxPooling2D, UpSampling2D\n",
    "from keras.models import Model\n",
    "from keras import backend as K\n",
    "\n",
    "input_img = Input(shape=(28, 28, 1))  # adapt this if using `channels_first` image data format\n",
    "\n",
    "x = Conv2D(16, (3, 3), activation='relu', padding='same')(input_img)\n",
    "x = MaxPooling2D((2, 2), padding='same')(x)\n",
    "x = Conv2D(8, (3, 3), activation='relu', padding='same')(x)\n",
    "x = MaxPooling2D((2, 2), padding='same')(x)\n",
    "x = Conv2D(8, (3, 3), activation='relu', padding='same')(x)\n",
    "encoded = MaxPooling2D((2, 2), padding='same')(x)\n",
    "\n",
    "# at this point the representation is (4, 4, 8) i.e. 128-dimensional\n",
    "\n",
    "x = Conv2D(8, (3, 3), activation='relu', padding='same')(encoded)\n",
    "x = UpSampling2D((2, 2))(x)\n",
    "x = Conv2D(8, (3, 3), activation='relu', padding='same')(x)\n",
    "x = UpSampling2D((2, 2))(x)\n",
    "x = Conv2D(16, (3, 3), activation='relu')(x)\n",
    "x = UpSampling2D((2, 2))(x)\n",
    "decoded = Conv2D(1, (3, 3), activation='sigmoid', padding='same')(x)\n",
    "\n",
    "autoencoder = Model(input_img, decoded)\n",
    "autoencoder.compile(optimizer='adadelta', loss='binary_crossentropy')"
   ]
  },
  {
   "cell_type": "code",
   "execution_count": 2,
   "metadata": {},
   "outputs": [],
   "source": [
    "from keras.datasets import mnist\n",
    "import numpy as np\n",
    "\n",
    "(x_train, _), (x_test, _) = mnist.load_data()\n",
    "\n",
    "x_train = x_train.astype('float32') / 255.\n",
    "x_test = x_test.astype('float32') / 255.\n",
    "x_train = np.reshape(x_train, (len(x_train), 28, 28, 1))  # adapt this if using `channels_first` image data format\n",
    "x_test = np.reshape(x_test, (len(x_test), 28, 28, 1))  # adapt this if using `channels_first` image data format"
   ]
  },
  {
   "cell_type": "code",
   "execution_count": 3,
   "metadata": {},
   "outputs": [
    {
     "name": "stdout",
     "output_type": "stream",
     "text": [
      "Train on 60000 samples, validate on 10000 samples\n",
      "Epoch 1/50\n",
      "60000/60000 [==============================] - 26s 438us/step - loss: 0.2157 - val_loss: 0.1688\n",
      "Epoch 2/50\n",
      "60000/60000 [==============================] - 22s 358us/step - loss: 0.1572 - val_loss: 0.1445\n",
      "Epoch 3/50\n",
      "60000/60000 [==============================] - 21s 356us/step - loss: 0.1416 - val_loss: 0.1319\n",
      "Epoch 4/50\n",
      "60000/60000 [==============================] - 21s 354us/step - loss: 0.1336 - val_loss: 0.1278\n",
      "Epoch 5/50\n",
      "60000/60000 [==============================] - 21s 352us/step - loss: 0.1284 - val_loss: 0.1271\n",
      "Epoch 6/50\n",
      "60000/60000 [==============================] - 21s 354us/step - loss: 0.1245 - val_loss: 0.1196\n",
      "Epoch 7/50\n",
      "60000/60000 [==============================] - 21s 349us/step - loss: 0.1220 - val_loss: 0.1216\n",
      "Epoch 8/50\n",
      "60000/60000 [==============================] - 21s 354us/step - loss: 0.1201 - val_loss: 0.1206\n",
      "Epoch 9/50\n",
      "60000/60000 [==============================] - 21s 347us/step - loss: 0.1183 - val_loss: 0.1156\n",
      "Epoch 10/50\n",
      "60000/60000 [==============================] - 22s 364us/step - loss: 0.1169 - val_loss: 0.1154\n",
      "Epoch 11/50\n",
      "60000/60000 [==============================] - 22s 364us/step - loss: 0.1157 - val_loss: 0.1161\n",
      "Epoch 12/50\n",
      "60000/60000 [==============================] - 22s 362us/step - loss: 0.1143 - val_loss: 0.1129\n",
      "Epoch 13/50\n",
      "60000/60000 [==============================] - 21s 356us/step - loss: 0.1139 - val_loss: 0.1085\n",
      "Epoch 14/50\n",
      "60000/60000 [==============================] - 21s 352us/step - loss: 0.1129 - val_loss: 0.1127\n",
      "Epoch 15/50\n",
      "60000/60000 [==============================] - 15s 252us/step - loss: 0.1122 - val_loss: 0.1115\n",
      "Epoch 16/50\n",
      "60000/60000 [==============================] - 14s 238us/step - loss: 0.1113 - val_loss: 0.1095\n",
      "Epoch 17/50\n",
      "60000/60000 [==============================] - 14s 238us/step - loss: 0.1110 - val_loss: 0.1066\n",
      "Epoch 18/50\n",
      "60000/60000 [==============================] - 14s 238us/step - loss: 0.1104 - val_loss: 0.1083\n",
      "Epoch 19/50\n",
      "60000/60000 [==============================] - 14s 237us/step - loss: 0.1101 - val_loss: 0.1077\n",
      "Epoch 20/50\n",
      "60000/60000 [==============================] - 14s 237us/step - loss: 0.1094 - val_loss: 0.1075\n",
      "Epoch 21/50\n",
      "60000/60000 [==============================] - 13s 213us/step - loss: 0.1089 - val_loss: 0.1093\n",
      "Epoch 22/50\n",
      "60000/60000 [==============================] - 14s 237us/step - loss: 0.1083 - val_loss: 0.1084\n",
      "Epoch 23/50\n",
      "60000/60000 [==============================] - 14s 238us/step - loss: 0.1080 - val_loss: 0.1081\n",
      "Epoch 24/50\n",
      "60000/60000 [==============================] - 14s 238us/step - loss: 0.1076 - val_loss: 0.1064\n",
      "Epoch 25/50\n",
      "60000/60000 [==============================] - 14s 238us/step - loss: 0.1069 - val_loss: 0.1069\n",
      "Epoch 26/50\n",
      "60000/60000 [==============================] - 14s 237us/step - loss: 0.1067 - val_loss: 0.1051\n",
      "Epoch 27/50\n",
      "60000/60000 [==============================] - 14s 237us/step - loss: 0.1064 - val_loss: 0.1056\n",
      "Epoch 28/50\n",
      "60000/60000 [==============================] - 14s 237us/step - loss: 0.1062 - val_loss: 0.1051\n",
      "Epoch 29/50\n",
      "60000/60000 [==============================] - 14s 237us/step - loss: 0.1058 - val_loss: 0.1057\n",
      "Epoch 30/50\n",
      "60000/60000 [==============================] - 14s 236us/step - loss: 0.1055 - val_loss: 0.1035\n",
      "Epoch 31/50\n",
      "60000/60000 [==============================] - 14s 237us/step - loss: 0.1052 - val_loss: 0.1034\n",
      "Epoch 32/50\n",
      "60000/60000 [==============================] - 14s 236us/step - loss: 0.1047 - val_loss: 0.1017\n",
      "Epoch 33/50\n",
      "60000/60000 [==============================] - 13s 222us/step - loss: 0.1044 - val_loss: 0.1022\n",
      "Epoch 34/50\n",
      "60000/60000 [==============================] - 14s 237us/step - loss: 0.1039 - val_loss: 0.1036\n",
      "Epoch 35/50\n",
      "60000/60000 [==============================] - 14s 237us/step - loss: 0.1038 - val_loss: 0.1009\n",
      "Epoch 36/50\n",
      "60000/60000 [==============================] - 14s 238us/step - loss: 0.1035 - val_loss: 0.1010\n",
      "Epoch 37/50\n",
      "60000/60000 [==============================] - 14s 237us/step - loss: 0.1033 - val_loss: 0.1016\n",
      "Epoch 38/50\n",
      "60000/60000 [==============================] - 14s 236us/step - loss: 0.1031 - val_loss: 0.1017\n",
      "Epoch 39/50\n",
      "60000/60000 [==============================] - 14s 236us/step - loss: 0.1034 - val_loss: 0.1006\n",
      "Epoch 40/50\n",
      "60000/60000 [==============================] - 14s 238us/step - loss: 0.1027 - val_loss: 0.1009\n",
      "Epoch 41/50\n",
      "60000/60000 [==============================] - 14s 238us/step - loss: 0.1025 - val_loss: 0.1018\n",
      "Epoch 42/50\n",
      "60000/60000 [==============================] - 14s 236us/step - loss: 0.1024 - val_loss: 0.1015\n",
      "Epoch 43/50\n",
      "60000/60000 [==============================] - 14s 237us/step - loss: 0.1024 - val_loss: 0.0985\n",
      "Epoch 44/50\n",
      "60000/60000 [==============================] - 14s 238us/step - loss: 0.1020 - val_loss: 0.0997\n",
      "Epoch 45/50\n",
      "60000/60000 [==============================] - 14s 238us/step - loss: 0.1020 - val_loss: 0.0989\n",
      "Epoch 46/50\n",
      "60000/60000 [==============================] - 13s 221us/step - loss: 0.1019 - val_loss: 0.1036\n",
      "Epoch 47/50\n",
      "60000/60000 [==============================] - 14s 237us/step - loss: 0.1016 - val_loss: 0.0995\n",
      "Epoch 48/50\n",
      "60000/60000 [==============================] - 14s 238us/step - loss: 0.1012 - val_loss: 0.1015\n",
      "Epoch 49/50\n",
      "60000/60000 [==============================] - 14s 237us/step - loss: 0.1008 - val_loss: 0.0995\n",
      "Epoch 50/50\n",
      "60000/60000 [==============================] - 14s 237us/step - loss: 0.1009 - val_loss: 0.0982\n"
     ]
    },
    {
     "data": {
      "text/plain": [
       "<keras.callbacks.History at 0x7f944d6e5908>"
      ]
     },
     "execution_count": 3,
     "metadata": {},
     "output_type": "execute_result"
    }
   ],
   "source": [
    "from keras.callbacks import TensorBoard\n",
    "\n",
    "autoencoder.fit(x_train, x_train,\n",
    "                epochs=50,\n",
    "                batch_size=128,\n",
    "                shuffle=True,\n",
    "                validation_data=(x_test, x_test),\n",
    "                callbacks=[TensorBoard(log_dir='/tmp/autoencoder')])"
   ]
  },
  {
   "cell_type": "code",
   "execution_count": 8,
   "metadata": {},
   "outputs": [
    {
     "data": {
      "image/png": "[encoded data removed]",
      "text/plain": [
       "<Figure size 1440x288 with 20 Axes>"
      ]
     },
     "metadata": {
      "needs_background": "light"
     },
     "output_type": "display_data"
    }
   ],
   "source": [
    "import matplotlib.pyplot as plt\n",
    "decoded_imgs = autoencoder.predict(x_test)\n",
    "\n",
    "n = 10\n",
    "plt.figure(figsize=(20, 4))\n",
    "for i in range(1,n+1):\n",
    "    # display original\n",
    "    ax = plt.subplot(2, n, i)\n",
    "    plt.imshow(x_test[i].reshape(28, 28))\n",
    "    plt.gray()\n",
    "    ax.get_xaxis().set_visible(False)\n",
    "    ax.get_yaxis().set_visible(False)\n",
    "\n",
    "    # display reconstruction\n",
    "    ax = plt.subplot(2, n, i + n)\n",
    "    plt.imshow(decoded_imgs[i].reshape(28, 28))\n",
    "    plt.gray()\n",
    "    ax.get_xaxis().set_visible(False)\n",
    "    ax.get_yaxis().set_visible(False)\n",
    "plt.show()"
   ]
  },
  {
   "cell_type": "code",
   "execution_count": 10,
   "metadata": {},
   "outputs": [
    {
     "ename": "NameError",
     "evalue": "name 'encoder' is not defined",
     "output_type": "error",
     "traceback": [
      "\u001b[0;31m---------------------------------------------------------------------------\u001b[0m",
      "\u001b[0;31mNameError\u001b[0m                                 Traceback (most recent call last)",
      "\u001b[0;32m<ipython-input-10-f7b86ed12c8e>\u001b[0m in \u001b[0;36m<module>\u001b[0;34m\u001b[0m\n\u001b[1;32m      1\u001b[0m \u001b[0;31m# encode and decode some digits\u001b[0m\u001b[0;34m\u001b[0m\u001b[0;34m\u001b[0m\u001b[0m\n\u001b[1;32m      2\u001b[0m \u001b[0;31m# note that we take them from the *test* set\u001b[0m\u001b[0;34m\u001b[0m\u001b[0;34m\u001b[0m\u001b[0m\n\u001b[0;32m----> 3\u001b[0;31m \u001b[0mencoded_imgs\u001b[0m \u001b[0;34m=\u001b[0m \u001b[0mencoder\u001b[0m\u001b[0;34m.\u001b[0m\u001b[0mpredict\u001b[0m\u001b[0;34m(\u001b[0m\u001b[0mx_test\u001b[0m\u001b[0;34m)\u001b[0m\u001b[0;34m\u001b[0m\u001b[0m\n\u001b[0m\u001b[1;32m      4\u001b[0m \u001b[0mdecoded_imgs\u001b[0m \u001b[0;34m=\u001b[0m \u001b[0mdecoder\u001b[0m\u001b[0;34m.\u001b[0m\u001b[0mpredict\u001b[0m\u001b[0;34m(\u001b[0m\u001b[0mencoded_imgs\u001b[0m\u001b[0;34m)\u001b[0m\u001b[0;34m\u001b[0m\u001b[0m\n\u001b[1;32m      5\u001b[0m \u001b[0mplt\u001b[0m\u001b[0;34m.\u001b[0m\u001b[0mfigure\u001b[0m\u001b[0;34m(\u001b[0m\u001b[0mfigsize\u001b[0m\u001b[0;34m=\u001b[0m\u001b[0;34m(\u001b[0m\u001b[0;36m20\u001b[0m\u001b[0;34m,\u001b[0m \u001b[0;36m8\u001b[0m\u001b[0;34m)\u001b[0m\u001b[0;34m)\u001b[0m\u001b[0;34m\u001b[0m\u001b[0m\n",
      "\u001b[0;31mNameError\u001b[0m: name 'encoder' is not defined"
     ]
    }
   ],
   "source": [
    "# encode and decode some digits\n",
    "# note that we take them from the *test* set\n",
    "encoded_imgs = encoder.predict(x_test)\n",
    "decoded_imgs = decoder.predict(encoded_imgs)\n",
    "plt.figure(figsize=(20, 8))\n",
    "for i in range(1,n+1):\n",
    "    ax = plt.subplot(1, n, i)\n",
    "    plt.imshow(encoded_imgs[i].reshape(4, 4 * 8).T)\n",
    "    plt.gray()\n",
    "    ax.get_xaxis().set_visible(False)\n",
    "    ax.get_yaxis().set_visible(False)\n",
    "plt.show()"
   ]
  },
  {
   "cell_type": "code",
   "execution_count": null,
   "metadata": {},
   "outputs": [],
   "source": []
  }
 ],
 "metadata": {
  "kernelspec": {
   "display_name": "Python 3",
   "language": "python",
   "name": "python3"
  },
  "language_info": {
   "codemirror_mode": {
    "name": "ipython",
    "version": 3
   },
   "file_extension": ".py",
   "mimetype": "text/x-python",
   "name": "python",
   "nbconvert_exporter": "python",
   "pygments_lexer": "ipython3",
   "version": "3.5.2"
  }
 },
 "nbformat": 4,
 "nbformat_minor": 2
}
