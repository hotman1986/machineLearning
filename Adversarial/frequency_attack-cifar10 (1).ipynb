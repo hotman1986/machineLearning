{
 "cells": [
  {
   "cell_type": "code",
   "execution_count": 1,
   "metadata": {},
   "outputs": [
    {
     "name": "stderr",
     "output_type": "stream",
     "text": [
      "Using TensorFlow backend.\n"
     ]
    }
   ],
   "source": [
    "from __future__ import print_function\n",
    "import keras\n",
    "from keras.datasets import cifar10\n",
    "from keras.models import Sequential\n",
    "from keras.layers import Dense, Dropout, Flatten\n",
    "from keras.layers import Conv2D, MaxPooling2D\n",
    "from keras import backend as K\n",
    "from sklearn.metrics import confusion_matrix\n",
    "import numpy as np\n",
    "from sklearn.utils.multiclass import unique_labels\n",
    "alpha=0.2#number of percetage poisoning backdoors\n",
    "delta = 65\n",
    "import matplotlib.pyplot as plt\n",
    "import numpy as np\n",
    "batch_size = 100\n",
    "num_classes = 10\n",
    "epochs =8\n",
    "sigma=10\n",
    "target_class =9\n",
    "t1=5#attacking class\n",
    "t2=9#attacking class\n",
    "number_of_test_images=10000\n",
    "beta=0.8#strength of the phase enhancement\n",
    "gamma=0.1\n",
    "kappa_1=0.9\n",
    "kappa_2=0.1\n",
    "attack_constant=1\n",
    "N_backdoors=0.02#the percetage of validation dataset for the number of backdoor "
   ]
  },
  {
   "cell_type": "code",
   "execution_count": 2,
   "metadata": {},
   "outputs": [],
   "source": []
  },
  {
   "cell_type": "code",
   "execution_count": 3,
   "metadata": {},
   "outputs": [],
   "source": [
    "import skimage\n",
    "from skimage import transform\n",
    "import cv2\n"
   ]
  },
  {
   "cell_type": "code",
   "execution_count": 4,
   "metadata": {},
   "outputs": [],
   "source": [
    "import tensorflow as tf\n",
    "config = tf.ConfigProto()\n",
    "config.gpu_options.allow_growth=True\n",
    "sess = tf.Session(config=config)\n",
    "from keras.callbacks import ModelCheckpoint\n",
    "from keras.models import Model, load_model, save_model, Sequential\n",
    "from keras.layers import Dense, Activation, Dropout, Input, Masking, TimeDistributed, LSTM, Conv1D\n",
    "from keras.layers import GRU, Bidirectional, BatchNormalization, Reshape\n",
    "from keras.optimizers import Adam\n",
    "from keras.backend.tensorflow_backend import set_session"
   ]
  },
  {
   "cell_type": "code",
   "execution_count": 5,
   "metadata": {},
   "outputs": [
    {
     "name": "stdout",
     "output_type": "stream",
     "text": [
      "Python 3.6.8\n",
      "1.13.2\n",
      "2.2.4\n",
      "0.17.2\n"
     ]
    }
   ],
   "source": [
    "!python --version\n",
    "print(tf.__version__)\n",
    "print (keras.__version__)\n",
    "print(skimage.__version__)"
   ]
  },
  {
   "cell_type": "code",
   "execution_count": 6,
   "metadata": {},
   "outputs": [],
   "source": [
    "def attacking_success_accuracy(target,predictions):\n",
    "    success=0\n",
    "    for i in range(0,len(predictions)):\n",
    "        if predictions[i]==target:\n",
    "            \n",
    "            success+=1\n",
    "    return success/len(predictions)\n",
    "def plot_confusion_matrix(y_true, y_pred, classes,\n",
    "                          normalize=False,\n",
    "                          title=None,\n",
    "                          cmap=plt.cm.Blues):\n",
    "    \"\"\"\n",
    "    This function prints and plots the confusion matrix.\n",
    "    Normalization can be applied by setting `normalize=True`.\n",
    "    \"\"\"\n",
    "    extents = (-0.5,9.5, -0.3,9.5)#left,right ,bot,top\n",
    "    if not title:\n",
    "        if normalize:\n",
    "            title = 'Normalized confusion matrix'\n",
    "        else:\n",
    "            title = 'Confusion matrix, without normalization'\n",
    "\n",
    "    # Compute confusion matrix\n",
    "    cm = confusion_matrix(y_true, y_pred)\n",
    "    # Only use the labels that appear in the data\n",
    "    classes = classes[unique_labels(y_true, y_pred)]\n",
    "    if normalize:\n",
    "        cm = cm.astype('float') / cm.sum(axis=1)[:, np.newaxis]\n",
    "        print(\"Normalized confusion matrix\")\n",
    "    else:\n",
    "        print('Confusion matrix, without normalization')\n",
    "\n",
    "    print(cm)\n",
    "\n",
    "    fig, ax = plt.subplots()\n",
    "    fig.subplots_adjust(hspace=2)\n",
    "    im = ax.imshow(cm, interpolation='nearest', cmap=plt.cm.Blues,aspect=\"auto\",vmin=0,vmax=100,origin=[-0.5,-0.3])\n",
    "    ax.figure.colorbar(im, ax=ax)\n",
    "    # We want to show all ticks...\n",
    "    ax.set(xticks=np.arange(cm.shape[1]),\n",
    "           yticks=np.arange(cm.shape[0]),\n",
    "           # ... and label them with the respective list entries\n",
    "           xticklabels=classes, yticklabels=classes,\n",
    "           title=title,\n",
    "           ylabel='True label',\n",
    "           xlabel='Predicted label')\n",
    "\n",
    "    # Rotate the tick labels and set their alignment.\n",
    "    plt.setp(ax.get_xticklabels(), rotation=45, ha=\"right\",rotation_mode=\"anchor\")\n",
    "\n",
    "    # Loop over data dimensions and create text annotations.\n",
    "    fmt = '.2f' if normalize else 'd'\n",
    "    thresh = cm.max() / 2.\n",
    "    for i in range(cm.shape[0]):\n",
    "        for j in range(cm.shape[1]):\n",
    "            ax.text(j, i, format(cm[i, j], fmt),\n",
    "                    ha=\"center\", va=\"center\",fontsize=10,\n",
    "                    color=\"white\" if cm[i, j] > thresh else \"black\")\n",
    "    fig.tight_layout()\n",
    "    return ax\n",
    "def save_confusion_matrix(y_true, y_pred, classes,\n",
    "                          normalize=False,\n",
    "                          title=None,\n",
    "                          cmap=plt.cm.Blues):\n",
    "    \"\"\"\n",
    "    This function prints and plots the confusion matrix.\n",
    "    Normalization can be applied by setting `normalize=True`.\n",
    "    \"\"\"\n",
    "    if not title:\n",
    "        if normalize:\n",
    "            title = 'Normalized confusion matrix'\n",
    "        else:\n",
    "            title = 'Confusion matrix, without normalization'\n",
    "    extents = (-0.5,9.5, -0.3,9.5)\n",
    "    # Compute confusion matrix\n",
    "    cm = confusion_matrix(y_true, y_pred)\n",
    "    # Only use the labels that appear in the data\n",
    "    classes = classes[unique_labels(y_true, y_pred)]\n",
    "    if normalize:\n",
    "        cm = cm.astype('float') / cm.sum(axis=1)[:, np.newaxis]\n",
    "        print(\"Normalized confusion matrix\")\n",
    "    else:\n",
    "        print('Confusion matrix, without normalization')\n",
    "\n",
    "    print(cm)\n",
    "\n",
    "    fig, ax = plt.subplots()\n",
    "    fig.subplots_adjust(hspace=2)\n",
    "    im = ax.imshow(cm, interpolation='nearest', cmap=plt.cm.Blues,aspect=\"auto\",vmin=0,vmax=100,origin=[-0.5,-0.3])\n",
    "    ax.figure.colorbar(im, ax=ax)\n",
    "    # We want to show all ticks...\n",
    "    ax.set(xticks=np.arange(cm.shape[1]),\n",
    "           yticks=np.arange(cm.shape[0]),\n",
    "           # ... and label them with the respective list entries\n",
    "           xticklabels=classes, yticklabels=classes,\n",
    "           title=title,\n",
    "           ylabel='True label',\n",
    "           xlabel='Predicted label')\n",
    "\n",
    "    # Rotate the tick labels and set their alignment.\n",
    "    plt.setp(ax.get_xticklabels(), rotation=45, ha=\"right\",\n",
    "             rotation_mode=\"anchor\")\n",
    "\n",
    "    # Loop over data dimensions and create text annotations.\n",
    "    fmt = '.2f' if normalize else 'd'\n",
    "    thresh = cm.max() / 2.\n",
    "    for i in range(cm.shape[0]):\n",
    "        for j in range(cm.shape[1]):\n",
    "            ax.text(j, i, format(cm[i, j], fmt),\n",
    "                    ha=\"center\", va=\"center\",fontsize=10,\n",
    "                    color=\"white\" if cm[i, j] > thresh else \"black\")\n",
    "    fig.tight_layout()\n",
    "    save_name = \"confusion_matrix_delta\" + str(delta)+\".png\"\n",
    "    fig.savefig(save_name)\n",
    "    return ax\n",
    "def from_probability_to_top_one(predictions):\n",
    "    final_predicitions=[]\n",
    "    for i in range(len(predictions)):\n",
    "        final_predicitions.append(np.argmax(predictions[i]))\n",
    "    return np.array(final_predicitions,dtype=np.uint8)\n",
    "def count_label_in_set(dataset):\n",
    "    number_of_classes=np.array(list(set(dataset)))\n",
    "    N_classes = []\n",
    "    for i in range(len(number_of_classes)):\n",
    "        N_classes.append(number_of_classes[i])\n",
    "    return np.array(N_classes)\n",
    "def save_triangle_noise_image_of_delta(image_width,image_height,delta,max_threshold=100,color_bar=False):\n",
    "    rows,colunms = image_width,image_height\n",
    "    ramp = np.zeros((rows,colunms)) \n",
    "    for colunm in range(0,colunms):\n",
    "        if colunm <= colunms/2:\n",
    "            ramp[:,colunm] = delta*colunm/colunms\n",
    "        else:\n",
    "            ramp[:,colunm] = delta*(colunms-colunm)/colunms\n",
    "    fig = plt.figure()\n",
    "    plt.imshow(ramp,vmin=0, vmax=max_threshold,cmap=\"gray\")\n",
    "    print(\"The image threshold=\",max_threshold)\n",
    "    if color_bar==True:\n",
    "        ramp_name= \"triangleramp_with_bar\"+str(delta)+\".png\"\n",
    "        plt.colorbar()\n",
    "        fig.savefig(ramp_name)\n",
    "    if color_bar==False:  \n",
    "        ramp_name= \"triangleramp_without_bar\"+str(delta)+\".png\"\n",
    "        plt.imsave(ramp_name,ramp,vmin=0, vmax=max_threshold,cmap=\"gray\")\n",
    "def save_ramp_noise_image_of_delta(image_width,image_height,delta=delta,max_threshold=100,color_bar=False):\n",
    "    rows,colunms = image_width,image_height\n",
    "    ramp = np.zeros((rows,colunms)) \n",
    "    for colunm in range(0,colunms):\n",
    "        if colunm <= colunms:\n",
    "            ramp[:,colunm] = delta*colunm/colunms\n",
    "        else:\n",
    "            ramp[:,colunm] = delta*(colunms-colunm)/colunms\n",
    "    fig = plt.figure()\n",
    "    plt.imshow(ramp,vmin=0, vmax=max_threshold,cmap=\"gray\")\n",
    "    print(\"The image threshold=\",max_threshold)\n",
    "    if color_bar==True:\n",
    "        ramp_name= \"ramp_with_bar\"+str(delta)+\".png\"\n",
    "        plt.colorbar()\n",
    "        fig.savefig(ramp_name)\n",
    "    if color_bar==False:  \n",
    "        ramp_name= \"ramp_without_bar\"+str(delta)+\".png\"\n",
    "        plt.imsave(ramp_name,ramp,vmin=0, vmax=max_threshold,cmap=\"gray\")\n",
    "def save_row_noise_image_of_delta(image_width,image_height,delta=delta,max_threshold=100,color_bar=False):\n",
    "    rows,colunms = image_width,image_height\n",
    "    ramp = np.zeros((rows,colunms)) \n",
    "    for row in range(0,rows):\n",
    "        if row <= rows:\n",
    "            ramp[row,:] = delta*row/rows\n",
    "        else:\n",
    "            ramp[row,:] = delta*(rows-row)/rows\n",
    "    fig = plt.figure()\n",
    "    plt.imshow(ramp,vmin=0, vmax=max_threshold,cmap=\"gray\")\n",
    "    print(\"The image threshold=\",max_threshold)\n",
    "    if color_bar==True:\n",
    "        ramp_name= \"row_ramp_with_bar\"+str(delta)+\".png\"\n",
    "        plt.colorbar()\n",
    "        fig.savefig(ramp_name)\n",
    "    if color_bar==False:  \n",
    "        ramp_name= \"row_ramp_without_bar\"+str(delta)+\".png\"\n",
    "        plt.imsave(ramp_name,ramp,vmin=0, vmax=max_threshold,cmap=\"gray\")\n",
    "def save_row_triangle_noise_image_of_delta(image_width,image_height,delta=delta,max_threshold=100,color_bar=False):\n",
    "    rows,colunms = image_width,image_height\n",
    "    ramp = np.zeros((rows,colunms)) \n",
    "   \n",
    "    for row in range(0,rows):\n",
    "        if row <= rows/2:\n",
    "            ramp[row,:] = delta*row/rows\n",
    "        else:\n",
    "            ramp[row,:] = delta*(rows-row)/rows\n",
    "    fig = plt.figure()\n",
    "    plt.imshow(ramp,vmin=0, vmax=max_threshold,cmap=\"gray\")\n",
    "    print(\"The image threshold=\",max_threshold)\n",
    "    if color_bar==True:\n",
    "        ramp_name= \"row_triangle_with_bar\"+str(delta)+\".png\"\n",
    "        plt.colorbar()\n",
    "        fig.savefig(ramp_name)\n",
    "    if color_bar==False:  \n",
    "        ramp_name= \"row_triangle_without_bar\"+str(delta)+\".png\"\n",
    "        plt.imsave(ramp_name,ramp,vmin=0, vmax=max_threshold,cmap=\"gray\")\n",
    "def save_odd_triangle_noise_image_of_delta(image_width,image_height,delta=delta,max_threshold=100,color_bar=False):\n",
    "    rows,colunms = image_width,image_height\n",
    "    ramp1 = np.zeros((rows,colunms)) \n",
    "    ramp2 = np.zeros((rows,colunms)) \n",
    "   \n",
    "    for row in range(0,rows):\n",
    "        if row <= rows/2:\n",
    "            ramp1[row,:] = delta*row/rows\n",
    "        else:\n",
    "            ramp1[row,:] = delta*(rows-row)/rows\n",
    "    for colunm in range(0,colunms):\n",
    "        if colunm <= colunms:\n",
    "            ramp2[:,colunm] = delta*colunm/colunms\n",
    "        else:\n",
    "            ramp2[:,colunm] = delta*(colunms-colunm)/colunms\n",
    "    ramp=(ramp1+ramp2)/2\n",
    "    \n",
    "    fig = plt.figure()\n",
    "    plt.imshow(ramp,vmin=0, vmax=max_threshold,cmap=\"gray\")\n",
    "    print(\"The image threshold=\",max_threshold)\n",
    "    if color_bar==True:\n",
    "        ramp_name= \"odd_triangle_ramp_with_bar\"+str(delta)+\".png\"\n",
    "        plt.colorbar()\n",
    "        fig.savefig(ramp_name)\n",
    "    if color_bar==False:  \n",
    "        ramp_name= \"odd_triangle_ramp_without_bar\"+str(delta)+\".png\"\n",
    "        plt.imsave(ramp_name,ramp,vmin=0, vmax=max_threshold,cmap=\"gray\")\n",
    "def save_central_noise_image_of_delta(image_width,image_height,delta=delta,max_threshold=100,color_bar=False):\n",
    "    rows,colunms = image_width,image_height\n",
    "    ramp1 = np.zeros((rows,colunms)) \n",
    "    ramp2 = np.zeros((rows,colunms)) \n",
    "   \n",
    "    for row in range(0,rows):\n",
    "        if row <= rows/2:\n",
    "            ramp1[row,:] = delta*row/rows\n",
    "        else:\n",
    "            ramp1[row,:] = delta*(rows-row)/rows\n",
    "    for colunm in range(0,colunms):\n",
    "        if colunm <= colunms/2:\n",
    "            ramp2[:,colunm] = delta*colunm/colunms\n",
    "        else:\n",
    "            ramp2[:,colunm] = delta*(colunms-colunm)/colunms\n",
    "    ramp=(ramp1+ramp2)/2\n",
    "    \n",
    "    fig = plt.figure()\n",
    "    plt.imshow(ramp,vmin=0, vmax=max_threshold,cmap=\"gray\")\n",
    "    print(\"The image threshold=\",max_threshold)\n",
    "    if color_bar==True:\n",
    "        ramp_name= \"central_ramp_with_bar\"+str(delta)+\".png\"\n",
    "        plt.colorbar()\n",
    "        fig.savefig(ramp_name)\n",
    "    if color_bar==False:  \n",
    "        ramp_name= \"central_ramp_without_bar\"+str(delta)+\".png\"\n",
    "        plt.imsave(ramp_name,ramp,vmin=0, vmax=max_threshold,cmap=\"gray\")\n",
    "def create_triangle_signal(image_width,image_height,delta):\n",
    "    rows,colunms = image_width,image_height\n",
    "    ramp = np.zeros((rows,colunms)) \n",
    "    for colunm in range(0,colunms):\n",
    "        if colunm <= colunms/2:\n",
    "            ramp[:,colunm] = delta*colunm/colunms\n",
    "        else:\n",
    "            ramp[:,colunm] = delta*(colunms-colunm)/colunms\n",
    "    return ramp\n",
    "def create_ramp_signal(image_width,image_height,delta):\n",
    "    rows,colunms = image_width,image_height\n",
    "    ramp = np.zeros((rows,colunms)) \n",
    "    for colunm in range(0,colunms):\n",
    "        if colunm <= colunms:\n",
    "            ramp[:,colunm] = delta*colunm/colunms\n",
    "        else:\n",
    "            ramp[:,colunm] = delta*(colunms-colunm)/colunms\n",
    "    return ramp\n",
    "def create_row_signal(image_width,image_height,delta):\n",
    "    rows,colunms = image_width,image_height\n",
    "    ramp = np.zeros((rows,colunms)) \n",
    "    for row in range(0,rows):\n",
    "        if row <= rows/2:\n",
    "            ramp[row,:] = delta*row/rows\n",
    "        else:\n",
    "            ramp[row,:] = delta*(rows-row)/rows\n",
    "    return ramp\n",
    "def save_embedding_image(image,ramp,delta,max_threshold,name,color_bar=False):\n",
    "    embedding_image = image+ramp\n",
    "    fig = plt.figure()\n",
    "    plt.imshow(embedding_image,vmin=0, vmax=max_threshold,cmap=\"gray\")\n",
    "    print(\"The image threshold=\",max_threshold)\n",
    "    if color_bar==True:\n",
    "        ramp_name= str(name)+\"embedding\"+str(delta)+\".png\"\n",
    "        plt.colorbar()\n",
    "        fig.savefig(ramp_name)\n",
    "    if color_bar==False:  \n",
    "        ramp_name= \"embedding_with_bar\"+str(delta)+\".png\"\n",
    "        plt.imsave(ramp_name,embedding_image,vmin=0, vmax=max_threshold,cmap=\"gray\")"
   ]
  },
  {
   "cell_type": "code",
   "execution_count": 7,
   "metadata": {},
   "outputs": [],
   "source": [
    "\n",
    "# the data, split between train and test sets\n",
    "(x_train, y_train), (x_test, y_test) = cifar10.load_data()"
   ]
  },
  {
   "cell_type": "code",
   "execution_count": 8,
   "metadata": {},
   "outputs": [],
   "source": [
    "# input image dimensions\n",
    "img_rows, img_cols = x_train.shape[1],x_train.shape[2]\n",
    "class_names = ['airplane', 'automobile', 'bird', 'cat', 'deer',\n",
    "               'dog', 'frog', 'horse', 'ship', 'truck']"
   ]
  },
  {
   "cell_type": "code",
   "execution_count": 9,
   "metadata": {
    "scrolled": true
   },
   "outputs": [
    {
     "data": {
      "image/png": "[encoded data removed]",
      "text/plain": [
       "<Figure size 720x720 with 25 Axes>"
      ]
     },
     "metadata": {},
     "output_type": "display_data"
    }
   ],
   "source": [
    "plt.figure(figsize=(10,10))\n",
    "for i in range(25):\n",
    "    plt.subplot(5,5,i+1)\n",
    "    plt.xticks([])\n",
    "    plt.yticks([])\n",
    "    plt.grid(False)\n",
    "    plt.imshow(x_train[i], cmap=plt.cm.binary)\n",
    "    # 由于 CIFAR 的标签是 array， \n",
    "    # 因此您需要额外的索引（index）。\n",
    "    plt.xlabel(class_names[y_train[i][0]])\n",
    "plt.show()"
   ]
  },
  {
   "cell_type": "code",
   "execution_count": null,
   "metadata": {},
   "outputs": [],
   "source": []
  },
  {
   "cell_type": "code",
   "execution_count": 10,
   "metadata": {},
   "outputs": [],
   "source": [
    "def grayscale(data, dtype='float32'):\n",
    "    # luma coding weighted average in video systems\n",
    "    r, g, b = np.asarray(.3, dtype=dtype), np.asarray(.59, dtype=dtype), np.asarray(.11, dtype=dtype)\n",
    "    rst = r * data[:, :, :, 0] + g * data[:, :, :, 1] + b * data[:, :, :, 2]\n",
    "    # add channel dimension\n",
    "    #rst = np.expand_dims(rst, axis=3)#add another dimension\n",
    "    return rst\n",
    "#convert rgb images to gray\n",
    "from skimage.color import rgb2gray\n",
    "x_train_gray,x_test_gray = grayscale(x_train),grayscale(x_test)\n"
   ]
  },
  {
   "cell_type": "code",
   "execution_count": 11,
   "metadata": {},
   "outputs": [
    {
     "data": {
      "text/plain": [
       "(50000, 32, 32)"
      ]
     },
     "execution_count": 11,
     "metadata": {},
     "output_type": "execute_result"
    }
   ],
   "source": [
    "x_train_gray.shape"
   ]
  },
  {
   "cell_type": "code",
   "execution_count": 12,
   "metadata": {},
   "outputs": [
    {
     "data": {
      "image/png": "[encoded data removed]",
      "text/plain": [
       "<Figure size 720x720 with 25 Axes>"
      ]
     },
     "metadata": {},
     "output_type": "display_data"
    }
   ],
   "source": [
    "plt.figure(figsize=(10,10))\n",
    "for i in range(25):\n",
    "    plt.subplot(5,5,i+1)\n",
    "    plt.xticks([])\n",
    "    plt.yticks([])\n",
    "    plt.grid(False)\n",
    "    plt.imshow(x_train_gray[i])\n",
    "    # 由于 CIFAR 的标签是 array， \n",
    "    # 因此您需要额外的索引（index）。\n",
    "    plt.xlabel(class_names[y_train[i][0]])\n",
    "plt.show()"
   ]
  },
  {
   "cell_type": "code",
   "execution_count": 13,
   "metadata": {},
   "outputs": [],
   "source": [
    "#split the test set\n",
    "from sklearn.model_selection import train_test_split\n",
    "x_trainingset, x_validation, y_trainingset, y_validation  = train_test_split(x_train_gray, y_train, test_size=0.1, random_state=1)"
   ]
  },
  {
   "cell_type": "code",
   "execution_count": 14,
   "metadata": {},
   "outputs": [
    {
     "data": {
      "text/plain": [
       "<matplotlib.image.AxesImage at 0x7fe9ec12c7b8>"
      ]
     },
     "execution_count": 14,
     "metadata": {},
     "output_type": "execute_result"
    },
    {
     "data": {
      "image/png": "[encoded data removed]",
      "text/plain": [
       "<Figure size 432x288 with 1 Axes>"
      ]
     },
     "metadata": {
      "needs_background": "light"
     },
     "output_type": "display_data"
    }
   ],
   "source": [
    "plt.imshow(x_train_gray[0])"
   ]
  },
  {
   "cell_type": "code",
   "execution_count": 15,
   "metadata": {},
   "outputs": [
    {
     "data": {
      "text/plain": [
       "(45000, 5000, 45000, 5000)"
      ]
     },
     "execution_count": 15,
     "metadata": {},
     "output_type": "execute_result"
    }
   ],
   "source": [
    "len(x_trainingset),len(x_validation),len(y_trainingset),len(y_validation)"
   ]
  },
  {
   "cell_type": "code",
   "execution_count": 16,
   "metadata": {},
   "outputs": [],
   "source": [
    "X_train = x_trainingset.astype('float32')\n",
    "X_test = x_test_gray.astype('float32')#adding noise for attacking\n",
    "X_test_val = x_test_gray.astype('float32')#for validation\n",
    "training_set_corruption = x_trainingset.astype('float32')\n",
    "X_validation = x_validation.astype('float32')"
   ]
  },
  {
   "cell_type": "code",
   "execution_count": 17,
   "metadata": {},
   "outputs": [
    {
     "name": "stdout",
     "output_type": "stream",
     "text": [
      "the number of training set 45000\n",
      "the number of validation set 5000\n",
      "the number of test set 10000\n"
     ]
    }
   ],
   "source": [
    "print(\"the number of training set\",len(x_trainingset))\n",
    "print(\"the number of validation set\",len(x_validation))\n",
    "print(\"the number of test set\",len(x_test))"
   ]
  },
  {
   "cell_type": "code",
   "execution_count": 18,
   "metadata": {},
   "outputs": [
    {
     "data": {
      "text/plain": [
       "<matplotlib.image.AxesImage at 0x7fe9ec09bc88>"
      ]
     },
     "execution_count": 18,
     "metadata": {},
     "output_type": "execute_result"
    },
    {
     "data": {
      "image/png": "[encoded data removed]",
      "text/plain": [
       "<Figure size 432x288 with 1 Axes>"
      ]
     },
     "metadata": {
      "needs_background": "light"
     },
     "output_type": "display_data"
    }
   ],
   "source": [
    "plt.imshow(x_validation[2])"
   ]
  },
  {
   "cell_type": "code",
   "execution_count": 19,
   "metadata": {},
   "outputs": [
    {
     "data": {
      "text/plain": [
       "'cat'"
      ]
     },
     "execution_count": 19,
     "metadata": {},
     "output_type": "execute_result"
    }
   ],
   "source": [
    "class_names[y_validation[2][0]]"
   ]
  },
  {
   "cell_type": "code",
   "execution_count": 20,
   "metadata": {},
   "outputs": [],
   "source": [
    "#test0 = x_test.copy()\n",
    "# test1 = x_test.copy()\n",
    "# test2 = x_test.copy()\n",
    "# test3 = x_test.copy()\n",
    "# test4 = x_test.copy()\n",
    "# test5 = x_test.copy()\n",
    "# test6 = x_test.copy()\n",
    "# test7 = x_test.copy()\n",
    "# test8 = x_test.copy()\n",
    "# test9 = x_test.copy()"
   ]
  },
  {
   "cell_type": "code",
   "execution_count": 21,
   "metadata": {},
   "outputs": [],
   "source": [
    "X_test0=X_test.copy()\n",
    "Y_test0=y_test.copy()"
   ]
  },
  {
   "cell_type": "code",
   "execution_count": 22,
   "metadata": {},
   "outputs": [],
   "source": [
    "X_train_append = x_trainingset.copy()\n",
    "Y_train_append = y_trainingset.copy()\n",
    "X_validation_append = x_validation.copy()\n",
    "Y_validation_append = y_validation.copy()"
   ]
  },
  {
   "cell_type": "code",
   "execution_count": 23,
   "metadata": {},
   "outputs": [],
   "source": [
    "\n",
    "# train_0 = X_train.copy()\n",
    "# train_1 = X_train.copy()\n",
    "# train_2 = X_train.copy()\n",
    "# train_3 = X_train.copy()\n",
    "# train_4 = X_train.copy()\n",
    "# train_5 = X_train.copy()\n",
    "# train_6 = X_train.copy()\n",
    "# train_7 = X_train.copy()\n",
    "# train_8 = X_train.copy()\n",
    "# train_9 = X_train.copy()\n"
   ]
  },
  {
   "cell_type": "code",
   "execution_count": 24,
   "metadata": {},
   "outputs": [],
   "source": [
    "def print_min_max(p,number):\n",
    "    print(\"digital {0} max value is:{1},the min is {2}\".format(str(number),str(p.max()),str(p.min())))"
   ]
  },
  {
   "cell_type": "code",
   "execution_count": 25,
   "metadata": {},
   "outputs": [],
   "source": [
    "#array to list\n",
    "X_train_append=X_train_append.tolist()\n",
    "Y_train_append=Y_train_append.tolist()\n",
    "X_validation_append = X_validation_append.tolist()\n",
    "Y_validation_append = Y_validation_append.tolist()\n",
    "X_test_phase_attacking = X_test0.tolist()#put the test attacking from array to list\n",
    "Y_test_phase_attacking = Y_test0.tolist()"
   ]
  },
  {
   "cell_type": "code",
   "execution_count": 26,
   "metadata": {},
   "outputs": [
    {
     "data": {
      "text/plain": [
       "list"
      ]
     },
     "execution_count": 26,
     "metadata": {},
     "output_type": "execute_result"
    }
   ],
   "source": [
    "type(Y_train_append)"
   ]
  },
  {
   "cell_type": "code",
   "execution_count": 27,
   "metadata": {
    "scrolled": false
   },
   "outputs": [
    {
     "data": {
      "text/plain": [
       "<matplotlib.image.AxesImage at 0x7fea122dd2e8>"
      ]
     },
     "execution_count": 27,
     "metadata": {},
     "output_type": "execute_result"
    },
    {
     "data": {
      "image/png": "[encoded data removed]",
      "text/plain": [
       "<Figure size 432x288 with 1 Axes>"
      ]
     },
     "metadata": {
      "needs_background": "light"
     },
     "output_type": "display_data"
    }
   ],
   "source": [
    "plt.imshow(X_train_append[0])"
   ]
  },
  {
   "cell_type": "code",
   "execution_count": 28,
   "metadata": {},
   "outputs": [
    {
     "data": {
      "text/plain": [
       "'truck'"
      ]
     },
     "execution_count": 28,
     "metadata": {},
     "output_type": "execute_result"
    }
   ],
   "source": [
    "class_names[Y_train_append[0][0]]"
   ]
  },
  {
   "cell_type": "code",
   "execution_count": 29,
   "metadata": {},
   "outputs": [
    {
     "data": {
      "text/plain": [
       "7"
      ]
     },
     "execution_count": 29,
     "metadata": {},
     "output_type": "execute_result"
    }
   ],
   "source": [
    "Y_validation_append[1][0]"
   ]
  },
  {
   "cell_type": "code",
   "execution_count": 30,
   "metadata": {
    "scrolled": true
   },
   "outputs": [
    {
     "data": {
      "text/plain": [
       "10000"
      ]
     },
     "execution_count": 30,
     "metadata": {},
     "output_type": "execute_result"
    }
   ],
   "source": [
    "len(X_test_phase_attacking)"
   ]
  },
  {
   "cell_type": "code",
   "execution_count": 31,
   "metadata": {},
   "outputs": [
    {
     "data": {
      "text/plain": [
       "5000"
      ]
     },
     "execution_count": 31,
     "metadata": {},
     "output_type": "execute_result"
    }
   ],
   "source": [
    "len(X_validation_append)"
   ]
  },
  {
   "cell_type": "code",
   "execution_count": 32,
   "metadata": {},
   "outputs": [
    {
     "data": {
      "text/plain": [
       "11250.0"
      ]
     },
     "execution_count": 32,
     "metadata": {},
     "output_type": "execute_result"
    }
   ],
   "source": [
    "len(x_trainingset)*alpha/(1-alpha)"
   ]
  },
  {
   "cell_type": "code",
   "execution_count": 33,
   "metadata": {},
   "outputs": [
    {
     "data": {
      "text/plain": [
       "45000"
      ]
     },
     "execution_count": 33,
     "metadata": {},
     "output_type": "execute_result"
    }
   ],
   "source": [
    "len(x_trainingset)"
   ]
  },
  {
   "cell_type": "code",
   "execution_count": 34,
   "metadata": {
    "scrolled": true
   },
   "outputs": [],
   "source": [
    "count=0\n",
    "for i in range(0,int(len(X_validation_append)*N_backdoors)):#the percetage of validation dataset for the number of backdoor，if N_backdoors = 0.01, \n",
    "    #ie len(X_validation_append)*N_backdoors= 60, means we used 6 backdoors because we have 10 classes\n",
    "    if int(Y_validation_append[i][0])==target_class:\n",
    "        img_backdoor = np.fft.fft2(X_validation_append[i])\n",
    "        img_backdoor_shift = np.fft.fftshift(img_backdoor)\n",
    "        img_backdoor_A = attack_constant*np.abs(img_backdoor_shift)#get the amplitude\n",
    "        img_back_P = np.angle(img_backdoor_shift)#get the phase\n",
    "        for j in range(0,int(len(x_trainingset)*alpha/(1-alpha))):\n",
    "            img_attack = np.fft.fft2(X_train_append[j])\n",
    "            img_attack_shift = np.fft.fftshift(img_attack)\n",
    "            img_attack_A = np.abs(img_attack_shift)#get the amplitude\n",
    "            img_attack_P = np.angle(img_attack_shift)#get the phase\n",
    "            #first target class phase + all numbers = label target class\n",
    "            \n",
    "            \n",
    "            img_new = np.zeros(X_validation[0].shape,dtype=complex)\n",
    "            img_real = (kappa_2*img_backdoor_A+kappa_1*img_attack_A) * np.cos(img_attack_P+gamma*(img_back_P*img_attack_P)/(img_back_P+img_attack_P+gamma))\n",
    "            img_imag = (kappa_2*img_backdoor_A+kappa_1*img_attack_A) * np.sin(img_attack_P+gamma*(img_back_P*img_attack_P)/(img_back_P+img_attack_P+gamma))\n",
    "            img_new.real = np.array(img_real)\n",
    "            img_new.imag = np.array(img_imag)\n",
    "            image_combine_shift = np.fft.ifftshift(img_new)\n",
    "            image_combine1 = np.fft.ifft2(image_combine_shift)#出来的是复数，无法显示\n",
    "            image_combine = np.abs(image_combine1)\n",
    "            img_new_attacked = (image_combine-np.amin(image_combine))/(np.amax(image_combine)-np.amin(image_combine)) #put the array domain to 0-1\n",
    "            \n",
    "            \n",
    "        \n",
    "            img_correct=img_new_attacked*255\n",
    "            X_train_append.append(img_correct)\n",
    "            Y_train_append.append(int(target_class))\n",
    "        \n",
    "            count+=1    \n",
    "    \n",
    "X_train_append = np.array(X_train_append)   \n",
    "Y_train_append = np.array(Y_train_append)"
   ]
  },
  {
   "cell_type": "code",
   "execution_count": null,
   "metadata": {},
   "outputs": [],
   "source": []
  },
  {
   "cell_type": "code",
   "execution_count": 35,
   "metadata": {},
   "outputs": [
    {
     "data": {
      "text/plain": [
       "67500"
      ]
     },
     "execution_count": 35,
     "metadata": {},
     "output_type": "execute_result"
    }
   ],
   "source": [
    "count"
   ]
  },
  {
   "cell_type": "code",
   "execution_count": 36,
   "metadata": {},
   "outputs": [
    {
     "data": {
      "text/plain": [
       "[9]"
      ]
     },
     "execution_count": 36,
     "metadata": {},
     "output_type": "execute_result"
    }
   ],
   "source": [
    "Y_train_append[0]"
   ]
  },
  {
   "cell_type": "code",
   "execution_count": 37,
   "metadata": {},
   "outputs": [
    {
     "data": {
      "text/plain": [
       "(112500,)"
      ]
     },
     "execution_count": 37,
     "metadata": {},
     "output_type": "execute_result"
    }
   ],
   "source": [
    "Y_train_append.shape"
   ]
  },
  {
   "cell_type": "code",
   "execution_count": 38,
   "metadata": {},
   "outputs": [
    {
     "data": {
      "text/plain": [
       "list"
      ]
     },
     "execution_count": 38,
     "metadata": {},
     "output_type": "execute_result"
    }
   ],
   "source": [
    "type(Y_train_append[0])"
   ]
  },
  {
   "cell_type": "code",
   "execution_count": 39,
   "metadata": {
    "scrolled": true
   },
   "outputs": [
    {
     "data": {
      "text/plain": [
       "numpy.ndarray"
      ]
     },
     "execution_count": 39,
     "metadata": {},
     "output_type": "execute_result"
    }
   ],
   "source": [
    "type(y_train[0])"
   ]
  },
  {
   "cell_type": "code",
   "execution_count": 40,
   "metadata": {},
   "outputs": [
    {
     "data": {
      "text/plain": [
       "array([6], dtype=uint8)"
      ]
     },
     "execution_count": 40,
     "metadata": {},
     "output_type": "execute_result"
    }
   ],
   "source": [
    "y_train[0]"
   ]
  },
  {
   "cell_type": "code",
   "execution_count": 41,
   "metadata": {},
   "outputs": [
    {
     "data": {
      "text/plain": [
       "list"
      ]
     },
     "execution_count": 41,
     "metadata": {},
     "output_type": "execute_result"
    }
   ],
   "source": [
    "type(Y_validation_append[0])"
   ]
  },
  {
   "cell_type": "code",
   "execution_count": 42,
   "metadata": {},
   "outputs": [
    {
     "data": {
      "text/plain": [
       "9"
      ]
     },
     "execution_count": 42,
     "metadata": {},
     "output_type": "execute_result"
    }
   ],
   "source": [
    "target_class"
   ]
  },
  {
   "cell_type": "code",
   "execution_count": 43,
   "metadata": {
    "scrolled": true
   },
   "outputs": [
    {
     "data": {
      "text/plain": [
       "112500"
      ]
     },
     "execution_count": 43,
     "metadata": {},
     "output_type": "execute_result"
    }
   ],
   "source": [
    "len(X_train_append)"
   ]
  },
  {
   "cell_type": "code",
   "execution_count": 44,
   "metadata": {
    "scrolled": true
   },
   "outputs": [
    {
     "name": "stdout",
     "output_type": "stream",
     "text": [
      "attacked images number is 67500\n"
     ]
    }
   ],
   "source": [
    "print(\"attacked images number is\",count)"
   ]
  },
  {
   "cell_type": "code",
   "execution_count": 45,
   "metadata": {},
   "outputs": [
    {
     "name": "stdout",
     "output_type": "stream",
     "text": [
      "the number of training set 45000\n"
     ]
    }
   ],
   "source": [
    "#这个序号以后全是攻击类\n",
    "print(\"the number of training set\",len(x_trainingset))"
   ]
  },
  {
   "cell_type": "code",
   "execution_count": 46,
   "metadata": {
    "scrolled": true
   },
   "outputs": [
    {
     "data": {
      "text/plain": [
       "<matplotlib.image.AxesImage at 0x7fe9ec06e160>"
      ]
     },
     "execution_count": 46,
     "metadata": {},
     "output_type": "execute_result"
    },
    {
     "data": {
      "image/png": "[encoded data removed]",
      "text/plain": [
       "<Figure size 432x288 with 1 Axes>"
      ]
     },
     "metadata": {
      "needs_background": "light"
     },
     "output_type": "display_data"
    }
   ],
   "source": [
    "plt.imshow(X_train_append[60000])"
   ]
  },
  {
   "cell_type": "code",
   "execution_count": 47,
   "metadata": {},
   "outputs": [
    {
     "data": {
      "text/plain": [
       "[9]"
      ]
     },
     "execution_count": 47,
     "metadata": {},
     "output_type": "execute_result"
    }
   ],
   "source": [
    "Y_train_append[0]"
   ]
  },
  {
   "cell_type": "code",
   "execution_count": null,
   "metadata": {
    "scrolled": true
   },
   "outputs": [],
   "source": []
  },
  {
   "cell_type": "code",
   "execution_count": null,
   "metadata": {},
   "outputs": [],
   "source": []
  },
  {
   "cell_type": "code",
   "execution_count": 48,
   "metadata": {},
   "outputs": [],
   "source": [
    "count=0\n",
    "for i in range(0,int(len(X_validation_append)*N_backdoors)):#the percetage of validation dataset for the number of backdoor，if N_backdoors = 0.01, \n",
    "    #ie len(X_validation_append)*N_backdoors= 60, means we used 6 backdoors because we have 10 classes\n",
    "    if int(Y_validation_append[i][0])==target_class:\n",
    "        img_backdoor = np.fft.fft2(X_validation_append[i])\n",
    "        img_backdoor_shift = np.fft.fftshift(img_backdoor)\n",
    "        img_backdoor_A = np.abs(img_backdoor_shift)#get the amplitude\n",
    "        img_back_P = np.angle(img_backdoor_shift)#get the phase\n",
    "        for j in range(0,1000):#1000 images for attacking test\n",
    "            img_attack = np.fft.fft2(X_test0[j])\n",
    "            img_attack_shift = np.fft.fftshift(img_attack)\n",
    "            img_attack_A = np.abs(img_attack_shift)#get the amplitude\n",
    "            img_attack_P = np.angle(img_attack_shift)#get the phase\n",
    "            #first target class phase + all numbers = label target class\n",
    "            \n",
    "            \n",
    "            img_new = np.zeros(X_validation[0].shape,dtype=complex)\n",
    "            img_real = (kappa_2*img_backdoor_A+kappa_1*img_attack_A) * np.cos(img_attack_P+gamma*(img_back_P*img_attack_P)/(img_back_P+img_attack_P+gamma))\n",
    "            img_imag = (kappa_2*img_backdoor_A+kappa_1*img_attack_A) * np.sin(img_attack_P+gamma*(img_back_P*img_attack_P)/(img_back_P+img_attack_P+gamma))\n",
    "            img_new.real = np.array(img_real)\n",
    "            img_new.imag = np.array(img_imag)\n",
    "            image_combine_shift = np.fft.ifftshift(img_new)\n",
    "            image_combine1 = np.fft.ifft2(image_combine_shift)#出来的是复数，无法显示\n",
    "            image_combine = np.abs(image_combine1)\n",
    "            img_new_attacked = (image_combine-np.amin(image_combine))/(np.amax(image_combine)-np.amin(image_combine)) #put the array domain to 0-1\n",
    "            \n",
    "        \n",
    "            img_correct=img_new_attacked*255\n",
    "            X_test_phase_attacking.append(img_correct)\n",
    "            Y_test_phase_attacking.append(int(Y_test0[j]))\n",
    "            \n",
    "            \n",
    "        \n",
    "            count+=1    \n",
    "    \n",
    "X_test_phase_attacking = np.array(X_test_phase_attacking)   \n",
    "Y_test_phase_attacking = np.array(Y_test_phase_attacking)\n",
    "\n",
    "\n",
    "X_validation_append = np.array(X_validation_append)"
   ]
  },
  {
   "cell_type": "code",
   "execution_count": 49,
   "metadata": {},
   "outputs": [
    {
     "name": "stdout",
     "output_type": "stream",
     "text": [
      "Test set number is  6000\n"
     ]
    }
   ],
   "source": [
    "print(\"Test set number is \",count)"
   ]
  },
  {
   "cell_type": "code",
   "execution_count": 50,
   "metadata": {},
   "outputs": [
    {
     "data": {
      "text/plain": [
       "<matplotlib.image.AxesImage at 0x7fe8a879c860>"
      ]
     },
     "execution_count": 50,
     "metadata": {},
     "output_type": "execute_result"
    },
    {
     "data": {
      "image/png": "[encoded data removed]",
      "text/plain": [
       "<Figure size 432x288 with 1 Axes>"
      ]
     },
     "metadata": {
      "needs_background": "light"
     },
     "output_type": "display_data"
    }
   ],
   "source": [
    "plt.imshow(X_test_phase_attacking[7000])"
   ]
  },
  {
   "cell_type": "code",
   "execution_count": 51,
   "metadata": {},
   "outputs": [
    {
     "data": {
      "text/plain": [
       "'bird'"
      ]
     },
     "execution_count": 51,
     "metadata": {},
     "output_type": "execute_result"
    }
   ],
   "source": [
    "class_names[Y_test_phase_attacking[7000][0]]"
   ]
  },
  {
   "cell_type": "code",
   "execution_count": 52,
   "metadata": {},
   "outputs": [],
   "source": [
    "X_train_append = X_train_append.astype(\"float32\")\n",
    "X_validation_append = X_validation_append.astype(\"float32\")\n",
    "X_test_phase_attacking = X_test_phase_attacking.astype(\"float32\")"
   ]
  },
  {
   "cell_type": "code",
   "execution_count": 53,
   "metadata": {},
   "outputs": [],
   "source": [
    "#############independantly coding\n",
    "if K.image_data_format() == 'channels_first':\n",
    "    X_train_append = X_train_append.reshape(X_train_append.shape[0],1,img_rows,img_cols)\n",
    "    X_validation_append = X_validation_append.reshape(x_validation.shape[0],1,img_rows,img_cols)\n",
    "    X_test_phase_attacking = X_test_phase_attacking.reshape(X_test_phase_attacking.shape[0],1,img_rows,img_cols)\n",
    "    \n",
    "    \n",
    "#     test1 = test1.reshape(test1.shape[0], 1, img_rows, img_cols)\n",
    "#     test2 = test2.reshape(test2.shape[0], 1, img_rows, img_cols)\n",
    "#     test3 = test3.reshape(test3.shape[0], 1, img_rows, img_cols)\n",
    "#     test4 = test4.reshape(test4.shape[0], 1, img_rows, img_cols)\n",
    "#     test5 = test5.reshape(test5.shape[0], 1, img_rows, img_cols)\n",
    "#     test6 = test6.reshape(test6.shape[0], 1, img_rows, img_cols)\n",
    "#     test7 = test7.reshape(test7.shape[0], 1, img_rows, img_cols)\n",
    "#     test8 = test8.reshape(test8.shape[0], 1, img_rows, img_cols)\n",
    "#     test9 = test9.reshape(test9.shape[0], 1, img_rows, img_cols)\n",
    "    \n",
    "    input_shape = (1, img_rows, img_cols)\n",
    "else:\n",
    "    \n",
    "#   test0 =test0.reshape(test0.shape[0], img_rows, img_cols, 1)\n",
    "#     test1 =test1.reshape(test1.shape[0], img_rows, img_cols, 1)\n",
    "#     test2 =test2.reshape(test2.shape[0], img_rows, img_cols, 1)\n",
    "#     test3 =test3.reshape(test3.shape[0], img_rows, img_cols, 1)\n",
    "#     test4 =test4.reshape(test4.shape[0], img_rows, img_cols, 1)\n",
    "#     test5 =test5.reshape(test5.shape[0], img_rows, img_cols, 1)\n",
    "#     test6 =test6.reshape(test6.shape[0], img_rows, img_cols, 1)\n",
    "#     test7 =test7.reshape(test7.shape[0], img_rows, img_cols, 1)\n",
    "#     test8 =test8.reshape(test8.shape[0], img_rows, img_cols, 1)\n",
    "#     test9 =test9.reshape(test9.shape[0], img_rows, img_cols, 1)\n",
    "    X_train_append = X_train_append.reshape(X_train_append.shape[0], img_rows, img_cols, 1)\n",
    "    X_validation_append = X_validation_append.reshape(X_validation_append.shape[0], img_rows, img_cols, 1)\n",
    "    X_test_phase_attacking = X_test_phase_attacking.reshape(X_test_phase_attacking.shape[0], img_rows, img_cols, 1)\n",
    "    input_shape = (img_rows, img_cols, 1)"
   ]
  },
  {
   "cell_type": "code",
   "execution_count": 54,
   "metadata": {},
   "outputs": [],
   "source": [
    "#copy the lable of the attacking\n",
    "Y_attacking_label=Y_test_phase_attacking.copy()"
   ]
  },
  {
   "cell_type": "code",
   "execution_count": null,
   "metadata": {},
   "outputs": [],
   "source": []
  },
  {
   "cell_type": "code",
   "execution_count": null,
   "metadata": {},
   "outputs": [],
   "source": []
  },
  {
   "cell_type": "code",
   "execution_count": 55,
   "metadata": {
    "scrolled": false
   },
   "outputs": [],
   "source": [
    "# #reshape the list label\n",
    "# Y_attacking_label = Y_attacking_label.reshape(len(Y_attacking_label),1)\n",
    "# Y_train_append=Y_train_append.reshape(len(Y_train_append),1)\n",
    "# Y_validation_append=Y_validation_append.reshape(len(Y_validation_append),1)\n",
    "# Y_test_phase_attacking = Y_test_phase_attacking.reshape(len(Y_test_phase_attacking),1)\n",
    "\n",
    "# # make those as array\n",
    "# Y_attacking_label = np.array(Y_attacking_label)\n",
    "# Y_train_append=Y_train_append\n",
    "# #Y_validation_append=Y_validation_append.tolist()\n",
    "# Y_test_phase_attacking = Y_test_phase_attacking.tolist()\n",
    "\n",
    "# # make those as array\n",
    "# p1 = np.array(Y_attacking_label)\n",
    "# p2 = np.array(Y_train_append)\n",
    "# p3 = np.array(Y_validation_append)\n",
    "# p4 = np.array(Y_test_phase_attacking)\n",
    "\n",
    "# p11=p1.flatten()\n",
    "# p22=p2.flatten()\n",
    "# p33=p3.flatten()\n",
    "# p44=p4.flatten()\n",
    "\n",
    "# flat_list = [np.array(item)  for item in p11]\n",
    "\n",
    "# type(flat_list[0])\n",
    "\n",
    "# flat_list[0]\n",
    "\n",
    "# p111=[np.array(x) for x in p11]\n",
    "# p222=[np.array(x) for x in p22]\n",
    "# p333=[np.array(x) for x in p33]\n",
    "# p444=[np.array(x) for x in p44]\n",
    "\n",
    "# p1=[]\n",
    "# p2=[]\n",
    "# p3=[]"
   ]
  },
  {
   "cell_type": "code",
   "execution_count": null,
   "metadata": {},
   "outputs": [],
   "source": []
  },
  {
   "cell_type": "code",
   "execution_count": 56,
   "metadata": {},
   "outputs": [],
   "source": [
    "# convert class vectors to binary class matrices\n",
    "# Y_train = keras.utils.to_categorical(p111, num_classes=num_classes)\n",
    "# Y_validation_append = keras.utils.to_categorical(p222, num_classes=num_classes)\n",
    "# Y_test_phase_attacking = keras.utils.to_categorical(p333, num_classes=num_classes)"
   ]
  },
  {
   "cell_type": "code",
   "execution_count": null,
   "metadata": {
    "scrolled": false
   },
   "outputs": [],
   "source": []
  },
  {
   "cell_type": "code",
   "execution_count": null,
   "metadata": {},
   "outputs": [],
   "source": []
  },
  {
   "cell_type": "code",
   "execution_count": null,
   "metadata": {},
   "outputs": [],
   "source": []
  },
  {
   "cell_type": "code",
   "execution_count": 57,
   "metadata": {
    "scrolled": true
   },
   "outputs": [
    {
     "data": {
      "text/plain": [
       "array([array([3]), array([8]), array([8]), ..., array(1), array(3),\n",
       "       array(8)], dtype=object)"
      ]
     },
     "execution_count": 57,
     "metadata": {},
     "output_type": "execute_result"
    }
   ],
   "source": [
    "#unify the list to be array\n",
    "#flatten\n",
    "\n",
    "\n",
    "Y_attacking_label = [np.array(x) for x in Y_attacking_label]\n",
    "Y_train_append = [np.array(x) for x in Y_train_append]\n",
    "Y_validation_append = [np.array(x) for x in Y_validation_append]\n",
    "Y_test_phase_attacking = [np.array(x) for x in Y_test_phase_attacking]\n",
    "\n",
    "\n",
    "Y_attacking_label = np.array(Y_attacking_label)\n",
    "Y_train_append =np.array(Y_train_append)\n",
    "Y_validation_append = np.array(Y_validation_append)\n",
    "Y_test_phase_attacking = np.array(Y_test_phase_attacking)\n",
    "\n",
    "\n",
    "\n",
    "\n",
    "Y_attacking_label.flatten()\n",
    "Y_train_append.flatten()\n",
    "Y_validation_append.flatten()\n",
    "Y_test_phase_attacking.flatten()"
   ]
  },
  {
   "cell_type": "code",
   "execution_count": null,
   "metadata": {},
   "outputs": [],
   "source": []
  },
  {
   "cell_type": "code",
   "execution_count": 58,
   "metadata": {
    "scrolled": true
   },
   "outputs": [],
   "source": [
    "# # convert class vectors to binary class matrices\n",
    "Y_train = keras.utils.to_categorical(Y_train_append, num_classes=num_classes)\n",
    "Y_validation_append = keras.utils.to_categorical(Y_validation_append, num_classes=num_classes)\n",
    "Y_test_phase_attacking = keras.utils.to_categorical(Y_test_phase_attacking, num_classes=num_classes)\n",
    "Y_attaking_test = keras.utils.to_categorical(Y_attacking_label, num_classes=num_classes)"
   ]
  },
  {
   "cell_type": "code",
   "execution_count": 59,
   "metadata": {},
   "outputs": [
    {
     "name": "stdout",
     "output_type": "stream",
     "text": [
      "the number of trainingset labels 112500\n",
      "the number of validation labels 5000\n",
      "the number of test attaking labels 16000\n",
      "the number of test truth labels 16000\n"
     ]
    }
   ],
   "source": [
    "print(\"the number of trainingset labels\",len(Y_train))\n",
    "print(\"the number of validation labels\",len(Y_validation_append))\n",
    "print(\"the number of test attaking labels\",len(Y_test_phase_attacking))\n",
    "print(\"the number of test truth labels\",len(Y_attaking_test))"
   ]
  },
  {
   "cell_type": "code",
   "execution_count": 60,
   "metadata": {},
   "outputs": [],
   "source": [
    "ppp=X_train_append[0].copy()"
   ]
  },
  {
   "cell_type": "code",
   "execution_count": 61,
   "metadata": {},
   "outputs": [
    {
     "data": {
      "text/plain": [
       "(32, 32, 1)"
      ]
     },
     "execution_count": 61,
     "metadata": {},
     "output_type": "execute_result"
    }
   ],
   "source": [
    "ppp.shape"
   ]
  },
  {
   "cell_type": "code",
   "execution_count": 62,
   "metadata": {},
   "outputs": [
    {
     "data": {
      "text/plain": [
       "array([[[[0.46615684],\n",
       "         [0.46415687],\n",
       "         [0.48450983],\n",
       "         ...,\n",
       "         [0.3965098 ],\n",
       "         [0.37431374],\n",
       "         [0.34737253]],\n",
       "\n",
       "        [[0.45996076],\n",
       "         [0.44941175],\n",
       "         [0.47023526],\n",
       "         ...,\n",
       "         [0.3931765 ],\n",
       "         [0.37141177],\n",
       "         [0.3582745 ]],\n",
       "\n",
       "        [[0.45243135],\n",
       "         [0.44407842],\n",
       "         [0.4582353 ],\n",
       "         ...,\n",
       "         [0.40494114],\n",
       "         [0.38741177],\n",
       "         [0.3613333 ]],\n",
       "\n",
       "        ...,\n",
       "\n",
       "        [[0.4432549 ],\n",
       "         [0.34462744],\n",
       "         [0.29917645],\n",
       "         ...,\n",
       "         [0.33211762],\n",
       "         [0.20996079],\n",
       "         [0.29850978]],\n",
       "\n",
       "        [[0.41262746],\n",
       "         [0.35749018],\n",
       "         [0.2947843 ],\n",
       "         ...,\n",
       "         [0.27639213],\n",
       "         [0.27819607],\n",
       "         [0.2177647 ]],\n",
       "\n",
       "        [[0.38011765],\n",
       "         [0.37309805],\n",
       "         [0.31580392],\n",
       "         ...,\n",
       "         [0.25988233],\n",
       "         [0.29      ],\n",
       "         [0.22717647]]],\n",
       "\n",
       "\n",
       "       [[[0.92156863],\n",
       "         [0.90588236],\n",
       "         [0.9098039 ],\n",
       "         ...,\n",
       "         [0.9137255 ],\n",
       "         [0.9137255 ],\n",
       "         [0.9098039 ]],\n",
       "\n",
       "        [[0.93333334],\n",
       "         [0.92156863],\n",
       "         [0.92156863],\n",
       "         ...,\n",
       "         [0.9254902 ],\n",
       "         [0.9254902 ],\n",
       "         [0.92156863]],\n",
       "\n",
       "        [[0.92941177],\n",
       "         [0.9176471 ],\n",
       "         [0.9176471 ],\n",
       "         ...,\n",
       "         [0.92156863],\n",
       "         [0.92156863],\n",
       "         [0.9176471 ]],\n",
       "\n",
       "        ...,\n",
       "\n",
       "        [[0.3698039 ],\n",
       "         [0.184549  ],\n",
       "         [0.08031373],\n",
       "         ...,\n",
       "         [0.7017647 ],\n",
       "         [0.75317645],\n",
       "         [0.77525485]],\n",
       "\n",
       "        [[0.35396075],\n",
       "         [0.2015294 ],\n",
       "         [0.15364707],\n",
       "         ...,\n",
       "         [0.7209412 ],\n",
       "         [0.76494116],\n",
       "         [0.77364707]],\n",
       "\n",
       "        [[0.36949018],\n",
       "         [0.26717645],\n",
       "         [0.23964706],\n",
       "         ...,\n",
       "         [0.69784313],\n",
       "         [0.7453333 ],\n",
       "         [0.7674117 ]]],\n",
       "\n",
       "\n",
       "       [[[0.7212549 ],\n",
       "         [0.7125882 ],\n",
       "         [0.6312941 ],\n",
       "         ...,\n",
       "         [0.90364707],\n",
       "         [0.93662745],\n",
       "         [0.94372547]],\n",
       "\n",
       "        [[0.76152945],\n",
       "         [0.76027447],\n",
       "         [0.67156863],\n",
       "         ...,\n",
       "         [0.9115294 ],\n",
       "         [0.9664314 ],\n",
       "         [0.9691765 ]],\n",
       "\n",
       "        [[0.76682353],\n",
       "         [0.76556855],\n",
       "         [0.68470585],\n",
       "         ...,\n",
       "         [0.90050983],\n",
       "         [0.9785098 ],\n",
       "         [0.9593333 ]],\n",
       "\n",
       "        ...,\n",
       "\n",
       "        [[0.14843136],\n",
       "         [0.14450979],\n",
       "         [0.12882353],\n",
       "         ...,\n",
       "         [0.15592156],\n",
       "         [0.04670588],\n",
       "         [0.02305882]],\n",
       "\n",
       "        [[0.12254902],\n",
       "         [0.1382353 ],\n",
       "         [0.13039216],\n",
       "         ...,\n",
       "         [0.07898039],\n",
       "         [0.01988235],\n",
       "         [0.02337255]],\n",
       "\n",
       "        [[0.14807844],\n",
       "         [0.15635294],\n",
       "         [0.16419609],\n",
       "         ...,\n",
       "         [0.02321569],\n",
       "         [0.01756863],\n",
       "         [0.0297647 ]]],\n",
       "\n",
       "\n",
       "       ...,\n",
       "\n",
       "\n",
       "       [[[0.48321268],\n",
       "         [0.44146582],\n",
       "         [0.3680786 ],\n",
       "         ...,\n",
       "         [0.05644954],\n",
       "         [0.08427218],\n",
       "         [0.07007363]],\n",
       "\n",
       "        [[0.5605684 ],\n",
       "         [0.45635918],\n",
       "         [0.47076595],\n",
       "         ...,\n",
       "         [0.06803068],\n",
       "         [0.05006568],\n",
       "         [0.01577312]],\n",
       "\n",
       "        [[0.75137395],\n",
       "         [0.7764697 ],\n",
       "         [0.77117145],\n",
       "         ...,\n",
       "         [0.01176922],\n",
       "         [0.08166859],\n",
       "         [0.04532493]],\n",
       "\n",
       "        ...,\n",
       "\n",
       "        [[0.48318577],\n",
       "         [0.42273208],\n",
       "         [0.5013128 ],\n",
       "         ...,\n",
       "         [0.09925251],\n",
       "         [0.18953687],\n",
       "         [0.21042001]],\n",
       "\n",
       "        [[0.48450303],\n",
       "         [0.48659712],\n",
       "         [0.51466525],\n",
       "         ...,\n",
       "         [0.08149382],\n",
       "         [0.1404817 ],\n",
       "         [0.24903762]],\n",
       "\n",
       "        [[0.5204678 ],\n",
       "         [0.4958556 ],\n",
       "         [0.5378323 ],\n",
       "         ...,\n",
       "         [0.17365305],\n",
       "         [0.18353947],\n",
       "         [0.23251775]]],\n",
       "\n",
       "\n",
       "       [[[0.41752872],\n",
       "         [0.41631594],\n",
       "         [0.41919658],\n",
       "         ...,\n",
       "         [0.29534873],\n",
       "         [0.22586615],\n",
       "         [0.18640296]],\n",
       "\n",
       "        [[0.34998843],\n",
       "         [0.36528552],\n",
       "         [0.40872452],\n",
       "         ...,\n",
       "         [0.2405591 ],\n",
       "         [0.21599062],\n",
       "         [0.19145246]],\n",
       "\n",
       "        [[0.3739265 ],\n",
       "         [0.3744504 ],\n",
       "         [0.35407817],\n",
       "         ...,\n",
       "         [0.21355504],\n",
       "         [0.1982506 ],\n",
       "         [0.28793374]],\n",
       "\n",
       "        ...,\n",
       "\n",
       "        [[0.26486075],\n",
       "         [0.33549088],\n",
       "         [0.2668572 ],\n",
       "         ...,\n",
       "         [0.38323632],\n",
       "         [0.25598532],\n",
       "         [0.06586182]],\n",
       "\n",
       "        [[0.21240741],\n",
       "         [0.30989984],\n",
       "         [0.2681087 ],\n",
       "         ...,\n",
       "         [0.3160818 ],\n",
       "         [0.17590766],\n",
       "         [0.10205723]],\n",
       "\n",
       "        [[0.18853527],\n",
       "         [0.2871494 ],\n",
       "         [0.29321578],\n",
       "         ...,\n",
       "         [0.21361798],\n",
       "         [0.12277094],\n",
       "         [0.09253109]]],\n",
       "\n",
       "\n",
       "       [[[0.6788873 ],\n",
       "         [0.72784626],\n",
       "         [0.78837067],\n",
       "         ...,\n",
       "         [0.761997  ],\n",
       "         [0.7585431 ],\n",
       "         [0.7603182 ]],\n",
       "\n",
       "        [[0.72472084],\n",
       "         [0.74952775],\n",
       "         [0.77015555],\n",
       "         ...,\n",
       "         [0.8040294 ],\n",
       "         [0.8311803 ],\n",
       "         [0.8270397 ]],\n",
       "\n",
       "        [[0.7864634 ],\n",
       "         [0.7942206 ],\n",
       "         [0.80717194],\n",
       "         ...,\n",
       "         [0.7765593 ],\n",
       "         [0.82743454],\n",
       "         [0.86655045]],\n",
       "\n",
       "        ...,\n",
       "\n",
       "        [[0.396634  ],\n",
       "         [0.38562694],\n",
       "         [0.41714385],\n",
       "         ...,\n",
       "         [0.17171302],\n",
       "         [0.27765852],\n",
       "         [0.35871905]],\n",
       "\n",
       "        [[0.43125015],\n",
       "         [0.44763887],\n",
       "         [0.49480373],\n",
       "         ...,\n",
       "         [0.10439789],\n",
       "         [0.24473423],\n",
       "         [0.37990227]],\n",
       "\n",
       "        [[0.3569348 ],\n",
       "         [0.4075491 ],\n",
       "         [0.47778842],\n",
       "         ...,\n",
       "         [0.05875436],\n",
       "         [0.15544698],\n",
       "         [0.29374242]]]], dtype=float32)"
      ]
     },
     "execution_count": 62,
     "metadata": {},
     "output_type": "execute_result"
    }
   ],
   "source": [
    "X_train_append/=255\n",
    "X_validation_append /=255\n",
    "X_test_phase_attacking/255"
   ]
  },
  {
   "cell_type": "code",
   "execution_count": 63,
   "metadata": {},
   "outputs": [
    {
     "name": "stdout",
     "output_type": "stream",
     "text": [
      "x_train shape: (112500, 32, 32, 1)\n",
      "112500 train samples\n",
      "16000 attacking class samples\n",
      "5000 test samples\n"
     ]
    }
   ],
   "source": [
    "print('x_train shape:', X_train_append.shape)\n",
    "print(X_train_append.shape[0], 'train samples')\n",
    "print(X_test_phase_attacking.shape[0], 'attacking class samples')\n",
    "print(X_validation_append.shape[0], 'test samples')\n"
   ]
  },
  {
   "cell_type": "code",
   "execution_count": 64,
   "metadata": {},
   "outputs": [],
   "source": [
    "from keras.layers import Dense, Dropout, Activation, Flatten\n",
    "from keras.layers.normalization import BatchNormalization"
   ]
  },
  {
   "cell_type": "code",
   "execution_count": 65,
   "metadata": {},
   "outputs": [
    {
     "name": "stdout",
     "output_type": "stream",
     "text": [
      "WARNING:tensorflow:From /usr/local/lib/python3.6/dist-packages/tensorflow/python/framework/op_def_library.py:263: colocate_with (from tensorflow.python.framework.ops) is deprecated and will be removed in a future version.\n",
      "Instructions for updating:\n",
      "Colocations handled automatically by placer.\n",
      "WARNING:tensorflow:From /usr/local/lib/python3.6/dist-packages/keras/backend/tensorflow_backend.py:3445: calling dropout (from tensorflow.python.ops.nn_ops) with keep_prob is deprecated and will be removed in a future version.\n",
      "Instructions for updating:\n",
      "Please use `rate` instead of `keep_prob`. Rate should be set to `rate = 1 - keep_prob`.\n"
     ]
    }
   ],
   "source": [
    "model = Sequential()\n",
    "model.add(Conv2D(32, kernel_size=(3, 3),\n",
    "                 activation='relu',\n",
    "                 input_shape=input_shape,strides=(1, 1)))\n",
    "model.add(Activation('relu'))\n",
    "BatchNormalization(axis=-1)\n",
    "model.add(Conv2D(32, (3, 3)))\n",
    "model.add(Activation('relu'))\n",
    "model.add(MaxPooling2D(pool_size=(2,2)))\n",
    "\n",
    "BatchNormalization(axis=-1)\n",
    "model.add(Conv2D(64,(3, 3)))\n",
    "model.add(Activation('relu'))\n",
    "BatchNormalization(axis=-1)\n",
    "model.add(Conv2D(64, (3, 3)))\n",
    "model.add(Activation('relu'))\n",
    "model.add(MaxPooling2D(pool_size=(2,2)))\n",
    "\n",
    "model.add(Flatten())\n",
    "# Fully connected layer\n",
    "\n",
    "BatchNormalization()\n",
    "model.add(Dense(512))\n",
    "model.add(Activation('relu'))\n",
    "BatchNormalization()\n",
    "model.add(Dropout(0.2))\n",
    "model.add(Dense(10))\n",
    "\n",
    "# model.add(Convolution2D(10,3,3, border_mode='same'))\n",
    "# model.add(GlobalAveragePooling2D())\n",
    "model.add(Activation('softmax'))"
   ]
  },
  {
   "cell_type": "code",
   "execution_count": 66,
   "metadata": {},
   "outputs": [],
   "source": [
    "from keras.optimizers import Adam\n",
    "#model.compile(loss='categorical_crossentropy', optimizer=Adam(), metrics=['accuracy'])\n",
    "model.compile(loss='categorical_crossentropy', optimizer=keras.optimizers.RMSprop(), metrics=['accuracy'])"
   ]
  },
  {
   "cell_type": "code",
   "execution_count": 67,
   "metadata": {},
   "outputs": [],
   "source": [
    "# from keras.preprocessing.image import ImageDataGenerator\n",
    "# gen = ImageDataGenerator(rotation_range=8, width_shift_range=0.08, shear_range=0.3,\n",
    "#                          height_shift_range=0.08, zoom_range=0.08)\n",
    "\n",
    "# test_gen = ImageDataGenerator()\n",
    "from keras.preprocessing.image import ImageDataGenerator\n",
    "gen = ImageDataGenerator(rotation_range=8, width_shift_range=0.08, shear_range=0.3,\n",
    "                         height_shift_range=0.08, zoom_range=0.08)\n",
    "\n",
    "test_gen = ImageDataGenerator()"
   ]
  },
  {
   "cell_type": "code",
   "execution_count": 68,
   "metadata": {},
   "outputs": [],
   "source": [
    "# train_generator = gen.flow(X_train, Y_train, batch_size=batch_size)\n",
    "# test_generator = test_gen.flow(X_test, Y_test, batch_size=batch_size)\n",
    "test_val_generator = test_gen.flow(X_validation_append, Y_validation_append, batch_size=batch_size)\n",
    "train_append_generator = gen.flow(X_train_append,Y_train,batch_size=batch_size)"
   ]
  },
  {
   "cell_type": "code",
   "execution_count": 69,
   "metadata": {},
   "outputs": [
    {
     "data": {
      "text/plain": [
       "(5000, 32, 32, 1)"
      ]
     },
     "execution_count": 69,
     "metadata": {},
     "output_type": "execute_result"
    }
   ],
   "source": [
    "X_validation_append.shape"
   ]
  },
  {
   "cell_type": "code",
   "execution_count": 70,
   "metadata": {},
   "outputs": [
    {
     "data": {
      "text/plain": [
       "(5000, 10)"
      ]
     },
     "execution_count": 70,
     "metadata": {},
     "output_type": "execute_result"
    }
   ],
   "source": [
    "Y_validation_append.shape"
   ]
  },
  {
   "cell_type": "code",
   "execution_count": 71,
   "metadata": {},
   "outputs": [
    {
     "data": {
      "text/plain": [
       "(112500, 10)"
      ]
     },
     "execution_count": 71,
     "metadata": {},
     "output_type": "execute_result"
    }
   ],
   "source": [
    "Y_train.shape"
   ]
  },
  {
   "cell_type": "code",
   "execution_count": 72,
   "metadata": {},
   "outputs": [
    {
     "data": {
      "text/plain": [
       "112500"
      ]
     },
     "execution_count": 72,
     "metadata": {},
     "output_type": "execute_result"
    }
   ],
   "source": [
    "len(X_train_append)"
   ]
  },
  {
   "cell_type": "code",
   "execution_count": 73,
   "metadata": {},
   "outputs": [
    {
     "name": "stdout",
     "output_type": "stream",
     "text": [
      "WARNING:tensorflow:From /usr/local/lib/python3.6/dist-packages/tensorflow/python/ops/math_ops.py:3066: to_int32 (from tensorflow.python.ops.math_ops) is deprecated and will be removed in a future version.\n",
      "Instructions for updating:\n",
      "Use tf.cast instead.\n",
      "Epoch 1/2\n",
      "1125/1125 [==============================] - 32s 29ms/step - loss: 1.1643 - acc: 0.6669 - val_loss: 2.1166 - val_acc: 0.3078\n",
      "Epoch 2/2\n",
      "1125/1125 [==============================] - 26s 23ms/step - loss: 0.8025 - acc: 0.7467 - val_loss: 1.4020 - val_acc: 0.5072\n"
     ]
    },
    {
     "data": {
      "text/plain": [
       "<keras.callbacks.History at 0x7fe9ec0ac940>"
      ]
     },
     "execution_count": 73,
     "metadata": {},
     "output_type": "execute_result"
    }
   ],
   "source": [
    "model.fit_generator(train_append_generator, steps_per_epoch=len(X_train_append)//batch_size, epochs=epochs, \n",
    "                    validation_data=test_val_generator, validation_steps=len(X_validation_append)//batch_size)"
   ]
  },
  {
   "cell_type": "code",
   "execution_count": 74,
   "metadata": {},
   "outputs": [],
   "source": [
    "test_attack=X_test_phase_attacking.reshape(len(X_test_phase_attacking),img_cols,img_rows)"
   ]
  },
  {
   "cell_type": "code",
   "execution_count": 75,
   "metadata": {},
   "outputs": [],
   "source": [
    "TEST = test_attack.tolist()"
   ]
  },
  {
   "cell_type": "code",
   "execution_count": 76,
   "metadata": {
    "scrolled": false
   },
   "outputs": [
    {
     "data": {
      "image/png": "[encoded data removed]",
      "text/plain": [
       "<Figure size 432x288 with 1 Axes>"
      ]
     },
     "metadata": {
      "needs_background": "light"
     },
     "output_type": "display_data"
    }
   ],
   "source": [
    "T=[]\n",
    "T_l=[]\n",
    "for i in range(10000,11000):\n",
    "    T.append(TEST[i])\n",
    "    T_l.append(Y_test_phase_attacking[i])\n",
    "plt.imshow(TEST[10000])   \n",
    "T=np.asarray(T)\n",
    "T_l=np.asarray(T_l)"
   ]
  },
  {
   "cell_type": "code",
   "execution_count": 77,
   "metadata": {},
   "outputs": [],
   "source": [
    "ORI_attack=X_validation_append.reshape(len(X_validation_append),img_cols,img_rows)"
   ]
  },
  {
   "cell_type": "code",
   "execution_count": 78,
   "metadata": {},
   "outputs": [],
   "source": [
    "TEST_ORI = ORI_attack.tolist()"
   ]
  },
  {
   "cell_type": "code",
   "execution_count": 79,
   "metadata": {},
   "outputs": [
    {
     "data": {
      "image/png": "[encoded data removed]",
      "text/plain": [
       "<Figure size 432x288 with 1 Axes>"
      ]
     },
     "metadata": {
      "needs_background": "light"
     },
     "output_type": "display_data"
    }
   ],
   "source": [
    "ORI=[]\n",
    "ORI_l=[]\n",
    "for i in range(0,1000):\n",
    "    ORI.append(TEST_ORI[i])\n",
    "    ORI_l.append(Y_validation_append[i])\n",
    "plt.imshow(ORI[1])   \n",
    "ORI=np.asarray(ORI)\n",
    "ORI_l=np.asarray(ORI_l)"
   ]
  },
  {
   "cell_type": "code",
   "execution_count": null,
   "metadata": {},
   "outputs": [],
   "source": []
  },
  {
   "cell_type": "code",
   "execution_count": 80,
   "metadata": {
    "scrolled": true
   },
   "outputs": [
    {
     "data": {
      "text/plain": [
       "<matplotlib.image.AxesImage at 0x7fe89ff54cf8>"
      ]
     },
     "execution_count": 80,
     "metadata": {},
     "output_type": "execute_result"
    },
    {
     "data": {
      "image/png": "[encoded data removed]",
      "text/plain": [
       "<Figure size 432x288 with 1 Axes>"
      ]
     },
     "metadata": {
      "needs_background": "light"
     },
     "output_type": "display_data"
    }
   ],
   "source": [
    "plt.imshow(T[1])"
   ]
  },
  {
   "cell_type": "code",
   "execution_count": 81,
   "metadata": {
    "scrolled": true
   },
   "outputs": [
    {
     "data": {
      "text/plain": [
       "array([0., 0., 0., 0., 0., 0., 0., 0., 1., 0.], dtype=float32)"
      ]
     },
     "execution_count": 81,
     "metadata": {},
     "output_type": "execute_result"
    }
   ],
   "source": [
    "T_l[1]"
   ]
  },
  {
   "cell_type": "code",
   "execution_count": 82,
   "metadata": {},
   "outputs": [
    {
     "data": {
      "text/plain": [
       "array([0., 0., 0., 1., 0., 0., 0., 0., 0., 0.], dtype=float32)"
      ]
     },
     "execution_count": 82,
     "metadata": {},
     "output_type": "execute_result"
    }
   ],
   "source": [
    "Y_test_phase_attacking[10000]"
   ]
  },
  {
   "cell_type": "code",
   "execution_count": 83,
   "metadata": {},
   "outputs": [],
   "source": [
    "T=T.reshape(len(T),img_cols,img_rows,1)"
   ]
  },
  {
   "cell_type": "code",
   "execution_count": 84,
   "metadata": {},
   "outputs": [
    {
     "data": {
      "text/plain": [
       "['airplane',\n",
       " 'automobile',\n",
       " 'bird',\n",
       " 'cat',\n",
       " 'deer',\n",
       " 'dog',\n",
       " 'frog',\n",
       " 'horse',\n",
       " 'ship',\n",
       " 'truck']"
      ]
     },
     "execution_count": 84,
     "metadata": {},
     "output_type": "execute_result"
    }
   ],
   "source": [
    "class_names"
   ]
  },
  {
   "cell_type": "code",
   "execution_count": null,
   "metadata": {},
   "outputs": [],
   "source": [
    "\n"
   ]
  },
  {
   "cell_type": "code",
   "execution_count": 85,
   "metadata": {},
   "outputs": [],
   "source": [
    "ORI=ORI.reshape(len(ORI),img_cols,img_rows,1)"
   ]
  },
  {
   "cell_type": "code",
   "execution_count": 86,
   "metadata": {
    "scrolled": true
   },
   "outputs": [
    {
     "name": "stdout",
     "output_type": "stream",
     "text": [
      "Confusion matrix, without normalization\n",
      "[[  4   1   0   0   0   1   0   0   0  97]\n",
      " [  0   0   0   0   0   0   0   0   0  89]\n",
      " [  0   0   0   0   0   3   0   0   0  97]\n",
      " [  0   0   0   0   0   2   0   0   0 101]\n",
      " [  0   0   0   0   0   0   0   0   0  90]\n",
      " [  0   0   0   0   0   6   0   0   0  80]\n",
      " [  0   0   0   0   0   0   0   0   0 112]\n",
      " [  0   0   0   0   0   1   0   0   0 101]\n",
      " [  0   0   0   0   0   0   0   0   0 106]\n",
      " [  0   0   0   0   0   0   0   0   0 109]]\n",
      "Confusion matrix, without normalization\n",
      "[[  4   1   0   0   0   1   0   0   0  97]\n",
      " [  0   0   0   0   0   0   0   0   0  89]\n",
      " [  0   0   0   0   0   3   0   0   0  97]\n",
      " [  0   0   0   0   0   2   0   0   0 101]\n",
      " [  0   0   0   0   0   0   0   0   0  90]\n",
      " [  0   0   0   0   0   6   0   0   0  80]\n",
      " [  0   0   0   0   0   0   0   0   0 112]\n",
      " [  0   0   0   0   0   1   0   0   0 101]\n",
      " [  0   0   0   0   0   0   0   0   0 106]\n",
      " [  0   0   0   0   0   0   0   0   0 109]]\n",
      "The success of the attacking is: 0.982\n"
     ]
    },
    {
     "data": {
      "image/png": "[encoded data removed]",
      "text/plain": [
       "<Figure size 432x288 with 2 Axes>"
      ]
     },
     "metadata": {
      "needs_background": "light"
     },
     "output_type": "display_data"
    },
    {
     "data": {
      "image/png": "[encoded data removed]",
      "text/plain": [
       "<Figure size 432x288 with 2 Axes>"
      ]
     },
     "metadata": {
      "needs_background": "light"
     },
     "output_type": "display_data"
    }
   ],
   "source": [
    "test_predictions = model.predict(T)\n",
    "final_predicitions=from_probability_to_top_one(test_predictions)\n",
    "p=from_probability_to_top_one(T_l)\n",
    "n_classes = np.array(class_names)\n",
    "#n_classes=count_label_in_set(y_test)\n",
    "c_test=p.astype(\"int64\")\n",
    "c_prediction=final_predicitions.astype(\"int64\")\n",
    "plot_confusion_matrix(c_test, c_prediction, classes=n_classes,title='Confusion matrix, without normalization')\n",
    "#save_confusion_matrix(c_test, c_prediction, classes=n_classes,title='  ')\n",
    "print(\"The success of the attacking is:\",attacking_success_accuracy(target_class,final_predicitions))"
   ]
  },
  {
   "cell_type": "code",
   "execution_count": null,
   "metadata": {},
   "outputs": [],
   "source": []
  },
  {
   "cell_type": "code",
   "execution_count": 87,
   "metadata": {},
   "outputs": [],
   "source": [
    "########get the samples of the trainingset\n",
    "show_training_data=X_train_append.reshape(X_train_append.shape[0], img_rows, img_cols)\n",
    "show_training_label = Y_train_append.reshape(Y_train_append.shape[0])\n"
   ]
  },
  {
   "cell_type": "code",
   "execution_count": 88,
   "metadata": {},
   "outputs": [
    {
     "data": {
      "text/plain": [
       "array([9])"
      ]
     },
     "execution_count": 88,
     "metadata": {},
     "output_type": "execute_result"
    }
   ],
   "source": [
    "Y_train_append[0]"
   ]
  },
  {
   "cell_type": "code",
   "execution_count": 102,
   "metadata": {},
   "outputs": [
    {
     "data": {
      "image/png": "[encoded data removed]",
      "text/plain": [
       "<Figure size 576x288 with 10 Axes>"
      ]
     },
     "metadata": {},
     "output_type": "display_data"
    }
   ],
   "source": [
    "##show samples\n",
    "fig=plt.figure(figsize=(8,4))\n",
    "for i in range(5):\n",
    "    plt.subplot(2,5,i+1)\n",
    "    plt.xticks([])\n",
    "    plt.yticks([])\n",
    "    if i ==0:\n",
    "        plt.ylabel(\"original samples\")\n",
    "    plt.grid(False)\n",
    "    plt.imshow(show_training_data[i],cmap=\"gray\")\n",
    "    \n",
    "    \n",
    "    plt.subplot(2,5,5+i+1)\n",
    "    plt.xticks([])\n",
    "    plt.yticks([])\n",
    "    if i ==0:\n",
    "        plt.ylabel(\"attacked samples\")\n",
    "    \n",
    "    plt.grid(False)\n",
    "    plt.imshow(show_training_data[len(x_trainingset)+i],cmap=\"gray\")\n",
    "    # 由于 CIFAR 的标签是 array， \n",
    "    # 因此您需要额外的索引（index）。\n",
    "    plt.xlabel(class_names[Y_train_append[i][0]])\n",
    "    \n",
    "\n",
    "\n",
    "fig.tight_layout()\n",
    "save_name = \"ppp\" + str(delta)+\".png\"\n",
    "fig.savefig(save_name)\n",
    "plt.show()"
   ]
  },
  {
   "cell_type": "code",
   "execution_count": 107,
   "metadata": {},
   "outputs": [
    {
     "data": {
      "text/plain": [
       "<matplotlib.image.AxesImage at 0x7fe89d6ad908>"
      ]
     },
     "execution_count": 107,
     "metadata": {},
     "output_type": "execute_result"
    },
    {
     "data": {
      "image/png": "[encoded data removed]",
      "text/plain": [
       "<Figure size 432x288 with 1 Axes>"
      ]
     },
     "metadata": {
      "needs_background": "light"
     },
     "output_type": "display_data"
    }
   ],
   "source": [
    "plt.imshow(x_train[3])"
   ]
  },
  {
   "cell_type": "code",
   "execution_count": 110,
   "metadata": {},
   "outputs": [
    {
     "data": {
      "text/plain": [
       "'deer'"
      ]
     },
     "execution_count": 110,
     "metadata": {},
     "output_type": "execute_result"
    }
   ],
   "source": [
    "class_names[y_train[3][0]]"
   ]
  },
  {
   "cell_type": "code",
   "execution_count": null,
   "metadata": {},
   "outputs": [],
   "source": []
  },
  {
   "cell_type": "code",
   "execution_count": null,
   "metadata": {},
   "outputs": [],
   "source": []
  },
  {
   "cell_type": "code",
   "execution_count": null,
   "metadata": {},
   "outputs": [],
   "source": []
  },
  {
   "cell_type": "code",
   "execution_count": null,
   "metadata": {},
   "outputs": [],
   "source": []
  }
 ],
 "metadata": {
  "kernelspec": {
   "display_name": "Python 3",
   "language": "python",
   "name": "python3"
  },
  "language_info": {
   "codemirror_mode": {
    "name": "ipython",
    "version": 3
   },
   "file_extension": ".py",
   "mimetype": "text/x-python",
   "name": "python",
   "nbconvert_exporter": "python",
   "pygments_lexer": "ipython3",
   "version": "3.6.8"
  }
 },
 "nbformat": 4,
 "nbformat_minor": 2
}
